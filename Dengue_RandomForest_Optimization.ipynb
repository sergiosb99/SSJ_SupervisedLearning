{
  "nbformat": 4,
  "nbformat_minor": 0,
  "metadata": {
    "colab": {
      "name": "Dengue_RandomForest_Optimization.ipynb",
      "provenance": [],
      "collapsed_sections": []
    },
    "kernelspec": {
      "name": "python3",
      "display_name": "Python 3"
    }
  },
  "cells": [
    {
      "cell_type": "markdown",
      "metadata": {
        "id": "Ti5Wnz3cgkRD"
      },
      "source": [
        "# 0. Introduction\n",
        "\n",
        "We are going to use the data that we have been provided to study and try to predict the evolution of Dengue disease in the cities of **San Jose**, *Puerto Rico*, and **Iquitos**, *Peru*. More information in this [link](https://www.drivendata.org/competitions/44/dengai-predicting-disease-spread/).\n",
        "\n",
        "In this notebook, the Random Forest algorithm studied in the baseline will be optimized, with the aim of finding the best parameterization of this algorithm, with the aim of continuing to search for better models.\n",
        "\n",
        "\n"
      ]
    },
    {
      "cell_type": "markdown",
      "metadata": {
        "id": "Yo0x5dyH5b4N"
      },
      "source": [
        "# 1. Libraries\r\n",
        "\r\n",
        "Before starting any analysis we must ensure that the basic and general use libraries *(numpy, pandas, etc.)* are correctly imported. "
      ]
    },
    {
      "cell_type": "code",
      "metadata": {
        "id": "QcqAjsMIKluO"
      },
      "source": [
        "# Preprocessing\n",
        "from sklearn import preprocessing\n",
        "\n",
        "# Loading the data\n",
        "import pandas as pd\n",
        "import io\n",
        "from google.colab import files\n",
        "\n",
        "# Graphics display\n",
        "import seaborn as sns\n",
        "import matplotlib.pyplot as plt\n",
        "\n",
        "# Estimator and model selection\n",
        "from sklearn.model_selection import train_test_split, GridSearchCV, RandomizedSearchCV\n",
        "from sklearn.ensemble import RandomForestRegressor\n",
        "\n",
        "# Others\n",
        "import numpy as np    \n",
        "from sklearn.metrics import mean_absolute_error "
      ],
      "execution_count": 1,
      "outputs": []
    },
    {
      "cell_type": "markdown",
      "metadata": {
        "id": "fvxDPxPhheSW"
      },
      "source": [
        "# 2. Loading the data\r\n",
        "\r\n",
        "The first step is to upload all the CSV files that have been provided to us and that thanks to them we will obtain the data with which we are going to work. To do this, we will use the tools that Google Colab offers us when uploading files."
      ]
    },
    {
      "cell_type": "markdown",
      "metadata": {
        "id": "dZSaoCMRAq8m"
      },
      "source": [
        "## Preprocessing the data\n",
        "\n",
        "We transform the data in order to allow us the posterior use of the algorithms to build prediction models, for example, missing values, from categories to numbers, etc."
      ]
    },
    {
      "cell_type": "code",
      "metadata": {
        "id": "zr57uSH3SO82"
      },
      "source": [
        "# Make function to preprocess data\r\n",
        "def preprocess_data(data_path, labels_path=None):\r\n",
        "    # Load data and set index to city, year, weekofyear\r\n",
        "    df = pd.read_csv(data_path)\r\n",
        "    # Fill missing values\r\n",
        "    df.fillna(df.mean(), inplace=True)\r\n",
        "    lb = preprocessing.LabelBinarizer()\r\n",
        "    \r\n",
        "    if labels_path:\r\n",
        "        labels = pd.read_csv(labels_path)\r\n",
        "        \r\n",
        "        labels['city'] = lb.fit_transform(labels['city'])\r\n",
        "    \r\n",
        "    df['city'] =  lb.fit_transform(df['city'])\r\n",
        "\r\n",
        "    selected_features = ['reanalysis_specific_humidity_g_per_kg', 'reanalysis_dew_point_temp_k', \r\n",
        "                 'station_avg_temp_c', 'station_min_temp_c']\r\n",
        "    df = df[selected_features]\r\n",
        "\r\n",
        "    if labels_path:\r\n",
        "        return df, labels\r\n",
        "    return df"
      ],
      "execution_count": 2,
      "outputs": []
    },
    {
      "cell_type": "markdown",
      "metadata": {
        "id": "Lle9Q95EHDog"
      },
      "source": [
        "We execute the newly compiled method, which will allow us to load and preprocess our data."
      ]
    },
    {
      "cell_type": "code",
      "metadata": {
        "id": "lN74ew6GSShd"
      },
      "source": [
        "df_features, df_labels = preprocess_data('dengue_features_train.csv', labels_path=\"dengue_labels_train.csv\")"
      ],
      "execution_count": 3,
      "outputs": []
    },
    {
      "cell_type": "markdown",
      "metadata": {
        "id": "xC3XXbOoHF_I"
      },
      "source": [
        "Finally, we also load the file with which we will carry out the final prediction, once our model is trained."
      ]
    },
    {
      "cell_type": "code",
      "metadata": {
        "id": "YUrvIsptSU7d"
      },
      "source": [
        "df_test_final = preprocess_data(\"dengue_features_test.csv\")"
      ],
      "execution_count": 4,
      "outputs": []
    },
    {
      "cell_type": "markdown",
      "metadata": {
        "id": "CedFqCvJA88K"
      },
      "source": [
        "# 3. Detaching the dataset\r\n",
        "\r\n",
        "To train the models that we make, it is necessary to separate our training dataset into two parts, one precisely to train the model, and another to check if our models are good."
      ]
    },
    {
      "cell_type": "code",
      "metadata": {
        "id": "eQjikOIh6qUI"
      },
      "source": [
        "X_train, X_test, y_train, y_test = train_test_split(df_features, df_labels['total_cases'], test_size=0.2, random_state=1)"
      ],
      "execution_count": 5,
      "outputs": []
    },
    {
      "cell_type": "markdown",
      "metadata": {
        "id": "M-rFR08X-_g9"
      },
      "source": [
        "# 4. Hyperparameter optimization\r\n",
        "\r\n",
        "Previously, in the baseline, we have created models with simple optimization. That is, we have only created models with a combination of parameters. However, now, thanks to the *GridSearchCV* and *RandomizedSearchCV* functions, we will be able to combine different values for the parameters of the estimators, so that it returns us the best possible model.\r\n",
        "\r\n",
        "The estimator with which we are going to work in the optimization is the following."
      ]
    },
    {
      "cell_type": "code",
      "metadata": {
        "id": "mZXK-tu0B-C_"
      },
      "source": [
        "est = RandomForestRegressor()"
      ],
      "execution_count": 6,
      "outputs": []
    },
    {
      "cell_type": "markdown",
      "metadata": {
        "id": "4wspPeaJBKn6"
      },
      "source": [
        "## Grid Search\r\n",
        "\r\n",
        "Grind Search generates candidates from a grid of parameter values specified with the param_grid parameter."
      ]
    },
    {
      "cell_type": "code",
      "metadata": {
        "colab": {
          "base_uri": "https://localhost:8080/"
        },
        "id": "QPNp8yW-BKEr",
        "outputId": "405f03f2-6a39-43c0-8d5a-a756be9d5728"
      },
      "source": [
        "# We declare the variables to be hyperparameterized\r\n",
        "param = [{'n_estimators': [50,100,150,200,250,300,450,500,550,600,650,700,750],\r\n",
        "               'max_depth': [2,4,6,8,10,12,14,16,18]}]\r\n",
        "\r\n",
        "# Initialize the grid search\r\n",
        "grid = GridSearchCV(estimator = est, param_grid = param, cv = 5)\r\n",
        "\r\n",
        "# Train our model\r\n",
        "grid.fit(X_train,y_train)\r\n",
        "\r\n",
        "# We show the results\r\n",
        "print(\"Mejores parámetros: \")\r\n",
        "print(grid.best_params_)\r\n",
        "print(\"Puntuaciones: \")\r\n",
        "print(grid.cv_results_['mean_test_score'])"
      ],
      "execution_count": null,
      "outputs": [
        {
          "output_type": "stream",
          "text": [
            "Mejores parámetros: \n",
            "{'max_depth': 2, 'n_estimators': 150}\n",
            "\n",
            "Puntuaciones: \n",
            "[ 0.0983195   0.0990379   0.10111024  0.10063317  0.10087434  0.09901378\n",
            "  0.0997747   0.09958661  0.09990533  0.09984673  0.09999659  0.09995063\n",
            "  0.10035817  0.0681253   0.0731808   0.0723919   0.07275947  0.07662275\n",
            "  0.07001566  0.07081651  0.07417866  0.07500742  0.077467    0.07438514\n",
            "  0.07143928  0.07397585 -0.00699854 -0.00021613  0.00581821 -0.00281267\n",
            "  0.00895048 -0.00124969 -0.00119431  0.00615852  0.01139643  0.00408961\n",
            "  0.00346377  0.00726636  0.01157644 -0.05168021 -0.05330959 -0.03909761\n",
            " -0.05622    -0.08262782 -0.06506113 -0.05370647 -0.0581814  -0.06372801\n",
            " -0.04971179 -0.05773945 -0.06176604 -0.05556777 -0.121345   -0.10160462\n",
            " -0.09660864 -0.10108866 -0.08685414 -0.0858194  -0.09146456 -0.09435346\n",
            " -0.09390017 -0.09261235 -0.08144398 -0.08580349 -0.09505076 -0.15556376\n",
            " -0.11984058 -0.09136861 -0.11886047 -0.09470623 -0.12841057 -0.10948115\n",
            " -0.08965825 -0.10515212 -0.09056288 -0.10175856 -0.10148092 -0.10234311\n",
            " -0.1403712  -0.11163243 -0.12696622 -0.10273623 -0.112867   -0.10697642\n",
            " -0.10176023 -0.11123012 -0.10946543 -0.09697544 -0.09644655 -0.11105012\n",
            " -0.09819429 -0.12719627 -0.11700629 -0.13130382 -0.11779937 -0.112448\n",
            " -0.10318206 -0.10716523 -0.11297501 -0.10768944 -0.10553331 -0.09902001\n",
            " -0.09789665 -0.10779491 -0.12556747 -0.12848165 -0.11351257 -0.12138204\n",
            " -0.12795329 -0.10858754 -0.10671814 -0.10763219 -0.10755179 -0.11178891\n",
            " -0.10657263 -0.10566942 -0.10550575]\n"
          ],
          "name": "stdout"
        }
      ]
    },
    {
      "cell_type": "markdown",
      "metadata": {
        "id": "SL-g732sKkWk"
      },
      "source": [
        "Now, we predict with the estimator with the best parameters."
      ]
    },
    {
      "cell_type": "code",
      "metadata": {
        "id": "vHXBRYAKKlWn"
      },
      "source": [
        "y_grid = grid.predict(X_test)"
      ],
      "execution_count": null,
      "outputs": []
    },
    {
      "cell_type": "code",
      "metadata": {
        "colab": {
          "base_uri": "https://localhost:8080/",
          "height": 299
        },
        "id": "qx0rcOB_KngT",
        "outputId": "205eab27-b8d2-4c5b-cae7-f7f2b26b6289"
      },
      "source": [
        "xx = np.arange(0,len(y_test),1)\r\n",
        "plt.plot(xx, y_test, c='r', label='data')\r\n",
        "plt.plot(xx, y_grid, c='g', label='prediction')\r\n",
        "plt.axis('tight')\r\n",
        "plt.legend()\r\n",
        "plt.title(\"Random Forest Regressor\")\r\n",
        "\r\n",
        "plt.show()\r\n",
        "\r\n",
        "mae = mean_absolute_error(y_test, y_grid)\r\n",
        "print ('MAE', mae)\r\n"
      ],
      "execution_count": null,
      "outputs": [
        {
          "output_type": "display_data",
          "data": {
            "image/png": "[encoded data removed]",
            "text/plain": [
              "<Figure size 432x288 with 1 Axes>"
            ]
          },
          "metadata": {
            "tags": [],
            "needs_background": "light"
          }
        },
        {
          "output_type": "stream",
          "text": [
            "MAE 21.087250313173552\n"
          ],
          "name": "stdout"
        }
      ]
    },
    {
      "cell_type": "markdown",
      "metadata": {
        "id": "MVPboc5WDU72"
      },
      "source": [
        "### Submision Result\r\n",
        "\r\n",
        "Once we have identified the best parameterization we will go on to make an execution of the model and we will graph its results."
      ]
    },
    {
      "cell_type": "code",
      "metadata": {
        "colab": {
          "base_uri": "https://localhost:8080/"
        },
        "id": "Qh0YLWdJDhju",
        "outputId": "582cc38c-c8e7-45b2-d2f5-fbf2793d10ec"
      },
      "source": [
        "final_model_prediction = grid.predict(df_test_final)\r\n",
        "\r\n",
        "# round the result and cast to int\r\n",
        "y = np.rint(final_model_prediction) # round\r\n",
        "y = y.astype(int) # cast to int\r\n",
        "res = np.hstack(y)\r\n",
        "\r\n",
        "res"
      ],
      "execution_count": null,
      "outputs": [
        {
          "output_type": "execute_result",
          "data": {
            "text/plain": [
              "array([ 16,  23,  23,  48,  45,  49,  44,  43,  43,  43,  48,  44,  43,\n",
              "        43,  49,  44,  43,  54,  88,  53,  49,  23,  22,  43,  23,  42,\n",
              "        48,  43,  43,  44,  24,  16,  23,  16,  16,  22,  16,  23,  16,\n",
              "        16,  16,  16,  16,  16,  16,  16,  16,  16,  16,  16,  24,  23,\n",
              "        23,  23,  44,  24,  42,  46,  49,  43,  49,  46,  43,  46,  44,\n",
              "        44,  46,  43,  44,  51,  44,  43,  43,  43,  51,  51,  57,  43,\n",
              "        43,  49,  23,  42,  39,  44,  44,  24,  24,  22,  16,  16,  16,\n",
              "        24,  16,  16,  16,  23,  23,  16,  16,  22,  45,  23,  16,  24,\n",
              "        42,  23,  44,  43,  43, 102,  55,  44,  45,  50, 102,  97,  53,\n",
              "        23,  54,  88,  54,  87,  89,  97,  87,  48,  44,  49,  80,  43,\n",
              "        49,  23,  39,  24,  23,  16,  16,  24,  16,  23,  16,  16,  16,\n",
              "        16,  16,  16,  23,  16,  16,  16,  16,  16,  16,  13,  16,  23,\n",
              "        24,  25,  24,  15,  16,  40,  16,  25,  23,  23,  53,  53,  23,\n",
              "        77,  44,  25,  53, 102,  23,  43,  55,  24,  54,  54,  42,  42,\n",
              "        44,  23,  23,  39,  44,  24,  16,  25,  23,  23,  23,  16,  16,\n",
              "        16,  16,  16,  16,  16,  16,  16,  23,  23,  23,  23,  43,  24,\n",
              "        16,  49,  25,  42,  40,  47,  43,  44,  46,  46,  44,  42,  44,\n",
              "        51,  43,  46,  53,  47,  43,  44,  46,  46,  46,  43,  43,  53,\n",
              "        43,  46,  43,  43,  43,  48,  44,  22,  16,  13,  23,  16,  16,\n",
              "        23,  16,  16,  16,  23,  15,  16,  16,  22,  24,  46,  47,  16,\n",
              "        13,  13,  13,  13,  13,  13,  16,  13,  13,  13,  13,  13,  13,\n",
              "        13,  13,  13,  13,  13,  13,  13,  13,  13,  13,  13,  13,  13,\n",
              "        13,  13,  13,  13,  13,  13,  13,  13,  13,  13,  15,  13,  13,\n",
              "        13,  13,  16,  13,  22,  13,  16,  22,  22,  22,  21,  22,  21,\n",
              "        21,  21,  13,  15,  15,  13,  13,  13,  13,  13,  13,  13,  13,\n",
              "        24,  13,  13,  23,  13,  13,  13,  13,  13,  13,  13,  13,  22,\n",
              "        22,  22,  22,  13,  13,  13,  15,  13,  13,  15,  15,  13,  13,\n",
              "        13,  13,  23,  22,  22,  13,  15,  22,  13,  21,  13,  16,  13,\n",
              "        13,  16,  16,  16,  16,  16,  13,  13,  16,  13,  13,  13,  13,\n",
              "        13,  13,  22,  13,  13,  13,  13,  22,  15,  23,  22,  13,  13,\n",
              "        23,  16,  24,  22,  39,  22,  22,  13,  13,  22,  22,  25,  13,\n",
              "        13,  13,  22,  13,  13,  22,  13,  15,  13,  13,  13,  15,  13])"
            ]
          },
          "metadata": {
            "tags": []
          },
          "execution_count": 23
        }
      ]
    },
    {
      "cell_type": "markdown",
      "metadata": {
        "id": "YYMFhhpmDhPN"
      },
      "source": [
        "We build the output file"
      ]
    },
    {
      "cell_type": "code",
      "metadata": {
        "id": "KYCIXjaqDzn3"
      },
      "source": [
        "submission = pd.read_csv(\"submission_format.csv\",\r\n",
        "                         index_col=[0, 1, 2])\r\n",
        "\r\n",
        "\r\n",
        "submission.total_cases = final_model_prediction.astype(np.int64)\r\n",
        "submission.to_csv(\"result_grid.csv\")"
      ],
      "execution_count": null,
      "outputs": []
    },
    {
      "cell_type": "markdown",
      "metadata": {
        "id": "GkCw18gBD07n"
      },
      "source": [
        "**And the result is:**\r\n",
        "\r\n",
        "*28.2043\r\n",
        "Woo! I scored 28.2043 on 'DengAI: Predicting Disease Spread'!*"
      ]
    },
    {
      "cell_type": "markdown",
      "metadata": {
        "id": "Rske9rldBLNo"
      },
      "source": [
        "## Randomized Search\r\n",
        "\r\n",
        "Randomized Search can sample a given number of candidates from a parameter space with a specified distribution.\r\n"
      ]
    },
    {
      "cell_type": "code",
      "metadata": {
        "colab": {
          "base_uri": "https://localhost:8080/"
        },
        "id": "907o0RzXBLzK",
        "outputId": "4f4e494e-2260-44c7-de3a-1e28451d61c5"
      },
      "source": [
        "# We declare the variables to be hyperparameterized\r\n",
        "param = [{'n_estimators': [50,100,150,200,250,300,450,500,550,600,650,700,750],\r\n",
        "               'max_depth': [2,4,6,8,10,12,14,16,18]}]\r\n",
        "\r\n",
        "# Initialize the grid search\r\n",
        "random = RandomizedSearchCV(estimator = est, param_distributions = param, cv = 5)\r\n",
        "\r\n",
        "# Train our model\r\n",
        "random.fit(X_train,y_train)\r\n",
        "\r\n",
        "# We show the results\r\n",
        "print(\"Mejores parámetros: \")\r\n",
        "print(random.best_params_)\r\n",
        "print(\"Puntuaciones: \")\r\n",
        "print(random.cv_results_['mean_test_score'])"
      ],
      "execution_count": 8,
      "outputs": [
        {
          "output_type": "stream",
          "text": [
            "Mejores parámetros: \n",
            "{'n_estimators': 300, 'max_depth': 2}\n",
            "\n",
            "Puntuaciones: \n",
            "[-0.05926557 -0.12255597  0.0745454  -0.11765444 -0.05406954 -0.05715161\n",
            " -0.09752846  0.09967602  0.09767375 -0.09100555]\n"
          ],
          "name": "stdout"
        }
      ]
    },
    {
      "cell_type": "markdown",
      "metadata": {
        "id": "xVlDfcgWFLSs"
      },
      "source": [
        "Now, we predict with the estimator with the best parameters."
      ]
    },
    {
      "cell_type": "code",
      "metadata": {
        "id": "Ctw1SIa2FO7R"
      },
      "source": [
        "y_random = random.predict(X_test)"
      ],
      "execution_count": 9,
      "outputs": []
    },
    {
      "cell_type": "code",
      "metadata": {
        "colab": {
          "base_uri": "https://localhost:8080/",
          "height": 299
        },
        "id": "lslogh2pFTZA",
        "outputId": "6ee2d334-1e38-42fb-fdb2-68e93d7571b1"
      },
      "source": [
        "xx = np.arange(0,len(y_test),1)\r\n",
        "plt.plot(xx, y_test, c='r', label='data')\r\n",
        "#plt.plot(xx, y, c='k', label='data')\r\n",
        "plt.plot(xx, y_random, c='g', label='prediction')\r\n",
        "plt.axis('tight')\r\n",
        "plt.legend()\r\n",
        "plt.title(\"Random Forest Regressor\")\r\n",
        "\r\n",
        "plt.show()\r\n",
        "\r\n",
        "mae = mean_absolute_error(y_test, y_random)\r\n",
        "print ('MAE', mae)"
      ],
      "execution_count": 10,
      "outputs": [
        {
          "output_type": "display_data",
          "data": {
            "image/png": "[encoded data removed]",
            "text/plain": [
              "<Figure size 432x288 with 1 Axes>"
            ]
          },
          "metadata": {
            "tags": [],
            "needs_background": "light"
          }
        },
        {
          "output_type": "stream",
          "text": [
            "MAE 21.146216256549216\n"
          ],
          "name": "stdout"
        }
      ]
    },
    {
      "cell_type": "markdown",
      "metadata": {
        "id": "menaQw29FZWc"
      },
      "source": [
        "### Submision Result\r\n",
        "\r\n",
        "Once the best parameterization has been identified, we will carry out an execution of the model to make a prediction of the weeks that are proposed to us, and we will graph its results."
      ]
    },
    {
      "cell_type": "code",
      "metadata": {
        "colab": {
          "base_uri": "https://localhost:8080/"
        },
        "id": "mAuPXoYDFYk0",
        "outputId": "216f6e59-2b62-42bb-d712-145c71718db4"
      },
      "source": [
        "final_model_prediction = random.predict(df_test_final)\r\n",
        "\r\n",
        "# Round the result and cast to int\r\n",
        "y = np.rint(final_model_prediction)\r\n",
        "y = y.astype(int)\r\n",
        "res = np.hstack(y)\r\n",
        "\r\n",
        "res"
      ],
      "execution_count": 11,
      "outputs": [
        {
          "output_type": "execute_result",
          "data": {
            "text/plain": [
              "array([16, 25, 23, 56, 47, 57, 45, 45, 44, 44, 51, 46, 44, 44, 49, 45, 44,\n",
              "       51, 82, 48, 49, 23, 22, 44, 23, 41, 56, 43, 45, 45, 25, 16, 25, 16,\n",
              "       16, 22, 16, 25, 16, 16, 16, 16, 16, 16, 16, 16, 16, 16, 16, 16, 25,\n",
              "       24, 24, 25, 46, 25, 43, 47, 53, 44, 54, 48, 45, 48, 47, 46, 48, 44,\n",
              "       45, 51, 47, 42, 45, 44, 53, 53, 55, 44, 46, 54, 23, 44, 39, 46, 46,\n",
              "       24, 24, 22, 16, 16, 16, 25, 16, 16, 16, 24, 23, 16, 16, 22, 47, 24,\n",
              "       16, 25, 41, 23, 45, 44, 44, 94, 52, 44, 43, 45, 94, 95, 47, 23, 51,\n",
              "       82, 52, 80, 80, 91, 79, 47, 44, 49, 77, 44, 51, 23, 39, 25, 25, 16,\n",
              "       16, 25, 16, 25, 16, 16, 16, 16, 16, 16, 25, 16, 16, 16, 16, 16, 16,\n",
              "       13, 16, 25, 25, 25, 25, 15, 16, 41, 16, 25, 24, 23, 51, 48, 23, 70,\n",
              "       44, 25, 48, 94, 23, 44, 52, 25, 51, 51, 41, 41, 45, 23, 23, 39, 44,\n",
              "       25, 16, 25, 25, 25, 25, 16, 16, 16, 16, 16, 16, 16, 16, 16, 25, 25,\n",
              "       25, 24, 45, 25, 16, 56, 25, 44, 42, 55, 45, 47, 48, 48, 47, 42, 45,\n",
              "       48, 44, 46, 48, 48, 44, 45, 48, 48, 48, 44, 44, 48, 44, 47, 44, 45,\n",
              "       44, 52, 46, 23, 16, 13, 25, 16, 16, 25, 16, 16, 16, 25, 15, 16, 16,\n",
              "       22, 24, 48, 56, 16, 13, 13, 13, 13, 13, 13, 16, 13, 13, 13, 13, 13,\n",
              "       13, 13, 13, 13, 13, 13, 13, 13, 13, 13, 13, 13, 13, 13, 13, 13, 13,\n",
              "       13, 13, 13, 13, 13, 13, 13, 15, 13, 13, 13, 13, 16, 13, 22, 13, 16,\n",
              "       23, 22, 22, 22, 22, 22, 22, 22, 13, 15, 15, 13, 13, 13, 13, 13, 13,\n",
              "       13, 13, 24, 13, 13, 23, 13, 13, 13, 13, 13, 13, 13, 13, 22, 22, 22,\n",
              "       22, 13, 13, 13, 15, 13, 13, 15, 15, 13, 13, 13, 13, 23, 22, 22, 13,\n",
              "       15, 23, 13, 22, 13, 16, 13, 13, 16, 16, 16, 16, 16, 13, 13, 16, 13,\n",
              "       13, 13, 13, 13, 13, 22, 13, 13, 13, 13, 22, 15, 24, 22, 13, 13, 23,\n",
              "       16, 24, 22, 39, 22, 22, 13, 13, 22, 22, 25, 13, 13, 13, 22, 13, 13,\n",
              "       22, 13, 15, 13, 13, 13, 15, 13])"
            ]
          },
          "metadata": {
            "tags": []
          },
          "execution_count": 11
        }
      ]
    },
    {
      "cell_type": "markdown",
      "metadata": {
        "id": "2Cz8FgrnFhxZ"
      },
      "source": [
        "We build the output file"
      ]
    },
    {
      "cell_type": "code",
      "metadata": {
        "id": "JiftmYmPFhfo"
      },
      "source": [
        "submission = pd.read_csv(\"submission_format.csv\",index_col=[0, 1, 2])\r\n",
        "\r\n",
        "submission.total_cases = final_model_prediction.astype(np.int64)\r\n",
        "submission.to_csv(\"result_randomized.csv\")"
      ],
      "execution_count": 12,
      "outputs": []
    },
    {
      "cell_type": "markdown",
      "metadata": {
        "id": "dK_wBLMgFiJT"
      },
      "source": [
        "**And the result is:**\r\n",
        "\r\n",
        "*28.2620\r\n",
        "Woo! I scored 28.2620 on 'DengAI: Predicting Disease Spread'!*"
      ]
    },
    {
      "cell_type": "markdown",
      "metadata": {
        "id": "dC_HiLhlZwCl"
      },
      "source": [
        "# 5. Conclusions\r\n",
        "\r\n",
        "Cuando tengamos alguna, comparandolo con los de la linea base."
      ]
    }
  ]
}