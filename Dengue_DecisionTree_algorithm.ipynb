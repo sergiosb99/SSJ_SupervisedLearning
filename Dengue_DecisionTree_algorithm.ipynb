{
  "nbformat": 4,
  "nbformat_minor": 0,
  "metadata": {
    "colab": {
      "name": "Dengue_DecisionTree_algorithm.ipynb",
      "provenance": [],
      "collapsed_sections": [],
      "toc_visible": true,
      "include_colab_link": true
    },
    "kernelspec": {
      "name": "python3",
      "display_name": "Python 3"
    }
  },
  "cells": [
    {
      "cell_type": "markdown",
      "metadata": {
        "id": "view-in-github",
        "colab_type": "text"
      },
      "source": [
        "<a href=\"https://colab.research.google.com/github/sergiobm3/ESI_MachineLearning/blob/Supervised/Dengue_DecisionTree_algorithm.ipynb\" target=\"_parent\"><img src=\"https://colab.research.google.com/assets/colab-badge.svg\" alt=\"Open In Colab\"/></a>"
      ]
    },
    {
      "cell_type": "markdown",
      "metadata": {
        "id": "Ti5Wnz3cgkRD"
      },
      "source": [
        "#  The Problem\n"
      ]
    },
    {
      "cell_type": "markdown",
      "metadata": {
        "id": "3wbjJ1PrhsIJ"
      },
      "source": [
        "We will use the data from the competition to predict the evolution of Dengue Disease in both Iquitos and San Juan. More information in [link](https://www.drivendata.org/competitions/44/dengai-predicting-disease-spread/)\n",
        "\n",
        "The objective of the exercise is to solve a regression problem and on the other hand to participate in a data competition.\n"
      ]
    },
    {
      "cell_type": "markdown",
      "metadata": {
        "id": "Yo0x5dyH5b4N"
      },
      "source": [
        "# Setting Preliminares"
      ]
    },
    {
      "cell_type": "markdown",
      "metadata": {
        "id": "EqpW7cG5n4HB"
      },
      "source": [
        "Before starting any analysis we must ensure that the basic and general use libraries (numpy, pandas, etc.) are correctly imported. "
      ]
    },
    {
      "cell_type": "code",
      "metadata": {
        "id": "QcqAjsMIKluO"
      },
      "source": [
        "# carga de datos\n",
        "import pandas as pd\n",
        "import io\n",
        "from google.colab import files\n",
        "\n",
        "# manipulación y visualización\n",
        "import matplotlib.pyplot as plt\n",
        "import seaborn as sns\n",
        "from sklearn.preprocessing import MinMaxScaler, StandardScaler, LabelBinarizer\n",
        "from sklearn.model_selection import train_test_split\n",
        "\n",
        "#Algoritmo regresion\n",
        "from sklearn.metrics import mean_absolute_error\n",
        "from sklearn.tree import DecisionTreeRegressor\n",
        "\n",
        "#Auxiliar\n",
        "import numpy as np"
      ],
      "execution_count": 1,
      "outputs": []
    },
    {
      "cell_type": "markdown",
      "metadata": {
        "id": "fvxDPxPhheSW"
      },
      "source": [
        "# Data Loading"
      ]
    },
    {
      "cell_type": "markdown",
      "metadata": {
        "id": "AygZwiVvg6WE"
      },
      "source": [
        "First we load the data into the environment with the functionalities provided by Google Colab"
      ]
    },
    {
      "cell_type": "markdown",
      "metadata": {
        "id": "dZSaoCMRAq8m"
      },
      "source": [
        "# Preprocessing\n",
        "\n",
        "We transform the data in order to allow us the posterior use of the algorithms to build prediction models, for example, missing values, from categories to numbers, ..."
      ]
    },
    {
      "cell_type": "code",
      "metadata": {
        "id": "zr57uSH3SO82"
      },
      "source": [
        "# make function to preprocess data\r\n",
        "def preprocess_data(data_path, labels_path=None):\r\n",
        "    # load data and set index to city, year, weekofyear\r\n",
        "    df = pd.read_csv(data_path)\r\n",
        "    \r\n",
        "    # fill missing values\r\n",
        "    # try instead using mean and median\r\n",
        "    df.fillna(df.mean(), inplace=True)\r\n",
        "\r\n",
        "    #df = df[np.notnull(df)]\r\n",
        "    #df = df.dropna()\r\n",
        "    lb = LabelBinarizer()\r\n",
        "    # add labels to dataframe\r\n",
        "    if labels_path:\r\n",
        "        labels = pd.read_csv(labels_path)\r\n",
        "        \r\n",
        "        labels['city'] = lb.fit_transform(labels['city'])\r\n",
        "        #df = df.join(labels)\r\n",
        "    \r\n",
        "    df['city'] =  lb.fit_transform(df['city'])\r\n",
        "\r\n",
        "    selected_features = ['reanalysis_specific_humidity_g_per_kg', 'reanalysis_dew_point_temp_k', \r\n",
        "                 'station_avg_temp_c', 'station_min_temp_c']\r\n",
        "    df = df[selected_features]\r\n",
        "\r\n",
        "#sj_labels.head()\r\n",
        "    if labels_path:\r\n",
        "        return df, labels\r\n",
        "    return df"
      ],
      "execution_count": 2,
      "outputs": []
    },
    {
      "cell_type": "code",
      "metadata": {
        "id": "YUrvIsptSU7d"
      },
      "source": [
        "#load train data\r\n",
        "df_features, df_labels  = preprocess_data('dengue_features_train.csv', labels_path=\"dengue_labels_train.csv\")\r\n",
        "#load final test data\r\n",
        "df_test_final = preprocess_data(\"dengue_features_test.csv\")"
      ],
      "execution_count": 3,
      "outputs": []
    },
    {
      "cell_type": "markdown",
      "metadata": {
        "id": "nZCwFH7_pngM"
      },
      "source": [
        "We will see the correlation matrix"
      ]
    },
    {
      "cell_type": "code",
      "metadata": {
        "colab": {
          "base_uri": "https://localhost:8080/",
          "height": 465
        },
        "id": "u1OacD01o3ZE",
        "outputId": "adf6c127-f665-4462-f972-da80800321c6"
      },
      "source": [
        "mask = np.zeros_like(df_features.corr())\n",
        "mask[np.triu_indices_from(mask)] = True\n",
        "\n",
        "#sns.set()\n",
        "sns.heatmap(df_features.corr(),xticklabels=df_features.corr().columns,yticklabels=df_features.corr().columns, mask= mask,square=True, annot=False)"
      ],
      "execution_count": 4,
      "outputs": [
        {
          "output_type": "execute_result",
          "data": {
            "text/plain": [
              "<matplotlib.axes._subplots.AxesSubplot at 0x7fafb37d5ac8>"
            ]
          },
          "metadata": {
            "tags": []
          },
          "execution_count": 4
        },
        {
          "output_type": "display_data",
          "data": {
            "image/png": "[encoded data removed]",
            "text/plain": [
              "<Figure size 432x288 with 2 Axes>"
            ]
          },
          "metadata": {
            "tags": [],
            "needs_background": "light"
          }
        }
      ]
    },
    {
      "cell_type": "markdown",
      "metadata": {
        "id": "Pk1amwRNvvYA"
      },
      "source": [
        "You have to select features, they can be all, but that is usually not a good idea, so here we will leave some selected."
      ]
    },
    {
      "cell_type": "code",
      "metadata": {
        "id": "gZWB80d9WJTg"
      },
      "source": [
        "#scaler = StandardScaler()  #@param [\"MinMaxScaler()\", \"StandardScaler()\"] {type:\"raw\"}\r\n",
        "#df_datanorm = scaler.fit_transform(df_features)"
      ],
      "execution_count": 5,
      "outputs": []
    },
    {
      "cell_type": "code",
      "metadata": {
        "id": "56tx1Qg7AGgn"
      },
      "source": [
        "X_train, X_test, y_train, y_test = train_test_split(df_features, df_labels['total_cases'], test_size=0.3, random_state=1)"
      ],
      "execution_count": 6,
      "outputs": []
    },
    {
      "cell_type": "markdown",
      "metadata": {
        "id": "aw1l4JTgpqws"
      },
      "source": [
        "Now we are going to train the model with the training data"
      ]
    },
    {
      "cell_type": "code",
      "metadata": {
        "colab": {
          "base_uri": "https://localhost:8080/",
          "height": 280
        },
        "id": "i9pzObpTq1vE",
        "outputId": "95213965-88be-48a0-97ec-5de17dca8ff9"
      },
      "source": [
        "# Compute the max \n",
        "mae = []\n",
        "for i in range(2, 30):\n",
        "    regressor = DecisionTreeRegressor(max_depth=i)\n",
        "    regressor.fit(X_train,y_train)\n",
        "    pred_values = regressor.predict(X_test)\n",
        "    maev = mean_absolute_error(y_test,pred_values)\n",
        "    mae.append(maev)\n",
        "    \n",
        "# Plot mae   \n",
        "plt.plot(range(2,30), mae, marker='o')\n",
        "plt.xlabel('max_depth')\n",
        "plt.ylabel('mae')\n",
        "plt.show()"
      ],
      "execution_count": 7,
      "outputs": [
        {
          "output_type": "display_data",
          "data": {
            "image/png": "[encoded data removed]",
            "text/plain": [
              "<Figure size 432x288 with 1 Axes>"
            ]
          },
          "metadata": {
            "tags": [],
            "needs_background": "light"
          }
        }
      ]
    },
    {
      "cell_type": "code",
      "metadata": {
        "id": "YCEiZEFxnWM9"
      },
      "source": [
        "def TreeRegressor():\r\n",
        "    '''\r\n",
        "    this function builds a decision tree regressor model\r\n",
        "    '''        \r\n",
        "    regressor = DecisionTreeRegressor(criterion='mse', max_depth=5, random_state=0)\r\n",
        "    regressor.fit(X_train,y_train)\r\n",
        "    y_pred = regressor.predict(X_test)\r\n",
        "    mae = mean_absolute_error(y_test, y_pred)\r\n",
        "    print ('MAE', mae)\r\n",
        "\r\n",
        "    xx = np.stack(i for i in range(y_test.shape[0]))\r\n",
        "    plt.plot(xx, y_test, c='r', label='data')\r\n",
        "    #plt.plot(xx, y, c='k', label='data')\r\n",
        "    plt.plot(xx, y_pred, c='g', label='prediction')\r\n",
        "    plt.axis('tight')\r\n",
        "    plt.legend()\r\n",
        "    plt.title(\"DecisionTree\")\r\n",
        "\r\n",
        "    plt.show()\r\n",
        "    return regressor"
      ],
      "execution_count": 8,
      "outputs": []
    },
    {
      "cell_type": "markdown",
      "metadata": {
        "id": "PrHTXzLW1eaR"
      },
      "source": [
        "Finally we try to visualize how our prediction has turned out with reality. We carry out the prediction on the test."
      ]
    },
    {
      "cell_type": "code",
      "metadata": {
        "id": "3FjKZ3rhqFb9",
        "colab": {
          "base_uri": "https://localhost:8080/",
          "height": 352
        },
        "outputId": "45ffb982-c14d-4c4b-af2a-f702cdb3fc2e"
      },
      "source": [
        "model = TreeRegressor()"
      ],
      "execution_count": 9,
      "outputs": [
        {
          "output_type": "stream",
          "text": [
            "MAE 21.059246027431247\n"
          ],
          "name": "stdout"
        },
        {
          "output_type": "stream",
          "text": [
            "/usr/local/lib/python3.6/dist-packages/IPython/core/interactiveshell.py:2882: FutureWarning: arrays to stack must be passed as a \"sequence\" type such as list or tuple. Support for non-sequence iterables such as generators is deprecated as of NumPy 1.16 and will raise an error in the future.\n",
            "  exec(code_obj, self.user_global_ns, self.user_ns)\n"
          ],
          "name": "stderr"
        },
        {
          "output_type": "display_data",
          "data": {
            "image/png": "[encoded data removed]",
            "text/plain": [
              "<Figure size 432x288 with 1 Axes>"
            ]
          },
          "metadata": {
            "tags": [],
            "needs_background": "light"
          }
        }
      ]
    },
    {
      "cell_type": "markdown",
      "metadata": {
        "id": "2qbkQc-ztqIS"
      },
      "source": [
        "# Submission result"
      ]
    },
    {
      "cell_type": "markdown",
      "metadata": {
        "id": "HSXVdRUa--ZX"
      },
      "source": [
        "We generate the output file according to the Submission format"
      ]
    },
    {
      "cell_type": "markdown",
      "metadata": {
        "id": "OChzCEHnIc2u"
      },
      "source": [
        "2. We round up the result. **We use dataset TEST!**"
      ]
    },
    {
      "cell_type": "code",
      "metadata": {
        "id": "bwOWnVGj4bME"
      },
      "source": [
        "final_prediction = model.predict(df_test_final)"
      ],
      "execution_count": 11,
      "outputs": []
    },
    {
      "cell_type": "code",
      "metadata": {
        "id": "QR9j8aQI-9yc",
        "colab": {
          "base_uri": "https://localhost:8080/"
        },
        "outputId": "4576ed40-bd48-404d-b49b-e34364beb313"
      },
      "source": [
        "# round the result and cast to int\n",
        "y = np.rint(final_prediction) # round\n",
        "y = y.astype(int) # cast to int\n",
        "res = np.hstack(y)\n",
        "\n",
        "res"
      ],
      "execution_count": 12,
      "outputs": [
        {
          "output_type": "execute_result",
          "data": {
            "text/plain": [
              "array([ 13,   8,  26,  97,  26,  97,   5,  41,  41,  41,  97,  41,  41,\n",
              "        41,  41,  41,  41,  41,  54,  41,  41,  26,  26,  41,  26,  36,\n",
              "        97, 106,  36,   5,  26,  20,  14,  13,  20,  12,  20,  14,  20,\n",
              "        13,  20,  20,  20,  20,  20,  20,  20,  20,  20,  20,  14,  14,\n",
              "        14,  14,  66,  26, 106,  26,  97,  41,  97,  41,  41,  41,  41,\n",
              "        41,  41,  41,  41,  41,  41,  41,  41,  41,  41,  41,  41,  41,\n",
              "        41,  97,  26,  41,  14,   5,   5,  68,  26,  12,  13,  20,   7,\n",
              "        26,  20,  13,  13,   8,  26,  20,  13,  26,  26,  14,  13,  26,\n",
              "        41,  26,   5,  41,  41,  54,  41,  41,  14,  14,  54,  54,  41,\n",
              "        26,  41, 234,  41, 234,  54,  54, 234,  41,  41,  41, 234,  41,\n",
              "        97,  26,  14,  26,  14,  20,  20,  26,  20,  14,  20,  20,  20,\n",
              "        20,  20,  20,  14,  20,  20,  20,  20,  20,  20,  13,  20,  14,\n",
              "        14,  26,  14,  13,   7,  14,  13,  26,  26,  26,  41,  41,  26,\n",
              "        41,  41,  26,  41,  54,  26,  41,  41,  26,  41,  41,  41,  41,\n",
              "         5,  26,  26,  36,   5,  68,  20,  26,  14,  14,  14,  20,  20,\n",
              "        20,  20,  20,  20,  20,  13,  20,  14,  14,  14,   8,   5,   8,\n",
              "        13,  97,  26,  41,  36,  97,  41,  41,  41,  41,  41,  41,  41,\n",
              "        41,  41,  41,  41,  41,  41,  41,  41,  41,  41,  41,  41,  41,\n",
              "        41,  41,  41,  41,  41,  97,   5,   8,  13,  13,  14,  20,  20,\n",
              "        14,  20,  20,  20,  14,  13,  20,  20,   5,   8,  26,  97,  13,\n",
              "        13,  13,  13,   5,   5,   5,   5,   5,   5,   5,   9,   5,   9,\n",
              "         7,   5,   9,   9,   7,   7,   9,   9,   9,   9,  13,   7,   5,\n",
              "        13,   7,   7,   9,  13,   9,   9,   9,   9,   9,  13,  13,   9,\n",
              "        13,   9,   7,  13,  12,  13,  13,  12,  12,  12,  12,  12,  14,\n",
              "        12,  12,   5,   5,   5,   5,   5,   7,   5,   5,   7,   7,   7,\n",
              "        68,   7,   7,  26,  13,   7,   7,   7,   9,   7,   7,  13,  12,\n",
              "        26,  12,  26,   9,  13,  13,  13,  13,   7,   9,  13,  13,   9,\n",
              "         9,   7,  26,  12,  26,   7,   5,  68,  13,  68,  13,  20,   5,\n",
              "         5,  20,  20,   7,   0,   5,   5,   5,   5,   5,   5,   5,   5,\n",
              "         5,   5,  12,   9,  13,   7,   7,  12,  13,  26,  26,   9,   7,\n",
              "        26,  13,  12,  12,  84,  12,  12,  13,   7,  12,  26,  26,   7,\n",
              "         7,   7,  12,  13,   5,  12,   7,  13,  13,   7,  13,  13,  13])"
            ]
          },
          "metadata": {
            "tags": []
          },
          "execution_count": 12
        }
      ]
    },
    {
      "cell_type": "markdown",
      "metadata": {
        "id": "NqiWtFm6ImA9"
      },
      "source": [
        "3. We build the output file\n"
      ]
    },
    {
      "cell_type": "code",
      "metadata": {
        "id": "b4tSsUpDDNbJ"
      },
      "source": [
        "submission = pd.read_csv(\"submission_format.csv\",\n",
        "                         index_col=[0, 1, 2])\n",
        "\n",
        "submission.total_cases = final_prediction.astype(np.int64)\n",
        "submission.to_csv(\"result.csv\")"
      ],
      "execution_count": 14,
      "outputs": []
    },
    {
      "cell_type": "markdown",
      "metadata": {
        "id": "__VhckbVnaAY"
      },
      "source": [
        "Upload new submission\n",
        "Woohoo! We processed your submission!\n",
        "Your score for this submission is:\n",
        "\n",
        "28.9639\n",
        "Woo! I scored 28.9639 on 'DengAI: Predicting Disease Spread'!"
      ]
    }
  ]
}