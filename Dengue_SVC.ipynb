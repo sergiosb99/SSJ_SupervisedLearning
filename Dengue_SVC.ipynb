{
  "nbformat": 4,
  "nbformat_minor": 0,
  "metadata": {
    "colab": {
      "name": "Dengue_SVC.ipynb",
      "provenance": [],
      "collapsed_sections": [],
      "toc_visible": true
    },
    "kernelspec": {
      "name": "python3",
      "display_name": "Python 3"
    }
  },
  "cells": [
    {
      "cell_type": "markdown",
      "metadata": {
        "id": "Ti5Wnz3cgkRD"
      },
      "source": [
        "# 0. Introduction\n",
        "\n",
        "We are going to use the data that we have been provided to study and try to predict the evolution of Dengue disease in the cities of **San Jose**, *Puerto Rico*, and **Iquitos**, *Peru*. More information in this [link](https://www.drivendata.org/competitions/44/dengai-predicting-disease-spread/).\n",
        "\n",
        "To begin our study, this notebook will be part of our baseline, where various algorithms with simple optimization will be used, with the aim of beginning to know how we could create robust models."
      ]
    },
    {
      "cell_type": "markdown",
      "metadata": {
        "id": "3wbjJ1PrhsIJ"
      },
      "source": [
        "We will use the data from the competition to predict the evolution of Dengue Disease in both Iquitos and San Juan. More information in [link](https://www.drivendata.org/competitions/44/dengai-predicting-disease-spread/)\n",
        "\n",
        "The objective of the exercise is to solve a regression problem and on the other hand to participate in a data competition.\n"
      ]
    },
    {
      "cell_type": "markdown",
      "metadata": {
        "id": "Yo0x5dyH5b4N"
      },
      "source": [
        "# 1. Libraries\r\n",
        "\r\n",
        "Before starting any analysis we must ensure that the basic and general use libraries *(numpy, pandas, etc.)* are correctly imported. "
      ]
    },
    {
      "cell_type": "code",
      "metadata": {
        "id": "QcqAjsMIKluO"
      },
      "source": [
        "# Preprocessing\n",
        "from sklearn import preprocessing\n",
        "\n",
        "# Loading the data\n",
        "import pandas as pd\n",
        "import io\n",
        "from google.colab import files\n",
        "\n",
        "# Graphics display\n",
        "import seaborn as sns\n",
        "import matplotlib.pyplot as plt\n",
        "\n",
        "# Estimator and model selection\n",
        "from sklearn.model_selection import train_test_split\n",
        "from sklearn.svm import SVR\n",
        "\n",
        "# Others\n",
        "import numpy as np    \n",
        "from sklearn.metrics import mean_absolute_error "
      ],
      "execution_count": 1,
      "outputs": []
    },
    {
      "cell_type": "markdown",
      "metadata": {
        "id": "fvxDPxPhheSW"
      },
      "source": [
        "# 2. Loading the data\r\n",
        "\r\n",
        "The first step is to upload all the CSV files that have been provided to us and that thanks to them we will obtain the data with which we are going to work. To do this, we will use the tools that Google Colab offers us when uploading files."
      ]
    },
    {
      "cell_type": "markdown",
      "metadata": {
        "id": "dZSaoCMRAq8m"
      },
      "source": [
        "## Preprocessing the data\n",
        "\n",
        "We transform the data in order to allow us the posterior use of the algorithms to build prediction models, for example, missing values, from categories to numbers, etc."
      ]
    },
    {
      "cell_type": "code",
      "metadata": {
        "id": "zr57uSH3SO82"
      },
      "source": [
        "# Make function to preprocess data\r\n",
        "def preprocess_data(data_path, labels_path=None):\r\n",
        "    # Load data and set index to city, year, weekofyear\r\n",
        "    df = pd.read_csv(data_path)\r\n",
        "    # Fill missing values\r\n",
        "    df.fillna(df.mean(), inplace=True)\r\n",
        "    lb = preprocessing.LabelBinarizer()\r\n",
        "\r\n",
        "    if labels_path:\r\n",
        "        labels = pd.read_csv(labels_path)\r\n",
        "        \r\n",
        "        labels['city'] = lb.fit_transform(labels['city'])\r\n",
        "    \r\n",
        "    df['city'] =  lb.fit_transform(df['city'])\r\n",
        "\r\n",
        "    selected_features = ['reanalysis_specific_humidity_g_per_kg', 'reanalysis_dew_point_temp_k', \r\n",
        "                 'station_avg_temp_c', 'station_min_temp_c']\r\n",
        "    df = df[selected_features]\r\n",
        "\r\n",
        "    if labels_path:\r\n",
        "        return df, labels\r\n",
        "    return df"
      ],
      "execution_count": 2,
      "outputs": []
    },
    {
      "cell_type": "markdown",
      "metadata": {
        "id": "4G3Q-t5g4b1j"
      },
      "source": [
        "We execute the newly compiled method, which will allow us to load and preprocess our data."
      ]
    },
    {
      "cell_type": "code",
      "metadata": {
        "id": "lN74ew6GSShd"
      },
      "source": [
        "df_features, df_labels  = preprocess_data('dengue_features_train.csv', labels_path=\"dengue_labels_train.csv\")"
      ],
      "execution_count": 3,
      "outputs": []
    },
    {
      "cell_type": "markdown",
      "metadata": {
        "id": "z6E92HOcSbFW"
      },
      "source": [
        "Finally, we also load the file with which we will carry out the final prediction, once our model is trained."
      ]
    },
    {
      "cell_type": "code",
      "metadata": {
        "id": "YUrvIsptSU7d"
      },
      "source": [
        "df_test_final = preprocess_data(\"dengue_features_test.csv\")"
      ],
      "execution_count": 4,
      "outputs": []
    },
    {
      "cell_type": "markdown",
      "metadata": {
        "id": "aw1l4JTgpqws"
      },
      "source": [
        "# 3. Detaching the dataset\r\n",
        "\r\n",
        "To train the models that we make, it is necessary to separate our training dataset into two parts, one precisely to train the model, and another to check if our models are good."
      ]
    },
    {
      "cell_type": "code",
      "metadata": {
        "id": "eQjikOIh6qUI"
      },
      "source": [
        "X_train, X_test, y_train, y_test = train_test_split(df_features, df_labels['total_cases'], test_size=0.2, random_state=1)"
      ],
      "execution_count": 5,
      "outputs": []
    },
    {
      "cell_type": "markdown",
      "metadata": {
        "id": "lsdECD-b4wzq"
      },
      "source": [
        "# 4. Execution of the algorithm\r\n",
        "\r\n",
        "*Support Vector Machines* look for a hyperplane that separates the points of different classes in a suitable way. Since ours is a regression and non-classification problem, we will work with the *SVR* estimator."
      ]
    },
    {
      "cell_type": "code",
      "metadata": {
        "id": "AVheBB5JK9QW"
      },
      "source": [
        "def SVR_f(X_train, X_test):\n",
        "    # Model Parametrization \n",
        "    regressor = SVR(kernel = 'linear', C = 1.00, gamma = 'scale')\n",
        "\n",
        "    # Model construction\n",
        "    regressor.fit(X_train, y_train)\n",
        "\n",
        "    # Test\n",
        "    y_pred = regressor.predict(X_test)\n",
        "    mae = mean_absolute_error(y_test,y_pred)\n",
        "    print (\"Error Measure \",  mae, \"\\n\")\n",
        "\n",
        "    # Plot\n",
        "    xx = np.arange(0,len(y_test),1)\n",
        "    plt.scatter(xx, y_test, c='r', label='data')\n",
        "    plt.plot(xx, y_pred, c='g', label='prediction')\n",
        "    plt.axis('tight')\n",
        "    plt.legend()\n",
        "    plt.title(\"SVR Regressor\")\n",
        "    plt.show()\n",
        "    \n",
        "    return regressor"
      ],
      "execution_count": 19,
      "outputs": []
    },
    {
      "cell_type": "markdown",
      "metadata": {
        "id": "_A4Cz_Nf4yfk"
      },
      "source": [
        "We run the algorithm"
      ]
    },
    {
      "cell_type": "code",
      "metadata": {
        "colab": {
          "base_uri": "https://localhost:8080/",
          "height": 317
        },
        "id": "AVvHu0tHJYdz",
        "outputId": "a584ba35-46a1-432e-a4f4-d7124260ed63"
      },
      "source": [
        "model = SVR_f(X_train, X_test)"
      ],
      "execution_count": 21,
      "outputs": [
        {
          "output_type": "stream",
          "text": [
            "Error Measure  16.336762970266886 \n",
            "\n"
          ],
          "name": "stdout"
        },
        {
          "output_type": "display_data",
          "data": {
            "image/png": "[encoded data removed]",
            "text/plain": [
              "<Figure size 432x288 with 1 Axes>"
            ]
          },
          "metadata": {
            "tags": [],
            "needs_background": "light"
          }
        }
      ]
    },
    {
      "cell_type": "markdown",
      "metadata": {
        "id": "2qbkQc-ztqIS"
      },
      "source": [
        "## Submission result\r\n",
        "\r\n",
        "Now, we are going to test our model with the data provided to us in the dengue_features_test.csv file to predict dengue cases for the weeks proposed in said file."
      ]
    },
    {
      "cell_type": "code",
      "metadata": {
        "id": "QR9j8aQI-9yc",
        "colab": {
          "base_uri": "https://localhost:8080/"
        },
        "outputId": "c3837c3d-9a07-421d-e8ca-432b8835c941"
      },
      "source": [
        "final_model_prediction = model.predict(df_test_final)\n",
        "\n",
        "# Round the result and cast to int\n",
        "y = np.rint(final_model_prediction)\n",
        "y = y.astype(int)\n",
        "res = np.hstack(y)\n",
        "\n",
        "res"
      ],
      "execution_count": 22,
      "outputs": [
        {
          "output_type": "execute_result",
          "data": {
            "text/plain": [
              "array([ 14,  18,  15,  23,  18,  25,  19,  20,  18,  24,  21,  28,  20,\n",
              "        22,  18,  21,  19,  19,  20,  15,  21,  16,  10,  22,  17,  20,\n",
              "        21,  23,  22,  20,  19,  18,  19,  15,  13,  14,  13,  18,  16,\n",
              "        15,  17,  17,  18,  13,  16,  17,  16,  15,  15,  16,  19,  16,\n",
              "        16,  17,  21,  20,  21,  18,  20,  22,  20,  25,  16,  26,  18,\n",
              "        16,  24,  23,  25,  29,  18,  15,  21,  18,  24,  25,  23,  19,\n",
              "        22,  24,  16,  20,  19,  20,  20,  16,  19,  14,  14,  11,  18,\n",
              "        21,  10,  15,  14,  16,  16,   7,  12,  12,  18,  16,  12,  19,\n",
              "        17,  13,  20,  23,  19,  23,  22,  23,  18,  18,  19,  16,  17,\n",
              "        16,  22,  20,  23,  21,  19,  21,  20,  23,  22,  24,  21,  22,\n",
              "        20,  15,  18,  20,  17,  13,  11,  20,  15,  20,  16,  15,  17,\n",
              "        12,  13,  14,  18,  18,  16,  13,  16,  13,  11,  12,  16,  18,\n",
              "        19,  20,  21,  10,  10,  21,  10,  14,  11,  13,  20,  16,  16,\n",
              "        23,  20,  13,  15,  21,  15,  21,  25,  18,  20,  18,  17,  17,\n",
              "        19,  15,  17,  20,  20,  17,  15,  21,  19,  19,  17,  14,  17,\n",
              "        14,  16,  16,  17,  14,  15,  16,  19,  18,  19,  17,  21,  19,\n",
              "        14,  21,  19,  21,  21,  22,  19,  21,  25,  21,  21,  16,  25,\n",
              "        23,  22,  21,  15,  25,  20,  26,  24,  26,  23,  19,  23,  15,\n",
              "        20,  18,  23,  21,  22,  21,  20,  18,  15,  13,  18,  14,  18,\n",
              "        18,  12,  15,  14,  19,  14,  17,  16,  16,  19,  18,  21,  14,\n",
              "        10,  10,  11, -24, -11,   2,  -2,   8,   3,   5,   8,   5,  -6,\n",
              "         6,   0,  -2,   0,   3,   4,  -2,   5,   4,   3,  10,   7,   3,\n",
              "        14,   7,   8,   6,   8,   3,   8,   7,   5,   4,  11,   9,   6,\n",
              "        10,   3,  12,  12,  11,   8,  13,  16,  14,  14,  14,  14,  15,\n",
              "        14,  14,   1,   7,  10,   7,   6,   8, -14, -10,  10,  10,   9,\n",
              "        15,   7,   8,  11,   8,   5,   4,   7,   5,   9,   8,  11,  13,\n",
              "         9,  15,  13,   6,  10,  13,  13,  12,   9,   7,  12,  12,   7,\n",
              "         5,   9,  14,  15,  12,  10,   1,  14,  12,  14,  10,   0,   5,\n",
              "         3,   7,   6,   4,  -3,   7,  -4,  -5,   3,   5,   4,   4,   4,\n",
              "         4,   3,  11,   4,  12,   6,   8,  14,  14,  10,   9,   5,   9,\n",
              "        13,  11,  17,  13,  20,  11,  13,  11,  10,  14,  10,  14,   9,\n",
              "         7,  11,  11,   9,  -5,  11,   7,  13,  11,   9,  11,  14,  13])"
            ]
          },
          "metadata": {
            "tags": []
          },
          "execution_count": 22
        }
      ]
    },
    {
      "cell_type": "markdown",
      "metadata": {
        "id": "rb1xNhBN5BQZ"
      },
      "source": [
        "Finally, we are going to download a CSV file that contains our prediction, to load it into DrivenData and return the score of our model."
      ]
    },
    {
      "cell_type": "code",
      "metadata": {
        "id": "BZ8ihCxG5GVB"
      },
      "source": [
        "submission = pd.read_csv(\"submission_format.csv\", index_col=[0, 1, 2])\r\n",
        "\r\n",
        "submission.total_cases = final_model_prediction.astype(np.int64)\r\n",
        "submission.to_csv(\"result.csv\")"
      ],
      "execution_count": 24,
      "outputs": []
    },
    {
      "cell_type": "markdown",
      "metadata": {
        "id": "evPxNE_55KRq"
      },
      "source": [
        "**And the result is:**\r\n",
        "\r\n",
        "*29.9231\r\n",
        "Woo! I scored 29.9231 on 'DengAI: Predicting Disease Spread'!*"
      ]
    }
  ]
}