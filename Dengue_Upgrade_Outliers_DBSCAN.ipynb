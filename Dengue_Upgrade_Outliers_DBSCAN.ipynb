{
  "nbformat": 4,
  "nbformat_minor": 0,
  "metadata": {
    "colab": {
      "name": "Dengue_RandomForest_algorithm_upgrade_outliers.ipynb",
      "provenance": [],
      "collapsed_sections": [],
      "toc_visible": true,
      "include_colab_link": true
    },
    "kernelspec": {
      "name": "python3",
      "display_name": "Python 3",
      "language": "python"
    }
  },
  "cells": [
    {
      "cell_type": "markdown",
      "metadata": {
        "id": "view-in-github",
        "colab_type": "text"
      },
      "source": [
        "<a href=\"https://colab.research.google.com/github/sergiosb99/SSJ_SupervisedLearning/blob/Novelty/Dengue_Upgrade_Outliers_DBSCAN.ipynb\" target=\"_parent\"><img src=\"https://colab.research.google.com/assets/colab-badge.svg\" alt=\"Open In Colab\"/></a>"
      ]
    },
    {
      "cell_type": "markdown",
      "metadata": {
        "id": "Ti5Wnz3cgkRD"
      },
      "source": [
        "#  **0. Introduction**\n"
      ]
    },
    {
      "cell_type": "markdown",
      "metadata": {
        "id": "3wbjJ1PrhsIJ"
      },
      "source": [
        "We will use the data from the competition to predict the evolution of Dengue Disease in both Iquitos and San Juan. More information in [link](https://www.drivendata.org/competitions/44/dengai-predicting-disease-spread/)\n",
        "\n",
        "The objective of the exercise is to solve a regression problem and on the other hand to participate in a data competition.\n"
      ]
    },
    {
      "cell_type": "markdown",
      "metadata": {
        "id": "Yo0x5dyH5b4N"
      },
      "source": [
        "# **1. Libraries**"
      ]
    },
    {
      "cell_type": "markdown",
      "metadata": {
        "id": "EqpW7cG5n4HB"
      },
      "source": [
        "Before starting any analysis we must ensure that the basic and general use libraries (numpy, pandas, etc.) are correctly imported. "
      ]
    },
    {
      "cell_type": "code",
      "metadata": {
        "id": "QcqAjsMIKluO"
      },
      "source": [
        "# Loading the data\n",
        "import pandas as pd\n",
        "import io\n",
        "from google.colab import files\n",
        "\n",
        "# Graphics display\n",
        "import seaborn as sns\n",
        "import matplotlib.pyplot as plt\n",
        "import plotly.express as px\n",
        "\n",
        "# Estimator and model selection\n",
        "from sklearn.model_selection import train_test_split\n",
        "from sklearn.ensemble import RandomForestRegressor\n",
        "\n",
        "# Others\n",
        "import numpy as np    \n",
        "from sklearn.metrics import mean_absolute_error\n",
        "\n",
        "from sklearn.neighbors import kneighbors_graph\n",
        "import numpy\n",
        "import sklearn.neighbors\n",
        "\n"
      ],
      "execution_count": null,
      "outputs": []
    },
    {
      "cell_type": "markdown",
      "metadata": {
        "id": "fvxDPxPhheSW"
      },
      "source": [
        "# **2. Loading the data**"
      ]
    },
    {
      "cell_type": "markdown",
      "metadata": {
        "id": "AygZwiVvg6WE"
      },
      "source": [
        "The first step is to upload all the CSV files that have been provided to us and that thanks to them we will obtain the data with which we are going to work. To do this, we will use the tools that Google Colab offers us when uploading files."
      ]
    },
    {
      "cell_type": "markdown",
      "metadata": {
        "id": "dZSaoCMRAq8m"
      },
      "source": [
        "## Preprocessing the data\n",
        "\n",
        "We transform the data in order to allow us the posterior use of the algorithms to build prediction models, for example, missing values, from categories to numbers, etc."
      ]
    },
    {
      "cell_type": "markdown",
      "metadata": {
        "id": "fcPsXIGcldLJ"
      },
      "source": [
        "We first load the datasets, and merge them in one, named train."
      ]
    },
    {
      "cell_type": "code",
      "metadata": {
        "id": "TsKp4-VfldLJ"
      },
      "source": [
        "train_feat = pd.read_csv('dengue_features_train.csv')"
      ],
      "execution_count": null,
      "outputs": []
    },
    {
      "cell_type": "code",
      "metadata": {
        "id": "sK8HtO73ldLK"
      },
      "source": [
        "train_labels = pd.read_csv('dengue_labels_train.csv')"
      ],
      "execution_count": null,
      "outputs": []
    },
    {
      "cell_type": "code",
      "metadata": {
        "id": "0f29Bul-ldLK"
      },
      "source": [
        "train = pd.merge(train_feat,train_labels,on=['city','year','weekofyear'])"
      ],
      "execution_count": null,
      "outputs": []
    },
    {
      "cell_type": "markdown",
      "metadata": {
        "id": "YNKeeludldLK"
      },
      "source": [
        "We upload the test dataset in order to know how good our model is."
      ]
    },
    {
      "cell_type": "code",
      "metadata": {
        "id": "n_9j36noldLL"
      },
      "source": [
        "test = pd.read_csv('dengue_features_test.csv')"
      ],
      "execution_count": null,
      "outputs": []
    },
    {
      "cell_type": "markdown",
      "metadata": {
        "id": "vXVxVxN7ldLL"
      },
      "source": [
        "We fill the Nan values:"
      ]
    },
    {
      "cell_type": "code",
      "metadata": {
        "id": "Cl06OyeVldLL"
      },
      "source": [
        "train.fillna(method='ffill', inplace=True)\n",
        "test.fillna(method='ffill', inplace=True)"
      ],
      "execution_count": null,
      "outputs": []
    },
    {
      "cell_type": "code",
      "metadata": {
        "colab": {
          "base_uri": "https://localhost:8080/",
          "height": 439
        },
        "id": "xk5AH8sjldLL",
        "outputId": "b4dd3300-632e-444b-999f-f4cd7a4c0eb3"
      },
      "source": [
        "train"
      ],
      "execution_count": null,
      "outputs": [
        {
          "output_type": "execute_result",
          "data": {
            "text/html": [
              "<div>\n",
              "<style scoped>\n",
              "    .dataframe tbody tr th:only-of-type {\n",
              "        vertical-align: middle;\n",
              "    }\n",
              "\n",
              "    .dataframe tbody tr th {\n",
              "        vertical-align: top;\n",
              "    }\n",
              "\n",
              "    .dataframe thead th {\n",
              "        text-align: right;\n",
              "    }\n",
              "</style>\n",
              "<table border=\"1\" class=\"dataframe\">\n",
              "  <thead>\n",
              "    <tr style=\"text-align: right;\">\n",
              "      <th></th>\n",
              "      <th>city</th>\n",
              "      <th>year</th>\n",
              "      <th>weekofyear</th>\n",
              "      <th>week_start_date</th>\n",
              "      <th>ndvi_ne</th>\n",
              "      <th>ndvi_nw</th>\n",
              "      <th>ndvi_se</th>\n",
              "      <th>ndvi_sw</th>\n",
              "      <th>precipitation_amt_mm</th>\n",
              "      <th>reanalysis_air_temp_k</th>\n",
              "      <th>reanalysis_avg_temp_k</th>\n",
              "      <th>reanalysis_dew_point_temp_k</th>\n",
              "      <th>reanalysis_max_air_temp_k</th>\n",
              "      <th>reanalysis_min_air_temp_k</th>\n",
              "      <th>reanalysis_precip_amt_kg_per_m2</th>\n",
              "      <th>reanalysis_relative_humidity_percent</th>\n",
              "      <th>reanalysis_sat_precip_amt_mm</th>\n",
              "      <th>reanalysis_specific_humidity_g_per_kg</th>\n",
              "      <th>reanalysis_tdtr_k</th>\n",
              "      <th>station_avg_temp_c</th>\n",
              "      <th>station_diur_temp_rng_c</th>\n",
              "      <th>station_max_temp_c</th>\n",
              "      <th>station_min_temp_c</th>\n",
              "      <th>station_precip_mm</th>\n",
              "      <th>total_cases</th>\n",
              "    </tr>\n",
              "  </thead>\n",
              "  <tbody>\n",
              "    <tr>\n",
              "      <th>0</th>\n",
              "      <td>sj</td>\n",
              "      <td>1990</td>\n",
              "      <td>18</td>\n",
              "      <td>1990-04-30</td>\n",
              "      <td>0.122600</td>\n",
              "      <td>0.103725</td>\n",
              "      <td>0.198483</td>\n",
              "      <td>0.177617</td>\n",
              "      <td>12.42</td>\n",
              "      <td>297.572857</td>\n",
              "      <td>297.742857</td>\n",
              "      <td>292.414286</td>\n",
              "      <td>299.8</td>\n",
              "      <td>295.9</td>\n",
              "      <td>32.00</td>\n",
              "      <td>73.365714</td>\n",
              "      <td>12.42</td>\n",
              "      <td>14.012857</td>\n",
              "      <td>2.628571</td>\n",
              "      <td>25.442857</td>\n",
              "      <td>6.900000</td>\n",
              "      <td>29.4</td>\n",
              "      <td>20.0</td>\n",
              "      <td>16.0</td>\n",
              "      <td>4</td>\n",
              "    </tr>\n",
              "    <tr>\n",
              "      <th>1</th>\n",
              "      <td>sj</td>\n",
              "      <td>1990</td>\n",
              "      <td>19</td>\n",
              "      <td>1990-05-07</td>\n",
              "      <td>0.169900</td>\n",
              "      <td>0.142175</td>\n",
              "      <td>0.162357</td>\n",
              "      <td>0.155486</td>\n",
              "      <td>22.82</td>\n",
              "      <td>298.211429</td>\n",
              "      <td>298.442857</td>\n",
              "      <td>293.951429</td>\n",
              "      <td>300.9</td>\n",
              "      <td>296.4</td>\n",
              "      <td>17.94</td>\n",
              "      <td>77.368571</td>\n",
              "      <td>22.82</td>\n",
              "      <td>15.372857</td>\n",
              "      <td>2.371429</td>\n",
              "      <td>26.714286</td>\n",
              "      <td>6.371429</td>\n",
              "      <td>31.7</td>\n",
              "      <td>22.2</td>\n",
              "      <td>8.6</td>\n",
              "      <td>5</td>\n",
              "    </tr>\n",
              "    <tr>\n",
              "      <th>2</th>\n",
              "      <td>sj</td>\n",
              "      <td>1990</td>\n",
              "      <td>20</td>\n",
              "      <td>1990-05-14</td>\n",
              "      <td>0.032250</td>\n",
              "      <td>0.172967</td>\n",
              "      <td>0.157200</td>\n",
              "      <td>0.170843</td>\n",
              "      <td>34.54</td>\n",
              "      <td>298.781429</td>\n",
              "      <td>298.878571</td>\n",
              "      <td>295.434286</td>\n",
              "      <td>300.5</td>\n",
              "      <td>297.3</td>\n",
              "      <td>26.10</td>\n",
              "      <td>82.052857</td>\n",
              "      <td>34.54</td>\n",
              "      <td>16.848571</td>\n",
              "      <td>2.300000</td>\n",
              "      <td>26.714286</td>\n",
              "      <td>6.485714</td>\n",
              "      <td>32.2</td>\n",
              "      <td>22.8</td>\n",
              "      <td>41.4</td>\n",
              "      <td>4</td>\n",
              "    </tr>\n",
              "    <tr>\n",
              "      <th>3</th>\n",
              "      <td>sj</td>\n",
              "      <td>1990</td>\n",
              "      <td>21</td>\n",
              "      <td>1990-05-21</td>\n",
              "      <td>0.128633</td>\n",
              "      <td>0.245067</td>\n",
              "      <td>0.227557</td>\n",
              "      <td>0.235886</td>\n",
              "      <td>15.36</td>\n",
              "      <td>298.987143</td>\n",
              "      <td>299.228571</td>\n",
              "      <td>295.310000</td>\n",
              "      <td>301.4</td>\n",
              "      <td>297.0</td>\n",
              "      <td>13.90</td>\n",
              "      <td>80.337143</td>\n",
              "      <td>15.36</td>\n",
              "      <td>16.672857</td>\n",
              "      <td>2.428571</td>\n",
              "      <td>27.471429</td>\n",
              "      <td>6.771429</td>\n",
              "      <td>33.3</td>\n",
              "      <td>23.3</td>\n",
              "      <td>4.0</td>\n",
              "      <td>3</td>\n",
              "    </tr>\n",
              "    <tr>\n",
              "      <th>4</th>\n",
              "      <td>sj</td>\n",
              "      <td>1990</td>\n",
              "      <td>22</td>\n",
              "      <td>1990-05-28</td>\n",
              "      <td>0.196200</td>\n",
              "      <td>0.262200</td>\n",
              "      <td>0.251200</td>\n",
              "      <td>0.247340</td>\n",
              "      <td>7.52</td>\n",
              "      <td>299.518571</td>\n",
              "      <td>299.664286</td>\n",
              "      <td>295.821429</td>\n",
              "      <td>301.9</td>\n",
              "      <td>297.5</td>\n",
              "      <td>12.20</td>\n",
              "      <td>80.460000</td>\n",
              "      <td>7.52</td>\n",
              "      <td>17.210000</td>\n",
              "      <td>3.014286</td>\n",
              "      <td>28.942857</td>\n",
              "      <td>9.371429</td>\n",
              "      <td>35.0</td>\n",
              "      <td>23.9</td>\n",
              "      <td>5.8</td>\n",
              "      <td>6</td>\n",
              "    </tr>\n",
              "    <tr>\n",
              "      <th>...</th>\n",
              "      <td>...</td>\n",
              "      <td>...</td>\n",
              "      <td>...</td>\n",
              "      <td>...</td>\n",
              "      <td>...</td>\n",
              "      <td>...</td>\n",
              "      <td>...</td>\n",
              "      <td>...</td>\n",
              "      <td>...</td>\n",
              "      <td>...</td>\n",
              "      <td>...</td>\n",
              "      <td>...</td>\n",
              "      <td>...</td>\n",
              "      <td>...</td>\n",
              "      <td>...</td>\n",
              "      <td>...</td>\n",
              "      <td>...</td>\n",
              "      <td>...</td>\n",
              "      <td>...</td>\n",
              "      <td>...</td>\n",
              "      <td>...</td>\n",
              "      <td>...</td>\n",
              "      <td>...</td>\n",
              "      <td>...</td>\n",
              "      <td>...</td>\n",
              "    </tr>\n",
              "    <tr>\n",
              "      <th>1451</th>\n",
              "      <td>iq</td>\n",
              "      <td>2010</td>\n",
              "      <td>21</td>\n",
              "      <td>2010-05-28</td>\n",
              "      <td>0.342750</td>\n",
              "      <td>0.318900</td>\n",
              "      <td>0.256343</td>\n",
              "      <td>0.292514</td>\n",
              "      <td>55.30</td>\n",
              "      <td>299.334286</td>\n",
              "      <td>300.771429</td>\n",
              "      <td>296.825714</td>\n",
              "      <td>309.7</td>\n",
              "      <td>294.5</td>\n",
              "      <td>45.00</td>\n",
              "      <td>88.765714</td>\n",
              "      <td>55.30</td>\n",
              "      <td>18.485714</td>\n",
              "      <td>9.800000</td>\n",
              "      <td>28.633333</td>\n",
              "      <td>11.933333</td>\n",
              "      <td>35.4</td>\n",
              "      <td>22.4</td>\n",
              "      <td>27.0</td>\n",
              "      <td>5</td>\n",
              "    </tr>\n",
              "    <tr>\n",
              "      <th>1452</th>\n",
              "      <td>iq</td>\n",
              "      <td>2010</td>\n",
              "      <td>22</td>\n",
              "      <td>2010-06-04</td>\n",
              "      <td>0.160157</td>\n",
              "      <td>0.160371</td>\n",
              "      <td>0.136043</td>\n",
              "      <td>0.225657</td>\n",
              "      <td>86.47</td>\n",
              "      <td>298.330000</td>\n",
              "      <td>299.392857</td>\n",
              "      <td>296.452857</td>\n",
              "      <td>308.5</td>\n",
              "      <td>291.9</td>\n",
              "      <td>207.10</td>\n",
              "      <td>91.600000</td>\n",
              "      <td>86.47</td>\n",
              "      <td>18.070000</td>\n",
              "      <td>7.471429</td>\n",
              "      <td>27.433333</td>\n",
              "      <td>10.500000</td>\n",
              "      <td>34.7</td>\n",
              "      <td>21.7</td>\n",
              "      <td>36.6</td>\n",
              "      <td>8</td>\n",
              "    </tr>\n",
              "    <tr>\n",
              "      <th>1453</th>\n",
              "      <td>iq</td>\n",
              "      <td>2010</td>\n",
              "      <td>23</td>\n",
              "      <td>2010-06-11</td>\n",
              "      <td>0.247057</td>\n",
              "      <td>0.146057</td>\n",
              "      <td>0.250357</td>\n",
              "      <td>0.233714</td>\n",
              "      <td>58.94</td>\n",
              "      <td>296.598571</td>\n",
              "      <td>297.592857</td>\n",
              "      <td>295.501429</td>\n",
              "      <td>305.5</td>\n",
              "      <td>292.4</td>\n",
              "      <td>50.60</td>\n",
              "      <td>94.280000</td>\n",
              "      <td>58.94</td>\n",
              "      <td>17.008571</td>\n",
              "      <td>7.500000</td>\n",
              "      <td>24.400000</td>\n",
              "      <td>6.900000</td>\n",
              "      <td>32.2</td>\n",
              "      <td>19.2</td>\n",
              "      <td>7.4</td>\n",
              "      <td>1</td>\n",
              "    </tr>\n",
              "    <tr>\n",
              "      <th>1454</th>\n",
              "      <td>iq</td>\n",
              "      <td>2010</td>\n",
              "      <td>24</td>\n",
              "      <td>2010-06-18</td>\n",
              "      <td>0.333914</td>\n",
              "      <td>0.245771</td>\n",
              "      <td>0.278886</td>\n",
              "      <td>0.325486</td>\n",
              "      <td>59.67</td>\n",
              "      <td>296.345714</td>\n",
              "      <td>297.521429</td>\n",
              "      <td>295.324286</td>\n",
              "      <td>306.1</td>\n",
              "      <td>291.9</td>\n",
              "      <td>62.33</td>\n",
              "      <td>94.660000</td>\n",
              "      <td>59.67</td>\n",
              "      <td>16.815714</td>\n",
              "      <td>7.871429</td>\n",
              "      <td>25.433333</td>\n",
              "      <td>8.733333</td>\n",
              "      <td>31.2</td>\n",
              "      <td>21.0</td>\n",
              "      <td>16.0</td>\n",
              "      <td>1</td>\n",
              "    </tr>\n",
              "    <tr>\n",
              "      <th>1455</th>\n",
              "      <td>iq</td>\n",
              "      <td>2010</td>\n",
              "      <td>25</td>\n",
              "      <td>2010-06-25</td>\n",
              "      <td>0.298186</td>\n",
              "      <td>0.232971</td>\n",
              "      <td>0.274214</td>\n",
              "      <td>0.315757</td>\n",
              "      <td>63.22</td>\n",
              "      <td>298.097143</td>\n",
              "      <td>299.835714</td>\n",
              "      <td>295.807143</td>\n",
              "      <td>307.8</td>\n",
              "      <td>292.3</td>\n",
              "      <td>36.90</td>\n",
              "      <td>89.082857</td>\n",
              "      <td>63.22</td>\n",
              "      <td>17.355714</td>\n",
              "      <td>11.014286</td>\n",
              "      <td>27.475000</td>\n",
              "      <td>9.900000</td>\n",
              "      <td>33.7</td>\n",
              "      <td>22.2</td>\n",
              "      <td>20.4</td>\n",
              "      <td>4</td>\n",
              "    </tr>\n",
              "  </tbody>\n",
              "</table>\n",
              "<p>1456 rows × 25 columns</p>\n",
              "</div>"
            ],
            "text/plain": [
              "     city  year  weekofyear  ... station_min_temp_c  station_precip_mm  total_cases\n",
              "0      sj  1990          18  ...               20.0               16.0            4\n",
              "1      sj  1990          19  ...               22.2                8.6            5\n",
              "2      sj  1990          20  ...               22.8               41.4            4\n",
              "3      sj  1990          21  ...               23.3                4.0            3\n",
              "4      sj  1990          22  ...               23.9                5.8            6\n",
              "...   ...   ...         ...  ...                ...                ...          ...\n",
              "1451   iq  2010          21  ...               22.4               27.0            5\n",
              "1452   iq  2010          22  ...               21.7               36.6            8\n",
              "1453   iq  2010          23  ...               19.2                7.4            1\n",
              "1454   iq  2010          24  ...               21.0               16.0            1\n",
              "1455   iq  2010          25  ...               22.2               20.4            4\n",
              "\n",
              "[1456 rows x 25 columns]"
            ]
          },
          "metadata": {
            "tags": []
          },
          "execution_count": 21
        }
      ]
    },
    {
      "cell_type": "markdown",
      "metadata": {
        "id": "z8Hr9dAFldLL"
      },
      "source": [
        "\n",
        "We are going to select this features for our training:"
      ]
    },
    {
      "cell_type": "code",
      "metadata": {
        "id": "uwTk6E6_ldLM"
      },
      "source": [
        "selected_features = ['reanalysis_specific_humidity_g_per_kg', 'reanalysis_dew_point_temp_k', \n",
        "                 'station_avg_temp_c', 'station_min_temp_c']"
      ],
      "execution_count": null,
      "outputs": []
    },
    {
      "cell_type": "markdown",
      "metadata": {
        "id": "BrthgcFMldLM"
      },
      "source": [
        "Now we are going to know which sample is an outlier:"
      ]
    },
    {
      "cell_type": "code",
      "metadata": {
        "id": "_bEDFULKd2mV",
        "colab": {
          "base_uri": "https://localhost:8080/"
        },
        "outputId": "5f627d52-c45c-4ea3-9825-2b69160aa451"
      },
      "source": [
        "train_df = train[selected_features]\n",
        "train_df['total_cases'] = train['total_cases']"
      ],
      "execution_count": null,
      "outputs": [
        {
          "output_type": "stream",
          "text": [
            "/usr/local/lib/python3.6/dist-packages/ipykernel_launcher.py:2: SettingWithCopyWarning:\n",
            "\n",
            "\n",
            "A value is trying to be set on a copy of a slice from a DataFrame.\n",
            "Try using .loc[row_indexer,col_indexer] = value instead\n",
            "\n",
            "See the caveats in the documentation: https://pandas.pydata.org/pandas-docs/stable/user_guide/indexing.html#returning-a-view-versus-a-copy\n",
            "\n"
          ],
          "name": "stderr"
        }
      ]
    },
    {
      "cell_type": "markdown",
      "metadata": {
        "id": "nMySNPm0ldLM"
      },
      "source": [
        "We apply the PCA, first by normalizing the data:"
      ]
    },
    {
      "cell_type": "code",
      "metadata": {
        "id": "sfECszDId_JG"
      },
      "source": [
        "from sklearn import preprocessing \n",
        "scaler = preprocessing.MinMaxScaler()\n",
        "datanorm = scaler.fit_transform(train_df)"
      ],
      "execution_count": null,
      "outputs": []
    },
    {
      "cell_type": "markdown",
      "metadata": {
        "id": "Kxe9lohWldLN"
      },
      "source": [
        "We use 2 components and apply the PCA."
      ]
    },
    {
      "cell_type": "code",
      "metadata": {
        "id": "5melYdGneNYQ"
      },
      "source": [
        "#2. PCA Estimation\n",
        "from sklearn.decomposition import PCA\n",
        "estimator = PCA (n_components = 2)\n",
        "X_pca = estimator.fit_transform(datanorm)"
      ],
      "execution_count": null,
      "outputs": []
    },
    {
      "cell_type": "code",
      "metadata": {
        "colab": {
          "base_uri": "https://localhost:8080/"
        },
        "id": "mF5WmFteeSyx",
        "outputId": "6d588ed3-fab8-4453-fd86-f3fc7fc65473"
      },
      "source": [
        "print(estimator.explained_variance_ratio_) "
      ],
      "execution_count": null,
      "outputs": [
        {
          "output_type": "stream",
          "text": [
            "[0.76264458 0.10877373]\n"
          ],
          "name": "stdout"
        }
      ]
    },
    {
      "cell_type": "markdown",
      "metadata": {
        "id": "lRXw7XfAldLO"
      },
      "source": [
        "With this, we can now look for outliers, using DBSCAN."
      ]
    },
    {
      "cell_type": "markdown",
      "metadata": {
        "id": "n2yX1wRRldLO"
      },
      "source": [
        "We obtain first the similarity matrix to see how the data is."
      ]
    },
    {
      "cell_type": "code",
      "metadata": {
        "id": "lUEgW9_Gfhex"
      },
      "source": [
        "\n",
        "dist = sklearn.neighbors.DistanceMetric.get_metric('euclidean')\n",
        "matsim = dist.pairwise(datanorm)\n",
        "\n",
        "#fig = px.imshow(matsim)\n",
        "#fig.show()"
      ],
      "execution_count": null,
      "outputs": []
    },
    {
      "cell_type": "markdown",
      "metadata": {
        "id": "LADtyS5-ldLP"
      },
      "source": [
        "Now we compute the distance from each point to its neigbours:"
      ]
    },
    {
      "cell_type": "code",
      "metadata": {
        "id": "Q1S23j8yfxHC"
      },
      "source": [
        "minPts=3\n",
        "\n",
        "A = kneighbors_graph(datanorm, minPts, include_self=False)\n",
        "Ar = A.toarray()\n",
        "\n",
        "seq = []\n",
        "for i,s in enumerate(datanorm):\n",
        "    for j in range(len(datanorm)):\n",
        "        if Ar[i][j] != 0:\n",
        "            seq.append(matsim[i][j])\n",
        "            \n",
        "seq.sort()"
      ],
      "execution_count": null,
      "outputs": []
    },
    {
      "cell_type": "code",
      "metadata": {
        "colab": {
          "base_uri": "https://localhost:8080/",
          "height": 542
        },
        "id": "y22MJAJildLQ",
        "outputId": "790038e9-3a16-4942-a804-4281665658c9"
      },
      "source": [
        "fig = px.line(x=np.arange(0, len(seq), 1), y=seq)\n",
        "fig.show()"
      ],
      "execution_count": null,
      "outputs": [
        {
          "output_type": "display_data",
          "data": {
            "text/html": [
              "<html>\n",
              "<head><meta charset=\"utf-8\" /></head>\n",
              "<body>\n",
              "    <div>\n",
              "            <script src=\"https://cdnjs.cloudflare.com/ajax/libs/mathjax/2.7.5/MathJax.js?config=TeX-AMS-MML_SVG\"></script><script type=\"text/javascript\">if (window.MathJax) {MathJax.Hub.Config({SVG: {font: \"STIX-Web\"}});}</script>\n",
              "                <script type=\"text/javascript\">window.PlotlyConfig = {MathJaxConfig: 'local'};</script>\n",
              "        <script src=\"https://cdn.plot.ly/plotly-latest.min.js\"></script>    \n",
              "            <div id=\"d5bb2b89-5b68-4d0f-b1c9-e1da26427008\" class=\"plotly-graph-div\" style=\"height:525px; width:100%;\"></div>\n",
              "            <script type=\"text/javascript\">\n",
              "                \n",
              "                    window.PLOTLYENV=window.PLOTLYENV || {};\n",
              "                    \n",
              "                if (document.getElementById(\"d5bb2b89-5b68-4d0f-b1c9-e1da26427008\")) {\n",
              "                    Plotly.newPlot(\n",
              "                        'd5bb2b89-5b68-4d0f-b1c9-e1da26427008',\n",
              "                        [{\"hoverlabel\": {\"namelength\": 0}, \"hovertemplate\": \"x=%{x}<br>y=%{y}\", \"legendgroup\": \"\", \"line\": {\"color\": \"#636efa\", \"dash\": \"solid\"}, \"mode\": \"lines\", \"name\": \"\", \"showlegend\": false, \"type\": \"scattergl\", \"x\": [0, 1, 2, 3, 4, 5, 6, 7, 8, 9, 10, 11, 12, 13, 14, 15, 16, 17, 18, 19, 20, 21, 22, 23, 24, 25, 26, 27, 28, 29, 30, 31, 32, 33, 34, 35, 36, 37, 38, 39, 40, 41, 42, 43, 44, 45, 46, 47, 48, 49, 50, 51, 52, 53, 54, 55, 56, 57, 58, 59, 60, 61, 62, 63, 64, 65, 66, 67, 68, 69, 70, 71, 72, 73, 74, 75, 76, 77, 78, 79, 80, 81, 82, 83, 84, 85, 86, 87, 88, 89, 90, 91, 92, 93, 94, 95, 96, 97, 98, 99, 100, 101, 102, 103, 104, 105, 106, 107, 108, 109, 110, 111, 112, 113, 114, 115, 116, 117, 118, 119, 120, 121, 122, 123, 124, 125, 126, 127, 128, 129, 130, 131, 132, 133, 134, 135, 136, 137, 138, 139, 140, 141, 142, 143, 144, 145, 146, 147, 148, 149, 150, 151, 152, 153, 154, 155, 156, 157, 158, 159, 160, 161, 162, 163, 164, 165, 166, 167, 168, 169, 170, 171, 172, 173, 174, 175, 176, 177, 178, 179, 180, 181, 182, 183, 184, 185, 186, 187, 188, 189, 190, 191, 192, 193, 194, 195, 196, 197, 198, 199, 200, 201, 202, 203, 204, 205, 206, 207, 208, 209, 210, 211, 212, 213, 214, 215, 216, 217, 218, 219, 220, 221, 222, 223, 224, 225, 226, 227, 228, 229, 230, 231, 232, 233, 234, 235, 236, 237, 238, 239, 240, 241, 242, 243, 244, 245, 246, 247, 248, 249, 250, 251, 252, 253, 254, 255, 256, 257, 258, 259, 260, 261, 262, 263, 264, 265, 266, 267, 268, 269, 270, 271, 272, 273, 274, 275, 276, 277, 278, 279, 280, 281, 282, 283, 284, 285, 286, 287, 288, 289, 290, 291, 292, 293, 294, 295, 296, 297, 298, 299, 300, 301, 302, 303, 304, 305, 306, 307, 308, 309, 310, 311, 312, 313, 314, 315, 316, 317, 318, 319, 320, 321, 322, 323, 324, 325, 326, 327, 328, 329, 330, 331, 332, 333, 334, 335, 336, 337, 338, 339, 340, 341, 342, 343, 344, 345, 346, 347, 348, 349, 350, 351, 352, 353, 354, 355, 356, 357, 358, 359, 360, 361, 362, 363, 364, 365, 366, 367, 368, 369, 370, 371, 372, 373, 374, 375, 376, 377, 378, 379, 380, 381, 382, 383, 384, 385, 386, 387, 388, 389, 390, 391, 392, 393, 394, 395, 396, 397, 398, 399, 400, 401, 402, 403, 404, 405, 406, 407, 408, 409, 410, 411, 412, 413, 414, 415, 416, 417, 418, 419, 420, 421, 422, 423, 424, 425, 426, 427, 428, 429, 430, 431, 432, 433, 434, 435, 436, 437, 438, 439, 440, 441, 442, 443, 444, 445, 446, 447, 448, 449, 450, 451, 452, 453, 454, 455, 456, 457, 458, 459, 460, 461, 462, 463, 464, 465, 466, 467, 468, 469, 470, 471, 472, 473, 474, 475, 476, 477, 478, 479, 480, 481, 482, 483, 484, 485, 486, 487, 488, 489, 490, 491, 492, 493, 494, 495, 496, 497, 498, 499, 500, 501, 502, 503, 504, 505, 506, 507, 508, 509, 510, 511, 512, 513, 514, 515, 516, 517, 518, 519, 520, 521, 522, 523, 524, 525, 526, 527, 528, 529, 530, 531, 532, 533, 534, 535, 536, 537, 538, 539, 540, 541, 542, 543, 544, 545, 546, 547, 548, 549, 550, 551, 552, 553, 554, 555, 556, 557, 558, 559, 560, 561, 562, 563, 564, 565, 566, 567, 568, 569, 570, 571, 572, 573, 574, 575, 576, 577, 578, 579, 580, 581, 582, 583, 584, 585, 586, 587, 588, 589, 590, 591, 592, 593, 594, 595, 596, 597, 598, 599, 600, 601, 602, 603, 604, 605, 606, 607, 608, 609, 610, 611, 612, 613, 614, 615, 616, 617, 618, 619, 620, 621, 622, 623, 624, 625, 626, 627, 628, 629, 630, 631, 632, 633, 634, 635, 636, 637, 638, 639, 640, 641, 642, 643, 644, 645, 646, 647, 648, 649, 650, 651, 652, 653, 654, 655, 656, 657, 658, 659, 660, 661, 662, 663, 664, 665, 666, 667, 668, 669, 670, 671, 672, 673, 674, 675, 676, 677, 678, 679, 680, 681, 682, 683, 684, 685, 686, 687, 688, 689, 690, 691, 692, 693, 694, 695, 696, 697, 698, 699, 700, 701, 702, 703, 704, 705, 706, 707, 708, 709, 710, 711, 712, 713, 714, 715, 716, 717, 718, 719, 720, 721, 722, 723, 724, 725, 726, 727, 728, 729, 730, 731, 732, 733, 734, 735, 736, 737, 738, 739, 740, 741, 742, 743, 744, 745, 746, 747, 748, 749, 750, 751, 752, 753, 754, 755, 756, 757, 758, 759, 760, 761, 762, 763, 764, 765, 766, 767, 768, 769, 770, 771, 772, 773, 774, 775, 776, 777, 778, 779, 780, 781, 782, 783, 784, 785, 786, 787, 788, 789, 790, 791, 792, 793, 794, 795, 796, 797, 798, 799, 800, 801, 802, 803, 804, 805, 806, 807, 808, 809, 810, 811, 812, 813, 814, 815, 816, 817, 818, 819, 820, 821, 822, 823, 824, 825, 826, 827, 828, 829, 830, 831, 832, 833, 834, 835, 836, 837, 838, 839, 840, 841, 842, 843, 844, 845, 846, 847, 848, 849, 850, 851, 852, 853, 854, 855, 856, 857, 858, 859, 860, 861, 862, 863, 864, 865, 866, 867, 868, 869, 870, 871, 872, 873, 874, 875, 876, 877, 878, 879, 880, 881, 882, 883, 884, 885, 886, 887, 888, 889, 890, 891, 892, 893, 894, 895, 896, 897, 898, 899, 900, 901, 902, 903, 904, 905, 906, 907, 908, 909, 910, 911, 912, 913, 914, 915, 916, 917, 918, 919, 920, 921, 922, 923, 924, 925, 926, 927, 928, 929, 930, 931, 932, 933, 934, 935, 936, 937, 938, 939, 940, 941, 942, 943, 944, 945, 946, 947, 948, 949, 950, 951, 952, 953, 954, 955, 956, 957, 958, 959, 960, 961, 962, 963, 964, 965, 966, 967, 968, 969, 970, 971, 972, 973, 974, 975, 976, 977, 978, 979, 980, 981, 982, 983, 984, 985, 986, 987, 988, 989, 990, 991, 992, 993, 994, 995, 996, 997, 998, 999, 1000, 1001, 1002, 1003, 1004, 1005, 1006, 1007, 1008, 1009, 1010, 1011, 1012, 1013, 1014, 1015, 1016, 1017, 1018, 1019, 1020, 1021, 1022, 1023, 1024, 1025, 1026, 1027, 1028, 1029, 1030, 1031, 1032, 1033, 1034, 1035, 1036, 1037, 1038, 1039, 1040, 1041, 1042, 1043, 1044, 1045, 1046, 1047, 1048, 1049, 1050, 1051, 1052, 1053, 1054, 1055, 1056, 1057, 1058, 1059, 1060, 1061, 1062, 1063, 1064, 1065, 1066, 1067, 1068, 1069, 1070, 1071, 1072, 1073, 1074, 1075, 1076, 1077, 1078, 1079, 1080, 1081, 1082, 1083, 1084, 1085, 1086, 1087, 1088, 1089, 1090, 1091, 1092, 1093, 1094, 1095, 1096, 1097, 1098, 1099, 1100, 1101, 1102, 1103, 1104, 1105, 1106, 1107, 1108, 1109, 1110, 1111, 1112, 1113, 1114, 1115, 1116, 1117, 1118, 1119, 1120, 1121, 1122, 1123, 1124, 1125, 1126, 1127, 1128, 1129, 1130, 1131, 1132, 1133, 1134, 1135, 1136, 1137, 1138, 1139, 1140, 1141, 1142, 1143, 1144, 1145, 1146, 1147, 1148, 1149, 1150, 1151, 1152, 1153, 1154, 1155, 1156, 1157, 1158, 1159, 1160, 1161, 1162, 1163, 1164, 1165, 1166, 1167, 1168, 1169, 1170, 1171, 1172, 1173, 1174, 1175, 1176, 1177, 1178, 1179, 1180, 1181, 1182, 1183, 1184, 1185, 1186, 1187, 1188, 1189, 1190, 1191, 1192, 1193, 1194, 1195, 1196, 1197, 1198, 1199, 1200, 1201, 1202, 1203, 1204, 1205, 1206, 1207, 1208, 1209, 1210, 1211, 1212, 1213, 1214, 1215, 1216, 1217, 1218, 1219, 1220, 1221, 1222, 1223, 1224, 1225, 1226, 1227, 1228, 1229, 1230, 1231, 1232, 1233, 1234, 1235, 1236, 1237, 1238, 1239, 1240, 1241, 1242, 1243, 1244, 1245, 1246, 1247, 1248, 1249, 1250, 1251, 1252, 1253, 1254, 1255, 1256, 1257, 1258, 1259, 1260, 1261, 1262, 1263, 1264, 1265, 1266, 1267, 1268, 1269, 1270, 1271, 1272, 1273, 1274, 1275, 1276, 1277, 1278, 1279, 1280, 1281, 1282, 1283, 1284, 1285, 1286, 1287, 1288, 1289, 1290, 1291, 1292, 1293, 1294, 1295, 1296, 1297, 1298, 1299, 1300, 1301, 1302, 1303, 1304, 1305, 1306, 1307, 1308, 1309, 1310, 1311, 1312, 1313, 1314, 1315, 1316, 1317, 1318, 1319, 1320, 1321, 1322, 1323, 1324, 1325, 1326, 1327, 1328, 1329, 1330, 1331, 1332, 1333, 1334, 1335, 1336, 1337, 1338, 1339, 1340, 1341, 1342, 1343, 1344, 1345, 1346, 1347, 1348, 1349, 1350, 1351, 1352, 1353, 1354, 1355, 1356, 1357, 1358, 1359, 1360, 1361, 1362, 1363, 1364, 1365, 1366, 1367, 1368, 1369, 1370, 1371, 1372, 1373, 1374, 1375, 1376, 1377, 1378, 1379, 1380, 1381, 1382, 1383, 1384, 1385, 1386, 1387, 1388, 1389, 1390, 1391, 1392, 1393, 1394, 1395, 1396, 1397, 1398, 1399, 1400, 1401, 1402, 1403, 1404, 1405, 1406, 1407, 1408, 1409, 1410, 1411, 1412, 1413, 1414, 1415, 1416, 1417, 1418, 1419, 1420, 1421, 1422, 1423, 1424, 1425, 1426, 1427, 1428, 1429, 1430, 1431, 1432, 1433, 1434, 1435, 1436, 1437, 1438, 1439, 1440, 1441, 1442, 1443, 1444, 1445, 1446, 1447, 1448, 1449, 1450, 1451, 1452, 1453, 1454, 1455, 1456, 1457, 1458, 1459, 1460, 1461, 1462, 1463, 1464, 1465, 1466, 1467, 1468, 1469, 1470, 1471, 1472, 1473, 1474, 1475, 1476, 1477, 1478, 1479, 1480, 1481, 1482, 1483, 1484, 1485, 1486, 1487, 1488, 1489, 1490, 1491, 1492, 1493, 1494, 1495, 1496, 1497, 1498, 1499, 1500, 1501, 1502, 1503, 1504, 1505, 1506, 1507, 1508, 1509, 1510, 1511, 1512, 1513, 1514, 1515, 1516, 1517, 1518, 1519, 1520, 1521, 1522, 1523, 1524, 1525, 1526, 1527, 1528, 1529, 1530, 1531, 1532, 1533, 1534, 1535, 1536, 1537, 1538, 1539, 1540, 1541, 1542, 1543, 1544, 1545, 1546, 1547, 1548, 1549, 1550, 1551, 1552, 1553, 1554, 1555, 1556, 1557, 1558, 1559, 1560, 1561, 1562, 1563, 1564, 1565, 1566, 1567, 1568, 1569, 1570, 1571, 1572, 1573, 1574, 1575, 1576, 1577, 1578, 1579, 1580, 1581, 1582, 1583, 1584, 1585, 1586, 1587, 1588, 1589, 1590, 1591, 1592, 1593, 1594, 1595, 1596, 1597, 1598, 1599, 1600, 1601, 1602, 1603, 1604, 1605, 1606, 1607, 1608, 1609, 1610, 1611, 1612, 1613, 1614, 1615, 1616, 1617, 1618, 1619, 1620, 1621, 1622, 1623, 1624, 1625, 1626, 1627, 1628, 1629, 1630, 1631, 1632, 1633, 1634, 1635, 1636, 1637, 1638, 1639, 1640, 1641, 1642, 1643, 1644, 1645, 1646, 1647, 1648, 1649, 1650, 1651, 1652, 1653, 1654, 1655, 1656, 1657, 1658, 1659, 1660, 1661, 1662, 1663, 1664, 1665, 1666, 1667, 1668, 1669, 1670, 1671, 1672, 1673, 1674, 1675, 1676, 1677, 1678, 1679, 1680, 1681, 1682, 1683, 1684, 1685, 1686, 1687, 1688, 1689, 1690, 1691, 1692, 1693, 1694, 1695, 1696, 1697, 1698, 1699, 1700, 1701, 1702, 1703, 1704, 1705, 1706, 1707, 1708, 1709, 1710, 1711, 1712, 1713, 1714, 1715, 1716, 1717, 1718, 1719, 1720, 1721, 1722, 1723, 1724, 1725, 1726, 1727, 1728, 1729, 1730, 1731, 1732, 1733, 1734, 1735, 1736, 1737, 1738, 1739, 1740, 1741, 1742, 1743, 1744, 1745, 1746, 1747, 1748, 1749, 1750, 1751, 1752, 1753, 1754, 1755, 1756, 1757, 1758, 1759, 1760, 1761, 1762, 1763, 1764, 1765, 1766, 1767, 1768, 1769, 1770, 1771, 1772, 1773, 1774, 1775, 1776, 1777, 1778, 1779, 1780, 1781, 1782, 1783, 1784, 1785, 1786, 1787, 1788, 1789, 1790, 1791, 1792, 1793, 1794, 1795, 1796, 1797, 1798, 1799, 1800, 1801, 1802, 1803, 1804, 1805, 1806, 1807, 1808, 1809, 1810, 1811, 1812, 1813, 1814, 1815, 1816, 1817, 1818, 1819, 1820, 1821, 1822, 1823, 1824, 1825, 1826, 1827, 1828, 1829, 1830, 1831, 1832, 1833, 1834, 1835, 1836, 1837, 1838, 1839, 1840, 1841, 1842, 1843, 1844, 1845, 1846, 1847, 1848, 1849, 1850, 1851, 1852, 1853, 1854, 1855, 1856, 1857, 1858, 1859, 1860, 1861, 1862, 1863, 1864, 1865, 1866, 1867, 1868, 1869, 1870, 1871, 1872, 1873, 1874, 1875, 1876, 1877, 1878, 1879, 1880, 1881, 1882, 1883, 1884, 1885, 1886, 1887, 1888, 1889, 1890, 1891, 1892, 1893, 1894, 1895, 1896, 1897, 1898, 1899, 1900, 1901, 1902, 1903, 1904, 1905, 1906, 1907, 1908, 1909, 1910, 1911, 1912, 1913, 1914, 1915, 1916, 1917, 1918, 1919, 1920, 1921, 1922, 1923, 1924, 1925, 1926, 1927, 1928, 1929, 1930, 1931, 1932, 1933, 1934, 1935, 1936, 1937, 1938, 1939, 1940, 1941, 1942, 1943, 1944, 1945, 1946, 1947, 1948, 1949, 1950, 1951, 1952, 1953, 1954, 1955, 1956, 1957, 1958, 1959, 1960, 1961, 1962, 1963, 1964, 1965, 1966, 1967, 1968, 1969, 1970, 1971, 1972, 1973, 1974, 1975, 1976, 1977, 1978, 1979, 1980, 1981, 1982, 1983, 1984, 1985, 1986, 1987, 1988, 1989, 1990, 1991, 1992, 1993, 1994, 1995, 1996, 1997, 1998, 1999, 2000, 2001, 2002, 2003, 2004, 2005, 2006, 2007, 2008, 2009, 2010, 2011, 2012, 2013, 2014, 2015, 2016, 2017, 2018, 2019, 2020, 2021, 2022, 2023, 2024, 2025, 2026, 2027, 2028, 2029, 2030, 2031, 2032, 2033, 2034, 2035, 2036, 2037, 2038, 2039, 2040, 2041, 2042, 2043, 2044, 2045, 2046, 2047, 2048, 2049, 2050, 2051, 2052, 2053, 2054, 2055, 2056, 2057, 2058, 2059, 2060, 2061, 2062, 2063, 2064, 2065, 2066, 2067, 2068, 2069, 2070, 2071, 2072, 2073, 2074, 2075, 2076, 2077, 2078, 2079, 2080, 2081, 2082, 2083, 2084, 2085, 2086, 2087, 2088, 2089, 2090, 2091, 2092, 2093, 2094, 2095, 2096, 2097, 2098, 2099, 2100, 2101, 2102, 2103, 2104, 2105, 2106, 2107, 2108, 2109, 2110, 2111, 2112, 2113, 2114, 2115, 2116, 2117, 2118, 2119, 2120, 2121, 2122, 2123, 2124, 2125, 2126, 2127, 2128, 2129, 2130, 2131, 2132, 2133, 2134, 2135, 2136, 2137, 2138, 2139, 2140, 2141, 2142, 2143, 2144, 2145, 2146, 2147, 2148, 2149, 2150, 2151, 2152, 2153, 2154, 2155, 2156, 2157, 2158, 2159, 2160, 2161, 2162, 2163, 2164, 2165, 2166, 2167, 2168, 2169, 2170, 2171, 2172, 2173, 2174, 2175, 2176, 2177, 2178, 2179, 2180, 2181, 2182, 2183, 2184, 2185, 2186, 2187, 2188, 2189, 2190, 2191, 2192, 2193, 2194, 2195, 2196, 2197, 2198, 2199, 2200, 2201, 2202, 2203, 2204, 2205, 2206, 2207, 2208, 2209, 2210, 2211, 2212, 2213, 2214, 2215, 2216, 2217, 2218, 2219, 2220, 2221, 2222, 2223, 2224, 2225, 2226, 2227, 2228, 2229, 2230, 2231, 2232, 2233, 2234, 2235, 2236, 2237, 2238, 2239, 2240, 2241, 2242, 2243, 2244, 2245, 2246, 2247, 2248, 2249, 2250, 2251, 2252, 2253, 2254, 2255, 2256, 2257, 2258, 2259, 2260, 2261, 2262, 2263, 2264, 2265, 2266, 2267, 2268, 2269, 2270, 2271, 2272, 2273, 2274, 2275, 2276, 2277, 2278, 2279, 2280, 2281, 2282, 2283, 2284, 2285, 2286, 2287, 2288, 2289, 2290, 2291, 2292, 2293, 2294, 2295, 2296, 2297, 2298, 2299, 2300, 2301, 2302, 2303, 2304, 2305, 2306, 2307, 2308, 2309, 2310, 2311, 2312, 2313, 2314, 2315, 2316, 2317, 2318, 2319, 2320, 2321, 2322, 2323, 2324, 2325, 2326, 2327, 2328, 2329, 2330, 2331, 2332, 2333, 2334, 2335, 2336, 2337, 2338, 2339, 2340, 2341, 2342, 2343, 2344, 2345, 2346, 2347, 2348, 2349, 2350, 2351, 2352, 2353, 2354, 2355, 2356, 2357, 2358, 2359, 2360, 2361, 2362, 2363, 2364, 2365, 2366, 2367, 2368, 2369, 2370, 2371, 2372, 2373, 2374, 2375, 2376, 2377, 2378, 2379, 2380, 2381, 2382, 2383, 2384, 2385, 2386, 2387, 2388, 2389, 2390, 2391, 2392, 2393, 2394, 2395, 2396, 2397, 2398, 2399, 2400, 2401, 2402, 2403, 2404, 2405, 2406, 2407, 2408, 2409, 2410, 2411, 2412, 2413, 2414, 2415, 2416, 2417, 2418, 2419, 2420, 2421, 2422, 2423, 2424, 2425, 2426, 2427, 2428, 2429, 2430, 2431, 2432, 2433, 2434, 2435, 2436, 2437, 2438, 2439, 2440, 2441, 2442, 2443, 2444, 2445, 2446, 2447, 2448, 2449, 2450, 2451, 2452, 2453, 2454, 2455, 2456, 2457, 2458, 2459, 2460, 2461, 2462, 2463, 2464, 2465, 2466, 2467, 2468, 2469, 2470, 2471, 2472, 2473, 2474, 2475, 2476, 2477, 2478, 2479, 2480, 2481, 2482, 2483, 2484, 2485, 2486, 2487, 2488, 2489, 2490, 2491, 2492, 2493, 2494, 2495, 2496, 2497, 2498, 2499, 2500, 2501, 2502, 2503, 2504, 2505, 2506, 2507, 2508, 2509, 2510, 2511, 2512, 2513, 2514, 2515, 2516, 2517, 2518, 2519, 2520, 2521, 2522, 2523, 2524, 2525, 2526, 2527, 2528, 2529, 2530, 2531, 2532, 2533, 2534, 2535, 2536, 2537, 2538, 2539, 2540, 2541, 2542, 2543, 2544, 2545, 2546, 2547, 2548, 2549, 2550, 2551, 2552, 2553, 2554, 2555, 2556, 2557, 2558, 2559, 2560, 2561, 2562, 2563, 2564, 2565, 2566, 2567, 2568, 2569, 2570, 2571, 2572, 2573, 2574, 2575, 2576, 2577, 2578, 2579, 2580, 2581, 2582, 2583, 2584, 2585, 2586, 2587, 2588, 2589, 2590, 2591, 2592, 2593, 2594, 2595, 2596, 2597, 2598, 2599, 2600, 2601, 2602, 2603, 2604, 2605, 2606, 2607, 2608, 2609, 2610, 2611, 2612, 2613, 2614, 2615, 2616, 2617, 2618, 2619, 2620, 2621, 2622, 2623, 2624, 2625, 2626, 2627, 2628, 2629, 2630, 2631, 2632, 2633, 2634, 2635, 2636, 2637, 2638, 2639, 2640, 2641, 2642, 2643, 2644, 2645, 2646, 2647, 2648, 2649, 2650, 2651, 2652, 2653, 2654, 2655, 2656, 2657, 2658, 2659, 2660, 2661, 2662, 2663, 2664, 2665, 2666, 2667, 2668, 2669, 2670, 2671, 2672, 2673, 2674, 2675, 2676, 2677, 2678, 2679, 2680, 2681, 2682, 2683, 2684, 2685, 2686, 2687, 2688, 2689, 2690, 2691, 2692, 2693, 2694, 2695, 2696, 2697, 2698, 2699, 2700, 2701, 2702, 2703, 2704, 2705, 2706, 2707, 2708, 2709, 2710, 2711, 2712, 2713, 2714, 2715, 2716, 2717, 2718, 2719, 2720, 2721, 2722, 2723, 2724, 2725, 2726, 2727, 2728, 2729, 2730, 2731, 2732, 2733, 2734, 2735, 2736, 2737, 2738, 2739, 2740, 2741, 2742, 2743, 2744, 2745, 2746, 2747, 2748, 2749, 2750, 2751, 2752, 2753, 2754, 2755, 2756, 2757, 2758, 2759, 2760, 2761, 2762, 2763, 2764, 2765, 2766, 2767, 2768, 2769, 2770, 2771, 2772, 2773, 2774, 2775, 2776, 2777, 2778, 2779, 2780, 2781, 2782, 2783, 2784, 2785, 2786, 2787, 2788, 2789, 2790, 2791, 2792, 2793, 2794, 2795, 2796, 2797, 2798, 2799, 2800, 2801, 2802, 2803, 2804, 2805, 2806, 2807, 2808, 2809, 2810, 2811, 2812, 2813, 2814, 2815, 2816, 2817, 2818, 2819, 2820, 2821, 2822, 2823, 2824, 2825, 2826, 2827, 2828, 2829, 2830, 2831, 2832, 2833, 2834, 2835, 2836, 2837, 2838, 2839, 2840, 2841, 2842, 2843, 2844, 2845, 2846, 2847, 2848, 2849, 2850, 2851, 2852, 2853, 2854, 2855, 2856, 2857, 2858, 2859, 2860, 2861, 2862, 2863, 2864, 2865, 2866, 2867, 2868, 2869, 2870, 2871, 2872, 2873, 2874, 2875, 2876, 2877, 2878, 2879, 2880, 2881, 2882, 2883, 2884, 2885, 2886, 2887, 2888, 2889, 2890, 2891, 2892, 2893, 2894, 2895, 2896, 2897, 2898, 2899, 2900, 2901, 2902, 2903, 2904, 2905, 2906, 2907, 2908, 2909, 2910, 2911, 2912, 2913, 2914, 2915, 2916, 2917, 2918, 2919, 2920, 2921, 2922, 2923, 2924, 2925, 2926, 2927, 2928, 2929, 2930, 2931, 2932, 2933, 2934, 2935, 2936, 2937, 2938, 2939, 2940, 2941, 2942, 2943, 2944, 2945, 2946, 2947, 2948, 2949, 2950, 2951, 2952, 2953, 2954, 2955, 2956, 2957, 2958, 2959, 2960, 2961, 2962, 2963, 2964, 2965, 2966, 2967, 2968, 2969, 2970, 2971, 2972, 2973, 2974, 2975, 2976, 2977, 2978, 2979, 2980, 2981, 2982, 2983, 2984, 2985, 2986, 2987, 2988, 2989, 2990, 2991, 2992, 2993, 2994, 2995, 2996, 2997, 2998, 2999, 3000, 3001, 3002, 3003, 3004, 3005, 3006, 3007, 3008, 3009, 3010, 3011, 3012, 3013, 3014, 3015, 3016, 3017, 3018, 3019, 3020, 3021, 3022, 3023, 3024, 3025, 3026, 3027, 3028, 3029, 3030, 3031, 3032, 3033, 3034, 3035, 3036, 3037, 3038, 3039, 3040, 3041, 3042, 3043, 3044, 3045, 3046, 3047, 3048, 3049, 3050, 3051, 3052, 3053, 3054, 3055, 3056, 3057, 3058, 3059, 3060, 3061, 3062, 3063, 3064, 3065, 3066, 3067, 3068, 3069, 3070, 3071, 3072, 3073, 3074, 3075, 3076, 3077, 3078, 3079, 3080, 3081, 3082, 3083, 3084, 3085, 3086, 3087, 3088, 3089, 3090, 3091, 3092, 3093, 3094, 3095, 3096, 3097, 3098, 3099, 3100, 3101, 3102, 3103, 3104, 3105, 3106, 3107, 3108, 3109, 3110, 3111, 3112, 3113, 3114, 3115, 3116, 3117, 3118, 3119, 3120, 3121, 3122, 3123, 3124, 3125, 3126, 3127, 3128, 3129, 3130, 3131, 3132, 3133, 3134, 3135, 3136, 3137, 3138, 3139, 3140, 3141, 3142, 3143, 3144, 3145, 3146, 3147, 3148, 3149, 3150, 3151, 3152, 3153, 3154, 3155, 3156, 3157, 3158, 3159, 3160, 3161, 3162, 3163, 3164, 3165, 3166, 3167, 3168, 3169, 3170, 3171, 3172, 3173, 3174, 3175, 3176, 3177, 3178, 3179, 3180, 3181, 3182, 3183, 3184, 3185, 3186, 3187, 3188, 3189, 3190, 3191, 3192, 3193, 3194, 3195, 3196, 3197, 3198, 3199, 3200, 3201, 3202, 3203, 3204, 3205, 3206, 3207, 3208, 3209, 3210, 3211, 3212, 3213, 3214, 3215, 3216, 3217, 3218, 3219, 3220, 3221, 3222, 3223, 3224, 3225, 3226, 3227, 3228, 3229, 3230, 3231, 3232, 3233, 3234, 3235, 3236, 3237, 3238, 3239, 3240, 3241, 3242, 3243, 3244, 3245, 3246, 3247, 3248, 3249, 3250, 3251, 3252, 3253, 3254, 3255, 3256, 3257, 3258, 3259, 3260, 3261, 3262, 3263, 3264, 3265, 3266, 3267, 3268, 3269, 3270, 3271, 3272, 3273, 3274, 3275, 3276, 3277, 3278, 3279, 3280, 3281, 3282, 3283, 3284, 3285, 3286, 3287, 3288, 3289, 3290, 3291, 3292, 3293, 3294, 3295, 3296, 3297, 3298, 3299, 3300, 3301, 3302, 3303, 3304, 3305, 3306, 3307, 3308, 3309, 3310, 3311, 3312, 3313, 3314, 3315, 3316, 3317, 3318, 3319, 3320, 3321, 3322, 3323, 3324, 3325, 3326, 3327, 3328, 3329, 3330, 3331, 3332, 3333, 3334, 3335, 3336, 3337, 3338, 3339, 3340, 3341, 3342, 3343, 3344, 3345, 3346, 3347, 3348, 3349, 3350, 3351, 3352, 3353, 3354, 3355, 3356, 3357, 3358, 3359, 3360, 3361, 3362, 3363, 3364, 3365, 3366, 3367, 3368, 3369, 3370, 3371, 3372, 3373, 3374, 3375, 3376, 3377, 3378, 3379, 3380, 3381, 3382, 3383, 3384, 3385, 3386, 3387, 3388, 3389, 3390, 3391, 3392, 3393, 3394, 3395, 3396, 3397, 3398, 3399, 3400, 3401, 3402, 3403, 3404, 3405, 3406, 3407, 3408, 3409, 3410, 3411, 3412, 3413, 3414, 3415, 3416, 3417, 3418, 3419, 3420, 3421, 3422, 3423, 3424, 3425, 3426, 3427, 3428, 3429, 3430, 3431, 3432, 3433, 3434, 3435, 3436, 3437, 3438, 3439, 3440, 3441, 3442, 3443, 3444, 3445, 3446, 3447, 3448, 3449, 3450, 3451, 3452, 3453, 3454, 3455, 3456, 3457, 3458, 3459, 3460, 3461, 3462, 3463, 3464, 3465, 3466, 3467, 3468, 3469, 3470, 3471, 3472, 3473, 3474, 3475, 3476, 3477, 3478, 3479, 3480, 3481, 3482, 3483, 3484, 3485, 3486, 3487, 3488, 3489, 3490, 3491, 3492, 3493, 3494, 3495, 3496, 3497, 3498, 3499, 3500, 3501, 3502, 3503, 3504, 3505, 3506, 3507, 3508, 3509, 3510, 3511, 3512, 3513, 3514, 3515, 3516, 3517, 3518, 3519, 3520, 3521, 3522, 3523, 3524, 3525, 3526, 3527, 3528, 3529, 3530, 3531, 3532, 3533, 3534, 3535, 3536, 3537, 3538, 3539, 3540, 3541, 3542, 3543, 3544, 3545, 3546, 3547, 3548, 3549, 3550, 3551, 3552, 3553, 3554, 3555, 3556, 3557, 3558, 3559, 3560, 3561, 3562, 3563, 3564, 3565, 3566, 3567, 3568, 3569, 3570, 3571, 3572, 3573, 3574, 3575, 3576, 3577, 3578, 3579, 3580, 3581, 3582, 3583, 3584, 3585, 3586, 3587, 3588, 3589, 3590, 3591, 3592, 3593, 3594, 3595, 3596, 3597, 3598, 3599, 3600, 3601, 3602, 3603, 3604, 3605, 3606, 3607, 3608, 3609, 3610, 3611, 3612, 3613, 3614, 3615, 3616, 3617, 3618, 3619, 3620, 3621, 3622, 3623, 3624, 3625, 3626, 3627, 3628, 3629, 3630, 3631, 3632, 3633, 3634, 3635, 3636, 3637, 3638, 3639, 3640, 3641, 3642, 3643, 3644, 3645, 3646, 3647, 3648, 3649, 3650, 3651, 3652, 3653, 3654, 3655, 3656, 3657, 3658, 3659, 3660, 3661, 3662, 3663, 3664, 3665, 3666, 3667, 3668, 3669, 3670, 3671, 3672, 3673, 3674, 3675, 3676, 3677, 3678, 3679, 3680, 3681, 3682, 3683, 3684, 3685, 3686, 3687, 3688, 3689, 3690, 3691, 3692, 3693, 3694, 3695, 3696, 3697, 3698, 3699, 3700, 3701, 3702, 3703, 3704, 3705, 3706, 3707, 3708, 3709, 3710, 3711, 3712, 3713, 3714, 3715, 3716, 3717, 3718, 3719, 3720, 3721, 3722, 3723, 3724, 3725, 3726, 3727, 3728, 3729, 3730, 3731, 3732, 3733, 3734, 3735, 3736, 3737, 3738, 3739, 3740, 3741, 3742, 3743, 3744, 3745, 3746, 3747, 3748, 3749, 3750, 3751, 3752, 3753, 3754, 3755, 3756, 3757, 3758, 3759, 3760, 3761, 3762, 3763, 3764, 3765, 3766, 3767, 3768, 3769, 3770, 3771, 3772, 3773, 3774, 3775, 3776, 3777, 3778, 3779, 3780, 3781, 3782, 3783, 3784, 3785, 3786, 3787, 3788, 3789, 3790, 3791, 3792, 3793, 3794, 3795, 3796, 3797, 3798, 3799, 3800, 3801, 3802, 3803, 3804, 3805, 3806, 3807, 3808, 3809, 3810, 3811, 3812, 3813, 3814, 3815, 3816, 3817, 3818, 3819, 3820, 3821, 3822, 3823, 3824, 3825, 3826, 3827, 3828, 3829, 3830, 3831, 3832, 3833, 3834, 3835, 3836, 3837, 3838, 3839, 3840, 3841, 3842, 3843, 3844, 3845, 3846, 3847, 3848, 3849, 3850, 3851, 3852, 3853, 3854, 3855, 3856, 3857, 3858, 3859, 3860, 3861, 3862, 3863, 3864, 3865, 3866, 3867, 3868, 3869, 3870, 3871, 3872, 3873, 3874, 3875, 3876, 3877, 3878, 3879, 3880, 3881, 3882, 3883, 3884, 3885, 3886, 3887, 3888, 3889, 3890, 3891, 3892, 3893, 3894, 3895, 3896, 3897, 3898, 3899, 3900, 3901, 3902, 3903, 3904, 3905, 3906, 3907, 3908, 3909, 3910, 3911, 3912, 3913, 3914, 3915, 3916, 3917, 3918, 3919, 3920, 3921, 3922, 3923, 3924, 3925, 3926, 3927, 3928, 3929, 3930, 3931, 3932, 3933, 3934, 3935, 3936, 3937, 3938, 3939, 3940, 3941, 3942, 3943, 3944, 3945, 3946, 3947, 3948, 3949, 3950, 3951, 3952, 3953, 3954, 3955, 3956, 3957, 3958, 3959, 3960, 3961, 3962, 3963, 3964, 3965, 3966, 3967, 3968, 3969, 3970, 3971, 3972, 3973, 3974, 3975, 3976, 3977, 3978, 3979, 3980, 3981, 3982, 3983, 3984, 3985, 3986, 3987, 3988, 3989, 3990, 3991, 3992, 3993, 3994, 3995, 3996, 3997, 3998, 3999, 4000, 4001, 4002, 4003, 4004, 4005, 4006, 4007, 4008, 4009, 4010, 4011, 4012, 4013, 4014, 4015, 4016, 4017, 4018, 4019, 4020, 4021, 4022, 4023, 4024, 4025, 4026, 4027, 4028, 4029, 4030, 4031, 4032, 4033, 4034, 4035, 4036, 4037, 4038, 4039, 4040, 4041, 4042, 4043, 4044, 4045, 4046, 4047, 4048, 4049, 4050, 4051, 4052, 4053, 4054, 4055, 4056, 4057, 4058, 4059, 4060, 4061, 4062, 4063, 4064, 4065, 4066, 4067, 4068, 4069, 4070, 4071, 4072, 4073, 4074, 4075, 4076, 4077, 4078, 4079, 4080, 4081, 4082, 4083, 4084, 4085, 4086, 4087, 4088, 4089, 4090, 4091, 4092, 4093, 4094, 4095, 4096, 4097, 4098, 4099, 4100, 4101, 4102, 4103, 4104, 4105, 4106, 4107, 4108, 4109, 4110, 4111, 4112, 4113, 4114, 4115, 4116, 4117, 4118, 4119, 4120, 4121, 4122, 4123, 4124, 4125, 4126, 4127, 4128, 4129, 4130, 4131, 4132, 4133, 4134, 4135, 4136, 4137, 4138, 4139, 4140, 4141, 4142, 4143, 4144, 4145, 4146, 4147, 4148, 4149, 4150, 4151, 4152, 4153, 4154, 4155, 4156, 4157, 4158, 4159, 4160, 4161, 4162, 4163, 4164, 4165, 4166, 4167, 4168, 4169, 4170, 4171, 4172, 4173, 4174, 4175, 4176, 4177, 4178, 4179, 4180, 4181, 4182, 4183, 4184, 4185, 4186, 4187, 4188, 4189, 4190, 4191, 4192, 4193, 4194, 4195, 4196, 4197, 4198, 4199, 4200, 4201, 4202, 4203, 4204, 4205, 4206, 4207, 4208, 4209, 4210, 4211, 4212, 4213, 4214, 4215, 4216, 4217, 4218, 4219, 4220, 4221, 4222, 4223, 4224, 4225, 4226, 4227, 4228, 4229, 4230, 4231, 4232, 4233, 4234, 4235, 4236, 4237, 4238, 4239, 4240, 4241, 4242, 4243, 4244, 4245, 4246, 4247, 4248, 4249, 4250, 4251, 4252, 4253, 4254, 4255, 4256, 4257, 4258, 4259, 4260, 4261, 4262, 4263, 4264, 4265, 4266, 4267, 4268, 4269, 4270, 4271, 4272, 4273, 4274, 4275, 4276, 4277, 4278, 4279, 4280, 4281, 4282, 4283, 4284, 4285, 4286, 4287, 4288, 4289, 4290, 4291, 4292, 4293, 4294, 4295, 4296, 4297, 4298, 4299, 4300, 4301, 4302, 4303, 4304, 4305, 4306, 4307, 4308, 4309, 4310, 4311, 4312, 4313, 4314, 4315, 4316, 4317, 4318, 4319, 4320, 4321, 4322, 4323, 4324, 4325, 4326, 4327, 4328, 4329, 4330, 4331, 4332, 4333, 4334, 4335, 4336, 4337, 4338, 4339, 4340, 4341, 4342, 4343, 4344, 4345, 4346, 4347, 4348, 4349, 4350, 4351, 4352, 4353, 4354, 4355, 4356, 4357, 4358, 4359, 4360, 4361, 4362, 4363, 4364, 4365, 4366, 4367], \"xaxis\": \"x\", \"y\": [0.0, 0.0, 0.0005133019106568484, 0.0005133019106568484, 0.0021691973969631233, 0.0021691973969631233, 0.0021691973969631237, 0.0021691973969631237, 0.0021691973969631267, 0.0021691973969631267, 0.0043383947939262466, 0.0043383947939262466, 0.004698604149558742, 0.004698604149558742, 0.004877406164271456, 0.004877406164271456, 0.005314698680581605, 0.005314698680581605, 0.006000856399269577, 0.006000856399269577, 0.006424117918409343, 0.006424117918409343, 0.006507592190889366, 0.006507592190889366, 0.0065075921908893716, 0.0065075921908893716, 0.006565472183419051, 0.006565472183419051, 0.006621928668423054, 0.006621928668423054, 0.0068829048045211914, 0.0068829048045211914, 0.007120956549136123, 0.007120956549136123, 0.007343239072474988, 0.007343239072474988, 0.007448388756145249, 0.007448388756145249, 0.0076984692268161296, 0.0076984692268161296, 0.007817434052032174, 0.007817434052032174, 0.008132655338043058, 0.008132655338043058, 0.008598397131338207, 0.008598397131338207, 0.008715010008747656, 0.008715010008747656, 0.009152559455635912, 0.009152559455635912, 0.009174168649741023, 0.009174168649741023, 0.009522194837680631, 0.009522194837680631, 0.009735731683919818, 0.009735731683919818, 0.009901688140983033, 0.009901688140983033, 0.009911551920524031, 0.009911551920524031, 0.010195849781793442, 0.010195849781793442, 0.010385736570817986, 0.010385736570817986, 0.010543678496841529, 0.010543678496841529, 0.010907037896168394, 0.010907037896168394, 0.011340460225257993, 0.011340460225257993, 0.011464866146174344, 0.011464866146174344, 0.01155936649706849, 0.01155936649706849, 0.011622908006028715, 0.011622908006028715, 0.011668773575652325, 0.011668773575652325, 0.011881364299406245, 0.011881364299406245, 0.011907884308821025, 0.011907884308821025, 0.012218691729055048, 0.012218691729055048, 0.012250260160868989, 0.012250260160868989, 0.01233019169245831, 0.01233019169245831, 0.012416582001735002, 0.012416582001735002, 0.012523568315419906, 0.012523568315419906, 0.012589200204825618, 0.012589200204825618, 0.012602698915003102, 0.012602698915003102, 0.012644620066967975, 0.012644620066967975, 0.012738652602848006, 0.012738652602848006, 0.012745391614797093, 0.012745391614797093, 0.012755871216850708, 0.012755871216850708, 0.0129196365113212, 0.0129196365113212, 0.01296115237271261, 0.01296115237271261, 0.012994080660207625, 0.012994080660207625, 0.013021031836527776, 0.013021031836527776, 0.013027866470868534, 0.013027866470868534, 0.013104972107821437, 0.013104972107821437, 0.013146115686039718, 0.013146115686039718, 0.013148264431242916, 0.013148264431242916, 0.013283558343093839, 0.013283558343093839, 0.013344044254684655, 0.013344044254684655, 0.01338180236893552, 0.01338180236893552, 0.013411838763964212, 0.013411838763964212, 0.01365079530849175, 0.01365079530849175, 0.01372290247427997, 0.01372290247427997, 0.013790236814370626, 0.013790236814370626, 0.013797119430796754, 0.013797119430796754, 0.01395938406396122, 0.01395938406396122, 0.014001483325418767, 0.014001483325418767, 0.014293567664797623, 0.014293567664797623, 0.014363265495991599, 0.014363265495991599, 0.014371458947972971, 0.014371458947972971, 0.014380991465718921, 0.014380991465718921, 0.014389061862499532, 0.014389061862499532, 0.014412271392663904, 0.014412271392663904, 0.014574472411246668, 0.014574472411246668, 0.014661769397346928, 0.014661769397346928, 0.0146907949654095, 0.0146907949654095, 0.014703846364386722, 0.014703846364386722, 0.014870170887495784, 0.014870170887495784, 0.014991594219208305, 0.014991594219208305, 0.015008787313567556, 0.015008787313567556, 0.015021856817902319, 0.015021856817902319, 0.015103624318912176, 0.015103624318912176, 0.015106872181864172, 0.015106872181864172, 0.015175591072074673, 0.015175591072074673, 0.015184381778741866, 0.015184381778741866, 0.015192435963012186, 0.015192435963012186, 0.015213199252913853, 0.015213199252913853, 0.01540602202875283, 0.01540602202875283, 0.015478521540725543, 0.015478521540725543, 0.015623846849102166, 0.015623846849102166, 0.015707070505696974, 0.015707070505696974, 0.015787266081633226, 0.015787266081633226, 0.015863089003792123, 0.015863089003792123, 0.015962943384596712, 0.015962943384596712, 0.016109604483666863, 0.016109604483666863, 0.016184368964655207, 0.016184368964655207, 0.016318750185373296, 0.016318750185373296, 0.016481435712082305, 0.016481435712082305, 0.01650505326120812, 0.01650505326120812, 0.016606352416162058, 0.016606352416162058, 0.01661503559728516, 0.01661503559728516, 0.01670466483942683, 0.01670466483942683, 0.016728230067428063, 0.016728230067428063, 0.016799486395015814, 0.016799486395015814, 0.016863287353311718, 0.016863287353311718, 0.016907653421462412, 0.016907653421462412, 0.016916135540606038, 0.016916135540606038, 0.016919157546914837, 0.016919157546914837, 0.016955823097129202, 0.016955823097129202, 0.016992781570855434, 0.016992781570855434, 0.017015816368131657, 0.017015816368131657, 0.017098099053381968, 0.017098099053381968, 0.017131795329658153, 0.017131795329658153, 0.017156085701524736, 0.017156085701524736, 0.017466678564038482, 0.017466678564038482, 0.01747401792146281, 0.01747401792146281, 0.017506275376504534, 0.017506275376504534, 0.01757796810854421, 0.01757796810854421, 0.017578371001562655, 0.017578371001562655, 0.017701776022634223, 0.017701776022634223, 0.01772650758525999, 0.01772650758525999, 0.01778149981582548, 0.01778149981582548, 0.017887285583993637, 0.017887285583993637, 0.01795505941391725, 0.01795505941391725, 0.018069889675010567, 0.018069889675010567, 0.01816274471168639, 0.01816274471168639, 0.018225354579045207, 0.018225354579045207, 0.0182261240693736, 0.0182261240693736, 0.018268696528788916, 0.018268696528788916, 0.018291578900337103, 0.018291578900337103, 0.018328841651009033, 0.018328841651009033, 0.018376878113247917, 0.018376878113247917, 0.01839686950767458, 0.01839686950767458, 0.01840768203570711, 0.01840768203570711, 0.018407753766489808, 0.018407753766489808, 0.018423720731368536, 0.018423720731368536, 0.01843992184504162, 0.01843992184504162, 0.018491309119430994, 0.018491309119430994, 0.018522527260434473, 0.018522527260434473, 0.018529776675242995, 0.018529776675242995, 0.018574145202840148, 0.018574145202840148, 0.018578713456590866, 0.018578713456590866, 0.0185950609354697, 0.0185950609354697, 0.018613575627759935, 0.018613575627759935, 0.018795949438773038, 0.018795949438773038, 0.018801712368163484, 0.018801712368163484, 0.018806533049418477, 0.018806533049418477, 0.018846444972379195, 0.018846444972379195, 0.01885191631724705, 0.01885191631724705, 0.018902484212680017, 0.018902484212680017, 0.018943956970388726, 0.018943956970388726, 0.019061663734211243, 0.019061663734211243, 0.019065821059903135, 0.019065821059903135, 0.019097066803173714, 0.019097066803173714, 0.019184286061544646, 0.019184286061544646, 0.019194813917055843, 0.019194813917055843, 0.019210061725537086, 0.019210061725537086, 0.019239458117218448, 0.019239458117218448, 0.0192507165475338, 0.0192507165475338, 0.01928977583312367, 0.01928977583312367, 0.019305241064736644, 0.019305241064736644, 0.01931347408182177, 0.01931347408182177, 0.01937409374776781, 0.01937409374776781, 0.019396627203896996, 0.019396627203896996, 0.019449605541020102, 0.019449605541020102, 0.019461284986948914, 0.019461284986948914, 0.01947818250781753, 0.01947818250781753, 0.019485049613095346, 0.019485049613095346, 0.01950477634287363, 0.01950477634287363, 0.01951612065335935, 0.01951612065335935, 0.019522776572668127, 0.019522776572668127, 0.0195314075075927, 0.0195314075075927, 0.019598420360401526, 0.019598420360401526, 0.019634368365798332, 0.019634368365798332, 0.01973428043835049, 0.01973428043835049, 0.019779416781314993, 0.019779416781314993, 0.019797297006931804, 0.019797297006931804, 0.019856242084105354, 0.019856242084105354, 0.01991581470537038, 0.01991581470537038, 0.019948486445880518, 0.019948486445880518, 0.02001909024389374, 0.02001909024389374, 0.020060343354022098, 0.020060343354022098, 0.02008667146130816, 0.02008667146130816, 0.020142686805560955, 0.020142686805560955, 0.020170337443326386, 0.020170337443326386, 0.020199773456267837, 0.020199773456267837, 0.020256825246188066, 0.020256825246188066, 0.020257739175157885, 0.020257739175157885, 0.020278766986242758, 0.020278766986242758, 0.020282810031999703, 0.020282810031999703, 0.02031845375184076, 0.02031845375184076, 0.020320331554509213, 0.020320331554509213, 0.0203566196867987, 0.0203566196867987, 0.020392507420438855, 0.020392507420438855, 0.020398202061731274, 0.020398202061731274, 0.02039904225139148, 0.02039904225139148, 0.020409880796721905, 0.020409880796721905, 0.020434718085775384, 0.020434718085775384, 0.020462621122600486, 0.020462621122600486, 0.020471425598256435, 0.020471425598256435, 0.02049854276971873, 0.02049854276971873, 0.02052525211979748, 0.02052525211979748, 0.020560699244218616, 0.020560699244218616, 0.020616768944187628, 0.020622615906643604, 0.020622615906643604, 0.020650108064510262, 0.020650108064510262, 0.02066488877095425, 0.02066488877095425, 0.0206652514346985, 0.0206652514346985, 0.02071031401949419, 0.02071031401949419, 0.020764000568567666, 0.020764000568567666, 0.020793796712900978, 0.020793796712900978, 0.020810703053905838, 0.020810703053905838, 0.020927039569864993, 0.020927039569864993, 0.020928771950481383, 0.020928771950481383, 0.020948168654805668, 0.020948168654805668, 0.020969553080720568, 0.020969553080720568, 0.020976557485281204, 0.020976557485281204, 0.021012708480515816, 0.021012708480515816, 0.021041864345491528, 0.02110917907395953, 0.02110917907395953, 0.021109272353022398, 0.021109272353022398, 0.02114547870491742, 0.02114547870491742, 0.021157120874305744, 0.021157120874305744, 0.021204119420839326, 0.021204119420839326, 0.021232765089708547, 0.021232765089708547, 0.021258105065734625, 0.021258105065734625, 0.021293636590592285, 0.021293636590592285, 0.021404159085780187, 0.021404159085780187, 0.02145379410189981, 0.02145379410189981, 0.021476593103768992, 0.021476593103768992, 0.021516633982293365, 0.021516633982293365, 0.021517025290163003, 0.021517025290163003, 0.021524207992428677, 0.021524207992428677, 0.021616000487759482, 0.021616000487759482, 0.02166148138331844, 0.02166148138331844, 0.021700735102481713, 0.021700735102481713, 0.021702467809486488, 0.021702467809486488, 0.021724577404624336, 0.021724577404624336, 0.02173190451116827, 0.02173190451116827, 0.02173560011561428, 0.02173560011561428, 0.02178172620691606, 0.02178172620691606, 0.02179520157011169, 0.02179520157011169, 0.021806690987852755, 0.021806690987852755, 0.02184735636269278, 0.02184735636269278, 0.02186094658947227, 0.02186094658947227, 0.021890820152395123, 0.021890820152395123, 0.02194853007301939, 0.02194853007301939, 0.021963599096905644, 0.021963599096905644, 0.021982397470220717, 0.021982397470220717, 0.022004698249619082, 0.022004698249619082, 0.02203158258652623, 0.02203158258652623, 0.02205538978651496, 0.02205538978651496, 0.022066962543229297, 0.022066962543229297, 0.02207352839023417, 0.02207352839023417, 0.022179491506722552, 0.022179491506722552, 0.022207639227502126, 0.022207639227502126, 0.02221178178931641, 0.02221178178931641, 0.022221031813096054, 0.022221031813096054, 0.022273477827818484, 0.022273477827818484, 0.022359384576371013, 0.022359384576371013, 0.02241748130091874, 0.02241748130091874, 0.022455941723270832, 0.022455941723270832, 0.022503727555659263, 0.022503727555659263, 0.022559784819553237, 0.022559784819553237, 0.022568055297653187, 0.022568055297653187, 0.022587632964792742, 0.022587632964792742, 0.022592062198601482, 0.022592062198601482, 0.022649642532708087, 0.022649642532708087, 0.022683520615423124, 0.022683520615423124, 0.02270682131678932, 0.02270682131678932, 0.022769653288697296, 0.022769653288697296, 0.02278695137123842, 0.02278695137123842, 0.022788148932765036, 0.022788148932765036, 0.022796608590965117, 0.022796608590965117, 0.022806871601340404, 0.022806871601340404, 0.022807257641016335, 0.022807257641016335, 0.022841133304005782, 0.02287023164223387, 0.02287023164223387, 0.02289522667161464, 0.02289522667161464, 0.02290292186865241, 0.02290292186865241, 0.022927751992352495, 0.022927751992352495, 0.022927890111925673, 0.022927890111925673, 0.022944274947749265, 0.022944274947749265, 0.02297588873393406, 0.02297588873393406, 0.022999283808113922, 0.022999283808113922, 0.023003661876498768, 0.023003661876498768, 0.023013724807939086, 0.023013724807939086, 0.023018180995048883, 0.023018180995048883, 0.023029289366665, 0.023029289366665, 0.023038460458036224, 0.023038460458036224, 0.023099048841431553, 0.023099048841431553, 0.0231164903718223, 0.0231164903718223, 0.023134260475345315, 0.023134260475345315, 0.023273110470448544, 0.023273110470448544, 0.023316795323921467, 0.023316795323921467, 0.023338050076422028, 0.023338050076422028, 0.0233387677901739, 0.0233387677901739, 0.023393987784045278, 0.023393987784045278, 0.023408625766518792, 0.023408625766518792, 0.0234444210952812, 0.0234444210952812, 0.02345091170418407, 0.02345091170418407, 0.02345248987072269, 0.02345248987072269, 0.023475521394322706, 0.023475521394322706, 0.023480173991171475, 0.023480173991171475, 0.023485347954730215, 0.023485347954730215, 0.02351015453874783, 0.02351015453874783, 0.023516374292985, 0.023516374292985, 0.023518917575756734, 0.023518917575756734, 0.023520338105563136, 0.023524977261597937, 0.023524977261597937, 0.023583396667994534, 0.023583396667994534, 0.023583999720144567, 0.02358453768846995, 0.02358453768846995, 0.02361237186565608, 0.02361237186565608, 0.02365948915833185, 0.02365948915833185, 0.023692191647044364, 0.023692191647044364, 0.023747442756926546, 0.023747442756926546, 0.0237481308296235, 0.0237481308296235, 0.023816225637001528, 0.023816225637001528, 0.02386117136659438, 0.02386117136659438, 0.023875062333145673, 0.023875062333145673, 0.023883555767410303, 0.023883555767410303, 0.02389659312912654, 0.02389659312912654, 0.023900029799647463, 0.023908593165569644, 0.023908593165569644, 0.023910031645486586, 0.02392865405777218, 0.02392865405777218, 0.024016735320391537, 0.024016735320391537, 0.024067110864373815, 0.024067110864373815, 0.02412159209874626, 0.02412159209874626, 0.024130473454142428, 0.024130473454142428, 0.02416083401522881, 0.02416083401522881, 0.0241900597645412, 0.0241900597645412, 0.024194612370573295, 0.024194612370573295, 0.02419731841420517, 0.02419731841420517, 0.024249449943533466, 0.024249449943533466, 0.02427817549887275, 0.02427817549887275, 0.024298508321086317, 0.024298508321086317, 0.024301072468478718, 0.024301072468478718, 0.024388916733603352, 0.024388916733603352, 0.02441683903862567, 0.02441683903862567, 0.02442284397572688, 0.02442284397572688, 0.024427805694874474, 0.024427805694874474, 0.024445702576750467, 0.024445702576750467, 0.02447259889288548, 0.02447259889288548, 0.02449508341059449, 0.02449508341059449, 0.024504772544674282, 0.024504772544674282, 0.024531253517918815, 0.024531253517918815, 0.02462088702545089, 0.024633792553343498, 0.024633792553343498, 0.024646497873634862, 0.024646497873634862, 0.024646497873634862, 0.024646497873634862, 0.024651309241680318, 0.024651309241680318, 0.024700142900419095, 0.024739774823971297, 0.024739774823971297, 0.02481552722744118, 0.02481552722744118, 0.024823623860958925, 0.02487565468701606, 0.02487565468701606, 0.024882594357420375, 0.024882594357420375, 0.024895033622622867, 0.024895033622622867, 0.024901208344238604, 0.024901208344238604, 0.024943490834792737, 0.024943490834792737, 0.024945746174089203, 0.024945746174089203, 0.024955418218119405, 0.024955418218119405, 0.024962091898178843, 0.024962091898178843, 0.02498577609578301, 0.02498577609578301, 0.024988138583836823, 0.024988138583836823, 0.025040877315769042, 0.025040877315769042, 0.025046416570049433, 0.025046416570049433, 0.025074675241722674, 0.025074675241722674, 0.02508161261871835, 0.025094460213044168, 0.025094460213044168, 0.025130554616573854, 0.025130554616573854, 0.0251506184056433, 0.0251506184056433, 0.02518838417697088, 0.02523323944741046, 0.02523323944741046, 0.025251748893829095, 0.025289668023409217, 0.025289668023409217, 0.02529528858487807, 0.02529528858487807, 0.025306106434883822, 0.025306106434883822, 0.025307371033270902, 0.025307371033270902, 0.025330319694860187, 0.025330319694860187, 0.025340307478045842, 0.025340307478045842, 0.025385195914530704, 0.02544989201593882, 0.02544989201593882, 0.025479071673168516, 0.025491145375248887, 0.025494199056507055, 0.025494199056507055, 0.02549886052303323, 0.02549886052303323, 0.025513629908674073, 0.025513629908674073, 0.02551847420965118, 0.02551847420965118, 0.025532396173445736, 0.025532396173445736, 0.025563128599267893, 0.025563128599267893, 0.025612153730667574, 0.025612153730667574, 0.0256313092838384, 0.0256313092838384, 0.02563201678809147, 0.02563201678809147, 0.0256729627680164, 0.0256729627680164, 0.025700310884134592, 0.025700310884134592, 0.025701042234638864, 0.025701042234638864, 0.02572887194624956, 0.02572887194624956, 0.02573348731003495, 0.02573348731003495, 0.025754154892700835, 0.025754154892700835, 0.025767261467325026, 0.025767261467325026, 0.025775947143813826, 0.025775947143813826, 0.025801018508200296, 0.025801018508200296, 0.025813928367687568, 0.025813928367687568, 0.025828736862498994, 0.025828736862498994, 0.025838703372687153, 0.025838703372687153, 0.02583922889550965, 0.02583922889550965, 0.02585372340049311, 0.02585372340049311, 0.025853954775434305, 0.025853954775434305, 0.025864297613164902, 0.025864297613164902, 0.02586735351101005, 0.02586735351101005, 0.025915894233705217, 0.025915894233705217, 0.025955180663466002, 0.025955180663466002, 0.02597344245455839, 0.02597344245455839, 0.02598636916481901, 0.02598636916481901, 0.025996243612386866, 0.026003956383411218, 0.026003956383411218, 0.026007567892451632, 0.026007567892451632, 0.026010495916597376, 0.026010495916597376, 0.02601884869604562, 0.0260241769934091, 0.0260241769934091, 0.02603208641277276, 0.02603208641277276, 0.026066041408007348, 0.026066041408007348, 0.026084235348695247, 0.026084235348695247, 0.026089008545731915, 0.026089008545731915, 0.026107963398761085, 0.026107963398761085, 0.026156477447135458, 0.026179420133479202, 0.026179420133479202, 0.02618445529491565, 0.02618445529491565, 0.02619692044438151, 0.02619692044438151, 0.026231021534833126, 0.026231021534833126, 0.026248027889280635, 0.026248027889280635, 0.026274461723693687, 0.026274461723693687, 0.026275923989028893, 0.026275923989028893, 0.026285949520413607, 0.026285949520413607, 0.026285960274090973, 0.026285960274090973, 0.026324497708166795, 0.026324497708166795, 0.02634171693991389, 0.02634171693991389, 0.026352659110873814, 0.02635767197353982, 0.02635767197353982, 0.026371419920525864, 0.026371419920525864, 0.026378991909436145, 0.026378991909436145, 0.026384616244000143, 0.026384616244000143, 0.02639659901910232, 0.02639659901910232, 0.026411038930657237, 0.026411038930657237, 0.02641748804692112, 0.02641748804692112, 0.026427254068382613, 0.026427254068382613, 0.026450018449223654, 0.026450018449223654, 0.026485531299437735, 0.026485531299437735, 0.02650716096059746, 0.02650716096059746, 0.026535060356394163, 0.026535060356394163, 0.026538837821280872, 0.026538837821280872, 0.02656180555150123, 0.02656180555150123, 0.026568298188605878, 0.026568298188605878, 0.026569036945638915, 0.026569036945638915, 0.02663232330201345, 0.02663232330201345, 0.02674064201131127, 0.02674064201131127, 0.02676499618029582, 0.02676499618029582, 0.026781034318209572, 0.026781034318209572, 0.026787007148576316, 0.026787007148576316, 0.02679993756393139, 0.02679993756393139, 0.026829274220748683, 0.026829274220748683, 0.026861374302393163, 0.026861374302393163, 0.026870702756823284, 0.026870702756823284, 0.026918228548876974, 0.026918228548876974, 0.02691863786220125, 0.02691863786220125, 0.026925105109760237, 0.026925105109760237, 0.02693073277673946, 0.02693073277673946, 0.0269451941068859, 0.0269451941068859, 0.02695356991307464, 0.02695356991307464, 0.026987756780552548, 0.026996017811744738, 0.027008419913530732, 0.027008419913530732, 0.027019991651546567, 0.027031892887082673, 0.027031892887082673, 0.027047717897275163, 0.027047717897275163, 0.027092337194095487, 0.027092337194095487, 0.027092799570615615, 0.027092799570615615, 0.02712178210169045, 0.02712178210169045, 0.027123189166152122, 0.027123189166152122, 0.027132309015717965, 0.027132309015717965, 0.027165792582777303, 0.027165792582777303, 0.027189897100343433, 0.027189897100343433, 0.0272269925236282, 0.0272269925236282, 0.027259732401108867, 0.027259732401108867, 0.027270890578589495, 0.027270890578589495, 0.027279395843716376, 0.027279395843716376, 0.027288704279184235, 0.027288704279184235, 0.027305233321134714, 0.027305233321134714, 0.027305504828594493, 0.027316924323458242, 0.027316924323458242, 0.027349143090941365, 0.027349143090941365, 0.027362906159710494, 0.027362906159710494, 0.027366646424235183, 0.027366646424235183, 0.027381166149666604, 0.027381166149666604, 0.02738427055944803, 0.02738427055944803, 0.027410003495008727, 0.027410003495008727, 0.0274468733348455, 0.027469207791472765, 0.027469207791472765, 0.027475068741274766, 0.027475068741274766, 0.027476291070285815, 0.027476291070285815, 0.027504804225818698, 0.027504804225818698, 0.027554355539353436, 0.0276133353455851, 0.027628744914569264, 0.027628744914569264, 0.02763154458915037, 0.02763154458915037, 0.02763265919789386, 0.02763265919789386, 0.02765603507969253, 0.027701830820226637, 0.027701830820226637, 0.02771957205065048, 0.02771957205065048, 0.02772995730195805, 0.02772995730195805, 0.02775356298512725, 0.02775356298512725, 0.027791178420210325, 0.027791178420210325, 0.027839359781080552, 0.027839359781080552, 0.027857528148874093, 0.027857528148874093, 0.027868990052347855, 0.027868990052347855, 0.027883374306963932, 0.027883374306963932, 0.02788586119005557, 0.02788586119005557, 0.027889336523930167, 0.027889336523930167, 0.02790161340234528, 0.027915205409105717, 0.027915205409105717, 0.027951081777727607, 0.02799708071014307, 0.027997206464214226, 0.027997206464214226, 0.028007263160970425, 0.028007263160970425, 0.028014049457988233, 0.028014049457988233, 0.028073159130990382, 0.028073159130990382, 0.02809863381860163, 0.02809863381860163, 0.02811445191365615, 0.02811445191365615, 0.028141945834563534, 0.028141945834563534, 0.028159038933898456, 0.028159038933898456, 0.02817041932711391, 0.02817041932711391, 0.028174955471492392, 0.028174955471492392, 0.02818106883793468, 0.02818106883793468, 0.02819150546448356, 0.02819150546448356, 0.028195316426492333, 0.028195316426492333, 0.028195457175665083, 0.02819930546227754, 0.028204649899011867, 0.02820913182333066, 0.02820913182333066, 0.028221018837873077, 0.028221018837873077, 0.02822145378893498, 0.028255056507884724, 0.028260113354707246, 0.028260113354707246, 0.0282609332518482, 0.028280294543643072, 0.028280294543643072, 0.028280464476495355, 0.0282829050059349, 0.0282829050059349, 0.028296867571172318, 0.028296867571172318, 0.02830271481080638, 0.02830271481080638, 0.02830340686632138, 0.0283288780913064, 0.0283288780913064, 0.028334396172000325, 0.028334396172000325, 0.028357312472747368, 0.0283646774764717, 0.02838463599353107, 0.02838463599353107, 0.028402909653458618, 0.028402909653458618, 0.028443951488119616, 0.028451263785272553, 0.02847285258370042, 0.028476143330486356, 0.028476143330486356, 0.028488378003965063, 0.028494091959392533, 0.028494091959392533, 0.028508190405575326, 0.028508190405575326, 0.028563534275482, 0.028602096838571303, 0.028602096838571303, 0.028645976175672667, 0.028645976175672667, 0.02865262534457492, 0.02865262534457492, 0.028675261160072695, 0.028726289867943098, 0.028755166184574046, 0.028755166184574046, 0.028817889979921577, 0.028817889979921577, 0.028829187941973228, 0.028829187941973228, 0.028842920272862328, 0.02888421207255071, 0.02888421207255071, 0.02891271163016933, 0.02891271163016933, 0.028925697901518523, 0.028925697901518523, 0.02893599581777891, 0.02893599581777891, 0.028936473362770138, 0.028936473362770138, 0.02894992462756743, 0.028958516591776385, 0.028958516591776385, 0.028979129523660184, 0.028979129523660184, 0.028992293895643662, 0.028992293895643662, 0.02900096204152213, 0.02900096204152213, 0.029004203133482266, 0.029004203133482266, 0.029005450601855137, 0.029005450601855137, 0.029023984988259994, 0.029023984988259994, 0.029033710023662913, 0.029033710023662913, 0.02906027467400902, 0.02906027467400902, 0.02906840936355251, 0.02906840936355251, 0.029093775299687628, 0.029105658939204488, 0.02912044104355716, 0.02912044104355716, 0.02913314650453656, 0.02913314650453656, 0.029141527198844244, 0.02914598319898751, 0.02914598319898751, 0.0291474032016741, 0.0291474032016741, 0.029149115894349875, 0.029161048933302607, 0.029161048933302607, 0.02917308710120786, 0.02917308710120786, 0.029199473211791446, 0.029205652664847655, 0.029205652664847655, 0.02920854492017859, 0.02925025133106982, 0.029260030880455017, 0.029260030880455017, 0.029267298463222718, 0.029267298463222718, 0.029309104984986838, 0.029309104984986838, 0.029320589069868896, 0.029320589069868896, 0.02933192931705275, 0.02933192931705275, 0.02936481470901897, 0.02936481470901897, 0.029439390197112544, 0.029439390197112544, 0.029477474463572007, 0.029477474463572007, 0.02951752626453816, 0.029520922659580354, 0.029520922659580354, 0.02952896113635438, 0.02952896113635438, 0.029531110703541724, 0.029550363080453043, 0.029550363080453043, 0.029566061461825846, 0.029566061461825846, 0.02958786178759958, 0.02958786178759958, 0.029611835053724996, 0.029627581626105792, 0.029627581626105792, 0.02963525794519215, 0.02963525794519215, 0.029636104318199075, 0.029636104318199075, 0.02965539835579437, 0.029662766274699316, 0.029662766274699316, 0.02966636337739604, 0.029675006668606105, 0.029675006668606105, 0.02968357517784193, 0.02968357517784193, 0.02968653912090466, 0.02968653912090466, 0.029688527643913474, 0.029688527643913474, 0.029711244131018322, 0.029711244131018322, 0.029715847121949114, 0.029715847121949114, 0.029722327913787896, 0.029749360872859294, 0.02975078296489587, 0.02975078296489587, 0.029766199992841223, 0.029766199992841223, 0.02980659770510037, 0.02980659770510037, 0.029822402713397513, 0.029822402713397513, 0.02982270543912204, 0.02982270543912204, 0.029836058695271818, 0.029836058695271818, 0.029852443906627328, 0.029857857929804454, 0.029857857929804454, 0.029887737664867048, 0.029887737664867048, 0.029908520362889095, 0.029908520362889095, 0.02992786813741849, 0.029958956523761238, 0.02996123523748497, 0.02996123523748497, 0.02998368729403364, 0.02998368729403364, 0.029999214271345644, 0.03001470100930491, 0.03001470100930491, 0.030016442648926944, 0.030016442648926944, 0.030023019999744993, 0.030023019999744993, 0.030023362996396595, 0.030023362996396595, 0.03002622659480798, 0.03002622659480798, 0.030026232509325547, 0.030026232509325547, 0.030038161511077213, 0.030049890530537113, 0.030049890530537113, 0.030056674076076692, 0.030056674076076692, 0.030065224184760195, 0.030065224184760195, 0.03006546344376002, 0.03009943082570181, 0.03009943082570181, 0.030117980074241216, 0.030129236774094847, 0.030129236774094847, 0.030139666932765923, 0.030139666932765923, 0.03016297279083972, 0.03016297279083972, 0.030166565047452392, 0.030166565047452392, 0.030186228797491894, 0.030186228797491894, 0.030192950262898005, 0.030192950262898005, 0.030211948692776925, 0.030248686283238752, 0.030248686283238752, 0.030257295793472732, 0.030257295793472732, 0.030293805445544254, 0.03029867662207996, 0.03029867662207996, 0.030314881900183645, 0.030314881900183645, 0.030360272777292266, 0.030360272777292266, 0.030365374484181983, 0.030365374484181983, 0.030389243053438167, 0.030414509716826032, 0.030414509716826032, 0.0304168183262001, 0.0304168183262001, 0.030437183601508634, 0.030437183601508634, 0.030450005236351295, 0.030481006816397174, 0.030481006816397174, 0.030512020580309048, 0.030512020580309048, 0.030544430531305348, 0.03055434932273109, 0.03055434932273109, 0.030558354468223563, 0.030558354468223563, 0.030583439741869715, 0.030583439741869715, 0.030606591486122013, 0.030606591486122013, 0.03061832527336802, 0.030620713426832882, 0.030620713426832882, 0.030690645771145126, 0.030698445855384907, 0.030698445855384907, 0.030704440029065173, 0.030727942279329762, 0.030727942279329762, 0.03074954146874347, 0.030750059455766886, 0.030750059455766886, 0.030751397790417523, 0.030751397790417523, 0.030780672022973223, 0.030780672022973223, 0.03082976257443127, 0.03082976257443127, 0.030832714424663305, 0.030832714424663305, 0.030847166858718775, 0.030847166858718775, 0.03085340280389511, 0.03088096043526548, 0.030886539865416743, 0.030886539865416743, 0.030893257466698416, 0.030909483593434726, 0.030909483593434726, 0.030915930460580898, 0.030915930460580898, 0.0309393119619008, 0.0309393119619008, 0.03094654251589764, 0.03094654251589764, 0.03095823648146342, 0.03095823648146342, 0.030959921853903474, 0.030959921853903474, 0.030961040994491797, 0.030961172700784252, 0.03096678420318684, 0.03096678420318684, 0.030969016424297814, 0.030969016424297814, 0.03099314631464747, 0.03099314631464747, 0.031040487626124973, 0.031040487626124973, 0.03107955799944434, 0.03107955799944434, 0.03108173013387061, 0.03109575636116285, 0.03109575636116285, 0.031108180711856417, 0.031108180711856417, 0.031108924027141032, 0.031108924027141032, 0.03115655322642518, 0.03115655322642518, 0.031158619324255756, 0.031158619324255756, 0.031169872465442266, 0.03123260887208988, 0.03123260887208988, 0.031241104329873294, 0.031241104329873294, 0.031242561078454422, 0.03126465942845845, 0.03128718618787757, 0.03128718618787757, 0.03128788600968006, 0.03128788600968006, 0.03128913906907997, 0.031291838756540284, 0.031291838756540284, 0.031313029781049474, 0.03134940261986105, 0.03134940261986105, 0.03143414126831447, 0.03145260917434513, 0.03147586521825021, 0.031512802383431904, 0.031512802383431904, 0.03151867003502723, 0.03151867003502723, 0.03152451323939517, 0.03152451323939517, 0.03152584382699845, 0.03152584382699845, 0.03156656382436851, 0.03156656382436851, 0.03159125776294945, 0.03159125776294945, 0.03160033589713676, 0.03160033589713676, 0.03162853663693506, 0.03162853663693506, 0.03167622750631337, 0.031702648014340654, 0.031702648014340654, 0.03170855386564575, 0.031709074076521966, 0.03171550562960832, 0.03171638571403257, 0.03171638571403257, 0.03172282885494457, 0.03172282885494457, 0.03173073008002035, 0.03173073008002035, 0.03174935983343839, 0.03174935983343839, 0.03175113983536288, 0.03175113983536288, 0.03175978027350084, 0.03175978027350084, 0.03178970266289677, 0.031792975681049454, 0.031792975681049454, 0.031798881643588794, 0.031811024173724785, 0.031811024173724785, 0.03181416760016635, 0.03181416760016635, 0.03182043372147458, 0.03182043372147458, 0.03182993478156267, 0.03182993478156267, 0.0318640532354406, 0.0318640532354406, 0.0318792127670817, 0.0318792127670817, 0.03191807887434553, 0.03191807887434553, 0.0319386284627127, 0.03197024224055378, 0.031970751324250535, 0.031970751324250535, 0.03198032978171382, 0.03198760772491795, 0.03198760772491795, 0.03200265131766596, 0.03200265131766596, 0.032013133258738634, 0.032013133258738634, 0.032013133258738634, 0.032013133258738634, 0.032027884267717736, 0.032027884267717736, 0.032053209510084515, 0.032095110936042386, 0.032105956945137584, 0.03210811859009302, 0.03210811859009302, 0.03211634063473605, 0.03212204178440007, 0.03212204178440007, 0.03214794750257884, 0.03219259894169792, 0.03219259894169792, 0.03219821643514833, 0.03219821643514833, 0.03220808523416076, 0.03220808523416076, 0.032215142076092225, 0.032215142076092225, 0.03221602676441925, 0.03221728113444884, 0.03221728113444884, 0.03224150716026082, 0.03225525498820019, 0.032263629664893476, 0.032269024352175164, 0.032293971563252415, 0.032293971563252415, 0.03231770683582675, 0.03231770683582675, 0.03234983063822234, 0.03234983063822234, 0.03235314756485048, 0.03235314756485048, 0.03237071468390805, 0.03237071468390805, 0.03239215843824648, 0.03239215843824648, 0.03239866243074137, 0.03239866243074137, 0.03240531590725557, 0.03241224927105743, 0.0324478148220315, 0.0324478148220315, 0.03245120163196965, 0.03245120163196965, 0.032452304316675055, 0.032452304316675055, 0.032495920479883485, 0.032497601474254637, 0.032497601474254637, 0.03254794827916442, 0.03254794827916442, 0.03256666731338394, 0.03256666731338394, 0.032614384525529116, 0.032614384525529116, 0.03262481326219976, 0.03262493925482734, 0.03262493925482734, 0.03262887698326322, 0.03263634259478253, 0.03263634259478253, 0.03264886754851103, 0.03266589429946507, 0.03267900190533876, 0.03267913131024955, 0.03267913131024955, 0.032683402054330644, 0.032683402054330644, 0.03268782005109393, 0.03268782005109393, 0.032703202711936635, 0.032703202711936635, 0.032757817762136564, 0.03280845270192248, 0.03280845270192248, 0.03281648356879819, 0.03285772401645713, 0.03285772401645713, 0.032858737462099476, 0.032858737462099476, 0.032875801922159775, 0.03288324644097576, 0.03289129580930919, 0.03289129580930919, 0.03289155392673749, 0.032927984655426235, 0.032927984655426235, 0.032944803704932114, 0.032944803704932114, 0.03298060317715383, 0.03298060317715383, 0.03298983521025381, 0.03298983521025381, 0.03300346773466052, 0.03300346773466052, 0.033019387258421226, 0.033019387258421226, 0.03302400826481291, 0.03302533245119383, 0.03302533245119383, 0.033036326391823904, 0.033036326391823904, 0.033036931439538446, 0.03303964691065609, 0.03303964691065609, 0.03304902086305503, 0.03305440551532386, 0.03305440551532386, 0.03306091009000107, 0.03306091009000107, 0.033067916733006186, 0.0330783077012438, 0.0330783077012438, 0.03311379899509664, 0.03311379899509664, 0.03312427844571085, 0.03312427844571085, 0.03313763497643273, 0.03313763497643273, 0.0331377166437927, 0.0331377166437927, 0.03315330807825296, 0.03315330807825296, 0.03315513497872544, 0.03317281167816248, 0.03317339872992376, 0.033175887224636366, 0.03320095356279272, 0.03322057237093899, 0.03322057237093899, 0.03323256095268517, 0.0332352310455245, 0.0332352310455245, 0.03324714822405655, 0.03324714822405655, 0.03325347973724203, 0.033256373806351665, 0.033256373806351665, 0.03328817241116406, 0.033293116368915326, 0.0333077979834565, 0.03331325549989278, 0.03331325549989278, 0.03333183617934445, 0.03335116141762155, 0.03335116141762155, 0.033385247917321455, 0.033385247917321455, 0.03345753403528929, 0.03345753403528929, 0.033474817473827065, 0.033474817473827065, 0.03349128146072251, 0.0334953982477578, 0.0334953982477578, 0.03350281394578408, 0.03350281394578408, 0.03351134719321707, 0.03353079683921354, 0.03353079683921354, 0.03353903336439423, 0.03353903336439423, 0.03356404413359992, 0.03356404413359992, 0.03359435053290386, 0.033602622807385026, 0.03362575991496056, 0.03363582386957626, 0.03363582386957626, 0.03367387538276596, 0.03367387538276596, 0.03369108279512056, 0.033729983566801916, 0.033729983566801916, 0.0337355353448912, 0.03375857784058602, 0.03376985801472583, 0.03378919723833715, 0.03378919723833715, 0.033799245025357944, 0.033799245025357944, 0.0338198343617589, 0.0338198343617589, 0.03384604172498063, 0.03384604172498063, 0.033852408502675166, 0.03386331936455878, 0.03386331936455878, 0.03387140700465719, 0.03387140700465719, 0.03387851937263163, 0.03388615505367668, 0.03388615505367668, 0.033890863981884914, 0.03392238125301608, 0.03392238125301608, 0.03392565530723282, 0.03392565530723282, 0.03392623199548259, 0.03393946697300502, 0.03393946697300502, 0.03396700619825713, 0.03396700619825713, 0.03397170568338033, 0.03397170568338033, 0.03398342883155876, 0.03398342883155876, 0.03400172200947867, 0.03400172200947867, 0.03400280072273981, 0.03400280072273981, 0.03400963183400984, 0.03400963183400984, 0.0340110663673356, 0.0340110663673356, 0.03401751990860169, 0.034025731672597204, 0.03405507204052794, 0.03405507204052794, 0.0340710846445334, 0.0340710846445334, 0.03408846664942635, 0.03408846664942635, 0.034111271363019564, 0.034111271363019564, 0.03413671534468023, 0.034147243657433476, 0.034147243657433476, 0.0341556504344086, 0.0341556504344086, 0.03417233569448199, 0.03417741841085235, 0.03417741841085235, 0.03418544810388409, 0.03418544810388409, 0.03426697802591201, 0.03426697802591201, 0.03429518217006335, 0.03429518217006335, 0.034325771022485706, 0.034325771022485706, 0.03433535263688145, 0.03433535263688145, 0.03434451785283018, 0.03434451785283018, 0.03434756654840992, 0.03435294335960766, 0.03435294335960766, 0.034356284027903986, 0.034404651815833916, 0.034405245284774566, 0.034414437869537254, 0.034414437869537254, 0.03442483754294556, 0.03444740647120337, 0.03444740647120337, 0.034513454080946145, 0.03453708602948067, 0.03453708602948067, 0.03454159639796522, 0.03454159639796522, 0.034556984643559475, 0.03457771213351142, 0.03457771213351142, 0.03460900552415735, 0.03461784991767208, 0.03461784991767208, 0.03463875676496684, 0.03463875676496684, 0.03465026246375631, 0.03465026246375631, 0.034678462669580704, 0.034678462669580704, 0.03469435384430995, 0.03469435384430995, 0.03469450285663648, 0.03469450285663648, 0.034705467174383046, 0.03472370739707785, 0.03472370739707785, 0.03472752820039767, 0.03472752820039767, 0.0347395689922589, 0.0347395689922589, 0.03477517431299852, 0.03477517431299852, 0.03478894128061842, 0.03478894128061842, 0.03479329570363013, 0.03482125871608646, 0.03482125871608646, 0.034827031455764185, 0.034827031455764185, 0.03484655668718575, 0.03484655668718575, 0.034849749830663114, 0.034849749830663114, 0.0348578304349629, 0.0348578304349629, 0.03487080819266991, 0.034875331049930854, 0.034893120058384464, 0.034893120058384464, 0.03490305102734051, 0.03492252899243385, 0.03495034572494531, 0.03496395889734262, 0.034995001170435774, 0.034995001170435774, 0.03501174542961183, 0.03501174542961183, 0.03502146596706705, 0.03502146596706705, 0.03504386280520447, 0.03504386280520447, 0.03506739797818462, 0.03506739797818462, 0.03507092100978607, 0.03507774883698346, 0.03507774883698346, 0.035088907667852394, 0.035088907667852394, 0.03509744516439079, 0.03510644692093349, 0.03511051558148292, 0.03511051558148292, 0.03511298860245233, 0.03511298860245233, 0.03512597526217069, 0.03514060177343049, 0.03514060177343049, 0.03515776746776986, 0.03515776746776986, 0.03519011625525335, 0.0351983480098333, 0.03521240115460735, 0.03521240115460735, 0.03522207845277158, 0.03522207845277158, 0.03523131468086008, 0.0352461986344862, 0.0352461986344862, 0.0352827130624569, 0.0353192856934508, 0.03533589115121091, 0.03533589115121091, 0.035346603372173824, 0.035346603372173824, 0.03536659610658473, 0.03536659610658473, 0.035376726503788494, 0.03539591552392045, 0.03543333559162753, 0.03543333559162753, 0.035449852564702525, 0.035449852564702525, 0.0354664120274305, 0.0354664120274305, 0.03551039170502049, 0.03551039170502049, 0.03553741850290091, 0.03555294689044263, 0.03559156131445184, 0.03560084701187106, 0.03560084701187106, 0.035619889601307006, 0.035619889601307006, 0.03562111513508016, 0.0356614056591707, 0.0356614056591707, 0.03567751106755255, 0.03568562893129315, 0.03568562893129315, 0.03570050491622992, 0.03572728600540884, 0.03572728600540884, 0.0357359921263977, 0.0357359921263977, 0.03574816329226081, 0.03577020328022212, 0.03577020328022212, 0.0357870454338855, 0.03580140868710274, 0.03580140868710274, 0.035803678138891445, 0.03580812498506371, 0.03580812498506371, 0.03581525232099576, 0.03581525232099576, 0.03582650003855137, 0.03583571316750821, 0.03583571316750821, 0.03583669530687375, 0.03583669530687375, 0.035837418506577325, 0.03583987653543829, 0.035842680985340235, 0.03587076624558227, 0.0358738286125505, 0.0358738286125505, 0.0359043415391015, 0.0359043415391015, 0.03591535373857327, 0.03591535373857327, 0.035953684988272054, 0.03595590209579884, 0.03595590209579884, 0.03596900873159379, 0.035979117201748914, 0.035979117201748914, 0.036001760493747016, 0.036001760493747016, 0.03601127827115856, 0.03601826602010504, 0.036028528434387884, 0.036028528434387884, 0.03603194579314156, 0.03603194579314156, 0.036041617301712243, 0.036041617301712243, 0.03604407958014897, 0.03606060819104977, 0.03606060819104977, 0.03607244019190317, 0.03607244019190317, 0.036073833922925125, 0.036073833922925125, 0.03608397275666452, 0.03608397275666452, 0.03613255808821196, 0.03613255808821196, 0.03613992720834951, 0.03613992720834951, 0.03615900152967536, 0.03615900152967536, 0.036166037043404216, 0.036166037043404216, 0.03616730628360321, 0.03619601896072712, 0.036198366132336235, 0.036198366132336235, 0.036243132576563614, 0.03627762599762967, 0.03627976862732584, 0.03627976862732584, 0.03628550328532069, 0.03628914985014473, 0.036298441884627476, 0.036307793049518526, 0.036307793049518526, 0.036330756382297096, 0.036330756382297096, 0.036348204115302464, 0.03635369586263239, 0.03638410785675365, 0.03638410785675365, 0.036385469026685824, 0.036385469026685824, 0.03639452951286633, 0.03639452951286633, 0.03640959466028069, 0.03640959466028069, 0.03641833283423449, 0.03641833283423449, 0.036436486123460045, 0.036436486123460045, 0.03645303043489921, 0.03645303043489921, 0.03646513594324379, 0.036494778565933465, 0.036494778565933465, 0.0365064579231634, 0.0365064579231634, 0.036520982622588176, 0.03652316671352071, 0.03652316671352071, 0.03653328094428225, 0.03653328094428225, 0.036557078459257236, 0.03656975834167427, 0.03656975834167427, 0.0366012903273185, 0.03661423082127185, 0.03665284726497027, 0.03667730391794524, 0.03667730391794524, 0.03671243704732847, 0.03671243704732847, 0.03672259237434341, 0.03672259237434341, 0.0367287669813625, 0.0367287669813625, 0.03673092502691365, 0.03673092502691365, 0.0367659585212957, 0.036787661232342624, 0.036787661232342624, 0.036796234678292294, 0.03680243684118239, 0.03680243684118239, 0.036807342854507936, 0.036807342854507936, 0.03681930198996388, 0.03681930198996388, 0.03684609648018087, 0.03684609648018087, 0.036849918586715824, 0.036849918586715824, 0.036852190104112156, 0.036852190104112156, 0.03686128398744544, 0.03686128398744544, 0.036868180349376015, 0.036895590571232595, 0.036895590571232595, 0.03690384237430681, 0.03690413311920748, 0.03690413311920748, 0.03692444208466586, 0.03692852548713998, 0.03692852548713998, 0.03693668521472827, 0.03693761661538795, 0.03695793130813021, 0.03695793130813021, 0.03704108131349092, 0.03704108131349092, 0.03706145458384128, 0.03706145458384128, 0.03708858411149769, 0.03708858411149769, 0.037089475044527385, 0.037089475044527385, 0.03709670236947657, 0.03709670236947657, 0.037097210710328545, 0.03709834970380694, 0.03709834970380694, 0.03709981909409641, 0.03709981909409641, 0.037108626460157834, 0.03710930185842789, 0.037111666647800114, 0.03712065996342077, 0.03712065996342077, 0.037135481467900515, 0.037135481467900515, 0.037141181912239675, 0.037141250790107105, 0.037141250790107105, 0.03717906561750315, 0.03717906561750315, 0.037191758554640374, 0.037191758554640374, 0.037194506564176125, 0.037194506564176125, 0.03719569179680179, 0.03722188380674673, 0.03722188380674673, 0.037237724786049885, 0.037237724786049885, 0.037260913656875276, 0.03727073263748683, 0.03727073263748683, 0.037272026209059984, 0.037272026209059984, 0.0372896808800025, 0.037298303155206436, 0.037298303155206436, 0.03733069894595465, 0.03733944421544717, 0.03736286380042137, 0.03736286380042137, 0.03736779519187097, 0.03736779519187097, 0.03736827300833976, 0.03736827300833976, 0.03737292656579072, 0.03737292656579072, 0.03738373590986808, 0.037384872799537554, 0.037384872799537554, 0.03738631320739862, 0.03738631320739862, 0.03740915849993492, 0.03743383384994403, 0.037437430641627044, 0.037437430641627044, 0.03743896285627524, 0.03747092334952425, 0.03748578389139411, 0.03748578389139411, 0.03749145842571314, 0.03750134119500149, 0.03750134119500149, 0.03752898869941421, 0.03752898869941421, 0.037542132808066585, 0.03755229998251175, 0.03757672798005692, 0.037597116489627165, 0.037597116489627165, 0.037601862716433426, 0.037601862716433426, 0.03762847036151301, 0.03762847036151301, 0.037629362866587523, 0.03766178236081724, 0.03766178236081724, 0.037668523470930734, 0.037668523470930734, 0.03766864322231518, 0.03766864322231518, 0.03766923192136005, 0.03768744390361524, 0.03768744390361524, 0.03769670076841818, 0.03769670076841818, 0.03770514222119916, 0.03772007585205449, 0.03772099493934847, 0.037748817161983736, 0.03776758330956831, 0.03779431717339464, 0.03779431717339464, 0.03779545858631378, 0.03779545858631378, 0.03781070667954701, 0.03785317565022177, 0.03785593504320463, 0.03786662197287445, 0.03788223921769268, 0.037889797469156654, 0.03791203910476481, 0.03791203910476481, 0.037940182424782955, 0.03796783954649067, 0.03796783954649067, 0.038022554056890194, 0.038027686014643736, 0.03804842474906777, 0.03804842474906777, 0.038059587930949795, 0.03809169593000375, 0.03810105714412559, 0.03810105714412559, 0.038115579111500555, 0.038126732386357554, 0.038189397946344676, 0.03819211642215411, 0.03819475462806198, 0.038199158244270996, 0.03821597891147883, 0.03821597891147883, 0.038263674914056245, 0.038314622336451616, 0.038323632803333556, 0.03832888567695665, 0.03832888567695665, 0.038341061148876886, 0.038341061148876886, 0.038343610573094704, 0.038343610573094704, 0.03834928567957229, 0.03834928567957229, 0.03838194802415613, 0.03838194802415613, 0.038418260468057214, 0.0384581144110475, 0.0384581144110475, 0.03851317142887346, 0.03854070971293516, 0.038563402914905315, 0.038563402914905315, 0.03857220914318946, 0.03857220914318946, 0.03859668893931273, 0.03860341442900402, 0.03860341442900402, 0.03861026256850749, 0.038646843011419775, 0.038646843011419775, 0.0386551975851618, 0.03865875345571562, 0.03865875345571562, 0.038672101776979814, 0.038672101776979814, 0.038696539132427515, 0.038696539132427515, 0.038699783868301474, 0.038699783868301474, 0.038741203145210436, 0.038742908125180185, 0.038742908125180185, 0.03874367368457553, 0.03875738876865296, 0.03877715001089812, 0.03877715001089812, 0.03878296585912679, 0.03878296585912679, 0.038785215106399054, 0.03878580574989314, 0.03878580574989314, 0.03878971425238705, 0.038818226899590184, 0.038818226899590184, 0.03883900862553717, 0.038883533851199956, 0.038891603472033555, 0.038920389254303196, 0.038920389254303196, 0.038924132260007904, 0.03894655201273604, 0.03894655201273604, 0.038962348742977146, 0.038962348742977146, 0.03901853793353866, 0.039032897553024935, 0.039049445815715074, 0.039084772011381136, 0.03909421255925349, 0.03909604639240809, 0.03909604639240809, 0.0391103217028561, 0.0391103217028561, 0.03913467825541417, 0.039152820072889054, 0.039152820072889054, 0.03915384518682671, 0.03915384518682671, 0.03919416212904677, 0.03919719004424812, 0.03921447021004625, 0.03921447021004625, 0.03923000556403099, 0.039249434726852, 0.03926324992386638, 0.03926324992386638, 0.03928054556672428, 0.039307070304547116, 0.039309024870931415, 0.03933891413119431, 0.039361735247792476, 0.03937626262828734, 0.03937626262828734, 0.03938152286811787, 0.03939290094605513, 0.03939290094605513, 0.039428914237723246, 0.039432205505012814, 0.039432205505012814, 0.03943264624338593, 0.03944235547176372, 0.03944235547176372, 0.039454536629410696, 0.039454536629410696, 0.03947233919816289, 0.03947233919816289, 0.039484295693414266, 0.039484295693414266, 0.03948853878421848, 0.03949339417661307, 0.03951242928503118, 0.03952865539745111, 0.03953395427517676, 0.03953395427517676, 0.03955271867887071, 0.03955271867887071, 0.03958543731489944, 0.03958543731489944, 0.03961688220886199, 0.03961688220886199, 0.03963602052729085, 0.0396597480569579, 0.0396840400247414, 0.0396840400247414, 0.039691871852600584, 0.03969925458150387, 0.03969925458150387, 0.039724439892157196, 0.039724439892157196, 0.03972501009450872, 0.03972501009450872, 0.039779732384456847, 0.039792113981427235, 0.039792113981427235, 0.039796461159026485, 0.03982596169118988, 0.03982596169118988, 0.03982829220609325, 0.03983917084629295, 0.03983917084629295, 0.03986471806724312, 0.03987013706464738, 0.03990658492339988, 0.03990658492339988, 0.0399110885224892, 0.03992048366349322, 0.03992048366349322, 0.039940752532098445, 0.039940752532098445, 0.039945784461703056, 0.039945784461703056, 0.039947575354338676, 0.039947575354338676, 0.03995725903613649, 0.03995725903613649, 0.039964550697718905, 0.03999754771111916, 0.04002479729966881, 0.04003581984190824, 0.04003581984190824, 0.040049373081719464, 0.04005981931347949, 0.04005981931347949, 0.04006928178389456, 0.04006928178389456, 0.04007330004963748, 0.04007330004963748, 0.04010466865615117, 0.04011522216393019, 0.04011522216393019, 0.04011883105206787, 0.0401245783495533, 0.04013701892265041, 0.04013701892265041, 0.04015806654389984, 0.04015806654389984, 0.04016180482387322, 0.0402372648335594, 0.04024223258028796, 0.04024223258028796, 0.040257625362669955, 0.040257625362669955, 0.0403129095284841, 0.04034460835430947, 0.04034460835430947, 0.04037753505920902, 0.040413710177834294, 0.040413710177834294, 0.04043308414298119, 0.04043308414298119, 0.04043823351403073, 0.04044787807481997, 0.040490570878587755, 0.04049310818731959, 0.04049310818731959, 0.04050778898502362, 0.04050778898502362, 0.04054194516396882, 0.04054194516396882, 0.040547018626006175, 0.040548062462293276, 0.04058113302087182, 0.04059217299807263, 0.04059217299807263, 0.040592343445235254, 0.040594565330797576, 0.04060299833359497, 0.04061106179125569, 0.04061106179125569, 0.040611200928332106, 0.04062653334764462, 0.04062653334764462, 0.04068719348175835, 0.04070810236452027, 0.04070810236452027, 0.04071582978047758, 0.04072058749284691, 0.04072378704607052, 0.04072378704607052, 0.04073547249667545, 0.04075763389180235, 0.04075763389180235, 0.04076603508478816, 0.04076603508478816, 0.040771960141635366, 0.040771960141635366, 0.04077918164153074, 0.040782967023852264, 0.04081475547836195, 0.04081475547836195, 0.040839493146053056, 0.04086037709111858, 0.04089709309224385, 0.040923425053709675, 0.04093433252436498, 0.040965773640101816, 0.04096656789317762, 0.04096656789317762, 0.0409858102231098, 0.04099228302944031, 0.04099272275003685, 0.041051191031422025, 0.041051191031422025, 0.041054838218304766, 0.04105653141485896, 0.04105653141485896, 0.04106843794294792, 0.04106843794294792, 0.04107226649943709, 0.04107226649943709, 0.04109192577094492, 0.04110573989167017, 0.04111059237706462, 0.04111059237706462, 0.04111353870499532, 0.041141671642530804, 0.041141671642530804, 0.0411646410250969, 0.04117867206772737, 0.04118485547619566, 0.041199240868415477, 0.041199240868415477, 0.04120208176601828, 0.04120208176601828, 0.04120430218877702, 0.04120696962995221, 0.04122333968627658, 0.04122879453911549, 0.04123855923954464, 0.041257957535560046, 0.04125981271485127, 0.0412697067143764, 0.0412697067143764, 0.04130602442696871, 0.04131855367582969, 0.04131855367582969, 0.04133536341613385, 0.04135072139919919, 0.041355264921819755, 0.04140956499551619, 0.04142252954220212, 0.04142252954220212, 0.0414324668342669, 0.0414375894621983, 0.0414375894621983, 0.04144365944593272, 0.04148574731888735, 0.04148574731888735, 0.04149497918387395, 0.04149497918387395, 0.04149516592840888, 0.04149516592840888, 0.04149762459858097, 0.04150419032424856, 0.04150419032424856, 0.041504699555445494, 0.041504699555445494, 0.041508887732488814, 0.041508887732488814, 0.04151807602678698, 0.04151807602678698, 0.04152785099379463, 0.041534139504626276, 0.041534139504626276, 0.04155487316801824, 0.04155487316801824, 0.041556848305890876, 0.041573734572353784, 0.04158373320744359, 0.04158373320744359, 0.04159562023667601, 0.04159562023667601, 0.04162823219634762, 0.04163843553479693, 0.04167075004583691, 0.04167075004583691, 0.04167672902581853, 0.04167672902581853, 0.04169998691617155, 0.04173843342262857, 0.04173843342262857, 0.041765383743668796, 0.041772042077218706, 0.041777047957818295, 0.041805480910681925, 0.041805480910681925, 0.04184109262425807, 0.04184396831516971, 0.041850207007540954, 0.04186425369593201, 0.04186564473646151, 0.04188376557308169, 0.04188867699751719, 0.04188867699751719, 0.04189558945353363, 0.04189558945353363, 0.041902248743311304, 0.041921723253876254, 0.04193003663627595, 0.04197019183821705, 0.041979512988020294, 0.041979512988020294, 0.041987683540320175, 0.04199846523096207, 0.04199846523096207, 0.04200347779571855, 0.04200347779571855, 0.042043109442265955, 0.04205557423527602, 0.04206106042277911, 0.04206106042277911, 0.04206167448958296, 0.042081557411439235, 0.042081557411439235, 0.04212109339089066, 0.04212109339089066, 0.04212713500420061, 0.04215690536079768, 0.042183066542040425, 0.042183066542040425, 0.04222210269825946, 0.04223795448064001, 0.0422580475078404, 0.0422580475078404, 0.04227872211062765, 0.04230106957914258, 0.042302094388465036, 0.042302094388465036, 0.042329942522559276, 0.042358206897593474, 0.042358206897593474, 0.04238770896855744, 0.04240302416881206, 0.04240302416881206, 0.042424713297901644, 0.04242623327689118, 0.04242623327689118, 0.042442836591715535, 0.042455477142472914, 0.042455477142472914, 0.04246713501092767, 0.042469911632106554, 0.042519466750964796, 0.042519466750964796, 0.04252235818678617, 0.04252615682199509, 0.04253402944527687, 0.042534083594712224, 0.042543433954540556, 0.042543433954540556, 0.04254911795756697, 0.04259788010972071, 0.042621872698593855, 0.042621872698593855, 0.04262849257154716, 0.04262849257154716, 0.04264684306914993, 0.04264684306914993, 0.04267322717252759, 0.04267707572353879, 0.04268070413316491, 0.04268070413316491, 0.042696225863819055, 0.042696790414820954, 0.042696790414820954, 0.042701481211094836, 0.042709282712986026, 0.042709282712986026, 0.04271264152638257, 0.04271264152638257, 0.0427237700036895, 0.0427237700036895, 0.0427443978949575, 0.042772341621778676, 0.04278646304250415, 0.042800113163689965, 0.042814424562418206, 0.04284367237991698, 0.04284367237991698, 0.04284902099806205, 0.04285137188880649, 0.04285137188880649, 0.042862897928244756, 0.04287828405687367, 0.04287828405687367, 0.04288189563577664, 0.04288282289790474, 0.04288282289790474, 0.04289416673423606, 0.042931271251752, 0.0429364987019257, 0.043007060171871926, 0.04301805338810239, 0.043053935143801715, 0.043053935143801715, 0.043055135006274434, 0.043070087970207546, 0.043070087970207546, 0.04307170094425471, 0.04307170094425471, 0.043090442372792546, 0.04311869006977354, 0.04311869006977354, 0.04313343656193399, 0.04313343656193399, 0.043154068883817905, 0.043189493748196424, 0.043216139252205556, 0.043216139252205556, 0.04323836050783346, 0.04325403529228987, 0.04325403529228987, 0.04326026375629151, 0.04326026375629151, 0.04326233553207164, 0.043277896481395205, 0.04328003744966362, 0.043285199489683505, 0.043285199489683505, 0.04329316938050432, 0.0432953854161921, 0.0432953854161921, 0.04331177246896764, 0.04331177246896764, 0.04331222193342127, 0.04331222193342127, 0.043314475943636944, 0.043314475943636944, 0.04334331917203295, 0.04334331917203295, 0.043363187427218695, 0.043405012377665524, 0.04343714582704788, 0.0434373680188217, 0.04344271694745958, 0.04344271694745958, 0.04345389692919713, 0.04351237038929211, 0.04351237038929211, 0.04352657034017617, 0.043562038139538045, 0.043562038139538045, 0.04357866519604531, 0.04357866519604531, 0.04358469174192001, 0.04358469174192001, 0.043588592725198036, 0.043588592725198036, 0.043588999282784036, 0.04359651576551318, 0.04359651576551318, 0.04361424677050703, 0.04361424677050703, 0.04361613549307289, 0.043622583808299135, 0.04362368223644237, 0.043657419348527, 0.043657419348527, 0.043662835507128246, 0.043662835507128246, 0.04368098672271864, 0.04368452337655316, 0.04373069947252814, 0.04374641873914923, 0.043746793825546276, 0.04376429388271528, 0.04376429388271528, 0.04378627606231749, 0.043828722483638886, 0.043828722483638886, 0.04383222068123863, 0.04383481673263886, 0.04383481673263886, 0.04384941765525584, 0.043857882747177786, 0.04388922410954738, 0.04388922410954738, 0.04389748094989661, 0.04389748094989661, 0.04389764320593712, 0.04389764320593712, 0.04390960748802534, 0.043945260849801715, 0.043945260849801715, 0.0439676022799595, 0.04399056107266116, 0.04399056107266116, 0.0439973449175545, 0.04402196733238034, 0.04402639739676934, 0.044026726073380804, 0.044030835436023465, 0.044030835436023465, 0.04404568037295136, 0.044061927604680064, 0.044061927604680064, 0.04406593928660599, 0.04408361675526603, 0.04408361675526603, 0.044095592466368745, 0.04409604844465741, 0.04411066438278117, 0.04414316395437819, 0.04415958806703596, 0.04418192755368912, 0.04418192755368912, 0.04419978646072586, 0.04419978646072586, 0.044208042856970546, 0.04421211851145098, 0.04424646266014354, 0.04427516159259164, 0.04427516159259164, 0.04429802308537031, 0.04432331366362043, 0.04434632105274614, 0.044364984325771795, 0.044364984325771795, 0.04438918111348254, 0.04438918111348254, 0.044407780398360526, 0.044407780398360526, 0.04441175604401143, 0.04441175604401143, 0.04447171023972724, 0.04447171023972724, 0.044507506329995165, 0.04452953341796698, 0.04452953341796698, 0.0445532157254343, 0.044573067216365954, 0.04457414769430005, 0.04457414769430005, 0.04465760665264854, 0.044681710023397395, 0.044681710023397395, 0.04468824252121018, 0.04468824252121018, 0.044724689422315, 0.044724689422315, 0.04476200295708438, 0.04476200295708438, 0.04477604478715886, 0.04478473455776191, 0.04478984344050479, 0.04482085521347092, 0.04482085521347092, 0.044830285340494075, 0.0448373976433879, 0.0448373976433879, 0.04484142255598973, 0.04488159419057825, 0.04488159419057825, 0.04490525306920963, 0.04490943985003579, 0.04490943985003579, 0.044956944281188134, 0.044956944281188134, 0.04497367027361294, 0.04497367027361294, 0.044980626413236906, 0.044980626413236906, 0.04499045377900565, 0.0449948618207245, 0.0449948618207245, 0.04501524455194292, 0.04501524455194292, 0.045018669617985355, 0.04507046527957873, 0.045114472055222475, 0.045114472055222475, 0.04514782274611717, 0.04514782274611717, 0.04517740091545136, 0.04518794665165238, 0.045197363606260886, 0.04520292365197895, 0.04520292365197895, 0.045221154835497684, 0.04523218620207388, 0.04523641389674973, 0.045260005239398195, 0.045330454254276585, 0.04534398028877164, 0.04534398028877164, 0.045348743871766926, 0.04535637913144534, 0.04535637913144534, 0.04541905168785639, 0.04544792316699065, 0.04544792316699065, 0.04546257389986015, 0.04546711255154157, 0.04546711255154157, 0.04548311932341922, 0.04551680504725299, 0.04551936838410679, 0.04551974994777779, 0.0456258224118796, 0.04564572386251768, 0.0456521663778552, 0.0456534558794201, 0.04566230011638316, 0.045671058651241415, 0.045671058651241415, 0.04572440760553408, 0.045791736442471954, 0.045803451279396244, 0.045804185898166705, 0.045804185898166705, 0.045804192007375996, 0.045804192007375996, 0.0458269287079691, 0.0458269287079691, 0.045878675315920915, 0.045878675315920915, 0.045976136011373396, 0.045984735919935626, 0.04600046929583698, 0.04600046929583698, 0.046005342229471696, 0.046028739201505055, 0.046083040027778195, 0.04608605911066325, 0.046094499816965624, 0.04611781289876881, 0.04613106915423942, 0.04613106915423942, 0.046184622947046686, 0.046187165998039986, 0.04620658783260362, 0.04622771520826494, 0.04622771520826494, 0.046278485752543695, 0.046278485752543695, 0.04628101099990296, 0.04628101099990296, 0.04629596322276398, 0.04629596322276398, 0.04632768967536259, 0.04637147916860154, 0.04637694185558304, 0.046382444566975996, 0.04642277952330446, 0.04642277952330446, 0.04642393587446082, 0.04642498608291546, 0.04642498608291546, 0.046430877104952646, 0.046430877104952646, 0.046440486701928435, 0.046440486701928435, 0.046454945562641944, 0.046454945562641944, 0.04646613087503946, 0.04649311603652906, 0.04650296013603274, 0.04650296013603274, 0.046504677342457716, 0.046504677342457716, 0.046516367089172436, 0.046531638744918405, 0.046531638744918405, 0.04653204629635495, 0.0465520973382833, 0.04657569580811961, 0.046581296667359225, 0.046581296667359225, 0.04658566920007781, 0.04660734969031758, 0.04661861760069996, 0.04662181853250084, 0.04662606579536717, 0.04662606579536717, 0.046633980869254535, 0.0466475979047001, 0.0466475979047001, 0.046652670561528276, 0.04665482286166241, 0.046688996786349087, 0.04670936866913546, 0.04670936866913546, 0.046724329329113, 0.04676434055943413, 0.04676434055943413, 0.046776011695240115, 0.046793443172968796, 0.046793936522227804, 0.046793957945643075, 0.04682728095856058, 0.04685724166635233, 0.046870484147699065, 0.0469462324600153, 0.0469824607043264, 0.0469824607043264, 0.04700975097122392, 0.04703762449651728, 0.047091086767263035, 0.04709581387793882, 0.04709659176128174, 0.047111861495732564, 0.04713285269306741, 0.04713285269306741, 0.047149860519078324, 0.04715206427085328, 0.04718147688321168, 0.04718147688321168, 0.04719135870629004, 0.04719242940401791, 0.04719490995623842, 0.047201743066161816, 0.047201743066161816, 0.04720913421535418, 0.04721588289770646, 0.04721588289770646, 0.04722126416666483, 0.047279150635042, 0.04729684946061435, 0.04730199433664689, 0.047309913708840926, 0.04736157254009604, 0.04736589806210874, 0.04736589806210874, 0.04744605115504632, 0.04745090175153344, 0.047454916357997014, 0.047454916357997014, 0.04745747700202652, 0.04746067450847381, 0.04746067450847381, 0.04746702680069117, 0.04749565719063349, 0.04754433706995901, 0.04754433706995901, 0.04755764204473389, 0.047613255949974405, 0.047613255949974405, 0.047631195868784205, 0.047649118823017644, 0.04766308105300077, 0.04766308105300077, 0.04772735315941135, 0.04776910865158001, 0.04777147665289188, 0.04778040637299987, 0.04780404450500598, 0.04781290935464242, 0.04781290935464242, 0.04782156327237533, 0.04782620095443856, 0.04782620095443856, 0.047854458631962055, 0.04786845756056637, 0.04787669963917601, 0.04787669963917601, 0.047881054235257695, 0.047881054235257695, 0.04789728730180374, 0.04789728730180374, 0.047907991682468086, 0.047907991682468086, 0.04792194105186059, 0.04792194105186059, 0.04792981685169804, 0.04795360825054441, 0.047982043146405286, 0.04798604628938868, 0.048010318545469735, 0.04804959084672166, 0.04807466367842631, 0.04807466367842631, 0.048076373679586386, 0.0481546644718437, 0.0481546644718437, 0.04815698452513667, 0.04816965266312305, 0.048175901603445835, 0.048193337148658456, 0.048193337148658456, 0.04820449379372392, 0.04821351321562335, 0.048232519995058475, 0.048238103107505904, 0.048238103107505904, 0.04824032301735872, 0.04830146742444459, 0.04830146742444459, 0.04831629829338828, 0.048347511991793726, 0.04836405677829065, 0.04836767694269879, 0.04841256252009723, 0.04841256252009723, 0.04847473275125363, 0.04847473275125363, 0.048480190500553605, 0.048480190500553605, 0.04850537258835518, 0.04853362878799082, 0.04853362878799082, 0.048535488175661695, 0.04855511449461461, 0.04856164626028114, 0.048606836713529215, 0.0486397904833169, 0.0486397904833169, 0.04865507900898649, 0.04865507900898649, 0.048659326418578515, 0.0486699239892296, 0.048677099722115105, 0.0487045017281806, 0.0487474474120642, 0.048779462479419486, 0.04880291148170858, 0.04881740897652148, 0.048845830237136845, 0.0488514085624776, 0.04885530246192687, 0.04885530246192687, 0.04888733770007325, 0.04888733770007325, 0.048891831047237544, 0.04897867619781011, 0.048987839025550546, 0.04901008322299466, 0.04902950602456588, 0.04902950602456588, 0.04903840410125536, 0.04903840410125536, 0.049044514143912775, 0.049085406483788285, 0.049085406483788285, 0.04910030525329579, 0.04910030525329579, 0.0491107767520644, 0.04911829291130721, 0.04911829291130721, 0.04912446783699704, 0.04912446783699704, 0.049148167799384954, 0.04918586743094741, 0.04920567966075428, 0.049214982905494184, 0.04922305317822483, 0.04922503963646022, 0.04922861192895091, 0.04922861192895091, 0.049236401659150664, 0.049236401659150664, 0.049241453364931506, 0.049241453364931506, 0.04926023218701159, 0.04926421107238888, 0.04933392118876208, 0.04933392118876208, 0.04934512345555078, 0.04934512345555078, 0.04935058945687212, 0.0493574515420556, 0.0493574515420556, 0.049359292251504906, 0.049359292251504906, 0.04936024549515117, 0.04937617183008422, 0.04941120512255331, 0.04941120512255331, 0.04941461021586411, 0.0494148639864399, 0.04941891669265662, 0.049424571160614494, 0.04951448365811669, 0.04957713650966719, 0.049607608650044634, 0.04961109041355454, 0.04961109041355454, 0.049642820388633505, 0.049645790855358585, 0.049657604502187376, 0.0496995606524708, 0.04976541160194318, 0.04979105101367903, 0.049801652945046, 0.049813289631871295, 0.049839039972346746, 0.049839039972346746, 0.049862599062610764, 0.04991584914525075, 0.0499698019570516, 0.049987026362142195, 0.04999563368567925, 0.04999563368567925, 0.050057950985971544, 0.050057950985971544, 0.05008633613738472, 0.05008633613738472, 0.05009485743513492, 0.05013347270664251, 0.0501619214046411, 0.0501697038565513, 0.050175232473216265, 0.050175232473216265, 0.05018383578482146, 0.05018383578482146, 0.0502032130895074, 0.0502032130895074, 0.050223419884287517, 0.050223419884287517, 0.050231640357839724, 0.05023326962138675, 0.05024054269851104, 0.050243070301952485, 0.050243070301952485, 0.05024650702508286, 0.050251265895607175, 0.05027114224287413, 0.05027114224287413, 0.05029490951843894, 0.05029490951843894, 0.05029949019004332, 0.05032224028229082, 0.05039359244725628, 0.050441943010519755, 0.050441943010519755, 0.05046299741097576, 0.05046299741097576, 0.0504673613443496, 0.050474597828535465, 0.050537404453565124, 0.050537404453565124, 0.050546325553959284, 0.0505566780046632, 0.050558972228484315, 0.050568268714394946, 0.050568268714394946, 0.05058797036450105, 0.050611079298041664, 0.05061194314730154, 0.05061194314730154, 0.0506559400987146, 0.05068664659899173, 0.0506898661820673, 0.0506898661820673, 0.05069071872372435, 0.050704653320570864, 0.050704653320570864, 0.05074949428307213, 0.05076088707618078, 0.05076583901705911, 0.05077975910181753, 0.05077975910181753, 0.05078726156167277, 0.05078726156167277, 0.05084797296088813, 0.05087010003917943, 0.05087010003917943, 0.05089491045429395, 0.05091459692526893, 0.050919255713822845, 0.050960058445405444, 0.050977145854452066, 0.050989313325977864, 0.05098970449749616, 0.05098970449749616, 0.05102971956632879, 0.05103058129658299, 0.05103058129658299, 0.05105615883768118, 0.05105615883768118, 0.051077852757413285, 0.05109986856266471, 0.05110083706648695, 0.05110575252872448, 0.05118859702808129, 0.051211050216730496, 0.051211050216730496, 0.0512204513252442, 0.0512204513252442, 0.05122810294374234, 0.05125077810543176, 0.05125077810543176, 0.05130069126530182, 0.05130548958800067, 0.05134713124224422, 0.05135266677564297, 0.0513793323453725, 0.0513793323453725, 0.05139882815780096, 0.05141371560725815, 0.05144251534477925, 0.05144251534477925, 0.05144361197619754, 0.05144361197619754, 0.051515760936017396, 0.051547077154417364, 0.051550450475829436, 0.05155312068139373, 0.05155504852979238, 0.051555569590721426, 0.05155759533094118, 0.05155957275190935, 0.05155957275190935, 0.0515861003309386, 0.0515861003309386, 0.05159653377735668, 0.05160466139034485, 0.05160471939014131, 0.05160471939014131, 0.05160728046899398, 0.05162383224603552, 0.051670722109536715, 0.051676356334682295, 0.05169216831890384, 0.051701451857243695, 0.05171701949327514, 0.05171939662508516, 0.05175014568696595, 0.0517846254238894, 0.0517846254238894, 0.0518015445665059, 0.051805796793798375, 0.051805796793798375, 0.05184581854501837, 0.05185811283027149, 0.05187674245480135, 0.051901649789599894, 0.05191255693748753, 0.05191309067648619, 0.05191309067648619, 0.05194790497373326, 0.051989746976496345, 0.05199458173980986, 0.052048720816920004, 0.052048720816920004, 0.05206881576681037, 0.05206881576681037, 0.052084850655972015, 0.052088375108659796, 0.052088375108659796, 0.05210626972347222, 0.05211355044588559, 0.05211729764906373, 0.05213251245743135, 0.052136102109007224, 0.052155014944809897, 0.05216029788171731, 0.052177781496152466, 0.05220701468880965, 0.052215564498062916, 0.052236577930891745, 0.05224530484342557, 0.05227427768043383, 0.05227731579394664, 0.05229887541530705, 0.05234443536399648, 0.05234443536399648, 0.0523457634310084, 0.052398129432877964, 0.052489812573277804, 0.05253935664458242, 0.05253935664458242, 0.05253960079758422, 0.05253960079758422, 0.05254210725602898, 0.05255572688498465, 0.0525566686522406, 0.052572374644338365, 0.05259194651645311, 0.05265317570084043, 0.052673058182313194, 0.052694903154955106, 0.052694903154955106, 0.052717957572368024, 0.05272162810472359, 0.05272622919827904, 0.05272622919827904, 0.05276439343768429, 0.05277297344873362, 0.052775654554204424, 0.05278130067688001, 0.05281189581536462, 0.05281597384572645, 0.05281597384572645, 0.05285723260098295, 0.05285723260098295, 0.052875932034789505, 0.052875932034789505, 0.052880493321729824, 0.05290867873039376, 0.05294031212471359, 0.0529995066854462, 0.05300551247580683, 0.05300832283242519, 0.053016362704368526, 0.053026173374251896, 0.053026173374251896, 0.05306512489545243, 0.05306512489545243, 0.053066204736452856, 0.053094687011058565, 0.053114309434892454, 0.05316016343255497, 0.05317371293093155, 0.05317371293093155, 0.05319564980574442, 0.05324783765577347, 0.05324783765577347, 0.053262452702255075, 0.053262452702255075, 0.05326536788169281, 0.05326536788169281, 0.05328630529768471, 0.05329312920756916, 0.05334531584402452, 0.05334531584402452, 0.05337094474250315, 0.05338062235327951, 0.053406827968314315, 0.053406827968314315, 0.05341740713776901, 0.05345090202063713, 0.05348139951410073, 0.053520613891672994, 0.053550671877745516, 0.053552161047823725, 0.05357192199330937, 0.05358803422012897, 0.05365147954447954, 0.05365691212989932, 0.05365691212989932, 0.053676812275423036, 0.053676812275423036, 0.05368487118928453, 0.053686858334015174, 0.05369758794167971, 0.05376850287264916, 0.05377915241980014, 0.05378192522193841, 0.05378192522193841, 0.05379103673077981, 0.05383084372587178, 0.05383084372587178, 0.05385562042239933, 0.05386027708198832, 0.05390945481982514, 0.05396684958092446, 0.05396720205707826, 0.05396720205707826, 0.05397138041840835, 0.053996735188440746, 0.05401552880292431, 0.054059552206867145, 0.054059552206867145, 0.05406762545178109, 0.05415611724491065, 0.05423982170548401, 0.05432583064784368, 0.05432709833395312, 0.05432709833395312, 0.0543575598709162, 0.05435904887319496, 0.05435904887319496, 0.05437368246504732, 0.054377361444402965, 0.05438622395664098, 0.054386989534799285, 0.05439004274791236, 0.05439219296939315, 0.05442407104415527, 0.054449796995594914, 0.05446739759493876, 0.05447816050676233, 0.05447923289726781, 0.05448440405080508, 0.05449830271560852, 0.05452797543296737, 0.05459411946532515, 0.054691144152856204, 0.054691144152856204, 0.054705836638218534, 0.054705836638218534, 0.05470987894008412, 0.05471071342625565, 0.05471071342625565, 0.05472333237541326, 0.05478475303905694, 0.05481175298366386, 0.05481175298366386, 0.05485343778689164, 0.05485381780967433, 0.05485381780967433, 0.05486772083221199, 0.0548678391461996, 0.0548682219111174, 0.05490744117178574, 0.05499752042435181, 0.05501111294549953, 0.055012550244143234, 0.055012550244143234, 0.05501299517886902, 0.0550159456266426, 0.0550159456266426, 0.05503689507336289, 0.05503689507336289, 0.05509553356256991, 0.055120100597218086, 0.05512492815124478, 0.05521646975250342, 0.05526999244513279, 0.055275811996823285, 0.055275811996823285, 0.0552871977034217, 0.05531251030929936, 0.05531439552614135, 0.05531538527190159, 0.05531538527190159, 0.05534284003817877, 0.05534284003817877, 0.05538088924037805, 0.05538088924037805, 0.055392372930622914, 0.055392372930622914, 0.055410328958928626, 0.055410328958928626, 0.0554105138796727, 0.05543708458424794, 0.0554442299600608, 0.05545489732991117, 0.055531061283699557, 0.05555186927665103, 0.05556531229392858, 0.05556531229392858, 0.055595154689744845, 0.05560029851571784, 0.05560029851571784, 0.05561549642059652, 0.05562025307058528, 0.05562215844694102, 0.05562215844694102, 0.05562415635427418, 0.055627874685532194, 0.05566293683842566, 0.05572263377339906, 0.05577202256036447, 0.05583650983519127, 0.05585003192635168, 0.055850948706340484, 0.05590133424337023, 0.05598043293847618, 0.05598244545675483, 0.05601937799665044, 0.05612202395277216, 0.05616153132053125, 0.05616251246985266, 0.056176607127060525, 0.05620951392519276, 0.0562215885930941, 0.05623095591600192, 0.05623095591600192, 0.05625901171737408, 0.05625901171737408, 0.056277331219274, 0.056277331219274, 0.05631529877928425, 0.05637865841334775, 0.05637865841334775, 0.05638766547481105, 0.05642477639762986, 0.05642477639762986, 0.05647624580764325, 0.05647886776699962, 0.05647886776699962, 0.05648224489128519, 0.05649109157145288, 0.05649109157145288, 0.05650197407005684, 0.056515424827994966, 0.0565197448182373, 0.05656004515331919, 0.05660349669652218, 0.0566146038800552, 0.05662691705659624, 0.05667212288352731, 0.05669236915744945, 0.056694044008389025, 0.056694044008389025, 0.05669904807910906, 0.05672270689031623, 0.05673321505026557, 0.05673321505026557, 0.05674687159091894, 0.05679174842783234, 0.05682459386965187, 0.056835872469928855, 0.05685052953924625, 0.05685052953924625, 0.05691748838815778, 0.05691748838815778, 0.056921157628521644, 0.056921157628521644, 0.05694894168105941, 0.056953994449671676, 0.05698109462368369, 0.05698109462368369, 0.057015215231248056, 0.05702097491135714, 0.05702728650004238, 0.05704289601357587, 0.057090541994347765, 0.057090541994347765, 0.05709672585061546, 0.05709811340873379, 0.05709811340873379, 0.05712909334271151, 0.05715960113543893, 0.05720137151469858, 0.05720137151469858, 0.0572264126816148, 0.0572264126816148, 0.05723828928736748, 0.05724309104311603, 0.05729884406013612, 0.05733232838667693, 0.05733232838667693, 0.057356436703198004, 0.05736393192526708, 0.05739650760603992, 0.05739650760603992, 0.05741343358422305, 0.0575076811157731, 0.05751207671933769, 0.05754799099380636, 0.05754799099380636, 0.05758275403345529, 0.05758275403345529, 0.05760958181951043, 0.05764161706808047, 0.057712576726162854, 0.05772014068850942, 0.057727099929425596, 0.05773878395731865, 0.05775401008919994, 0.057776562804961726, 0.057814425811882446, 0.057841090166963524, 0.057841090166963524, 0.05785921886966919, 0.05785921886966919, 0.05787626017838952, 0.057879521701986944, 0.057879521701986944, 0.05788598155505089, 0.05788598155505089, 0.0579684513870939, 0.05798339409952975, 0.058015543510495024, 0.05803444455440847, 0.05807703240467878, 0.05807703240467878, 0.05810283108298463, 0.05811168189086119, 0.058128942256337614, 0.05815443460102059, 0.05815605092866939, 0.05815605092866939, 0.05817910083846677, 0.05825399120049094, 0.058296980422723584, 0.058306135416555945, 0.05831538091158656, 0.058319722828128515, 0.058319722828128515, 0.0583734894197546, 0.05841909235477438, 0.05843468040806447, 0.05843956227731191, 0.0584441199996964, 0.05846220451124426, 0.05849468348562093, 0.05852949363002043, 0.05852949363002043, 0.05853120285869787, 0.05855509620426104, 0.05859253561503282, 0.05865320954228418, 0.05871979900538421, 0.05875532802314871, 0.05876752945528598, 0.0587759005939897, 0.05882599531185222, 0.05885832597092781, 0.05887240838263947, 0.058954432291246264, 0.0589694828909648, 0.0589694828909648, 0.059029835436766306, 0.05904504253614428, 0.05904504253614428, 0.0590568360665305, 0.0590568360665305, 0.05907861989412112, 0.059125039783041046, 0.059125039783041046, 0.0591422272400993, 0.05916957727879545, 0.05917749481996609, 0.05917749481996609, 0.05923896898288546, 0.059244412939373756, 0.05924659504020455, 0.05926631931227903, 0.05926631931227903, 0.05931750458266116, 0.05939933633748026, 0.05946899884454965, 0.05955765017165237, 0.05957185798040547, 0.05959575411193822, 0.05959575411193822, 0.059678600475195076, 0.05970181918601313, 0.05970497062329019, 0.05970779305597304, 0.05985304146171284, 0.05985571779426875, 0.05987073989310478, 0.059904092537469686, 0.059904092537469686, 0.05992847444133618, 0.059929570805325266, 0.06004000564068411, 0.060082375137497215, 0.060082375137497215, 0.060114150474881604, 0.060114150474881604, 0.06012528855227799, 0.06018397565389217, 0.060185429091520956, 0.06035587866862191, 0.06039292426738159, 0.06039292426738159, 0.0604162269067255, 0.0604162269067255, 0.06041657058798528, 0.060455210114524455, 0.060455210114524455, 0.06046838148937067, 0.06048047734653805, 0.06059028525028041, 0.06065018221679622, 0.06067826448676313, 0.06077913768516093, 0.060791664164351604, 0.06086346815618448, 0.060880098220927534, 0.060880098220927534, 0.061078383467374285, 0.06109174271182003, 0.06110542698508241, 0.06114191156626021, 0.06114191156626021, 0.06114595522477035, 0.061155857379759336, 0.06117113082089194, 0.061181203533902766, 0.061206091676489924, 0.06128503469499268, 0.06132171882703269, 0.06132171882703269, 0.06132684593585392, 0.06137263709641359, 0.06146746976971931, 0.06150694304922347, 0.061512092702795604, 0.06153645306427646, 0.0615485102024515, 0.061577175385825064, 0.06165183029155654, 0.06167732042834828, 0.06172965311096232, 0.06175638919193278, 0.0617636565111454, 0.06177119956344824, 0.06177119956344824, 0.061805236751673154, 0.061812660249093675, 0.06181636690800925, 0.06185078367814497, 0.06185078367814497, 0.06191836065477236, 0.06191836065477236, 0.061918636992330564, 0.061965271928105164, 0.061965271928105164, 0.061999008176724976, 0.062044282643027096, 0.06208678660166988, 0.06212338812659417, 0.06217487309313161, 0.06219582202649786, 0.062207526388704484, 0.062212128114704106, 0.062228551196330764, 0.06223651542331243, 0.062239112020054735, 0.062239112020054735, 0.062259539927077466, 0.062319316389063725, 0.062319316389063725, 0.06233031066141546, 0.06240668774603649, 0.0624122028558461, 0.06241362294091059, 0.06252480998330973, 0.06253504356423122, 0.06256072099251911, 0.06258593064801195, 0.06271474825541948, 0.06271474825541948, 0.06279222239734093, 0.0627935710497891, 0.06280661128694875, 0.06283323839955444, 0.06291861966776081, 0.06294813678000503, 0.06294813678000503, 0.06301081472637783, 0.06302464411654758, 0.06302464411654758, 0.0630332729397394, 0.0630332729397394, 0.06307369779324025, 0.06307369779324025, 0.06315998096668349, 0.06324094423841506, 0.06341201192795247, 0.06342809069421426, 0.06351572468490417, 0.06359760506669554, 0.06359760506669554, 0.06364281068344972, 0.06364359359954774, 0.06364684153072375, 0.06366327682826178, 0.06366327682826178, 0.06368063246212499, 0.06380581430171314, 0.06381202595244438, 0.06384237430371016, 0.06393155736707451, 0.06393155736707451, 0.06393258981627586, 0.06394488892145984, 0.06394729666085011, 0.06395185580416624, 0.0639724740000646, 0.0639733334669878, 0.06405626008991774, 0.06405626008991774, 0.06415310850348534, 0.0642366361464267, 0.06424151751922237, 0.06426421742156327, 0.06426421742156327, 0.06426450399089659, 0.06437921283012973, 0.06446691358360625, 0.06450277556313885, 0.06450969392962339, 0.06451014735659102, 0.06452452878481463, 0.06461027119583862, 0.06461027119583862, 0.06464881076022383, 0.06464881076022383, 0.06466405141241172, 0.0646844540080225, 0.06469180223375526, 0.06497690825524537, 0.06513323479235081, 0.06533534853715581, 0.06533787837962045, 0.06538304710514686, 0.06538304710514686, 0.06547099626050229, 0.06550218287849215, 0.06564342084854864, 0.06565309595882293, 0.06566603015427368, 0.06570625155134323, 0.06570840726969122, 0.06580968892811033, 0.06581836500062765, 0.06586897223585739, 0.0659009236575453, 0.0659009236575453, 0.06596561966784141, 0.06596993706139377, 0.06604165975872474, 0.06606177319937351, 0.06606177319937351, 0.0660630611634931, 0.06607766800020286, 0.06607766800020286, 0.06610225298859662, 0.06619735760321663, 0.06619735760321663, 0.06630503152207227, 0.06634409385777193, 0.0663888754547993, 0.06646902110440328, 0.06646902110440328, 0.06647597598265136, 0.06651405295917137, 0.06656763727962078, 0.06660691600858522, 0.06662306557728152, 0.066633834541654, 0.06664095656081058, 0.06664095656081058, 0.06666615740812061, 0.06666615740812061, 0.06666945390794336, 0.06686324263361478, 0.06686324263361478, 0.06689967037701988, 0.06718660329411523, 0.06733871735755653, 0.0673799418143522, 0.06740682471878388, 0.0675666256169074, 0.0675666256169074, 0.06760700007691647, 0.06760700007691647, 0.06760838532215381, 0.06764153631386208, 0.0677719900712636, 0.0678046515645212, 0.06784002568570692, 0.0678739291099733, 0.06792677751946598, 0.06797360148443964, 0.06802818869059807, 0.06804928888077316, 0.0681246087538899, 0.06819554330934086, 0.06824753474090593, 0.06828684115111301, 0.06829912768324878, 0.06829912768324878, 0.0683941360245898, 0.0683941360245898, 0.06841991611249981, 0.06841991611249981, 0.06846797641115812, 0.06855435505845124, 0.06855435505845124, 0.06864179990130913, 0.06882623103113648, 0.06885931565590005, 0.0689831038887855, 0.06904326326306442, 0.06907401275136738, 0.06908723067615125, 0.06910029156339263, 0.06910532189184461, 0.0691844846882292, 0.0691844846882292, 0.06921791727668615, 0.06931754364450618, 0.06932306074979433, 0.06932306074979433, 0.06933686777894939, 0.06933686777894939, 0.0694594367171489, 0.0694769852425973, 0.06974751200412244, 0.06978824276565436, 0.06979943825184826, 0.06982469456189433, 0.0698622065691554, 0.0698622065691554, 0.07008219867536203, 0.07018950889304072, 0.07024819875456122, 0.07024819875456122, 0.07028400044935837, 0.07039238896005758, 0.07039238896005758, 0.07069953731077398, 0.07069953731077398, 0.07078314124862657, 0.07079759430040498, 0.0708967198636059, 0.07091874785201219, 0.07100629912364695, 0.07103784170210117, 0.07122727396979497, 0.07143288619348026, 0.07144505461815008, 0.07164055158302335, 0.07164055158302335, 0.07173367737125488, 0.07175900790659633, 0.07178131357596808, 0.0718240448316488, 0.0718240448316488, 0.0719076693957695, 0.07191381378687393, 0.07191381378687393, 0.07195838496901526, 0.0719707002982795, 0.07209207620128984, 0.07209207620128984, 0.07213460980196153, 0.07213460980196153, 0.07218740364125503, 0.0721897849812865, 0.0721897849812865, 0.07225726460120248, 0.07226098661451337, 0.07226098661451337, 0.07229312908466247, 0.07229312908466247, 0.07232836468655272, 0.07232836468655272, 0.0723325755621314, 0.07298045318927901, 0.07298045318927901, 0.07301745215739165, 0.07319547799122426, 0.07319547799122426, 0.07332834918687102, 0.07352729698080798, 0.07371644771702203, 0.0737475385325173, 0.07378878505754743, 0.07395801802914247, 0.07398614600248254, 0.07398614600248254, 0.07402741210072067, 0.07402741210072067, 0.07403731014242208, 0.07425328815307719, 0.07426075732726106, 0.07426075732726106, 0.07438374709769996, 0.07463594525236013, 0.07468593548174421, 0.07470738370792172, 0.07477739372444249, 0.07484628475198181, 0.07484628475198181, 0.07488250517105509, 0.07488250517105509, 0.07500610745812601, 0.07504244543363539, 0.07504244543363539, 0.07506030452236682, 0.07506030452236682, 0.07519052625762526, 0.0753960310987762, 0.07546018440389893, 0.07552389222384814, 0.07552839763160628, 0.07554307857808538, 0.07554307857808538, 0.07573556703868214, 0.07583527920609594, 0.07583527920609594, 0.0758590828349439, 0.0758590828349439, 0.07590634374804407, 0.07605709367054063, 0.07609571035426796, 0.07611724810935207, 0.07616997211956773, 0.07616997211956773, 0.07623281885190804, 0.07623281885190804, 0.07635607046965365, 0.07659199118992663, 0.07713613849838528, 0.07713613849838528, 0.07715719733125234, 0.0771974210001684, 0.0771974210001684, 0.07752444447990864, 0.07758639536799286, 0.07765265327908454, 0.07773413013383755, 0.07773413013383755, 0.07774020346475878, 0.07782070075811323, 0.0779076340219836, 0.07793143350062982, 0.07800118085594793, 0.07802240874978825, 0.07821464483494237, 0.07824464470339688, 0.07851363363544975, 0.07861499076301509, 0.07897835077813013, 0.07914792328948611, 0.07922126708498192, 0.07928342939388208, 0.0793757422618499, 0.07956557445509209, 0.07964165415151246, 0.07995028565570565, 0.0801201595527511, 0.080129087152965, 0.080129087152965, 0.08019050177745986, 0.08019050177745986, 0.08048526885705967, 0.0805160748885779, 0.0807654084470548, 0.08079622500801244, 0.08090243543839146, 0.08095400577205701, 0.08095400577205701, 0.08101613190448145, 0.08103993061438514, 0.08117414301663281, 0.08117929374627401, 0.08117929374627401, 0.08129390423682135, 0.08129776403181854, 0.08129776403181854, 0.08157363120035184, 0.08157363120035184, 0.08176087625943855, 0.08176996764074118, 0.08178404506100266, 0.08181815573360546, 0.08198261027761272, 0.08198261027761272, 0.08220756194896153, 0.08221136601683858, 0.08242946134998047, 0.08243743304082293, 0.08245147111905045, 0.08245147111905045, 0.08263305827466064, 0.08274444269002561, 0.08280696635429119, 0.08280696635429119, 0.08296854970929611, 0.08308001757016881, 0.08317213846295217, 0.08342818560685708, 0.0834543530359148, 0.08363913407469256, 0.08382069412412482, 0.08394885208466725, 0.08409455084886308, 0.08409455084886308, 0.08422545032321291, 0.08423621966900481, 0.08423621966900481, 0.08424223841253599, 0.08434844130207778, 0.0843661823940878, 0.0843661823940878, 0.08446200285719094, 0.08446200285719094, 0.0845361456185357, 0.0845361456185357, 0.08454189389479069, 0.08462394752063004, 0.08462394752063004, 0.08465698034255378, 0.08472793898575988, 0.08489147432873162, 0.08502166010115034, 0.08517594433072113, 0.08522121976930284, 0.08535585244403289, 0.08553519484538015, 0.08588525890616142, 0.08596190552917246, 0.08615442345947645, 0.08626508952796738, 0.08626508952796738, 0.08638456755830048, 0.08663823704638926, 0.0867721992222062, 0.0867721992222062, 0.08689144004326904, 0.08714021230705071, 0.08739274812783535, 0.08749707885384517, 0.08751129180196811, 0.08769322219690043, 0.08769322219690043, 0.08781538792102782, 0.08803312380551749, 0.08803312380551749, 0.08813027716654208, 0.08821999716924908, 0.08828226614640103, 0.08890845008124974, 0.08890845008124974, 0.08963604506447767, 0.08982766116586237, 0.08985308514561499, 0.08992605777273321, 0.09010931930678262, 0.09012381447707946, 0.09043127933644252, 0.0905387473035313, 0.09060334192192959, 0.09060334192192959, 0.09077352631240981, 0.09092793561873454, 0.09092793561873454, 0.09122480709339476, 0.09122480709339476, 0.09141969519455674, 0.09141969519455674, 0.0914447753740699, 0.0914447753740699, 0.09154180182458155, 0.09154180182458155, 0.09164545224812212, 0.09168052266521774, 0.09181312981183345, 0.09209736435938318, 0.09211525127780161, 0.09211525127780161, 0.09224665790955212, 0.09238356171504314, 0.0924965087191925, 0.09254935685805206, 0.09254935685805206, 0.09269699335367546, 0.0929946668233371, 0.09394616011659489, 0.09394616011659489, 0.09401833944232328, 0.09444711849710932, 0.0944764769770303, 0.0947167138959773, 0.09483512427549406, 0.09483512427549406, 0.09496936490349832, 0.09502160567736635, 0.09502160567736635, 0.09528556052209537, 0.09531207118739818, 0.09531207118739818, 0.09545837686618962, 0.09555285423793589, 0.09556462057227916, 0.09578790584181991, 0.09578790584181991, 0.09587503559331208, 0.09587593589044617, 0.09596969328004752, 0.09622347917174283, 0.09624247145225077, 0.09624247145225077, 0.09644731850495226, 0.09688713408039502, 0.09798555295293326, 0.09798555295293326, 0.09816648038210746, 0.09842543244735454, 0.09843529751562177, 0.0986253008210417, 0.09866475177857034, 0.09866475177857034, 0.09884742452051198, 0.09910930966218261, 0.09931543762697798, 0.09936220734416723, 0.09990601779771265, 0.09990638633879785, 0.100154955571217, 0.10025137990106997, 0.10025137990106997, 0.10104502526415353, 0.10142688593891652, 0.10160179973627348, 0.10160179973627348, 0.1018643795238919, 0.1018643795238919, 0.10190840394076991, 0.10205858238180926, 0.10212859939018724, 0.10225876250263563, 0.10234340742874376, 0.10234340742874376, 0.10238177716052899, 0.10239996290592673, 0.10239996290592673, 0.10260658837863088, 0.10305223144526524, 0.10305223144526524, 0.10308532382402692, 0.10344706453920942, 0.10354450615201444, 0.10359492217849418, 0.10390438928111001, 0.10390438928111001, 0.1041355153590541, 0.10435346310413217, 0.10435346310413217, 0.10452049009040894, 0.10452302353550191, 0.1059800806562495, 0.10608473863352727, 0.10654627071150466, 0.10677049389169953, 0.10706721925677339, 0.10706721925677339, 0.10709734869949038, 0.10735703834449002, 0.10766977009457855, 0.10767819851862431, 0.10793852629954351, 0.10827565951111702, 0.10827565951111702, 0.10840839633629533, 0.10848920814056562, 0.10890047510898285, 0.10937571426527909, 0.10937571426527909, 0.10982543072171434, 0.11014389086177669, 0.11107708736719606, 0.11114742029823337, 0.11127351211246012, 0.11160962627490434, 0.11164444849264744, 0.1117727523787956, 0.1121063467492923, 0.1121063467492923, 0.11216858541118846, 0.1121747000581868, 0.11219530509078639, 0.11219530509078639, 0.11250858447968722, 0.11284456688109848, 0.11288646144135557, 0.11300043660078767, 0.1131927167679102, 0.11328456228794584, 0.11337467290155515, 0.11346151228150306, 0.11358929742934168, 0.113775600693718, 0.1141796344065784, 0.1141796344065784, 0.11521720732971036, 0.11546304336004441, 0.11597556695959721, 0.11625192632190931, 0.11644222427352963, 0.1171018101244789, 0.1172746262789404, 0.11751159319648248, 0.11874989129165049, 0.11894324511061526, 0.11945919683379701, 0.11959933630856072, 0.12037554763332411, 0.12087744477456429, 0.12087744477456429, 0.1210987601224339, 0.12122850044000823, 0.12127299633524441, 0.12127299633524441, 0.12131234913754003, 0.12141540068041601, 0.12141540068041601, 0.122027254179612, 0.12212005593269037, 0.12229896348561922, 0.12251482847121999, 0.12267254314215453, 0.12274247319582278, 0.12274247319582278, 0.12277444896327533, 0.12277444896327533, 0.12286323972942215, 0.12286323972942215, 0.12289024352933897, 0.12296338672213529, 0.12296338672213529, 0.12324751426186498, 0.12329529661422849, 0.12329758150298704, 0.1235955338715813, 0.12379932802136773, 0.1240105101786221, 0.12464192252818408, 0.12480912824132166, 0.12502917237365116, 0.12502917237365116, 0.1251060948168807, 0.1251060948168807, 0.12515395501368498, 0.12535227314885436, 0.12618646187296342, 0.12629695565544927, 0.12664469349117674, 0.12692468531697296, 0.12699020359168714, 0.12750982014580764, 0.12750982014580764, 0.12802417239723973, 0.12802417239723973, 0.12927782729689113, 0.12939024104775237, 0.1300254299786534, 0.1300254299786534, 0.13024252175996098, 0.13027290390795412, 0.13029575625890102, 0.13029575625890102, 0.13147753971701628, 0.1317601554516093, 0.13402913815482165, 0.13402913815482165, 0.13464028366863215, 0.13503113462972896, 0.13584250357536934, 0.13584250357536934, 0.13722117363647934, 0.13722117363647934, 0.13759091638887963, 0.13787609413445875, 0.1387248828636013, 0.13878343816105568, 0.13888782041379538, 0.1399976198657284, 0.1404909104966912, 0.14066616918252228, 0.14078563100382044, 0.1408275294698295, 0.1413957908491737, 0.1421766089653385, 0.1421766089653385, 0.1445199219893688, 0.14499330709086378, 0.1451016628580653, 0.1451016628580653, 0.14798056115446978, 0.14871120453607314, 0.1488721299429881, 0.14930629035362208, 0.1493232076954885, 0.14934761173448644, 0.14934761173448644, 0.15020590312430693, 0.15174723661109113, 0.15193233916249158, 0.15193233916249158, 0.15242220221143252, 0.15315002655993123, 0.15415787519689728, 0.1543250879047863, 0.1565893068519747, 0.15750097613124925, 0.15893108854854202, 0.1621345068415712, 0.16407642155641702, 0.16474849439897352, 0.1656861210527953, 0.16572987100482964, 0.16633997276004425, 0.16638950502256666, 0.16650402745821433, 0.1666217181052702, 0.166624486012049, 0.166624486012049, 0.16763664461053887, 0.16763664461053887, 0.1715053095045442, 0.1729665537887695, 0.17751715261089407, 0.17830094024745322, 0.1783282843228223, 0.17841193206662614, 0.17882357029364523, 0.17998435424191736, 0.1800696439565451, 0.18373343311289406, 0.18373980614541896, 0.18421472900891914, 0.18797452667260242, 0.18900770683717497, 0.19249484460279753, 0.1927017922280947, 0.19515700682748097, 0.19591423758012816, 0.19591423758012816, 0.1978659449731162, 0.200161932048558, 0.200161932048558, 0.20061321604410645, 0.2014491878754361, 0.2027777452927781, 0.20279133192631313, 0.2047257041197713, 0.20908530915123033, 0.22821854969206118, 0.23091449251526866, 0.24195666901720705, 0.2509074257140495, 0.28498700032163937, 0.2855945317134196, 0.30192128415120445, 0.30549001351193655, 0.3095766459791619], \"yaxis\": \"y\"}],\n",
              "                        {\"legend\": {\"tracegroupgap\": 0}, \"margin\": {\"t\": 60}, \"template\": {\"data\": {\"bar\": [{\"error_x\": {\"color\": \"#2a3f5f\"}, \"error_y\": {\"color\": \"#2a3f5f\"}, \"marker\": {\"line\": {\"color\": \"#E5ECF6\", \"width\": 0.5}}, \"type\": \"bar\"}], \"barpolar\": [{\"marker\": {\"line\": {\"color\": \"#E5ECF6\", \"width\": 0.5}}, \"type\": \"barpolar\"}], \"carpet\": [{\"aaxis\": {\"endlinecolor\": \"#2a3f5f\", \"gridcolor\": \"white\", \"linecolor\": \"white\", \"minorgridcolor\": \"white\", \"startlinecolor\": \"#2a3f5f\"}, \"baxis\": {\"endlinecolor\": \"#2a3f5f\", \"gridcolor\": \"white\", \"linecolor\": \"white\", \"minorgridcolor\": \"white\", \"startlinecolor\": \"#2a3f5f\"}, \"type\": \"carpet\"}], \"choropleth\": [{\"colorbar\": {\"outlinewidth\": 0, \"ticks\": \"\"}, \"type\": \"choropleth\"}], \"contour\": [{\"colorbar\": {\"outlinewidth\": 0, \"ticks\": \"\"}, \"colorscale\": [[0.0, \"#0d0887\"], [0.1111111111111111, \"#46039f\"], [0.2222222222222222, \"#7201a8\"], [0.3333333333333333, \"#9c179e\"], [0.4444444444444444, \"#bd3786\"], [0.5555555555555556, \"#d8576b\"], [0.6666666666666666, \"#ed7953\"], [0.7777777777777778, \"#fb9f3a\"], [0.8888888888888888, \"#fdca26\"], [1.0, \"#f0f921\"]], \"type\": \"contour\"}], \"contourcarpet\": [{\"colorbar\": {\"outlinewidth\": 0, \"ticks\": \"\"}, \"type\": \"contourcarpet\"}], \"heatmap\": [{\"colorbar\": {\"outlinewidth\": 0, \"ticks\": \"\"}, \"colorscale\": [[0.0, \"#0d0887\"], [0.1111111111111111, \"#46039f\"], [0.2222222222222222, \"#7201a8\"], [0.3333333333333333, \"#9c179e\"], [0.4444444444444444, \"#bd3786\"], [0.5555555555555556, \"#d8576b\"], [0.6666666666666666, \"#ed7953\"], [0.7777777777777778, \"#fb9f3a\"], [0.8888888888888888, \"#fdca26\"], [1.0, \"#f0f921\"]], \"type\": \"heatmap\"}], \"heatmapgl\": [{\"colorbar\": {\"outlinewidth\": 0, \"ticks\": \"\"}, \"colorscale\": [[0.0, \"#0d0887\"], [0.1111111111111111, \"#46039f\"], [0.2222222222222222, \"#7201a8\"], [0.3333333333333333, \"#9c179e\"], [0.4444444444444444, \"#bd3786\"], [0.5555555555555556, \"#d8576b\"], [0.6666666666666666, \"#ed7953\"], [0.7777777777777778, \"#fb9f3a\"], [0.8888888888888888, \"#fdca26\"], [1.0, \"#f0f921\"]], \"type\": \"heatmapgl\"}], \"histogram\": [{\"marker\": {\"colorbar\": {\"outlinewidth\": 0, \"ticks\": \"\"}}, \"type\": \"histogram\"}], \"histogram2d\": [{\"colorbar\": {\"outlinewidth\": 0, \"ticks\": \"\"}, \"colorscale\": [[0.0, \"#0d0887\"], [0.1111111111111111, \"#46039f\"], [0.2222222222222222, \"#7201a8\"], [0.3333333333333333, \"#9c179e\"], [0.4444444444444444, \"#bd3786\"], [0.5555555555555556, \"#d8576b\"], [0.6666666666666666, \"#ed7953\"], [0.7777777777777778, \"#fb9f3a\"], [0.8888888888888888, \"#fdca26\"], [1.0, \"#f0f921\"]], \"type\": \"histogram2d\"}], \"histogram2dcontour\": [{\"colorbar\": {\"outlinewidth\": 0, \"ticks\": \"\"}, \"colorscale\": [[0.0, \"#0d0887\"], [0.1111111111111111, \"#46039f\"], [0.2222222222222222, \"#7201a8\"], [0.3333333333333333, \"#9c179e\"], [0.4444444444444444, \"#bd3786\"], [0.5555555555555556, \"#d8576b\"], [0.6666666666666666, \"#ed7953\"], [0.7777777777777778, \"#fb9f3a\"], [0.8888888888888888, \"#fdca26\"], [1.0, \"#f0f921\"]], \"type\": \"histogram2dcontour\"}], \"mesh3d\": [{\"colorbar\": {\"outlinewidth\": 0, \"ticks\": \"\"}, \"type\": \"mesh3d\"}], \"parcoords\": [{\"line\": {\"colorbar\": {\"outlinewidth\": 0, \"ticks\": \"\"}}, \"type\": \"parcoords\"}], \"pie\": [{\"automargin\": true, \"type\": \"pie\"}], \"scatter\": [{\"marker\": {\"colorbar\": {\"outlinewidth\": 0, \"ticks\": \"\"}}, \"type\": \"scatter\"}], \"scatter3d\": [{\"line\": {\"colorbar\": {\"outlinewidth\": 0, \"ticks\": \"\"}}, \"marker\": {\"colorbar\": {\"outlinewidth\": 0, \"ticks\": \"\"}}, \"type\": \"scatter3d\"}], \"scattercarpet\": [{\"marker\": {\"colorbar\": {\"outlinewidth\": 0, \"ticks\": \"\"}}, \"type\": \"scattercarpet\"}], \"scattergeo\": [{\"marker\": {\"colorbar\": {\"outlinewidth\": 0, \"ticks\": \"\"}}, \"type\": \"scattergeo\"}], \"scattergl\": [{\"marker\": {\"colorbar\": {\"outlinewidth\": 0, \"ticks\": \"\"}}, \"type\": \"scattergl\"}], \"scattermapbox\": [{\"marker\": {\"colorbar\": {\"outlinewidth\": 0, \"ticks\": \"\"}}, \"type\": \"scattermapbox\"}], \"scatterpolar\": [{\"marker\": {\"colorbar\": {\"outlinewidth\": 0, \"ticks\": \"\"}}, \"type\": \"scatterpolar\"}], \"scatterpolargl\": [{\"marker\": {\"colorbar\": {\"outlinewidth\": 0, \"ticks\": \"\"}}, \"type\": \"scatterpolargl\"}], \"scatterternary\": [{\"marker\": {\"colorbar\": {\"outlinewidth\": 0, \"ticks\": \"\"}}, \"type\": \"scatterternary\"}], \"surface\": [{\"colorbar\": {\"outlinewidth\": 0, \"ticks\": \"\"}, \"colorscale\": [[0.0, \"#0d0887\"], [0.1111111111111111, \"#46039f\"], [0.2222222222222222, \"#7201a8\"], [0.3333333333333333, \"#9c179e\"], [0.4444444444444444, \"#bd3786\"], [0.5555555555555556, \"#d8576b\"], [0.6666666666666666, \"#ed7953\"], [0.7777777777777778, \"#fb9f3a\"], [0.8888888888888888, \"#fdca26\"], [1.0, \"#f0f921\"]], \"type\": \"surface\"}], \"table\": [{\"cells\": {\"fill\": {\"color\": \"#EBF0F8\"}, \"line\": {\"color\": \"white\"}}, \"header\": {\"fill\": {\"color\": \"#C8D4E3\"}, \"line\": {\"color\": \"white\"}}, \"type\": \"table\"}]}, \"layout\": {\"annotationdefaults\": {\"arrowcolor\": \"#2a3f5f\", \"arrowhead\": 0, \"arrowwidth\": 1}, \"coloraxis\": {\"colorbar\": {\"outlinewidth\": 0, \"ticks\": \"\"}}, \"colorscale\": {\"diverging\": [[0, \"#8e0152\"], [0.1, \"#c51b7d\"], [0.2, \"#de77ae\"], [0.3, \"#f1b6da\"], [0.4, \"#fde0ef\"], [0.5, \"#f7f7f7\"], [0.6, \"#e6f5d0\"], [0.7, \"#b8e186\"], [0.8, \"#7fbc41\"], [0.9, \"#4d9221\"], [1, \"#276419\"]], \"sequential\": [[0.0, \"#0d0887\"], [0.1111111111111111, \"#46039f\"], [0.2222222222222222, \"#7201a8\"], [0.3333333333333333, \"#9c179e\"], [0.4444444444444444, \"#bd3786\"], [0.5555555555555556, \"#d8576b\"], [0.6666666666666666, \"#ed7953\"], [0.7777777777777778, \"#fb9f3a\"], [0.8888888888888888, \"#fdca26\"], [1.0, \"#f0f921\"]], \"sequentialminus\": [[0.0, \"#0d0887\"], [0.1111111111111111, \"#46039f\"], [0.2222222222222222, \"#7201a8\"], [0.3333333333333333, \"#9c179e\"], [0.4444444444444444, \"#bd3786\"], [0.5555555555555556, \"#d8576b\"], [0.6666666666666666, \"#ed7953\"], [0.7777777777777778, \"#fb9f3a\"], [0.8888888888888888, \"#fdca26\"], [1.0, \"#f0f921\"]]}, \"colorway\": [\"#636efa\", \"#EF553B\", \"#00cc96\", \"#ab63fa\", \"#FFA15A\", \"#19d3f3\", \"#FF6692\", \"#B6E880\", \"#FF97FF\", \"#FECB52\"], \"font\": {\"color\": \"#2a3f5f\"}, \"geo\": {\"bgcolor\": \"white\", \"lakecolor\": \"white\", \"landcolor\": \"#E5ECF6\", \"showlakes\": true, \"showland\": true, \"subunitcolor\": \"white\"}, \"hoverlabel\": {\"align\": \"left\"}, \"hovermode\": \"closest\", \"mapbox\": {\"style\": \"light\"}, \"paper_bgcolor\": \"white\", \"plot_bgcolor\": \"#E5ECF6\", \"polar\": {\"angularaxis\": {\"gridcolor\": \"white\", \"linecolor\": \"white\", \"ticks\": \"\"}, \"bgcolor\": \"#E5ECF6\", \"radialaxis\": {\"gridcolor\": \"white\", \"linecolor\": \"white\", \"ticks\": \"\"}}, \"scene\": {\"xaxis\": {\"backgroundcolor\": \"#E5ECF6\", \"gridcolor\": \"white\", \"gridwidth\": 2, \"linecolor\": \"white\", \"showbackground\": true, \"ticks\": \"\", \"zerolinecolor\": \"white\"}, \"yaxis\": {\"backgroundcolor\": \"#E5ECF6\", \"gridcolor\": \"white\", \"gridwidth\": 2, \"linecolor\": \"white\", \"showbackground\": true, \"ticks\": \"\", \"zerolinecolor\": \"white\"}, \"zaxis\": {\"backgroundcolor\": \"#E5ECF6\", \"gridcolor\": \"white\", \"gridwidth\": 2, \"linecolor\": \"white\", \"showbackground\": true, \"ticks\": \"\", \"zerolinecolor\": \"white\"}}, \"shapedefaults\": {\"line\": {\"color\": \"#2a3f5f\"}}, \"ternary\": {\"aaxis\": {\"gridcolor\": \"white\", \"linecolor\": \"white\", \"ticks\": \"\"}, \"baxis\": {\"gridcolor\": \"white\", \"linecolor\": \"white\", \"ticks\": \"\"}, \"bgcolor\": \"#E5ECF6\", \"caxis\": {\"gridcolor\": \"white\", \"linecolor\": \"white\", \"ticks\": \"\"}}, \"title\": {\"x\": 0.05}, \"xaxis\": {\"automargin\": true, \"gridcolor\": \"white\", \"linecolor\": \"white\", \"ticks\": \"\", \"title\": {\"standoff\": 15}, \"zerolinecolor\": \"white\", \"zerolinewidth\": 2}, \"yaxis\": {\"automargin\": true, \"gridcolor\": \"white\", \"linecolor\": \"white\", \"ticks\": \"\", \"title\": {\"standoff\": 15}, \"zerolinecolor\": \"white\", \"zerolinewidth\": 2}}}, \"xaxis\": {\"anchor\": \"y\", \"domain\": [0.0, 1.0], \"title\": {\"text\": \"x\"}}, \"yaxis\": {\"anchor\": \"x\", \"domain\": [0.0, 1.0], \"title\": {\"text\": \"y\"}}},\n",
              "                        {\"responsive\": true}\n",
              "                    ).then(function(){\n",
              "                            \n",
              "var gd = document.getElementById('d5bb2b89-5b68-4d0f-b1c9-e1da26427008');\n",
              "var x = new MutationObserver(function (mutations, observer) {{\n",
              "        var display = window.getComputedStyle(gd).display;\n",
              "        if (!display || display === 'none') {{\n",
              "            console.log([gd, 'removed!']);\n",
              "            Plotly.purge(gd);\n",
              "            observer.disconnect();\n",
              "        }}\n",
              "}});\n",
              "\n",
              "// Listen for the removal of the full notebook cells\n",
              "var notebookContainer = gd.closest('#notebook-container');\n",
              "if (notebookContainer) {{\n",
              "    x.observe(notebookContainer, {childList: true});\n",
              "}}\n",
              "\n",
              "// Listen for the clearing of the current output cell\n",
              "var outputEl = gd.closest('.output');\n",
              "if (outputEl) {{\n",
              "    x.observe(outputEl, {childList: true});\n",
              "}}\n",
              "\n",
              "                        })\n",
              "                };\n",
              "                \n",
              "            </script>\n",
              "        </div>\n",
              "</body>\n",
              "</html>"
            ]
          },
          "metadata": {
            "tags": []
          }
        }
      ]
    },
    {
      "cell_type": "markdown",
      "metadata": {
        "id": "gsc7Av9GldLQ"
      },
      "source": [
        "We try differnt clusters from the interval 0.02 to 0.12, with intervals of 0.1:"
      ]
    },
    {
      "cell_type": "code",
      "metadata": {
        "colab": {
          "base_uri": "https://localhost:8080/"
        },
        "id": "uvaw3CwfldLQ",
        "outputId": "946b9cc6-f196-4233-8da2-58609e9d3edd"
      },
      "source": [
        "from sklearn.cluster import DBSCAN\n",
        "\n",
        "results = []\n",
        "for eps in numpy.arange(0.02, 0.12, 0.01):\n",
        "  db = DBSCAN(eps, min_samples=minPts).fit(datanorm)\n",
        "  core_samples_mask = numpy.zeros_like(db.labels_, dtype=bool)\n",
        "  core_samples_mask[db.core_sample_indices_] = True\n",
        "  labels = db.labels_\n",
        "  n_clusters_ = len(set(labels)) - (1 if -1 in labels else 0)\n",
        "  n_outliers = list(labels).count(-1)\n",
        "  #print (\"%6.2f, %d, %d\" % (eps, n_clusters_, n_outliers))\n",
        "  results.append([eps, n_clusters_, n_outliers])\n",
        "\n",
        "#print results\n",
        "from tabulate import tabulate\n",
        "print(tabulate(results, headers = (\"eps\", \"clusters\", \"outliers\")))"
      ],
      "execution_count": 32,
      "outputs": [
        {
          "output_type": "stream",
          "text": [
            "  eps    clusters    outliers\n",
            "-----  ----------  ----------\n",
            " 0.02          26        1363\n",
            " 0.03          96         945\n",
            " 0.04          80         564\n",
            " 0.05          24         348\n",
            " 0.06          13         213\n",
            " 0.07          13         146\n",
            " 0.08           5         108\n",
            " 0.09           5          76\n",
            " 0.1            4          57\n",
            " 0.11           3          45\n"
          ],
          "name": "stdout"
        }
      ]
    },
    {
      "cell_type": "markdown",
      "metadata": {
        "id": "IqCY8dxkldLR"
      },
      "source": [
        "We select eps=0.06, obtaining 13 clusters and 213 outliers."
      ]
    },
    {
      "cell_type": "code",
      "metadata": {
        "id": "_vFEbJMpldLR",
        "colab": {
          "base_uri": "https://localhost:8080/"
        },
        "outputId": "f207ae5c-c0ce-4a40-a3f7-f1cab43e053b"
      },
      "source": [
        "db = DBSCAN(eps=0.06, min_samples=minPts).fit(datanorm)\n",
        "labels = db.labels_\n",
        "labels"
      ],
      "execution_count": 33,
      "outputs": [
        {
          "output_type": "execute_result",
          "data": {
            "text/plain": [
              "array([-1,  0,  0, ..., -1, -1,  0])"
            ]
          },
          "metadata": {
            "tags": []
          },
          "execution_count": 33
        }
      ]
    },
    {
      "cell_type": "markdown",
      "metadata": {
        "id": "QeYoMOY6ldLR"
      },
      "source": [
        "We label with 0 for no outlier and 1 for outlier in our dataset."
      ]
    },
    {
      "cell_type": "code",
      "metadata": {
        "id": "Z7H4B1ItldLR",
        "colab": {
          "base_uri": "https://localhost:8080/",
          "height": 538
        },
        "outputId": "11d892d2-476c-48f8-8185-a389d1c11dc6"
      },
      "source": [
        "df_outliers = pd.DataFrame(columns=train_df.columns)\n",
        "contador = 0\n",
        "for item in labels:\n",
        "    if item == -1:\n",
        "        df_outliers = df_outliers.append(train_df.loc[contador],ignore_index=True)\n",
        "        train_df.drop(contador,axis=0,inplace=True)\n",
        "    contador+=1\n",
        "df_outliers"
      ],
      "execution_count": 34,
      "outputs": [
        {
          "output_type": "stream",
          "text": [
            "/usr/local/lib/python3.6/dist-packages/pandas/core/frame.py:4174: SettingWithCopyWarning:\n",
            "\n",
            "\n",
            "A value is trying to be set on a copy of a slice from a DataFrame\n",
            "\n",
            "See the caveats in the documentation: https://pandas.pydata.org/pandas-docs/stable/user_guide/indexing.html#returning-a-view-versus-a-copy\n",
            "\n"
          ],
          "name": "stderr"
        },
        {
          "output_type": "execute_result",
          "data": {
            "text/html": [
              "<div>\n",
              "<style scoped>\n",
              "    .dataframe tbody tr th:only-of-type {\n",
              "        vertical-align: middle;\n",
              "    }\n",
              "\n",
              "    .dataframe tbody tr th {\n",
              "        vertical-align: top;\n",
              "    }\n",
              "\n",
              "    .dataframe thead th {\n",
              "        text-align: right;\n",
              "    }\n",
              "</style>\n",
              "<table border=\"1\" class=\"dataframe\">\n",
              "  <thead>\n",
              "    <tr style=\"text-align: right;\">\n",
              "      <th></th>\n",
              "      <th>reanalysis_specific_humidity_g_per_kg</th>\n",
              "      <th>reanalysis_dew_point_temp_k</th>\n",
              "      <th>station_avg_temp_c</th>\n",
              "      <th>station_min_temp_c</th>\n",
              "      <th>total_cases</th>\n",
              "    </tr>\n",
              "  </thead>\n",
              "  <tbody>\n",
              "    <tr>\n",
              "      <th>0</th>\n",
              "      <td>14.012857</td>\n",
              "      <td>292.414286</td>\n",
              "      <td>25.442857</td>\n",
              "      <td>20.0</td>\n",
              "      <td>4.0</td>\n",
              "    </tr>\n",
              "    <tr>\n",
              "      <th>1</th>\n",
              "      <td>16.161429</td>\n",
              "      <td>294.782857</td>\n",
              "      <td>25.985714</td>\n",
              "      <td>22.2</td>\n",
              "      <td>52.0</td>\n",
              "    </tr>\n",
              "    <tr>\n",
              "      <th>2</th>\n",
              "      <td>13.615714</td>\n",
              "      <td>292.004286</td>\n",
              "      <td>24.685714</td>\n",
              "      <td>19.4</td>\n",
              "      <td>47.0</td>\n",
              "    </tr>\n",
              "    <tr>\n",
              "      <th>3</th>\n",
              "      <td>13.511429</td>\n",
              "      <td>291.907143</td>\n",
              "      <td>24.385714</td>\n",
              "      <td>18.9</td>\n",
              "      <td>21.0</td>\n",
              "    </tr>\n",
              "    <tr>\n",
              "      <th>4</th>\n",
              "      <td>13.878571</td>\n",
              "      <td>292.382857</td>\n",
              "      <td>24.714286</td>\n",
              "      <td>18.3</td>\n",
              "      <td>34.0</td>\n",
              "    </tr>\n",
              "    <tr>\n",
              "      <th>...</th>\n",
              "      <td>...</td>\n",
              "      <td>...</td>\n",
              "      <td>...</td>\n",
              "      <td>...</td>\n",
              "      <td>...</td>\n",
              "    </tr>\n",
              "    <tr>\n",
              "      <th>208</th>\n",
              "      <td>19.345714</td>\n",
              "      <td>297.568571</td>\n",
              "      <td>27.000000</td>\n",
              "      <td>22.9</td>\n",
              "      <td>12.0</td>\n",
              "    </tr>\n",
              "    <tr>\n",
              "      <th>209</th>\n",
              "      <td>20.461429</td>\n",
              "      <td>298.450000</td>\n",
              "      <td>30.000000</td>\n",
              "      <td>22.0</td>\n",
              "      <td>16.0</td>\n",
              "    </tr>\n",
              "    <tr>\n",
              "      <th>210</th>\n",
              "      <td>20.078571</td>\n",
              "      <td>298.161429</td>\n",
              "      <td>29.200000</td>\n",
              "      <td>22.5</td>\n",
              "      <td>9.0</td>\n",
              "    </tr>\n",
              "    <tr>\n",
              "      <th>211</th>\n",
              "      <td>17.008571</td>\n",
              "      <td>295.501429</td>\n",
              "      <td>24.400000</td>\n",
              "      <td>19.2</td>\n",
              "      <td>1.0</td>\n",
              "    </tr>\n",
              "    <tr>\n",
              "      <th>212</th>\n",
              "      <td>16.815714</td>\n",
              "      <td>295.324286</td>\n",
              "      <td>25.433333</td>\n",
              "      <td>21.0</td>\n",
              "      <td>1.0</td>\n",
              "    </tr>\n",
              "  </tbody>\n",
              "</table>\n",
              "<p>213 rows × 5 columns</p>\n",
              "</div>"
            ],
            "text/plain": [
              "     reanalysis_specific_humidity_g_per_kg  ...  total_cases\n",
              "0                                14.012857  ...          4.0\n",
              "1                                16.161429  ...         52.0\n",
              "2                                13.615714  ...         47.0\n",
              "3                                13.511429  ...         21.0\n",
              "4                                13.878571  ...         34.0\n",
              "..                                     ...  ...          ...\n",
              "208                              19.345714  ...         12.0\n",
              "209                              20.461429  ...         16.0\n",
              "210                              20.078571  ...          9.0\n",
              "211                              17.008571  ...          1.0\n",
              "212                              16.815714  ...          1.0\n",
              "\n",
              "[213 rows x 5 columns]"
            ]
          },
          "metadata": {
            "tags": []
          },
          "execution_count": 34
        }
      ]
    },
    {
      "cell_type": "markdown",
      "metadata": {
        "id": "aw1l4JTgpqws"
      },
      "source": [
        "# **3. Detaching the dataset**"
      ]
    },
    {
      "cell_type": "markdown",
      "metadata": {
        "id": "WmWINHTEldLS"
      },
      "source": [
        "To train the models that we make, it is necessary to separate our training dataset into two parts, one precisely to train the model, and another to check if our models are good."
      ]
    },
    {
      "cell_type": "markdown",
      "metadata": {
        "id": "jjyW_lPpldLS"
      },
      "source": [
        "In this case, we are going to use two models, one for the average samples (no outliers) and for the outliers."
      ]
    },
    {
      "cell_type": "code",
      "metadata": {
        "id": "eQjikOIh6qUI"
      },
      "source": [
        "X_train_avg, X_test_avg, y_train_avg, y_test_avg = train_test_split(train_df.drop(columns=['total_cases'],axis=1), train_df['total_cases'], test_size=0.2, random_state=1) #falta el target"
      ],
      "execution_count": 35,
      "outputs": []
    },
    {
      "cell_type": "code",
      "metadata": {
        "id": "Wpe4V34urQZm"
      },
      "source": [
        "X_train_out, X_test_out, y_train_out, y_test_out = train_test_split(df_outliers.drop(columns=['total_cases'],axis=1), df_outliers['total_cases'], test_size=0.2, random_state=1)"
      ],
      "execution_count": 36,
      "outputs": []
    },
    {
      "cell_type": "markdown",
      "metadata": {
        "id": "jXOY2S9hldLT"
      },
      "source": [
        "# **4. Execution of the algorithm**"
      ]
    },
    {
      "cell_type": "markdown",
      "metadata": {
        "id": "85bnVfFSldLT"
      },
      "source": [
        "This algorithm is a set of Decision Trees, where each tree at the end of its execution will offer a result, at the end of all trees, the result will be the average of all the results."
      ]
    },
    {
      "cell_type": "code",
      "metadata": {
        "id": "AVheBB5JK9QW"
      },
      "source": [
        "def RandomForest(X_train, X_test,y_train,y_test,n_e,m_depth,title):\n",
        "    #1.1 Model Parametrization \n",
        "    regressor = RandomForestRegressor(n_estimators= 100, max_depth = 5, criterion='mae', random_state=0)\n",
        "    #1.2 Model construction\n",
        "    regressor.fit(X_train, y_train)\n",
        "    # Test\n",
        "    y_pred = regressor.predict(X_test)\n",
        "    mae = mean_absolute_error(y_test,y_pred)\n",
        "    print (\"Error Measure \",  mae, \"\\n\")\n",
        "    xx = np.stack(i for i in range(len(y_test)))\n",
        "    plt.scatter(xx, y_test, c='r', label='data')\n",
        "    plt.plot(xx, y_pred, c='g', label='prediction')\n",
        "    plt.axis('tight')\n",
        "    plt.legend()\n",
        "    plt.title(title)\n",
        "\n",
        "    plt.show()\n",
        "    return regressor"
      ],
      "execution_count": 37,
      "outputs": []
    },
    {
      "cell_type": "markdown",
      "metadata": {
        "id": "888LiYSk3pZy"
      },
      "source": [
        "We run the algorithm with de data which is not an outlier:"
      ]
    },
    {
      "cell_type": "code",
      "metadata": {
        "colab": {
          "base_uri": "https://localhost:8080/",
          "height": 403
        },
        "id": "AVvHu0tHJYdz",
        "outputId": "f6fb4c98-d80a-4159-c07b-311b7c430314"
      },
      "source": [
        "model_avg = RandomForest(X_train_avg, X_test_avg,y_train_avg,y_test_avg,100,5,\"Average Regressor\")"
      ],
      "execution_count": 38,
      "outputs": [
        {
          "output_type": "stream",
          "text": [
            "Error Measure  11.66222891566265 \n",
            "\n"
          ],
          "name": "stdout"
        },
        {
          "output_type": "stream",
          "text": [
            "/usr/local/lib/python3.6/dist-packages/IPython/core/interactiveshell.py:2882: FutureWarning:\n",
            "\n",
            "arrays to stack must be passed as a \"sequence\" type such as list or tuple. Support for non-sequence iterables such as generators is deprecated as of NumPy 1.16 and will raise an error in the future.\n",
            "\n"
          ],
          "name": "stderr"
        },
        {
          "output_type": "display_data",
          "data": {
            "image/png": "[encoded data removed]",
            "text/plain": [
              "<Figure size 432x288 with 1 Axes>"
            ]
          },
          "metadata": {
            "tags": [],
            "needs_background": "light"
          }
        }
      ]
    },
    {
      "cell_type": "markdown",
      "metadata": {
        "id": "6NJArO493vgN"
      },
      "source": [
        "We run the algorithm with the data which is an outlier:"
      ]
    },
    {
      "cell_type": "code",
      "metadata": {
        "colab": {
          "base_uri": "https://localhost:8080/",
          "height": 403
        },
        "id": "lYUDz1WBsru2",
        "outputId": "1d9d3747-fec1-411f-d91a-257acbe1f1ed"
      },
      "source": [
        "model_out = RandomForest(X_train_out,X_test_out,y_train_out,y_test_out,100,5,\"Outlier Regressor\")"
      ],
      "execution_count": 62,
      "outputs": [
        {
          "output_type": "stream",
          "text": [
            "Error Measure  51.780348837209296 \n",
            "\n"
          ],
          "name": "stdout"
        },
        {
          "output_type": "stream",
          "text": [
            "/usr/local/lib/python3.6/dist-packages/IPython/core/interactiveshell.py:2882: FutureWarning:\n",
            "\n",
            "arrays to stack must be passed as a \"sequence\" type such as list or tuple. Support for non-sequence iterables such as generators is deprecated as of NumPy 1.16 and will raise an error in the future.\n",
            "\n"
          ],
          "name": "stderr"
        },
        {
          "output_type": "display_data",
          "data": {
            "image/png": "[encoded data removed]",
            "text/plain": [
              "<Figure size 432x288 with 1 Axes>"
            ]
          },
          "metadata": {
            "tags": [],
            "needs_background": "light"
          }
        }
      ]
    },
    {
      "cell_type": "markdown",
      "metadata": {
        "id": "2qbkQc-ztqIS"
      },
      "source": [
        "# **Submission result**"
      ]
    },
    {
      "cell_type": "markdown",
      "metadata": {
        "id": "HSXVdRUa--ZX"
      },
      "source": [
        "Now, we are going to test our model with the data provided to us in the dengue_features_test.csv file to predict dengue cases for the weeks proposed in said file."
      ]
    },
    {
      "cell_type": "markdown",
      "metadata": {
        "id": "YxzQici8RpSe"
      },
      "source": [
        "As we have two models, we have to predict two times, so the test dataset must be splitted in two, depending on if it is an outlier or not. To know that, we are going to apply the DBSCAN algorithm with the test dataset.\n"
      ]
    },
    {
      "cell_type": "code",
      "metadata": {
        "id": "_qfIeCCk4_5H"
      },
      "source": [
        "test_df = test[selected_features]"
      ],
      "execution_count": 41,
      "outputs": []
    },
    {
      "cell_type": "code",
      "metadata": {
        "id": "bbHZy_Ts44oP"
      },
      "source": [
        "from sklearn import preprocessing \n",
        "scaler = preprocessing.MinMaxScaler()\n",
        "datanorm_test = scaler.fit_transform(test_df)"
      ],
      "execution_count": 42,
      "outputs": []
    },
    {
      "cell_type": "code",
      "metadata": {
        "id": "UxNyBGQM44oQ"
      },
      "source": [
        "#2. PCA Estimation\n",
        "from sklearn.decomposition import PCA\n",
        "estimator = PCA (n_components = 2)\n",
        "X_pca = estimator.fit_transform(datanorm_test)"
      ],
      "execution_count": 43,
      "outputs": []
    },
    {
      "cell_type": "code",
      "metadata": {
        "colab": {
          "base_uri": "https://localhost:8080/"
        },
        "id": "8DQQvl8M44oR",
        "outputId": "46a94044-0997-4920-c9e0-25ee1cc387a5"
      },
      "source": [
        "print(estimator.explained_variance_ratio_) "
      ],
      "execution_count": 44,
      "outputs": [
        {
          "output_type": "stream",
          "text": [
            "[0.83432621 0.09784398]\n"
          ],
          "name": "stdout"
        }
      ]
    },
    {
      "cell_type": "code",
      "metadata": {
        "id": "U3H5Y-Vf44oS"
      },
      "source": [
        "dist = sklearn.neighbors.DistanceMetric.get_metric('euclidean')\n",
        "matsim = dist.pairwise(datanorm_test)"
      ],
      "execution_count": 48,
      "outputs": []
    },
    {
      "cell_type": "code",
      "metadata": {
        "id": "T7vFSGxM44oS"
      },
      "source": [
        "minPts=3\n",
        "\n",
        "A = kneighbors_graph(datanorm_test, minPts, include_self=False)\n",
        "Ar = A.toarray()\n",
        "\n",
        "seq = []\n",
        "for i,s in enumerate(datanorm_test):\n",
        "    for j in range(len(datanorm_test)):\n",
        "        if Ar[i][j] != 0:\n",
        "            seq.append(matsim[i][j])\n",
        "            \n",
        "seq.sort()"
      ],
      "execution_count": 49,
      "outputs": []
    },
    {
      "cell_type": "code",
      "metadata": {
        "colab": {
          "base_uri": "https://localhost:8080/",
          "height": 542
        },
        "id": "o7PUWk6i44oT",
        "outputId": "ef6f4850-3c3c-4923-9421-8b8e307a5af8"
      },
      "source": [
        "fig = px.line(x=np.arange(0, len(seq), 1), y=seq)\n",
        "fig.show()"
      ],
      "execution_count": 50,
      "outputs": [
        {
          "output_type": "display_data",
          "data": {
            "text/html": [
              "<html>\n",
              "<head><meta charset=\"utf-8\" /></head>\n",
              "<body>\n",
              "    <div>\n",
              "            <script src=\"https://cdnjs.cloudflare.com/ajax/libs/mathjax/2.7.5/MathJax.js?config=TeX-AMS-MML_SVG\"></script><script type=\"text/javascript\">if (window.MathJax) {MathJax.Hub.Config({SVG: {font: \"STIX-Web\"}});}</script>\n",
              "                <script type=\"text/javascript\">window.PlotlyConfig = {MathJaxConfig: 'local'};</script>\n",
              "        <script src=\"https://cdn.plot.ly/plotly-latest.min.js\"></script>    \n",
              "            <div id=\"1dc524cf-3008-423b-b4e8-40026c39b49f\" class=\"plotly-graph-div\" style=\"height:525px; width:100%;\"></div>\n",
              "            <script type=\"text/javascript\">\n",
              "                \n",
              "                    window.PLOTLYENV=window.PLOTLYENV || {};\n",
              "                    \n",
              "                if (document.getElementById(\"1dc524cf-3008-423b-b4e8-40026c39b49f\")) {\n",
              "                    Plotly.newPlot(\n",
              "                        '1dc524cf-3008-423b-b4e8-40026c39b49f',\n",
              "                        [{\"hoverlabel\": {\"namelength\": 0}, \"hovertemplate\": \"x=%{x}<br>y=%{y}\", \"legendgroup\": \"\", \"line\": {\"color\": \"#636efa\", \"dash\": \"solid\"}, \"mode\": \"lines\", \"name\": \"\", \"showlegend\": false, \"type\": \"scattergl\", \"x\": [0, 1, 2, 3, 4, 5, 6, 7, 8, 9, 10, 11, 12, 13, 14, 15, 16, 17, 18, 19, 20, 21, 22, 23, 24, 25, 26, 27, 28, 29, 30, 31, 32, 33, 34, 35, 36, 37, 38, 39, 40, 41, 42, 43, 44, 45, 46, 47, 48, 49, 50, 51, 52, 53, 54, 55, 56, 57, 58, 59, 60, 61, 62, 63, 64, 65, 66, 67, 68, 69, 70, 71, 72, 73, 74, 75, 76, 77, 78, 79, 80, 81, 82, 83, 84, 85, 86, 87, 88, 89, 90, 91, 92, 93, 94, 95, 96, 97, 98, 99, 100, 101, 102, 103, 104, 105, 106, 107, 108, 109, 110, 111, 112, 113, 114, 115, 116, 117, 118, 119, 120, 121, 122, 123, 124, 125, 126, 127, 128, 129, 130, 131, 132, 133, 134, 135, 136, 137, 138, 139, 140, 141, 142, 143, 144, 145, 146, 147, 148, 149, 150, 151, 152, 153, 154, 155, 156, 157, 158, 159, 160, 161, 162, 163, 164, 165, 166, 167, 168, 169, 170, 171, 172, 173, 174, 175, 176, 177, 178, 179, 180, 181, 182, 183, 184, 185, 186, 187, 188, 189, 190, 191, 192, 193, 194, 195, 196, 197, 198, 199, 200, 201, 202, 203, 204, 205, 206, 207, 208, 209, 210, 211, 212, 213, 214, 215, 216, 217, 218, 219, 220, 221, 222, 223, 224, 225, 226, 227, 228, 229, 230, 231, 232, 233, 234, 235, 236, 237, 238, 239, 240, 241, 242, 243, 244, 245, 246, 247, 248, 249, 250, 251, 252, 253, 254, 255, 256, 257, 258, 259, 260, 261, 262, 263, 264, 265, 266, 267, 268, 269, 270, 271, 272, 273, 274, 275, 276, 277, 278, 279, 280, 281, 282, 283, 284, 285, 286, 287, 288, 289, 290, 291, 292, 293, 294, 295, 296, 297, 298, 299, 300, 301, 302, 303, 304, 305, 306, 307, 308, 309, 310, 311, 312, 313, 314, 315, 316, 317, 318, 319, 320, 321, 322, 323, 324, 325, 326, 327, 328, 329, 330, 331, 332, 333, 334, 335, 336, 337, 338, 339, 340, 341, 342, 343, 344, 345, 346, 347, 348, 349, 350, 351, 352, 353, 354, 355, 356, 357, 358, 359, 360, 361, 362, 363, 364, 365, 366, 367, 368, 369, 370, 371, 372, 373, 374, 375, 376, 377, 378, 379, 380, 381, 382, 383, 384, 385, 386, 387, 388, 389, 390, 391, 392, 393, 394, 395, 396, 397, 398, 399, 400, 401, 402, 403, 404, 405, 406, 407, 408, 409, 410, 411, 412, 413, 414, 415, 416, 417, 418, 419, 420, 421, 422, 423, 424, 425, 426, 427, 428, 429, 430, 431, 432, 433, 434, 435, 436, 437, 438, 439, 440, 441, 442, 443, 444, 445, 446, 447, 448, 449, 450, 451, 452, 453, 454, 455, 456, 457, 458, 459, 460, 461, 462, 463, 464, 465, 466, 467, 468, 469, 470, 471, 472, 473, 474, 475, 476, 477, 478, 479, 480, 481, 482, 483, 484, 485, 486, 487, 488, 489, 490, 491, 492, 493, 494, 495, 496, 497, 498, 499, 500, 501, 502, 503, 504, 505, 506, 507, 508, 509, 510, 511, 512, 513, 514, 515, 516, 517, 518, 519, 520, 521, 522, 523, 524, 525, 526, 527, 528, 529, 530, 531, 532, 533, 534, 535, 536, 537, 538, 539, 540, 541, 542, 543, 544, 545, 546, 547, 548, 549, 550, 551, 552, 553, 554, 555, 556, 557, 558, 559, 560, 561, 562, 563, 564, 565, 566, 567, 568, 569, 570, 571, 572, 573, 574, 575, 576, 577, 578, 579, 580, 581, 582, 583, 584, 585, 586, 587, 588, 589, 590, 591, 592, 593, 594, 595, 596, 597, 598, 599, 600, 601, 602, 603, 604, 605, 606, 607, 608, 609, 610, 611, 612, 613, 614, 615, 616, 617, 618, 619, 620, 621, 622, 623, 624, 625, 626, 627, 628, 629, 630, 631, 632, 633, 634, 635, 636, 637, 638, 639, 640, 641, 642, 643, 644, 645, 646, 647, 648, 649, 650, 651, 652, 653, 654, 655, 656, 657, 658, 659, 660, 661, 662, 663, 664, 665, 666, 667, 668, 669, 670, 671, 672, 673, 674, 675, 676, 677, 678, 679, 680, 681, 682, 683, 684, 685, 686, 687, 688, 689, 690, 691, 692, 693, 694, 695, 696, 697, 698, 699, 700, 701, 702, 703, 704, 705, 706, 707, 708, 709, 710, 711, 712, 713, 714, 715, 716, 717, 718, 719, 720, 721, 722, 723, 724, 725, 726, 727, 728, 729, 730, 731, 732, 733, 734, 735, 736, 737, 738, 739, 740, 741, 742, 743, 744, 745, 746, 747, 748, 749, 750, 751, 752, 753, 754, 755, 756, 757, 758, 759, 760, 761, 762, 763, 764, 765, 766, 767, 768, 769, 770, 771, 772, 773, 774, 775, 776, 777, 778, 779, 780, 781, 782, 783, 784, 785, 786, 787, 788, 789, 790, 791, 792, 793, 794, 795, 796, 797, 798, 799, 800, 801, 802, 803, 804, 805, 806, 807, 808, 809, 810, 811, 812, 813, 814, 815, 816, 817, 818, 819, 820, 821, 822, 823, 824, 825, 826, 827, 828, 829, 830, 831, 832, 833, 834, 835, 836, 837, 838, 839, 840, 841, 842, 843, 844, 845, 846, 847, 848, 849, 850, 851, 852, 853, 854, 855, 856, 857, 858, 859, 860, 861, 862, 863, 864, 865, 866, 867, 868, 869, 870, 871, 872, 873, 874, 875, 876, 877, 878, 879, 880, 881, 882, 883, 884, 885, 886, 887, 888, 889, 890, 891, 892, 893, 894, 895, 896, 897, 898, 899, 900, 901, 902, 903, 904, 905, 906, 907, 908, 909, 910, 911, 912, 913, 914, 915, 916, 917, 918, 919, 920, 921, 922, 923, 924, 925, 926, 927, 928, 929, 930, 931, 932, 933, 934, 935, 936, 937, 938, 939, 940, 941, 942, 943, 944, 945, 946, 947, 948, 949, 950, 951, 952, 953, 954, 955, 956, 957, 958, 959, 960, 961, 962, 963, 964, 965, 966, 967, 968, 969, 970, 971, 972, 973, 974, 975, 976, 977, 978, 979, 980, 981, 982, 983, 984, 985, 986, 987, 988, 989, 990, 991, 992, 993, 994, 995, 996, 997, 998, 999, 1000, 1001, 1002, 1003, 1004, 1005, 1006, 1007, 1008, 1009, 1010, 1011, 1012, 1013, 1014, 1015, 1016, 1017, 1018, 1019, 1020, 1021, 1022, 1023, 1024, 1025, 1026, 1027, 1028, 1029, 1030, 1031, 1032, 1033, 1034, 1035, 1036, 1037, 1038, 1039, 1040, 1041, 1042, 1043, 1044, 1045, 1046, 1047, 1048, 1049, 1050, 1051, 1052, 1053, 1054, 1055, 1056, 1057, 1058, 1059, 1060, 1061, 1062, 1063, 1064, 1065, 1066, 1067, 1068, 1069, 1070, 1071, 1072, 1073, 1074, 1075, 1076, 1077, 1078, 1079, 1080, 1081, 1082, 1083, 1084, 1085, 1086, 1087, 1088, 1089, 1090, 1091, 1092, 1093, 1094, 1095, 1096, 1097, 1098, 1099, 1100, 1101, 1102, 1103, 1104, 1105, 1106, 1107, 1108, 1109, 1110, 1111, 1112, 1113, 1114, 1115, 1116, 1117, 1118, 1119, 1120, 1121, 1122, 1123, 1124, 1125, 1126, 1127, 1128, 1129, 1130, 1131, 1132, 1133, 1134, 1135, 1136, 1137, 1138, 1139, 1140, 1141, 1142, 1143, 1144, 1145, 1146, 1147, 1148, 1149, 1150, 1151, 1152, 1153, 1154, 1155, 1156, 1157, 1158, 1159, 1160, 1161, 1162, 1163, 1164, 1165, 1166, 1167, 1168, 1169, 1170, 1171, 1172, 1173, 1174, 1175, 1176, 1177, 1178, 1179, 1180, 1181, 1182, 1183, 1184, 1185, 1186, 1187, 1188, 1189, 1190, 1191, 1192, 1193, 1194, 1195, 1196, 1197, 1198, 1199, 1200, 1201, 1202, 1203, 1204, 1205, 1206, 1207, 1208, 1209, 1210, 1211, 1212, 1213, 1214, 1215, 1216, 1217, 1218, 1219, 1220, 1221, 1222, 1223, 1224, 1225, 1226, 1227, 1228, 1229, 1230, 1231, 1232, 1233, 1234, 1235, 1236, 1237, 1238, 1239, 1240, 1241, 1242, 1243, 1244, 1245, 1246, 1247], \"xaxis\": \"x\", \"y\": [0.0, 0.0, 0.0, 0.0, 0.0014335449520288535, 0.0014335449520288535, 0.0014335449520288535, 0.0014335449520288535, 0.005618900198860217, 0.005618900198860217, 0.009065133180740315, 0.009065133180740315, 0.009326044007036134, 0.009326044007036134, 0.010933015456587527, 0.010933015456587527, 0.012004679765344946, 0.012004679765344946, 0.012128599303837964, 0.012128599303837964, 0.012702590253345764, 0.012702590253345764, 0.014205071988073314, 0.014205071988073314, 0.014304064865991086, 0.014304064865991086, 0.014607246315834805, 0.014607246315834805, 0.014939211874033503, 0.014939211874033503, 0.015694252207705785, 0.015694252207705785, 0.015755026751443812, 0.015755026751443812, 0.016544814371417554, 0.016544814371417554, 0.016918193380949187, 0.016918193380949187, 0.017070100170896736, 0.017070100170896736, 0.017761594116505117, 0.017761594116505117, 0.01778589695723834, 0.01778589695723834, 0.01823297113290142, 0.01823297113290142, 0.018360537004474365, 0.018360537004474365, 0.018409103258337348, 0.018409103258337348, 0.018609339025252962, 0.018609339025252962, 0.01879359148996125, 0.01879359148996125, 0.019143564792808362, 0.019143564792808362, 0.019386839181744338, 0.019386839181744338, 0.01938813170196611, 0.01938813170196611, 0.019508352634610617, 0.019508352634610617, 0.020444707100368872, 0.020444707100368872, 0.020465912667162717, 0.020465912667162717, 0.020972556140739684, 0.020972556140739684, 0.020989301658133275, 0.020989301658133275, 0.021451351959798404, 0.021451351959798404, 0.02205737849742591, 0.02205737849742591, 0.022294374544520296, 0.022294374544520296, 0.022468642777355153, 0.022468642777355153, 0.02259355944151363, 0.02259355944151363, 0.023290555405723987, 0.023290555405723987, 0.02347748224639799, 0.02347748224639799, 0.023729708464366277, 0.023729708464366277, 0.023790174255845113, 0.023790174255845113, 0.02397424595663844, 0.02397424595663844, 0.024345568994996045, 0.024345568994996045, 0.024532660136242886, 0.024532660136242886, 0.024575964919993303, 0.024575964919993303, 0.024938976214501314, 0.024938976214501314, 0.02506311374434112, 0.02506311374434112, 0.025256282749192897, 0.025256282749192897, 0.025374382754587366, 0.025374382754587366, 0.025424419479243843, 0.025424419479243843, 0.025477593316306113, 0.025477593316306113, 0.025638624459501175, 0.025638624459501175, 0.025691750700739095, 0.025691750700739095, 0.025756186604175023, 0.025756186604175023, 0.025891684471054353, 0.025891684471054353, 0.026080224914645553, 0.026080224914645553, 0.02608505595667848, 0.02608505595667848, 0.026289068060129248, 0.026289068060129248, 0.026345458972614123, 0.026345458972614123, 0.026518637871879348, 0.026518637871879348, 0.02655933298550232, 0.02655933298550232, 0.026668129941591217, 0.026668129941591217, 0.026926405949747767, 0.026926405949747767, 0.02696902411681057, 0.02696902411681057, 0.027236446116565838, 0.027236446116565838, 0.027306593798366027, 0.027306593798366027, 0.02746011130746181, 0.02746011130746181, 0.028050933567114727, 0.028050933567114727, 0.028133423445574023, 0.028133423445574023, 0.028861661880903576, 0.028861661880903576, 0.029518415017503036, 0.029518415017503036, 0.029587310084511174, 0.029587310084511174, 0.029588989664188787, 0.029588989664188787, 0.029622798085457643, 0.029622798085457643, 0.029686832870185545, 0.029686832870185545, 0.029836911577486556, 0.029836911577486556, 0.030215951709245962, 0.030215951709245962, 0.0306351070150955, 0.0306351070150955, 0.03149813995387901, 0.03149813995387901, 0.03190421792105585, 0.03190421792105585, 0.031916491871194205, 0.031916491871194205, 0.03224241184227164, 0.03224241184227164, 0.032262085625296276, 0.032262085625296276, 0.03227339570658811, 0.03227339570658811, 0.03251379195749093, 0.03251379195749093, 0.032582108279235474, 0.03308079428344463, 0.03308079428344463, 0.03316959470079737, 0.03316959470079737, 0.03319604791156291, 0.03319604791156291, 0.03323754867621478, 0.03323754867621478, 0.03329061335937504, 0.033330047573066214, 0.033330047573066214, 0.03378588926112418, 0.03378588926112418, 0.03394523297213818, 0.03394523297213818, 0.03399421763358392, 0.03399421763358392, 0.034148542011733216, 0.034148542011733216, 0.03424629552253476, 0.03424629552253476, 0.034279671787223374, 0.034279671787223374, 0.03445899455875239, 0.03445899455875239, 0.034478733532610994, 0.034478733532610994, 0.03470360663686458, 0.03470360663686458, 0.03486659855051666, 0.03486659855051666, 0.035071439507059245, 0.035136082289644696, 0.035136082289644696, 0.035390273733829664, 0.035390273733829664, 0.03561088791559914, 0.03561088791559914, 0.03567451406668631, 0.03567451406668631, 0.03567856803541714, 0.03567856803541714, 0.03568837263293461, 0.03568837263293461, 0.035927023633504605, 0.035927023633504605, 0.03625824511616944, 0.03625824511616944, 0.03652244684447151, 0.03652244684447151, 0.03660622455564844, 0.03660622455564844, 0.0367674885230906, 0.0367674885230906, 0.036784365349974986, 0.036784365349974986, 0.03681427613257694, 0.03681427613257694, 0.0368733159051336, 0.0368733159051336, 0.0371935316674811, 0.0371935316674811, 0.03748369385184722, 0.03748369385184722, 0.03748369385184722, 0.03748369385184722, 0.037491248070917034, 0.037491248070917034, 0.037500633962368635, 0.037500633962368635, 0.03760688623771531, 0.03760688623771531, 0.038059348226791995, 0.038059348226791995, 0.03829187808807022, 0.03829187808807022, 0.0382974505422614, 0.0382974505422614, 0.038365482328541076, 0.038365482328541076, 0.0384211847169934, 0.0384211847169934, 0.038555938957785904, 0.038555938957785904, 0.038581948876850944, 0.038581948876850944, 0.038948155199853576, 0.038948155199853576, 0.038948155199853576, 0.038948155199853576, 0.03910170803127625, 0.03910170803127625, 0.03910491398991304, 0.03910491398991304, 0.03914061584533631, 0.03914061584533631, 0.03915092528123212, 0.03915092528123212, 0.039272119681332804, 0.039348494053301035, 0.03939440005944055, 0.03939440005944055, 0.03955957519910635, 0.03955957519910635, 0.03984714318815967, 0.03984714318815967, 0.04007970762694811, 0.04007970762694811, 0.040259458578011664, 0.040259458578011664, 0.04030175080289052, 0.04030175080289052, 0.04038943238679463, 0.04038943238679463, 0.040505804173750055, 0.040505804173750055, 0.04072062888839765, 0.04072062888839765, 0.04072755022801144, 0.040931479038801774, 0.040931479038801774, 0.0410166453364144, 0.0410166453364144, 0.04106627466695515, 0.04106627466695515, 0.04116002251672883, 0.04116002251672883, 0.04118229619930425, 0.04118229619930425, 0.0412015074633214, 0.0412015074633214, 0.0412563166513442, 0.0412563166513442, 0.04135847782032061, 0.04135847782032061, 0.04143054055431135, 0.04143054055431135, 0.04153423132038188, 0.04153423132038188, 0.04157637794562748, 0.04157637794562748, 0.041640042018825325, 0.041640042018825325, 0.04171867866477722, 0.04171867866477722, 0.04180460502398885, 0.04180460502398885, 0.04184817859826241, 0.04184817859826241, 0.04186974777240028, 0.04186974777240028, 0.04208439552166175, 0.04227412371606934, 0.04227412371606934, 0.04234510340485836, 0.04234510340485836, 0.04234524627999545, 0.04234524627999545, 0.04236371872699738, 0.04236371872699738, 0.0424508380838686, 0.0424508380838686, 0.04252164421083965, 0.04252164421083965, 0.042546945804908136, 0.042546945804908136, 0.042699135418340424, 0.042699135418340424, 0.04293080198219181, 0.04293080198219181, 0.042962793593099936, 0.042962793593099936, 0.0430024836991452, 0.0430024836991452, 0.043106112073745755, 0.043106112073745755, 0.04312106397353876, 0.04312106397353876, 0.04323907044580815, 0.04323907044580815, 0.04330660549604907, 0.04330660549604907, 0.043353420648061164, 0.043353420648061164, 0.04335877087286396, 0.04337015402934322, 0.04337015402934322, 0.043420865703799896, 0.043420865703799896, 0.043477440992629776, 0.043477440992629776, 0.04351881154416236, 0.04351881154416236, 0.04362404703689376, 0.04362404703689376, 0.04368265573112566, 0.04368265573112566, 0.043808308428043244, 0.043808308428043244, 0.0438300176297015, 0.0438300176297015, 0.044044700605052195, 0.044044700605052195, 0.04412389484647718, 0.04412389484647718, 0.044164806461006116, 0.044164806461006116, 0.044174092630045333, 0.044174092630045333, 0.04419808029155542, 0.04419808029155542, 0.0442158130616725, 0.0442158130616725, 0.044248137814204905, 0.044248137814204905, 0.04436558966556487, 0.04436558966556487, 0.04442262543096312, 0.044434914264003554, 0.044434914264003554, 0.04450330906608117, 0.04450330906608117, 0.04451416219740488, 0.04454515772443785, 0.04454515772443785, 0.04458968119824339, 0.044611413804645755, 0.04467338443750068, 0.04467338443750068, 0.04468954444633418, 0.04468954444633418, 0.04469309620609864, 0.04469309620609864, 0.04502173616577161, 0.04502173616577161, 0.045080531925272775, 0.04509789635050756, 0.04509789635050756, 0.04515596483940209, 0.04515596483940209, 0.045261730159398904, 0.045261730159398904, 0.04527194415559687, 0.04527194415559687, 0.04530673047897499, 0.0453179182621186, 0.0453179182621186, 0.04534690782091502, 0.04534690782091502, 0.04534690782091502, 0.04534690782091502, 0.04546164441827166, 0.04546164441827166, 0.04560815222476381, 0.04560815222476381, 0.045638952896398015, 0.045638952896398015, 0.04567617037105789, 0.0456818132786575, 0.0456818132786575, 0.04573094374225254, 0.04573094374225254, 0.04582117761802883, 0.04582117761802883, 0.04584077485357863, 0.04587207578787484, 0.0458826887912831, 0.0458826887912831, 0.04590729581277771, 0.04590729581277771, 0.04597443060125492, 0.04597443060125492, 0.04598071155210994, 0.04606311003624872, 0.04632522390225427, 0.04633193092141221, 0.04633193092141221, 0.04637706213167532, 0.046400609417893465, 0.046400609417893465, 0.04646219183021947, 0.04646219183021947, 0.04662955435711047, 0.04662955435711047, 0.04693498511604632, 0.04693498511604632, 0.04697783015400927, 0.04697783015400927, 0.047099524331539196, 0.047099524331539196, 0.0471542146022833, 0.04720389991763541, 0.04720389991763541, 0.0475370616531, 0.04783095060973753, 0.04783095060973753, 0.04785314312825378, 0.04785314312825378, 0.0479300089558584, 0.047979800937975235, 0.047979800937975235, 0.048015759306994955, 0.048015759306994955, 0.04826301774861305, 0.04826301774861305, 0.04833742736012978, 0.04833742736012978, 0.04839764944135719, 0.04839764944135719, 0.04840239147439529, 0.04840239147439529, 0.04844164167580454, 0.04844164167580454, 0.04857719779612998, 0.04857719779612998, 0.04861186392680052, 0.04863161706889156, 0.04863161706889156, 0.04865138065120891, 0.048694707323167, 0.048694707323167, 0.048763574512589065, 0.048763574512589065, 0.04881618065042311, 0.04881618065042311, 0.04882897838382792, 0.04888330767381352, 0.04888330767381352, 0.048887949475490175, 0.048887949475490175, 0.0489504145728497, 0.0489504145728497, 0.04902702225101667, 0.04902702225101667, 0.04913828185827847, 0.04913828185827847, 0.04922207074391365, 0.04922207074391365, 0.049286970753436264, 0.049286970753436264, 0.04930889336131751, 0.04931877285434102, 0.04931877285434102, 0.049368815555058544, 0.049368815555058544, 0.04952209301401101, 0.04952209301401101, 0.04958991957597701, 0.04958991957597701, 0.049594711181129125, 0.04960152542016044, 0.04960152542016044, 0.04961516451538542, 0.04963206018190272, 0.04963206018190272, 0.049822641962852486, 0.049822641962852486, 0.04987168881367694, 0.04994573208545498, 0.04994573208545498, 0.049959788619952185, 0.05003198153608427, 0.05003198153608427, 0.050032801051809975, 0.050054761282797025, 0.050054761282797025, 0.05005742835813017, 0.05005742835813017, 0.05007627008976196, 0.05007627008976196, 0.050082865561867175, 0.050082865561867175, 0.05018398322041593, 0.05023630006354814, 0.05023630006354814, 0.050236724545352246, 0.050236724545352246, 0.05032840101430229, 0.05032840101430229, 0.05034897332094666, 0.05039036469018422, 0.050530235294360674, 0.05061409271093652, 0.05061409271093652, 0.0506397288814767, 0.050743980221105295, 0.050743980221105295, 0.05098017208882058, 0.05098017208882058, 0.050993692072875615, 0.050993692072875615, 0.05105001743251688, 0.05105001743251688, 0.05105442037032953, 0.051078628410287326, 0.05112611982631417, 0.05112611982631417, 0.051130229533865305, 0.051130229533865305, 0.051274665220966235, 0.051274665220966235, 0.051407644394278154, 0.051525442663366235, 0.051525442663366235, 0.051673283932608914, 0.051673283932608914, 0.051694670249073815, 0.051694670249073815, 0.051765833629205095, 0.05181018813358027, 0.05181018813358027, 0.051811104242207584, 0.05182907437108998, 0.051868910860003316, 0.05191677020806685, 0.05191677020806685, 0.05192482417042497, 0.05196559738393785, 0.05196559738393785, 0.05203025816194843, 0.05203025816194843, 0.05207711608049638, 0.05209945527384676, 0.052161180082590144, 0.05222741971260831, 0.05223507670684221, 0.05223507670684221, 0.052275404252087966, 0.052275404252087966, 0.05233840287773255, 0.05233840287773255, 0.052383959101826603, 0.05243693958967424, 0.0526928592600719, 0.05286803227577058, 0.05286803227577058, 0.0529786833157754, 0.053091178451997185, 0.053091178451997185, 0.05316087933954688, 0.05316087933954688, 0.05319392912220742, 0.05319392912220742, 0.05320794049142192, 0.05320794049142192, 0.053236467264088684, 0.053262693126525915, 0.053262693126525915, 0.053335476078816696, 0.05348503995916522, 0.053499897195094175, 0.053499897195094175, 0.05354445544508268, 0.05360411045095793, 0.05360411045095793, 0.053697846293805286, 0.05372736213377489, 0.05373680161544177, 0.05373680161544177, 0.05374172883892869, 0.05385656095529074, 0.05385656095529074, 0.053871570709418636, 0.053946657555691245, 0.05397346719164914, 0.054069244272522604, 0.054069244272522604, 0.05409352052094991, 0.0541322580161432, 0.05413319432569712, 0.05413319432569712, 0.05415918472101854, 0.05415918472101854, 0.05420700009915895, 0.05420700009915895, 0.054238147795562006, 0.054238147795562006, 0.05427765825080346, 0.054440114846905654, 0.05445297939681801, 0.05460930374681895, 0.05462986141748025, 0.05462986141748025, 0.054640889732674766, 0.05464902157790854, 0.05464902157790854, 0.054791280805916324, 0.05484156679406951, 0.05484778733094368, 0.05484778733094368, 0.05485264278714255, 0.05485264278714255, 0.05492138550688128, 0.05492752361408779, 0.05492752361408779, 0.05496477913749829, 0.05508378708328471, 0.05508378708328471, 0.055114585373579286, 0.055114585373579286, 0.05515989493019482, 0.05515989493019482, 0.055197580538567735, 0.055197580538567735, 0.0552268827101577, 0.0552268827101577, 0.055337283222705445, 0.05537245932115292, 0.05537662669506728, 0.055427079518286244, 0.05547322024082222, 0.05551628881040703, 0.05557364860484814, 0.05557364860484814, 0.055592818176194346, 0.05562037577094157, 0.05568703494548926, 0.05571632282513581, 0.05571632282513581, 0.05571636481684876, 0.05571636481684876, 0.05579775378703951, 0.05579775378703951, 0.05581122558377859, 0.05581122558377859, 0.05585192136205334, 0.05589639248070839, 0.055942284575740714, 0.05602222354041352, 0.05602222354041352, 0.056071840629824635, 0.056071840629824635, 0.05607774803959445, 0.05607774803959445, 0.05612839575948392, 0.056138129991963714, 0.056138129991963714, 0.056153563410130544, 0.05620132389379814, 0.0562031973387133, 0.056232807246312466, 0.05627617154284588, 0.05627617154284588, 0.05629578819017307, 0.056318869717499574, 0.056318869717499574, 0.05641231192300626, 0.05641231192300626, 0.0564542073541526, 0.05659850074536004, 0.056598902895480446, 0.05674845699455004, 0.056801395594698614, 0.05682113469416798, 0.05682113469416798, 0.05690945958734187, 0.05692069511385396, 0.05692069511385396, 0.0569384575695627, 0.0569384575695627, 0.05696456890492198, 0.05696456890492198, 0.056965449690534506, 0.056965449690534506, 0.05697910148059169, 0.05699496161912752, 0.05699496161912752, 0.057036314699354135, 0.057036314699354135, 0.05713653122156347, 0.05721637374843638, 0.05721637374843638, 0.057248290220954595, 0.057633801897171495, 0.05766854942175709, 0.05771893033329844, 0.05771893033329844, 0.05773558407586962, 0.05780692782060572, 0.05809168505032816, 0.058129156154680506, 0.05813860678456894, 0.05813860678456894, 0.058156724947940476, 0.05817718187840206, 0.0581977860253501, 0.0581977860253501, 0.058254850496309206, 0.0583158799109267, 0.0583158799109267, 0.05832547030712499, 0.05833512564837168, 0.05833512564837168, 0.05845549825781099, 0.05846841206640829, 0.058509797074693004, 0.058633694917017434, 0.05866386974352073, 0.05866386974352073, 0.058723072034288115, 0.058734475158748134, 0.05873482425404395, 0.05873482425404395, 0.058750171427477946, 0.058750171427477946, 0.05878157940714541, 0.05878157940714541, 0.058837692214100595, 0.05884641622367314, 0.05886251761746128, 0.05890117295879426, 0.05890117295879426, 0.05893237545994384, 0.058946467633208766, 0.05904444464561933, 0.05904444464561933, 0.05908308282922224, 0.05915650610425646, 0.059187491757286756, 0.059187491757286756, 0.05928635696489351, 0.05930378726522026, 0.05935465963002826, 0.05935465963002826, 0.0595743446946054, 0.059602917699148314, 0.05960314560136007, 0.05960314560136007, 0.059646702848195475, 0.059646702848195475, 0.05994557548127067, 0.05994557548127067, 0.060220713838640215, 0.060230679465985856, 0.060293105087851594, 0.06030277818427836, 0.06030314246392478, 0.06030314246392478, 0.06046477570193361, 0.06048553553334388, 0.06048553553334388, 0.060535965912268314, 0.06053771302815282, 0.06054011902371936, 0.060611867729843553, 0.06063347207954609, 0.060635171119521894, 0.06067603216217927, 0.06067603216217927, 0.06073740898601446, 0.06077417296053764, 0.06080788979805094, 0.06106729550080789, 0.06106729550080789, 0.061100383520534624, 0.061133797671261016, 0.06126219033141839, 0.061290769750259336, 0.061290769750259336, 0.061485169420816915, 0.061485169420816915, 0.061519000139085595, 0.06152407727300997, 0.06152407727300997, 0.06156761161505696, 0.06156761161505696, 0.0617686504390781, 0.06182887889281761, 0.06186096386421193, 0.06186096386421193, 0.061887732845569206, 0.062048981227074196, 0.06207342786946747, 0.062196005253025335, 0.062196005253025335, 0.06228397901562398, 0.06235311674699863, 0.06235311674699863, 0.062388078224585544, 0.06244260103179096, 0.06244260103179096, 0.0625563516736878, 0.0625563516736878, 0.06256509119969485, 0.06264138015437459, 0.06264866801408914, 0.06295007252893949, 0.06296120465860762, 0.06296120465860762, 0.06306966640307769, 0.0633936019462304, 0.0637023339201319, 0.0637023339201319, 0.0637550260825206, 0.06375773371780923, 0.06384248378783107, 0.06384248378783107, 0.06404444119272519, 0.06410521799470939, 0.06415806019409263, 0.06415806019409263, 0.06417151334939218, 0.06425351092461926, 0.06439373878040375, 0.06443202348984861, 0.06443202348984861, 0.06454527826041072, 0.06455611707744185, 0.06456341207320697, 0.06469086467091882, 0.06475151988202374, 0.06475151988202374, 0.06490372639610431, 0.06490372639610431, 0.06495252497270233, 0.06503516880368052, 0.06503572007955542, 0.06505502946663008, 0.06505502946663008, 0.06512344676913234, 0.06512344676913234, 0.06521696695004983, 0.06535707835109962, 0.06535738347734227, 0.06554252499285884, 0.0655583769031667, 0.06558913264436485, 0.0657397974216104, 0.0657397974216104, 0.0658080350267762, 0.0658080350267762, 0.06586890070525502, 0.06588852004583572, 0.06588852004583572, 0.06594104501053201, 0.06596687323746533, 0.06627552732213997, 0.06628622678337491, 0.06628622678337491, 0.06631476576060431, 0.06633417693660315, 0.06634573377989421, 0.06658975157334807, 0.06658975157334807, 0.06680375899622613, 0.06687870058298517, 0.06728974528095144, 0.06731317098840811, 0.06732204678176865, 0.06737683871724828, 0.06738657089461467, 0.06738873066629207, 0.06738873066629207, 0.06745012033394879, 0.06784673436805717, 0.06784673436805717, 0.06787025480169045, 0.06789246718901985, 0.06794519811977995, 0.06796002178685935, 0.06813568471009653, 0.0681563663579023, 0.06845624938002576, 0.06845624938002576, 0.06858446680168534, 0.06871939250596275, 0.0687356052678713, 0.0688136870169068, 0.0688136870169068, 0.06881837650006771, 0.06881837650006771, 0.06882281078548998, 0.06885732655342654, 0.06893061182937525, 0.06897888756102684, 0.06906031450420566, 0.06907432009167389, 0.06908423409063412, 0.06908423409063412, 0.06908625236288463, 0.06908625236288463, 0.06915906534149635, 0.06916426189178614, 0.06916426189178614, 0.06921339107972652, 0.06929640926637226, 0.06945168212797437, 0.06945168212797437, 0.06946611496342432, 0.06963615486472245, 0.06978119524113782, 0.06984408916696454, 0.06992295220024308, 0.06992295220024308, 0.06994908670770701, 0.07011616624079352, 0.07011616624079352, 0.07039007847610376, 0.07056728558234406, 0.07088591817652612, 0.07088591817652612, 0.0709472913195332, 0.07105014589391447, 0.07151597189837611, 0.07151597189837611, 0.07173219290438458, 0.0718305837964585, 0.0718305837964585, 0.07193324697086466, 0.072132806856788, 0.07228371867785058, 0.07228371867785058, 0.07240728612100848, 0.0725143257610638, 0.07255433136752525, 0.0725836976723519, 0.07259619193683417, 0.07264422686273905, 0.07276032268646289, 0.07276032268646289, 0.07285274830745611, 0.07285274830745611, 0.07296620677917946, 0.0731939451101014, 0.0732058851415548, 0.07333967235353601, 0.07338301120397829, 0.07338301120397829, 0.07355154309837013, 0.07357005375586054, 0.07357005375586054, 0.07413321752386115, 0.07415487692360825, 0.07415487692360825, 0.07506452965774263, 0.07519667414248021, 0.07519667414248021, 0.07539210053412324, 0.07539210053412324, 0.07547702494919722, 0.07567632873500316, 0.07586619644480264, 0.07625656562474506, 0.07632728036231444, 0.07634211916555403, 0.07659171534157004, 0.07677521693943332, 0.07686628871705141, 0.0768808594750395, 0.07693038177632881, 0.0769975813890661, 0.0769975813890661, 0.07702675411196445, 0.07713385199985066, 0.07713385199985066, 0.07751582322221806, 0.0776121445965287, 0.07790826364698908, 0.07793061646206094, 0.07793061646206094, 0.07804295848501705, 0.07804295848501705, 0.07812565846353621, 0.07812565846353621, 0.0782601510098424, 0.0784650857919349, 0.0786881198144232, 0.07876194238228229, 0.07878537953490479, 0.07882414865353353, 0.07898272599024758, 0.0791040307198061, 0.07919606378404596, 0.07952811378825683, 0.07954158709629197, 0.07954158709629197, 0.07963384064765312, 0.07976523053204994, 0.079936579376392, 0.08017404152561883, 0.0802144253928915, 0.08024960655001598, 0.08031442174467818, 0.08033725000009334, 0.08084201116016823, 0.08105712164252545, 0.08108916006601122, 0.08117741900918235, 0.0811832507266661, 0.08152876209258403, 0.08172378266216968, 0.08172378266216968, 0.08187362085307599, 0.08187362085307599, 0.0822545785461691, 0.08230428663969339, 0.08250804391880412, 0.08291746113499647, 0.08295354286702898, 0.08296695308619186, 0.08304157043077849, 0.08307648720129003, 0.08307648720129003, 0.08312892917498756, 0.08321951321594366, 0.08331041352450015, 0.08372221761729345, 0.08376055947016611, 0.08378950056081844, 0.08436185216857028, 0.08436185216857028, 0.08466649520125115, 0.08516528434217618, 0.08516528434217618, 0.08521456329960123, 0.08529770995150474, 0.08541247493091161, 0.08541247493091161, 0.0862067493125542, 0.08627554427927557, 0.08668526238291824, 0.08689583156795494, 0.08728033675633812, 0.08750599060275786, 0.08769471095168738, 0.0879037971729705, 0.08796161285476897, 0.08796161285476897, 0.08838982254538172, 0.08905683443265532, 0.08976432363870593, 0.08994530424403221, 0.08994530424403221, 0.09007032339438059, 0.09007032339438059, 0.09018384995477974, 0.09036447358931637, 0.09089398951107008, 0.09146080368605626, 0.09181131031688003, 0.09181131031688003, 0.09240544044067331, 0.09262875979313123, 0.09262875979313123, 0.09316021144749798, 0.09324246723308308, 0.09335527429627948, 0.09356905125387144, 0.09358821837481572, 0.09366650870233423, 0.09389197649694114, 0.09389197649694114, 0.09410216873577461, 0.09423877654892977, 0.09423877654892977, 0.09471572211672238, 0.0955344384234675, 0.09566519733649269, 0.09632117520310339, 0.097190569723587, 0.09772542115949892, 0.09772807620976726, 0.09835814936852662, 0.09868983036606467, 0.09898528524336545, 0.09943717911116016, 0.09943717911116016, 0.09986023088240394, 0.10031651490262763, 0.10060243770830922, 0.10110595058218523, 0.10116433901230772, 0.1012321835180399, 0.10132657441287991, 0.10132657441287991, 0.10209124719795021, 0.10209124719795021, 0.10222449653014401, 0.10225703103821955, 0.10225703103821955, 0.10248322221187108, 0.10341988224672069, 0.10345337699994352, 0.1035878855854234, 0.1037380942774485, 0.10398895297176543, 0.1041057769550059, 0.10447728729072263, 0.10526001616292967, 0.10555942701541092, 0.10555942701541092, 0.10656527880723698, 0.10739053001627993, 0.10741373566508963, 0.1080380414094796, 0.10840004898030478, 0.10920863680936732, 0.10920863680936732, 0.1118394627291173, 0.1118394627291173, 0.11200558085554756, 0.1121835826187773, 0.1121835826187773, 0.1132403595280693, 0.1132403595280693, 0.11332971325717658, 0.11342903060575682, 0.11429530427576175, 0.11442533716102227, 0.11631020763334245, 0.11766108547948437, 0.11901239748958879, 0.11901239748958879, 0.1205823067174879, 0.12078597240092714, 0.1212721361369591, 0.12223607012150833, 0.12450342695339538, 0.12526485925118952, 0.1254664931957466, 0.12640567960067683, 0.12688381426952897, 0.12739523416890985, 0.12739523416890985, 0.1292004816423087, 0.12923342226260767, 0.12923342226260767, 0.1299299284711552, 0.13202648415960855, 0.13502251618454114, 0.13506385221890715, 0.1409518788511065, 0.1421170225325269, 0.142222182105698, 0.14230286634806993, 0.14230286634806993, 0.14265748270845377, 0.14269413299656877, 0.14342125456275273, 0.143857012266326, 0.14420060404873958, 0.14995530408993168, 0.15023208306309352, 0.154804636327531, 0.15634006098938005, 0.15635034030511158, 0.16101483553570628, 0.1617558511061131, 0.1689887436267466, 0.17173194297017283, 0.17223530408143678, 0.17271672334705576, 0.17284649245379255, 0.18143940052222157, 0.20351636317023403, 0.22049052329220262, 0.22067474699795414, 0.22067474699795414, 0.22767301366131354, 0.24053674356474386, 0.2416755947742848, 0.24363730733388916, 0.2460461634236334, 0.24972652192015488, 0.25642521490156683, 0.26607921847627763, 0.26737306761521606, 0.2698171439217304, 0.26987673915525895, 0.33913156174358644, 0.36077213834566113], \"yaxis\": \"y\"}],\n",
              "                        {\"legend\": {\"tracegroupgap\": 0}, \"margin\": {\"t\": 60}, \"template\": {\"data\": {\"bar\": [{\"error_x\": {\"color\": \"#2a3f5f\"}, \"error_y\": {\"color\": \"#2a3f5f\"}, \"marker\": {\"line\": {\"color\": \"#E5ECF6\", \"width\": 0.5}}, \"type\": \"bar\"}], \"barpolar\": [{\"marker\": {\"line\": {\"color\": \"#E5ECF6\", \"width\": 0.5}}, \"type\": \"barpolar\"}], \"carpet\": [{\"aaxis\": {\"endlinecolor\": \"#2a3f5f\", \"gridcolor\": \"white\", \"linecolor\": \"white\", \"minorgridcolor\": \"white\", \"startlinecolor\": \"#2a3f5f\"}, \"baxis\": {\"endlinecolor\": \"#2a3f5f\", \"gridcolor\": \"white\", \"linecolor\": \"white\", \"minorgridcolor\": \"white\", \"startlinecolor\": \"#2a3f5f\"}, \"type\": \"carpet\"}], \"choropleth\": [{\"colorbar\": {\"outlinewidth\": 0, \"ticks\": \"\"}, \"type\": \"choropleth\"}], \"contour\": [{\"colorbar\": {\"outlinewidth\": 0, \"ticks\": \"\"}, \"colorscale\": [[0.0, \"#0d0887\"], [0.1111111111111111, \"#46039f\"], [0.2222222222222222, \"#7201a8\"], [0.3333333333333333, \"#9c179e\"], [0.4444444444444444, \"#bd3786\"], [0.5555555555555556, \"#d8576b\"], [0.6666666666666666, \"#ed7953\"], [0.7777777777777778, \"#fb9f3a\"], [0.8888888888888888, \"#fdca26\"], [1.0, \"#f0f921\"]], \"type\": \"contour\"}], \"contourcarpet\": [{\"colorbar\": {\"outlinewidth\": 0, \"ticks\": \"\"}, \"type\": \"contourcarpet\"}], \"heatmap\": [{\"colorbar\": {\"outlinewidth\": 0, \"ticks\": \"\"}, \"colorscale\": [[0.0, \"#0d0887\"], [0.1111111111111111, \"#46039f\"], [0.2222222222222222, \"#7201a8\"], [0.3333333333333333, \"#9c179e\"], [0.4444444444444444, \"#bd3786\"], [0.5555555555555556, \"#d8576b\"], [0.6666666666666666, \"#ed7953\"], [0.7777777777777778, \"#fb9f3a\"], [0.8888888888888888, \"#fdca26\"], [1.0, \"#f0f921\"]], \"type\": \"heatmap\"}], \"heatmapgl\": [{\"colorbar\": {\"outlinewidth\": 0, \"ticks\": \"\"}, \"colorscale\": [[0.0, \"#0d0887\"], [0.1111111111111111, \"#46039f\"], [0.2222222222222222, \"#7201a8\"], [0.3333333333333333, \"#9c179e\"], [0.4444444444444444, \"#bd3786\"], [0.5555555555555556, \"#d8576b\"], [0.6666666666666666, \"#ed7953\"], [0.7777777777777778, \"#fb9f3a\"], [0.8888888888888888, \"#fdca26\"], [1.0, \"#f0f921\"]], \"type\": \"heatmapgl\"}], \"histogram\": [{\"marker\": {\"colorbar\": {\"outlinewidth\": 0, \"ticks\": \"\"}}, \"type\": \"histogram\"}], \"histogram2d\": [{\"colorbar\": {\"outlinewidth\": 0, \"ticks\": \"\"}, \"colorscale\": [[0.0, \"#0d0887\"], [0.1111111111111111, \"#46039f\"], [0.2222222222222222, \"#7201a8\"], [0.3333333333333333, \"#9c179e\"], [0.4444444444444444, \"#bd3786\"], [0.5555555555555556, \"#d8576b\"], [0.6666666666666666, \"#ed7953\"], [0.7777777777777778, \"#fb9f3a\"], [0.8888888888888888, \"#fdca26\"], [1.0, \"#f0f921\"]], \"type\": \"histogram2d\"}], \"histogram2dcontour\": [{\"colorbar\": {\"outlinewidth\": 0, \"ticks\": \"\"}, \"colorscale\": [[0.0, \"#0d0887\"], [0.1111111111111111, \"#46039f\"], [0.2222222222222222, \"#7201a8\"], [0.3333333333333333, \"#9c179e\"], [0.4444444444444444, \"#bd3786\"], [0.5555555555555556, \"#d8576b\"], [0.6666666666666666, \"#ed7953\"], [0.7777777777777778, \"#fb9f3a\"], [0.8888888888888888, \"#fdca26\"], [1.0, \"#f0f921\"]], \"type\": \"histogram2dcontour\"}], \"mesh3d\": [{\"colorbar\": {\"outlinewidth\": 0, \"ticks\": \"\"}, \"type\": \"mesh3d\"}], \"parcoords\": [{\"line\": {\"colorbar\": {\"outlinewidth\": 0, \"ticks\": \"\"}}, \"type\": \"parcoords\"}], \"pie\": [{\"automargin\": true, \"type\": \"pie\"}], \"scatter\": [{\"marker\": {\"colorbar\": {\"outlinewidth\": 0, \"ticks\": \"\"}}, \"type\": \"scatter\"}], \"scatter3d\": [{\"line\": {\"colorbar\": {\"outlinewidth\": 0, \"ticks\": \"\"}}, \"marker\": {\"colorbar\": {\"outlinewidth\": 0, \"ticks\": \"\"}}, \"type\": \"scatter3d\"}], \"scattercarpet\": [{\"marker\": {\"colorbar\": {\"outlinewidth\": 0, \"ticks\": \"\"}}, \"type\": \"scattercarpet\"}], \"scattergeo\": [{\"marker\": {\"colorbar\": {\"outlinewidth\": 0, \"ticks\": \"\"}}, \"type\": \"scattergeo\"}], \"scattergl\": [{\"marker\": {\"colorbar\": {\"outlinewidth\": 0, \"ticks\": \"\"}}, \"type\": \"scattergl\"}], \"scattermapbox\": [{\"marker\": {\"colorbar\": {\"outlinewidth\": 0, \"ticks\": \"\"}}, \"type\": \"scattermapbox\"}], \"scatterpolar\": [{\"marker\": {\"colorbar\": {\"outlinewidth\": 0, \"ticks\": \"\"}}, \"type\": \"scatterpolar\"}], \"scatterpolargl\": [{\"marker\": {\"colorbar\": {\"outlinewidth\": 0, \"ticks\": \"\"}}, \"type\": \"scatterpolargl\"}], \"scatterternary\": [{\"marker\": {\"colorbar\": {\"outlinewidth\": 0, \"ticks\": \"\"}}, \"type\": \"scatterternary\"}], \"surface\": [{\"colorbar\": {\"outlinewidth\": 0, \"ticks\": \"\"}, \"colorscale\": [[0.0, \"#0d0887\"], [0.1111111111111111, \"#46039f\"], [0.2222222222222222, \"#7201a8\"], [0.3333333333333333, \"#9c179e\"], [0.4444444444444444, \"#bd3786\"], [0.5555555555555556, \"#d8576b\"], [0.6666666666666666, \"#ed7953\"], [0.7777777777777778, \"#fb9f3a\"], [0.8888888888888888, \"#fdca26\"], [1.0, \"#f0f921\"]], \"type\": \"surface\"}], \"table\": [{\"cells\": {\"fill\": {\"color\": \"#EBF0F8\"}, \"line\": {\"color\": \"white\"}}, \"header\": {\"fill\": {\"color\": \"#C8D4E3\"}, \"line\": {\"color\": \"white\"}}, \"type\": \"table\"}]}, \"layout\": {\"annotationdefaults\": {\"arrowcolor\": \"#2a3f5f\", \"arrowhead\": 0, \"arrowwidth\": 1}, \"coloraxis\": {\"colorbar\": {\"outlinewidth\": 0, \"ticks\": \"\"}}, \"colorscale\": {\"diverging\": [[0, \"#8e0152\"], [0.1, \"#c51b7d\"], [0.2, \"#de77ae\"], [0.3, \"#f1b6da\"], [0.4, \"#fde0ef\"], [0.5, \"#f7f7f7\"], [0.6, \"#e6f5d0\"], [0.7, \"#b8e186\"], [0.8, \"#7fbc41\"], [0.9, \"#4d9221\"], [1, \"#276419\"]], \"sequential\": [[0.0, \"#0d0887\"], [0.1111111111111111, \"#46039f\"], [0.2222222222222222, \"#7201a8\"], [0.3333333333333333, \"#9c179e\"], [0.4444444444444444, \"#bd3786\"], [0.5555555555555556, \"#d8576b\"], [0.6666666666666666, \"#ed7953\"], [0.7777777777777778, \"#fb9f3a\"], [0.8888888888888888, \"#fdca26\"], [1.0, \"#f0f921\"]], \"sequentialminus\": [[0.0, \"#0d0887\"], [0.1111111111111111, \"#46039f\"], [0.2222222222222222, \"#7201a8\"], [0.3333333333333333, \"#9c179e\"], [0.4444444444444444, \"#bd3786\"], [0.5555555555555556, \"#d8576b\"], [0.6666666666666666, \"#ed7953\"], [0.7777777777777778, \"#fb9f3a\"], [0.8888888888888888, \"#fdca26\"], [1.0, \"#f0f921\"]]}, \"colorway\": [\"#636efa\", \"#EF553B\", \"#00cc96\", \"#ab63fa\", \"#FFA15A\", \"#19d3f3\", \"#FF6692\", \"#B6E880\", \"#FF97FF\", \"#FECB52\"], \"font\": {\"color\": \"#2a3f5f\"}, \"geo\": {\"bgcolor\": \"white\", \"lakecolor\": \"white\", \"landcolor\": \"#E5ECF6\", \"showlakes\": true, \"showland\": true, \"subunitcolor\": \"white\"}, \"hoverlabel\": {\"align\": \"left\"}, \"hovermode\": \"closest\", \"mapbox\": {\"style\": \"light\"}, \"paper_bgcolor\": \"white\", \"plot_bgcolor\": \"#E5ECF6\", \"polar\": {\"angularaxis\": {\"gridcolor\": \"white\", \"linecolor\": \"white\", \"ticks\": \"\"}, \"bgcolor\": \"#E5ECF6\", \"radialaxis\": {\"gridcolor\": \"white\", \"linecolor\": \"white\", \"ticks\": \"\"}}, \"scene\": {\"xaxis\": {\"backgroundcolor\": \"#E5ECF6\", \"gridcolor\": \"white\", \"gridwidth\": 2, \"linecolor\": \"white\", \"showbackground\": true, \"ticks\": \"\", \"zerolinecolor\": \"white\"}, \"yaxis\": {\"backgroundcolor\": \"#E5ECF6\", \"gridcolor\": \"white\", \"gridwidth\": 2, \"linecolor\": \"white\", \"showbackground\": true, \"ticks\": \"\", \"zerolinecolor\": \"white\"}, \"zaxis\": {\"backgroundcolor\": \"#E5ECF6\", \"gridcolor\": \"white\", \"gridwidth\": 2, \"linecolor\": \"white\", \"showbackground\": true, \"ticks\": \"\", \"zerolinecolor\": \"white\"}}, \"shapedefaults\": {\"line\": {\"color\": \"#2a3f5f\"}}, \"ternary\": {\"aaxis\": {\"gridcolor\": \"white\", \"linecolor\": \"white\", \"ticks\": \"\"}, \"baxis\": {\"gridcolor\": \"white\", \"linecolor\": \"white\", \"ticks\": \"\"}, \"bgcolor\": \"#E5ECF6\", \"caxis\": {\"gridcolor\": \"white\", \"linecolor\": \"white\", \"ticks\": \"\"}}, \"title\": {\"x\": 0.05}, \"xaxis\": {\"automargin\": true, \"gridcolor\": \"white\", \"linecolor\": \"white\", \"ticks\": \"\", \"title\": {\"standoff\": 15}, \"zerolinecolor\": \"white\", \"zerolinewidth\": 2}, \"yaxis\": {\"automargin\": true, \"gridcolor\": \"white\", \"linecolor\": \"white\", \"ticks\": \"\", \"title\": {\"standoff\": 15}, \"zerolinecolor\": \"white\", \"zerolinewidth\": 2}}}, \"xaxis\": {\"anchor\": \"y\", \"domain\": [0.0, 1.0], \"title\": {\"text\": \"x\"}}, \"yaxis\": {\"anchor\": \"x\", \"domain\": [0.0, 1.0], \"title\": {\"text\": \"y\"}}},\n",
              "                        {\"responsive\": true}\n",
              "                    ).then(function(){\n",
              "                            \n",
              "var gd = document.getElementById('1dc524cf-3008-423b-b4e8-40026c39b49f');\n",
              "var x = new MutationObserver(function (mutations, observer) {{\n",
              "        var display = window.getComputedStyle(gd).display;\n",
              "        if (!display || display === 'none') {{\n",
              "            console.log([gd, 'removed!']);\n",
              "            Plotly.purge(gd);\n",
              "            observer.disconnect();\n",
              "        }}\n",
              "}});\n",
              "\n",
              "// Listen for the removal of the full notebook cells\n",
              "var notebookContainer = gd.closest('#notebook-container');\n",
              "if (notebookContainer) {{\n",
              "    x.observe(notebookContainer, {childList: true});\n",
              "}}\n",
              "\n",
              "// Listen for the clearing of the current output cell\n",
              "var outputEl = gd.closest('.output');\n",
              "if (outputEl) {{\n",
              "    x.observe(outputEl, {childList: true});\n",
              "}}\n",
              "\n",
              "                        })\n",
              "                };\n",
              "                \n",
              "            </script>\n",
              "        </div>\n",
              "</body>\n",
              "</html>"
            ]
          },
          "metadata": {
            "tags": []
          }
        }
      ]
    },
    {
      "cell_type": "code",
      "metadata": {
        "colab": {
          "base_uri": "https://localhost:8080/"
        },
        "id": "qY9oUx6N44oT",
        "outputId": "f51bf0de-df3b-446a-f725-c3c9853f8f9e"
      },
      "source": [
        "from sklearn.cluster import DBSCAN\n",
        "\n",
        "results = []\n",
        "for eps in numpy.arange(0.02, 0.12, 0.01):\n",
        "  db = DBSCAN(eps, min_samples=minPts).fit(datanorm_test)\n",
        "  core_samples_mask = numpy.zeros_like(db.labels_, dtype=bool)\n",
        "  core_samples_mask[db.core_sample_indices_] = True\n",
        "  labels = db.labels_\n",
        "  n_clusters_ = len(set(labels)) - (1 if -1 in labels else 0)\n",
        "  n_outliers = list(labels).count(-1)\n",
        "  #print (\"%6.2f, %d, %d\" % (eps, n_clusters_, n_outliers))\n",
        "  results.append([eps, n_clusters_, n_outliers])\n",
        "\n",
        "#print results\n",
        "from tabulate import tabulate\n",
        "print(tabulate(results, headers = (\"eps\", \"clusters\", \"outliers\")))"
      ],
      "execution_count": 51,
      "outputs": [
        {
          "output_type": "stream",
          "text": [
            "  eps    clusters    outliers\n",
            "-----  ----------  ----------\n",
            " 0.02           6         398\n",
            " 0.03          15         368\n",
            " 0.04          25         313\n",
            " 0.05          40         179\n",
            " 0.06          12         105\n",
            " 0.07           7          62\n",
            " 0.08           3          43\n",
            " 0.09           3          32\n",
            " 0.1            3          23\n",
            " 0.11           2          16\n"
          ],
          "name": "stdout"
        }
      ]
    },
    {
      "cell_type": "code",
      "metadata": {
        "colab": {
          "base_uri": "https://localhost:8080/"
        },
        "id": "-2SpcFMr44oU",
        "outputId": "6775997f-3bdc-42a2-bff5-1116fb7dd560"
      },
      "source": [
        "db = DBSCAN(eps=0.06, min_samples=minPts).fit(datanorm_test)\n",
        "labels = db.labels_\n",
        "labels"
      ],
      "execution_count": 52,
      "outputs": [
        {
          "output_type": "execute_result",
          "data": {
            "text/plain": [
              "array([ 0,  0, -1, -1,  1, -1,  2,  2,  2,  2,  2, -1,  2,  2,  2,  2,  2,\n",
              "        2,  2,  2,  2,  2,  2,  2,  2,  2,  2,  2,  2,  2,  0,  3,  0,  0,\n",
              "        3,  3,  3,  0,  0,  0,  0,  0,  3,  3,  0, -1,  4,  3,  4,  0, -1,\n",
              "        5, -1,  0,  0,  0,  2,  2,  2,  2, -1,  6, -1, -1,  2,  2,  2,  2,\n",
              "        2, -1, -1,  2,  2,  2,  2,  2,  2,  2,  2, -1,  2,  2,  2,  2,  2,\n",
              "        8,  0,  0,  0, -1, -1,  0,  3,  0,  0,  0,  2, -1,  0, -1,  1,  5,\n",
              "        0,  0,  2,  2,  2,  2, -1,  7,  2,  2,  2,  2,  2, -1,  2,  2,  2,\n",
              "        2,  7,  2,  2,  2,  7,  2,  2,  2,  7,  2,  2, -1,  2,  0,  0, -1,\n",
              "       -1,  0, -1,  0, -1, -1, -1, -1, -1,  0,  0, -1,  4,  3, -1,  3, -1,\n",
              "        0,  0,  0, -1,  0, -1, -1, -1, -1, -1, -1,  2,  2,  2,  2,  2,  7,\n",
              "        2, -1,  2,  7,  2,  2,  2, -1,  2,  2,  2,  2,  2,  2,  2,  2,  2,\n",
              "       -1,  0,  0,  0,  0,  0, -1,  0,  3,  3, -1,  0,  3,  0,  0,  0, -1,\n",
              "        0,  0,  0,  0,  0,  2,  0,  2,  2,  1, -1,  6,  6, -1, -1,  2,  2,\n",
              "        2,  2,  2,  2,  2,  2,  2,  6,  6, -1,  2,  2,  2,  2,  2,  2,  2,\n",
              "        2,  2,  2, -1,  0,  0,  0,  0,  0,  0,  0,  0,  0,  0, -1, -1, -1,\n",
              "        1,  0,  1,  1,  0,  2,  0,  2, -1, -1, -1, -1,  0, -1, -1,  8, -1,\n",
              "       -1, -1, -1, -1, -1, -1, -1, -1,  2,  2, -1, -1,  2, 11,  2, 11,  2,\n",
              "        2, -1, -1,  2,  2,  2,  2,  2,  2,  2,  2,  2, -1,  2,  2,  2,  0,\n",
              "        8,  2,  8,  0,  8,  5,  0,  0, -1, -1, -1, 10, -1, -1, -1, -1, -1,\n",
              "        0,  0,  2,  2,  2, -1,  2,  2,  2,  2,  2,  2,  2,  2,  2,  2,  2,\n",
              "        2,  2,  8,  2,  2,  2, -1, -1,  2,  8,  9,  2,  2,  2,  2,  2,  2,\n",
              "       -1,  2,  0,  0,  9, -1,  9, -1, -1, -1, -1, -1, -1, -1, -1, -1, 10,\n",
              "       10, -1, -1, 11, -1,  2, -1,  2,  2,  2,  2, -1, -1,  2,  2,  2,  2,\n",
              "       -1,  8,  2, -1,  2,  2,  2,  2,  2,  2, -1,  2,  2,  2,  2,  2, -1,\n",
              "        2,  2,  2, -1,  2,  0,  5,  0])"
            ]
          },
          "metadata": {
            "tags": []
          },
          "execution_count": 52
        }
      ]
    },
    {
      "cell_type": "code",
      "metadata": {
        "colab": {
          "base_uri": "https://localhost:8080/",
          "height": 538
        },
        "id": "1dJoSczr44oU",
        "outputId": "76bf69ed-90ac-4c23-d628-6699ab9cfad7"
      },
      "source": [
        "df_outliers = pd.DataFrame(columns=test_df.columns)\n",
        "contador = 0\n",
        "for item in labels:\n",
        "    if item == -1:\n",
        "        df_outliers = df_outliers.append(test_df.loc[contador],ignore_index=True)\n",
        "        test_df.drop(contador,axis=0,inplace=True)\n",
        "    contador+=1\n",
        "df_outliers"
      ],
      "execution_count": 54,
      "outputs": [
        {
          "output_type": "stream",
          "text": [
            "/usr/local/lib/python3.6/dist-packages/pandas/core/frame.py:4174: SettingWithCopyWarning:\n",
            "\n",
            "\n",
            "A value is trying to be set on a copy of a slice from a DataFrame\n",
            "\n",
            "See the caveats in the documentation: https://pandas.pydata.org/pandas-docs/stable/user_guide/indexing.html#returning-a-view-versus-a-copy\n",
            "\n"
          ],
          "name": "stderr"
        },
        {
          "output_type": "execute_result",
          "data": {
            "text/html": [
              "<div>\n",
              "<style scoped>\n",
              "    .dataframe tbody tr th:only-of-type {\n",
              "        vertical-align: middle;\n",
              "    }\n",
              "\n",
              "    .dataframe tbody tr th {\n",
              "        vertical-align: top;\n",
              "    }\n",
              "\n",
              "    .dataframe thead th {\n",
              "        text-align: right;\n",
              "    }\n",
              "</style>\n",
              "<table border=\"1\" class=\"dataframe\">\n",
              "  <thead>\n",
              "    <tr style=\"text-align: right;\">\n",
              "      <th></th>\n",
              "      <th>reanalysis_specific_humidity_g_per_kg</th>\n",
              "      <th>reanalysis_dew_point_temp_k</th>\n",
              "      <th>station_avg_temp_c</th>\n",
              "      <th>station_min_temp_c</th>\n",
              "    </tr>\n",
              "  </thead>\n",
              "  <tbody>\n",
              "    <tr>\n",
              "      <th>0</th>\n",
              "      <td>16.674286</td>\n",
              "      <td>295.308571</td>\n",
              "      <td>27.928571</td>\n",
              "      <td>22.8</td>\n",
              "    </tr>\n",
              "    <tr>\n",
              "      <th>1</th>\n",
              "      <td>15.775714</td>\n",
              "      <td>294.402857</td>\n",
              "      <td>28.057143</td>\n",
              "      <td>24.4</td>\n",
              "    </tr>\n",
              "    <tr>\n",
              "      <th>2</th>\n",
              "      <td>16.667143</td>\n",
              "      <td>295.314286</td>\n",
              "      <td>28.000000</td>\n",
              "      <td>25.0</td>\n",
              "    </tr>\n",
              "    <tr>\n",
              "      <th>3</th>\n",
              "      <td>17.571429</td>\n",
              "      <td>296.177143</td>\n",
              "      <td>28.785714</td>\n",
              "      <td>26.1</td>\n",
              "    </tr>\n",
              "    <tr>\n",
              "      <th>4</th>\n",
              "      <td>13.668571</td>\n",
              "      <td>292.012857</td>\n",
              "      <td>25.500000</td>\n",
              "      <td>21.7</td>\n",
              "    </tr>\n",
              "    <tr>\n",
              "      <th>...</th>\n",
              "      <td>...</td>\n",
              "      <td>...</td>\n",
              "      <td>...</td>\n",
              "      <td>...</td>\n",
              "    </tr>\n",
              "    <tr>\n",
              "      <th>100</th>\n",
              "      <td>16.788571</td>\n",
              "      <td>295.275714</td>\n",
              "      <td>26.450000</td>\n",
              "      <td>21.2</td>\n",
              "    </tr>\n",
              "    <tr>\n",
              "      <th>101</th>\n",
              "      <td>17.618571</td>\n",
              "      <td>296.045714</td>\n",
              "      <td>26.700000</td>\n",
              "      <td>23.2</td>\n",
              "    </tr>\n",
              "    <tr>\n",
              "      <th>102</th>\n",
              "      <td>19.377143</td>\n",
              "      <td>297.562857</td>\n",
              "      <td>27.900000</td>\n",
              "      <td>22.8</td>\n",
              "    </tr>\n",
              "    <tr>\n",
              "      <th>103</th>\n",
              "      <td>14.852857</td>\n",
              "      <td>293.228571</td>\n",
              "      <td>27.250000</td>\n",
              "      <td>18.2</td>\n",
              "    </tr>\n",
              "    <tr>\n",
              "      <th>104</th>\n",
              "      <td>17.185714</td>\n",
              "      <td>295.638571</td>\n",
              "      <td>27.400000</td>\n",
              "      <td>21.8</td>\n",
              "    </tr>\n",
              "  </tbody>\n",
              "</table>\n",
              "<p>105 rows × 4 columns</p>\n",
              "</div>"
            ],
            "text/plain": [
              "     reanalysis_specific_humidity_g_per_kg  ...  station_min_temp_c\n",
              "0                                16.674286  ...                22.8\n",
              "1                                15.775714  ...                24.4\n",
              "2                                16.667143  ...                25.0\n",
              "3                                17.571429  ...                26.1\n",
              "4                                13.668571  ...                21.7\n",
              "..                                     ...  ...                 ...\n",
              "100                              16.788571  ...                21.2\n",
              "101                              17.618571  ...                23.2\n",
              "102                              19.377143  ...                22.8\n",
              "103                              14.852857  ...                18.2\n",
              "104                              17.185714  ...                21.8\n",
              "\n",
              "[105 rows x 4 columns]"
            ]
          },
          "metadata": {
            "tags": []
          },
          "execution_count": 54
        }
      ]
    },
    {
      "cell_type": "code",
      "metadata": {
        "id": "ML0K6ERdldLV"
      },
      "source": [
        "train_df = train[selected_features]"
      ],
      "execution_count": 55,
      "outputs": []
    },
    {
      "cell_type": "code",
      "metadata": {
        "id": "egR2YbjTldLV"
      },
      "source": [
        "out_test = pd.DataFrame(columns=train_df.columns)\n",
        "avg_test = pd.DataFrame(columns=train_df.columns)\n",
        "contador = 0\n",
        "for item in labels:\n",
        "    if item == -1:\n",
        "        out_test = out_test.append(train_df.loc[contador],ignore_index=True)\n",
        "    else:\n",
        "        avg_test = avg_test.append(train_df.loc[contador],ignore_index=True)\n",
        "    contador+=1"
      ],
      "execution_count": 56,
      "outputs": []
    },
    {
      "cell_type": "markdown",
      "metadata": {
        "id": "dh8uSXUX6lm4"
      },
      "source": [
        "Cases which are not outliers:"
      ]
    },
    {
      "cell_type": "code",
      "metadata": {
        "id": "eg9dJjp484P_"
      },
      "source": [
        "final_model_prediction_avg = model_avg.predict(avg_test)"
      ],
      "execution_count": 60,
      "outputs": []
    },
    {
      "cell_type": "markdown",
      "metadata": {
        "id": "1D3FVZoL6uNZ"
      },
      "source": [
        "Cases which are outliers:"
      ]
    },
    {
      "cell_type": "code",
      "metadata": {
        "id": "0-6IljAMwiEQ"
      },
      "source": [
        "final_model_prediction_out = model_out.predict(out_test)"
      ],
      "execution_count": 63,
      "outputs": []
    },
    {
      "cell_type": "markdown",
      "metadata": {
        "id": "F88F_Otb-lEu"
      },
      "source": [
        "We put together both results in order to obtain the final result:"
      ]
    },
    {
      "cell_type": "code",
      "metadata": {
        "id": "nCc2sp8nldLW"
      },
      "source": [
        "final_model_prediction = np.array([])\n",
        "contador_avg = 0\n",
        "contador_out = 0\n",
        "for item in labels:\n",
        "    if item == -1:\n",
        "        final_model_prediction = np.append(final_model_prediction,final_model_prediction_out[contador_out])\n",
        "        contador_out+=1\n",
        "    else:\n",
        "        final_model_prediction = np.append(final_model_prediction,final_model_prediction_avg[contador_avg])\n",
        "        contador_avg+=1"
      ],
      "execution_count": 64,
      "outputs": []
    },
    {
      "cell_type": "markdown",
      "metadata": {
        "id": "PrHTXzLW1eaR"
      },
      "source": [
        "Finally we try to visualize how our prediction has turned out with reality."
      ]
    },
    {
      "cell_type": "code",
      "metadata": {
        "id": "QR9j8aQI-9yc",
        "colab": {
          "base_uri": "https://localhost:8080/"
        },
        "outputId": "7a7c2390-5bb2-4395-c098-ce9c89a135b4"
      },
      "source": [
        "# round the result and cast to int\n",
        "y = np.rint(final_model_prediction) # round\n",
        "y = y.astype(int) # cast to int\n",
        "res = np.hstack(y)\n",
        "\n",
        "res"
      ],
      "execution_count": 66,
      "outputs": [
        {
          "output_type": "execute_result",
          "data": {
            "text/plain": [
              "array([ 14,   9, 107, 121,  16, 287,  12,  11,  11,  23,   7, 143,   9,\n",
              "        11,  20,  12,  22,  29,  19,  28,  23,  21,  20,  33,  29,  11,\n",
              "        14,  27,   7,  11,  18,  18,  14,  17,  13,  14,  16,  16,  15,\n",
              "        17,  14,  14,  14,  15,  15,  28,  13,  16,  15,  16,  34,   8,\n",
              "       122,  11,  11,  10,  14,  13,  24,  20, 152,  20, 283, 126,  22,\n",
              "        22,  21,  20,  21, 139, 115,  17,  33,  26,  27,  11,  19,  16,\n",
              "        22, 199,  11,   9,  11,  25,  16,  15,  15,  15,  15,  62,  40,\n",
              "        18,  16,  17,  16,  15,  15,  40,  15,  60,  13,   7,  12,   9,\n",
              "        11,   9,  10,  15, 159,  13,  23,  21,  20,  20,  20, 180,  14,\n",
              "        11,  20,  12,  21,  22,  20,  23,  21,  27,  24,  19,  19,  26,\n",
              "        17, 151,   9,  11,  24, 121,  91,   8,  38,  16,  54,  38,  40,\n",
              "        34,  22,  15,   6,  31,  14,  14,  35,  10,  66,   4,   8,  16,\n",
              "       145,  10,  90, 162,  97, 150,  46, 250,  10,  20,  20,   7,  16,\n",
              "         8,  24, 108,  19,  18,  19,  19,  18, 140,  23,  22,  23,  21,\n",
              "        20,  22,  13,  13,  11,  52,   4,  12,  16,   7,  16,  39,  15,\n",
              "        15,  14,  35,  16,  16,  14,  16,  15,  26,   4,   8,  16,  15,\n",
              "        10,  10,  13,  11,  19,  34, 266,  31,  23, 279, 156,  24,  27,\n",
              "        50,  37,  37,  33,  17,  20,  21,  17,  20, 266,  47,  26,  23,\n",
              "        25,  16,   8,   9,  24,   4,  10,  56,   9,   8,  15,  16,  17,\n",
              "        12,  16,  12,   2,  15,  24,  41,  35,  13,  12,  15,   9,   4,\n",
              "         8,   8,  11,  35, 208, 182, 238,  11, 119, 119,  22, 119, 110,\n",
              "       160, 124,  95,  46, 150, 120,  59,  31,  33,  46, 137,  24,  23,\n",
              "        25,  20,  10,  14, 124, 220,  10,  11,  16,  17,  10,  16,  15,\n",
              "        14,  16,  39,  16,  16,  13,  11,  16,   4,  15,  12,  13,  12,\n",
              "        16,  15,  88, 108, 152,  20, 103, 107, 178, 275, 145,  24,  13,\n",
              "        21,  29,  11,  91,  21,  26,  23,  16,  32,  23,  24,  23,  21,\n",
              "         7,  13,  22,  33,  27,  15,  17,  17,  18,  45,  16,  18,  17,\n",
              "        16,  17,  16,  15,  16,  16,  33,  15,  15,  15,  13,  16,   4,\n",
              "       115, 121, 136, 151, 124, 219, 141, 115, 126,  20,  18, 129, 139,\n",
              "        13, 114,  22, 142,  13,  30,  29,  30, 143,  25,  25,  17,  28,\n",
              "        21, 277,  12,  27, 175,  37,   8,  11,  11,  11,  11,  45,  16,\n",
              "        10,   4,  14,  13,  45,  16,  17,  17,  91,  17,  16,  10,  16])"
            ]
          },
          "metadata": {
            "tags": []
          },
          "execution_count": 66
        }
      ]
    },
    {
      "cell_type": "markdown",
      "metadata": {
        "id": "NqiWtFm6ImA9"
      },
      "source": [
        "We build the output file\n"
      ]
    },
    {
      "cell_type": "code",
      "metadata": {
        "id": "b4tSsUpDDNbJ"
      },
      "source": [
        "submission = pd.read_csv(\"submission_format.csv\",\n",
        "                         index_col=[0, 1, 2])\n",
        "\n",
        "\n",
        "submission.total_cases = final_model_prediction.astype(np.int64)\n",
        "submission.to_csv(\"result.csv\")"
      ],
      "execution_count": 67,
      "outputs": []
    },
    {
      "cell_type": "markdown",
      "metadata": {
        "id": "__VhckbVnaAY"
      },
      "source": [
        "**And the result is:**\n",
        "\n",
        "28.8990\n",
        "Woo! I scored 28.8990 on 'DengAI: Predicting Disease Spread'!"
      ]
    }
  ]
}