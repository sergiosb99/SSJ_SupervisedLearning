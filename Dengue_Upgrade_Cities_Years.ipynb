{
  "nbformat": 4,
  "nbformat_minor": 0,
  "metadata": {
    "colab": {
      "name": "Dengue_RandomForest_algorithm_upgrade_cities_years.ipynb",
      "provenance": [],
      "collapsed_sections": [],
      "toc_visible": true,
      "include_colab_link": true
    },
    "kernelspec": {
      "name": "python3",
      "display_name": "Python 3"
    }
  },
  "cells": [
    {
      "cell_type": "markdown",
      "metadata": {
        "id": "view-in-github",
        "colab_type": "text"
      },
      "source": [
        "<a href=\"https://colab.research.google.com/github/sergiosb99/SSJ_SupervisedLearning/blob/Novelty/Dengue_Upgrade_Cities_Years.ipynb\" target=\"_parent\"><img src=\"https://colab.research.google.com/assets/colab-badge.svg\" alt=\"Open In Colab\"/></a>"
      ]
    },
    {
      "cell_type": "markdown",
      "metadata": {
        "id": "Ti5Wnz3cgkRD"
      },
      "source": [
        "#  **0. Introduction**\n"
      ]
    },
    {
      "cell_type": "markdown",
      "metadata": {
        "id": "3wbjJ1PrhsIJ"
      },
      "source": [
        "We will use the data from the competition to predict the evolution of Dengue Disease in both Iquitos and San Juan. More information in [link](https://www.drivendata.org/competitions/44/dengai-predicting-disease-spread/)\n",
        "\n",
        "The objective of the exercise is to solve a regression problem and on the other hand to participate in a data competition.\n"
      ]
    },
    {
      "cell_type": "markdown",
      "metadata": {
        "id": "Yo0x5dyH5b4N"
      },
      "source": [
        "# **1. Libraries**"
      ]
    },
    {
      "cell_type": "markdown",
      "metadata": {
        "id": "EqpW7cG5n4HB"
      },
      "source": [
        "Before starting any analysis we must ensure that the basic and general use libraries (numpy, pandas, etc.) are correctly imported. "
      ]
    },
    {
      "cell_type": "code",
      "metadata": {
        "id": "QcqAjsMIKluO"
      },
      "source": [
        "# Loading the data\n",
        "import pandas as pd\n",
        "pd.options.mode.chained_assignment = None  # default='warn'\n",
        "import io\n",
        "from google.colab import files\n",
        "\n",
        "# Graphics display\n",
        "import seaborn as sns\n",
        "import matplotlib.pyplot as plt\n",
        "\n",
        "# Estimator and model selection\n",
        "from sklearn.model_selection import train_test_split\n",
        "from sklearn.ensemble import RandomForestRegressor\n",
        "\n",
        "# Others\n",
        "import numpy as np    \n",
        "from sklearn.metrics import mean_absolute_error "
      ],
      "execution_count": 1,
      "outputs": []
    },
    {
      "cell_type": "markdown",
      "metadata": {
        "id": "fvxDPxPhheSW"
      },
      "source": [
        "# **2. Loading the data**"
      ]
    },
    {
      "cell_type": "markdown",
      "metadata": {
        "id": "AygZwiVvg6WE"
      },
      "source": [
        "The first step is to upload all the CSV files that have been provided to us and that thanks to them we will obtain the data with which we are going to work. To do this, we will use the tools that Google Colab offers us when uploading files."
      ]
    },
    {
      "cell_type": "markdown",
      "metadata": {
        "id": "dZSaoCMRAq8m"
      },
      "source": [
        "## **Preprocessing the data**\n",
        "\n",
        "We transform the data in order to allow us the posterior use of the algorithms to build prediction models, for example, missing values, from categories to numbers, etc."
      ]
    },
    {
      "cell_type": "markdown",
      "metadata": {
        "id": "cIvvX6aMoe9n"
      },
      "source": [
        "We first load the datasets, and merge them in one, named train."
      ]
    },
    {
      "cell_type": "code",
      "metadata": {
        "id": "j5YNb36IoRLh"
      },
      "source": [
        "train_feat = pd.read_csv('dengue_features_train.csv')"
      ],
      "execution_count": 2,
      "outputs": []
    },
    {
      "cell_type": "code",
      "metadata": {
        "id": "iRw2oizyoSak"
      },
      "source": [
        "train_labels = pd.read_csv('dengue_labels_train.csv')"
      ],
      "execution_count": 3,
      "outputs": []
    },
    {
      "cell_type": "code",
      "metadata": {
        "id": "eD3smgWyoW-f"
      },
      "source": [
        "train = pd.merge(train_feat,train_labels,on=['city','year','weekofyear'])"
      ],
      "execution_count": 4,
      "outputs": []
    },
    {
      "cell_type": "markdown",
      "metadata": {
        "id": "4IZbEItJonbL"
      },
      "source": [
        "We upload the test dataset in order to know how good our model is."
      ]
    },
    {
      "cell_type": "code",
      "metadata": {
        "id": "1mWsMt7zoTtu"
      },
      "source": [
        "test = pd.read_csv('dengue_features_test.csv')"
      ],
      "execution_count": 5,
      "outputs": []
    },
    {
      "cell_type": "markdown",
      "metadata": {
        "id": "g4UCEzlTouyy"
      },
      "source": [
        "We fill the Nan values:"
      ]
    },
    {
      "cell_type": "code",
      "metadata": {
        "id": "PG-VpaksoWYL"
      },
      "source": [
        "train.fillna(method='ffill', inplace=True)\n",
        "test.fillna(method='ffill', inplace=True)"
      ],
      "execution_count": 6,
      "outputs": []
    },
    {
      "cell_type": "code",
      "metadata": {
        "colab": {
          "base_uri": "https://localhost:8080/",
          "height": 439
        },
        "id": "ZgrYBM2jobMb",
        "outputId": "b8c3e69e-fc75-4049-a988-eb2d515b0526"
      },
      "source": [
        "train"
      ],
      "execution_count": 7,
      "outputs": [
        {
          "output_type": "execute_result",
          "data": {
            "text/html": [
              "<div>\n",
              "<style scoped>\n",
              "    .dataframe tbody tr th:only-of-type {\n",
              "        vertical-align: middle;\n",
              "    }\n",
              "\n",
              "    .dataframe tbody tr th {\n",
              "        vertical-align: top;\n",
              "    }\n",
              "\n",
              "    .dataframe thead th {\n",
              "        text-align: right;\n",
              "    }\n",
              "</style>\n",
              "<table border=\"1\" class=\"dataframe\">\n",
              "  <thead>\n",
              "    <tr style=\"text-align: right;\">\n",
              "      <th></th>\n",
              "      <th>city</th>\n",
              "      <th>year</th>\n",
              "      <th>weekofyear</th>\n",
              "      <th>week_start_date</th>\n",
              "      <th>ndvi_ne</th>\n",
              "      <th>ndvi_nw</th>\n",
              "      <th>ndvi_se</th>\n",
              "      <th>ndvi_sw</th>\n",
              "      <th>precipitation_amt_mm</th>\n",
              "      <th>reanalysis_air_temp_k</th>\n",
              "      <th>reanalysis_avg_temp_k</th>\n",
              "      <th>reanalysis_dew_point_temp_k</th>\n",
              "      <th>reanalysis_max_air_temp_k</th>\n",
              "      <th>reanalysis_min_air_temp_k</th>\n",
              "      <th>reanalysis_precip_amt_kg_per_m2</th>\n",
              "      <th>reanalysis_relative_humidity_percent</th>\n",
              "      <th>reanalysis_sat_precip_amt_mm</th>\n",
              "      <th>reanalysis_specific_humidity_g_per_kg</th>\n",
              "      <th>reanalysis_tdtr_k</th>\n",
              "      <th>station_avg_temp_c</th>\n",
              "      <th>station_diur_temp_rng_c</th>\n",
              "      <th>station_max_temp_c</th>\n",
              "      <th>station_min_temp_c</th>\n",
              "      <th>station_precip_mm</th>\n",
              "      <th>total_cases</th>\n",
              "    </tr>\n",
              "  </thead>\n",
              "  <tbody>\n",
              "    <tr>\n",
              "      <th>0</th>\n",
              "      <td>sj</td>\n",
              "      <td>1990</td>\n",
              "      <td>18</td>\n",
              "      <td>1990-04-30</td>\n",
              "      <td>0.122600</td>\n",
              "      <td>0.103725</td>\n",
              "      <td>0.198483</td>\n",
              "      <td>0.177617</td>\n",
              "      <td>12.42</td>\n",
              "      <td>297.572857</td>\n",
              "      <td>297.742857</td>\n",
              "      <td>292.414286</td>\n",
              "      <td>299.8</td>\n",
              "      <td>295.9</td>\n",
              "      <td>32.00</td>\n",
              "      <td>73.365714</td>\n",
              "      <td>12.42</td>\n",
              "      <td>14.012857</td>\n",
              "      <td>2.628571</td>\n",
              "      <td>25.442857</td>\n",
              "      <td>6.900000</td>\n",
              "      <td>29.4</td>\n",
              "      <td>20.0</td>\n",
              "      <td>16.0</td>\n",
              "      <td>4</td>\n",
              "    </tr>\n",
              "    <tr>\n",
              "      <th>1</th>\n",
              "      <td>sj</td>\n",
              "      <td>1990</td>\n",
              "      <td>19</td>\n",
              "      <td>1990-05-07</td>\n",
              "      <td>0.169900</td>\n",
              "      <td>0.142175</td>\n",
              "      <td>0.162357</td>\n",
              "      <td>0.155486</td>\n",
              "      <td>22.82</td>\n",
              "      <td>298.211429</td>\n",
              "      <td>298.442857</td>\n",
              "      <td>293.951429</td>\n",
              "      <td>300.9</td>\n",
              "      <td>296.4</td>\n",
              "      <td>17.94</td>\n",
              "      <td>77.368571</td>\n",
              "      <td>22.82</td>\n",
              "      <td>15.372857</td>\n",
              "      <td>2.371429</td>\n",
              "      <td>26.714286</td>\n",
              "      <td>6.371429</td>\n",
              "      <td>31.7</td>\n",
              "      <td>22.2</td>\n",
              "      <td>8.6</td>\n",
              "      <td>5</td>\n",
              "    </tr>\n",
              "    <tr>\n",
              "      <th>2</th>\n",
              "      <td>sj</td>\n",
              "      <td>1990</td>\n",
              "      <td>20</td>\n",
              "      <td>1990-05-14</td>\n",
              "      <td>0.032250</td>\n",
              "      <td>0.172967</td>\n",
              "      <td>0.157200</td>\n",
              "      <td>0.170843</td>\n",
              "      <td>34.54</td>\n",
              "      <td>298.781429</td>\n",
              "      <td>298.878571</td>\n",
              "      <td>295.434286</td>\n",
              "      <td>300.5</td>\n",
              "      <td>297.3</td>\n",
              "      <td>26.10</td>\n",
              "      <td>82.052857</td>\n",
              "      <td>34.54</td>\n",
              "      <td>16.848571</td>\n",
              "      <td>2.300000</td>\n",
              "      <td>26.714286</td>\n",
              "      <td>6.485714</td>\n",
              "      <td>32.2</td>\n",
              "      <td>22.8</td>\n",
              "      <td>41.4</td>\n",
              "      <td>4</td>\n",
              "    </tr>\n",
              "    <tr>\n",
              "      <th>3</th>\n",
              "      <td>sj</td>\n",
              "      <td>1990</td>\n",
              "      <td>21</td>\n",
              "      <td>1990-05-21</td>\n",
              "      <td>0.128633</td>\n",
              "      <td>0.245067</td>\n",
              "      <td>0.227557</td>\n",
              "      <td>0.235886</td>\n",
              "      <td>15.36</td>\n",
              "      <td>298.987143</td>\n",
              "      <td>299.228571</td>\n",
              "      <td>295.310000</td>\n",
              "      <td>301.4</td>\n",
              "      <td>297.0</td>\n",
              "      <td>13.90</td>\n",
              "      <td>80.337143</td>\n",
              "      <td>15.36</td>\n",
              "      <td>16.672857</td>\n",
              "      <td>2.428571</td>\n",
              "      <td>27.471429</td>\n",
              "      <td>6.771429</td>\n",
              "      <td>33.3</td>\n",
              "      <td>23.3</td>\n",
              "      <td>4.0</td>\n",
              "      <td>3</td>\n",
              "    </tr>\n",
              "    <tr>\n",
              "      <th>4</th>\n",
              "      <td>sj</td>\n",
              "      <td>1990</td>\n",
              "      <td>22</td>\n",
              "      <td>1990-05-28</td>\n",
              "      <td>0.196200</td>\n",
              "      <td>0.262200</td>\n",
              "      <td>0.251200</td>\n",
              "      <td>0.247340</td>\n",
              "      <td>7.52</td>\n",
              "      <td>299.518571</td>\n",
              "      <td>299.664286</td>\n",
              "      <td>295.821429</td>\n",
              "      <td>301.9</td>\n",
              "      <td>297.5</td>\n",
              "      <td>12.20</td>\n",
              "      <td>80.460000</td>\n",
              "      <td>7.52</td>\n",
              "      <td>17.210000</td>\n",
              "      <td>3.014286</td>\n",
              "      <td>28.942857</td>\n",
              "      <td>9.371429</td>\n",
              "      <td>35.0</td>\n",
              "      <td>23.9</td>\n",
              "      <td>5.8</td>\n",
              "      <td>6</td>\n",
              "    </tr>\n",
              "    <tr>\n",
              "      <th>...</th>\n",
              "      <td>...</td>\n",
              "      <td>...</td>\n",
              "      <td>...</td>\n",
              "      <td>...</td>\n",
              "      <td>...</td>\n",
              "      <td>...</td>\n",
              "      <td>...</td>\n",
              "      <td>...</td>\n",
              "      <td>...</td>\n",
              "      <td>...</td>\n",
              "      <td>...</td>\n",
              "      <td>...</td>\n",
              "      <td>...</td>\n",
              "      <td>...</td>\n",
              "      <td>...</td>\n",
              "      <td>...</td>\n",
              "      <td>...</td>\n",
              "      <td>...</td>\n",
              "      <td>...</td>\n",
              "      <td>...</td>\n",
              "      <td>...</td>\n",
              "      <td>...</td>\n",
              "      <td>...</td>\n",
              "      <td>...</td>\n",
              "      <td>...</td>\n",
              "    </tr>\n",
              "    <tr>\n",
              "      <th>1451</th>\n",
              "      <td>iq</td>\n",
              "      <td>2010</td>\n",
              "      <td>21</td>\n",
              "      <td>2010-05-28</td>\n",
              "      <td>0.342750</td>\n",
              "      <td>0.318900</td>\n",
              "      <td>0.256343</td>\n",
              "      <td>0.292514</td>\n",
              "      <td>55.30</td>\n",
              "      <td>299.334286</td>\n",
              "      <td>300.771429</td>\n",
              "      <td>296.825714</td>\n",
              "      <td>309.7</td>\n",
              "      <td>294.5</td>\n",
              "      <td>45.00</td>\n",
              "      <td>88.765714</td>\n",
              "      <td>55.30</td>\n",
              "      <td>18.485714</td>\n",
              "      <td>9.800000</td>\n",
              "      <td>28.633333</td>\n",
              "      <td>11.933333</td>\n",
              "      <td>35.4</td>\n",
              "      <td>22.4</td>\n",
              "      <td>27.0</td>\n",
              "      <td>5</td>\n",
              "    </tr>\n",
              "    <tr>\n",
              "      <th>1452</th>\n",
              "      <td>iq</td>\n",
              "      <td>2010</td>\n",
              "      <td>22</td>\n",
              "      <td>2010-06-04</td>\n",
              "      <td>0.160157</td>\n",
              "      <td>0.160371</td>\n",
              "      <td>0.136043</td>\n",
              "      <td>0.225657</td>\n",
              "      <td>86.47</td>\n",
              "      <td>298.330000</td>\n",
              "      <td>299.392857</td>\n",
              "      <td>296.452857</td>\n",
              "      <td>308.5</td>\n",
              "      <td>291.9</td>\n",
              "      <td>207.10</td>\n",
              "      <td>91.600000</td>\n",
              "      <td>86.47</td>\n",
              "      <td>18.070000</td>\n",
              "      <td>7.471429</td>\n",
              "      <td>27.433333</td>\n",
              "      <td>10.500000</td>\n",
              "      <td>34.7</td>\n",
              "      <td>21.7</td>\n",
              "      <td>36.6</td>\n",
              "      <td>8</td>\n",
              "    </tr>\n",
              "    <tr>\n",
              "      <th>1453</th>\n",
              "      <td>iq</td>\n",
              "      <td>2010</td>\n",
              "      <td>23</td>\n",
              "      <td>2010-06-11</td>\n",
              "      <td>0.247057</td>\n",
              "      <td>0.146057</td>\n",
              "      <td>0.250357</td>\n",
              "      <td>0.233714</td>\n",
              "      <td>58.94</td>\n",
              "      <td>296.598571</td>\n",
              "      <td>297.592857</td>\n",
              "      <td>295.501429</td>\n",
              "      <td>305.5</td>\n",
              "      <td>292.4</td>\n",
              "      <td>50.60</td>\n",
              "      <td>94.280000</td>\n",
              "      <td>58.94</td>\n",
              "      <td>17.008571</td>\n",
              "      <td>7.500000</td>\n",
              "      <td>24.400000</td>\n",
              "      <td>6.900000</td>\n",
              "      <td>32.2</td>\n",
              "      <td>19.2</td>\n",
              "      <td>7.4</td>\n",
              "      <td>1</td>\n",
              "    </tr>\n",
              "    <tr>\n",
              "      <th>1454</th>\n",
              "      <td>iq</td>\n",
              "      <td>2010</td>\n",
              "      <td>24</td>\n",
              "      <td>2010-06-18</td>\n",
              "      <td>0.333914</td>\n",
              "      <td>0.245771</td>\n",
              "      <td>0.278886</td>\n",
              "      <td>0.325486</td>\n",
              "      <td>59.67</td>\n",
              "      <td>296.345714</td>\n",
              "      <td>297.521429</td>\n",
              "      <td>295.324286</td>\n",
              "      <td>306.1</td>\n",
              "      <td>291.9</td>\n",
              "      <td>62.33</td>\n",
              "      <td>94.660000</td>\n",
              "      <td>59.67</td>\n",
              "      <td>16.815714</td>\n",
              "      <td>7.871429</td>\n",
              "      <td>25.433333</td>\n",
              "      <td>8.733333</td>\n",
              "      <td>31.2</td>\n",
              "      <td>21.0</td>\n",
              "      <td>16.0</td>\n",
              "      <td>1</td>\n",
              "    </tr>\n",
              "    <tr>\n",
              "      <th>1455</th>\n",
              "      <td>iq</td>\n",
              "      <td>2010</td>\n",
              "      <td>25</td>\n",
              "      <td>2010-06-25</td>\n",
              "      <td>0.298186</td>\n",
              "      <td>0.232971</td>\n",
              "      <td>0.274214</td>\n",
              "      <td>0.315757</td>\n",
              "      <td>63.22</td>\n",
              "      <td>298.097143</td>\n",
              "      <td>299.835714</td>\n",
              "      <td>295.807143</td>\n",
              "      <td>307.8</td>\n",
              "      <td>292.3</td>\n",
              "      <td>36.90</td>\n",
              "      <td>89.082857</td>\n",
              "      <td>63.22</td>\n",
              "      <td>17.355714</td>\n",
              "      <td>11.014286</td>\n",
              "      <td>27.475000</td>\n",
              "      <td>9.900000</td>\n",
              "      <td>33.7</td>\n",
              "      <td>22.2</td>\n",
              "      <td>20.4</td>\n",
              "      <td>4</td>\n",
              "    </tr>\n",
              "  </tbody>\n",
              "</table>\n",
              "<p>1456 rows × 25 columns</p>\n",
              "</div>"
            ],
            "text/plain": [
              "     city  year  weekofyear  ... station_min_temp_c  station_precip_mm  total_cases\n",
              "0      sj  1990          18  ...               20.0               16.0            4\n",
              "1      sj  1990          19  ...               22.2                8.6            5\n",
              "2      sj  1990          20  ...               22.8               41.4            4\n",
              "3      sj  1990          21  ...               23.3                4.0            3\n",
              "4      sj  1990          22  ...               23.9                5.8            6\n",
              "...   ...   ...         ...  ...                ...                ...          ...\n",
              "1451   iq  2010          21  ...               22.4               27.0            5\n",
              "1452   iq  2010          22  ...               21.7               36.6            8\n",
              "1453   iq  2010          23  ...               19.2                7.4            1\n",
              "1454   iq  2010          24  ...               21.0               16.0            1\n",
              "1455   iq  2010          25  ...               22.2               20.4            4\n",
              "\n",
              "[1456 rows x 25 columns]"
            ]
          },
          "metadata": {
            "tags": []
          },
          "execution_count": 7
        }
      ]
    },
    {
      "cell_type": "markdown",
      "metadata": {
        "id": "kbgoXekaq8Jv"
      },
      "source": [
        "We are going to select this features for our training:"
      ]
    },
    {
      "cell_type": "code",
      "metadata": {
        "id": "p7FTFhDPrAyy"
      },
      "source": [
        "selected_features = ['reanalysis_specific_humidity_g_per_kg', 'reanalysis_dew_point_temp_k', \n",
        "                 'station_avg_temp_c', 'station_min_temp_c']"
      ],
      "execution_count": 8,
      "outputs": []
    },
    {
      "cell_type": "markdown",
      "metadata": {
        "id": "cpaGrNndozZC"
      },
      "source": [
        "Now, we want to know if there are some years that could make noise, so we obtain the mean of cases per each year."
      ]
    },
    {
      "cell_type": "code",
      "metadata": {
        "colab": {
          "base_uri": "https://localhost:8080/"
        },
        "id": "cTQTtZ7fqOYx",
        "outputId": "de2bba32-54a4-490f-a8e3-116ff78ef9a0"
      },
      "source": [
        "train.groupby('year')['total_cases'].mean()"
      ],
      "execution_count": 9,
      "outputs": [
        {
          "output_type": "execute_result",
          "data": {
            "text/plain": [
              "year\n",
              "1990     24.742857\n",
              "1991     53.865385\n",
              "1992     45.596154\n",
              "1993     22.230769\n",
              "1994    125.634615\n",
              "1995     25.634615\n",
              "1996     16.442308\n",
              "1997     27.961538\n",
              "1998     88.365385\n",
              "1999     31.403846\n",
              "2000      6.358974\n",
              "2001     14.201923\n",
              "2002     11.115385\n",
              "2003     10.221154\n",
              "2004     12.000000\n",
              "2005     20.346154\n",
              "2006      9.480769\n",
              "2007     22.442308\n",
              "2008     13.144928\n",
              "2009      6.230769\n",
              "2010      8.576923\n",
              "Name: total_cases, dtype: float64"
            ]
          },
          "metadata": {
            "tags": []
          },
          "execution_count": 9
        }
      ]
    },
    {
      "cell_type": "markdown",
      "metadata": {
        "id": "Sd_9FKOI-72k"
      },
      "source": [
        "As we can see, there are years with few cases, and others with much more, over the mean."
      ]
    },
    {
      "cell_type": "markdown",
      "metadata": {
        "id": "EYc6Dqdfpc9W"
      },
      "source": [
        "However, in order to make the selection of the years that may be eliminated, we divide the information depending on the city of the case."
      ]
    },
    {
      "cell_type": "markdown",
      "metadata": {
        "id": "OxH1KiE8prh3"
      },
      "source": [
        "First we obtain all the cases from San Juan:"
      ]
    },
    {
      "cell_type": "code",
      "metadata": {
        "colab": {
          "base_uri": "https://localhost:8080/",
          "height": 439
        },
        "id": "uibDZpLsqVXq",
        "outputId": "7e42b219-0b2d-410b-92c3-8a89a7b3ce20"
      },
      "source": [
        "df_sj = train[train['city']=='sj']\n",
        "df_sj"
      ],
      "execution_count": 10,
      "outputs": [
        {
          "output_type": "execute_result",
          "data": {
            "text/html": [
              "<div>\n",
              "<style scoped>\n",
              "    .dataframe tbody tr th:only-of-type {\n",
              "        vertical-align: middle;\n",
              "    }\n",
              "\n",
              "    .dataframe tbody tr th {\n",
              "        vertical-align: top;\n",
              "    }\n",
              "\n",
              "    .dataframe thead th {\n",
              "        text-align: right;\n",
              "    }\n",
              "</style>\n",
              "<table border=\"1\" class=\"dataframe\">\n",
              "  <thead>\n",
              "    <tr style=\"text-align: right;\">\n",
              "      <th></th>\n",
              "      <th>city</th>\n",
              "      <th>year</th>\n",
              "      <th>weekofyear</th>\n",
              "      <th>week_start_date</th>\n",
              "      <th>ndvi_ne</th>\n",
              "      <th>ndvi_nw</th>\n",
              "      <th>ndvi_se</th>\n",
              "      <th>ndvi_sw</th>\n",
              "      <th>precipitation_amt_mm</th>\n",
              "      <th>reanalysis_air_temp_k</th>\n",
              "      <th>reanalysis_avg_temp_k</th>\n",
              "      <th>reanalysis_dew_point_temp_k</th>\n",
              "      <th>reanalysis_max_air_temp_k</th>\n",
              "      <th>reanalysis_min_air_temp_k</th>\n",
              "      <th>reanalysis_precip_amt_kg_per_m2</th>\n",
              "      <th>reanalysis_relative_humidity_percent</th>\n",
              "      <th>reanalysis_sat_precip_amt_mm</th>\n",
              "      <th>reanalysis_specific_humidity_g_per_kg</th>\n",
              "      <th>reanalysis_tdtr_k</th>\n",
              "      <th>station_avg_temp_c</th>\n",
              "      <th>station_diur_temp_rng_c</th>\n",
              "      <th>station_max_temp_c</th>\n",
              "      <th>station_min_temp_c</th>\n",
              "      <th>station_precip_mm</th>\n",
              "      <th>total_cases</th>\n",
              "    </tr>\n",
              "  </thead>\n",
              "  <tbody>\n",
              "    <tr>\n",
              "      <th>0</th>\n",
              "      <td>sj</td>\n",
              "      <td>1990</td>\n",
              "      <td>18</td>\n",
              "      <td>1990-04-30</td>\n",
              "      <td>0.122600</td>\n",
              "      <td>0.103725</td>\n",
              "      <td>0.198483</td>\n",
              "      <td>0.177617</td>\n",
              "      <td>12.42</td>\n",
              "      <td>297.572857</td>\n",
              "      <td>297.742857</td>\n",
              "      <td>292.414286</td>\n",
              "      <td>299.8</td>\n",
              "      <td>295.9</td>\n",
              "      <td>32.00</td>\n",
              "      <td>73.365714</td>\n",
              "      <td>12.42</td>\n",
              "      <td>14.012857</td>\n",
              "      <td>2.628571</td>\n",
              "      <td>25.442857</td>\n",
              "      <td>6.900000</td>\n",
              "      <td>29.4</td>\n",
              "      <td>20.0</td>\n",
              "      <td>16.0</td>\n",
              "      <td>4</td>\n",
              "    </tr>\n",
              "    <tr>\n",
              "      <th>1</th>\n",
              "      <td>sj</td>\n",
              "      <td>1990</td>\n",
              "      <td>19</td>\n",
              "      <td>1990-05-07</td>\n",
              "      <td>0.169900</td>\n",
              "      <td>0.142175</td>\n",
              "      <td>0.162357</td>\n",
              "      <td>0.155486</td>\n",
              "      <td>22.82</td>\n",
              "      <td>298.211429</td>\n",
              "      <td>298.442857</td>\n",
              "      <td>293.951429</td>\n",
              "      <td>300.9</td>\n",
              "      <td>296.4</td>\n",
              "      <td>17.94</td>\n",
              "      <td>77.368571</td>\n",
              "      <td>22.82</td>\n",
              "      <td>15.372857</td>\n",
              "      <td>2.371429</td>\n",
              "      <td>26.714286</td>\n",
              "      <td>6.371429</td>\n",
              "      <td>31.7</td>\n",
              "      <td>22.2</td>\n",
              "      <td>8.6</td>\n",
              "      <td>5</td>\n",
              "    </tr>\n",
              "    <tr>\n",
              "      <th>2</th>\n",
              "      <td>sj</td>\n",
              "      <td>1990</td>\n",
              "      <td>20</td>\n",
              "      <td>1990-05-14</td>\n",
              "      <td>0.032250</td>\n",
              "      <td>0.172967</td>\n",
              "      <td>0.157200</td>\n",
              "      <td>0.170843</td>\n",
              "      <td>34.54</td>\n",
              "      <td>298.781429</td>\n",
              "      <td>298.878571</td>\n",
              "      <td>295.434286</td>\n",
              "      <td>300.5</td>\n",
              "      <td>297.3</td>\n",
              "      <td>26.10</td>\n",
              "      <td>82.052857</td>\n",
              "      <td>34.54</td>\n",
              "      <td>16.848571</td>\n",
              "      <td>2.300000</td>\n",
              "      <td>26.714286</td>\n",
              "      <td>6.485714</td>\n",
              "      <td>32.2</td>\n",
              "      <td>22.8</td>\n",
              "      <td>41.4</td>\n",
              "      <td>4</td>\n",
              "    </tr>\n",
              "    <tr>\n",
              "      <th>3</th>\n",
              "      <td>sj</td>\n",
              "      <td>1990</td>\n",
              "      <td>21</td>\n",
              "      <td>1990-05-21</td>\n",
              "      <td>0.128633</td>\n",
              "      <td>0.245067</td>\n",
              "      <td>0.227557</td>\n",
              "      <td>0.235886</td>\n",
              "      <td>15.36</td>\n",
              "      <td>298.987143</td>\n",
              "      <td>299.228571</td>\n",
              "      <td>295.310000</td>\n",
              "      <td>301.4</td>\n",
              "      <td>297.0</td>\n",
              "      <td>13.90</td>\n",
              "      <td>80.337143</td>\n",
              "      <td>15.36</td>\n",
              "      <td>16.672857</td>\n",
              "      <td>2.428571</td>\n",
              "      <td>27.471429</td>\n",
              "      <td>6.771429</td>\n",
              "      <td>33.3</td>\n",
              "      <td>23.3</td>\n",
              "      <td>4.0</td>\n",
              "      <td>3</td>\n",
              "    </tr>\n",
              "    <tr>\n",
              "      <th>4</th>\n",
              "      <td>sj</td>\n",
              "      <td>1990</td>\n",
              "      <td>22</td>\n",
              "      <td>1990-05-28</td>\n",
              "      <td>0.196200</td>\n",
              "      <td>0.262200</td>\n",
              "      <td>0.251200</td>\n",
              "      <td>0.247340</td>\n",
              "      <td>7.52</td>\n",
              "      <td>299.518571</td>\n",
              "      <td>299.664286</td>\n",
              "      <td>295.821429</td>\n",
              "      <td>301.9</td>\n",
              "      <td>297.5</td>\n",
              "      <td>12.20</td>\n",
              "      <td>80.460000</td>\n",
              "      <td>7.52</td>\n",
              "      <td>17.210000</td>\n",
              "      <td>3.014286</td>\n",
              "      <td>28.942857</td>\n",
              "      <td>9.371429</td>\n",
              "      <td>35.0</td>\n",
              "      <td>23.9</td>\n",
              "      <td>5.8</td>\n",
              "      <td>6</td>\n",
              "    </tr>\n",
              "    <tr>\n",
              "      <th>...</th>\n",
              "      <td>...</td>\n",
              "      <td>...</td>\n",
              "      <td>...</td>\n",
              "      <td>...</td>\n",
              "      <td>...</td>\n",
              "      <td>...</td>\n",
              "      <td>...</td>\n",
              "      <td>...</td>\n",
              "      <td>...</td>\n",
              "      <td>...</td>\n",
              "      <td>...</td>\n",
              "      <td>...</td>\n",
              "      <td>...</td>\n",
              "      <td>...</td>\n",
              "      <td>...</td>\n",
              "      <td>...</td>\n",
              "      <td>...</td>\n",
              "      <td>...</td>\n",
              "      <td>...</td>\n",
              "      <td>...</td>\n",
              "      <td>...</td>\n",
              "      <td>...</td>\n",
              "      <td>...</td>\n",
              "      <td>...</td>\n",
              "      <td>...</td>\n",
              "    </tr>\n",
              "    <tr>\n",
              "      <th>931</th>\n",
              "      <td>sj</td>\n",
              "      <td>2008</td>\n",
              "      <td>13</td>\n",
              "      <td>2008-03-25</td>\n",
              "      <td>0.077850</td>\n",
              "      <td>-0.039900</td>\n",
              "      <td>0.310471</td>\n",
              "      <td>0.296243</td>\n",
              "      <td>27.19</td>\n",
              "      <td>296.958571</td>\n",
              "      <td>296.957143</td>\n",
              "      <td>292.095714</td>\n",
              "      <td>299.7</td>\n",
              "      <td>294.4</td>\n",
              "      <td>7.55</td>\n",
              "      <td>74.247143</td>\n",
              "      <td>27.19</td>\n",
              "      <td>13.644286</td>\n",
              "      <td>2.885714</td>\n",
              "      <td>25.042857</td>\n",
              "      <td>5.785714</td>\n",
              "      <td>30.0</td>\n",
              "      <td>21.1</td>\n",
              "      <td>1.8</td>\n",
              "      <td>4</td>\n",
              "    </tr>\n",
              "    <tr>\n",
              "      <th>932</th>\n",
              "      <td>sj</td>\n",
              "      <td>2008</td>\n",
              "      <td>14</td>\n",
              "      <td>2008-04-01</td>\n",
              "      <td>-0.038000</td>\n",
              "      <td>-0.016833</td>\n",
              "      <td>0.119371</td>\n",
              "      <td>0.066386</td>\n",
              "      <td>3.82</td>\n",
              "      <td>298.081429</td>\n",
              "      <td>298.228571</td>\n",
              "      <td>293.235714</td>\n",
              "      <td>299.8</td>\n",
              "      <td>296.5</td>\n",
              "      <td>3.67</td>\n",
              "      <td>74.600000</td>\n",
              "      <td>3.82</td>\n",
              "      <td>14.662857</td>\n",
              "      <td>2.714286</td>\n",
              "      <td>26.242857</td>\n",
              "      <td>6.814286</td>\n",
              "      <td>30.6</td>\n",
              "      <td>22.2</td>\n",
              "      <td>0.5</td>\n",
              "      <td>3</td>\n",
              "    </tr>\n",
              "    <tr>\n",
              "      <th>933</th>\n",
              "      <td>sj</td>\n",
              "      <td>2008</td>\n",
              "      <td>15</td>\n",
              "      <td>2008-04-08</td>\n",
              "      <td>-0.155200</td>\n",
              "      <td>-0.052750</td>\n",
              "      <td>0.137757</td>\n",
              "      <td>0.141214</td>\n",
              "      <td>16.96</td>\n",
              "      <td>297.460000</td>\n",
              "      <td>297.564286</td>\n",
              "      <td>292.732857</td>\n",
              "      <td>299.4</td>\n",
              "      <td>295.8</td>\n",
              "      <td>35.00</td>\n",
              "      <td>75.027143</td>\n",
              "      <td>16.96</td>\n",
              "      <td>14.184286</td>\n",
              "      <td>2.185714</td>\n",
              "      <td>25.000000</td>\n",
              "      <td>5.714286</td>\n",
              "      <td>29.4</td>\n",
              "      <td>21.7</td>\n",
              "      <td>30.7</td>\n",
              "      <td>1</td>\n",
              "    </tr>\n",
              "    <tr>\n",
              "      <th>934</th>\n",
              "      <td>sj</td>\n",
              "      <td>2008</td>\n",
              "      <td>16</td>\n",
              "      <td>2008-04-15</td>\n",
              "      <td>0.001800</td>\n",
              "      <td>-0.052750</td>\n",
              "      <td>0.203900</td>\n",
              "      <td>0.209843</td>\n",
              "      <td>0.00</td>\n",
              "      <td>297.630000</td>\n",
              "      <td>297.778571</td>\n",
              "      <td>292.274286</td>\n",
              "      <td>299.7</td>\n",
              "      <td>295.9</td>\n",
              "      <td>4.82</td>\n",
              "      <td>72.285714</td>\n",
              "      <td>0.00</td>\n",
              "      <td>13.858571</td>\n",
              "      <td>2.785714</td>\n",
              "      <td>25.314286</td>\n",
              "      <td>6.242857</td>\n",
              "      <td>29.4</td>\n",
              "      <td>21.7</td>\n",
              "      <td>11.2</td>\n",
              "      <td>3</td>\n",
              "    </tr>\n",
              "    <tr>\n",
              "      <th>935</th>\n",
              "      <td>sj</td>\n",
              "      <td>2008</td>\n",
              "      <td>17</td>\n",
              "      <td>2008-04-22</td>\n",
              "      <td>-0.037000</td>\n",
              "      <td>-0.010367</td>\n",
              "      <td>0.077314</td>\n",
              "      <td>0.090586</td>\n",
              "      <td>0.00</td>\n",
              "      <td>298.672857</td>\n",
              "      <td>298.692857</td>\n",
              "      <td>294.280000</td>\n",
              "      <td>300.9</td>\n",
              "      <td>295.9</td>\n",
              "      <td>2.17</td>\n",
              "      <td>76.960000</td>\n",
              "      <td>0.00</td>\n",
              "      <td>15.671429</td>\n",
              "      <td>3.957143</td>\n",
              "      <td>27.042857</td>\n",
              "      <td>7.514286</td>\n",
              "      <td>31.7</td>\n",
              "      <td>23.3</td>\n",
              "      <td>0.3</td>\n",
              "      <td>5</td>\n",
              "    </tr>\n",
              "  </tbody>\n",
              "</table>\n",
              "<p>936 rows × 25 columns</p>\n",
              "</div>"
            ],
            "text/plain": [
              "    city  year  weekofyear  ... station_min_temp_c  station_precip_mm  total_cases\n",
              "0     sj  1990          18  ...               20.0               16.0            4\n",
              "1     sj  1990          19  ...               22.2                8.6            5\n",
              "2     sj  1990          20  ...               22.8               41.4            4\n",
              "3     sj  1990          21  ...               23.3                4.0            3\n",
              "4     sj  1990          22  ...               23.9                5.8            6\n",
              "..   ...   ...         ...  ...                ...                ...          ...\n",
              "931   sj  2008          13  ...               21.1                1.8            4\n",
              "932   sj  2008          14  ...               22.2                0.5            3\n",
              "933   sj  2008          15  ...               21.7               30.7            1\n",
              "934   sj  2008          16  ...               21.7               11.2            3\n",
              "935   sj  2008          17  ...               23.3                0.3            5\n",
              "\n",
              "[936 rows x 25 columns]"
            ]
          },
          "metadata": {
            "tags": []
          },
          "execution_count": 10
        }
      ]
    },
    {
      "cell_type": "markdown",
      "metadata": {
        "id": "1WZkAyzdptk7"
      },
      "source": [
        "Now from Iquitos:"
      ]
    },
    {
      "cell_type": "code",
      "metadata": {
        "colab": {
          "base_uri": "https://localhost:8080/",
          "height": 439
        },
        "id": "qn_m_FKpqk8v",
        "outputId": "d05c1a26-5862-491f-e9a1-0684cbd75ade"
      },
      "source": [
        "df_iq = train[train['city']=='iq']\n",
        "df_iq"
      ],
      "execution_count": 11,
      "outputs": [
        {
          "output_type": "execute_result",
          "data": {
            "text/html": [
              "<div>\n",
              "<style scoped>\n",
              "    .dataframe tbody tr th:only-of-type {\n",
              "        vertical-align: middle;\n",
              "    }\n",
              "\n",
              "    .dataframe tbody tr th {\n",
              "        vertical-align: top;\n",
              "    }\n",
              "\n",
              "    .dataframe thead th {\n",
              "        text-align: right;\n",
              "    }\n",
              "</style>\n",
              "<table border=\"1\" class=\"dataframe\">\n",
              "  <thead>\n",
              "    <tr style=\"text-align: right;\">\n",
              "      <th></th>\n",
              "      <th>city</th>\n",
              "      <th>year</th>\n",
              "      <th>weekofyear</th>\n",
              "      <th>week_start_date</th>\n",
              "      <th>ndvi_ne</th>\n",
              "      <th>ndvi_nw</th>\n",
              "      <th>ndvi_se</th>\n",
              "      <th>ndvi_sw</th>\n",
              "      <th>precipitation_amt_mm</th>\n",
              "      <th>reanalysis_air_temp_k</th>\n",
              "      <th>reanalysis_avg_temp_k</th>\n",
              "      <th>reanalysis_dew_point_temp_k</th>\n",
              "      <th>reanalysis_max_air_temp_k</th>\n",
              "      <th>reanalysis_min_air_temp_k</th>\n",
              "      <th>reanalysis_precip_amt_kg_per_m2</th>\n",
              "      <th>reanalysis_relative_humidity_percent</th>\n",
              "      <th>reanalysis_sat_precip_amt_mm</th>\n",
              "      <th>reanalysis_specific_humidity_g_per_kg</th>\n",
              "      <th>reanalysis_tdtr_k</th>\n",
              "      <th>station_avg_temp_c</th>\n",
              "      <th>station_diur_temp_rng_c</th>\n",
              "      <th>station_max_temp_c</th>\n",
              "      <th>station_min_temp_c</th>\n",
              "      <th>station_precip_mm</th>\n",
              "      <th>total_cases</th>\n",
              "    </tr>\n",
              "  </thead>\n",
              "  <tbody>\n",
              "    <tr>\n",
              "      <th>936</th>\n",
              "      <td>iq</td>\n",
              "      <td>2000</td>\n",
              "      <td>26</td>\n",
              "      <td>2000-07-01</td>\n",
              "      <td>0.192886</td>\n",
              "      <td>0.132257</td>\n",
              "      <td>0.340886</td>\n",
              "      <td>0.247200</td>\n",
              "      <td>25.41</td>\n",
              "      <td>296.740000</td>\n",
              "      <td>298.450000</td>\n",
              "      <td>295.184286</td>\n",
              "      <td>307.3</td>\n",
              "      <td>293.1</td>\n",
              "      <td>43.19</td>\n",
              "      <td>92.418571</td>\n",
              "      <td>25.41</td>\n",
              "      <td>16.651429</td>\n",
              "      <td>8.928571</td>\n",
              "      <td>26.400000</td>\n",
              "      <td>10.775000</td>\n",
              "      <td>32.5</td>\n",
              "      <td>20.7</td>\n",
              "      <td>3.0</td>\n",
              "      <td>0</td>\n",
              "    </tr>\n",
              "    <tr>\n",
              "      <th>937</th>\n",
              "      <td>iq</td>\n",
              "      <td>2000</td>\n",
              "      <td>27</td>\n",
              "      <td>2000-07-08</td>\n",
              "      <td>0.216833</td>\n",
              "      <td>0.276100</td>\n",
              "      <td>0.289457</td>\n",
              "      <td>0.241657</td>\n",
              "      <td>60.61</td>\n",
              "      <td>296.634286</td>\n",
              "      <td>298.428571</td>\n",
              "      <td>295.358571</td>\n",
              "      <td>306.6</td>\n",
              "      <td>291.1</td>\n",
              "      <td>46.00</td>\n",
              "      <td>93.581429</td>\n",
              "      <td>60.61</td>\n",
              "      <td>16.862857</td>\n",
              "      <td>10.314286</td>\n",
              "      <td>26.900000</td>\n",
              "      <td>11.566667</td>\n",
              "      <td>34.0</td>\n",
              "      <td>20.8</td>\n",
              "      <td>55.6</td>\n",
              "      <td>0</td>\n",
              "    </tr>\n",
              "    <tr>\n",
              "      <th>938</th>\n",
              "      <td>iq</td>\n",
              "      <td>2000</td>\n",
              "      <td>28</td>\n",
              "      <td>2000-07-15</td>\n",
              "      <td>0.176757</td>\n",
              "      <td>0.173129</td>\n",
              "      <td>0.204114</td>\n",
              "      <td>0.128014</td>\n",
              "      <td>55.52</td>\n",
              "      <td>296.415714</td>\n",
              "      <td>297.392857</td>\n",
              "      <td>295.622857</td>\n",
              "      <td>304.5</td>\n",
              "      <td>292.6</td>\n",
              "      <td>64.77</td>\n",
              "      <td>95.848571</td>\n",
              "      <td>55.52</td>\n",
              "      <td>17.120000</td>\n",
              "      <td>7.385714</td>\n",
              "      <td>26.800000</td>\n",
              "      <td>11.466667</td>\n",
              "      <td>33.0</td>\n",
              "      <td>20.7</td>\n",
              "      <td>38.1</td>\n",
              "      <td>0</td>\n",
              "    </tr>\n",
              "    <tr>\n",
              "      <th>939</th>\n",
              "      <td>iq</td>\n",
              "      <td>2000</td>\n",
              "      <td>29</td>\n",
              "      <td>2000-07-22</td>\n",
              "      <td>0.227729</td>\n",
              "      <td>0.145429</td>\n",
              "      <td>0.254200</td>\n",
              "      <td>0.200314</td>\n",
              "      <td>5.60</td>\n",
              "      <td>295.357143</td>\n",
              "      <td>296.228571</td>\n",
              "      <td>292.797143</td>\n",
              "      <td>303.6</td>\n",
              "      <td>288.6</td>\n",
              "      <td>23.96</td>\n",
              "      <td>87.234286</td>\n",
              "      <td>5.60</td>\n",
              "      <td>14.431429</td>\n",
              "      <td>9.114286</td>\n",
              "      <td>25.766667</td>\n",
              "      <td>10.533333</td>\n",
              "      <td>31.5</td>\n",
              "      <td>14.7</td>\n",
              "      <td>30.0</td>\n",
              "      <td>0</td>\n",
              "    </tr>\n",
              "    <tr>\n",
              "      <th>940</th>\n",
              "      <td>iq</td>\n",
              "      <td>2000</td>\n",
              "      <td>30</td>\n",
              "      <td>2000-07-29</td>\n",
              "      <td>0.328643</td>\n",
              "      <td>0.322129</td>\n",
              "      <td>0.254371</td>\n",
              "      <td>0.361043</td>\n",
              "      <td>62.76</td>\n",
              "      <td>296.432857</td>\n",
              "      <td>297.635714</td>\n",
              "      <td>293.957143</td>\n",
              "      <td>307.0</td>\n",
              "      <td>291.5</td>\n",
              "      <td>31.80</td>\n",
              "      <td>88.161429</td>\n",
              "      <td>62.76</td>\n",
              "      <td>15.444286</td>\n",
              "      <td>9.500000</td>\n",
              "      <td>26.600000</td>\n",
              "      <td>11.480000</td>\n",
              "      <td>33.3</td>\n",
              "      <td>19.1</td>\n",
              "      <td>4.0</td>\n",
              "      <td>0</td>\n",
              "    </tr>\n",
              "    <tr>\n",
              "      <th>...</th>\n",
              "      <td>...</td>\n",
              "      <td>...</td>\n",
              "      <td>...</td>\n",
              "      <td>...</td>\n",
              "      <td>...</td>\n",
              "      <td>...</td>\n",
              "      <td>...</td>\n",
              "      <td>...</td>\n",
              "      <td>...</td>\n",
              "      <td>...</td>\n",
              "      <td>...</td>\n",
              "      <td>...</td>\n",
              "      <td>...</td>\n",
              "      <td>...</td>\n",
              "      <td>...</td>\n",
              "      <td>...</td>\n",
              "      <td>...</td>\n",
              "      <td>...</td>\n",
              "      <td>...</td>\n",
              "      <td>...</td>\n",
              "      <td>...</td>\n",
              "      <td>...</td>\n",
              "      <td>...</td>\n",
              "      <td>...</td>\n",
              "      <td>...</td>\n",
              "    </tr>\n",
              "    <tr>\n",
              "      <th>1451</th>\n",
              "      <td>iq</td>\n",
              "      <td>2010</td>\n",
              "      <td>21</td>\n",
              "      <td>2010-05-28</td>\n",
              "      <td>0.342750</td>\n",
              "      <td>0.318900</td>\n",
              "      <td>0.256343</td>\n",
              "      <td>0.292514</td>\n",
              "      <td>55.30</td>\n",
              "      <td>299.334286</td>\n",
              "      <td>300.771429</td>\n",
              "      <td>296.825714</td>\n",
              "      <td>309.7</td>\n",
              "      <td>294.5</td>\n",
              "      <td>45.00</td>\n",
              "      <td>88.765714</td>\n",
              "      <td>55.30</td>\n",
              "      <td>18.485714</td>\n",
              "      <td>9.800000</td>\n",
              "      <td>28.633333</td>\n",
              "      <td>11.933333</td>\n",
              "      <td>35.4</td>\n",
              "      <td>22.4</td>\n",
              "      <td>27.0</td>\n",
              "      <td>5</td>\n",
              "    </tr>\n",
              "    <tr>\n",
              "      <th>1452</th>\n",
              "      <td>iq</td>\n",
              "      <td>2010</td>\n",
              "      <td>22</td>\n",
              "      <td>2010-06-04</td>\n",
              "      <td>0.160157</td>\n",
              "      <td>0.160371</td>\n",
              "      <td>0.136043</td>\n",
              "      <td>0.225657</td>\n",
              "      <td>86.47</td>\n",
              "      <td>298.330000</td>\n",
              "      <td>299.392857</td>\n",
              "      <td>296.452857</td>\n",
              "      <td>308.5</td>\n",
              "      <td>291.9</td>\n",
              "      <td>207.10</td>\n",
              "      <td>91.600000</td>\n",
              "      <td>86.47</td>\n",
              "      <td>18.070000</td>\n",
              "      <td>7.471429</td>\n",
              "      <td>27.433333</td>\n",
              "      <td>10.500000</td>\n",
              "      <td>34.7</td>\n",
              "      <td>21.7</td>\n",
              "      <td>36.6</td>\n",
              "      <td>8</td>\n",
              "    </tr>\n",
              "    <tr>\n",
              "      <th>1453</th>\n",
              "      <td>iq</td>\n",
              "      <td>2010</td>\n",
              "      <td>23</td>\n",
              "      <td>2010-06-11</td>\n",
              "      <td>0.247057</td>\n",
              "      <td>0.146057</td>\n",
              "      <td>0.250357</td>\n",
              "      <td>0.233714</td>\n",
              "      <td>58.94</td>\n",
              "      <td>296.598571</td>\n",
              "      <td>297.592857</td>\n",
              "      <td>295.501429</td>\n",
              "      <td>305.5</td>\n",
              "      <td>292.4</td>\n",
              "      <td>50.60</td>\n",
              "      <td>94.280000</td>\n",
              "      <td>58.94</td>\n",
              "      <td>17.008571</td>\n",
              "      <td>7.500000</td>\n",
              "      <td>24.400000</td>\n",
              "      <td>6.900000</td>\n",
              "      <td>32.2</td>\n",
              "      <td>19.2</td>\n",
              "      <td>7.4</td>\n",
              "      <td>1</td>\n",
              "    </tr>\n",
              "    <tr>\n",
              "      <th>1454</th>\n",
              "      <td>iq</td>\n",
              "      <td>2010</td>\n",
              "      <td>24</td>\n",
              "      <td>2010-06-18</td>\n",
              "      <td>0.333914</td>\n",
              "      <td>0.245771</td>\n",
              "      <td>0.278886</td>\n",
              "      <td>0.325486</td>\n",
              "      <td>59.67</td>\n",
              "      <td>296.345714</td>\n",
              "      <td>297.521429</td>\n",
              "      <td>295.324286</td>\n",
              "      <td>306.1</td>\n",
              "      <td>291.9</td>\n",
              "      <td>62.33</td>\n",
              "      <td>94.660000</td>\n",
              "      <td>59.67</td>\n",
              "      <td>16.815714</td>\n",
              "      <td>7.871429</td>\n",
              "      <td>25.433333</td>\n",
              "      <td>8.733333</td>\n",
              "      <td>31.2</td>\n",
              "      <td>21.0</td>\n",
              "      <td>16.0</td>\n",
              "      <td>1</td>\n",
              "    </tr>\n",
              "    <tr>\n",
              "      <th>1455</th>\n",
              "      <td>iq</td>\n",
              "      <td>2010</td>\n",
              "      <td>25</td>\n",
              "      <td>2010-06-25</td>\n",
              "      <td>0.298186</td>\n",
              "      <td>0.232971</td>\n",
              "      <td>0.274214</td>\n",
              "      <td>0.315757</td>\n",
              "      <td>63.22</td>\n",
              "      <td>298.097143</td>\n",
              "      <td>299.835714</td>\n",
              "      <td>295.807143</td>\n",
              "      <td>307.8</td>\n",
              "      <td>292.3</td>\n",
              "      <td>36.90</td>\n",
              "      <td>89.082857</td>\n",
              "      <td>63.22</td>\n",
              "      <td>17.355714</td>\n",
              "      <td>11.014286</td>\n",
              "      <td>27.475000</td>\n",
              "      <td>9.900000</td>\n",
              "      <td>33.7</td>\n",
              "      <td>22.2</td>\n",
              "      <td>20.4</td>\n",
              "      <td>4</td>\n",
              "    </tr>\n",
              "  </tbody>\n",
              "</table>\n",
              "<p>520 rows × 25 columns</p>\n",
              "</div>"
            ],
            "text/plain": [
              "     city  year  weekofyear  ... station_min_temp_c  station_precip_mm  total_cases\n",
              "936    iq  2000          26  ...               20.7                3.0            0\n",
              "937    iq  2000          27  ...               20.8               55.6            0\n",
              "938    iq  2000          28  ...               20.7               38.1            0\n",
              "939    iq  2000          29  ...               14.7               30.0            0\n",
              "940    iq  2000          30  ...               19.1                4.0            0\n",
              "...   ...   ...         ...  ...                ...                ...          ...\n",
              "1451   iq  2010          21  ...               22.4               27.0            5\n",
              "1452   iq  2010          22  ...               21.7               36.6            8\n",
              "1453   iq  2010          23  ...               19.2                7.4            1\n",
              "1454   iq  2010          24  ...               21.0               16.0            1\n",
              "1455   iq  2010          25  ...               22.2               20.4            4\n",
              "\n",
              "[520 rows x 25 columns]"
            ]
          },
          "metadata": {
            "tags": []
          },
          "execution_count": 11
        }
      ]
    },
    {
      "cell_type": "markdown",
      "metadata": {
        "id": "ZCuzp8V8pxtR"
      },
      "source": [
        "Now we can know what year is different from the others depending on the city."
      ]
    },
    {
      "cell_type": "markdown",
      "metadata": {
        "id": "rry0kRJ5p48j"
      },
      "source": [
        "San Juan:"
      ]
    },
    {
      "cell_type": "code",
      "metadata": {
        "colab": {
          "base_uri": "https://localhost:8080/"
        },
        "id": "CgD_rBnncnpO",
        "outputId": "283293e7-c45e-4e61-e1e3-b17cd8c98268"
      },
      "source": [
        "df_sj.groupby('year')['total_cases'].mean()"
      ],
      "execution_count": 12,
      "outputs": [
        {
          "output_type": "execute_result",
          "data": {
            "text/plain": [
              "year\n",
              "1990     24.742857\n",
              "1991     53.865385\n",
              "1992     45.596154\n",
              "1993     22.230769\n",
              "1994    125.634615\n",
              "1995     25.634615\n",
              "1996     16.442308\n",
              "1997     27.961538\n",
              "1998     88.365385\n",
              "1999     31.403846\n",
              "2000      9.461538\n",
              "2001     28.134615\n",
              "2002      8.692308\n",
              "2003     18.250000\n",
              "2004     11.730769\n",
              "2005     34.711538\n",
              "2006     10.576923\n",
              "2007     37.865385\n",
              "2008      6.235294\n",
              "Name: total_cases, dtype: float64"
            ]
          },
          "metadata": {
            "tags": []
          },
          "execution_count": 12
        }
      ]
    },
    {
      "cell_type": "code",
      "metadata": {
        "id": "wtjFu67KQ8h9",
        "outputId": "4467ac2e-4931-4b23-e150-8fbda452b096",
        "colab": {
          "base_uri": "https://localhost:8080/"
        }
      },
      "source": [
        "df_sj.groupby('year')['total_cases'].count()"
      ],
      "execution_count": 14,
      "outputs": [
        {
          "output_type": "execute_result",
          "data": {
            "text/plain": [
              "year\n",
              "1990    35\n",
              "1991    52\n",
              "1992    52\n",
              "1993    52\n",
              "1994    52\n",
              "1995    52\n",
              "1996    52\n",
              "1997    52\n",
              "1998    52\n",
              "1999    52\n",
              "2000    52\n",
              "2001    52\n",
              "2002    52\n",
              "2003    52\n",
              "2004    52\n",
              "2005    52\n",
              "2006    52\n",
              "2007    52\n",
              "2008    17\n",
              "Name: total_cases, dtype: int64"
            ]
          },
          "metadata": {
            "tags": []
          },
          "execution_count": 14
        }
      ]
    },
    {
      "cell_type": "markdown",
      "metadata": {
        "id": "lAWEtjo_p63u"
      },
      "source": [
        "Iquitos:"
      ]
    },
    {
      "cell_type": "code",
      "metadata": {
        "colab": {
          "base_uri": "https://localhost:8080/"
        },
        "id": "klTjyVO2cqVH",
        "outputId": "c5d7ef1a-8897-4966-894d-95a644534e47"
      },
      "source": [
        "df_iq.groupby('year')['total_cases'].mean()"
      ],
      "execution_count": 13,
      "outputs": [
        {
          "output_type": "execute_result",
          "data": {
            "text/plain": [
              "year\n",
              "2000     0.153846\n",
              "2001     0.269231\n",
              "2002    13.538462\n",
              "2003     2.192308\n",
              "2004    12.269231\n",
              "2005     5.980769\n",
              "2006     8.384615\n",
              "2007     7.019231\n",
              "2008    15.403846\n",
              "2009     6.230769\n",
              "2010     8.576923\n",
              "Name: total_cases, dtype: float64"
            ]
          },
          "metadata": {
            "tags": []
          },
          "execution_count": 13
        }
      ]
    },
    {
      "cell_type": "code",
      "metadata": {
        "id": "BoUj7AbJRD-b",
        "outputId": "d341913c-8036-4a1f-bd03-385e72dfdc5c",
        "colab": {
          "base_uri": "https://localhost:8080/"
        }
      },
      "source": [
        "df_iq.groupby('year')['total_cases'].count()"
      ],
      "execution_count": 15,
      "outputs": [
        {
          "output_type": "execute_result",
          "data": {
            "text/plain": [
              "year\n",
              "2000    26\n",
              "2001    52\n",
              "2002    52\n",
              "2003    52\n",
              "2004    52\n",
              "2005    52\n",
              "2006    52\n",
              "2007    52\n",
              "2008    52\n",
              "2009    52\n",
              "2010    26\n",
              "Name: total_cases, dtype: int64"
            ]
          },
          "metadata": {
            "tags": []
          },
          "execution_count": 15
        }
      ]
    },
    {
      "cell_type": "markdown",
      "metadata": {
        "id": "GPgUhh81p9N5"
      },
      "source": [
        "From San Juan, we are going to delete all the years with less than 11 cases as mean (11 included). From Iquitos, remove the years with almost no cases, and also 2003."
      ]
    },
    {
      "cell_type": "code",
      "metadata": {
        "id": "yOd9oCcNczeS"
      },
      "source": [
        "#San Juan\n",
        "df_sj.drop(df_sj[df_sj['year']==2000].index,inplace=True)\n",
        "df_sj.drop(df_sj[df_sj['year']==2002].index,inplace=True)\n",
        "df_sj.drop(df_sj[df_sj['year']==2004].index,inplace=True)\n",
        "df_sj.drop(df_sj[df_sj['year']==2006].index,inplace=True)\n",
        "df_sj.drop(df_sj[df_sj['year']==2008].index,inplace=True)\n",
        "\n",
        "#Iquitos\n",
        "df_iq.drop(df_iq[df_iq['year']==2000].index,inplace=True)\n",
        "df_iq.drop(df_iq[df_iq['year']==2001].index,inplace=True)\n",
        "df_iq.drop(df_iq[df_iq['year']==2003].index,inplace=True)"
      ],
      "execution_count": null,
      "outputs": []
    },
    {
      "cell_type": "markdown",
      "metadata": {
        "id": "AgEj4mESf-ut"
      },
      "source": [
        "# **3. Detaching the dataset**"
      ]
    },
    {
      "cell_type": "markdown",
      "metadata": {
        "id": "ITN3-ivIgDRQ"
      },
      "source": [
        "To train the models that we make, it is necessary to separate our training dataset into two parts, one precisely to train the model, and another to check if our models are good."
      ]
    },
    {
      "cell_type": "markdown",
      "metadata": {
        "id": "r6huujY3gJtN"
      },
      "source": [
        "In this case, we are going to use two differents models and differents datasets, so we need to split both datasets."
      ]
    },
    {
      "cell_type": "code",
      "metadata": {
        "id": "W3Bwpz9eRzPA"
      },
      "source": [
        "X_train_sj, X_test_sj, y_train_sj, y_test_sj = train_test_split(df_sj[selected_features], df_sj['total_cases'], test_size=0.2, random_state=1)"
      ],
      "execution_count": null,
      "outputs": []
    },
    {
      "cell_type": "code",
      "metadata": {
        "id": "Wpe4V34urQZm"
      },
      "source": [
        "X_train_iq, X_test_iq, y_train_iq, y_test_iq = train_test_split(df_iq[selected_features], df_iq['total_cases'], test_size=0.2, random_state=1)"
      ],
      "execution_count": null,
      "outputs": []
    },
    {
      "cell_type": "markdown",
      "metadata": {
        "id": "01Prd4tbgL9G"
      },
      "source": [
        "#**4. Execution of the algorithm**"
      ]
    },
    {
      "cell_type": "markdown",
      "metadata": {
        "id": "7yYDtComgQlh"
      },
      "source": [
        "The decision tree creates regression models in the form of a tree structure. It will transform our dataset into smaller and smaller subsets while at the same time gradually developing an associated decision tree."
      ]
    },
    {
      "cell_type": "code",
      "metadata": {
        "id": "AVheBB5JK9QW"
      },
      "source": [
        "def RandomForest(X_train, X_test,y_train,y_test,n_e,m_depth):\n",
        "    #1.1 Model Parametrization \n",
        "    regressor = RandomForestRegressor(n_estimators= n_e, max_depth = m_depth, criterion='mae', random_state=0)\n",
        "    #1.2 Model construction\n",
        "    regressor.fit(X_train, y_train)\n",
        "    # Test\n",
        "    y_pred = regressor.predict(X_test)\n",
        "    mae = mean_absolute_error(y_test,y_pred)\n",
        "    print (\"Error Measure \",  mae, \"\\n\")\n",
        "    xx = np.stack(i for i in range(len(y_test)))\n",
        "    plt.scatter(xx, y_test, c='r', label='data')\n",
        "    plt.plot(xx, y_pred, c='g', label='prediction')\n",
        "    plt.axis('tight')\n",
        "    plt.legend()\n",
        "    plt.title(\"RandomForests Regressor\")\n",
        "\n",
        "    plt.show()\n",
        "    return regressor"
      ],
      "execution_count": null,
      "outputs": []
    },
    {
      "cell_type": "markdown",
      "metadata": {
        "id": "bK7vY4rugUeL"
      },
      "source": [
        "We run the algorithm with the data from San Juan:"
      ]
    },
    {
      "cell_type": "code",
      "metadata": {
        "colab": {
          "base_uri": "https://localhost:8080/",
          "height": 369
        },
        "id": "AVvHu0tHJYdz",
        "outputId": "7f11a08d-6268-45b5-e4b1-bd423bfe9f4e"
      },
      "source": [
        "model_sj = RandomForest(X_train_sj, X_test_sj,y_train_sj,y_test_sj,500,4)\n"
      ],
      "execution_count": null,
      "outputs": [
        {
          "output_type": "stream",
          "text": [
            "Error Measure  28.548762237762237 \n",
            "\n"
          ],
          "name": "stdout"
        },
        {
          "output_type": "stream",
          "text": [
            "/usr/local/lib/python3.6/dist-packages/IPython/core/interactiveshell.py:2882: FutureWarning: arrays to stack must be passed as a \"sequence\" type such as list or tuple. Support for non-sequence iterables such as generators is deprecated as of NumPy 1.16 and will raise an error in the future.\n",
            "  exec(code_obj, self.user_global_ns, self.user_ns)\n"
          ],
          "name": "stderr"
        },
        {
          "output_type": "display_data",
          "data": {
            "image/png": "[encoded data removed]",
            "text/plain": [
              "<Figure size 432x288 with 1 Axes>"
            ]
          },
          "metadata": {
            "tags": [],
            "needs_background": "light"
          }
        }
      ]
    },
    {
      "cell_type": "markdown",
      "metadata": {
        "id": "q_X4iDv7gYNd"
      },
      "source": [
        "We run the algorithm with the data from Iquitos:"
      ]
    },
    {
      "cell_type": "code",
      "metadata": {
        "colab": {
          "base_uri": "https://localhost:8080/",
          "height": 369
        },
        "id": "lYUDz1WBsru2",
        "outputId": "fab44100-ecff-4ea8-99c4-907a00500faa"
      },
      "source": [
        "model_iq = RandomForest(X_train_iq,X_test_iq,y_train_iq,y_test_iq,500,4)"
      ],
      "execution_count": null,
      "outputs": [
        {
          "output_type": "stream",
          "text": [
            "Error Measure  6.628397435897436 \n",
            "\n"
          ],
          "name": "stdout"
        },
        {
          "output_type": "stream",
          "text": [
            "/usr/local/lib/python3.6/dist-packages/IPython/core/interactiveshell.py:2882: FutureWarning: arrays to stack must be passed as a \"sequence\" type such as list or tuple. Support for non-sequence iterables such as generators is deprecated as of NumPy 1.16 and will raise an error in the future.\n",
            "  exec(code_obj, self.user_global_ns, self.user_ns)\n"
          ],
          "name": "stderr"
        },
        {
          "output_type": "display_data",
          "data": {
            "image/png": "[encoded data removed]",
            "text/plain": [
              "<Figure size 432x288 with 1 Axes>"
            ]
          },
          "metadata": {
            "tags": [],
            "needs_background": "light"
          }
        }
      ]
    },
    {
      "cell_type": "code",
      "metadata": {
        "id": "OJDy-OV1s2vt"
      },
      "source": [
        ""
      ],
      "execution_count": null,
      "outputs": []
    },
    {
      "cell_type": "markdown",
      "metadata": {
        "id": "2qbkQc-ztqIS"
      },
      "source": [
        "# **Submission result**"
      ]
    },
    {
      "cell_type": "markdown",
      "metadata": {
        "id": "HSXVdRUa--ZX"
      },
      "source": [
        "Now, we are going to test our model with the data provided to us in the dengue_features_test.csv file to predict dengue cases for the weeks proposed in said file."
      ]
    },
    {
      "cell_type": "markdown",
      "metadata": {
        "id": "ChiL_5yJgmdF"
      },
      "source": [
        "As we have two models, we have to predict two times, so the test dataset must be splitted in two, depending on the city."
      ]
    },
    {
      "cell_type": "markdown",
      "metadata": {
        "id": "Ey_nmpXtgwY3"
      },
      "source": [
        "Cases from San Juan:"
      ]
    },
    {
      "cell_type": "code",
      "metadata": {
        "colab": {
          "base_uri": "https://localhost:8080/",
          "height": 439
        },
        "id": "UJSBAcC8tKXV",
        "outputId": "fc638c5a-3af1-48e5-ca35-aac2fb6bcf41"
      },
      "source": [
        "sj_test = test[test['city']=='sj']\n",
        "sj_test"
      ],
      "execution_count": null,
      "outputs": [
        {
          "output_type": "execute_result",
          "data": {
            "text/html": [
              "<div>\n",
              "<style scoped>\n",
              "    .dataframe tbody tr th:only-of-type {\n",
              "        vertical-align: middle;\n",
              "    }\n",
              "\n",
              "    .dataframe tbody tr th {\n",
              "        vertical-align: top;\n",
              "    }\n",
              "\n",
              "    .dataframe thead th {\n",
              "        text-align: right;\n",
              "    }\n",
              "</style>\n",
              "<table border=\"1\" class=\"dataframe\">\n",
              "  <thead>\n",
              "    <tr style=\"text-align: right;\">\n",
              "      <th></th>\n",
              "      <th>city</th>\n",
              "      <th>year</th>\n",
              "      <th>weekofyear</th>\n",
              "      <th>week_start_date</th>\n",
              "      <th>ndvi_ne</th>\n",
              "      <th>ndvi_nw</th>\n",
              "      <th>ndvi_se</th>\n",
              "      <th>ndvi_sw</th>\n",
              "      <th>precipitation_amt_mm</th>\n",
              "      <th>reanalysis_air_temp_k</th>\n",
              "      <th>reanalysis_avg_temp_k</th>\n",
              "      <th>reanalysis_dew_point_temp_k</th>\n",
              "      <th>reanalysis_max_air_temp_k</th>\n",
              "      <th>reanalysis_min_air_temp_k</th>\n",
              "      <th>reanalysis_precip_amt_kg_per_m2</th>\n",
              "      <th>reanalysis_relative_humidity_percent</th>\n",
              "      <th>reanalysis_sat_precip_amt_mm</th>\n",
              "      <th>reanalysis_specific_humidity_g_per_kg</th>\n",
              "      <th>reanalysis_tdtr_k</th>\n",
              "      <th>station_avg_temp_c</th>\n",
              "      <th>station_diur_temp_rng_c</th>\n",
              "      <th>station_max_temp_c</th>\n",
              "      <th>station_min_temp_c</th>\n",
              "      <th>station_precip_mm</th>\n",
              "    </tr>\n",
              "  </thead>\n",
              "  <tbody>\n",
              "    <tr>\n",
              "      <th>0</th>\n",
              "      <td>sj</td>\n",
              "      <td>2008</td>\n",
              "      <td>18</td>\n",
              "      <td>2008-04-29</td>\n",
              "      <td>-0.01890</td>\n",
              "      <td>-0.018900</td>\n",
              "      <td>0.102729</td>\n",
              "      <td>0.091200</td>\n",
              "      <td>78.60</td>\n",
              "      <td>298.492857</td>\n",
              "      <td>298.550000</td>\n",
              "      <td>294.527143</td>\n",
              "      <td>301.1</td>\n",
              "      <td>296.4</td>\n",
              "      <td>25.37</td>\n",
              "      <td>78.781429</td>\n",
              "      <td>78.60</td>\n",
              "      <td>15.918571</td>\n",
              "      <td>3.128571</td>\n",
              "      <td>26.528571</td>\n",
              "      <td>7.057143</td>\n",
              "      <td>33.3</td>\n",
              "      <td>21.7</td>\n",
              "      <td>75.2</td>\n",
              "    </tr>\n",
              "    <tr>\n",
              "      <th>1</th>\n",
              "      <td>sj</td>\n",
              "      <td>2008</td>\n",
              "      <td>19</td>\n",
              "      <td>2008-05-06</td>\n",
              "      <td>-0.01800</td>\n",
              "      <td>-0.012400</td>\n",
              "      <td>0.082043</td>\n",
              "      <td>0.072314</td>\n",
              "      <td>12.56</td>\n",
              "      <td>298.475714</td>\n",
              "      <td>298.557143</td>\n",
              "      <td>294.395714</td>\n",
              "      <td>300.8</td>\n",
              "      <td>296.7</td>\n",
              "      <td>21.83</td>\n",
              "      <td>78.230000</td>\n",
              "      <td>12.56</td>\n",
              "      <td>15.791429</td>\n",
              "      <td>2.571429</td>\n",
              "      <td>26.071429</td>\n",
              "      <td>5.557143</td>\n",
              "      <td>30.0</td>\n",
              "      <td>22.2</td>\n",
              "      <td>34.3</td>\n",
              "    </tr>\n",
              "    <tr>\n",
              "      <th>2</th>\n",
              "      <td>sj</td>\n",
              "      <td>2008</td>\n",
              "      <td>20</td>\n",
              "      <td>2008-05-13</td>\n",
              "      <td>-0.00150</td>\n",
              "      <td>-0.012400</td>\n",
              "      <td>0.151083</td>\n",
              "      <td>0.091529</td>\n",
              "      <td>3.66</td>\n",
              "      <td>299.455714</td>\n",
              "      <td>299.357143</td>\n",
              "      <td>295.308571</td>\n",
              "      <td>302.2</td>\n",
              "      <td>296.4</td>\n",
              "      <td>4.12</td>\n",
              "      <td>78.270000</td>\n",
              "      <td>3.66</td>\n",
              "      <td>16.674286</td>\n",
              "      <td>4.428571</td>\n",
              "      <td>27.928571</td>\n",
              "      <td>7.785714</td>\n",
              "      <td>32.8</td>\n",
              "      <td>22.8</td>\n",
              "      <td>3.0</td>\n",
              "    </tr>\n",
              "    <tr>\n",
              "      <th>3</th>\n",
              "      <td>sj</td>\n",
              "      <td>2008</td>\n",
              "      <td>21</td>\n",
              "      <td>2008-05-20</td>\n",
              "      <td>-0.00150</td>\n",
              "      <td>-0.019867</td>\n",
              "      <td>0.124329</td>\n",
              "      <td>0.125686</td>\n",
              "      <td>0.00</td>\n",
              "      <td>299.690000</td>\n",
              "      <td>299.728571</td>\n",
              "      <td>294.402857</td>\n",
              "      <td>303.0</td>\n",
              "      <td>296.9</td>\n",
              "      <td>2.20</td>\n",
              "      <td>73.015714</td>\n",
              "      <td>0.00</td>\n",
              "      <td>15.775714</td>\n",
              "      <td>4.342857</td>\n",
              "      <td>28.057143</td>\n",
              "      <td>6.271429</td>\n",
              "      <td>33.3</td>\n",
              "      <td>24.4</td>\n",
              "      <td>0.3</td>\n",
              "    </tr>\n",
              "    <tr>\n",
              "      <th>4</th>\n",
              "      <td>sj</td>\n",
              "      <td>2008</td>\n",
              "      <td>22</td>\n",
              "      <td>2008-05-27</td>\n",
              "      <td>0.05680</td>\n",
              "      <td>0.039833</td>\n",
              "      <td>0.062267</td>\n",
              "      <td>0.075914</td>\n",
              "      <td>0.76</td>\n",
              "      <td>299.780000</td>\n",
              "      <td>299.671429</td>\n",
              "      <td>294.760000</td>\n",
              "      <td>302.3</td>\n",
              "      <td>297.3</td>\n",
              "      <td>4.36</td>\n",
              "      <td>74.084286</td>\n",
              "      <td>0.76</td>\n",
              "      <td>16.137143</td>\n",
              "      <td>3.542857</td>\n",
              "      <td>27.614286</td>\n",
              "      <td>7.085714</td>\n",
              "      <td>33.3</td>\n",
              "      <td>23.3</td>\n",
              "      <td>84.1</td>\n",
              "    </tr>\n",
              "    <tr>\n",
              "      <th>...</th>\n",
              "      <td>...</td>\n",
              "      <td>...</td>\n",
              "      <td>...</td>\n",
              "      <td>...</td>\n",
              "      <td>...</td>\n",
              "      <td>...</td>\n",
              "      <td>...</td>\n",
              "      <td>...</td>\n",
              "      <td>...</td>\n",
              "      <td>...</td>\n",
              "      <td>...</td>\n",
              "      <td>...</td>\n",
              "      <td>...</td>\n",
              "      <td>...</td>\n",
              "      <td>...</td>\n",
              "      <td>...</td>\n",
              "      <td>...</td>\n",
              "      <td>...</td>\n",
              "      <td>...</td>\n",
              "      <td>...</td>\n",
              "      <td>...</td>\n",
              "      <td>...</td>\n",
              "      <td>...</td>\n",
              "      <td>...</td>\n",
              "    </tr>\n",
              "    <tr>\n",
              "      <th>255</th>\n",
              "      <td>sj</td>\n",
              "      <td>2013</td>\n",
              "      <td>13</td>\n",
              "      <td>2013-03-26</td>\n",
              "      <td>-0.08740</td>\n",
              "      <td>-0.016183</td>\n",
              "      <td>0.156343</td>\n",
              "      <td>0.105186</td>\n",
              "      <td>30.34</td>\n",
              "      <td>298.670000</td>\n",
              "      <td>298.885714</td>\n",
              "      <td>294.675714</td>\n",
              "      <td>301.3</td>\n",
              "      <td>296.4</td>\n",
              "      <td>2.55</td>\n",
              "      <td>78.780000</td>\n",
              "      <td>30.34</td>\n",
              "      <td>15.985714</td>\n",
              "      <td>3.314286</td>\n",
              "      <td>27.542857</td>\n",
              "      <td>7.942857</td>\n",
              "      <td>33.9</td>\n",
              "      <td>22.8</td>\n",
              "      <td>3.5</td>\n",
              "    </tr>\n",
              "    <tr>\n",
              "      <th>256</th>\n",
              "      <td>sj</td>\n",
              "      <td>2013</td>\n",
              "      <td>14</td>\n",
              "      <td>2013-04-02</td>\n",
              "      <td>-0.20325</td>\n",
              "      <td>-0.077833</td>\n",
              "      <td>0.204171</td>\n",
              "      <td>0.178914</td>\n",
              "      <td>6.55</td>\n",
              "      <td>298.035714</td>\n",
              "      <td>298.157143</td>\n",
              "      <td>294.628571</td>\n",
              "      <td>301.5</td>\n",
              "      <td>295.9</td>\n",
              "      <td>64.30</td>\n",
              "      <td>81.650000</td>\n",
              "      <td>6.55</td>\n",
              "      <td>15.881429</td>\n",
              "      <td>2.828571</td>\n",
              "      <td>26.642857</td>\n",
              "      <td>6.642857</td>\n",
              "      <td>33.3</td>\n",
              "      <td>22.8</td>\n",
              "      <td>17.6</td>\n",
              "    </tr>\n",
              "    <tr>\n",
              "      <th>257</th>\n",
              "      <td>sj</td>\n",
              "      <td>2013</td>\n",
              "      <td>15</td>\n",
              "      <td>2013-04-09</td>\n",
              "      <td>-0.11760</td>\n",
              "      <td>-0.008200</td>\n",
              "      <td>0.192700</td>\n",
              "      <td>0.170429</td>\n",
              "      <td>0.00</td>\n",
              "      <td>299.057143</td>\n",
              "      <td>299.328571</td>\n",
              "      <td>294.948571</td>\n",
              "      <td>301.5</td>\n",
              "      <td>297.5</td>\n",
              "      <td>0.70</td>\n",
              "      <td>78.285714</td>\n",
              "      <td>0.00</td>\n",
              "      <td>16.212857</td>\n",
              "      <td>3.171429</td>\n",
              "      <td>27.914286</td>\n",
              "      <td>8.114286</td>\n",
              "      <td>32.8</td>\n",
              "      <td>23.3</td>\n",
              "      <td>9.4</td>\n",
              "    </tr>\n",
              "    <tr>\n",
              "      <th>258</th>\n",
              "      <td>sj</td>\n",
              "      <td>2013</td>\n",
              "      <td>16</td>\n",
              "      <td>2013-04-16</td>\n",
              "      <td>0.08275</td>\n",
              "      <td>0.031200</td>\n",
              "      <td>0.135014</td>\n",
              "      <td>0.074857</td>\n",
              "      <td>0.00</td>\n",
              "      <td>298.912857</td>\n",
              "      <td>299.064286</td>\n",
              "      <td>294.678571</td>\n",
              "      <td>300.9</td>\n",
              "      <td>297.3</td>\n",
              "      <td>1.40</td>\n",
              "      <td>77.674286</td>\n",
              "      <td>0.00</td>\n",
              "      <td>15.965714</td>\n",
              "      <td>3.042857</td>\n",
              "      <td>27.728571</td>\n",
              "      <td>6.942857</td>\n",
              "      <td>31.7</td>\n",
              "      <td>23.9</td>\n",
              "      <td>22.9</td>\n",
              "    </tr>\n",
              "    <tr>\n",
              "      <th>259</th>\n",
              "      <td>sj</td>\n",
              "      <td>2013</td>\n",
              "      <td>17</td>\n",
              "      <td>2013-04-23</td>\n",
              "      <td>-0.08730</td>\n",
              "      <td>-0.048667</td>\n",
              "      <td>0.129814</td>\n",
              "      <td>0.117671</td>\n",
              "      <td>45.47</td>\n",
              "      <td>298.067143</td>\n",
              "      <td>298.042857</td>\n",
              "      <td>294.132857</td>\n",
              "      <td>300.2</td>\n",
              "      <td>296.6</td>\n",
              "      <td>19.90</td>\n",
              "      <td>79.045714</td>\n",
              "      <td>45.47</td>\n",
              "      <td>15.451429</td>\n",
              "      <td>2.342857</td>\n",
              "      <td>26.442857</td>\n",
              "      <td>6.742857</td>\n",
              "      <td>31.1</td>\n",
              "      <td>21.7</td>\n",
              "      <td>47.5</td>\n",
              "    </tr>\n",
              "  </tbody>\n",
              "</table>\n",
              "<p>260 rows × 24 columns</p>\n",
              "</div>"
            ],
            "text/plain": [
              "    city  year  ...  station_min_temp_c station_precip_mm\n",
              "0     sj  2008  ...                21.7              75.2\n",
              "1     sj  2008  ...                22.2              34.3\n",
              "2     sj  2008  ...                22.8               3.0\n",
              "3     sj  2008  ...                24.4               0.3\n",
              "4     sj  2008  ...                23.3              84.1\n",
              "..   ...   ...  ...                 ...               ...\n",
              "255   sj  2013  ...                22.8               3.5\n",
              "256   sj  2013  ...                22.8              17.6\n",
              "257   sj  2013  ...                23.3               9.4\n",
              "258   sj  2013  ...                23.9              22.9\n",
              "259   sj  2013  ...                21.7              47.5\n",
              "\n",
              "[260 rows x 24 columns]"
            ]
          },
          "metadata": {
            "tags": []
          },
          "execution_count": 21
        }
      ]
    },
    {
      "cell_type": "markdown",
      "metadata": {
        "id": "4Epdw0PQg2m_"
      },
      "source": [
        "Cases from Iquitos:"
      ]
    },
    {
      "cell_type": "code",
      "metadata": {
        "colab": {
          "base_uri": "https://localhost:8080/",
          "height": 439
        },
        "id": "A8sg_t69tYf_",
        "outputId": "f4292d82-925d-4435-bf2d-98b068b56726"
      },
      "source": [
        "iq_test = test[test['city']=='iq']\n",
        "iq_test"
      ],
      "execution_count": null,
      "outputs": [
        {
          "output_type": "execute_result",
          "data": {
            "text/html": [
              "<div>\n",
              "<style scoped>\n",
              "    .dataframe tbody tr th:only-of-type {\n",
              "        vertical-align: middle;\n",
              "    }\n",
              "\n",
              "    .dataframe tbody tr th {\n",
              "        vertical-align: top;\n",
              "    }\n",
              "\n",
              "    .dataframe thead th {\n",
              "        text-align: right;\n",
              "    }\n",
              "</style>\n",
              "<table border=\"1\" class=\"dataframe\">\n",
              "  <thead>\n",
              "    <tr style=\"text-align: right;\">\n",
              "      <th></th>\n",
              "      <th>city</th>\n",
              "      <th>year</th>\n",
              "      <th>weekofyear</th>\n",
              "      <th>week_start_date</th>\n",
              "      <th>ndvi_ne</th>\n",
              "      <th>ndvi_nw</th>\n",
              "      <th>ndvi_se</th>\n",
              "      <th>ndvi_sw</th>\n",
              "      <th>precipitation_amt_mm</th>\n",
              "      <th>reanalysis_air_temp_k</th>\n",
              "      <th>reanalysis_avg_temp_k</th>\n",
              "      <th>reanalysis_dew_point_temp_k</th>\n",
              "      <th>reanalysis_max_air_temp_k</th>\n",
              "      <th>reanalysis_min_air_temp_k</th>\n",
              "      <th>reanalysis_precip_amt_kg_per_m2</th>\n",
              "      <th>reanalysis_relative_humidity_percent</th>\n",
              "      <th>reanalysis_sat_precip_amt_mm</th>\n",
              "      <th>reanalysis_specific_humidity_g_per_kg</th>\n",
              "      <th>reanalysis_tdtr_k</th>\n",
              "      <th>station_avg_temp_c</th>\n",
              "      <th>station_diur_temp_rng_c</th>\n",
              "      <th>station_max_temp_c</th>\n",
              "      <th>station_min_temp_c</th>\n",
              "      <th>station_precip_mm</th>\n",
              "    </tr>\n",
              "  </thead>\n",
              "  <tbody>\n",
              "    <tr>\n",
              "      <th>260</th>\n",
              "      <td>iq</td>\n",
              "      <td>2010</td>\n",
              "      <td>26</td>\n",
              "      <td>2010-07-02</td>\n",
              "      <td>0.183783</td>\n",
              "      <td>0.142500</td>\n",
              "      <td>0.225129</td>\n",
              "      <td>0.150214</td>\n",
              "      <td>82.29</td>\n",
              "      <td>297.648571</td>\n",
              "      <td>299.214286</td>\n",
              "      <td>296.118571</td>\n",
              "      <td>307.9</td>\n",
              "      <td>293.7</td>\n",
              "      <td>34.11</td>\n",
              "      <td>92.581429</td>\n",
              "      <td>82.29</td>\n",
              "      <td>17.654286</td>\n",
              "      <td>9.428571</td>\n",
              "      <td>27.440</td>\n",
              "      <td>10.760</td>\n",
              "      <td>33.8</td>\n",
              "      <td>21.5</td>\n",
              "      <td>11.2</td>\n",
              "    </tr>\n",
              "    <tr>\n",
              "      <th>261</th>\n",
              "      <td>iq</td>\n",
              "      <td>2010</td>\n",
              "      <td>27</td>\n",
              "      <td>2010-07-09</td>\n",
              "      <td>0.291657</td>\n",
              "      <td>0.272267</td>\n",
              "      <td>0.330700</td>\n",
              "      <td>0.320914</td>\n",
              "      <td>25.30</td>\n",
              "      <td>298.224286</td>\n",
              "      <td>299.464286</td>\n",
              "      <td>294.831429</td>\n",
              "      <td>307.7</td>\n",
              "      <td>292.2</td>\n",
              "      <td>9.10</td>\n",
              "      <td>83.885714</td>\n",
              "      <td>25.30</td>\n",
              "      <td>16.320000</td>\n",
              "      <td>10.157143</td>\n",
              "      <td>27.025</td>\n",
              "      <td>9.625</td>\n",
              "      <td>33.0</td>\n",
              "      <td>21.2</td>\n",
              "      <td>8.9</td>\n",
              "    </tr>\n",
              "    <tr>\n",
              "      <th>262</th>\n",
              "      <td>iq</td>\n",
              "      <td>2010</td>\n",
              "      <td>28</td>\n",
              "      <td>2010-07-16</td>\n",
              "      <td>0.208543</td>\n",
              "      <td>0.366457</td>\n",
              "      <td>0.212629</td>\n",
              "      <td>0.255514</td>\n",
              "      <td>62.14</td>\n",
              "      <td>297.955714</td>\n",
              "      <td>298.964286</td>\n",
              "      <td>296.417143</td>\n",
              "      <td>306.4</td>\n",
              "      <td>292.5</td>\n",
              "      <td>61.09</td>\n",
              "      <td>92.057143</td>\n",
              "      <td>62.14</td>\n",
              "      <td>18.030000</td>\n",
              "      <td>9.557143</td>\n",
              "      <td>26.950</td>\n",
              "      <td>10.350</td>\n",
              "      <td>33.4</td>\n",
              "      <td>21.6</td>\n",
              "      <td>22.6</td>\n",
              "    </tr>\n",
              "    <tr>\n",
              "      <th>263</th>\n",
              "      <td>iq</td>\n",
              "      <td>2010</td>\n",
              "      <td>29</td>\n",
              "      <td>2010-07-23</td>\n",
              "      <td>0.089286</td>\n",
              "      <td>0.063214</td>\n",
              "      <td>0.122057</td>\n",
              "      <td>0.081957</td>\n",
              "      <td>47.80</td>\n",
              "      <td>295.715714</td>\n",
              "      <td>296.642857</td>\n",
              "      <td>293.638571</td>\n",
              "      <td>306.4</td>\n",
              "      <td>289.3</td>\n",
              "      <td>19.60</td>\n",
              "      <td>88.970000</td>\n",
              "      <td>47.80</td>\n",
              "      <td>15.394286</td>\n",
              "      <td>7.828571</td>\n",
              "      <td>26.900</td>\n",
              "      <td>9.700</td>\n",
              "      <td>33.3</td>\n",
              "      <td>14.2</td>\n",
              "      <td>4.8</td>\n",
              "    </tr>\n",
              "    <tr>\n",
              "      <th>264</th>\n",
              "      <td>iq</td>\n",
              "      <td>2010</td>\n",
              "      <td>30</td>\n",
              "      <td>2010-07-30</td>\n",
              "      <td>0.306100</td>\n",
              "      <td>0.327683</td>\n",
              "      <td>0.250086</td>\n",
              "      <td>0.267914</td>\n",
              "      <td>56.30</td>\n",
              "      <td>298.502857</td>\n",
              "      <td>300.000000</td>\n",
              "      <td>293.892857</td>\n",
              "      <td>308.1</td>\n",
              "      <td>290.5</td>\n",
              "      <td>18.93</td>\n",
              "      <td>78.610000</td>\n",
              "      <td>56.30</td>\n",
              "      <td>15.468571</td>\n",
              "      <td>11.771429</td>\n",
              "      <td>27.050</td>\n",
              "      <td>11.850</td>\n",
              "      <td>33.5</td>\n",
              "      <td>16.9</td>\n",
              "      <td>3.0</td>\n",
              "    </tr>\n",
              "    <tr>\n",
              "      <th>...</th>\n",
              "      <td>...</td>\n",
              "      <td>...</td>\n",
              "      <td>...</td>\n",
              "      <td>...</td>\n",
              "      <td>...</td>\n",
              "      <td>...</td>\n",
              "      <td>...</td>\n",
              "      <td>...</td>\n",
              "      <td>...</td>\n",
              "      <td>...</td>\n",
              "      <td>...</td>\n",
              "      <td>...</td>\n",
              "      <td>...</td>\n",
              "      <td>...</td>\n",
              "      <td>...</td>\n",
              "      <td>...</td>\n",
              "      <td>...</td>\n",
              "      <td>...</td>\n",
              "      <td>...</td>\n",
              "      <td>...</td>\n",
              "      <td>...</td>\n",
              "      <td>...</td>\n",
              "      <td>...</td>\n",
              "      <td>...</td>\n",
              "    </tr>\n",
              "    <tr>\n",
              "      <th>411</th>\n",
              "      <td>iq</td>\n",
              "      <td>2013</td>\n",
              "      <td>22</td>\n",
              "      <td>2013-05-28</td>\n",
              "      <td>0.301471</td>\n",
              "      <td>0.380029</td>\n",
              "      <td>0.280629</td>\n",
              "      <td>0.383186</td>\n",
              "      <td>41.12</td>\n",
              "      <td>297.774286</td>\n",
              "      <td>298.964286</td>\n",
              "      <td>295.638571</td>\n",
              "      <td>305.5</td>\n",
              "      <td>292.7</td>\n",
              "      <td>67.60</td>\n",
              "      <td>89.990000</td>\n",
              "      <td>41.12</td>\n",
              "      <td>17.185714</td>\n",
              "      <td>10.100000</td>\n",
              "      <td>27.400</td>\n",
              "      <td>9.050</td>\n",
              "      <td>32.6</td>\n",
              "      <td>21.8</td>\n",
              "      <td>33.0</td>\n",
              "    </tr>\n",
              "    <tr>\n",
              "      <th>412</th>\n",
              "      <td>iq</td>\n",
              "      <td>2013</td>\n",
              "      <td>23</td>\n",
              "      <td>2013-06-04</td>\n",
              "      <td>0.247600</td>\n",
              "      <td>0.296343</td>\n",
              "      <td>0.285371</td>\n",
              "      <td>0.350357</td>\n",
              "      <td>71.52</td>\n",
              "      <td>297.167143</td>\n",
              "      <td>298.328571</td>\n",
              "      <td>295.845714</td>\n",
              "      <td>306.3</td>\n",
              "      <td>291.6</td>\n",
              "      <td>45.70</td>\n",
              "      <td>93.891429</td>\n",
              "      <td>71.52</td>\n",
              "      <td>17.448571</td>\n",
              "      <td>9.657143</td>\n",
              "      <td>27.520</td>\n",
              "      <td>10.720</td>\n",
              "      <td>33.8</td>\n",
              "      <td>21.4</td>\n",
              "      <td>68.0</td>\n",
              "    </tr>\n",
              "    <tr>\n",
              "      <th>413</th>\n",
              "      <td>iq</td>\n",
              "      <td>2013</td>\n",
              "      <td>24</td>\n",
              "      <td>2013-06-11</td>\n",
              "      <td>0.238729</td>\n",
              "      <td>0.251029</td>\n",
              "      <td>0.252586</td>\n",
              "      <td>0.249771</td>\n",
              "      <td>78.96</td>\n",
              "      <td>295.831429</td>\n",
              "      <td>296.607143</td>\n",
              "      <td>294.894286</td>\n",
              "      <td>304.6</td>\n",
              "      <td>290.7</td>\n",
              "      <td>45.22</td>\n",
              "      <td>94.967143</td>\n",
              "      <td>78.96</td>\n",
              "      <td>16.410000</td>\n",
              "      <td>7.385714</td>\n",
              "      <td>27.200</td>\n",
              "      <td>10.075</td>\n",
              "      <td>32.6</td>\n",
              "      <td>21.6</td>\n",
              "      <td>93.2</td>\n",
              "    </tr>\n",
              "    <tr>\n",
              "      <th>414</th>\n",
              "      <td>iq</td>\n",
              "      <td>2013</td>\n",
              "      <td>25</td>\n",
              "      <td>2013-06-18</td>\n",
              "      <td>0.310429</td>\n",
              "      <td>0.302700</td>\n",
              "      <td>0.406614</td>\n",
              "      <td>0.403943</td>\n",
              "      <td>39.54</td>\n",
              "      <td>295.778571</td>\n",
              "      <td>297.400000</td>\n",
              "      <td>293.648571</td>\n",
              "      <td>305.9</td>\n",
              "      <td>292.5</td>\n",
              "      <td>4.70</td>\n",
              "      <td>89.057143</td>\n",
              "      <td>39.54</td>\n",
              "      <td>15.137143</td>\n",
              "      <td>8.228571</td>\n",
              "      <td>26.700</td>\n",
              "      <td>8.480</td>\n",
              "      <td>32.2</td>\n",
              "      <td>21.8</td>\n",
              "      <td>34.1</td>\n",
              "    </tr>\n",
              "    <tr>\n",
              "      <th>415</th>\n",
              "      <td>iq</td>\n",
              "      <td>2013</td>\n",
              "      <td>26</td>\n",
              "      <td>2013-06-25</td>\n",
              "      <td>0.339467</td>\n",
              "      <td>0.240071</td>\n",
              "      <td>0.356943</td>\n",
              "      <td>0.273600</td>\n",
              "      <td>51.80</td>\n",
              "      <td>297.372857</td>\n",
              "      <td>299.000000</td>\n",
              "      <td>294.615714</td>\n",
              "      <td>307.3</td>\n",
              "      <td>289.6</td>\n",
              "      <td>27.80</td>\n",
              "      <td>87.030000</td>\n",
              "      <td>51.80</td>\n",
              "      <td>16.148571</td>\n",
              "      <td>11.542857</td>\n",
              "      <td>27.350</td>\n",
              "      <td>9.675</td>\n",
              "      <td>32.6</td>\n",
              "      <td>22.0</td>\n",
              "      <td>14.9</td>\n",
              "    </tr>\n",
              "  </tbody>\n",
              "</table>\n",
              "<p>156 rows × 24 columns</p>\n",
              "</div>"
            ],
            "text/plain": [
              "    city  year  ...  station_min_temp_c station_precip_mm\n",
              "260   iq  2010  ...                21.5              11.2\n",
              "261   iq  2010  ...                21.2               8.9\n",
              "262   iq  2010  ...                21.6              22.6\n",
              "263   iq  2010  ...                14.2               4.8\n",
              "264   iq  2010  ...                16.9               3.0\n",
              "..   ...   ...  ...                 ...               ...\n",
              "411   iq  2013  ...                21.8              33.0\n",
              "412   iq  2013  ...                21.4              68.0\n",
              "413   iq  2013  ...                21.6              93.2\n",
              "414   iq  2013  ...                21.8              34.1\n",
              "415   iq  2013  ...                22.0              14.9\n",
              "\n",
              "[156 rows x 24 columns]"
            ]
          },
          "metadata": {
            "tags": []
          },
          "execution_count": 22
        }
      ]
    },
    {
      "cell_type": "markdown",
      "metadata": {
        "id": "KXf5YrVng450"
      },
      "source": [
        "We predict with the cases from San Juan:"
      ]
    },
    {
      "cell_type": "code",
      "metadata": {
        "id": "UmzphRynTagK"
      },
      "source": [
        "final_model_prediction_sj = model_sj.predict(sj_test[selected_features])"
      ],
      "execution_count": null,
      "outputs": []
    },
    {
      "cell_type": "markdown",
      "metadata": {
        "id": "6Kegn4athKtb"
      },
      "source": [
        "And now with the cases from Iquitos:"
      ]
    },
    {
      "cell_type": "code",
      "metadata": {
        "id": "0-6IljAMwiEQ"
      },
      "source": [
        "final_model_prediction_iq = model_iq.predict(iq_test[selected_features])"
      ],
      "execution_count": null,
      "outputs": []
    },
    {
      "cell_type": "markdown",
      "metadata": {
        "id": "F88F_Otb-lEu"
      },
      "source": [
        "We put together both results in order to obtain the final result:"
      ]
    },
    {
      "cell_type": "code",
      "metadata": {
        "id": "foGyU7XwAfsy"
      },
      "source": [
        "final_model_prediction = np.concatenate((final_model_prediction_sj,final_model_prediction_iq))"
      ],
      "execution_count": null,
      "outputs": []
    },
    {
      "cell_type": "markdown",
      "metadata": {
        "id": "PrHTXzLW1eaR"
      },
      "source": [
        "Finally we try to visualize how our prediction has turned out with reality."
      ]
    },
    {
      "cell_type": "code",
      "metadata": {
        "id": "QR9j8aQI-9yc",
        "colab": {
          "base_uri": "https://localhost:8080/"
        },
        "outputId": "ad9038cb-2dba-4e0d-8a37-1a9c9178d632"
      },
      "source": [
        "# round the result and cast to int\n",
        "y = np.rint(final_model_prediction) # round\n",
        "y = y.astype(int) # cast to int\n",
        "res = np.hstack(y)\n",
        "\n",
        "res"
      ],
      "execution_count": null,
      "outputs": [
        {
          "output_type": "execute_result",
          "data": {
            "text/plain": [
              "array([ 20,  20,  23,  32,  21,  49,  25,  30,  29,  32,  27,  39,  31,\n",
              "        29,  44,  36,  36,  41, 116,  64,  45,  33,  46,  31,  31,  27,\n",
              "        27,  34,  29,  29,  31,  18,  18,  18,  18,  18,  18,  18,  18,\n",
              "        21,  18,  18,  18,  18,  18,  18,  19,  18,  18,  18,  18,  15,\n",
              "        15,  17,  40,  29,  35,  28,  28,  30,  36,  54,  33,  39,  35,\n",
              "        35,  41,  32,  39,  43,  33,  39,  31,  33,  43,  43,  43,  38,\n",
              "        30,  43,  24,  37,  32,  28,  23,  35,  28,  28,  32,  21,  33,\n",
              "        30,  22,  17,  19,  17,  25,  32,  21,  28,  25,  15,  17,  30,\n",
              "        35,  32,  29,  30,  34, 173,  90,  39,  42,  55, 179, 180,  53,\n",
              "        91,  40, 127,  83, 137, 139, 134, 146,  38,  42,  44, 140,  37,\n",
              "        29,  24,  32,  29,  17,  18,  25,  31,  18,  18,  22,  21,  22,\n",
              "        18,  18,  18,  18,  18,  22,  18,  20,  18,  18,  24,  18,  18,\n",
              "        17,  30,  18,  38,  36,  38,  45, 177, 150,  57,  52,  51,  36,\n",
              "       133,  43, 179,  50, 179,  55,  39,  44,  38,  52,  51,  33,  30,\n",
              "        32,  35,  28,  30,  26,  41,  18,  31,  18,  18,  17,  18,  18,\n",
              "        22,  21,  20,  18,  21,  18,  18,  18,  18,  18,  21,  20,  17,\n",
              "        17,  29,  31,  30,  28,  30,  33,  46,  44,  40,  36,  33,  39,\n",
              "        50,  31,  45,  76,  42,  37,  39,  56,  56,  39,  35,  30,  54,\n",
              "        40,  38,  30,  29,  34,  32,  25,  12,  17,  17,  18,  18,  18,\n",
              "        17,  18,  18,  18,  18,  18,  18,  18,  12,  22,  23,  16,  17,\n",
              "        10,   5,  11,   3,   3,   6,   5,   5,   5,   5,   4,   6,   6,\n",
              "         5,   6,   5,  12,   7,   7,  12,  10,  10,   7,   9,   8,   6,\n",
              "         5,   5,   9,   8,   5,   6,  11,   9,   8,   9,  12,  12,   8,\n",
              "         9,   8,  11,  11,   7,   9,   4,   5,   8,   6,   6,   6,   6,\n",
              "         6,   6,   5,   4,   4,   5,   5,   7,   4,   4,   5,   6,   6,\n",
              "         4,   4,   9,   8,  12,  11,   9,   8,   9,   7,   7,  12,  11,\n",
              "         7,  14,  11,   7,   4,  14,   9,   7,   5,   4,  11,   4,   5,\n",
              "         8,   5,   7,  10,  11,  12,   5,  11,   5,   5,   4,   3,   5,\n",
              "         5,   5,   5,   6,   4,   5,   5,   5,   5,   5,   5,   5,   6,\n",
              "         6,   5,  14,   5,   9,   9,  13,   9,  10,   8,   7,   8,   6,\n",
              "         8,   4,  21,   9,  12,   8,  10,   9,  12,  11,   7,  11,   7,\n",
              "         7,  10,   8,   9,   5,   7,  11,   4,   5,   4,   5,   4,   5])"
            ]
          },
          "metadata": {
            "tags": []
          },
          "execution_count": 26
        }
      ]
    },
    {
      "cell_type": "markdown",
      "metadata": {
        "id": "NqiWtFm6ImA9"
      },
      "source": [
        "3. We build the output file\n"
      ]
    },
    {
      "cell_type": "code",
      "metadata": {
        "id": "b4tSsUpDDNbJ"
      },
      "source": [
        "submission = pd.read_csv(\"submission_format.csv\",\n",
        "                         index_col=[0, 1, 2])\n",
        "\n",
        "\n",
        "submission.total_cases = res.astype(np.int64)\n",
        "submission.to_csv(\"result.csv\")"
      ],
      "execution_count": null,
      "outputs": []
    },
    {
      "cell_type": "markdown",
      "metadata": {
        "id": "__VhckbVnaAY"
      },
      "source": [
        "**And the result is:**\n",
        "\n",
        "26.1899\n",
        "Woo! I scored 26.1899 on 'DengAI: Predicting Disease Spread'!"
      ]
    }
  ]
}