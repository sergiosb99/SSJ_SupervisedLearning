{
  "nbformat": 4,
  "nbformat_minor": 0,
  "metadata": {
    "colab": {
      "name": "Dengue_Boosting_Optimization.ipynb",
      "provenance": [],
      "collapsed_sections": [],
      "toc_visible": true
    },
    "kernelspec": {
      "name": "python3",
      "display_name": "Python 3"
    }
  },
  "cells": [
    {
      "cell_type": "markdown",
      "metadata": {
        "id": "Ti5Wnz3cgkRD"
      },
      "source": [
        "# 0. Introduction\n",
        "\n",
        "We are going to use the data that we have been provided to study and try to predict the evolution of Dengue disease in the cities of **San Jose**, *Puerto Rico*, and **Iquitos**, *Peru*. More information in this [link](https://www.drivendata.org/competitions/44/dengai-predicting-disease-spread/).\n",
        "\n",
        "In this notebook, the AdaBoost algorithm studied in the baseline will be optimized, with the aim of finding the best parameterization of this algorithm, with the aim of continuing to search for better models.\n",
        "\n",
        "\n"
      ]
    },
    {
      "cell_type": "markdown",
      "metadata": {
        "id": "Yo0x5dyH5b4N"
      },
      "source": [
        "# 1. Libraries\r\n",
        "\r\n",
        "Before starting any analysis we must ensure that the basic and general use libraries *(numpy, pandas, etc.)* are correctly imported. "
      ]
    },
    {
      "cell_type": "code",
      "metadata": {
        "id": "QcqAjsMIKluO"
      },
      "source": [
        "# Preprocessing\n",
        "from sklearn import preprocessing\n",
        "\n",
        "# Loading the data\n",
        "import pandas as pd\n",
        "import io\n",
        "from google.colab import files\n",
        "\n",
        "# Graphics display\n",
        "import seaborn as sns\n",
        "import matplotlib.pyplot as plt\n",
        "\n",
        "# Estimator and model selection\n",
        "from sklearn.model_selection import train_test_split, GridSearchCV, RandomizedSearchCV\n",
        "from sklearn.ensemble import GradientBoostingRegressor\n",
        "\n",
        "# Others\n",
        "import numpy as np    \n",
        "from sklearn.metrics import mean_absolute_error "
      ],
      "execution_count": 1,
      "outputs": []
    },
    {
      "cell_type": "markdown",
      "metadata": {
        "id": "fvxDPxPhheSW"
      },
      "source": [
        "# 2. Loading the data\r\n",
        "\r\n",
        "The first step is to upload all the CSV files that have been provided to us and that thanks to them we will obtain the data with which we are going to work. To do this, we will use the tools that Google Colab offers us when uploading files."
      ]
    },
    {
      "cell_type": "markdown",
      "metadata": {
        "id": "dZSaoCMRAq8m"
      },
      "source": [
        "## Preprocessing the data\n",
        "\n",
        "We transform the data in order to allow us the posterior use of the algorithms to build prediction models, for example, missing values, from categories to numbers, etc."
      ]
    },
    {
      "cell_type": "code",
      "metadata": {
        "id": "zr57uSH3SO82"
      },
      "source": [
        "# Make function to preprocess data\r\n",
        "def preprocess_data(data_path, labels_path=None):\r\n",
        "    # Load data and set index to city, year, weekofyear\r\n",
        "    df = pd.read_csv(data_path)\r\n",
        "    # Fill missing values\r\n",
        "    df.fillna(df.mean(), inplace=True)\r\n",
        "    lb = preprocessing.LabelBinarizer()\r\n",
        "    \r\n",
        "    if labels_path:\r\n",
        "        labels = pd.read_csv(labels_path)\r\n",
        "        \r\n",
        "        labels['city'] = lb.fit_transform(labels['city'])\r\n",
        "    \r\n",
        "    df['city'] =  lb.fit_transform(df['city'])\r\n",
        "\r\n",
        "    ## Coger variables, a la parte de mejoras. Esto se debe de borrar.\r\n",
        "    selected_features = ['reanalysis_specific_humidity_g_per_kg', 'reanalysis_dew_point_temp_k', \r\n",
        "                 'station_avg_temp_c', 'station_min_temp_c']\r\n",
        "    df = df[selected_features]\r\n",
        "\r\n",
        "    if labels_path:\r\n",
        "        return df, labels\r\n",
        "    return df"
      ],
      "execution_count": 2,
      "outputs": []
    },
    {
      "cell_type": "markdown",
      "metadata": {
        "id": "Lle9Q95EHDog"
      },
      "source": [
        "We execute the newly compiled method, which will allow us to load and preprocess our data."
      ]
    },
    {
      "cell_type": "code",
      "metadata": {
        "id": "lN74ew6GSShd"
      },
      "source": [
        "df_features, df_labels = preprocess_data('dengue_features_train.csv', labels_path=\"dengue_labels_train.csv\")"
      ],
      "execution_count": 3,
      "outputs": []
    },
    {
      "cell_type": "markdown",
      "metadata": {
        "id": "xC3XXbOoHF_I"
      },
      "source": [
        "Finally, we also load the file with which we will carry out the final prediction, once our model is trained."
      ]
    },
    {
      "cell_type": "code",
      "metadata": {
        "id": "YUrvIsptSU7d"
      },
      "source": [
        "df_test_final = preprocess_data(\"dengue_features_test.csv\")"
      ],
      "execution_count": 4,
      "outputs": []
    },
    {
      "cell_type": "markdown",
      "metadata": {
        "id": "CedFqCvJA88K"
      },
      "source": [
        "# 3. Detaching the dataset\r\n",
        "\r\n",
        "To train the models that we make, it is necessary to separate our training dataset into two parts, one precisely to train the model, and another to check if our models are good."
      ]
    },
    {
      "cell_type": "code",
      "metadata": {
        "id": "eQjikOIh6qUI"
      },
      "source": [
        "X_train, X_test, y_train, y_test = train_test_split(df_features, df_labels['total_cases'], test_size=0.2, random_state=1)"
      ],
      "execution_count": 5,
      "outputs": []
    },
    {
      "cell_type": "markdown",
      "metadata": {
        "id": "M-rFR08X-_g9"
      },
      "source": [
        "# 4. Hyperparameter optimization\r\n",
        "\r\n",
        "Previously, in the baseline, we have created models with simple optimization. That is, we have only created models with a combination of parameters. However, now, thanks to the *GridSearchCV* and *RandomizedSearchCV* functions, we will be able to combine different values for the parameters of the estimators, so that it returns us the best possible model.\r\n",
        "\r\n",
        "The estimator with which we are going to work in the optimization is the following."
      ]
    },
    {
      "cell_type": "code",
      "metadata": {
        "id": "mZXK-tu0B-C_"
      },
      "source": [
        "est = GradientBoostingRegressor()"
      ],
      "execution_count": 6,
      "outputs": []
    },
    {
      "cell_type": "markdown",
      "metadata": {
        "id": "4wspPeaJBKn6"
      },
      "source": [
        "## Grid Search\r\n",
        "\r\n",
        "Grind Search generates candidates from a grid of parameter values specified with the param_grid parameter."
      ]
    },
    {
      "cell_type": "code",
      "metadata": {
        "colab": {
          "base_uri": "https://localhost:8080/"
        },
        "id": "vwOzX7L89XLj",
        "outputId": "cf9d1bba-4901-406e-a962-99d086de1caf"
      },
      "source": [
        "# We declare the variables to be hyperparameterized\r\n",
        "param = [{'learning_rate': [1,2,3],\r\n",
        "          'criterion': ['friedman_mse', 'mae'],\r\n",
        "          'n_estimators': [50,100,200,300,500,600,700]}]\r\n",
        "\r\n",
        "# Initialize the grid search\r\n",
        "grid = GridSearchCV(estimator = est, param_grid = param, cv = 5)\r\n",
        "\r\n",
        "# Train our model\r\n",
        "grid.fit(X_train,y_train)\r\n",
        "\r\n",
        "# We show the results\r\n",
        "print(\"Mejores parámetros: \")\r\n",
        "print(grid.best_params_)\r\n",
        "print()\r\n",
        "print(\"Puntuaciones: \")\r\n",
        "print(grid.cv_results_['mean_test_score'])"
      ],
      "execution_count": null,
      "outputs": [
        {
          "output_type": "stream",
          "text": [
            "Mejores parámetros: \n",
            "{'criterion': 'mae', 'learning_rate': 1, 'n_estimators': 100}\n",
            "\n",
            "Puntuaciones: \n",
            "[-8.99212092e-001 -9.40065211e-001 -9.72739533e-001 -1.00721060e+000\n",
            " -9.71967890e-001 -9.77152805e-001 -1.02988175e+000 -5.88850745e+000\n",
            " -1.46488771e+002 -4.54350437e+000 -1.11852810e+002 -4.60281704e+002\n",
            " -5.86783460e+003 -1.72981462e+002 -2.67159684e+029 -3.38665133e+059\n",
            " -5.44213887e+119 -8.74517999e+179 -2.47754309e+297             -inf\n",
            "             -inf -1.70174745e-001 -6.71420076e-002 -1.80396388e-001\n",
            " -8.98458493e-002 -2.35538535e-001 -4.55729918e-001 -3.08703228e-001\n",
            " -5.40591633e-001 -4.06511689e-001 -4.51665646e+000 -3.26617099e+000\n",
            " -6.26334310e+000 -1.66950187e+000 -3.98479680e+000 -1.61747388e+029\n",
            " -2.07048946e+059 -3.35281046e+119 -5.56518070e+179 -1.57677953e+300\n",
            "             -inf             -inf]\n"
          ],
          "name": "stdout"
        }
      ]
    },
    {
      "cell_type": "markdown",
      "metadata": {
        "id": "SL-g732sKkWk"
      },
      "source": [
        "Now, we predict with the estimator with the best parameters."
      ]
    },
    {
      "cell_type": "code",
      "metadata": {
        "id": "vHXBRYAKKlWn"
      },
      "source": [
        "y_grid = grid.predict(X_test)"
      ],
      "execution_count": null,
      "outputs": []
    },
    {
      "cell_type": "code",
      "metadata": {
        "colab": {
          "base_uri": "https://localhost:8080/",
          "height": 299
        },
        "id": "qx0rcOB_KngT",
        "outputId": "511a79f8-f040-4b72-ab38-93055537b866"
      },
      "source": [
        "xx = np.arange(0,len(y_test),1)\r\n",
        "plt.plot(xx, y_test, c='r', label='data')\r\n",
        "#plt.plot(xx, y, c='k', label='data')\r\n",
        "plt.plot(xx, y_grid, c='g', label='prediction')\r\n",
        "plt.axis('tight')\r\n",
        "plt.legend()\r\n",
        "plt.title(\"GradientBoosting Regressor\")\r\n",
        "\r\n",
        "plt.show()\r\n",
        "\r\n",
        "mae = mean_absolute_error(y_test, y_grid)\r\n",
        "print ('MAE', mae)\r\n"
      ],
      "execution_count": null,
      "outputs": [
        {
          "output_type": "display_data",
          "data": {
            "image/png": "[encoded data removed]",
            "text/plain": [
              "<Figure size 432x288 with 1 Axes>"
            ]
          },
          "metadata": {
            "tags": [],
            "needs_background": "light"
          }
        },
        {
          "output_type": "stream",
          "text": [
            "MAE 22.35386344178082\n"
          ],
          "name": "stdout"
        }
      ]
    },
    {
      "cell_type": "markdown",
      "metadata": {
        "id": "MVPboc5WDU72"
      },
      "source": [
        "### Submision Result\r\n",
        "\r\n",
        "Once we have identified the best parameterization we will go on to make an execution of the model and we will graph its results."
      ]
    },
    {
      "cell_type": "code",
      "metadata": {
        "colab": {
          "base_uri": "https://localhost:8080/"
        },
        "id": "Qh0YLWdJDhju",
        "outputId": "2299f2d7-f719-41b7-c454-5b31e13319b4"
      },
      "source": [
        "final_model_prediction = grid.predict(df_test_final)\r\n",
        "\r\n",
        "# round the result and cast to int\r\n",
        "y = np.rint(final_model_prediction) # round\r\n",
        "y = y.astype(int) # cast to int\r\n",
        "res = np.hstack(y)\r\n",
        "\r\n",
        "res"
      ],
      "execution_count": null,
      "outputs": [
        {
          "output_type": "execute_result",
          "data": {
            "text/plain": [
              "array([  6,  16,  17,  11,  15,  72,  47,  22,  22,  29,  30,  12,  24,\n",
              "        -7,  36,  86,  21,  36,  50,  33,  80,  11,  12,  22,  10,  17,\n",
              "        51,  26,  20,  60,  17,  10,  17,   9,  17,   3,  17,  16,  23,\n",
              "        17,  17,  17,  13,  16,  17,   6,  -3,   8,  10,  17,   2,   9,\n",
              "         8,   9,  23,  17,  29,  32,  44,  28, 413, 133, 120,  90,  45,\n",
              "        19,  89,  24,  25, 127,  19,  88,  10,  29, 154, 121,  82,  21,\n",
              "         0,   5,  10,  22,   9,  10,   0,  58,  17,   3,  42,  14,  26,\n",
              "        15,  16,   6,   6,   7,  37,  14,  14,  55,  27,   9,  14,  26,\n",
              "        22,  16,   6,  18,  24, 107,  48,  36,  31,  31,   5,  75,  33,\n",
              "        12,  34, 264,  35, 241,   0, -26, 264,  36,  33,  52, 244,  24,\n",
              "        -1,  10,   9,  17,  15,  15,   3,  23,  14,  17,  21,  46,  50,\n",
              "        20,  14,  14,  20,  17,  -8,  16,  13,  14,  17,  42,  20,  15,\n",
              "         9,  52,  18,   2,  27,  39,  21,  14,   1,  27,  30,  34,  10,\n",
              "        26,  90,  14,  29,   4,  10,  24,  36,  18,  31,  30,  22,  20,\n",
              "        14,  12,  27,  17,  27,  15,  20,  74,  14,  64,  19,  20,  17,\n",
              "        23,   5,  10,  17,  36,  18,  17,  14,  40,  17,  18,   5,   8,\n",
              "         7,  52,  43,  22,  15,  80, 108,  24, 158,  34, 177,  22,  24,\n",
              "        36,  20,  36,  33,  40,  24,  30, 168, 173,  56,  21,   4,  33,\n",
              "        24,  94,  21,  28,  20,  11,  23,   8,   9,  16,  17,  15,  18,\n",
              "        14,  16,  15,  16,  14,  21,  13,   4,  10,  31,  16,  11,  12,\n",
              "        44, 142,  15,  -1,  10,   2, -13,   2,   5, -22,  -5,   4, 334,\n",
              "         3,   2,   0,   1,  11,   0,  12,   5,   9,   3,   5,   7,   2,\n",
              "         8,  44,  25,   3,   2, -18,   7,   1,  11,   0,  11,  11,  11,\n",
              "        20,   2,  14,  21,  12,   4,   4,  45,   6,   3,   2,   3,   5,\n",
              "        53,  11,  -6,   3,   3,   1,   3, -11,   0,   8,   4,  23,   1,\n",
              "        20,   0,   7,  29,  11,   7,   8,  11,   8,   5,   6,   6,  11,\n",
              "         6,   6,  13,   2,  51,  15,  20,  16,   5,   1,  22,  57,   1,\n",
              "         3,   6,  10,  14,  15,  13,  21,  26,   4,  18,   1,  30,   2,\n",
              "         0,  12,  14,  22,   7,   3,   6,   4,   5,  -1,  -1,   3,   0,\n",
              "        36,   3,   1,   3,  -1,   8,  11,   9,   0,   4,  11,   7, 171,\n",
              "        11, -13, 390,  12,  17,  27,  11,  17,  11,  11,  10,   4,   4,\n",
              "         6,  10,  -8,   1,   3,  12,   7,  28,  -2,   1,   2,   5,   3])"
            ]
          },
          "metadata": {
            "tags": []
          },
          "execution_count": 17
        }
      ]
    },
    {
      "cell_type": "markdown",
      "metadata": {
        "id": "YYMFhhpmDhPN"
      },
      "source": [
        "We build the output file"
      ]
    },
    {
      "cell_type": "code",
      "metadata": {
        "id": "KYCIXjaqDzn3"
      },
      "source": [
        "submission = pd.read_csv(\"submission_format.csv\", index_col=[0, 1, 2])\r\n",
        "\r\n",
        "submission.total_cases = final_model_prediction.astype(np.int64)\r\n",
        "submission.to_csv(\"result_grid.csv\")"
      ],
      "execution_count": null,
      "outputs": []
    },
    {
      "cell_type": "markdown",
      "metadata": {
        "id": "GkCw18gBD07n"
      },
      "source": [
        "**And the result is:**\r\n",
        "\r\n",
        "*36.2620\r\n",
        "Woo! I scored 36.2620 on 'DengAI: Predicting Disease Spread'!*"
      ]
    },
    {
      "cell_type": "markdown",
      "metadata": {
        "id": "Rske9rldBLNo"
      },
      "source": [
        "## Randomized Search\r\n",
        "\r\n",
        "Randomized Search can sample a given number of candidates from a parameter space with a specified distribution.\r\n"
      ]
    },
    {
      "cell_type": "code",
      "metadata": {
        "colab": {
          "base_uri": "https://localhost:8080/"
        },
        "id": "kR-jwyFQ-LGO",
        "outputId": "4fa0e5ed-75e7-42db-8410-ec5be125a643"
      },
      "source": [
        "# We declare the variables to be hyperparameterized\r\n",
        "param = [{'learning_rate': [1,2,3],\r\n",
        "          'criterion': ['friedman_mse', 'mae'],\r\n",
        "          'n_estimators': [50,100,200,300,500,600,700]}]\r\n",
        "\r\n",
        "# Initialize the grid search\r\n",
        "random = RandomizedSearchCV(estimator = est, param_distributions = param, cv = 5)\r\n",
        "\r\n",
        "# Train our model\r\n",
        "random.fit(X_train,y_train)\r\n",
        "\r\n",
        "# We show the results\r\n",
        "print(\"Mejores parámetros: \")\r\n",
        "print(random.best_params_)\r\n",
        "print()\r\n",
        "print(\"Puntuaciones: \")\r\n",
        "print(random.cv_results_['mean_test_score'])"
      ],
      "execution_count": null,
      "outputs": [
        {
          "output_type": "stream",
          "text": [
            "Mejores parámetros: \n",
            "{'n_estimators': 100, 'learning_rate': 1, 'criterion': 'mae'}\n",
            "\n",
            "Puntuaciones: \n",
            "[-6.80948970e+000 -1.01603245e+000 -3.51443407e-001 -3.32974681e+119\n",
            " -3.15735482e-001 -9.94560026e-001 -9.21595490e-001 -1.76165347e+002\n",
            " -5.52819084e-001 -8.74517999e+179]\n"
          ],
          "name": "stdout"
        }
      ]
    },
    {
      "cell_type": "markdown",
      "metadata": {
        "id": "xVlDfcgWFLSs"
      },
      "source": [
        "Now, we predict with the estimator with the best parameters."
      ]
    },
    {
      "cell_type": "code",
      "metadata": {
        "id": "Ctw1SIa2FO7R"
      },
      "source": [
        "y_random = random.predict(X_test)"
      ],
      "execution_count": null,
      "outputs": []
    },
    {
      "cell_type": "code",
      "metadata": {
        "colab": {
          "base_uri": "https://localhost:8080/",
          "height": 299
        },
        "id": "lslogh2pFTZA",
        "outputId": "ff764592-28e8-4351-a2ed-9dcbc966a212"
      },
      "source": [
        "xx = np.arange(0,len(y_test),1)\r\n",
        "plt.plot(xx, y_test, c='r', label='data')\r\n",
        "plt.plot(xx, y_random, c='g', label='prediction')\r\n",
        "plt.axis('tight')\r\n",
        "plt.legend()\r\n",
        "plt.title(\"GradientBoosting Regressor\")\r\n",
        "\r\n",
        "plt.show()\r\n",
        "\r\n",
        "mae = mean_absolute_error(y_test, y_grid)\r\n",
        "print ('MAE', mae)"
      ],
      "execution_count": null,
      "outputs": [
        {
          "output_type": "display_data",
          "data": {
            "image/png": "[encoded data removed]",
            "text/plain": [
              "<Figure size 432x288 with 1 Axes>"
            ]
          },
          "metadata": {
            "tags": [],
            "needs_background": "light"
          }
        },
        {
          "output_type": "stream",
          "text": [
            "MAE 22.35386344178082\n"
          ],
          "name": "stdout"
        }
      ]
    },
    {
      "cell_type": "markdown",
      "metadata": {
        "id": "menaQw29FZWc"
      },
      "source": [
        "### Submision Result\r\n",
        "\r\n",
        "Once the best parameterization has been identified, we will carry out an execution of the model to make a prediction of the weeks that are proposed to us, and we will graph its results."
      ]
    },
    {
      "cell_type": "code",
      "metadata": {
        "colab": {
          "base_uri": "https://localhost:8080/"
        },
        "id": "mAuPXoYDFYk0",
        "outputId": "e8f0dcdc-4890-4a21-99d2-8cce5dc975fd"
      },
      "source": [
        "final_model_prediction = random.predict(df_test_final)\r\n",
        "\r\n",
        "# Round the result and cast to int\r\n",
        "y = np.rint(final_model_prediction)\r\n",
        "y = y.astype(int)\r\n",
        "res = np.hstack(y)\r\n",
        "\r\n",
        "res"
      ],
      "execution_count": null,
      "outputs": [
        {
          "output_type": "execute_result",
          "data": {
            "text/plain": [
              "array([  6,  10,  14,  88,  20,  68,   6,  20,  22,  12,  18,  33,  20,\n",
              "         7,  43,  61,  16,  35,   2,  52,  43,  12,  12,  22,  12,  14,\n",
              "        41,  30,   5,  54,  12,  11,  15,  -8,  11,   7,  11,  20,  13,\n",
              "        16,  16,  17,  10,  -1,  16,   6,   9,   8,   9,   1,  40,   7,\n",
              "        -4,   8,  90,  20,  30,  18,  20,  28,  39, 157, 123,  81,  35,\n",
              "        17, 119,  25,  29,  90,  17,  89,  12,  30, 109,  90,  82,  16,\n",
              "        20,   5,   9,  22,   6,  18,  15,  24,  21,   7,  16,   6,  26,\n",
              "        54,  14,   5,  -4,   8,   9,  14,  11,  28,  22,   7,  14,  12,\n",
              "        23,  88,  14,  22,  20,  79,  42,  55,  33,  52,   4,  78,  52,\n",
              "        29,  35, 225,  47, 178,  33, -47, 204,  31,  11,  28, 194,  24,\n",
              "         7,   9,   8,  20,  15,  14,  16,  26,  14,  15,   2,  14,  16,\n",
              "        17,  16,  14,  47,  16,  16,  22,  16,  14,  14,  14,  18,  15,\n",
              "        10,  28,   4,   4,  22,  10,  48,  22,  12,  29,  35,  33,  14,\n",
              "         7, 152,  18,  42,   6,  29,  24,  39,  22,  35,  35,  18,  20,\n",
              "         6,  12, 150,  16,  40,  20,  18,  29,  12,   5,  19,  17,  18,\n",
              "        22,  16,  12,  26,  22,  16,  16,  16,   0,  15,  20,   8,   2,\n",
              "         6,  30,  12,  22,  19,  44, 108, 140, 182,   5, 211,  22,  28,\n",
              "        31,  16,   5,  52,  42,  24,  57, 186, 180,  63,  16,  22,  52,\n",
              "        25,  92,  11,  28,  20,  20,  16,   8,   8,  14,  17,  24,  16,\n",
              "        18,  14,  24,   9,  10,  16,  11,   8,  13,  32,  20,  42,   9,\n",
              "        28,   1,  16,   4,  -2,   3,   0,   4,   3,   0,  -7,   5,  -9,\n",
              "         9,   2,   5, -15,  10,  12,   3,   8,  14,  10,   5,   7,   2,\n",
              "        14,   4,  25,   2,  -7,   0,   2,   9,   9,   6,  14,  12,   9,\n",
              "         8,   6,  14,  19,  12,  15,   5,  44,   9,   8,  11,   8,   7,\n",
              "        11,  11,   0,   6,   0,   5,   1,  -3,  10,   5,   6,  29,   4,\n",
              "        19,   4,   9,   2,  14,   6,   9,   9,  10,   6,   6,   7,  12,\n",
              "        10,  12,   7,   6,   2,  15,  17,  12,   2, -10,  22,  12,   2,\n",
              "        10,   4,  10,  12,  17,  12,   6,  24,   6,  32,   1,   6,   3,\n",
              "         2,  14,  16,  18,   7,   4,   8,   9,   5,  -3,   2,   2,  28,\n",
              "         7,   5,  18,   5,   5,   7,  11,  20,  -1,  18,  12,  15, 174,\n",
              "        12,   3,  20,  12,  16,   5,  12,  15,  12,  12,  18,   6,   5,\n",
              "         7,  12,  10,   6,   3,  12,   8,   2,   4,   4,   7,   2,   6])"
            ]
          },
          "metadata": {
            "tags": []
          },
          "execution_count": 16
        }
      ]
    },
    {
      "cell_type": "markdown",
      "metadata": {
        "id": "2Cz8FgrnFhxZ"
      },
      "source": [
        "We build the output file"
      ]
    },
    {
      "cell_type": "code",
      "metadata": {
        "id": "JiftmYmPFhfo"
      },
      "source": [
        "submission = pd.read_csv(\"submission_format.csv\",index_col=[0, 1, 2])\r\n",
        "\r\n",
        "submission.total_cases = final_model_prediction.astype(np.int64)\r\n",
        "submission.to_csv(\"result_randomized.csv\")"
      ],
      "execution_count": null,
      "outputs": []
    },
    {
      "cell_type": "markdown",
      "metadata": {
        "id": "dK_wBLMgFiJT"
      },
      "source": [
        "**And the result is:**\r\n",
        "\r\n",
        "*32.5337\r\n",
        "Woo! I scored 32.5337 on 'DengAI: Predicting Disease Spread'!*"
      ]
    },
    {
      "cell_type": "markdown",
      "metadata": {
        "id": "dC_HiLhlZwCl"
      },
      "source": [
        "# 5. Conclusions\r\n",
        "\r\n",
        "They are not the expected results, this two situations may have happened:\r\n",
        "\r\n",
        "Hyperparameter Optimization algorithms have over-learned about the train data, and when applying the test data to it, they have failed.\r\n",
        "\r\n",
        "Another option would be that it is offering us models with very little performance difference in optimization."
      ]
    }
  ]
}