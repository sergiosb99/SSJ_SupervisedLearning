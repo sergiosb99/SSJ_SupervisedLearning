{
  "nbformat": 4,
  "nbformat_minor": 0,
  "metadata": {
    "colab": {
      "name": "Dengue_Boosting.ipynb",
      "provenance": [],
      "collapsed_sections": [],
      "toc_visible": true
    },
    "kernelspec": {
      "name": "python3",
      "display_name": "Python 3"
    }
  },
  "cells": [
    {
      "cell_type": "markdown",
      "metadata": {
        "id": "Ti5Wnz3cgkRD"
      },
      "source": [
        "# 0. Introduction\n",
        "\n",
        "We are going to use the data that we have been provided to study and try to predict the evolution of Dengue disease in the cities of **San Jose**, *Puerto Rico*, and **Iquitos**, *Peru*. More information in this [link](https://www.drivendata.org/competitions/44/dengai-predicting-disease-spread/).\n",
        "\n",
        "To begin our study, this notebook will be part of our baseline, where various algorithms with simple optimization will be used, with the aim of beginning to know how we could create robust models.\n"
      ]
    },
    {
      "cell_type": "markdown",
      "metadata": {
        "id": "Yo0x5dyH5b4N"
      },
      "source": [
        "# 1. Libraries\r\n",
        "\r\n",
        "Before starting any analysis we must ensure that the basic and general use libraries *(numpy, pandas, etc.)* are correctly imported. "
      ]
    },
    {
      "cell_type": "code",
      "metadata": {
        "id": "QcqAjsMIKluO"
      },
      "source": [
        "# Preprocessing\n",
        "from sklearn import preprocessing\n",
        "\n",
        "# Loading the data\n",
        "import pandas as pd\n",
        "import io\n",
        "from google.colab import files\n",
        "\n",
        "# Graphics display\n",
        "import seaborn as sns\n",
        "import matplotlib.pyplot as plt\n",
        "\n",
        "# Estimator and model selection\n",
        "from sklearn.model_selection import train_test_split\n",
        "from sklearn.ensemble import GradientBoostingRegressor\n",
        "\n",
        "# Others\n",
        "import numpy as np    \n",
        "from sklearn.metrics import mean_absolute_error "
      ],
      "execution_count": 1,
      "outputs": []
    },
    {
      "cell_type": "markdown",
      "metadata": {
        "id": "fvxDPxPhheSW"
      },
      "source": [
        "# 2. Loading the data\r\n",
        "\r\n",
        "The first step is to upload all the CSV files that have been provided to us and that thanks to them we will obtain the data with which we are going to work. To do this, we will use the tools that Google Colab offers us when uploading files."
      ]
    },
    {
      "cell_type": "markdown",
      "metadata": {
        "id": "dZSaoCMRAq8m"
      },
      "source": [
        "## Preprocessing the data\n",
        "\n",
        "We transform the data in order to allow us the posterior use of the algorithms to build prediction models, for example, missing values, from categories to numbers, etc."
      ]
    },
    {
      "cell_type": "code",
      "metadata": {
        "id": "zr57uSH3SO82"
      },
      "source": [
        "# Make function to preprocess data\r\n",
        "def preprocess_data(data_path, labels_path=None):\r\n",
        "    # Load data and set index to city, year, weekofyear\r\n",
        "    df = pd.read_csv(data_path)\r\n",
        "    # Fill missing values\r\n",
        "    df.fillna(df.mean(), inplace=True)\r\n",
        "    lb = preprocessing.LabelBinarizer()\r\n",
        "\r\n",
        "    if labels_path:\r\n",
        "        labels = pd.read_csv(labels_path)\r\n",
        "        \r\n",
        "        labels['city'] = lb.fit_transform(labels['city'])\r\n",
        "    \r\n",
        "    df['city'] =  lb.fit_transform(df['city'])\r\n",
        "\r\n",
        "    selected_features = ['reanalysis_specific_humidity_g_per_kg', 'reanalysis_dew_point_temp_k', \r\n",
        "                 'station_avg_temp_c', 'station_min_temp_c']\r\n",
        "    df = df[selected_features]\r\n",
        "\r\n",
        "    if labels_path:\r\n",
        "        return df, labels\r\n",
        "    return df"
      ],
      "execution_count": 2,
      "outputs": []
    },
    {
      "cell_type": "markdown",
      "metadata": {
        "id": "_rST5y1E6F0w"
      },
      "source": [
        "We execute the newly compiled method, which will allow us to load and preprocess our data."
      ]
    },
    {
      "cell_type": "code",
      "metadata": {
        "id": "lN74ew6GSShd"
      },
      "source": [
        "df_features, df_labels  = preprocess_data('dengue_features_train.csv', labels_path=\"dengue_labels_train.csv\")"
      ],
      "execution_count": 3,
      "outputs": []
    },
    {
      "cell_type": "markdown",
      "metadata": {
        "id": "hnF7DJ2V6LDp"
      },
      "source": [
        "Finally, we also load the file with which we will carry out the final prediction, once our model is trained."
      ]
    },
    {
      "cell_type": "code",
      "metadata": {
        "id": "YUrvIsptSU7d"
      },
      "source": [
        "df_test_final = preprocess_data(\"dengue_features_test.csv\")"
      ],
      "execution_count": 4,
      "outputs": []
    },
    {
      "cell_type": "markdown",
      "metadata": {
        "id": "V1M6e1pK6Wuk"
      },
      "source": [
        "# 3. Detaching the dataset\r\n",
        "\r\n",
        "To train the models that we make, it is necessary to separate our training dataset into two parts, one precisely to train the model, and another to check if our models are good."
      ]
    },
    {
      "cell_type": "code",
      "metadata": {
        "id": "eQjikOIh6qUI"
      },
      "source": [
        "X_train, X_test, y_train, y_test = train_test_split(df_features, df_labels['total_cases'], test_size=0.2, random_state=1)"
      ],
      "execution_count": 5,
      "outputs": []
    },
    {
      "cell_type": "markdown",
      "metadata": {
        "id": "4iDaM4Yz6Z-9"
      },
      "source": [
        "# 4. Execution of the algorithm\r\n",
        "\r\n",
        "We will use the *GradientBoostingRegressor*, which will build a set of decision trees sequentially. In each iteration, each model will try to correct errors made in the previous iteration by optimizing a loss function."
      ]
    },
    {
      "cell_type": "code",
      "metadata": {
        "id": "AVheBB5JK9QW"
      },
      "source": [
        "def Boosting(X_train, X_test):\n",
        "    # Model Parametrization \n",
        "    regressor = GradientBoostingRegressor(n_estimators= 100, max_depth = 5, criterion='mae', random_state=0)\n",
        "    # Model construction\n",
        "    regressor.fit(X_train, y_train)\n",
        "\n",
        "    # Test\n",
        "    y_pred = regressor.predict(X_test)\n",
        "    mae = mean_absolute_error(y_test,y_pred)\n",
        "    print (\"Error Measure \",  mae, \"\\n\")\n",
        "\n",
        "    # Plot\n",
        "    xx = np.arange(0,len(y_test),1)\n",
        "    plt.scatter(xx, y_test, c='r', label='data')\n",
        "    plt.plot(xx, y_pred, c='g', label='prediction')\n",
        "    plt.axis('tight')\n",
        "    plt.legend()\n",
        "    plt.title(\"GradientBoosting Regressor\")\n",
        "    plt.show()\n",
        "    \n",
        "    return regressor"
      ],
      "execution_count": 6,
      "outputs": []
    },
    {
      "cell_type": "markdown",
      "metadata": {
        "id": "s3qBk6Wv6t3z"
      },
      "source": [
        "We run the algorithm"
      ]
    },
    {
      "cell_type": "code",
      "metadata": {
        "colab": {
          "base_uri": "https://localhost:8080/",
          "height": 317
        },
        "id": "AVvHu0tHJYdz",
        "outputId": "ac727f83-b655-4258-808e-07feec982a65"
      },
      "source": [
        "model = Boosting(X_train, X_test)"
      ],
      "execution_count": 7,
      "outputs": [
        {
          "output_type": "stream",
          "text": [
            "Error Measure  18.30589278572303 \n",
            "\n"
          ],
          "name": "stdout"
        },
        {
          "output_type": "display_data",
          "data": {
            "image/png": "[encoded data removed]",
            "text/plain": [
              "<Figure size 432x288 with 1 Axes>"
            ]
          },
          "metadata": {
            "tags": [],
            "needs_background": "light"
          }
        }
      ]
    },
    {
      "cell_type": "markdown",
      "metadata": {
        "id": "2qbkQc-ztqIS"
      },
      "source": [
        "## Submission result\r\n",
        "\r\n",
        "Now, we are going to test our model with the data provided to us in the dengue_features_test.csv file to predict dengue cases for the weeks proposed in said file."
      ]
    },
    {
      "cell_type": "code",
      "metadata": {
        "id": "QR9j8aQI-9yc",
        "colab": {
          "base_uri": "https://localhost:8080/"
        },
        "outputId": "bca1f406-ef85-41f7-dfec-de1188a2dc4d"
      },
      "source": [
        "final_model_prediction = model.predict(df_test_final)\n",
        "\n",
        "# Round the result and cast to int\n",
        "y = np.rint(final_model_prediction)\n",
        "y = y.astype(int)\n",
        "res = np.hstack(y)\n",
        "\n",
        "res"
      ],
      "execution_count": null,
      "outputs": [
        {
          "output_type": "execute_result",
          "data": {
            "text/plain": [
              "array([  7,  15,  32,  19,  10,  57,  10,  35,  17,  14,  13,  28,  24,\n",
              "        19,  50,  64,  21,  31,  51,  38,  86,  24,   8, 115,  17,  14,\n",
              "        34,  41,  21,  40,  11,  17,  14,   9,  15,   9,  15,  15,  15,\n",
              "        11,  15,  15,  10,  13,  15,   9,  13,  11,  13,   6,  15,  15,\n",
              "        10,  12,  86,  11,  41,  13,  14,  26,  95, 114,  37,  70,  41,\n",
              "        38,  82,  24,  25,  45,  39,  41,  26,  28,  64,  40,  58,  24,\n",
              "        31,  19,  12,  27,  17,  39,   8,  26,  12,   9,   8,  13,  40,\n",
              "        11,  17,  11,  48,  10,  13,  14,  10,  10,  23,  13,  11,  21,\n",
              "        20,  12,  11,  24,  49,  64,  36,  22,  29,  34,  59,  82,  34,\n",
              "        36,  36, 183,  83, 156,  36,  38, 200,  31,  52,  50, 192,  30,\n",
              "        16,  11,  19,  10,  14,  14,  23,  10,  15,  14,  19,  15,  20,\n",
              "        13,  14,  15,  15,  15,  13,  17,  14,   6,  13,   6,  15,  15,\n",
              "        12,  49,  10,  18,  10,  22,  22,  18,  19,  51,  32,  60,  18,\n",
              "        67,  77,   9,  56,  51,  29,  23,  59,  26,  70,  26,  22,  22,\n",
              "        12,  18,  43,  21,  14,  15,  16,  27,  14,  14,  14,  15,  15,\n",
              "        24,  10,  16,  15,  18,  10,  15,  14,   6,  15,  17,  24,  10,\n",
              "         7,  36,  36,  24,  22,  42,  17, 182,  50,  46,  52,  18,  26,\n",
              "       115,  24,  35,  24,  37,  28,  29, 170, 147,  42,  21,  27,  28,\n",
              "        23,  74,  12,  18,  53,  13,  20,   9,   9,   6,  15,  15,  15,\n",
              "        17,  15,  15,  10,  15,   5,  13,  10,   5,  16,  15,  11,  13,\n",
              "         7,   6,   8,   2,   2,   4,  10,   3,   1,   2,   1,   5,   8,\n",
              "         6,   2,   4,   4,   6,   9,   2,   6,  11,   6,   6,   5,   4,\n",
              "         6,   5,   7,   3,   5,   4,   5,   6,  11,   9,  15,  15,   6,\n",
              "         9,   6,  17,   8,   6,  15,   9,  13,  11,   9,  12,   8,   5,\n",
              "        12,  12,   3,  32,   4,   2,   4,   2,   6,   5,   4,   8,   5,\n",
              "        22,   4,   8,  28,  14,   5,   6,  11,  10,   6,   6,   7,   8,\n",
              "         8,  12,   8,   4,   4,   8,  14,   6,   3,   0,   9,   5,   0,\n",
              "         7,   5,  10,   8,  10,  11,   5,  16,   6,  14,   4,  24,   4,\n",
              "         3,  14,  14,  13,   1,   3,   2,   8,   6,   1,   1,   2,   2,\n",
              "         4,   2,   5,   5,   8,  15,   6,   9,   5,   9,   8,  11, 109,\n",
              "        14,  10,  17,   8,  53,  17,  17,   8,  11,   9,  21,  10,  10,\n",
              "         7,  11,  18,   7,   2,   7,  15,   7,   4,   5,   6,   6,   6])"
            ]
          },
          "metadata": {
            "tags": []
          },
          "execution_count": 9
        }
      ]
    },
    {
      "cell_type": "markdown",
      "metadata": {
        "id": "NqiWtFm6ImA9"
      },
      "source": [
        "Finally, we are going to download a CSV file that contains our prediction, to load it into DrivenData and return the score of our model.\n"
      ]
    },
    {
      "cell_type": "code",
      "metadata": {
        "id": "b4tSsUpDDNbJ"
      },
      "source": [
        "submission = pd.read_csv(\"submission_format.csv\", index_col=[0, 1, 2])\n",
        "\n",
        "submission.total_cases = final_model_prediction.astype(np.int64)\n",
        "submission.to_csv(\"result.csv\")"
      ],
      "execution_count": null,
      "outputs": []
    },
    {
      "cell_type": "markdown",
      "metadata": {
        "id": "__VhckbVnaAY"
      },
      "source": [
        "**And the result is:**\n",
        "\n",
        "*29.5433\n",
        "Woo! I scored 29.5433 on 'DengAI: Predicting Disease Spread'!*"
      ]
    }
  ]
}