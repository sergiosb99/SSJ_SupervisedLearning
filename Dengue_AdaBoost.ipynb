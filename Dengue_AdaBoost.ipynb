{
  "nbformat": 4,
  "nbformat_minor": 0,
  "metadata": {
    "colab": {
      "name": "Dengue_AdaBoost.ipynb",
      "provenance": [],
      "collapsed_sections": [],
      "toc_visible": true
    },
    "kernelspec": {
      "name": "python3",
      "display_name": "Python 3"
    }
  },
  "cells": [
    {
      "cell_type": "markdown",
      "metadata": {
        "id": "Ti5Wnz3cgkRD"
      },
      "source": [
        "# 0. Introduction\n",
        "\n",
        "We are going to use the data that we have been provided to study and try to predict the evolution of Dengue disease in the cities of **San Juan**, *Puerto Rico*, and **Iquitos**, *Peru*. More information in this [link](https://www.drivendata.org/competitions/44/dengai-predicting-disease-spread/).\n",
        "\n",
        "To begin our study, this notebook will be part of our baseline, where various algorithms with simple optimization will be used, with the aim of beginning to know how we could create robust models."
      ]
    },
    {
      "cell_type": "markdown",
      "metadata": {
        "id": "3wbjJ1PrhsIJ"
      },
      "source": [
        "We will use the data from the competition to predict the evolution of Dengue Disease in both Iquitos and San Juan. More information in [link](https://www.drivendata.org/competitions/44/dengai-predicting-disease-spread/)\n",
        "\n",
        "The objective of the exercise is to solve a regression problem and on the other hand to participate in a data competition.\n"
      ]
    },
    {
      "cell_type": "markdown",
      "metadata": {
        "id": "Yo0x5dyH5b4N"
      },
      "source": [
        "# 1. Libraries\r\n",
        "\r\n",
        "Before starting any analysis we must ensure that the basic and general use libraries *(numpy, pandas, etc.)* are correctly imported. "
      ]
    },
    {
      "cell_type": "code",
      "metadata": {
        "id": "QcqAjsMIKluO"
      },
      "source": [
        "# Preprocessing\n",
        "from sklearn import preprocessing\n",
        "\n",
        "# Loading the data\n",
        "import pandas as pd\n",
        "import io\n",
        "from google.colab import files\n",
        "\n",
        "# Graphics display\n",
        "import seaborn as sns\n",
        "import matplotlib.pyplot as plt\n",
        "\n",
        "# Estimator and model selection\n",
        "from sklearn.model_selection import train_test_split\n",
        "from sklearn.ensemble import AdaBoostRegressor\n",
        "from sklearn.tree import DecisionTreeRegressor\n",
        "\n",
        "# Others\n",
        "import numpy as np    \n",
        "from sklearn.metrics import mean_absolute_error "
      ],
      "execution_count": null,
      "outputs": []
    },
    {
      "cell_type": "markdown",
      "metadata": {
        "id": "fvxDPxPhheSW"
      },
      "source": [
        "# 2. Loading the data\r\n",
        "\r\n",
        "The first step is to upload all the CSV files that have been provided to us and that thanks to them we will obtain the data with which we are going to work. To do this, we will use the tools that Google Colab offers us when uploading files."
      ]
    },
    {
      "cell_type": "markdown",
      "metadata": {
        "id": "dZSaoCMRAq8m"
      },
      "source": [
        "## Preprocessing the data\n",
        "\n",
        "We transform the data in order to allow us the posterior use of the algorithms to build prediction models, for example, missing values, from categories to numbers, etc."
      ]
    },
    {
      "cell_type": "code",
      "metadata": {
        "id": "zr57uSH3SO82"
      },
      "source": [
        "# Make function to preprocess data\r\n",
        "def preprocess_data(data_path, labels_path=None):\r\n",
        "    # Load data and set index to city, year, weekofyear\r\n",
        "    df = pd.read_csv(data_path)\r\n",
        "    # Fill missing values\r\n",
        "    df.fillna(df.mean(), inplace=True)\r\n",
        "    lb = preprocessing.LabelBinarizer()\r\n",
        "\r\n",
        "    if labels_path:\r\n",
        "        labels = pd.read_csv(labels_path)\r\n",
        "        \r\n",
        "        labels['city'] = lb.fit_transform(labels['city'])\r\n",
        "    \r\n",
        "    df['city'] =  lb.fit_transform(df['city'])\r\n",
        "\r\n",
        "    selected_features = ['reanalysis_specific_humidity_g_per_kg', 'reanalysis_dew_point_temp_k', \r\n",
        "                 'station_avg_temp_c', 'station_min_temp_c']\r\n",
        "    df = df[selected_features]\r\n",
        "\r\n",
        "    if labels_path:\r\n",
        "        return df, labels\r\n",
        "    return df"
      ],
      "execution_count": null,
      "outputs": []
    },
    {
      "cell_type": "markdown",
      "metadata": {
        "id": "4G3Q-t5g4b1j"
      },
      "source": [
        "We execute the newly compiled method, which will allow us to load and preprocess our data."
      ]
    },
    {
      "cell_type": "code",
      "metadata": {
        "id": "lN74ew6GSShd"
      },
      "source": [
        "df_features, df_labels  = preprocess_data('dengue_features_train.csv', labels_path=\"dengue_labels_train.csv\")"
      ],
      "execution_count": null,
      "outputs": []
    },
    {
      "cell_type": "markdown",
      "metadata": {
        "id": "z6E92HOcSbFW"
      },
      "source": [
        "Finally, we also load the file with which we will carry out the final prediction, once our model is trained."
      ]
    },
    {
      "cell_type": "code",
      "metadata": {
        "id": "YUrvIsptSU7d"
      },
      "source": [
        "df_test_final = preprocess_data(\"dengue_features_test.csv\")"
      ],
      "execution_count": null,
      "outputs": []
    },
    {
      "cell_type": "markdown",
      "metadata": {
        "id": "aw1l4JTgpqws"
      },
      "source": [
        "# 3. Detaching the dataset\r\n",
        "\r\n",
        "To train the models that we make, it is necessary to separate our training dataset into two parts, one precisely to train the model, and another to check if our models are good."
      ]
    },
    {
      "cell_type": "code",
      "metadata": {
        "id": "eQjikOIh6qUI"
      },
      "source": [
        "X_train, X_test, y_train, y_test = train_test_split(df_features, df_labels['total_cases'], test_size=0.2, random_state=1)"
      ],
      "execution_count": null,
      "outputs": []
    },
    {
      "cell_type": "markdown",
      "metadata": {
        "id": "lsdECD-b4wzq"
      },
      "source": [
        "# 4. Execution of the algorithm\r\n",
        "\r\n",
        "This algorithm is a more advanced Boosting technique than the one already seen in another notebook, since it assigns more importance to data that has been treated badly in previous iterations, in order to obtain better results."
      ]
    },
    {
      "cell_type": "code",
      "metadata": {
        "id": "AVheBB5JK9QW"
      },
      "source": [
        "def AdaBoost(X_train, X_test):\n",
        "    # Model Parametrization \n",
        "    regressor = AdaBoostRegressor (\n",
        "                                    # The base estimator from which the boosted ensemble is built\n",
        "                                    DecisionTreeRegressor(max_depth = 2), # Maximum depth of the tree.\n",
        "                                    # Maximum number of estimators at which boosting is terminated.\n",
        "                                    n_estimators = 100\n",
        "                                  )\n",
        "    # Model construction\n",
        "    regressor.fit(X_train, y_train)\n",
        "\n",
        "    # Test\n",
        "    y_pred = regressor.predict(X_test)\n",
        "    mae = mean_absolute_error(y_test,y_pred)\n",
        "    print (\"Error Measure \",  mae, \"\\n\")\n",
        "\n",
        "    # Plot\n",
        "    xx = np.arange(0,len(y_test),1)\n",
        "    plt.scatter(xx, y_test, c='r', label='data')\n",
        "    plt.plot(xx, y_pred, c='g', label='prediction')\n",
        "    plt.axis('tight')\n",
        "    plt.legend()\n",
        "    plt.title(\"AdaBoost Regressor\")\n",
        "    plt.show()\n",
        "    \n",
        "    return regressor"
      ],
      "execution_count": null,
      "outputs": []
    },
    {
      "cell_type": "markdown",
      "metadata": {
        "id": "_A4Cz_Nf4yfk"
      },
      "source": [
        "We run the algorithm"
      ]
    },
    {
      "cell_type": "code",
      "metadata": {
        "colab": {
          "base_uri": "https://localhost:8080/",
          "height": 317
        },
        "id": "AVvHu0tHJYdz",
        "outputId": "329c2ce4-6278-46f8-dc26-12a95fe76d70"
      },
      "source": [
        "model = AdaBoost(X_train, X_test)"
      ],
      "execution_count": null,
      "outputs": [
        {
          "output_type": "stream",
          "text": [
            "Error Measure  29.571076669487073 \n",
            "\n"
          ],
          "name": "stdout"
        },
        {
          "output_type": "display_data",
          "data": {
            "image/png": "[encoded data removed]",
            "text/plain": [
              "<Figure size 432x288 with 1 Axes>"
            ]
          },
          "metadata": {
            "tags": [],
            "needs_background": "light"
          }
        }
      ]
    },
    {
      "cell_type": "markdown",
      "metadata": {
        "id": "2qbkQc-ztqIS"
      },
      "source": [
        "## Submission result\r\n",
        "\r\n",
        "Now, we are going to test our model with the data provided to us in the dengue_features_test.csv file to predict dengue cases for the weeks proposed in said file."
      ]
    },
    {
      "cell_type": "code",
      "metadata": {
        "id": "QR9j8aQI-9yc",
        "colab": {
          "base_uri": "https://localhost:8080/"
        },
        "outputId": "3aa2fbc6-fb79-4d76-b106-32c98c7402f1"
      },
      "source": [
        "final_model_prediction = model.predict(df_test_final)\n",
        "\n",
        "# Round the result and cast to int\n",
        "y = np.rint(final_model_prediction)\n",
        "y = y.astype(int)\n",
        "res = np.hstack(y)\n",
        "\n",
        "res"
      ],
      "execution_count": null,
      "outputs": [
        {
          "output_type": "execute_result",
          "data": {
            "text/plain": [
              "array([ 17,  25,  43,  40,  40,  79, 142,  72,  72,  72, 142,  72,  72,\n",
              "        72,  72,  72,  72,  72,  72,  72,  72,  43,  43,  72,  41,  41,\n",
              "        79,  72,  72,  41,  41,  17,  25,  17,  17,  43,  17,  25,  17,\n",
              "        17,  17,  17,  17,  17,  17,  17,  17,  17,  17,  17,  25,  25,\n",
              "        25,  25,  41,  25,  72, 142, 142,  72, 142,  72,  72,  72,  72,\n",
              "        72,  72,  72,  72,  72,  72,  72,  72,  72,  72,  72,  72,  72,\n",
              "        72, 142,  43,  72,  72,  41,  41,  41,  25,  43,  18,  17,  18,\n",
              "        41,  17,  17,  17,  25,  43,  17,  17,  43,  79,  25,  17,  41,\n",
              "        72,  43,  41,  72,  72, 129,  72,  72,  72,  72, 129, 129,  72,\n",
              "        43,  72,  72,  72,  72,  72, 129,  72,  72,  72,  72,  72,  72,\n",
              "       142,  43,  72,  41,  25,  17,  17,  41,  17,  25,  17,  17,  17,\n",
              "        17,  17,  17,  25,  17,  17,  17,  17,  17,  17,  13,  17,  25,\n",
              "        25,  41,  25,  18,  18,  72,  18,  43,  43,  43,  72,  72,  43,\n",
              "       129,  72,  43,  72, 129,  43,  72,  72,  41,  72,  72,  72,  72,\n",
              "        41,  43,  41,  41,  41,  41,  17,  41,  25,  25,  25,  17,  17,\n",
              "        17,  17,  17,  17,  17,  17,  17,  25,  25,  25,  25,  40,  25,\n",
              "        17,  79,  41,  72,  72,  79,  72,  72,  72,  72,  72,  72,  72,\n",
              "        72,  72,  72,  72,  72,  72,  72,  72,  72,  72,  72,  72,  72,\n",
              "        72,  72,  72,  72,  72, 142,  41,  25,  17,  13,  25,  17,  17,\n",
              "        25,  17,  17,  17,  25,  17,  17,  17,  25,  25,  79,  40,  17,\n",
              "        13,  13,  13,  13,  13,  13,  17,  13,  13,  13,  13,  13,  13,\n",
              "        13,  13,  13,  13,  13,  13,  13,  13,  13,  13,  13,  13,  13,\n",
              "        13,  13,  13,  13,  13,  13,  13,  13,  13,  13,  18,  13,  13,\n",
              "        13,  13,  18,  13,  43,  13,  17,  41,  43,  43,  43,  43,  25,\n",
              "        43,  43,  13,  17,  17,  13,  13,  13,  13,  13,  13,  13,  13,\n",
              "        41,  13,  13,  43,  13,  13,  13,  13,  13,  13,  13,  13,  43,\n",
              "        43,  43,  43,  13,  13,  13,  18,  13,  13,  18,  18,  13,  13,\n",
              "        13,  13,  43,  43,  43,  13,  18,  41,  13,  41,  13,  17,  13,\n",
              "        13,  17,  17,  18,  17,  17,  13,  13,  18,  13,  13,  13,  13,\n",
              "        13,  13,  43,  13,  13,  13,  13,  43,  18,  43,  43,  13,  13,\n",
              "        43,  18,  41,  43,  41,  43,  43,  13,  13,  43,  43,  43,  13,\n",
              "        13,  13,  43,  13,  13,  43,  13,  18,  13,  13,  13,  17,  13])"
            ]
          },
          "metadata": {
            "tags": []
          },
          "execution_count": 20
        }
      ]
    },
    {
      "cell_type": "markdown",
      "metadata": {
        "id": "rb1xNhBN5BQZ"
      },
      "source": [
        "Finally, we are going to download a CSV file that contains our prediction, to load it into DrivenData and return the score of our model."
      ]
    },
    {
      "cell_type": "code",
      "metadata": {
        "id": "BZ8ihCxG5GVB"
      },
      "source": [
        "submission = pd.read_csv(\"submission_format.csv\", index_col=[0, 1, 2])\r\n",
        "\r\n",
        "submission.total_cases = final_model_prediction.astype(np.int64)\r\n",
        "submission.to_csv(\"result.csv\")"
      ],
      "execution_count": null,
      "outputs": []
    },
    {
      "cell_type": "markdown",
      "metadata": {
        "id": "evPxNE_55KRq"
      },
      "source": [
        "**And the result is:**\r\n",
        "\r\n",
        "*32.2332\r\n",
        "Woo! I scored 32.2332 on 'DengAI: Predicting Disease Spread'!*"
      ]
    }
  ]
}