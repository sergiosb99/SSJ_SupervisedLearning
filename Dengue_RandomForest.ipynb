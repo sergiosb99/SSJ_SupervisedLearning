{
  "nbformat": 4,
  "nbformat_minor": 0,
  "metadata": {
    "colab": {
      "name": "Dengue_RandomForest.ipynb",
      "provenance": [],
      "collapsed_sections": [],
      "toc_visible": true
    },
    "kernelspec": {
      "name": "python3",
      "display_name": "Python 3"
    }
  },
  "cells": [
    {
      "cell_type": "markdown",
      "metadata": {
        "id": "Ti5Wnz3cgkRD"
      },
      "source": [
        "# 0. Introduction\n",
        "\n",
        "We are going to use the data that we have been provided to study and try to predict the evolution of Dengue disease in the cities of **San Juan**, *Puerto Rico*, and **Iquitos**, *Peru*. More information in this [link](https://www.drivendata.org/competitions/44/dengai-predicting-disease-spread/).\n",
        "\n",
        "To begin our study, this notebook will be part of our baseline, where various algorithms with simple optimization will be used, with the aim of beginning to know how we could create robust models.\n"
      ]
    },
    {
      "cell_type": "markdown",
      "metadata": {
        "id": "Yo0x5dyH5b4N"
      },
      "source": [
        "# 1. Libraries\r\n",
        "\r\n",
        "Before starting any analysis we must ensure that the basic and general use libraries *(numpy, pandas, etc.)* are correctly imported. "
      ]
    },
    {
      "cell_type": "code",
      "metadata": {
        "id": "QcqAjsMIKluO"
      },
      "source": [
        "# Preprocessing\n",
        "from sklearn import preprocessing\n",
        "\n",
        "# Loading the data\n",
        "import pandas as pd\n",
        "import io\n",
        "from google.colab import files\n",
        "\n",
        "# Graphics display\n",
        "import seaborn as sns\n",
        "import matplotlib.pyplot as plt\n",
        "\n",
        "# Estimator and model selection\n",
        "from sklearn.model_selection import train_test_split\n",
        "from sklearn.ensemble import RandomForestRegressor\n",
        "\n",
        "# Others\n",
        "import numpy as np    \n",
        "from sklearn.metrics import mean_absolute_error "
      ],
      "execution_count": null,
      "outputs": []
    },
    {
      "cell_type": "markdown",
      "metadata": {
        "id": "fvxDPxPhheSW"
      },
      "source": [
        "# 2. Loading the data\r\n",
        "\r\n",
        "The first step is to upload all the CSV files that have been provided to us and that thanks to them we will obtain the data with which we are going to work. To do this, we will use the tools that Google Colab offers us when uploading files."
      ]
    },
    {
      "cell_type": "markdown",
      "metadata": {
        "id": "dZSaoCMRAq8m"
      },
      "source": [
        "## Preprocessing the data\n",
        "\n",
        "We transform the data in order to allow us the posterior use of the algorithms to build prediction models, for example, missing values, from categories to numbers, etc."
      ]
    },
    {
      "cell_type": "code",
      "metadata": {
        "id": "zr57uSH3SO82"
      },
      "source": [
        "# Make function to preprocess data\r\n",
        "def preprocess_data(data_path, labels_path=None):\r\n",
        "    # Load data and set index to city, year, weekofyear\r\n",
        "    df = pd.read_csv(data_path)\r\n",
        "    # Fill missing values\r\n",
        "    df.fillna(df.mean(), inplace=True)\r\n",
        "    lb = preprocessing.LabelBinarizer()\r\n",
        "\r\n",
        "    if labels_path:\r\n",
        "        labels = pd.read_csv(labels_path)\r\n",
        "        \r\n",
        "        labels['city'] = lb.fit_transform(labels['city'])\r\n",
        "    \r\n",
        "    df['city'] =  lb.fit_transform(df['city'])\r\n",
        "\r\n",
        "    selected_features = ['reanalysis_specific_humidity_g_per_kg', 'reanalysis_dew_point_temp_k', \r\n",
        "                 'station_avg_temp_c', 'station_min_temp_c']\r\n",
        "    df = df[selected_features]\r\n",
        "\r\n",
        "    if labels_path:\r\n",
        "        return df, labels\r\n",
        "    return df"
      ],
      "execution_count": null,
      "outputs": []
    },
    {
      "cell_type": "markdown",
      "metadata": {
        "id": "J54HkBp4STRz"
      },
      "source": [
        "We execute the newly compiled method, which will allow us to load and preprocess our data."
      ]
    },
    {
      "cell_type": "code",
      "metadata": {
        "id": "lN74ew6GSShd"
      },
      "source": [
        "df_features, df_labels = preprocess_data('dengue_features_train.csv', labels_path=\"dengue_labels_train.csv\")"
      ],
      "execution_count": null,
      "outputs": []
    },
    {
      "cell_type": "markdown",
      "metadata": {
        "id": "z6E92HOcSbFW"
      },
      "source": [
        "Finally, we also load the file with which we will carry out the final prediction, once our model is trained."
      ]
    },
    {
      "cell_type": "code",
      "metadata": {
        "id": "YUrvIsptSU7d"
      },
      "source": [
        "df_test_final = preprocess_data(\"dengue_features_test.csv\")"
      ],
      "execution_count": null,
      "outputs": []
    },
    {
      "cell_type": "markdown",
      "metadata": {
        "id": "aw1l4JTgpqws"
      },
      "source": [
        "# 3. Detaching the dataset\r\n",
        "\r\n",
        "To train the models that we make, it is necessary to separate our training dataset into two parts, one precisely to train the model, and another to check if our models are good."
      ]
    },
    {
      "cell_type": "code",
      "metadata": {
        "id": "eQjikOIh6qUI"
      },
      "source": [
        "X_train, X_test, y_train, y_test = train_test_split(df_features, df_labels['total_cases'], test_size=0.2, random_state=1)"
      ],
      "execution_count": null,
      "outputs": []
    },
    {
      "cell_type": "markdown",
      "metadata": {
        "id": "CUHC4riISksY"
      },
      "source": [
        "# 4. Execution of the algorithm\r\n",
        "\r\n",
        "This algorithm is a set of Decision Trees, where each tree at the end of its execution will offer a result, at the end of all trees, the result will be the average of all the results."
      ]
    },
    {
      "cell_type": "code",
      "metadata": {
        "id": "AVheBB5JK9QW"
      },
      "source": [
        "def RandomForest(X_train, X_test):\n",
        "    # Model Parametrization \n",
        "    regressor = RandomForestRegressor(n_estimators= 100, max_depth = 5, criterion='mae', random_state=0)\n",
        "    \n",
        "    # Model construction\n",
        "    regressor.fit(X_train, y_train)\n",
        "    \n",
        "    # Test\n",
        "    y_pred = regressor.predict(X_test)\n",
        "\n",
        "    # Plot\n",
        "    xx = np.arange(0,len(y_test),1)\n",
        "    plt.scatter(xx, y_test, c='r', label='data')\n",
        "    plt.plot(xx, y_pred, c='g', label='prediction')\n",
        "    plt.axis('tight')\n",
        "    plt.legend()\n",
        "    plt.title(\"Random Forests Regressor\")\n",
        "\n",
        "    plt.show()\n",
        "\n",
        "    mae = mean_absolute_error(y_test,y_pred)\n",
        "    print(\"Error Measure \",  mae, \"\\n\")\n",
        "    \n",
        "    return regressor"
      ],
      "execution_count": null,
      "outputs": []
    },
    {
      "cell_type": "markdown",
      "metadata": {
        "id": "GrCvs6-gTswF"
      },
      "source": [
        "We run the algorithm"
      ]
    },
    {
      "cell_type": "code",
      "metadata": {
        "colab": {
          "base_uri": "https://localhost:8080/",
          "height": 317
        },
        "id": "AVvHu0tHJYdz",
        "outputId": "1587537f-9109-449d-bc07-2570c48d68c9"
      },
      "source": [
        "model = RandomForest(X_train, X_test)"
      ],
      "execution_count": null,
      "outputs": [
        {
          "output_type": "display_data",
          "data": {
            "image/png": "[encoded data removed]",
            "text/plain": [
              "<Figure size 432x288 with 1 Axes>"
            ]
          },
          "metadata": {
            "tags": [],
            "needs_background": "light"
          }
        },
        {
          "output_type": "stream",
          "text": [
            "Error Measure  16.8926198630137 \n",
            "\n"
          ],
          "name": "stdout"
        }
      ]
    },
    {
      "cell_type": "markdown",
      "metadata": {
        "id": "2qbkQc-ztqIS"
      },
      "source": [
        "## Submission result\r\n",
        "\r\n",
        "Now, we are going to test our model with the data provided to us in the dengue_features_test.csv file to predict dengue cases for the weeks proposed in said file.\r\n",
        "\r\n"
      ]
    },
    {
      "cell_type": "code",
      "metadata": {
        "id": "eg9dJjp484P_",
        "colab": {
          "base_uri": "https://localhost:8080/"
        },
        "outputId": "bca1acc0-e9cf-42c5-a386-f1883683243c"
      },
      "source": [
        "final_model_prediction = model.predict(df_test_final)\r\n",
        "\r\n",
        "# Round the result and cast to int\r\n",
        "y = np.rint(final_model_prediction)\r\n",
        "y = y.astype(int)\r\n",
        "res = np.hstack(y)\r\n",
        "\r\n",
        "res"
      ],
      "execution_count": null,
      "outputs": [
        {
          "output_type": "execute_result",
          "data": {
            "text/plain": [
              "array([ 6, 15, 27, 13, 15, 11, 18, 18, 19, 21, 15, 20, 20, 22, 22, 31, 24,\n",
              "       31, 48, 32, 25, 18, 21, 19, 17, 16, 20, 20, 16, 17, 13, 11, 14, 11,\n",
              "       14,  9, 14, 17, 13, 18, 15, 16, 14, 13, 14, 14, 15, 12, 12, 17, 13,\n",
              "        8,  8, 10,  7, 12,  9, 13,  8, 20, 29, 40, 26, 38, 29, 29, 28, 26,\n",
              "       22, 31, 35, 25, 24, 21, 34, 32, 41, 30, 26, 16, 14, 21, 18, 28, 21,\n",
              "       31, 17,  9, 20, 13, 31, 21, 16, 14, 31, 10, 24, 20, 19, 28, 29,  9,\n",
              "       15,  9, 17, 21, 14, 22, 19, 30, 35, 27, 19, 21, 48, 58, 22, 21, 29,\n",
              "       53, 30, 68, 47, 52, 30, 29, 23, 23, 32, 23, 21, 20, 11, 13, 15, 13,\n",
              "       17, 20, 14, 13, 14, 16, 16, 17, 15, 15, 15, 16, 14, 14, 16, 15, 14,\n",
              "       14, 15, 12, 12, 21, 14,  6, 17, 20, 13, 25, 34, 23, 20, 26, 19, 27,\n",
              "       22, 27, 27, 34, 21, 22, 30, 19, 21, 28, 19, 20, 13, 22, 18, 17, 26,\n",
              "       21, 13, 17, 15, 13, 16, 16, 16, 18, 18, 16, 15, 18, 15, 13, 13, 13,\n",
              "       12, 10,  8,  5, 10, 15,  6, 11,  9, 23, 24, 34, 33, 33, 30, 20, 24,\n",
              "       25, 21, 22, 26, 29, 21, 20, 38, 39, 41, 24, 22, 27, 22, 32, 21, 20,\n",
              "       19, 18, 21,  6, 16,  6, 15, 15, 15, 16, 18, 14, 15, 15,  6, 15, 16,\n",
              "        7, 11, 20, 13,  7, 12, 10,  8,  2, 12, 12,  9, 12,  4, 13,  9,  8,\n",
              "       17,  4,  8, 14, 25, 29, 43, 24, 18,  9, 42, 26, 21,  9,  4, 16,  9,\n",
              "       13,  6,  7, 10,  9,  8,  8,  9,  9,  8,  8,  9, 17,  5,  8,  8,  9,\n",
              "        4,  8,  7,  3,  6,  2,  3,  3,  4,  6,  5,  7, 10,  6, 15,  8,  6,\n",
              "        8,  7, 10,  6, 17, 29, 10, 23, 23,  8, 20, 22, 12,  8,  8, 19,  5,\n",
              "        7,  8,  7,  8, 16, 11,  8,  4, 10,  3,  6,  9,  3,  9,  8,  8,  8,\n",
              "        3,  7,  5,  7, 14, 15,  8,  6, 16, 12, 20, 16,  3, 10,  6, 15,  5,\n",
              "        9, 18,  6,  8,  6, 20, 23, 12, 23, 21, 20,  9, 12, 22, 24, 27, 12,\n",
              "        6,  6,  8,  8, 13,  9,  8,  8,  7, 33,  9, 25,  9,  9, 21,  9, 10,\n",
              "       21,  7,  4,  8,  6,  3,  3,  7])"
            ]
          },
          "metadata": {
            "tags": []
          },
          "execution_count": 23
        }
      ]
    },
    {
      "cell_type": "markdown",
      "metadata": {
        "id": "NqiWtFm6ImA9"
      },
      "source": [
        "Finally, we are going to download a CSV file that contains our prediction, to load it into DrivenData and return the score of our model.\n"
      ]
    },
    {
      "cell_type": "code",
      "metadata": {
        "id": "b4tSsUpDDNbJ"
      },
      "source": [
        "submission = pd.read_csv(\"submission_format.csv\", index_col=[0, 1, 2])\n",
        "\n",
        "submission.total_cases = final_model_prediction.astype(np.int64)\n",
        "submission.to_csv(\"result.csv\")"
      ],
      "execution_count": null,
      "outputs": []
    },
    {
      "cell_type": "markdown",
      "metadata": {
        "id": "__VhckbVnaAY"
      },
      "source": [
        "**And the result is:**\n",
        "\n",
        "*27.1659\n",
        "Woo! I scored 27.1659 on 'DengAI: Predicting Disease Spread'!*"
      ]
    }
  ]
}