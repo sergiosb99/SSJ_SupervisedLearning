{
  "nbformat": 4,
  "nbformat_minor": 0,
  "metadata": {
    "colab": {
      "name": "Dengue_RandomForest_algorithm.ipynb",
      "provenance": [],
      "collapsed_sections": [],
      "toc_visible": true,
      "include_colab_link": true
    },
    "kernelspec": {
      "name": "python3",
      "display_name": "Python 3"
    }
  },
  "cells": [
    {
      "cell_type": "markdown",
      "metadata": {
        "id": "view-in-github",
        "colab_type": "text"
      },
      "source": [
        "<a href=\"https://colab.research.google.com/github/sergiosb99/SSJ_SupervisedLearning/blob/Baseline/Dengue_RandomForest.ipynb\" target=\"_parent\"><img src=\"https://colab.research.google.com/assets/colab-badge.svg\" alt=\"Open In Colab\"/></a>"
      ]
    },
    {
      "cell_type": "markdown",
      "metadata": {
        "id": "Ti5Wnz3cgkRD"
      },
      "source": [
        "#  The Problem\n"
      ]
    },
    {
      "cell_type": "markdown",
      "metadata": {
        "id": "3wbjJ1PrhsIJ"
      },
      "source": [
        "We will use the data from the competition to predict the evolution of Dengue Disease in both Iquitos and San Juan. More information in [link](https://www.drivendata.org/competitions/44/dengai-predicting-disease-spread/)\n",
        "\n",
        "The objective of the exercise is to solve a regression problem and on the other hand to participate in a data competition.\n"
      ]
    },
    {
      "cell_type": "markdown",
      "metadata": {
        "id": "Yo0x5dyH5b4N"
      },
      "source": [
        "# Setting Preliminares"
      ]
    },
    {
      "cell_type": "markdown",
      "metadata": {
        "id": "EqpW7cG5n4HB"
      },
      "source": [
        "Before starting any analysis we must ensure that the basic and general use libraries (numpy, pandas, etc.) are correctly imported. "
      ]
    },
    {
      "cell_type": "code",
      "metadata": {
        "id": "QcqAjsMIKluO"
      },
      "source": [
        "# carga de datos\n",
        "import pandas as pd\n",
        "import io\n",
        "from google.colab import files\n",
        "# manipulación y visualización\n",
        "import seaborn as sns\n",
        "import matplotlib.pyplot as plt\n",
        "\n",
        "#Preprocessing\n",
        "from sklearn import preprocessing\n",
        "from sklearn.preprocessing import MinMaxScaler, StandardScaler\n",
        "from sklearn.model_selection import train_test_split\n",
        "\n",
        "\n",
        "#Algoritmo regresion\n",
        "from sklearn.ensemble import RandomForestRegressor\n",
        "\n",
        "#Auxiliar\n",
        "import numpy as np    \n",
        "from sklearn.metrics import mean_absolute_error \n",
        "\n"
      ],
      "execution_count": null,
      "outputs": []
    },
    {
      "cell_type": "markdown",
      "metadata": {
        "id": "fvxDPxPhheSW"
      },
      "source": [
        "# Data Loading"
      ]
    },
    {
      "cell_type": "markdown",
      "metadata": {
        "id": "AygZwiVvg6WE"
      },
      "source": [
        "First we load the data into the environment with the functionalities provided by Google Colab"
      ]
    },
    {
      "cell_type": "markdown",
      "metadata": {
        "id": "dZSaoCMRAq8m"
      },
      "source": [
        "# Preprocessing\n",
        "\n",
        "We transform the data in order to allow us the posterior use of the algorithms to build prediction models, for example, missing values, from categories to numbers, ..."
      ]
    },
    {
      "cell_type": "code",
      "metadata": {
        "id": "zr57uSH3SO82"
      },
      "source": [
        "# make function to preprocess data\r\n",
        "def preprocess_data(data_path, labels_path=None):\r\n",
        "    # load data and set index to city, year, weekofyear\r\n",
        "    df = pd.read_csv(data_path)\r\n",
        "    \r\n",
        "    # fill missing values\r\n",
        "    # try instead using mean and median\r\n",
        "    df.fillna(df.mean(), inplace=True)\r\n",
        "\r\n",
        "    #df = df[np.notnull(df)]\r\n",
        "    #df = df.dropna()\r\n",
        "    lb = preprocessing.LabelBinarizer()\r\n",
        "    # add labels to dataframe\r\n",
        "    if labels_path:\r\n",
        "        labels = pd.read_csv(labels_path)\r\n",
        "        \r\n",
        "        labels['city'] = lb.fit_transform(labels['city'])\r\n",
        "        #df = df.join(labels)\r\n",
        "    \r\n",
        "    df['city'] =  lb.fit_transform(df['city'])\r\n",
        "\r\n",
        "    selected_features = ['reanalysis_specific_humidity_g_per_kg', 'reanalysis_dew_point_temp_k', \r\n",
        "                 'station_avg_temp_c', 'station_min_temp_c']\r\n",
        "    df = df[selected_features]\r\n",
        "\r\n",
        "#sj_labels.head()\r\n",
        "    if labels_path:\r\n",
        "        return df, labels\r\n",
        "    return df"
      ],
      "execution_count": null,
      "outputs": []
    },
    {
      "cell_type": "code",
      "metadata": {
        "id": "lN74ew6GSShd"
      },
      "source": [
        "df_features, df_labels  = preprocess_data('dengue_features_train.csv', labels_path=\"dengue_labels_train.csv\")"
      ],
      "execution_count": null,
      "outputs": []
    },
    {
      "cell_type": "code",
      "metadata": {
        "id": "YUrvIsptSU7d"
      },
      "source": [
        "#load final test data\r\n",
        "df_test_final = preprocess_data(\"dengue_features_test.csv\")"
      ],
      "execution_count": null,
      "outputs": []
    },
    {
      "cell_type": "markdown",
      "metadata": {
        "id": "nZCwFH7_pngM"
      },
      "source": [
        "We will see the correlation matrix"
      ]
    },
    {
      "cell_type": "code",
      "metadata": {
        "colab": {
          "base_uri": "https://localhost:8080/",
          "height": 465
        },
        "id": "u1OacD01o3ZE",
        "outputId": "b31e5d56-aa87-4276-c893-a3b63d285d67"
      },
      "source": [
        "mask = np.zeros_like(df_features.corr())\n",
        "mask[np.triu_indices_from(mask)] = True\n",
        "\n",
        "#sns.set()\n",
        "sns.heatmap(df_features.corr(),xticklabels=df_features.corr().columns,yticklabels=df_features.corr().columns, mask= mask,square=True, annot=False)"
      ],
      "execution_count": null,
      "outputs": [
        {
          "output_type": "execute_result",
          "data": {
            "text/plain": [
              "<matplotlib.axes._subplots.AxesSubplot at 0x7ffbb2800208>"
            ]
          },
          "metadata": {
            "tags": []
          },
          "execution_count": 5
        },
        {
          "output_type": "display_data",
          "data": {
            "image/png": "[encoded data removed]",
            "text/plain": [
              "<Figure size 432x288 with 2 Axes>"
            ]
          },
          "metadata": {
            "tags": [],
            "needs_background": "light"
          }
        }
      ]
    },
    {
      "cell_type": "markdown",
      "metadata": {
        "id": "Pk1amwRNvvYA"
      },
      "source": [
        "You have to select features, they can be all, but that is usually not a good idea, so here we will leave some selected."
      ]
    },
    {
      "cell_type": "code",
      "metadata": {
        "id": "gZWB80d9WJTg"
      },
      "source": [
        "#scaler = StandardScaler()  #@param [\"MinMaxScaler()\", \"StandardScaler()\"] {type:\"raw\"}\r\n",
        "#df_datanorm = scaler.fit_transform(df_features)"
      ],
      "execution_count": null,
      "outputs": []
    },
    {
      "cell_type": "markdown",
      "metadata": {
        "id": "aw1l4JTgpqws"
      },
      "source": [
        "Now we are going to train the model with the training data"
      ]
    },
    {
      "cell_type": "code",
      "metadata": {
        "id": "eQjikOIh6qUI"
      },
      "source": [
        "X_train, X_test, y_train, y_test = train_test_split(df_features, df_labels['total_cases'], test_size=0.2, random_state=1)"
      ],
      "execution_count": null,
      "outputs": []
    },
    {
      "cell_type": "code",
      "metadata": {
        "id": "AVheBB5JK9QW"
      },
      "source": [
        "def RandomForest(X_train, X_test):\n",
        "    #1.1 Model Parametrization \n",
        "    regressor = RandomForestRegressor(n_estimators= 100, max_depth = 5, criterion='mae', random_state=0)\n",
        "    #1.2 Model construction\n",
        "    regressor.fit(X_train, y_train)\n",
        "    # Test\n",
        "    y_pred = regressor.predict(X_test)\n",
        "    mae = mean_absolute_error(y_test,y_pred)\n",
        "    print (\"Error Measure \",  mae, \"\\n\")\n",
        "    xx = np.arange(0,len(y_test),1)\n",
        "    plt.scatter(xx, y_test, c='r', label='data')\n",
        "    plt.plot(xx, y_pred, c='g', label='prediction')\n",
        "    plt.axis('tight')\n",
        "    plt.legend()\n",
        "    plt.title(\"RandomForests Regressor\")\n",
        "\n",
        "    plt.show()\n",
        "    return regressor"
      ],
      "execution_count": null,
      "outputs": []
    },
    {
      "cell_type": "code",
      "metadata": {
        "colab": {
          "base_uri": "https://localhost:8080/",
          "height": 369
        },
        "id": "AVvHu0tHJYdz",
        "outputId": "e7a19886-1f84-4484-867b-800eeeb29b0d"
      },
      "source": [
        "model = RandomForest(X_train, X_test)"
      ],
      "execution_count": null,
      "outputs": [
        {
          "output_type": "stream",
          "text": [
            "Error Measure  16.8926198630137 \n",
            "\n"
          ],
          "name": "stdout"
        },
        {
          "output_type": "stream",
          "text": [
            "/usr/local/lib/python3.6/dist-packages/IPython/core/interactiveshell.py:2882: FutureWarning: arrays to stack must be passed as a \"sequence\" type such as list or tuple. Support for non-sequence iterables such as generators is deprecated as of NumPy 1.16 and will raise an error in the future.\n",
            "  exec(code_obj, self.user_global_ns, self.user_ns)\n"
          ],
          "name": "stderr"
        },
        {
          "output_type": "display_data",
          "data": {
            "image/png": "[encoded data removed]",
            "text/plain": [
              "<Figure size 432x288 with 1 Axes>"
            ]
          },
          "metadata": {
            "tags": [],
            "needs_background": "light"
          }
        }
      ]
    },
    {
      "cell_type": "markdown",
      "metadata": {
        "id": "2qbkQc-ztqIS"
      },
      "source": [
        "# Submission result"
      ]
    },
    {
      "cell_type": "markdown",
      "metadata": {
        "id": "HSXVdRUa--ZX"
      },
      "source": [
        "We generate the output file according to the Submission format"
      ]
    },
    {
      "cell_type": "markdown",
      "metadata": {
        "id": "YxzQici8RpSe"
      },
      "source": [
        "Once we have identified the best parameterization we will go on to make an execution of the model and we will graph its results.\n"
      ]
    },
    {
      "cell_type": "code",
      "metadata": {
        "id": "eg9dJjp484P_"
      },
      "source": [
        "final_model_prediction = model.predict(df_test_final)"
      ],
      "execution_count": null,
      "outputs": []
    },
    {
      "cell_type": "markdown",
      "metadata": {
        "id": "F88F_Otb-lEu"
      },
      "source": [
        "1. We carry out the prediction on the test."
      ]
    },
    {
      "cell_type": "markdown",
      "metadata": {
        "id": "PrHTXzLW1eaR"
      },
      "source": [
        "Finally we try to visualize how our prediction has turned out with reality."
      ]
    },
    {
      "cell_type": "code",
      "metadata": {
        "id": "QR9j8aQI-9yc",
        "colab": {
          "base_uri": "https://localhost:8080/"
        },
        "outputId": "96107c69-6308-41fe-e53d-14a437b62df3"
      },
      "source": [
        "# round the result and cast to int\n",
        "y = np.rint(final_model_prediction) # round\n",
        "y = y.astype(int) # cast to int\n",
        "res = np.hstack(y)\n",
        "\n",
        "res"
      ],
      "execution_count": null,
      "outputs": [
        {
          "output_type": "execute_result",
          "data": {
            "text/plain": [
              "array([ 11,  16,  14,  24,  18,  33,  15,  26,  24,  24,  19,  37,  27,\n",
              "        23,  36,  36,  26,  36,  74,  45,  38,  16,   9,  24,  16,  21,\n",
              "        29,  29,  23,  26,  16,  14,  15,  10,  16,   9,  16,  15,  15,\n",
              "        14,  15,  14,  14,  14,  15,  14,  14,  14,  14,  14,  12,  10,\n",
              "        10,  14,  56,  16,  28,  19,  20,  23,  35,  73,  29,  43,  32,\n",
              "        36,  44,  29,  34,  46,  40,  31,  27,  27,  44,  40,  44,  29,\n",
              "        31,  28,  15,  26,  25,  21,  15,  13,  13,   9,  12,  14,  21,\n",
              "        26,  17,  10,  28,  11,  19,  15,  14,   9,  26,  11,  15,  23,\n",
              "        25,  16,  16,  23,  28,  85,  45,  32,  30,  37,  97,  97,  40,\n",
              "        27,  36,  97,  40, 102,  70,  86,  88,  34,  33,  41,  80,  28,\n",
              "        30,  14,  24,  19,  16,  15,  18,  22,  14,  15,  17,  15,  15,\n",
              "        14,  15,  15,  16,  15,  16,  15,  17,  14,  14,   6,  16,  15,\n",
              "        12,  31,  18,   7,  16,  25,  13,  35,  14,  25,  37,  35,  17,\n",
              "        90,  36,  36,  32,  93,  25,  29,  41,  21,  37,  35,  26,  24,\n",
              "        15,  17,  22,  20,  15,  17,  15,  25,  15,  16,  16,  14,  15,\n",
              "        17,  16,  16,  15,  17,  14,  15,  15,  15,  15,  15,  22,  12,\n",
              "         9,  31,  22,  24,  20,  33,  27,  63,  52,  45,  43,  22,  31,\n",
              "        34,  24,  34,  39,  45,  27,  37,  77,  75,  39,  27,  24,  40,\n",
              "        30,  37,  24,  24,  28,  21,  16,  11,  11,   7,  16,  15,  15,\n",
              "        16,  15,  15,  15,  15,   8,  14,  14,  12,  13,  21,  18,  11,\n",
              "         8,   4,   8,   2,   2,   3,   4,   3,   2,   3,   3,   3,   4,\n",
              "         4,   3,   4,   6,   7,   8,   6,   7,   7,   7,   8,   6,   3,\n",
              "         8,   4,   7,   4,   4,   3,   7,   7,   7,   7,   9,   8,   7,\n",
              "         9,   7,  15,   7,   7,   8,  10,  10,   9,   9,   8,   9,   8,\n",
              "         8,   8,   2,   3,   3,   3,   2,   4,   4,   3,   6,   6,   4,\n",
              "        13,   4,   7,  39,   8,   6,   7,   8,   8,   6,   6,   8,   9,\n",
              "         9,  10,   8,   3,   5,   8,  10,   7,   5,   3,  11,   7,   3,\n",
              "         7,   6,  16,   9,   9,   7,   2,   9,   6,   9,   4,  16,   2,\n",
              "         2,  15,  16,  19,   8,   3,   3,   3,   9,   2,   2,   3,   3,\n",
              "         3,   2,   7,   4,   7,   6,   6,  10,  11,  15,   9,   7,   7,\n",
              "        19,  10,  14,   8,  41,   7,   8,   8,   7,   8,   9,  33,   7,\n",
              "         6,   7,   7,   8,   3,   7,   7,   9,   6,   5,   6,   8,   6])"
            ]
          },
          "metadata": {
            "tags": []
          },
          "execution_count": 14
        }
      ]
    },
    {
      "cell_type": "markdown",
      "metadata": {
        "id": "NqiWtFm6ImA9"
      },
      "source": [
        "3. We build the output file\n"
      ]
    },
    {
      "cell_type": "code",
      "metadata": {
        "id": "b4tSsUpDDNbJ"
      },
      "source": [
        "submission = pd.read_csv(\"submission_format.csv\",\n",
        "                         index_col=[0, 1, 2])\n",
        "\n",
        "\n",
        "submission.total_cases = final_model_prediction.astype(np.int64)\n",
        "submission.to_csv(\"result.csv\")"
      ],
      "execution_count": null,
      "outputs": []
    },
    {
      "cell_type": "markdown",
      "metadata": {
        "id": "__VhckbVnaAY"
      },
      "source": [
        "Upload new submission\n",
        "Woohoo! We processed your submission!\n",
        "Your score for this submission is:\n",
        "\n",
        "27.1659\n",
        "Woo! I scored 27.1659 on 'DengAI: Predicting Disease Spread'!"
      ]
    }
  ]
}