{
  "nbformat": 4,
  "nbformat_minor": 0,
  "metadata": {
    "colab": {
      "name": "Dengue_KNN_algorithm.ipynb",
      "provenance": [],
      "collapsed_sections": [],
      "toc_visible": true,
      "include_colab_link": true
    },
    "kernelspec": {
      "name": "python3",
      "display_name": "Python 3"
    }
  },
  "cells": [
    {
      "cell_type": "markdown",
      "metadata": {
        "id": "view-in-github",
        "colab_type": "text"
      },
      "source": [
        "<a href=\"https://colab.research.google.com/github/sergiobm3/ESI_MachineLearning/blob/Supervised/Dengue_KNN_algorithm.ipynb\" target=\"_parent\"><img src=\"https://colab.research.google.com/assets/colab-badge.svg\" alt=\"Open In Colab\"/></a>"
      ]
    },
    {
      "cell_type": "markdown",
      "metadata": {
        "id": "Ti5Wnz3cgkRD"
      },
      "source": [
        "#  The Problem\n"
      ]
    },
    {
      "cell_type": "markdown",
      "metadata": {
        "id": "3wbjJ1PrhsIJ"
      },
      "source": [
        "We will use the data from the competition to predict the evolution of Dengue Disease in both Iquitos and San Juan. More information in [link](https://www.drivendata.org/competitions/44/dengai-predicting-disease-spread/)\n",
        "\n",
        "The objective of the exercise is to solve a regression problem and on the other hand to participate in a data competition.\n"
      ]
    },
    {
      "cell_type": "markdown",
      "metadata": {
        "id": "Yo0x5dyH5b4N"
      },
      "source": [
        "# Setting Preliminares"
      ]
    },
    {
      "cell_type": "markdown",
      "metadata": {
        "id": "EqpW7cG5n4HB"
      },
      "source": [
        "Before starting any analysis we must ensure that the basic and general use libraries (numpy, pandas, etc.) are correctly imported. "
      ]
    },
    {
      "cell_type": "code",
      "metadata": {
        "id": "QcqAjsMIKluO"
      },
      "source": [
        "# carga de datos\n",
        "import pandas as pd\n",
        "import io\n",
        "from google.colab import files\n",
        "# manipulación y visualización\n",
        "import seaborn as sns\n",
        "import matplotlib.pyplot as plt\n",
        "from sklearn.preprocessing import MinMaxScaler, StandardScaler, LabelBinarizer\n",
        "\n",
        "#Algoritmos regression\n",
        "from sklearn import neighbors\n",
        "from sklearn.model_selection import KFold\n",
        "\n",
        "#Auxiliar\n",
        "from sklearn.metrics import mean_absolute_error\n",
        "import numpy as np\n",
        "from sklearn.model_selection import train_test_split\n"
      ],
      "execution_count": 13,
      "outputs": []
    },
    {
      "cell_type": "markdown",
      "metadata": {
        "id": "fvxDPxPhheSW"
      },
      "source": [
        "# Data Loading"
      ]
    },
    {
      "cell_type": "markdown",
      "metadata": {
        "id": "AygZwiVvg6WE"
      },
      "source": [
        "First we load the data into the environment with the functionalities provided by Google Colab"
      ]
    },
    {
      "cell_type": "markdown",
      "metadata": {
        "id": "dZSaoCMRAq8m"
      },
      "source": [
        "# Preprocessing\n",
        "\n",
        "We transform the data in order to allow us the posterior use of the algorithms to build prediction models, for example, missing values, from categories to numbers, ..."
      ]
    },
    {
      "cell_type": "code",
      "metadata": {
        "id": "zr57uSH3SO82"
      },
      "source": [
        "# make function to preprocess data\r\n",
        "def preprocess_data(data_path, labels_path=None):\r\n",
        "    # load data and set index to city, year, weekofyear\r\n",
        "    df = pd.read_csv(data_path)\r\n",
        "    \r\n",
        "    # fill missing values\r\n",
        "    # try instead using mean and median\r\n",
        "    df.fillna(df.mean(), inplace=True)\r\n",
        "\r\n",
        "    #df = df[np.notnull(df)]\r\n",
        "    #df = df.dropna()\r\n",
        "    lb = LabelBinarizer()\r\n",
        "    # add labels to dataframe\r\n",
        "    if labels_path:\r\n",
        "        labels = pd.read_csv(labels_path)\r\n",
        "        \r\n",
        "        labels['city'] = lb.fit_transform(labels['city'])\r\n",
        "        #df = df.join(labels)\r\n",
        "    \r\n",
        "    df['city'] =  lb.fit_transform(df['city'])\r\n",
        "\r\n",
        "    selected_features = ['reanalysis_specific_humidity_g_per_kg', 'reanalysis_dew_point_temp_k', \r\n",
        "                 'station_avg_temp_c', 'station_min_temp_c']\r\n",
        "    df = df[selected_features]\r\n",
        "\r\n",
        "#sj_labels.head()\r\n",
        "    if labels_path:\r\n",
        "        return df, labels\r\n",
        "    return df"
      ],
      "execution_count": 14,
      "outputs": []
    },
    {
      "cell_type": "code",
      "metadata": {
        "id": "lN74ew6GSShd"
      },
      "source": [
        "df_features, df_labels  = preprocess_data('dengue_features_train.csv', labels_path=\"dengue_labels_train.csv\")"
      ],
      "execution_count": 4,
      "outputs": []
    },
    {
      "cell_type": "code",
      "metadata": {
        "id": "YUrvIsptSU7d"
      },
      "source": [
        "#load final test data\r\n",
        "df_test_final = preprocess_data(\"dengue_features_test.csv\")"
      ],
      "execution_count": 5,
      "outputs": []
    },
    {
      "cell_type": "markdown",
      "metadata": {
        "id": "nZCwFH7_pngM"
      },
      "source": [
        "We will see the correlation matrix"
      ]
    },
    {
      "cell_type": "code",
      "metadata": {
        "colab": {
          "base_uri": "https://localhost:8080/",
          "height": 465
        },
        "id": "u1OacD01o3ZE",
        "outputId": "1cca7c88-a24d-4660-dc92-3f3c9ff1c396"
      },
      "source": [
        "mask = np.zeros_like(df_features.corr())\n",
        "mask[np.triu_indices_from(mask)] = True\n",
        "\n",
        "#sns.set()\n",
        "sns.heatmap(df_features.corr(),xticklabels=df_features.corr().columns,yticklabels=df_features.corr().columns, mask= mask,square=True, annot=False)"
      ],
      "execution_count": 6,
      "outputs": [
        {
          "output_type": "execute_result",
          "data": {
            "text/plain": [
              "<matplotlib.axes._subplots.AxesSubplot at 0x7fa73e720780>"
            ]
          },
          "metadata": {
            "tags": []
          },
          "execution_count": 6
        },
        {
          "output_type": "display_data",
          "data": {
            "image/png": "[encoded data removed]",
            "text/plain": [
              "<Figure size 432x288 with 2 Axes>"
            ]
          },
          "metadata": {
            "tags": [],
            "needs_background": "light"
          }
        }
      ]
    },
    {
      "cell_type": "markdown",
      "metadata": {
        "id": "Pk1amwRNvvYA"
      },
      "source": [
        "You have to select features, they can be all, but that is usually not a good idea, so here we will leave some selected."
      ]
    },
    {
      "cell_type": "code",
      "metadata": {
        "id": "gZWB80d9WJTg"
      },
      "source": [
        "#scaler = StandardScaler()  #@param [\"MinMaxScaler()\", \"StandardScaler()\"] {type:\"raw\"}\r\n",
        "#df_datanorm = scaler.fit_transform(df_features)"
      ],
      "execution_count": null,
      "outputs": []
    },
    {
      "cell_type": "markdown",
      "metadata": {
        "id": "aw1l4JTgpqws"
      },
      "source": [
        "Now we are going to train the model with the training data"
      ]
    },
    {
      "cell_type": "code",
      "metadata": {
        "colab": {
          "base_uri": "https://localhost:8080/",
          "height": 300
        },
        "id": "1bplvG8xtS7y",
        "outputId": "0627ff5f-e1a9-4d2f-97f9-c5c550f5e86e"
      },
      "source": [
        "cv = KFold(n_splits = 5, shuffle = False) #\r\n",
        "#  https://scikit-learn.org/stable/modules/generated/sklearn.model_selection.TimeSeriesSplit.html \r\n",
        "\r\n",
        "df_features['total_cases'] = df_labels['total_cases']\r\n",
        "\r\n",
        "\r\n",
        "for i, weights in enumerate(['uniform', 'distance']):\r\n",
        "   total_scores = []\r\n",
        "   for n_neighbors in range(1,30):\r\n",
        "       fold_accuracy = []\r\n",
        "       knn = neighbors.KNeighborsRegressor(n_neighbors, weights=weights)\r\n",
        "       # verificar cada uno de los modelos con validación cruzada.\r\n",
        "       for train_fold, test_fold in cv.split(df_features):\r\n",
        "          # División train test aleatoria\r\n",
        "          f_train = df_features.loc[train_fold]\r\n",
        "          f_test = df_features.loc[test_fold]\r\n",
        "\r\n",
        "          # entrenamiento y ejecución del modelo\r\n",
        "          knn.fit( X = f_train.drop(['total_cases'], axis=1), \r\n",
        "                               y = f_train['total_cases'])\r\n",
        "          y_pred = knn.predict(X = f_test.drop(['total_cases'], axis = 1))\r\n",
        "\r\n",
        "          # evaluación del modelo\r\n",
        "          mae = mean_absolute_error(f_test['total_cases'], y_pred)\r\n",
        "          fold_accuracy.append(mae)\r\n",
        "       total_scores.append(sum(fold_accuracy)/len(fold_accuracy))\r\n",
        "   \r\n",
        "   plt.plot(range(1,len(total_scores)+1), total_scores, \r\n",
        "             marker='o', label=weights)\r\n",
        "   print ('Min Value ' +  weights + \" : \" +  str(min(total_scores)) +\" (\" + str(np.argmin(total_scores) + 1) + \")\")\r\n",
        "   plt.ylabel('MAE')      \r\n",
        "    \r\n",
        "\r\n",
        "plt.legend()\r\n",
        "plt.show()"
      ],
      "execution_count": 7,
      "outputs": [
        {
          "output_type": "stream",
          "text": [
            "Min Value uniform : 24.10740469801817 (25)\n",
            "Min Value distance : 24.128882042525298 (25)\n"
          ],
          "name": "stdout"
        },
        {
          "output_type": "display_data",
          "data": {
            "image/png": "[encoded data removed]",
            "text/plain": [
              "<Figure size 432x288 with 1 Axes>"
            ]
          },
          "metadata": {
            "tags": [],
            "needs_background": "light"
          }
        }
      ]
    },
    {
      "cell_type": "code",
      "metadata": {
        "id": "eQjikOIh6qUI"
      },
      "source": [
        "X_train, X_test, y_train, y_test = train_test_split(df_features, df_labels['total_cases'], test_size=0.5, random_state=1)"
      ],
      "execution_count": 8,
      "outputs": []
    },
    {
      "cell_type": "markdown",
      "metadata": {
        "id": "2qbkQc-ztqIS"
      },
      "source": [
        "# Submission result"
      ]
    },
    {
      "cell_type": "markdown",
      "metadata": {
        "id": "HSXVdRUa--ZX"
      },
      "source": [
        "We generate the output file according to the Submission format"
      ]
    },
    {
      "cell_type": "markdown",
      "metadata": {
        "id": "YxzQici8RpSe"
      },
      "source": [
        "Once we have identified the best parameterization we will go on to make an execution of the model and we will graph its results.\n"
      ]
    },
    {
      "cell_type": "code",
      "metadata": {
        "id": "PfAJi0hu7hx3"
      },
      "source": [
        "# x axis for plotting\r\n",
        "\r\n",
        "def KNN_Model(X_train, X_test):\r\n",
        "    # constructor\r\n",
        "    n_neighbors = 15 #@param {type:\"slider\", min:0, max:100, step:1}\r\n",
        "    weights = 'uniform'\r\n",
        "    knn = neighbors.KNeighborsRegressor(n_neighbors= n_neighbors, weights=weights) \r\n",
        "    # fit and predict\r\n",
        "\r\n",
        "    knn.fit( X = X_train.drop(['total_cases'], axis=1), y = X_train['total_cases'])\r\n",
        "    y_pred = knn.predict(X = X_test.drop(['total_cases'], axis = 1))\r\n",
        "    mae = mean_absolute_error(X_test['total_cases'], y_pred)\r\n",
        "    print('MAE', mae,'\\n')\r\n",
        "    xx = np.stack(i for i in range(X_test['total_cases'].shape[0]))\r\n",
        "    plt.plot(xx, X_test['total_cases'], c='r', label='data')\r\n",
        "    #plt.plot(xx, y, c='k', label='data')\r\n",
        "    plt.plot(xx, y_pred, c='g', label='prediction')\r\n",
        "    plt.axis('tight')\r\n",
        "    plt.legend()\r\n",
        "    plt.title(\"KNeighborsRegressor (k = %i, weights = '%s')\" % (n_neighbors,\r\n",
        "                                                                    weights))\r\n",
        "\r\n",
        "    plt.show()\r\n",
        "    return knn"
      ],
      "execution_count": 9,
      "outputs": []
    },
    {
      "cell_type": "code",
      "metadata": {
        "colab": {
          "base_uri": "https://localhost:8080/",
          "height": 370
        },
        "id": "3FjKZ3rhqFb9",
        "outputId": "f62f8f7e-8b7a-4ccb-d0f4-1b9fefa1facf"
      },
      "source": [
        "model = KNN_Model(X_train, X_test)"
      ],
      "execution_count": 10,
      "outputs": [
        {
          "output_type": "stream",
          "text": [
            "MAE 22.165201465201466 \n",
            "\n"
          ],
          "name": "stdout"
        },
        {
          "output_type": "stream",
          "text": [
            "/usr/local/lib/python3.6/dist-packages/IPython/core/interactiveshell.py:2882: FutureWarning: arrays to stack must be passed as a \"sequence\" type such as list or tuple. Support for non-sequence iterables such as generators is deprecated as of NumPy 1.16 and will raise an error in the future.\n",
            "  exec(code_obj, self.user_global_ns, self.user_ns)\n"
          ],
          "name": "stderr"
        },
        {
          "output_type": "display_data",
          "data": {
            "image/png": "[encoded data removed]",
            "text/plain": [
              "<Figure size 432x288 with 1 Axes>"
            ]
          },
          "metadata": {
            "tags": [],
            "needs_background": "light"
          }
        }
      ]
    },
    {
      "cell_type": "code",
      "metadata": {
        "id": "eg9dJjp484P_"
      },
      "source": [
        "final_model_predictions = model.predict(df_test_final)"
      ],
      "execution_count": 11,
      "outputs": []
    },
    {
      "cell_type": "markdown",
      "metadata": {
        "id": "F88F_Otb-lEu"
      },
      "source": [
        "1. We carry out the prediction on the test."
      ]
    },
    {
      "cell_type": "markdown",
      "metadata": {
        "id": "PrHTXzLW1eaR"
      },
      "source": [
        "Finally we try to visualize how our prediction has turned out with reality."
      ]
    },
    {
      "cell_type": "code",
      "metadata": {
        "id": "QR9j8aQI-9yc",
        "colab": {
          "base_uri": "https://localhost:8080/"
        },
        "outputId": "0f4bd969-d3a6-48d3-b0f1-3b3a3ed2a390"
      },
      "source": [
        "# round the result and cast to int\n",
        "y = np.rint(final_model_predictions) # round\n",
        "y = y.astype(int) # cast to int\n",
        "res = np.hstack(y)\n",
        "\n",
        "res"
      ],
      "execution_count": 12,
      "outputs": [
        {
          "output_type": "execute_result",
          "data": {
            "text/plain": [
              "array([ 17,  16,  22,  62,  16, 113,  32,  49,  42,  39,  31,  38,  32,\n",
              "        50,  48,  34,  28,  46,  66,  52,  60,  17,   7,  70,  19,  30,\n",
              "        62,  40,  27,  30,  22,  15,  20,  15,  20,  37,  17,  18,  23,\n",
              "        32,  20,  19,  13,  16,  21,  14,  16,  13,  16,  18,  12,  11,\n",
              "        16,  18,  19,  33,  40,  54,  66,  63,  77,  55,  34,  41,  26,\n",
              "        30,  47,  38,  40,  39,  42,  28,  44,  41,  48,  39,  42,  26,\n",
              "        47,  81,  19,  36,  31,  29,  27,  34,  16,  37,  31,  26,  28,\n",
              "        38,  22,  17,  14,  18,  27,  15,  16,  20,  19,  10,  19,  49,\n",
              "        40,  22,  27,  34,  53,  57,  58,  37,  31,  23,  55,  65,  42,\n",
              "        15,  40,  59,  41,  66,  55,  65,  63,  36,  37,  41,  50,  38,\n",
              "        81,  44,  35,  33,  20,  21,  22,  33,  18,  19,  24,  29,  23,\n",
              "        21,  18,  16,  17,  19,  16,  18,  17,  14,  18,  16,  16,  16,\n",
              "        13,  57,  17,   7,  12,  29,  18,  25,  19,  25,  55,  42,  20,\n",
              "        50,  52,  21,  54,  66,  18,  38,  49,  16,  54,  51,  37,  35,\n",
              "        34,  18,  21,  31,  29,  45,  23,  57,  18,  18,  16,  28,  23,\n",
              "        20,  14,  17,  19,  16,  18,  19,  20,  16,  19,  29,  12,  12,\n",
              "        15,  68,  47,  35,  32,  63,  43,  50,  42,  43,  46,  29,  41,\n",
              "        39,  40,  36,  53,  50,  46,  38,  52,  50,  38,  30,  30,  49,\n",
              "        31,  26,  35,  51,  43,  30,  17,  12,  17,  18,  17,  15,  19,\n",
              "        15,  19,  13,  16,  19,  14,  11,  14,  13,  17,  27,  29,  14,\n",
              "         9,   8,  18,   3,   6,   8,  10,   4,   5,   5,   5,   7,   6,\n",
              "         7,   6,   6,   6,   7,   9,   6,  11,  11,   6,  13,   7,   6,\n",
              "        18,   8,   7,   5,   5,   5,  15,  15,  11,  10,  17,  17,  13,\n",
              "        16,   9,  16,  13,  12,  14,  12,  37,  22,  37,  15,  40,   9,\n",
              "        19,  20,   3,   3,   5,   3,   2,   7,   3,   5,   4,   9,   7,\n",
              "        18,   3,   9,  26,  13,   6,   7,  15,  12,   9,   8,  18,  20,\n",
              "         7,  10,  16,   6,   8,  16,  16,  15,   8,   7,  17,  26,   3,\n",
              "         9,  10,  19,  14,  16,  10,  10,  16,  17,  17,   8,  10,   5,\n",
              "         6,  16,  11,  10,  16,  10,   4,   4,  10,   4,   2,   8,   3,\n",
              "         7,   7,  14,   6,  13,   7,   9,   9,  11,   8,  11,   9,   8,\n",
              "        20,  11,  49,  17,  22,   8,  18,  16,  10,  20,   7,  24,   8,\n",
              "         7,  15,   8,  17,   7,  10,   7,  18,  20,   6,  15,  11,  20])"
            ]
          },
          "metadata": {
            "tags": []
          },
          "execution_count": 12
        }
      ]
    },
    {
      "cell_type": "markdown",
      "metadata": {
        "id": "NqiWtFm6ImA9"
      },
      "source": [
        "3. We build the output file\n"
      ]
    },
    {
      "cell_type": "code",
      "metadata": {
        "id": "b4tSsUpDDNbJ"
      },
      "source": [
        "submission = pd.read_csv(\"submission_format.csv\",\n",
        "                         index_col=[0, 1, 2])\n",
        "\n",
        "\n",
        "submission.total_cases = final_model_predictions.astype(np.int64)\n",
        "submission.to_csv(\"result.csv\")"
      ],
      "execution_count": null,
      "outputs": []
    },
    {
      "cell_type": "markdown",
      "metadata": {
        "id": "__VhckbVnaAY"
      },
      "source": [
        "Upload new submission\n",
        "Woohoo! We processed your submission!\n",
        "Your score for this submission is:\n",
        "\n",
        "28.5385\n",
        "Woo! I scored 28.5385 on 'DengAI: Predicting Disease Spread'!"
      ]
    }
  ]
}