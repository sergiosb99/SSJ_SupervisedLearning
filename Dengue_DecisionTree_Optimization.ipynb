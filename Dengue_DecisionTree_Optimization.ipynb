{
  "nbformat": 4,
  "nbformat_minor": 0,
  "metadata": {
    "colab": {
      "name": "Dengue_DecisionTree_Optimization.ipynb",
      "provenance": [],
      "collapsed_sections": [],
      "toc_visible": true
    },
    "kernelspec": {
      "name": "python3",
      "display_name": "Python 3"
    }
  },
  "cells": [
    {
      "cell_type": "markdown",
      "metadata": {
        "id": "Ti5Wnz3cgkRD"
      },
      "source": [
        "# 0. Introduction\n",
        "\n",
        "We are going to use the data that we have been provided to study and try to predict the evolution of Dengue disease in the cities of **San Juan**, *Puerto Rico*, and **Iquitos**, *Peru*. More information in this [link](https://www.drivendata.org/competitions/44/dengai-predicting-disease-spread/).\n",
        "\n",
        "In this notebook, the Decision Tree algorithm studied in the baseline will be optimized, with the aim of finding the best parameterization of this algorithm, with the aim of continuing to search for better models.\n",
        "\n",
        "\n"
      ]
    },
    {
      "cell_type": "markdown",
      "metadata": {
        "id": "Yo0x5dyH5b4N"
      },
      "source": [
        "# 1. Libraries\r\n",
        "\r\n",
        "Before starting any analysis we must ensure that the basic and general use libraries *(numpy, pandas, etc.)* are correctly imported. "
      ]
    },
    {
      "cell_type": "code",
      "metadata": {
        "id": "QcqAjsMIKluO"
      },
      "source": [
        "# Preprocessing\n",
        "from sklearn import preprocessing\n",
        "\n",
        "# Loading the data\n",
        "import pandas as pd\n",
        "import io\n",
        "from google.colab import files\n",
        "\n",
        "# Graphics display\n",
        "import seaborn as sns\n",
        "import matplotlib.pyplot as plt\n",
        "\n",
        "# Estimator and model selection\n",
        "from sklearn.model_selection import train_test_split, GridSearchCV, RandomizedSearchCV\n",
        "from sklearn.tree import DecisionTreeRegressor\n",
        "\n",
        "# Others\n",
        "import numpy as np    \n",
        "from sklearn.metrics import mean_absolute_error "
      ],
      "execution_count": null,
      "outputs": []
    },
    {
      "cell_type": "markdown",
      "metadata": {
        "id": "fvxDPxPhheSW"
      },
      "source": [
        "# 2. Loading the data\r\n",
        "\r\n",
        "The first step is to upload all the CSV files that have been provided to us and that thanks to them we will obtain the data with which we are going to work. To do this, we will use the tools that Google Colab offers us when uploading files."
      ]
    },
    {
      "cell_type": "markdown",
      "metadata": {
        "id": "dZSaoCMRAq8m"
      },
      "source": [
        "## Preprocessing the data\n",
        "\n",
        "We transform the data in order to allow us the posterior use of the algorithms to build prediction models, for example, missing values, from categories to numbers, etc."
      ]
    },
    {
      "cell_type": "code",
      "metadata": {
        "id": "zr57uSH3SO82"
      },
      "source": [
        "# Make function to preprocess data\r\n",
        "def preprocess_data(data_path, labels_path=None):\r\n",
        "    # Load data and set index to city, year, weekofyear\r\n",
        "    df = pd.read_csv(data_path)\r\n",
        "    # Fill missing values\r\n",
        "    df.fillna(df.mean(), inplace=True)\r\n",
        "    lb = preprocessing.LabelBinarizer()\r\n",
        "    \r\n",
        "    if labels_path:\r\n",
        "        labels = pd.read_csv(labels_path)\r\n",
        "        \r\n",
        "        labels['city'] = lb.fit_transform(labels['city'])\r\n",
        "    \r\n",
        "    df['city'] =  lb.fit_transform(df['city'])\r\n",
        "\r\n",
        "    ## Coger variables, a la parte de mejoras. Esto se debe de borrar.\r\n",
        "    selected_features = ['reanalysis_specific_humidity_g_per_kg', 'reanalysis_dew_point_temp_k', \r\n",
        "                 'station_avg_temp_c', 'station_min_temp_c']\r\n",
        "    df = df[selected_features]\r\n",
        "\r\n",
        "    if labels_path:\r\n",
        "        return df, labels\r\n",
        "    return df"
      ],
      "execution_count": null,
      "outputs": []
    },
    {
      "cell_type": "markdown",
      "metadata": {
        "id": "Lle9Q95EHDog"
      },
      "source": [
        "We execute the newly compiled method, which will allow us to load and preprocess our data."
      ]
    },
    {
      "cell_type": "code",
      "metadata": {
        "id": "lN74ew6GSShd"
      },
      "source": [
        "df_features, df_labels = preprocess_data('dengue_features_train.csv', labels_path=\"dengue_labels_train.csv\")"
      ],
      "execution_count": null,
      "outputs": []
    },
    {
      "cell_type": "markdown",
      "metadata": {
        "id": "xC3XXbOoHF_I"
      },
      "source": [
        "Finally, we also load the file with which we will carry out the final prediction, once our model is trained."
      ]
    },
    {
      "cell_type": "code",
      "metadata": {
        "id": "YUrvIsptSU7d"
      },
      "source": [
        "df_test_final = preprocess_data(\"dengue_features_test.csv\")"
      ],
      "execution_count": null,
      "outputs": []
    },
    {
      "cell_type": "markdown",
      "metadata": {
        "id": "CedFqCvJA88K"
      },
      "source": [
        "# 3. Detaching the dataset\r\n",
        "\r\n",
        "To train the models that we make, it is necessary to separate our training dataset into two parts, one precisely to train the model, and another to check if our models are good."
      ]
    },
    {
      "cell_type": "code",
      "metadata": {
        "id": "eQjikOIh6qUI"
      },
      "source": [
        "X_train, X_test, y_train, y_test = train_test_split(df_features, df_labels['total_cases'], test_size=0.2, random_state=1)"
      ],
      "execution_count": null,
      "outputs": []
    },
    {
      "cell_type": "markdown",
      "metadata": {
        "id": "M-rFR08X-_g9"
      },
      "source": [
        "# 4. Hyperparameter optimization\r\n",
        "\r\n",
        "Previously, in the baseline, we have created models with simple optimization. That is, we have only created models with a combination of parameters. However, now, thanks to the *GridSearchCV* and *RandomizedSearchCV* functions, we will be able to combine different values for the parameters of the estimators, so that it returns us the best possible model.\r\n",
        "\r\n",
        "The estimator with which we are going to work in the optimization is the following."
      ]
    },
    {
      "cell_type": "code",
      "metadata": {
        "id": "mZXK-tu0B-C_"
      },
      "source": [
        "est = DecisionTreeRegressor()"
      ],
      "execution_count": null,
      "outputs": []
    },
    {
      "cell_type": "markdown",
      "metadata": {
        "id": "4wspPeaJBKn6"
      },
      "source": [
        "## Grid Search\r\n",
        "\r\n",
        "Grind Search generates candidates from a grid of parameter values specified with the param_grid parameter."
      ]
    },
    {
      "cell_type": "code",
      "metadata": {
        "colab": {
          "base_uri": "https://localhost:8080/"
        },
        "id": "QPNp8yW-BKEr",
        "outputId": "cd0b4688-e335-4a31-f31f-0c2c4b76f85e"
      },
      "source": [
        "# We declare the variables to be hyperparameterized\r\n",
        "param = [{'criterion': ['mse', 'friedman_mse', 'mae'],\r\n",
        "          'splitter': ['best','random'],\r\n",
        "          'max_depth': [1,2,3]}]\r\n",
        "\r\n",
        "# Initialize the grid search\r\n",
        "grid = GridSearchCV(estimator = est, param_grid = param, cv = 5)\r\n",
        "\r\n",
        "# Train our model\r\n",
        "grid.fit(X_train,y_train)\r\n",
        "\r\n",
        "# We show the results\r\n",
        "print(\"Mejores parámetros: \")\r\n",
        "print(grid.best_params_)\r\n",
        "print(\"Puntuaciones: \")\r\n",
        "print(grid.cv_results_['mean_test_score'])"
      ],
      "execution_count": null,
      "outputs": [
        {
          "output_type": "stream",
          "text": [
            "Mejores parámetros: \n",
            "{'criterion': 'mse', 'max_depth': 1, 'splitter': 'best'}\n",
            "\n",
            "Puntuaciones: \n",
            "[ 0.08882628  0.02914758  0.0666918   0.07180394  0.04331881  0.06333754\n",
            "  0.08882628  0.02607044  0.0666918   0.05485769 -0.00934427  0.07202624\n",
            " -0.01037542 -0.07095444 -0.01100306 -0.04959328  0.00499657 -0.05016091]\n"
          ],
          "name": "stdout"
        }
      ]
    },
    {
      "cell_type": "markdown",
      "metadata": {
        "id": "SL-g732sKkWk"
      },
      "source": [
        "Now, we predict with the estimator with the best parameters."
      ]
    },
    {
      "cell_type": "code",
      "metadata": {
        "id": "vHXBRYAKKlWn"
      },
      "source": [
        "y_grid = grid.predict(X_test)"
      ],
      "execution_count": null,
      "outputs": []
    },
    {
      "cell_type": "code",
      "metadata": {
        "colab": {
          "base_uri": "https://localhost:8080/",
          "height": 299
        },
        "id": "qx0rcOB_KngT",
        "outputId": "33179314-72bc-40a6-8adc-f5aa6d0197f2"
      },
      "source": [
        "xx = np.arange(0,len(y_test),1)\r\n",
        "plt.plot(xx, y_test, c='r', label='data')\r\n",
        "plt.plot(xx, y_grid, c='g', label='prediction')\r\n",
        "plt.axis('tight')\r\n",
        "plt.legend()\r\n",
        "plt.title(\"Decision Tree Regressor\")\r\n",
        "\r\n",
        "plt.show()\r\n",
        "\r\n",
        "mae = mean_absolute_error(y_test, y_grid)\r\n",
        "print ('MAE', mae)\r\n"
      ],
      "execution_count": null,
      "outputs": [
        {
          "output_type": "display_data",
          "data": {
            "image/png": "[encoded data removed]",
            "text/plain": [
              "<Figure size 432x288 with 1 Axes>"
            ]
          },
          "metadata": {
            "tags": [],
            "needs_background": "light"
          }
        },
        {
          "output_type": "stream",
          "text": [
            "MAE 21.010780344498333\n"
          ],
          "name": "stdout"
        }
      ]
    },
    {
      "cell_type": "markdown",
      "metadata": {
        "id": "MVPboc5WDU72"
      },
      "source": [
        "### Submision Result\r\n",
        "\r\n",
        "Once we have identified the best parameterization we will go on to make an execution of the model and we will graph its results."
      ]
    },
    {
      "cell_type": "code",
      "metadata": {
        "colab": {
          "base_uri": "https://localhost:8080/"
        },
        "id": "Qh0YLWdJDhju",
        "outputId": "c890e1d3-0171-4b45-896a-e420db8dc075"
      },
      "source": [
        "final_model_prediction = grid.predict(df_test_final)\r\n",
        "\r\n",
        "# round the result and cast to int\r\n",
        "y = np.rint(final_model_prediction) # round\r\n",
        "y = y.astype(int) # cast to int\r\n",
        "res = np.hstack(y)\r\n",
        "\r\n",
        "res"
      ],
      "execution_count": null,
      "outputs": [
        {
          "output_type": "execute_result",
          "data": {
            "text/plain": [
              "array([17, 17, 17, 47, 47, 47, 47, 47, 47, 47, 47, 47, 47, 47, 47, 47, 47,\n",
              "       47, 47, 47, 47, 17, 17, 47, 17, 47, 47, 47, 47, 47, 17, 17, 17, 17,\n",
              "       17, 17, 17, 17, 17, 17, 17, 17, 17, 17, 17, 17, 17, 17, 17, 17, 17,\n",
              "       17, 17, 17, 47, 17, 47, 47, 47, 47, 47, 47, 47, 47, 47, 47, 47, 47,\n",
              "       47, 47, 47, 47, 47, 47, 47, 47, 47, 47, 47, 47, 17, 47, 47, 47, 47,\n",
              "       17, 17, 17, 17, 17, 17, 17, 17, 17, 17, 17, 17, 17, 17, 17, 47, 17,\n",
              "       17, 17, 47, 17, 47, 47, 47, 47, 47, 47, 47, 47, 47, 47, 47, 17, 47,\n",
              "       47, 47, 47, 47, 47, 47, 47, 47, 47, 47, 47, 47, 17, 47, 17, 17, 17,\n",
              "       17, 17, 17, 17, 17, 17, 17, 17, 17, 17, 17, 17, 17, 17, 17, 17, 17,\n",
              "       17, 17, 17, 17, 17, 17, 17, 17, 47, 17, 17, 17, 17, 47, 47, 17, 47,\n",
              "       47, 17, 47, 47, 17, 47, 47, 17, 47, 47, 47, 47, 47, 17, 17, 47, 47,\n",
              "       17, 17, 17, 17, 17, 17, 17, 17, 17, 17, 17, 17, 17, 17, 17, 17, 17,\n",
              "       17, 17, 47, 17, 17, 47, 17, 47, 47, 47, 47, 47, 47, 47, 47, 47, 47,\n",
              "       47, 47, 47, 47, 47, 47, 47, 47, 47, 47, 47, 47, 47, 47, 47, 47, 47,\n",
              "       47, 47, 47, 17, 17, 17, 17, 17, 17, 17, 17, 17, 17, 17, 17, 17, 17,\n",
              "       17, 17, 47, 47, 17, 17, 17, 17, 17, 17, 17, 17, 17, 17, 17, 17, 17,\n",
              "       17, 17, 17, 17, 17, 17, 17, 17, 17, 17, 17, 17, 17, 17, 17, 17, 17,\n",
              "       17, 17, 17, 17, 17, 17, 17, 17, 17, 17, 17, 17, 17, 17, 17, 17, 17,\n",
              "       17, 17, 17, 17, 17, 17, 17, 17, 17, 17, 17, 17, 17, 17, 17, 17, 17,\n",
              "       17, 17, 17, 17, 17, 17, 17, 17, 17, 17, 17, 17, 17, 17, 17, 17, 17,\n",
              "       17, 17, 17, 17, 17, 17, 17, 17, 17, 17, 17, 17, 17, 17, 17, 17, 17,\n",
              "       17, 17, 17, 17, 17, 17, 17, 17, 17, 17, 17, 17, 17, 17, 17, 17, 17,\n",
              "       17, 17, 17, 17, 17, 17, 17, 17, 17, 17, 17, 17, 17, 17, 17, 17, 17,\n",
              "       17, 17, 17, 47, 17, 17, 17, 17, 17, 17, 17, 17, 17, 17, 17, 17, 17,\n",
              "       17, 17, 17, 17, 17, 17, 17, 17])"
            ]
          },
          "metadata": {
            "tags": []
          },
          "execution_count": 10
        }
      ]
    },
    {
      "cell_type": "markdown",
      "metadata": {
        "id": "YYMFhhpmDhPN"
      },
      "source": [
        "We build the output file"
      ]
    },
    {
      "cell_type": "code",
      "metadata": {
        "id": "KYCIXjaqDzn3"
      },
      "source": [
        "submission = pd.read_csv(\"submission_format.csv\",\r\n",
        "                         index_col=[0, 1, 2])\r\n",
        "\r\n",
        "\r\n",
        "submission.total_cases = final_model_prediction.astype(np.int64)\r\n",
        "submission.to_csv(\"result_grid.csv\")"
      ],
      "execution_count": null,
      "outputs": []
    },
    {
      "cell_type": "markdown",
      "metadata": {
        "id": "GkCw18gBD07n"
      },
      "source": [
        "**And the result is:**\r\n",
        "\r\n",
        "*29.3942\r\n",
        "Woo! I scored 29.3942 on 'DengAI: Predicting Disease Spread'!*"
      ]
    },
    {
      "cell_type": "markdown",
      "metadata": {
        "id": "Rske9rldBLNo"
      },
      "source": [
        "## Randomized Search\r\n",
        "\r\n",
        "Randomized Search can sample a given number of candidates from a parameter space with a specified distribution.\r\n"
      ]
    },
    {
      "cell_type": "code",
      "metadata": {
        "colab": {
          "base_uri": "https://localhost:8080/"
        },
        "id": "907o0RzXBLzK",
        "outputId": "6d420d37-ef32-4474-f482-7bb5d163ce18"
      },
      "source": [
        "# We declare the variables to be hyperparameterized\r\n",
        "param = [{'criterion': ['mse', 'friedman_mse', 'mae'],\r\n",
        "          'splitter': ['best','random'],\r\n",
        "          'max_depth': [1,2,3]}]\r\n",
        "\r\n",
        "# Initialize the grid search\r\n",
        "random = RandomizedSearchCV(estimator = est, param_distributions = param, cv = 5)\r\n",
        "\r\n",
        "# Train our model\r\n",
        "random.fit(X_train,y_train)\r\n",
        "\r\n",
        "# We show the results\r\n",
        "print(\"Mejores parámetros: \")\r\n",
        "print(random.best_params_)\r\n",
        "print(\"Puntuaciones: \")\r\n",
        "print(random.cv_results_['mean_test_score'])"
      ],
      "execution_count": null,
      "outputs": [
        {
          "output_type": "stream",
          "text": [
            "Mejores parámetros: \n",
            "{'splitter': 'best', 'max_depth': 2, 'criterion': 'mse'}\n",
            "\n",
            "Puntuaciones: \n",
            "[ 0.02223811  0.0666918   0.04265406  0.0666918  -0.01100306  0.05480256\n",
            "  0.04476714 -0.01037542 -0.02990534  0.05890615]\n"
          ],
          "name": "stdout"
        }
      ]
    },
    {
      "cell_type": "markdown",
      "metadata": {
        "id": "xVlDfcgWFLSs"
      },
      "source": [
        "Now, we predict with the estimator with the best parameters."
      ]
    },
    {
      "cell_type": "code",
      "metadata": {
        "id": "Ctw1SIa2FO7R"
      },
      "source": [
        "y_random = random.predict(X_test)"
      ],
      "execution_count": null,
      "outputs": []
    },
    {
      "cell_type": "code",
      "metadata": {
        "colab": {
          "base_uri": "https://localhost:8080/",
          "height": 299
        },
        "id": "lslogh2pFTZA",
        "outputId": "4b289514-6ae1-463d-af6c-290ce30b9a8c"
      },
      "source": [
        "xx = np.arange(0,len(y_test),1)\r\n",
        "plt.plot(xx, y_test, c='r', label='data')\r\n",
        "plt.plot(xx, y_random, c='g', label='prediction')\r\n",
        "plt.axis('tight')\r\n",
        "plt.legend()\r\n",
        "plt.title(\"Decision Tree Regressor\")\r\n",
        "\r\n",
        "plt.show()\r\n",
        "\r\n",
        "mae = mean_absolute_error(y_test, y_random)\r\n",
        "print ('MAE', mae)"
      ],
      "execution_count": null,
      "outputs": [
        {
          "output_type": "display_data",
          "data": {
            "image/png": "[encoded data removed]",
            "text/plain": [
              "<Figure size 432x288 with 1 Axes>"
            ]
          },
          "metadata": {
            "tags": [],
            "needs_background": "light"
          }
        },
        {
          "output_type": "stream",
          "text": [
            "MAE 21.651977139276536\n"
          ],
          "name": "stdout"
        }
      ]
    },
    {
      "cell_type": "markdown",
      "metadata": {
        "id": "menaQw29FZWc"
      },
      "source": [
        "### Submision Result\r\n",
        "\r\n",
        "Once the best parameterization has been identified, we will carry out an execution of the model to make a prediction of the weeks that are proposed to us, and we will graph its results."
      ]
    },
    {
      "cell_type": "code",
      "metadata": {
        "colab": {
          "base_uri": "https://localhost:8080/"
        },
        "id": "mAuPXoYDFYk0",
        "outputId": "b45426c5-df66-4e13-9a1b-dcc5b820d6fd"
      },
      "source": [
        "final_model_prediction = random.predict(df_test_final)\r\n",
        "\r\n",
        "# Round the result and cast to int\r\n",
        "y = np.rint(final_model_prediction)\r\n",
        "y = y.astype(int)\r\n",
        "res = np.hstack(y)\r\n",
        "\r\n",
        "res"
      ],
      "execution_count": null,
      "outputs": [
        {
          "output_type": "execute_result",
          "data": {
            "text/plain": [
              "array([ 14,  25,  25,  45,  45,  45,  45,  45,  45,  45,  45,  45,  45,\n",
              "        45,  45,  45,  45,  45, 114,  45,  45,  25,  25,  45,  25,  45,\n",
              "        45,  45,  45,  45,  25,  14,  25,  14,  14,  25,  14,  25,  14,\n",
              "        14,  14,  14,  14,  14,  14,  14,  14,  14,  14,  14,  25,  25,\n",
              "        25,  25,  45,  25,  45,  45,  45,  45,  45,  45,  45,  45,  45,\n",
              "        45,  45,  45,  45,  45,  45,  45,  45,  45,  45,  45,  45,  45,\n",
              "        45,  45,  25,  45,  45,  45,  45,  25,  25,  25,  14,  14,  14,\n",
              "        25,  14,  14,  14,  25,  25,  14,  14,  25,  45,  25,  14,  25,\n",
              "        45,  25,  45,  45,  45, 114,  45,  45,  45,  45, 114, 114,  45,\n",
              "        25,  45, 114,  45, 114, 114, 114, 114,  45,  45,  45, 114,  45,\n",
              "        45,  25,  45,  25,  25,  14,  14,  25,  14,  25,  14,  14,  14,\n",
              "        14,  14,  14,  25,  14,  14,  14,  14,  14,  14,  14,  14,  25,\n",
              "        25,  25,  25,  14,  14,  45,  14,  25,  25,  25,  45,  45,  25,\n",
              "        45,  45,  25,  45, 114,  25,  45,  45,  25,  45,  45,  45,  45,\n",
              "        45,  25,  25,  45,  45,  25,  14,  25,  25,  25,  25,  14,  14,\n",
              "        14,  14,  14,  14,  14,  14,  14,  25,  25,  25,  25,  45,  25,\n",
              "        14,  45,  25,  45,  45,  45,  45,  45,  45,  45,  45,  45,  45,\n",
              "        45,  45,  45,  45,  45,  45,  45,  45,  45,  45,  45,  45,  45,\n",
              "        45,  45,  45,  45,  45,  45,  45,  25,  14,  14,  25,  14,  14,\n",
              "        25,  14,  14,  14,  25,  14,  14,  14,  25,  25,  45,  45,  14,\n",
              "        14,  14,  14,  14,  14,  14,  14,  14,  14,  14,  14,  14,  14,\n",
              "        14,  14,  14,  14,  14,  14,  14,  14,  14,  14,  14,  14,  14,\n",
              "        14,  14,  14,  14,  14,  14,  14,  14,  14,  14,  14,  14,  14,\n",
              "        14,  14,  14,  14,  25,  14,  14,  25,  25,  25,  25,  25,  25,\n",
              "        25,  25,  14,  14,  14,  14,  14,  14,  14,  14,  14,  14,  14,\n",
              "        25,  14,  14,  25,  14,  14,  14,  14,  14,  14,  14,  14,  25,\n",
              "        25,  25,  25,  14,  14,  14,  14,  14,  14,  14,  14,  14,  14,\n",
              "        14,  14,  25,  25,  25,  14,  14,  25,  14,  25,  14,  14,  14,\n",
              "        14,  14,  14,  14,  14,  14,  14,  14,  14,  14,  14,  14,  14,\n",
              "        14,  14,  25,  14,  14,  14,  14,  25,  14,  25,  25,  14,  14,\n",
              "        25,  14,  25,  25,  45,  25,  25,  14,  14,  25,  25,  25,  14,\n",
              "        14,  14,  25,  14,  14,  25,  14,  14,  14,  14,  14,  14,  14])"
            ]
          },
          "metadata": {
            "tags": []
          },
          "execution_count": 12
        }
      ]
    },
    {
      "cell_type": "markdown",
      "metadata": {
        "id": "2Cz8FgrnFhxZ"
      },
      "source": [
        "We build the output file"
      ]
    },
    {
      "cell_type": "code",
      "metadata": {
        "id": "JiftmYmPFhfo"
      },
      "source": [
        "submission = pd.read_csv(\"submission_format.csv\",index_col=[0, 1, 2])\r\n",
        "\r\n",
        "submission.total_cases = final_model_prediction.astype(np.int64)\r\n",
        "submission.to_csv(\"result_randomized.csv\")"
      ],
      "execution_count": null,
      "outputs": []
    },
    {
      "cell_type": "markdown",
      "metadata": {
        "id": "dK_wBLMgFiJT"
      },
      "source": [
        "**And the result is:**\r\n",
        "\r\n",
        "*27.9303\r\n",
        "Woo! I scored 27.9303 on 'DengAI: Predicting Disease Spread'!*"
      ]
    },
    {
      "cell_type": "markdown",
      "metadata": {
        "id": "dC_HiLhlZwCl"
      },
      "source": [
        "# 5. Conclusions\r\n",
        "\r\n",
        "In this case, with GridSearchCV we do not obtain a better model than the one we obtained with simple optimization, perhaps because our model has been over-learned.\r\n",
        "\r\n",
        "However, the model resulting from the RandomSearchCV has improved, therefore, in case of future improvements, we will work with this model."
      ]
    }
  ]
}