{
  "nbformat": 4,
  "nbformat_minor": 0,
  "metadata": {
    "colab": {
      "name": "Dengue_AdaBoost_Optimization.ipynb",
      "provenance": [],
      "collapsed_sections": [],
      "toc_visible": true
    },
    "kernelspec": {
      "name": "python3",
      "display_name": "Python 3"
    }
  },
  "cells": [
    {
      "cell_type": "markdown",
      "metadata": {
        "id": "Ti5Wnz3cgkRD"
      },
      "source": [
        "# 0. Introduction\n",
        "\n",
        "We are going to use the data that we have been provided to study and try to predict the evolution of Dengue disease in the cities of **San Jose**, *Puerto Rico*, and **Iquitos**, *Peru*. More information in this [link](https://www.drivendata.org/competitions/44/dengai-predicting-disease-spread/).\n",
        "\n",
        "In this notebook, the AdamBost algorithm studied in the baseline will be optimized, with the aim of finding the best parameterization of this algorithm, with the aim of continuing to search for better models.\n",
        "\n",
        "\n"
      ]
    },
    {
      "cell_type": "markdown",
      "metadata": {
        "id": "Yo0x5dyH5b4N"
      },
      "source": [
        "# 1. Libraries\r\n",
        "\r\n",
        "Before starting any analysis we must ensure that the basic and general use libraries *(numpy, pandas, etc.)* are correctly imported. "
      ]
    },
    {
      "cell_type": "code",
      "metadata": {
        "id": "QcqAjsMIKluO"
      },
      "source": [
        "# Preprocessing\n",
        "from sklearn import preprocessing\n",
        "\n",
        "# Loading the data\n",
        "import pandas as pd\n",
        "import io\n",
        "from google.colab import files\n",
        "\n",
        "# Graphics display\n",
        "import seaborn as sns\n",
        "import matplotlib.pyplot as plt\n",
        "\n",
        "# Estimator and model selection\n",
        "from sklearn.model_selection import train_test_split, GridSearchCV, RandomizedSearchCV\n",
        "from sklearn.ensemble import AdaBoostRegressor\n",
        "from sklearn.tree import DecisionTreeRegressor\n",
        "\n",
        "# Others\n",
        "import numpy as np    \n",
        "from sklearn.metrics import mean_absolute_error "
      ],
      "execution_count": 1,
      "outputs": []
    },
    {
      "cell_type": "markdown",
      "metadata": {
        "id": "fvxDPxPhheSW"
      },
      "source": [
        "# 2. Loading the data\r\n",
        "\r\n",
        "The first step is to upload all the CSV files that have been provided to us and that thanks to them we will obtain the data with which we are going to work. To do this, we will use the tools that Google Colab offers us when uploading files."
      ]
    },
    {
      "cell_type": "markdown",
      "metadata": {
        "id": "dZSaoCMRAq8m"
      },
      "source": [
        "## Preprocessing the data\n",
        "\n",
        "We transform the data in order to allow us the posterior use of the algorithms to build prediction models, for example, missing values, from categories to numbers, etc."
      ]
    },
    {
      "cell_type": "code",
      "metadata": {
        "id": "zr57uSH3SO82"
      },
      "source": [
        "# Make function to preprocess data\r\n",
        "def preprocess_data(data_path, labels_path=None):\r\n",
        "    # Load data and set index to city, year, weekofyear\r\n",
        "    df = pd.read_csv(data_path)\r\n",
        "    # Fill missing values\r\n",
        "    df.fillna(df.mean(), inplace=True)\r\n",
        "    lb = preprocessing.LabelBinarizer()\r\n",
        "    \r\n",
        "    if labels_path:\r\n",
        "        labels = pd.read_csv(labels_path)\r\n",
        "        \r\n",
        "        labels['city'] = lb.fit_transform(labels['city'])\r\n",
        "    \r\n",
        "    df['city'] =  lb.fit_transform(df['city'])\r\n",
        "\r\n",
        "    ## Coger variables, a la parte de mejoras. Esto se debe de borrar.\r\n",
        "    selected_features = ['reanalysis_specific_humidity_g_per_kg', 'reanalysis_dew_point_temp_k', \r\n",
        "                 'station_avg_temp_c', 'station_min_temp_c']\r\n",
        "    df = df[selected_features]\r\n",
        "\r\n",
        "    if labels_path:\r\n",
        "        return df, labels\r\n",
        "    return df"
      ],
      "execution_count": 2,
      "outputs": []
    },
    {
      "cell_type": "markdown",
      "metadata": {
        "id": "Lle9Q95EHDog"
      },
      "source": [
        "We execute the newly compiled method, which will allow us to load and preprocess our data."
      ]
    },
    {
      "cell_type": "code",
      "metadata": {
        "id": "lN74ew6GSShd"
      },
      "source": [
        "df_features, df_labels = preprocess_data('dengue_features_train.csv', labels_path=\"dengue_labels_train.csv\")"
      ],
      "execution_count": 3,
      "outputs": []
    },
    {
      "cell_type": "markdown",
      "metadata": {
        "id": "xC3XXbOoHF_I"
      },
      "source": [
        "Finally, we also load the file with which we will carry out the final prediction, once our model is trained."
      ]
    },
    {
      "cell_type": "code",
      "metadata": {
        "id": "YUrvIsptSU7d"
      },
      "source": [
        "df_test_final = preprocess_data(\"dengue_features_test.csv\")"
      ],
      "execution_count": 4,
      "outputs": []
    },
    {
      "cell_type": "markdown",
      "metadata": {
        "id": "CedFqCvJA88K"
      },
      "source": [
        "# 3. Detaching the dataset\r\n",
        "\r\n",
        "To train the models that we make, it is necessary to separate our training dataset into two parts, one precisely to train the model, and another to check if our models are good."
      ]
    },
    {
      "cell_type": "code",
      "metadata": {
        "id": "eQjikOIh6qUI"
      },
      "source": [
        "X_train, X_test, y_train, y_test = train_test_split(df_features, df_labels['total_cases'], test_size=0.2, random_state=1)"
      ],
      "execution_count": 5,
      "outputs": []
    },
    {
      "cell_type": "markdown",
      "metadata": {
        "id": "M-rFR08X-_g9"
      },
      "source": [
        "# 4. Hyperparameter optimization\r\n",
        "\r\n",
        "Previously, in the baseline, we have created models with simple optimization. That is, we have only created models with a combination of parameters. However, now, thanks to the *GridSearchCV* and *RandomizedSearchCV* functions, we will be able to combine different values for the parameters of the estimators, so that it returns us the best possible model.\r\n",
        "\r\n",
        "The estimator with which we are going to work in the optimization is the following."
      ]
    },
    {
      "cell_type": "code",
      "metadata": {
        "id": "mZXK-tu0B-C_"
      },
      "source": [
        "est = AdaBoostRegressor()"
      ],
      "execution_count": 6,
      "outputs": []
    },
    {
      "cell_type": "markdown",
      "metadata": {
        "id": "4wspPeaJBKn6"
      },
      "source": [
        "## Grid Search\r\n",
        "\r\n",
        "Grind Search generates candidates from a grid of parameter values specified with the param_grid parameter."
      ]
    },
    {
      "cell_type": "code",
      "metadata": {
        "colab": {
          "base_uri": "https://localhost:8080/"
        },
        "id": "QPNp8yW-BKEr",
        "outputId": "6391ac45-e367-40ae-dac7-ad7cd4d6de3c"
      },
      "source": [
        "# We declare the variables to be hyperparameterized\r\n",
        "param = [{'base_estimator': [DecisionTreeRegressor(max_depth = 1), DecisionTreeRegressor(max_depth = 2), DecisionTreeRegressor(max_depth = 3), DecisionTreeRegressor(max_depth = 4)],\r\n",
        "          'n_estimators': [50,100,150,200,250,300,450,500,550,600,650,700,750],\r\n",
        "          'learning_rate': [1,2,3],\r\n",
        "          'loss': ['linear','square','exponential']}]\r\n",
        "\r\n",
        "# Initialize the grid search\r\n",
        "grid = GridSearchCV(estimator = est, param_grid = param, cv = 5)\r\n",
        "\r\n",
        "# Train our model\r\n",
        "grid.fit(X_train,y_train)\r\n",
        "\r\n",
        "# We show the results\r\n",
        "print(\"Mejores parámetros: \")\r\n",
        "print(grid.best_params_)\r\n",
        "print()\r\n",
        "print(\"Puntuaciones: \")\r\n",
        "print(grid.cv_results_['mean_test_score'])"
      ],
      "execution_count": null,
      "outputs": [
        {
          "output_type": "stream",
          "text": [
            "Mejores parámetros: \n",
            "{'base_estimator': DecisionTreeRegressor(ccp_alpha=0.0, criterion='mse', max_depth=1,\n",
            "                      max_features=None, max_leaf_nodes=None,\n",
            "                      min_impurity_decrease=0.0, min_impurity_split=None,\n",
            "                      min_samples_leaf=1, min_samples_split=2,\n",
            "                      min_weight_fraction_leaf=0.0, presort='deprecated',\n",
            "                      random_state=None, splitter='best'), 'learning_rate': 1, 'loss': 'square', 'n_estimators': 700}\n",
            "\n",
            "Puntuaciones: \n",
            "[-1.10004404e-01 -6.26289208e-02 -1.19975707e-01 -2.64979787e-01\n",
            " -2.44193103e-01 -5.72765504e-02 -4.19000787e-01 -2.01232293e-01\n",
            " -8.77248534e-02 -2.19771610e-01 -3.11037546e-01 -1.80188438e-01\n",
            " -9.73875224e-02  7.75473135e-02  6.44128872e-02  9.68303295e-02\n",
            "  7.69074550e-02 -3.00189687e-01  8.54800538e-02  8.54896657e-02\n",
            " -2.60288449e-01  6.59336649e-02  7.33218597e-02  8.26385970e-02\n",
            "  9.93186956e-02 -8.04420703e-03 -1.26686912e+00 -2.75715954e+00\n",
            " -5.54687611e+00 -3.94135367e+00 -8.75638883e+00 -6.32484799e+00\n",
            " -7.95051560e+00 -9.87754694e+00 -9.95154950e+00 -3.79374895e+00\n",
            " -9.63157184e+00 -3.52682468e+00 -1.05051371e+01  7.53802656e-02\n",
            "  7.41712949e-02  8.68709793e-02  8.10616281e-02  9.14461544e-02\n",
            "  8.75791793e-02  7.73780187e-02  8.46306146e-02  6.38726004e-02\n",
            "  7.54860568e-02  8.39830257e-02  6.73891808e-02  5.94423754e-02\n",
            " -4.44135663e+00 -5.08565409e+00 -4.36529811e+00 -7.60340024e+00\n",
            " -7.35365160e+00 -6.68164739e+00 -3.68716994e+00 -5.21722848e+00\n",
            " -8.81636358e+00 -4.44841931e+00 -3.01034785e+00 -7.29404936e+00\n",
            " -6.94138869e+00 -3.81486846e+00 -8.21596142e+00 -1.17283234e+01\n",
            " -1.06725934e+01 -9.23966963e+00 -9.19967771e+00 -7.54797704e+00\n",
            " -9.23722734e+00 -1.07807222e+01 -1.14671946e+01 -1.10398357e+01\n",
            " -1.02173603e+01 -1.26156677e+01 -5.33509332e-02  6.78284807e-02\n",
            "  7.31175038e-02  7.02873397e-02  8.13562724e-02  8.66584862e-02\n",
            "  5.56145387e-02  8.01019200e-02  7.53419037e-02  1.02758358e-02\n",
            "  8.73308663e-02  7.98315428e-02  5.65133084e-02 -1.01679536e+01\n",
            " -6.94925111e-01 -5.50702457e-01 -1.68394590e+00 -1.02944779e+00\n",
            " -7.64098967e-01 -1.17138204e+00 -1.19293992e+00 -9.90370321e-01\n",
            " -9.85159207e-01 -9.22514931e-01 -8.91042352e-01 -6.36509592e-01\n",
            " -6.68189912e+00 -1.06674464e+01 -1.18722670e+01 -1.19077655e+01\n",
            " -1.18343799e+01 -8.94381524e+00 -1.11039599e+01 -9.64320189e+00\n",
            " -1.25306691e+01 -9.89021566e+00 -1.12312330e+01 -9.75710749e+00\n",
            " -1.24857381e+01 -1.13006058e-01 -1.88276231e-01 -1.50276092e-01\n",
            " -1.73988866e-01 -1.62978911e-01 -1.48652988e-01 -1.21391283e-01\n",
            " -1.72515406e-01 -1.56651897e-01 -1.50053213e-01 -3.25323939e-01\n",
            " -1.95511698e-01 -1.79330018e-01 -1.20352416e+00 -1.01374186e+00\n",
            " -2.44621649e+00 -2.60441455e+00 -1.83256554e+00 -1.18880422e+00\n",
            " -2.40919888e+00 -2.32437819e+00 -1.87538312e+00 -1.93469030e+00\n",
            " -2.89296479e+00 -2.68428618e+00 -1.24680284e+00 -2.95531083e+00\n",
            " -6.07462129e+00 -5.51048735e+00 -4.61079725e+00 -5.35412832e+00\n",
            " -5.63656503e+00 -5.54002011e+00 -4.73185778e+00 -7.59105501e+00\n",
            " -6.75142138e+00 -5.62870977e+00 -5.77949001e+00 -6.75911615e+00\n",
            "  8.73867528e-02 -1.70631306e-02  3.84248621e-02 -8.14114530e-02\n",
            " -4.60855641e-03  5.24796292e-02 -3.68890045e-01 -5.29366062e-02\n",
            "  3.29258674e-02 -6.29845271e-01  1.14397178e-02 -6.64326343e-02\n",
            "  5.74241853e-03 -1.57855671e+00 -5.40618272e-01 -1.05547559e+00\n",
            " -2.14236008e+00 -1.10669308e+00 -1.22668111e+00 -1.16943049e+00\n",
            " -2.27221122e+00 -2.39697245e-01 -2.05448496e+00 -5.62279684e-01\n",
            " -1.13341588e+00 -1.24533464e+00 -6.35694743e+00 -9.08502244e+00\n",
            " -7.40571809e+00 -7.55899451e+00 -8.78896816e+00 -9.55635781e+00\n",
            " -8.72218173e+00 -9.74580395e+00 -7.64526216e+00 -1.03097128e+01\n",
            " -8.54978785e+00 -8.95333294e+00 -8.68430781e+00 -2.94549960e+00\n",
            " -2.23326078e+00 -2.28496621e+00 -2.01987172e+00 -2.37754774e+00\n",
            " -1.58233003e+00 -2.15847808e+00 -1.83015082e+00 -1.74376035e+00\n",
            " -1.42334101e+00 -1.00780082e+00 -1.43563282e+00 -1.69144511e+00\n",
            " -9.12961660e+00 -1.32037503e+00 -7.77923172e-01 -6.29337686e-01\n",
            " -9.14063736e-01 -8.62675100e-01 -9.12459724e-01 -1.13234808e+00\n",
            " -8.54873817e-01 -7.83856409e-01 -1.71493995e+00 -6.94360417e-01\n",
            " -5.78791276e-01 -7.44497924e+00 -9.03422948e+00 -9.57260635e+00\n",
            " -7.93815217e+00 -9.72720862e+00 -1.00418441e+01 -9.17878445e+00\n",
            " -9.67549176e+00 -9.17945602e+00 -1.02644689e+01 -1.00420995e+01\n",
            " -1.05003375e+01 -9.25238312e+00 -5.31149721e-01 -6.29216026e-01\n",
            " -3.51715086e-01 -2.32694981e-01 -3.43423483e-01 -3.83340096e-01\n",
            " -3.89370679e-01 -7.81794414e-01 -3.53461867e-01 -6.36811902e-01\n",
            " -5.81322523e-01 -3.85814619e-01 -3.29436571e-01 -2.61032096e+00\n",
            " -4.50599587e+00 -3.99993428e+00 -4.01511328e+00 -4.40897202e+00\n",
            " -3.93891448e+00 -4.21509699e+00 -3.74606284e+00 -3.47662470e+00\n",
            " -2.15745152e+00 -4.96474729e+00 -3.78625088e+00 -3.16703283e+00\n",
            " -2.82740484e+00 -4.63909407e+00 -5.69277272e+00 -6.50913289e+00\n",
            " -5.59533565e+00 -6.68253952e+00 -7.34248153e+00 -7.38580809e+00\n",
            " -5.26389531e+00 -7.29429213e+00 -7.26669385e+00 -7.46416309e+00\n",
            " -7.22751691e+00 -1.60842442e+00 -2.08433121e+00 -8.68032029e-01\n",
            " -1.93475717e+00 -2.15950272e+00 -1.49107420e+00 -2.49134691e+00\n",
            " -1.71533501e+00 -1.84639718e+00 -1.49389120e+00 -7.65048087e-01\n",
            " -1.54574097e+00 -8.44554479e-01 -4.65020602e-01 -3.54656228e-01\n",
            " -3.66625339e-01 -3.56599701e-01 -6.16996540e-01 -2.30379584e-01\n",
            " -1.88635694e-01 -4.53938922e-01 -2.11370876e-01 -2.33727135e-01\n",
            " -2.10454412e-01 -5.85216609e-01 -1.60574606e-01 -4.43372847e+00\n",
            " -5.60180806e+00 -6.04180764e+00 -6.00257232e+00 -6.43011369e+00\n",
            " -6.47670933e+00 -6.80516613e+00 -6.54984817e+00 -6.58401838e+00\n",
            " -6.61718537e+00 -6.69324073e+00 -6.71727161e+00 -6.71692064e+00\n",
            " -1.56512555e+00 -1.24527476e+00 -1.46191154e+00 -1.10863283e+00\n",
            " -1.14749616e+00 -3.34240852e-01 -1.32734237e+00 -8.15625616e-01\n",
            " -1.07509287e+00 -2.60696234e-01 -1.78455853e+00 -1.42517830e+00\n",
            " -1.38761759e+00 -1.21861821e+00 -9.61521352e-01 -1.07535185e+00\n",
            " -1.83469092e+00 -7.36598769e-01 -8.29896577e-01 -1.02644261e+00\n",
            " -3.86895010e-01 -1.04791883e+00 -9.50316016e-01 -5.24844557e-01\n",
            " -4.71583807e-01 -1.48749321e+00 -3.95505870e+00 -4.80059135e+00\n",
            " -4.61453566e+00 -4.92282191e+00 -5.08842319e+00 -5.08806513e+00\n",
            " -5.01619575e+00 -4.98171500e+00 -4.94835350e+00 -4.94773494e+00\n",
            " -5.02764996e+00 -5.00526219e+00 -5.07494723e+00 -6.73049147e-01\n",
            " -8.49723436e-01 -1.59084182e+00 -9.22418565e-01 -8.00600699e-01\n",
            " -9.46911405e-01 -1.22670403e+00 -8.66941548e-01 -6.61420721e-01\n",
            " -1.10450952e+00 -1.19020745e+00 -1.46848005e+00 -8.13502554e-01\n",
            " -1.10839998e+00 -1.46683790e+00 -1.65801534e+00 -1.33585595e+00\n",
            " -1.76603464e+00 -1.71431576e+00 -1.89524837e+00 -1.71537705e+00\n",
            " -1.92155710e+00 -1.94673654e+00 -1.83240734e+00 -1.77960430e+00\n",
            " -1.51511022e+00 -1.16396803e+00 -1.70998348e+00 -2.20915143e+00\n",
            " -2.23164075e+00 -2.69650421e+00 -2.76625962e+00 -3.05104746e+00\n",
            " -3.13489341e+00 -3.29384118e+00 -3.16729789e+00 -3.00264274e+00\n",
            " -3.35615177e+00 -3.19002738e+00 -1.11098620e+00 -1.26852134e+00\n",
            " -1.02712620e+00 -1.13461748e+00 -1.17821009e+00 -9.83623456e-01\n",
            " -1.20260539e+00 -1.17450789e+00 -1.34087561e+00 -1.26181798e+00\n",
            " -1.13325488e+00 -1.23435499e+00 -1.15495390e+00 -1.81374770e-01\n",
            " -2.44743953e-01 -5.21037739e-01 -1.84430165e-01 -2.49991750e-01\n",
            " -8.25944744e-01 -3.01002846e-01 -1.92981523e+00 -2.86020226e-01\n",
            " -5.55121569e-01 -6.41280688e-01 -4.75052010e-01 -1.94285637e-01\n",
            " -1.50012954e+00 -1.53097209e+00 -1.90584594e+00 -1.81848063e+00\n",
            " -1.99695121e+00 -2.15341647e+00 -2.07733590e+00 -2.10911748e+00\n",
            " -2.19937244e+00 -2.20535678e+00 -2.02225451e+00 -2.13338055e+00\n",
            " -2.13707725e+00 -1.02916580e+00 -1.96435647e+00 -8.85635607e-01\n",
            " -5.73535993e-01 -1.97996598e+00 -4.31272222e+00 -6.39818906e-01\n",
            " -1.93265401e+00 -7.47291584e-01 -9.05005816e-01 -1.34268370e+00\n",
            " -2.64789323e+00 -9.60493009e-01 -7.04665921e+00 -9.55021130e-01\n",
            " -1.73404617e+00 -5.12280655e-01 -7.74996720e-01 -8.10538493e-01\n",
            " -1.82071519e+00 -1.51704646e+00 -8.50345481e-01 -5.24528287e-01\n",
            " -9.65895570e-01 -3.80329644e-01 -8.16970656e-01 -1.05187117e+00\n",
            " -1.20251973e+00 -1.20890088e+00 -1.04806736e+00 -1.17178579e+00\n",
            " -1.17234776e+00 -1.20107047e+00 -1.23485708e+00 -1.19133004e+00\n",
            " -1.17882197e+00 -1.15440127e+00 -1.22976748e+00 -1.23881581e+00]\n"
          ],
          "name": "stdout"
        }
      ]
    },
    {
      "cell_type": "markdown",
      "metadata": {
        "id": "SL-g732sKkWk"
      },
      "source": [
        "Now, we predict with the estimator with the best parameters."
      ]
    },
    {
      "cell_type": "code",
      "metadata": {
        "id": "vHXBRYAKKlWn"
      },
      "source": [
        "y_grid = grid.predict(X_test)"
      ],
      "execution_count": null,
      "outputs": []
    },
    {
      "cell_type": "code",
      "metadata": {
        "colab": {
          "base_uri": "https://localhost:8080/",
          "height": 356
        },
        "id": "qx0rcOB_KngT",
        "outputId": "fd93c9b8-78ae-4993-82fd-25e4e80ee805"
      },
      "source": [
        "xx = np.arange(0,len(y_test),1)\r\n",
        "plt.plot(xx, y_test, c='r', label='data')\r\n",
        "plt.plot(xx, y_grid, c='g', label='prediction')\r\n",
        "plt.axis('tight')\r\n",
        "plt.legend()\r\n",
        "plt.title(\"AdaBoost Regressor\")\r\n",
        "\r\n",
        "plt.show()\r\n",
        "\r\n",
        "mae = mean_absolute_error(y_test, y_grid)\r\n",
        "print ('MAE', mae)\r\n"
      ],
      "execution_count": null,
      "outputs": [
        {
          "output_type": "stream",
          "text": [
            "/usr/local/lib/python3.6/dist-packages/IPython/core/interactiveshell.py:2822: FutureWarning: arrays to stack must be passed as a \"sequence\" type such as list or tuple. Support for non-sequence iterables such as generators is deprecated as of NumPy 1.16 and will raise an error in the future.\n",
            "  if self.run_code(code, result):\n"
          ],
          "name": "stderr"
        },
        {
          "output_type": "display_data",
          "data": {
            "image/png": "[encoded data removed]",
            "text/plain": [
              "<Figure size 432x288 with 1 Axes>"
            ]
          },
          "metadata": {
            "tags": [],
            "needs_background": "light"
          }
        },
        {
          "output_type": "stream",
          "text": [
            "MAE 20.551410851393605\n"
          ],
          "name": "stdout"
        }
      ]
    },
    {
      "cell_type": "markdown",
      "metadata": {
        "id": "MVPboc5WDU72"
      },
      "source": [
        "### Submision Result\r\n",
        "\r\n",
        "Once we have identified the best parameterization we will go on to make an execution of the model and we will graph its results."
      ]
    },
    {
      "cell_type": "code",
      "metadata": {
        "colab": {
          "base_uri": "https://localhost:8080/"
        },
        "id": "Qh0YLWdJDhju",
        "outputId": "3e25246e-96e3-45d7-8991-7d23218e174f"
      },
      "source": [
        "final_model_prediction = grid.predict(df_test_final)\r\n",
        "\r\n",
        "# round the result and cast to int\r\n",
        "y = np.rint(final_model_prediction) # round\r\n",
        "y = y.astype(int) # cast to int\r\n",
        "res = np.hstack(y)\r\n",
        "\r\n",
        "res"
      ],
      "execution_count": null,
      "outputs": [
        {
          "output_type": "execute_result",
          "data": {
            "text/plain": [
              "array([16, 16, 16, 46, 46, 46, 46, 46, 46, 46, 46, 46, 46, 46, 46, 46, 46,\n",
              "       46, 46, 46, 46, 16, 16, 46, 16, 46, 46, 46, 46, 46, 16, 16, 16, 16,\n",
              "       16, 16, 16, 16, 16, 16, 16, 16, 16, 16, 16, 16, 16, 16, 16, 16, 16,\n",
              "       16, 16, 16, 46, 16, 46, 46, 46, 46, 46, 46, 46, 46, 46, 46, 46, 46,\n",
              "       46, 46, 46, 46, 46, 46, 46, 46, 46, 46, 46, 46, 16, 46, 46, 46, 46,\n",
              "       16, 16, 16, 16, 16, 16, 16, 16, 16, 16, 16, 16, 16, 16, 16, 46, 16,\n",
              "       16, 16, 46, 16, 46, 46, 46, 46, 46, 46, 46, 46, 46, 46, 46, 16, 46,\n",
              "       46, 46, 46, 46, 46, 46, 46, 46, 46, 46, 46, 46, 16, 46, 16, 16, 16,\n",
              "       16, 16, 16, 16, 16, 16, 16, 16, 16, 16, 16, 16, 16, 16, 16, 16, 16,\n",
              "       16, 16, 16, 16, 16, 16, 16, 16, 46, 16, 16, 16, 16, 46, 46, 16, 46,\n",
              "       46, 16, 46, 46, 16, 46, 46, 16, 46, 46, 46, 46, 46, 16, 16, 46, 46,\n",
              "       16, 16, 16, 16, 16, 16, 16, 16, 16, 16, 16, 16, 16, 16, 16, 16, 16,\n",
              "       16, 16, 46, 16, 16, 46, 16, 46, 46, 46, 46, 46, 46, 46, 46, 46, 46,\n",
              "       46, 46, 46, 46, 46, 46, 46, 46, 46, 46, 46, 46, 46, 46, 46, 46, 46,\n",
              "       46, 46, 46, 16, 16, 16, 16, 16, 16, 16, 16, 16, 16, 16, 16, 16, 16,\n",
              "       16, 16, 46, 46, 16, 16, 16, 16, 16, 16, 16, 16, 16, 16, 16, 16, 16,\n",
              "       16, 16, 16, 16, 16, 16, 16, 16, 16, 16, 16, 16, 16, 16, 16, 16, 16,\n",
              "       16, 16, 16, 16, 16, 16, 16, 16, 16, 16, 16, 16, 16, 16, 16, 16, 16,\n",
              "       16, 16, 16, 16, 16, 16, 16, 16, 16, 16, 16, 16, 16, 16, 16, 16, 16,\n",
              "       16, 16, 16, 16, 16, 16, 16, 16, 16, 16, 16, 16, 16, 16, 16, 16, 16,\n",
              "       16, 16, 16, 16, 16, 16, 16, 16, 16, 16, 16, 16, 16, 16, 16, 16, 16,\n",
              "       16, 16, 16, 16, 16, 16, 16, 16, 16, 16, 16, 16, 16, 16, 16, 16, 16,\n",
              "       16, 16, 16, 16, 16, 16, 16, 16, 16, 16, 16, 16, 16, 16, 16, 16, 16,\n",
              "       16, 16, 16, 46, 16, 16, 16, 16, 16, 16, 16, 16, 16, 16, 16, 16, 16,\n",
              "       16, 16, 16, 16, 16, 16, 16, 16])"
            ]
          },
          "metadata": {
            "tags": []
          },
          "execution_count": 10
        }
      ]
    },
    {
      "cell_type": "markdown",
      "metadata": {
        "id": "YYMFhhpmDhPN"
      },
      "source": [
        "We build the output file"
      ]
    },
    {
      "cell_type": "code",
      "metadata": {
        "id": "KYCIXjaqDzn3"
      },
      "source": [
        "submission = pd.read_csv(\"submission_format.csv\",\r\n",
        "                         index_col=[0, 1, 2])\r\n",
        "\r\n",
        "\r\n",
        "submission.total_cases = final_model_prediction.astype(np.int64)\r\n",
        "submission.to_csv(\"result_grid.csv\")"
      ],
      "execution_count": null,
      "outputs": []
    },
    {
      "cell_type": "markdown",
      "metadata": {
        "id": "GkCw18gBD07n"
      },
      "source": [
        "**And the result is:**\r\n",
        "\r\n",
        "*29.2284\r\n",
        "Woo! I scored 29.2284 on 'DengAI: Predicting Disease Spread'!*"
      ]
    },
    {
      "cell_type": "markdown",
      "metadata": {
        "id": "Rske9rldBLNo"
      },
      "source": [
        "## Randomized Search\r\n",
        "\r\n",
        "Randomized Search can sample a given number of candidates from a parameter space with a specified distribution.\r\n"
      ]
    },
    {
      "cell_type": "code",
      "metadata": {
        "colab": {
          "base_uri": "https://localhost:8080/"
        },
        "id": "907o0RzXBLzK",
        "outputId": "e7efc2ed-2a35-479b-ead4-75f80c2dbf59"
      },
      "source": [
        "# We declare the variables to be hyperparameterized\r\n",
        "param = [{'base_estimator': [DecisionTreeRegressor(max_depth = 1), DecisionTreeRegressor(max_depth = 2), DecisionTreeRegressor(max_depth = 3), DecisionTreeRegressor(max_depth = 4)],\r\n",
        "          'n_estimators': [50,100,150,200,250,300,450,500,550,600,650,700,750],\r\n",
        "          'learning_rate': [1,2,3],\r\n",
        "          'loss': ['linear','square','exponential']}]\r\n",
        "\r\n",
        "# Initialize the grid search\r\n",
        "random = RandomizedSearchCV(estimator = est, param_distributions = param, cv = 5)\r\n",
        "\r\n",
        "# Train our model\r\n",
        "random.fit(X_train,y_train)\r\n",
        "\r\n",
        "# We show the results\r\n",
        "print(\"Mejores parámetros: \")\r\n",
        "print(random.best_params_)\r\n",
        "print()\r\n",
        "print(\"Puntuaciones: \")\r\n",
        "print(random.cv_results_['mean_test_score'])"
      ],
      "execution_count": 7,
      "outputs": [
        {
          "output_type": "stream",
          "text": [
            "Mejores parámetros: \n",
            "{'n_estimators': 650, 'loss': 'linear', 'learning_rate': 1, 'base_estimator': DecisionTreeRegressor(ccp_alpha=0.0, criterion='mse', max_depth=1,\n",
            "                      max_features=None, max_leaf_nodes=None,\n",
            "                      min_impurity_decrease=0.0, min_impurity_split=None,\n",
            "                      min_samples_leaf=1, min_samples_split=2,\n",
            "                      min_weight_fraction_leaf=0.0, presort='deprecated',\n",
            "                      random_state=None, splitter='best')}\n",
            "\n",
            "Puntuaciones: \n",
            "[ 0.011728   -7.68292453 -0.31605034 -0.0400771  -0.65320524 -1.69031824\n",
            " -0.14461236 -3.91412437  0.08860598 -6.02131617]\n"
          ],
          "name": "stdout"
        }
      ]
    },
    {
      "cell_type": "markdown",
      "metadata": {
        "id": "xVlDfcgWFLSs"
      },
      "source": [
        "Now, we predict with the estimator with the best parameters."
      ]
    },
    {
      "cell_type": "code",
      "metadata": {
        "id": "Ctw1SIa2FO7R"
      },
      "source": [
        "y_random = random.predict(X_test)"
      ],
      "execution_count": 8,
      "outputs": []
    },
    {
      "cell_type": "code",
      "metadata": {
        "colab": {
          "base_uri": "https://localhost:8080/",
          "height": 299
        },
        "id": "lslogh2pFTZA",
        "outputId": "6601ea1e-0639-49aa-dc8d-63e1dcbbb20d"
      },
      "source": [
        "xx = np.arange(0,len(y_test),1)\r\n",
        "plt.plot(xx, y_test, c='r', label='data')\r\n",
        "plt.plot(xx, y_random, c='g', label='prediction')\r\n",
        "plt.axis('tight')\r\n",
        "plt.legend()\r\n",
        "plt.title(\"AdaBoost Regressor\")\r\n",
        "\r\n",
        "plt.show()\r\n",
        "\r\n",
        "mae = mean_absolute_error(y_test, y_random)\r\n",
        "print ('MAE', mae)"
      ],
      "execution_count": 9,
      "outputs": [
        {
          "output_type": "display_data",
          "data": {
            "image/png": "[encoded data removed]",
            "text/plain": [
              "<Figure size 432x288 with 1 Axes>"
            ]
          },
          "metadata": {
            "tags": [],
            "needs_background": "light"
          }
        },
        {
          "output_type": "stream",
          "text": [
            "MAE 35.8647476010853\n"
          ],
          "name": "stdout"
        }
      ]
    },
    {
      "cell_type": "markdown",
      "metadata": {
        "id": "menaQw29FZWc"
      },
      "source": [
        "### Submision Result\r\n",
        "\r\n",
        "Once the best parameterization has been identified, we will carry out an execution of the model to make a prediction of the weeks that are proposed to us, and we will graph its results."
      ]
    },
    {
      "cell_type": "code",
      "metadata": {
        "colab": {
          "base_uri": "https://localhost:8080/"
        },
        "id": "mAuPXoYDFYk0",
        "outputId": "90f62073-c1cb-4cde-8ff9-3125c5b4fd0a"
      },
      "source": [
        "final_model_prediction = random.predict(df_test_final)\r\n",
        "\r\n",
        "# Round the result and cast to int\r\n",
        "y = np.rint(final_model_prediction)\r\n",
        "y = y.astype(int)\r\n",
        "res = np.hstack(y)\r\n",
        "\r\n",
        "res"
      ],
      "execution_count": 10,
      "outputs": [
        {
          "output_type": "execute_result",
          "data": {
            "text/plain": [
              "array([ 25,  25,  25, 101, 101, 101, 101, 101, 101, 101, 101, 101, 101,\n",
              "       101, 101, 101, 101, 101, 101, 101, 101,  25,  25, 101,  25, 101,\n",
              "       101, 101, 101, 101,  25,  25,  25,  25,  25,  25,  25,  25,  25,\n",
              "        25,  25,  25,  25,  25,  25,  25,  25,  25,  25,  25,  25,  25,\n",
              "        25,  25, 101,  25, 101, 101, 101, 101, 101, 101, 101, 101, 101,\n",
              "       101, 101, 101, 101, 101, 101, 101, 101, 101, 101, 101, 101, 101,\n",
              "       101, 101,  25, 101, 101, 101, 101,  25,  25,  25,  25,  25,  25,\n",
              "        25,  25,  25,  25,  25,  25,  25,  25,  25, 101,  25,  25,  25,\n",
              "       101,  25, 101, 101, 101, 101, 101, 101, 101, 101, 101, 101, 101,\n",
              "        25, 101, 101, 101, 101, 101, 101, 101, 101, 101, 101, 101, 101,\n",
              "       101,  25, 101,  25,  25,  25,  25,  25,  25,  25,  25,  25,  25,\n",
              "        25,  25,  25,  25,  25,  25,  25,  25,  25,  25,  25,  25,  25,\n",
              "        25,  25,  25,  25,  25, 101,  25,  25,  25,  25, 101, 101,  25,\n",
              "       101, 101,  25, 101, 101,  25, 101, 101,  25, 101, 101, 101, 101,\n",
              "       101,  25,  25, 101, 101,  25,  25,  25,  25,  25,  25,  25,  25,\n",
              "        25,  25,  25,  25,  25,  25,  25,  25,  25,  25,  25, 101,  25,\n",
              "        25, 101,  25, 101, 101, 101, 101, 101, 101, 101, 101, 101, 101,\n",
              "       101, 101, 101, 101, 101, 101, 101, 101, 101, 101, 101, 101, 101,\n",
              "       101, 101, 101, 101, 101, 101, 101,  25,  25,  25,  25,  25,  25,\n",
              "        25,  25,  25,  25,  25,  25,  25,  25,  25,  25, 101, 101,  25,\n",
              "        25,  25,  25,  25,  25,  25,  25,  25,  25,  25,  25,  25,  25,\n",
              "        25,  25,  25,  25,  25,  25,  25,  25,  25,  25,  25,  25,  25,\n",
              "        25,  25,  25,  25,  25,  25,  25,  25,  25,  25,  25,  25,  25,\n",
              "        25,  25,  25,  25,  25,  25,  25,  25,  25,  25,  25,  25,  25,\n",
              "        25,  25,  25,  25,  25,  25,  25,  25,  25,  25,  25,  25,  25,\n",
              "        25,  25,  25,  25,  25,  25,  25,  25,  25,  25,  25,  25,  25,\n",
              "        25,  25,  25,  25,  25,  25,  25,  25,  25,  25,  25,  25,  25,\n",
              "        25,  25,  25,  25,  25,  25,  25,  25,  25,  25,  25,  25,  25,\n",
              "        25,  25,  25,  25,  25,  25,  25,  25,  25,  25,  25,  25,  25,\n",
              "        25,  25,  25,  25,  25,  25,  25,  25,  25,  25,  25,  25,  25,\n",
              "        25,  25,  25,  25, 101,  25,  25,  25,  25,  25,  25,  25,  25,\n",
              "        25,  25,  25,  25,  25,  25,  25,  25,  25,  25,  25,  25,  25])"
            ]
          },
          "metadata": {
            "tags": []
          },
          "execution_count": 10
        }
      ]
    },
    {
      "cell_type": "markdown",
      "metadata": {
        "id": "2Cz8FgrnFhxZ"
      },
      "source": [
        "We build the output file"
      ]
    },
    {
      "cell_type": "code",
      "metadata": {
        "id": "JiftmYmPFhfo"
      },
      "source": [
        "submission = pd.read_csv(\"submission_format.csv\",index_col=[0, 1, 2])\r\n",
        "\r\n",
        "submission.total_cases = final_model_prediction.astype(np.int64)\r\n",
        "submission.to_csv(\"result_randomized.csv\")"
      ],
      "execution_count": 12,
      "outputs": []
    },
    {
      "cell_type": "markdown",
      "metadata": {
        "id": "dK_wBLMgFiJT"
      },
      "source": [
        "**And the result is:**\r\n",
        "\r\n",
        "*37.7620\r\n",
        "Woo! I scored 37.7620 on 'DengAI: Predicting Disease Spread'!*"
      ]
    },
    {
      "cell_type": "markdown",
      "metadata": {
        "id": "dC_HiLhlZwCl"
      },
      "source": [
        "# 5. Conclusions\r\n",
        "\r\n",
        "The use of Hyperparameter Optimization has been necessary, it has represented a very large improvement for the models, over 7 points of improvement."
      ]
    }
  ]
}