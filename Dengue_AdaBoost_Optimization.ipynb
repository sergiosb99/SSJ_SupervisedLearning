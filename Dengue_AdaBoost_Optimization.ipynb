{
  "nbformat": 4,
  "nbformat_minor": 0,
  "metadata": {
    "colab": {
      "name": "Dengue_AdaBoost_Optimization.ipynb",
      "provenance": [],
      "collapsed_sections": [],
      "toc_visible": true
    },
    "kernelspec": {
      "name": "python3",
      "display_name": "Python 3"
    }
  },
  "cells": [
    {
      "cell_type": "markdown",
      "metadata": {
        "id": "Ti5Wnz3cgkRD"
      },
      "source": [
        "# 0. Introduction\n",
        "\n",
        "We are going to use the data that we have been provided to study and try to predict the evolution of Dengue disease in the cities of **San Jose**, *Puerto Rico*, and **Iquitos**, *Peru*. More information in this [link](https://www.drivendata.org/competitions/44/dengai-predicting-disease-spread/).\n",
        "\n",
        "In this notebook, the AdamBost algorithm studied in the baseline will be optimized, with the aim of finding the best parameterization of this algorithm, with the aim of continuing to search for better models.\n",
        "\n",
        "\n"
      ]
    },
    {
      "cell_type": "markdown",
      "metadata": {
        "id": "Yo0x5dyH5b4N"
      },
      "source": [
        "# 1. Libraries\r\n",
        "\r\n",
        "Before starting any analysis we must ensure that the basic and general use libraries *(numpy, pandas, etc.)* are correctly imported. "
      ]
    },
    {
      "cell_type": "code",
      "metadata": {
        "id": "QcqAjsMIKluO"
      },
      "source": [
        "# Preprocessing\n",
        "from sklearn import preprocessing\n",
        "\n",
        "# Loading the data\n",
        "import pandas as pd\n",
        "import io\n",
        "from google.colab import files\n",
        "\n",
        "# Graphics display\n",
        "import seaborn as sns\n",
        "import matplotlib.pyplot as plt\n",
        "\n",
        "# Estimator and model selection\n",
        "from sklearn.model_selection import train_test_split, GridSearchCV, RandomizedSearchCV\n",
        "from sklearn.ensemble import AdaBoostRegressor\n",
        "from sklearn.tree import DecisionTreeRegressor\n",
        "\n",
        "# Others\n",
        "import numpy as np    \n",
        "from sklearn.metrics import mean_absolute_error "
      ],
      "execution_count": 1,
      "outputs": []
    },
    {
      "cell_type": "markdown",
      "metadata": {
        "id": "fvxDPxPhheSW"
      },
      "source": [
        "# 2. Loading the data\r\n",
        "\r\n",
        "The first step is to upload all the CSV files that have been provided to us and that thanks to them we will obtain the data with which we are going to work. To do this, we will use the tools that Google Colab offers us when uploading files."
      ]
    },
    {
      "cell_type": "markdown",
      "metadata": {
        "id": "dZSaoCMRAq8m"
      },
      "source": [
        "## Preprocessing the data\n",
        "\n",
        "We transform the data in order to allow us the posterior use of the algorithms to build prediction models, for example, missing values, from categories to numbers, etc."
      ]
    },
    {
      "cell_type": "code",
      "metadata": {
        "id": "zr57uSH3SO82"
      },
      "source": [
        "# Make function to preprocess data\r\n",
        "def preprocess_data(data_path, labels_path=None):\r\n",
        "    # Load data and set index to city, year, weekofyear\r\n",
        "    df = pd.read_csv(data_path)\r\n",
        "    # Fill missing values\r\n",
        "    df.fillna(df.mean(), inplace=True)\r\n",
        "    lb = preprocessing.LabelBinarizer()\r\n",
        "    \r\n",
        "    if labels_path:\r\n",
        "        labels = pd.read_csv(labels_path)\r\n",
        "        \r\n",
        "        labels['city'] = lb.fit_transform(labels['city'])\r\n",
        "    \r\n",
        "    df['city'] =  lb.fit_transform(df['city'])\r\n",
        "\r\n",
        "    ## Coger variables, a la parte de mejoras. Esto se debe de borrar.\r\n",
        "    selected_features = ['reanalysis_specific_humidity_g_per_kg', 'reanalysis_dew_point_temp_k', \r\n",
        "                 'station_avg_temp_c', 'station_min_temp_c']\r\n",
        "    df = df[selected_features]\r\n",
        "\r\n",
        "    if labels_path:\r\n",
        "        return df, labels\r\n",
        "    return df"
      ],
      "execution_count": 2,
      "outputs": []
    },
    {
      "cell_type": "markdown",
      "metadata": {
        "id": "Lle9Q95EHDog"
      },
      "source": [
        "We execute the newly compiled method, which will allow us to load and preprocess our data."
      ]
    },
    {
      "cell_type": "code",
      "metadata": {
        "id": "lN74ew6GSShd"
      },
      "source": [
        "df_features, df_labels = preprocess_data('dengue_features_train.csv', labels_path=\"dengue_labels_train.csv\")"
      ],
      "execution_count": 3,
      "outputs": []
    },
    {
      "cell_type": "markdown",
      "metadata": {
        "id": "xC3XXbOoHF_I"
      },
      "source": [
        "Finally, we also load the file with which we will carry out the final prediction, once our model is trained."
      ]
    },
    {
      "cell_type": "code",
      "metadata": {
        "id": "YUrvIsptSU7d"
      },
      "source": [
        "df_test_final = preprocess_data(\"dengue_features_test.csv\")"
      ],
      "execution_count": 4,
      "outputs": []
    },
    {
      "cell_type": "markdown",
      "metadata": {
        "id": "CedFqCvJA88K"
      },
      "source": [
        "# 3. Detaching the dataset\r\n",
        "\r\n",
        "To train the models that we make, it is necessary to separate our training dataset into two parts, one precisely to train the model, and another to check if our models are good."
      ]
    },
    {
      "cell_type": "code",
      "metadata": {
        "id": "eQjikOIh6qUI"
      },
      "source": [
        "X_train, X_test, y_train, y_test = train_test_split(df_features, df_labels['total_cases'], test_size=0.2, random_state=1)"
      ],
      "execution_count": 5,
      "outputs": []
    },
    {
      "cell_type": "markdown",
      "metadata": {
        "id": "M-rFR08X-_g9"
      },
      "source": [
        "# 4. Hyperparameter optimization\r\n",
        "\r\n",
        "Previously, in the baseline, we have created models with simple optimization. That is, we have only created models with a combination of parameters. However, now, thanks to the *GridSearchCV* and *RandomizedSearchCV* functions, we will be able to combine different values for the parameters of the estimators, so that it returns us the best possible model.\r\n",
        "\r\n",
        "The estimator with which we are going to work in the optimization is the following."
      ]
    },
    {
      "cell_type": "code",
      "metadata": {
        "id": "mZXK-tu0B-C_"
      },
      "source": [
        "est = AdaBoostRegressor()"
      ],
      "execution_count": 6,
      "outputs": []
    },
    {
      "cell_type": "markdown",
      "metadata": {
        "id": "4wspPeaJBKn6"
      },
      "source": [
        "## Grid Search\r\n",
        "\r\n",
        "Grind Search generates candidates from a grid of parameter values specified with the param_grid parameter."
      ]
    },
    {
      "cell_type": "code",
      "metadata": {
        "colab": {
          "base_uri": "https://localhost:8080/"
        },
        "id": "QPNp8yW-BKEr",
        "outputId": "51047f6f-806b-463b-e7f3-336586725ef5"
      },
      "source": [
        "# We declare the variables to be hyperparameterized\r\n",
        "param = [{'base_estimator': [DecisionTreeRegressor(max_depth = 1), DecisionTreeRegressor(max_depth = 2), DecisionTreeRegressor(max_depth = 3), DecisionTreeRegressor(max_depth = 4)],\r\n",
        "          'n_estimators': [50,100,150,200,250,300,450,500,550,600,650,700,750],\r\n",
        "          'learning_rate': [1,2,3],\r\n",
        "          'loss': ['linear','square','exponential']}]\r\n",
        "\r\n",
        "# Initialize the grid search\r\n",
        "grid = GridSearchCV(estimator = est, param_grid = param, cv = 5)\r\n",
        "\r\n",
        "# Train our model\r\n",
        "grid.fit(X_train,y_train)\r\n",
        "\r\n",
        "# We show the results\r\n",
        "print(\"Mejores parámetros: \")\r\n",
        "print(grid.best_params_)\r\n",
        "print()\r\n",
        "print(\"Puntuaciones: \")\r\n",
        "print(grid.cv_results_['mean_test_score'])"
      ],
      "execution_count": 7,
      "outputs": [
        {
          "output_type": "stream",
          "text": [
            "Mejores parámetros: \n",
            "{'base_estimator': DecisionTreeRegressor(ccp_alpha=0.0, criterion='mse', max_depth=1,\n",
            "                      max_features=None, max_leaf_nodes=None,\n",
            "                      min_impurity_decrease=0.0, min_impurity_split=None,\n",
            "                      min_samples_leaf=1, min_samples_split=2,\n",
            "                      min_weight_fraction_leaf=0.0, presort='deprecated',\n",
            "                      random_state=None, splitter='best'), 'learning_rate': 1, 'loss': 'square', 'n_estimators': 150}\n",
            "\n",
            "Puntuaciones: \n",
            "[ 3.65668606e-02 -2.00241567e-01  2.05720019e-02  7.48644079e-02\n",
            " -4.82749301e-01 -2.68988462e-02 -3.17176719e-01  5.70622747e-02\n",
            " -1.43995321e-01  1.67151999e-02 -2.29433649e-02 -2.58713199e-01\n",
            " -1.15627863e-01 -1.98462424e-01  6.45210032e-02  9.69125094e-02\n",
            " -2.25414151e-01 -2.62093978e-01  7.73286306e-02  9.52859350e-02\n",
            "  6.50313361e-02  2.25583809e-02 -5.62953258e-01 -1.65538395e-01\n",
            "  9.12867847e-02 -2.26968082e-01 -1.25326267e+00 -3.20792153e+00\n",
            " -3.83156057e+00 -7.66369250e+00 -8.22713440e+00 -9.85172391e+00\n",
            " -1.06309381e+01 -8.20148102e+00 -9.09617803e+00 -9.57444132e+00\n",
            " -8.36941771e+00 -6.95546195e+00 -9.12268662e+00  3.07473129e-02\n",
            "  8.35019032e-02  7.76755517e-02  8.80104187e-02  7.73437067e-02\n",
            "  7.47198754e-02  7.82605140e-02  8.79191006e-02  8.12507485e-02\n",
            "  8.70950635e-02  6.66939637e-02  8.84062308e-02  7.74999350e-02\n",
            " -5.72525768e+00 -8.40003295e+00 -6.19091821e+00 -5.43289061e+00\n",
            " -9.83585637e+00 -4.92957249e+00 -6.23971186e+00 -7.29399578e+00\n",
            " -6.21144248e+00 -6.94997875e+00 -5.87858697e+00 -4.33440556e+00\n",
            " -6.38597159e+00 -3.50123232e+00 -8.39207164e+00 -6.58768277e+00\n",
            " -9.29860516e+00 -1.15241491e+01 -1.06338882e+01 -1.02009956e+01\n",
            " -8.94357584e+00 -9.95271695e+00 -7.17389238e+00 -1.06563232e+01\n",
            " -1.10433687e+01 -9.77003616e+00  7.61556491e-02  6.66852931e-02\n",
            "  8.05949982e-02  7.30673783e-02  8.20875923e-02  7.97682810e-02\n",
            "  7.51089819e-02  8.41462532e-02  7.18260529e-02  8.62582260e-02\n",
            "  6.94909616e-02  6.98893340e-02  2.32406817e-02 -1.03066908e+00\n",
            " -2.82481782e+00 -1.79879699e+00 -9.54280329e-01 -5.70373038e-01\n",
            " -6.54061420e-01 -1.12247986e+00 -9.63697291e-01 -1.03107273e+00\n",
            " -7.19582300e-01 -1.06994927e+00 -8.54129005e-01 -1.05915526e+00\n",
            " -6.18190799e+00 -1.21343933e+01 -1.14763818e+01 -8.18145541e+00\n",
            " -6.43114367e+00 -1.09986358e+01 -1.28799897e+01 -1.18525053e+01\n",
            " -1.12062517e+01 -1.18435170e+01 -9.68077638e+00 -1.29327823e+01\n",
            " -1.16919831e+01 -1.50006540e-01 -2.59261382e-02 -1.33072827e-01\n",
            " -1.25439391e-01 -1.26000161e-01 -1.04888425e-01 -1.59264845e-01\n",
            " -2.03853952e-01 -1.79563710e-01 -1.79477811e-01 -1.38755123e-01\n",
            " -2.56486761e-01 -1.34704206e-01 -1.72725131e+00 -2.83651366e+00\n",
            " -2.28845290e+00 -1.51266402e+00 -2.02792689e+00 -2.27848141e+00\n",
            " -1.92901212e+00 -2.20258373e+00 -2.78256448e+00 -1.96860620e+00\n",
            " -1.29772712e+00 -1.76058494e+00 -1.72642453e+00 -3.67421045e+00\n",
            " -5.88135355e+00 -5.37425407e+00 -6.24443918e+00 -5.16924465e+00\n",
            " -5.78249455e+00 -5.78714503e+00 -4.67914973e+00 -4.60754805e+00\n",
            " -5.89784756e+00 -7.80663676e+00 -7.22558481e+00 -5.88321339e+00\n",
            " -5.86581404e-03 -3.40403136e-02 -6.11019669e-04 -3.29618807e-02\n",
            " -1.10059184e-01 -1.58555231e-02  4.07799037e-02 -1.33967336e-02\n",
            "  4.39554945e-02 -3.75835165e-02 -7.40827463e-02  9.76717596e-03\n",
            " -3.78603731e-02 -1.34355344e+00 -1.12417069e+00 -1.61098967e+00\n",
            " -7.04022143e-02 -2.27934423e-01 -1.67427325e+00 -2.22427240e-01\n",
            " -3.85485640e-01 -4.24335667e-01 -8.49288152e-01 -3.13604540e-01\n",
            " -1.54394349e+00 -4.10508882e-01 -6.15036659e+00 -7.14139166e+00\n",
            " -6.81966341e+00 -9.65872028e+00 -8.69127050e+00 -6.21285251e+00\n",
            " -7.87188064e+00 -9.93250788e+00 -9.67504764e+00 -9.26699656e+00\n",
            " -7.92602003e+00 -7.74622729e+00 -8.00698598e+00 -2.95264487e+00\n",
            " -2.67704079e+00 -2.04251510e+00 -1.78404042e+00 -2.63851425e+00\n",
            " -1.38606937e+00 -3.94429643e+00 -1.51376841e+00 -2.30611446e+00\n",
            " -2.16896204e+00 -1.34331102e+00 -1.75022780e+00 -2.33945665e+00\n",
            " -1.97161689e+00 -4.17019707e-01 -6.76902335e-01 -8.25492399e-01\n",
            " -1.09518612e+00 -1.06404630e+00 -1.37042331e+00 -8.99096282e-01\n",
            " -9.41133866e-01 -3.48985474e-01 -8.15168975e-01 -9.27924466e-01\n",
            " -5.29681746e-01 -9.27075028e+00 -9.55358718e+00 -9.44957152e+00\n",
            " -1.00594912e+01 -1.00638175e+01 -9.21138416e+00 -8.98397589e+00\n",
            " -8.26048483e+00 -8.98548430e+00 -7.40600779e+00 -1.00941511e+01\n",
            " -1.04705768e+01 -1.02745499e+01 -2.46509279e-01 -4.72134084e-01\n",
            " -3.15387158e-01 -3.22864144e-01 -4.84380483e-01 -2.57636405e-01\n",
            " -5.11775468e-01 -4.53541487e-01 -5.41177003e-01 -4.10586482e-01\n",
            " -6.11713017e-01 -3.76322166e-01 -1.88005526e-01 -2.19248928e+00\n",
            " -3.82344637e+00 -3.15760146e+00 -3.69324080e+00 -3.54850554e+00\n",
            " -3.24382154e+00 -3.79566980e+00 -4.62570656e+00 -2.85724887e+00\n",
            " -4.05469183e+00 -3.37457053e+00 -3.58118662e+00 -4.35379912e+00\n",
            " -2.67071557e+00 -5.00180884e+00 -5.68552930e+00 -6.23347916e+00\n",
            " -6.13272887e+00 -6.84481169e+00 -6.94235203e+00 -7.08413713e+00\n",
            " -7.29738164e+00 -7.31699192e+00 -7.62133165e+00 -7.34150142e+00\n",
            " -7.41163225e+00 -1.72001702e+00 -9.36014904e-01 -6.01255583e-01\n",
            " -1.96856417e+00 -8.09649350e-01 -1.89506126e+00 -1.27859130e+00\n",
            " -1.10126553e+00 -1.98918311e+00 -2.21178621e+00 -8.64115406e-01\n",
            " -2.22725741e+00 -2.21934241e+00 -1.74591884e-01 -2.01247202e-01\n",
            " -1.68192504e-01 -3.75354634e-01 -4.65095028e-01 -4.62926627e-01\n",
            " -3.03908493e-01 -4.27862831e-01 -2.27695797e-01 -3.00974920e-01\n",
            " -2.08869866e-01 -7.96608131e-01 -5.02659491e-01 -4.52651989e+00\n",
            " -5.71314642e+00 -5.91395234e+00 -6.25389324e+00 -6.36684475e+00\n",
            " -6.46629526e+00 -6.43889314e+00 -6.51385881e+00 -6.55735151e+00\n",
            " -6.73263297e+00 -6.29343506e+00 -6.57062107e+00 -6.57725193e+00\n",
            " -1.30530216e+00 -1.78210146e+00 -7.21847210e-01 -7.54456318e-01\n",
            " -2.85359230e+00 -9.65275595e-01 -1.02935950e+00 -1.59451177e+00\n",
            " -2.01273306e+00 -1.05281786e+00 -2.14872079e+00 -9.73323341e-01\n",
            " -1.12101375e+00 -2.31329069e+00 -1.54581425e+00 -1.01455474e+00\n",
            " -5.08516324e-01 -8.06792765e-01 -1.24501348e+00 -1.12799777e+00\n",
            " -1.10196428e+00 -8.35447774e-01 -8.20282074e-01 -9.51583868e-01\n",
            " -8.70027771e-01 -8.62505873e-01 -4.16362193e+00 -4.61573325e+00\n",
            " -4.99395117e+00 -5.01067048e+00 -4.79145479e+00 -4.93472031e+00\n",
            " -4.94302141e+00 -5.07135798e+00 -5.13983564e+00 -5.05345822e+00\n",
            " -5.11974817e+00 -5.08846654e+00 -4.94865474e+00 -6.48096891e-01\n",
            " -1.28501060e+00 -8.33529490e-01 -5.31208753e-01 -7.00590718e-01\n",
            " -8.87605831e-01 -9.54370683e-01 -1.35716154e+00 -9.69348897e-01\n",
            " -6.75262241e-01 -1.23631392e+00 -1.11475316e+00 -9.55519725e-01\n",
            " -1.00536038e+00 -1.42515131e+00 -1.69204824e+00 -1.64626905e+00\n",
            " -1.49227329e+00 -1.80226807e+00 -1.80903840e+00 -1.69127003e+00\n",
            " -1.83812016e+00 -1.73307255e+00 -1.83557555e+00 -1.57546226e+00\n",
            " -1.69976578e+00 -9.99463587e-01 -1.73894503e+00 -2.01514499e+00\n",
            " -2.34792116e+00 -2.56632568e+00 -2.73753942e+00 -3.06345373e+00\n",
            " -3.05258210e+00 -3.10175938e+00 -3.23169902e+00 -2.98031557e+00\n",
            " -3.17856280e+00 -3.25208210e+00 -9.12730791e-01 -9.20257178e-01\n",
            " -1.30923539e+00 -1.14943225e+00 -1.08617520e+00 -1.21612179e+00\n",
            " -1.28969771e+00 -1.19471100e+00 -1.17962547e+00 -1.00544332e+00\n",
            " -1.25094654e+00 -1.17691709e+00 -1.01604627e+00 -1.59502717e-01\n",
            " -2.46663320e-01 -3.01239255e-01 -3.03865582e-01 -2.35816079e-01\n",
            " -2.43819530e-01 -6.74360868e-01 -2.42125513e-01 -2.47716043e-01\n",
            " -2.41053092e-01 -1.23950472e+00 -5.08046727e-01 -4.98746612e-01\n",
            " -1.18004772e+00 -1.96990393e+00 -2.14056234e+00 -2.28239602e+00\n",
            " -1.97391912e+00 -2.16332283e+00 -2.10327901e+00 -2.07556471e+00\n",
            " -2.18474929e+00 -2.01565685e+00 -2.11196346e+00 -2.18505114e+00\n",
            " -2.14043832e+00 -2.41059616e+00 -2.45050667e+00 -7.60567057e-01\n",
            " -2.12723705e+00 -1.00431060e+00 -1.25685507e+00 -1.14472101e+00\n",
            " -5.65337507e-01 -5.14683146e-01 -1.46316779e+00 -8.36921758e-01\n",
            " -3.18361840e+00 -8.03594569e-01 -9.23330408e-01 -2.34152428e+00\n",
            " -7.86777638e-01 -7.55075524e-01 -1.03295587e+00 -1.85023378e+00\n",
            " -2.35499460e+00 -1.26220594e+00 -6.29238912e-01 -1.05523391e+00\n",
            " -8.42850730e-01 -1.01178504e+00 -5.08406030e-01 -8.88952919e-01\n",
            " -1.17135427e+00 -1.09529604e+00 -1.13312502e+00 -1.17929411e+00\n",
            " -1.15833714e+00 -1.19488467e+00 -1.18479380e+00 -1.17544511e+00\n",
            " -1.17242898e+00 -1.21263637e+00 -1.18039285e+00 -1.22191747e+00]\n"
          ],
          "name": "stdout"
        }
      ]
    },
    {
      "cell_type": "markdown",
      "metadata": {
        "id": "SL-g732sKkWk"
      },
      "source": [
        "Now, we predict with the estimator with the best parameters."
      ]
    },
    {
      "cell_type": "code",
      "metadata": {
        "id": "vHXBRYAKKlWn"
      },
      "source": [
        "y_grid = grid.predict(X_test)"
      ],
      "execution_count": 8,
      "outputs": []
    },
    {
      "cell_type": "code",
      "metadata": {
        "colab": {
          "base_uri": "https://localhost:8080/",
          "height": 299
        },
        "id": "qx0rcOB_KngT",
        "outputId": "7f3f5110-7a4d-45da-e7c0-7bfac265bdf8"
      },
      "source": [
        "xx = np.arange(0,len(y_test),1)\r\n",
        "plt.plot(xx, y_test, c='r', label='data')\r\n",
        "plt.plot(xx, y_grid, c='g', label='prediction')\r\n",
        "plt.axis('tight')\r\n",
        "plt.legend()\r\n",
        "plt.title(\"AdaBoost Regressor\")\r\n",
        "\r\n",
        "plt.show()\r\n",
        "\r\n",
        "mae = mean_absolute_error(y_test, y_grid)\r\n",
        "print ('MAE', mae)\r\n"
      ],
      "execution_count": 9,
      "outputs": [
        {
          "output_type": "display_data",
          "data": {
            "image/png": "[encoded data removed]",
            "text/plain": [
              "<Figure size 432x288 with 1 Axes>"
            ]
          },
          "metadata": {
            "tags": [],
            "needs_background": "light"
          }
        },
        {
          "output_type": "stream",
          "text": [
            "MAE 20.80634989237094\n"
          ],
          "name": "stdout"
        }
      ]
    },
    {
      "cell_type": "markdown",
      "metadata": {
        "id": "MVPboc5WDU72"
      },
      "source": [
        "### Submision Result\r\n",
        "\r\n",
        "Once we have identified the best parameterization we will go on to make an execution of the model and we will graph its results."
      ]
    },
    {
      "cell_type": "code",
      "metadata": {
        "colab": {
          "base_uri": "https://localhost:8080/"
        },
        "id": "Qh0YLWdJDhju",
        "outputId": "c6deea0b-0113-43ac-af40-f3723621ab61"
      },
      "source": [
        "final_model_prediction = grid.predict(df_test_final)\r\n",
        "\r\n",
        "# round the result and cast to int\r\n",
        "y = np.rint(final_model_prediction) # round\r\n",
        "y = y.astype(int) # cast to int\r\n",
        "res = np.hstack(y)\r\n",
        "\r\n",
        "res"
      ],
      "execution_count": 10,
      "outputs": [
        {
          "output_type": "execute_result",
          "data": {
            "text/plain": [
              "array([17, 17, 17, 46, 46, 46, 46, 46, 46, 46, 46, 46, 46, 46, 46, 46, 46,\n",
              "       46, 46, 46, 46, 17, 17, 46, 17, 46, 46, 46, 46, 46, 17, 17, 17, 17,\n",
              "       17, 17, 17, 17, 17, 17, 17, 17, 17, 17, 17, 17, 17, 17, 17, 17, 17,\n",
              "       17, 17, 17, 46, 17, 46, 46, 46, 46, 46, 46, 46, 46, 46, 46, 46, 46,\n",
              "       46, 46, 46, 46, 46, 46, 46, 46, 46, 46, 46, 46, 17, 46, 46, 46, 46,\n",
              "       17, 17, 17, 17, 17, 17, 17, 17, 17, 17, 17, 17, 17, 17, 17, 46, 17,\n",
              "       17, 17, 46, 17, 46, 46, 46, 46, 46, 46, 46, 46, 46, 46, 46, 17, 46,\n",
              "       46, 46, 46, 46, 46, 46, 46, 46, 46, 46, 46, 46, 17, 46, 17, 17, 17,\n",
              "       17, 17, 17, 17, 17, 17, 17, 17, 17, 17, 17, 17, 17, 17, 17, 17, 17,\n",
              "       17, 17, 17, 17, 17, 17, 17, 17, 46, 17, 17, 17, 17, 46, 46, 17, 46,\n",
              "       46, 17, 46, 46, 17, 46, 46, 17, 46, 46, 46, 46, 46, 17, 17, 46, 46,\n",
              "       17, 17, 17, 17, 17, 17, 17, 17, 17, 17, 17, 17, 17, 17, 17, 17, 17,\n",
              "       17, 17, 46, 17, 17, 46, 17, 46, 46, 46, 46, 46, 46, 46, 46, 46, 46,\n",
              "       46, 46, 46, 46, 46, 46, 46, 46, 46, 46, 46, 46, 46, 46, 46, 46, 46,\n",
              "       46, 46, 46, 17, 17, 17, 17, 17, 17, 17, 17, 17, 17, 17, 17, 17, 17,\n",
              "       17, 17, 46, 46, 17, 17, 17, 17, 17, 17, 17, 17, 17, 17, 17, 17, 17,\n",
              "       17, 17, 17, 17, 17, 17, 17, 17, 17, 17, 17, 17, 17, 17, 17, 17, 17,\n",
              "       17, 17, 17, 17, 17, 17, 17, 17, 17, 17, 17, 17, 17, 17, 17, 17, 17,\n",
              "       17, 17, 17, 17, 17, 17, 17, 17, 17, 17, 17, 17, 17, 17, 17, 17, 17,\n",
              "       17, 17, 17, 17, 17, 17, 17, 17, 17, 17, 17, 17, 17, 17, 17, 17, 17,\n",
              "       17, 17, 17, 17, 17, 17, 17, 17, 17, 17, 17, 17, 17, 17, 17, 17, 17,\n",
              "       17, 17, 17, 17, 17, 17, 17, 17, 17, 17, 17, 17, 17, 17, 17, 17, 17,\n",
              "       17, 17, 17, 17, 17, 17, 17, 17, 17, 17, 17, 17, 17, 17, 17, 17, 17,\n",
              "       17, 17, 17, 46, 17, 17, 17, 17, 17, 17, 17, 17, 17, 17, 17, 17, 17,\n",
              "       17, 17, 17, 17, 17, 17, 17, 17])"
            ]
          },
          "metadata": {
            "tags": []
          },
          "execution_count": 10
        }
      ]
    },
    {
      "cell_type": "markdown",
      "metadata": {
        "id": "YYMFhhpmDhPN"
      },
      "source": [
        "We build the output file"
      ]
    },
    {
      "cell_type": "code",
      "metadata": {
        "id": "KYCIXjaqDzn3"
      },
      "source": [
        "submission = pd.read_csv(\"submission_format.csv\",\r\n",
        "                         index_col=[0, 1, 2])\r\n",
        "\r\n",
        "\r\n",
        "submission.total_cases = final_model_prediction.astype(np.int64)\r\n",
        "submission.to_csv(\"result_grid.csv\")"
      ],
      "execution_count": null,
      "outputs": []
    },
    {
      "cell_type": "markdown",
      "metadata": {
        "id": "GkCw18gBD07n"
      },
      "source": [
        "**And the result is:**\r\n",
        "\r\n",
        "*29.2284\r\n",
        "Woo! I scored 29.2284 on 'DengAI: Predicting Disease Spread'!*"
      ]
    },
    {
      "cell_type": "markdown",
      "metadata": {
        "id": "Rske9rldBLNo"
      },
      "source": [
        "## Randomized Search\r\n",
        "\r\n",
        "Randomized Search can sample a given number of candidates from a parameter space with a specified distribution.\r\n"
      ]
    },
    {
      "cell_type": "code",
      "metadata": {
        "colab": {
          "base_uri": "https://localhost:8080/"
        },
        "id": "907o0RzXBLzK",
        "outputId": "e94fbde9-3725-40c0-f099-7772e0f47602"
      },
      "source": [
        "# We declare the variables to be hyperparameterized\r\n",
        "param = [{'base_estimator': [DecisionTreeRegressor(max_depth = 1), DecisionTreeRegressor(max_depth = 2), DecisionTreeRegressor(max_depth = 3), DecisionTreeRegressor(max_depth = 4)],\r\n",
        "          'n_estimators': [50,100,150,200,250,300,450,500,550,600,650,700,750],\r\n",
        "          'learning_rate': [1,2,3],\r\n",
        "          'loss': ['linear','square','exponential']}]\r\n",
        "\r\n",
        "# Initialize the grid search\r\n",
        "random = RandomizedSearchCV(estimator = est, param_distributions = param, cv = 5)\r\n",
        "\r\n",
        "# Train our model\r\n",
        "random.fit(X_train,y_train)\r\n",
        "\r\n",
        "# We show the results\r\n",
        "print(\"Mejores parámetros: \")\r\n",
        "print(random.best_params_)\r\n",
        "print()\r\n",
        "print(\"Puntuaciones: \")\r\n",
        "print(random.cv_results_['mean_test_score'])"
      ],
      "execution_count": 11,
      "outputs": [
        {
          "output_type": "stream",
          "text": [
            "Mejores parámetros: \n",
            "{'n_estimators': 100, 'loss': 'square', 'learning_rate': 3, 'base_estimator': DecisionTreeRegressor(ccp_alpha=0.0, criterion='mse', max_depth=2,\n",
            "                      max_features=None, max_leaf_nodes=None,\n",
            "                      min_impurity_decrease=0.0, min_impurity_split=None,\n",
            "                      min_samples_leaf=1, min_samples_split=2,\n",
            "                      min_weight_fraction_leaf=0.0, presort='deprecated',\n",
            "                      random_state=None, splitter='best')}\n",
            "\n",
            "Puntuaciones: \n",
            "[-8.64192052 -0.75812294 -3.03422335 -0.79958912 -1.38667225 -2.52145699\n",
            " -1.92842748 -4.3576365  -4.07492291 -8.94411946]\n"
          ],
          "name": "stdout"
        }
      ]
    },
    {
      "cell_type": "markdown",
      "metadata": {
        "id": "xVlDfcgWFLSs"
      },
      "source": [
        "Now, we predict with the estimator with the best parameters."
      ]
    },
    {
      "cell_type": "code",
      "metadata": {
        "id": "Ctw1SIa2FO7R"
      },
      "source": [
        "y_random = random.predict(X_test)"
      ],
      "execution_count": 12,
      "outputs": []
    },
    {
      "cell_type": "code",
      "metadata": {
        "colab": {
          "base_uri": "https://localhost:8080/",
          "height": 299
        },
        "id": "lslogh2pFTZA",
        "outputId": "52359b6a-c0ba-47fb-ccce-760d3a5be9e9"
      },
      "source": [
        "xx = np.arange(0,len(y_test),1)\r\n",
        "plt.plot(xx, y_test, c='r', label='data')\r\n",
        "plt.plot(xx, y_random, c='g', label='prediction')\r\n",
        "plt.axis('tight')\r\n",
        "plt.legend()\r\n",
        "plt.title(\"AdaBoost Regressor\")\r\n",
        "\r\n",
        "plt.show()\r\n",
        "\r\n",
        "mae = mean_absolute_error(y_test, y_random)\r\n",
        "print ('MAE', mae)"
      ],
      "execution_count": 13,
      "outputs": [
        {
          "output_type": "display_data",
          "data": {
            "image/png": "[encoded data removed]",
            "text/plain": [
              "<Figure size 432x288 with 1 Axes>"
            ]
          },
          "metadata": {
            "tags": [],
            "needs_background": "light"
          }
        },
        {
          "output_type": "stream",
          "text": [
            "MAE 17.938482191795522\n"
          ],
          "name": "stdout"
        }
      ]
    },
    {
      "cell_type": "markdown",
      "metadata": {
        "id": "menaQw29FZWc"
      },
      "source": [
        "### Submision Result\r\n",
        "\r\n",
        "Once the best parameterization has been identified, we will carry out an execution of the model to make a prediction of the weeks that are proposed to us, and we will graph its results."
      ]
    },
    {
      "cell_type": "code",
      "metadata": {
        "colab": {
          "base_uri": "https://localhost:8080/"
        },
        "id": "mAuPXoYDFYk0",
        "outputId": "3bad9900-e207-4e70-c472-bb97acfc8c5d"
      },
      "source": [
        "final_model_prediction = random.predict(df_test_final)\r\n",
        "\r\n",
        "# Round the result and cast to int\r\n",
        "y = np.rint(final_model_prediction)\r\n",
        "y = y.astype(int)\r\n",
        "res = np.hstack(y)\r\n",
        "\r\n",
        "res"
      ],
      "execution_count": 14,
      "outputs": [
        {
          "output_type": "execute_result",
          "data": {
            "text/plain": [
              "array([ 4,  4,  4,  5,  4,  5,  5,  5,  5,  6,  5,  5,  6,  5,  6,  6,  6,\n",
              "        6,  6,  6,  6,  6,  6,  6,  5,  5,  5,  6,  5,  5,  4,  4,  4,  4,\n",
              "        4,  5,  4,  4,  4,  4,  4,  4,  4,  4,  4,  4,  4,  4,  4,  4,  4,\n",
              "        4,  4,  4,  4,  4,  6,  5,  5,  5,  6,  5,  6,  6,  6,  6,  6,  6,\n",
              "        6,  6,  6,  6,  6,  6,  6,  6,  6,  6,  5, 41,  5,  5,  6,  5,  5,\n",
              "        5,  4,  5,  4,  4,  4,  4,  4,  4,  4,  4,  5,  4,  4,  5,  4,  4,\n",
              "        4,  4,  6,  6,  5,  6,  6,  6,  6,  6,  6,  6,  6,  6,  6,  6,  6,\n",
              "        6,  6,  6,  6,  6,  6,  6,  6,  6,  6,  6,  5,  5,  6,  4,  4,  4,\n",
              "        4,  4,  4,  4,  4,  4,  4,  4,  4,  4,  4,  4,  4,  4,  4,  4,  4,\n",
              "        4,  4,  4,  4,  4,  4,  4,  6,  6,  6,  6,  6,  6,  6,  6,  6,  6,\n",
              "        6,  6,  6,  6,  6,  6,  6,  6,  6,  6,  6,  6,  5,  6,  5,  5,  5,\n",
              "        5,  4,  4,  4,  4,  4,  4,  4,  4,  4,  4,  4,  4,  4,  4,  4,  4,\n",
              "        4,  4,  4,  4,  4,  5,  4,  6,  5,  5,  6,  5,  6,  6,  6,  6,  6,\n",
              "        6,  6,  6,  6,  6,  6,  6,  5,  6,  6,  6,  5,  6,  6,  6,  6,  6,\n",
              "        6,  5,  4,  4,  4,  4,  4,  4,  4,  4,  4,  4,  4,  4,  4,  4,  4,\n",
              "        4,  4,  4,  4,  4,  5,  4,  6,  4,  4,  4,  4,  4,  4,  5,  4,  5,\n",
              "        5,  5,  4,  5,  6,  6,  6,  6,  6,  6,  6,  6,  6,  4,  5,  4,  5,\n",
              "        4,  4,  4,  6,  6,  6,  6,  6,  6,  6,  6,  6,  6,  6,  6,  6,  4,\n",
              "        5,  5,  5,  4,  4,  4,  4,  4,  4,  4,  4,  4,  4,  4,  4,  5,  4,\n",
              "        4,  4,  5,  4,  6,  6,  6,  5,  6,  6,  6,  6,  6,  6,  6,  6,  6,\n",
              "        6,  4,  5,  6,  6,  5,  5,  5,  6,  5,  4,  6,  5,  6,  6,  6,  6,\n",
              "        4,  6,  4,  4,  4,  4,  4,  4,  4,  4,  4,  4,  4,  4,  4,  4,  4,\n",
              "        4,  4,  4,  4,  4,  6,  4,  6,  6,  6,  6,  6,  6,  6,  6,  6,  6,\n",
              "        4,  5,  6,  5,  6,  6,  6,  6,  6,  6,  6,  6,  6,  6,  6,  6,  4,\n",
              "        6,  6,  5,  5,  5,  4,  4,  4])"
            ]
          },
          "metadata": {
            "tags": []
          },
          "execution_count": 14
        }
      ]
    },
    {
      "cell_type": "markdown",
      "metadata": {
        "id": "2Cz8FgrnFhxZ"
      },
      "source": [
        "We build the output file"
      ]
    },
    {
      "cell_type": "code",
      "metadata": {
        "id": "JiftmYmPFhfo"
      },
      "source": [
        "submission = pd.read_csv(\"submission_format.csv\",index_col=[0, 1, 2])\r\n",
        "\r\n",
        "submission.total_cases = final_model_prediction.astype(np.int64)\r\n",
        "submission.to_csv(\"result_randomized.csv\")"
      ],
      "execution_count": 16,
      "outputs": []
    },
    {
      "cell_type": "markdown",
      "metadata": {
        "id": "dK_wBLMgFiJT"
      },
      "source": [
        "**And the result is:**\r\n",
        "\r\n",
        "*34.2428\r\n",
        "Woo! I scored 34.2428 on 'DengAI: Predicting Disease Spread'!*"
      ]
    },
    {
      "cell_type": "markdown",
      "metadata": {
        "id": "dC_HiLhlZwCl"
      },
      "source": [
        "# 5. Conclusions\r\n",
        "\r\n",
        "The use of hyperparameter optimization in this case has been negative, the score is much worse than that obtained in the baseline with simple optimization. This can be due to several reasons:\r\n",
        "\r\n",
        "- Our model has overlearned the data from the training set too much, and when it comes to forecasting on the new data, it does not behave properly.\r\n",
        "\r\n",
        "- The models created in GridSearchCV and RandomizedSearcCV have very little difference in performance and it is not able to forecast the data correctly."
      ]
    }
  ]
}