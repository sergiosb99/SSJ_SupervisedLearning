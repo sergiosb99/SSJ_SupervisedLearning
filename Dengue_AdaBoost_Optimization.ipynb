{
  "nbformat": 4,
  "nbformat_minor": 0,
  "metadata": {
    "colab": {
      "name": "Dengue_AdaBoost_Optimization.ipynb",
      "provenance": [],
      "collapsed_sections": [],
      "toc_visible": true
    },
    "kernelspec": {
      "name": "python3",
      "display_name": "Python 3"
    }
  },
  "cells": [
    {
      "cell_type": "markdown",
      "metadata": {
        "id": "Ti5Wnz3cgkRD"
      },
      "source": [
        "# 0. Introduction\n",
        "\n",
        "We are going to use the data that we have been provided to study and try to predict the evolution of Dengue disease in the cities of **San Jose**, *Puerto Rico*, and **Iquitos**, *Peru*. More information in this [link](https://www.drivendata.org/competitions/44/dengai-predicting-disease-spread/).\n",
        "\n",
        "In this notebook, the AdamBost algorithm studied in the baseline will be optimized, with the aim of finding the best parameterization of this algorithm, with the aim of continuing to search for better models.\n",
        "\n",
        "\n"
      ]
    },
    {
      "cell_type": "markdown",
      "metadata": {
        "id": "Yo0x5dyH5b4N"
      },
      "source": [
        "# 1. Libraries\r\n",
        "\r\n",
        "Before starting any analysis we must ensure that the basic and general use libraries *(numpy, pandas, etc.)* are correctly imported. "
      ]
    },
    {
      "cell_type": "code",
      "metadata": {
        "id": "QcqAjsMIKluO"
      },
      "source": [
        "# Preprocessing\n",
        "from sklearn import preprocessing\n",
        "\n",
        "# Loading the data\n",
        "import pandas as pd\n",
        "import io\n",
        "from google.colab import files\n",
        "\n",
        "# Graphics display\n",
        "import seaborn as sns\n",
        "import matplotlib.pyplot as plt\n",
        "\n",
        "# Estimator and model selection\n",
        "from sklearn.model_selection import train_test_split, GridSearchCV, RandomizedSearchCV\n",
        "from sklearn.ensemble import AdaBoostRegressor\n",
        "\n",
        "# Others\n",
        "import numpy as np    \n",
        "from sklearn.metrics import mean_absolute_error "
      ],
      "execution_count": null,
      "outputs": []
    },
    {
      "cell_type": "markdown",
      "metadata": {
        "id": "fvxDPxPhheSW"
      },
      "source": [
        "# 2. Loading the data\r\n",
        "\r\n",
        "The first step is to upload all the CSV files that have been provided to us and that thanks to them we will obtain the data with which we are going to work. To do this, we will use the tools that Google Colab offers us when uploading files."
      ]
    },
    {
      "cell_type": "markdown",
      "metadata": {
        "id": "dZSaoCMRAq8m"
      },
      "source": [
        "## Preprocessing the data\n",
        "\n",
        "We transform the data in order to allow us the posterior use of the algorithms to build prediction models, for example, missing values, from categories to numbers, etc."
      ]
    },
    {
      "cell_type": "code",
      "metadata": {
        "id": "zr57uSH3SO82"
      },
      "source": [
        "# Make function to preprocess data\r\n",
        "def preprocess_data(data_path, labels_path=None):\r\n",
        "    # Load data and set index to city, year, weekofyear\r\n",
        "    df = pd.read_csv(data_path)\r\n",
        "    # Fill missing values\r\n",
        "    df.fillna(df.mean(), inplace=True)\r\n",
        "    lb = preprocessing.LabelBinarizer()\r\n",
        "    \r\n",
        "    if labels_path:\r\n",
        "        labels = pd.read_csv(labels_path)\r\n",
        "        \r\n",
        "        labels['city'] = lb.fit_transform(labels['city'])\r\n",
        "    \r\n",
        "    df['city'] =  lb.fit_transform(df['city'])\r\n",
        "\r\n",
        "    ## Coger variables, a la parte de mejoras. Esto se debe de borrar.\r\n",
        "    selected_features = ['reanalysis_specific_humidity_g_per_kg', 'reanalysis_dew_point_temp_k', \r\n",
        "                 'station_avg_temp_c', 'station_min_temp_c']\r\n",
        "    df = df[selected_features]\r\n",
        "\r\n",
        "    if labels_path:\r\n",
        "        return df, labels\r\n",
        "    return df"
      ],
      "execution_count": null,
      "outputs": []
    },
    {
      "cell_type": "markdown",
      "metadata": {
        "id": "Lle9Q95EHDog"
      },
      "source": [
        "We execute the newly compiled method, which will allow us to load and preprocess our data."
      ]
    },
    {
      "cell_type": "code",
      "metadata": {
        "id": "lN74ew6GSShd"
      },
      "source": [
        "df_features, df_labels = preprocess_data('dengue_features_train.csv', labels_path=\"dengue_labels_train.csv\")"
      ],
      "execution_count": null,
      "outputs": []
    },
    {
      "cell_type": "markdown",
      "metadata": {
        "id": "xC3XXbOoHF_I"
      },
      "source": [
        "Finally, we also load the file with which we will carry out the final prediction, once our model is trained."
      ]
    },
    {
      "cell_type": "code",
      "metadata": {
        "id": "YUrvIsptSU7d"
      },
      "source": [
        "df_test_final = preprocess_data(\"dengue_features_test.csv\")"
      ],
      "execution_count": null,
      "outputs": []
    },
    {
      "cell_type": "markdown",
      "metadata": {
        "id": "CedFqCvJA88K"
      },
      "source": [
        "# 3. Detaching the dataset\r\n",
        "\r\n",
        "To train the models that we make, it is necessary to separate our training dataset into two parts, one precisely to train the model, and another to check if our models are good."
      ]
    },
    {
      "cell_type": "code",
      "metadata": {
        "id": "eQjikOIh6qUI"
      },
      "source": [
        "X_train, X_test, y_train, y_test = train_test_split(df_features, df_labels['total_cases'], test_size=0.2, random_state=1)"
      ],
      "execution_count": null,
      "outputs": []
    },
    {
      "cell_type": "markdown",
      "metadata": {
        "id": "M-rFR08X-_g9"
      },
      "source": [
        "# 4. Hyperparameter optimization\r\n",
        "\r\n",
        "Previously, in the baseline, we have created models with simple optimization. That is, we have only created models with a combination of parameters. However, now, thanks to the *GridSearchCV* and *RandomizedSearchCV* functions, we will be able to combine different values for the parameters of the estimators, so that it returns us the best possible model.\r\n",
        "\r\n",
        "The estimator with which we are going to work in the optimization is the following."
      ]
    },
    {
      "cell_type": "code",
      "metadata": {
        "id": "mZXK-tu0B-C_"
      },
      "source": [
        "est = AdaBoostRegressor()"
      ],
      "execution_count": null,
      "outputs": []
    },
    {
      "cell_type": "markdown",
      "metadata": {
        "id": "4wspPeaJBKn6"
      },
      "source": [
        "## Grid Search\r\n",
        "\r\n",
        "Grind Search generates candidates from a grid of parameter values specified with the param_grid parameter."
      ]
    },
    {
      "cell_type": "code",
      "metadata": {
        "colab": {
          "base_uri": "https://localhost:8080/"
        },
        "id": "QPNp8yW-BKEr",
        "outputId": "c094c962-a3de-420a-9b6a-8188bbc2cb4f"
      },
      "source": [
        "# We declare the variables to be hyperparameterized\r\n",
        "param = [{'n_estimators': [50,100,150,200,250,300,450,500,550,600,650,700,750]}]\r\n",
        "\r\n",
        "# Initialize the grid search\r\n",
        "grid = GridSearchCV(estimator = est, param_grid = param, cv = 5)\r\n",
        "\r\n",
        "# Train our model\r\n",
        "grid.fit(X_train,y_train)\r\n",
        "\r\n",
        "# We show the results\r\n",
        "print(\"Mejores parámetros: \")\r\n",
        "print(grid.best_params_)\r\n",
        "print()\r\n",
        "print(\"Puntuaciones: \")\r\n",
        "print(grid.cv_results_['mean_test_score'])"
      ],
      "execution_count": null,
      "outputs": [
        {
          "output_type": "stream",
          "text": [
            "Mejores parámetros: \n",
            "{'n_estimators': 200}\n",
            "\n",
            "Puntuaciones: \n",
            "[-1.08166796 -0.35194808 -0.52198921 -0.18205959 -0.18961107 -0.6039089\n",
            " -0.24377067 -0.42242286 -0.57622842 -0.55560231 -0.34653872 -0.57063852\n",
            " -0.41841947]\n"
          ],
          "name": "stdout"
        }
      ]
    },
    {
      "cell_type": "markdown",
      "metadata": {
        "id": "SL-g732sKkWk"
      },
      "source": [
        "Now, we predict with the estimator with the best parameters."
      ]
    },
    {
      "cell_type": "code",
      "metadata": {
        "id": "vHXBRYAKKlWn"
      },
      "source": [
        "y_grid = grid.predict(X_test)"
      ],
      "execution_count": null,
      "outputs": []
    },
    {
      "cell_type": "code",
      "metadata": {
        "colab": {
          "base_uri": "https://localhost:8080/",
          "height": 356
        },
        "id": "qx0rcOB_KngT",
        "outputId": "80b22c43-a025-456e-c1c2-e7c57b7edd1c"
      },
      "source": [
        "xx = np.stack(i for i in range(y_test.shape[0]))\r\n",
        "plt.plot(xx, y_test, c='r', label='data')\r\n",
        "#plt.plot(xx, y, c='k', label='data')\r\n",
        "plt.plot(xx, y_grid, c='g', label='prediction')\r\n",
        "plt.axis('tight')\r\n",
        "plt.legend()\r\n",
        "plt.title(\"AdaBoost Regressor\")\r\n",
        "\r\n",
        "plt.show()\r\n",
        "\r\n",
        "mae = mean_absolute_error(y_test, y_grid)\r\n",
        "print ('MAE', mae)\r\n"
      ],
      "execution_count": null,
      "outputs": [
        {
          "output_type": "stream",
          "text": [
            "MAE 21.030451771278514\n"
          ],
          "name": "stdout"
        },
        {
          "output_type": "stream",
          "text": [
            "/usr/local/lib/python3.6/dist-packages/IPython/core/interactiveshell.py:2822: FutureWarning: arrays to stack must be passed as a \"sequence\" type such as list or tuple. Support for non-sequence iterables such as generators is deprecated as of NumPy 1.16 and will raise an error in the future.\n",
            "  if self.run_code(code, result):\n"
          ],
          "name": "stderr"
        },
        {
          "output_type": "display_data",
          "data": {
            "image/png": "[encoded data removed]",
            "text/plain": [
              "<Figure size 432x288 with 1 Axes>"
            ]
          },
          "metadata": {
            "tags": [],
            "needs_background": "light"
          }
        }
      ]
    },
    {
      "cell_type": "markdown",
      "metadata": {
        "id": "MVPboc5WDU72"
      },
      "source": [
        "### Submision Result\r\n",
        "\r\n",
        "Once we have identified the best parameterization we will go on to make an execution of the model and we will graph its results."
      ]
    },
    {
      "cell_type": "code",
      "metadata": {
        "colab": {
          "base_uri": "https://localhost:8080/"
        },
        "id": "Qh0YLWdJDhju",
        "outputId": "582cc38c-c8e7-45b2-d2f5-fbf2793d10ec"
      },
      "source": [
        "final_model_prediction = grid.predict(df_test_final)\r\n",
        "\r\n",
        "# round the result and cast to int\r\n",
        "y = np.rint(final_model_prediction) # round\r\n",
        "y = y.astype(int) # cast to int\r\n",
        "res = np.hstack(y)\r\n",
        "\r\n",
        "res"
      ],
      "execution_count": null,
      "outputs": [
        {
          "output_type": "execute_result",
          "data": {
            "text/plain": [
              "array([ 16,  23,  23,  48,  45,  49,  44,  43,  43,  43,  48,  44,  43,\n",
              "        43,  49,  44,  43,  54,  88,  53,  49,  23,  22,  43,  23,  42,\n",
              "        48,  43,  43,  44,  24,  16,  23,  16,  16,  22,  16,  23,  16,\n",
              "        16,  16,  16,  16,  16,  16,  16,  16,  16,  16,  16,  24,  23,\n",
              "        23,  23,  44,  24,  42,  46,  49,  43,  49,  46,  43,  46,  44,\n",
              "        44,  46,  43,  44,  51,  44,  43,  43,  43,  51,  51,  57,  43,\n",
              "        43,  49,  23,  42,  39,  44,  44,  24,  24,  22,  16,  16,  16,\n",
              "        24,  16,  16,  16,  23,  23,  16,  16,  22,  45,  23,  16,  24,\n",
              "        42,  23,  44,  43,  43, 102,  55,  44,  45,  50, 102,  97,  53,\n",
              "        23,  54,  88,  54,  87,  89,  97,  87,  48,  44,  49,  80,  43,\n",
              "        49,  23,  39,  24,  23,  16,  16,  24,  16,  23,  16,  16,  16,\n",
              "        16,  16,  16,  23,  16,  16,  16,  16,  16,  16,  13,  16,  23,\n",
              "        24,  25,  24,  15,  16,  40,  16,  25,  23,  23,  53,  53,  23,\n",
              "        77,  44,  25,  53, 102,  23,  43,  55,  24,  54,  54,  42,  42,\n",
              "        44,  23,  23,  39,  44,  24,  16,  25,  23,  23,  23,  16,  16,\n",
              "        16,  16,  16,  16,  16,  16,  16,  23,  23,  23,  23,  43,  24,\n",
              "        16,  49,  25,  42,  40,  47,  43,  44,  46,  46,  44,  42,  44,\n",
              "        51,  43,  46,  53,  47,  43,  44,  46,  46,  46,  43,  43,  53,\n",
              "        43,  46,  43,  43,  43,  48,  44,  22,  16,  13,  23,  16,  16,\n",
              "        23,  16,  16,  16,  23,  15,  16,  16,  22,  24,  46,  47,  16,\n",
              "        13,  13,  13,  13,  13,  13,  16,  13,  13,  13,  13,  13,  13,\n",
              "        13,  13,  13,  13,  13,  13,  13,  13,  13,  13,  13,  13,  13,\n",
              "        13,  13,  13,  13,  13,  13,  13,  13,  13,  13,  15,  13,  13,\n",
              "        13,  13,  16,  13,  22,  13,  16,  22,  22,  22,  21,  22,  21,\n",
              "        21,  21,  13,  15,  15,  13,  13,  13,  13,  13,  13,  13,  13,\n",
              "        24,  13,  13,  23,  13,  13,  13,  13,  13,  13,  13,  13,  22,\n",
              "        22,  22,  22,  13,  13,  13,  15,  13,  13,  15,  15,  13,  13,\n",
              "        13,  13,  23,  22,  22,  13,  15,  22,  13,  21,  13,  16,  13,\n",
              "        13,  16,  16,  16,  16,  16,  13,  13,  16,  13,  13,  13,  13,\n",
              "        13,  13,  22,  13,  13,  13,  13,  22,  15,  23,  22,  13,  13,\n",
              "        23,  16,  24,  22,  39,  22,  22,  13,  13,  22,  22,  25,  13,\n",
              "        13,  13,  22,  13,  13,  22,  13,  15,  13,  13,  13,  15,  13])"
            ]
          },
          "metadata": {
            "tags": []
          },
          "execution_count": 23
        }
      ]
    },
    {
      "cell_type": "markdown",
      "metadata": {
        "id": "YYMFhhpmDhPN"
      },
      "source": [
        "We build the output file"
      ]
    },
    {
      "cell_type": "code",
      "metadata": {
        "id": "KYCIXjaqDzn3"
      },
      "source": [
        "submission = pd.read_csv(\"submission_format.csv\",\r\n",
        "                         index_col=[0, 1, 2])\r\n",
        "\r\n",
        "\r\n",
        "submission.total_cases = final_model_prediction.astype(np.int64)\r\n",
        "submission.to_csv(\"result_grid.csv\")"
      ],
      "execution_count": null,
      "outputs": []
    },
    {
      "cell_type": "markdown",
      "metadata": {
        "id": "GkCw18gBD07n"
      },
      "source": [
        "**And the result is:**\r\n",
        "\r\n",
        "*------\r\n",
        "Woo! I scored ----- on 'DengAI: Predicting Disease Spread'!*"
      ]
    },
    {
      "cell_type": "markdown",
      "metadata": {
        "id": "Rske9rldBLNo"
      },
      "source": [
        "## Randomized Search\r\n",
        "\r\n",
        "Randomized Search can sample a given number of candidates from a parameter space with a specified distribution.\r\n"
      ]
    },
    {
      "cell_type": "code",
      "metadata": {
        "colab": {
          "base_uri": "https://localhost:8080/"
        },
        "id": "907o0RzXBLzK",
        "outputId": "babde451-13e9-446b-ae65-b33e4d16f5fa"
      },
      "source": [
        "# We declare the variables to be hyperparameterized\r\n",
        "param = [{'n_estimators': [50,100,150,200,250,300,450,500,550,600,650,700,750]}]\r\n",
        "\r\n",
        "# Initialize the grid search\r\n",
        "random = RandomizedSearchCV(estimator = est, param_distributions = param, cv = 5)\r\n",
        "\r\n",
        "# Train our model\r\n",
        "random.fit(X_train,y_train)\r\n",
        "\r\n",
        "# We show the results\r\n",
        "print(\"Mejores parámetros: \")\r\n",
        "print(grid.best_params_)\r\n",
        "print()\r\n",
        "print(\"Puntuaciones: \")\r\n",
        "print(grid.cv_results_['mean_test_score'])"
      ],
      "execution_count": null,
      "outputs": [
        {
          "output_type": "stream",
          "text": [
            "Mejores parámetros: \n",
            "{'max_depth': 2, 'n_estimators': 50}\n",
            "\n",
            "Puntuaciones: \n",
            "[ 0.10523024  0.10322747  0.10153094  0.09857688  0.10055871  0.09826032\n",
            "  0.0998078   0.09982301  0.10034248  0.09967821  0.0980637   0.09899248\n",
            "  0.09984952  0.06443714  0.08191204  0.07052295  0.07765943  0.07320428\n",
            "  0.07156184  0.06939422  0.07526501  0.07229545  0.07844626  0.07378295\n",
            "  0.07318999  0.07255605  0.0094095   0.01403499 -0.00205863  0.01413613\n",
            " -0.00314057  0.01217256  0.00236548  0.01055646  0.00600914  0.0155698\n",
            "  0.00317629  0.00510009  0.00701806 -0.07403429 -0.06362895 -0.07121264\n",
            " -0.07408757 -0.06198078 -0.05743031 -0.07132763 -0.05694915 -0.05050929\n",
            " -0.04989884 -0.05323741 -0.06296979 -0.04603837 -0.12366978 -0.07881381\n",
            " -0.09315589 -0.08793365 -0.09790385 -0.10451023 -0.08270541 -0.09107812\n",
            " -0.10270959 -0.08424067 -0.08569773 -0.09130316 -0.08400328 -0.12136425\n",
            " -0.09403718 -0.11386873 -0.12191449 -0.11553426 -0.11247695 -0.09629807\n",
            " -0.11599129 -0.11176387 -0.10075207 -0.10715452 -0.10889803 -0.10364964\n",
            " -0.10597064 -0.11677884 -0.11592425 -0.11220638 -0.11590032 -0.09198894\n",
            " -0.11249124 -0.11278363 -0.1001509  -0.11547778 -0.10740788 -0.10697083\n",
            " -0.11284225 -0.1400214  -0.11295871 -0.10517271 -0.11395277 -0.11414136\n",
            " -0.11304408 -0.11216892 -0.10926244 -0.11755544 -0.11581613 -0.10597231\n",
            " -0.13323112 -0.11428502 -0.12292005 -0.12925748 -0.14106771 -0.11268518\n",
            " -0.11829265 -0.12503838 -0.12116558 -0.1051401  -0.1002253  -0.10518123\n",
            " -0.11546556 -0.11158889 -0.10211793]\n"
          ],
          "name": "stdout"
        }
      ]
    },
    {
      "cell_type": "markdown",
      "metadata": {
        "id": "xVlDfcgWFLSs"
      },
      "source": [
        "Now, we predict with the estimator with the best parameters."
      ]
    },
    {
      "cell_type": "code",
      "metadata": {
        "id": "Ctw1SIa2FO7R"
      },
      "source": [
        "y_random = random.predict(X_test)"
      ],
      "execution_count": null,
      "outputs": []
    },
    {
      "cell_type": "code",
      "metadata": {
        "colab": {
          "base_uri": "https://localhost:8080/",
          "height": 356
        },
        "id": "lslogh2pFTZA",
        "outputId": "0eca0d6a-c925-478a-8581-448babcac71e"
      },
      "source": [
        "mae = mean_absolute_error(y_test, y_random)\r\n",
        "print ('MAE', mae)\r\n",
        "\r\n",
        "xx = np.stack(i for i in range(y_test.shape[0]))\r\n",
        "plt.plot(xx, y_test, c='r', label='data')\r\n",
        "#plt.plot(xx, y, c='k', label='data')\r\n",
        "plt.plot(xx, y_random, c='g', label='prediction')\r\n",
        "plt.axis('tight')\r\n",
        "plt.legend()\r\n",
        "plt.title(\"AdaBoost Regressor\")\r\n",
        "\r\n",
        "plt.show()"
      ],
      "execution_count": null,
      "outputs": [
        {
          "output_type": "stream",
          "text": [
            "MAE 21.20947268004697\n"
          ],
          "name": "stdout"
        },
        {
          "output_type": "stream",
          "text": [
            "/usr/local/lib/python3.6/dist-packages/IPython/core/interactiveshell.py:2822: FutureWarning: arrays to stack must be passed as a \"sequence\" type such as list or tuple. Support for non-sequence iterables such as generators is deprecated as of NumPy 1.16 and will raise an error in the future.\n",
            "  if self.run_code(code, result):\n"
          ],
          "name": "stderr"
        },
        {
          "output_type": "display_data",
          "data": {
            "image/png": "[encoded data removed]",
            "text/plain": [
              "<Figure size 432x288 with 1 Axes>"
            ]
          },
          "metadata": {
            "tags": [],
            "needs_background": "light"
          }
        }
      ]
    },
    {
      "cell_type": "markdown",
      "metadata": {
        "id": "menaQw29FZWc"
      },
      "source": [
        "### Submision Result\r\n",
        "\r\n",
        "Once the best parameterization has been identified, we will carry out an execution of the model to make a prediction of the weeks that are proposed to us, and we will graph its results."
      ]
    },
    {
      "cell_type": "code",
      "metadata": {
        "colab": {
          "base_uri": "https://localhost:8080/"
        },
        "id": "mAuPXoYDFYk0",
        "outputId": "9a98c4e0-fc06-44a3-e0b8-7d9b6735d683"
      },
      "source": [
        "final_model_prediction = grid.predict(df_test_final)\r\n",
        "\r\n",
        "# Round the result and cast to int\r\n",
        "y = np.rint(final_model_prediction)\r\n",
        "y = y.astype(int)\r\n",
        "res = np.hstack(y)\r\n",
        "\r\n",
        "res"
      ],
      "execution_count": null,
      "outputs": [
        {
          "output_type": "execute_result",
          "data": {
            "text/plain": [
              "array([ 16,  23,  23,  48,  45,  49,  44,  43,  43,  43,  48,  44,  43,\n",
              "        43,  49,  44,  43,  54,  88,  53,  49,  23,  22,  43,  23,  42,\n",
              "        48,  43,  43,  44,  24,  16,  23,  16,  16,  22,  16,  23,  16,\n",
              "        16,  16,  16,  16,  16,  16,  16,  16,  16,  16,  16,  24,  23,\n",
              "        23,  23,  44,  24,  42,  46,  49,  43,  49,  46,  43,  46,  44,\n",
              "        44,  46,  43,  44,  51,  44,  43,  43,  43,  51,  51,  57,  43,\n",
              "        43,  49,  23,  42,  39,  44,  44,  24,  24,  22,  16,  16,  16,\n",
              "        24,  16,  16,  16,  23,  23,  16,  16,  22,  45,  23,  16,  24,\n",
              "        42,  23,  44,  43,  43, 102,  55,  44,  45,  50, 102,  97,  53,\n",
              "        23,  54,  88,  54,  87,  89,  97,  87,  48,  44,  49,  80,  43,\n",
              "        49,  23,  39,  24,  23,  16,  16,  24,  16,  23,  16,  16,  16,\n",
              "        16,  16,  16,  23,  16,  16,  16,  16,  16,  16,  13,  16,  23,\n",
              "        24,  25,  24,  15,  16,  40,  16,  25,  23,  23,  53,  53,  23,\n",
              "        77,  44,  25,  53, 102,  23,  43,  55,  24,  54,  54,  42,  42,\n",
              "        44,  23,  23,  39,  44,  24,  16,  25,  23,  23,  23,  16,  16,\n",
              "        16,  16,  16,  16,  16,  16,  16,  23,  23,  23,  23,  43,  24,\n",
              "        16,  49,  25,  42,  40,  47,  43,  44,  46,  46,  44,  42,  44,\n",
              "        51,  43,  46,  53,  47,  43,  44,  46,  46,  46,  43,  43,  53,\n",
              "        43,  46,  43,  43,  43,  48,  44,  22,  16,  13,  23,  16,  16,\n",
              "        23,  16,  16,  16,  23,  15,  16,  16,  22,  24,  46,  47,  16,\n",
              "        13,  13,  13,  13,  13,  13,  16,  13,  13,  13,  13,  13,  13,\n",
              "        13,  13,  13,  13,  13,  13,  13,  13,  13,  13,  13,  13,  13,\n",
              "        13,  13,  13,  13,  13,  13,  13,  13,  13,  13,  15,  13,  13,\n",
              "        13,  13,  16,  13,  22,  13,  16,  22,  22,  22,  21,  22,  21,\n",
              "        21,  21,  13,  15,  15,  13,  13,  13,  13,  13,  13,  13,  13,\n",
              "        24,  13,  13,  23,  13,  13,  13,  13,  13,  13,  13,  13,  22,\n",
              "        22,  22,  22,  13,  13,  13,  15,  13,  13,  15,  15,  13,  13,\n",
              "        13,  13,  23,  22,  22,  13,  15,  22,  13,  21,  13,  16,  13,\n",
              "        13,  16,  16,  16,  16,  16,  13,  13,  16,  13,  13,  13,  13,\n",
              "        13,  13,  22,  13,  13,  13,  13,  22,  15,  23,  22,  13,  13,\n",
              "        23,  16,  24,  22,  39,  22,  22,  13,  13,  22,  22,  25,  13,\n",
              "        13,  13,  22,  13,  13,  22,  13,  15,  13,  13,  13,  15,  13])"
            ]
          },
          "metadata": {
            "tags": []
          },
          "execution_count": 29
        }
      ]
    },
    {
      "cell_type": "markdown",
      "metadata": {
        "id": "2Cz8FgrnFhxZ"
      },
      "source": [
        "We build the output file"
      ]
    },
    {
      "cell_type": "code",
      "metadata": {
        "id": "JiftmYmPFhfo"
      },
      "source": [
        "submission = pd.read_csv(\"submission_format.csv\",index_col=[0, 1, 2])\r\n",
        "\r\n",
        "submission.total_cases = final_model_prediction.astype(np.int64)\r\n",
        "submission.to_csv(\"result_randomized.csv\")"
      ],
      "execution_count": null,
      "outputs": []
    },
    {
      "cell_type": "markdown",
      "metadata": {
        "id": "dK_wBLMgFiJT"
      },
      "source": [
        "**And the result is:**\r\n",
        "\r\n",
        "*------\r\n",
        "Woo! I scored ----- on 'DengAI: Predicting Disease Spread'!*"
      ]
    },
    {
      "cell_type": "markdown",
      "metadata": {
        "id": "dC_HiLhlZwCl"
      },
      "source": [
        "# 5. Conclusions\r\n",
        "\r\n",
        "Cuando tengamos alguna, comparandolo con los de la linea base."
      ]
    }
  ]
}