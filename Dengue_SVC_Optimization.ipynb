{
  "nbformat": 4,
  "nbformat_minor": 0,
  "metadata": {
    "colab": {
      "name": "Dengue_SVC_Optimization.ipynb",
      "provenance": [],
      "collapsed_sections": [],
      "toc_visible": true
    },
    "kernelspec": {
      "name": "python3",
      "display_name": "Python 3"
    }
  },
  "cells": [
    {
      "cell_type": "markdown",
      "metadata": {
        "id": "Ti5Wnz3cgkRD"
      },
      "source": [
        "# 0. Introduction\n",
        "\n",
        "We are going to use the data that we have been provided to study and try to predict the evolution of Dengue disease in the cities of **San Juan**, *Puerto Rico*, and **Iquitos**, *Peru*. More information in this [link](https://www.drivendata.org/competitions/44/dengai-predicting-disease-spread/).\n",
        "\n",
        "In this notebook, the Decision Tree algorithm studied in the baseline will be optimized, with the aim of finding the best parameterization of this algorithm, with the aim of continuing to search for better models.\n",
        "\n",
        "\n"
      ]
    },
    {
      "cell_type": "markdown",
      "metadata": {
        "id": "Yo0x5dyH5b4N"
      },
      "source": [
        "# 1. Libraries\r\n",
        "\r\n",
        "Before starting any analysis we must ensure that the basic and general use libraries *(numpy, pandas, etc.)* are correctly imported. "
      ]
    },
    {
      "cell_type": "code",
      "metadata": {
        "id": "QcqAjsMIKluO"
      },
      "source": [
        "# Preprocessing\n",
        "from sklearn import preprocessing\n",
        "\n",
        "# Loading the data\n",
        "import pandas as pd\n",
        "import io\n",
        "from google.colab import files\n",
        "\n",
        "# Graphics display\n",
        "import seaborn as sns\n",
        "import matplotlib.pyplot as plt\n",
        "\n",
        "# Estimator and model selection\n",
        "from sklearn.model_selection import train_test_split, GridSearchCV, RandomizedSearchCV\n",
        "from sklearn.svm import SVR\n",
        "\n",
        "# Others\n",
        "import numpy as np    \n",
        "from sklearn.metrics import mean_absolute_error "
      ],
      "execution_count": null,
      "outputs": []
    },
    {
      "cell_type": "markdown",
      "metadata": {
        "id": "fvxDPxPhheSW"
      },
      "source": [
        "# 2. Loading the data\r\n",
        "\r\n",
        "The first step is to upload all the CSV files that have been provided to us and that thanks to them we will obtain the data with which we are going to work. To do this, we will use the tools that Google Colab offers us when uploading files."
      ]
    },
    {
      "cell_type": "markdown",
      "metadata": {
        "id": "dZSaoCMRAq8m"
      },
      "source": [
        "## Preprocessing the data\n",
        "\n",
        "We transform the data in order to allow us the posterior use of the algorithms to build prediction models, for example, missing values, from categories to numbers, etc."
      ]
    },
    {
      "cell_type": "code",
      "metadata": {
        "id": "zr57uSH3SO82"
      },
      "source": [
        "# Make function to preprocess data\r\n",
        "def preprocess_data(data_path, labels_path=None):\r\n",
        "    # Load data and set index to city, year, weekofyear\r\n",
        "    df = pd.read_csv(data_path)\r\n",
        "    # Fill missing values\r\n",
        "    df.fillna(df.mean(), inplace=True)\r\n",
        "    lb = preprocessing.LabelBinarizer()\r\n",
        "    \r\n",
        "    if labels_path:\r\n",
        "        labels = pd.read_csv(labels_path)\r\n",
        "        \r\n",
        "        labels['city'] = lb.fit_transform(labels['city'])\r\n",
        "    \r\n",
        "    df['city'] =  lb.fit_transform(df['city'])\r\n",
        "\r\n",
        "    ## Coger variables, a la parte de mejoras. Esto se debe de borrar.\r\n",
        "    selected_features = ['reanalysis_specific_humidity_g_per_kg', 'reanalysis_dew_point_temp_k', \r\n",
        "                 'station_avg_temp_c', 'station_min_temp_c']\r\n",
        "    df = df[selected_features]\r\n",
        "\r\n",
        "    if labels_path:\r\n",
        "        return df, labels\r\n",
        "    return df"
      ],
      "execution_count": null,
      "outputs": []
    },
    {
      "cell_type": "markdown",
      "metadata": {
        "id": "Lle9Q95EHDog"
      },
      "source": [
        "We execute the newly compiled method, which will allow us to load and preprocess our data."
      ]
    },
    {
      "cell_type": "code",
      "metadata": {
        "id": "lN74ew6GSShd"
      },
      "source": [
        "df_features, df_labels = preprocess_data('dengue_features_train.csv', labels_path=\"dengue_labels_train.csv\")"
      ],
      "execution_count": null,
      "outputs": []
    },
    {
      "cell_type": "markdown",
      "metadata": {
        "id": "xC3XXbOoHF_I"
      },
      "source": [
        "Finally, we also load the file with which we will carry out the final prediction, once our model is trained."
      ]
    },
    {
      "cell_type": "code",
      "metadata": {
        "id": "YUrvIsptSU7d"
      },
      "source": [
        "df_test_final = preprocess_data(\"dengue_features_test.csv\")"
      ],
      "execution_count": null,
      "outputs": []
    },
    {
      "cell_type": "markdown",
      "metadata": {
        "id": "CedFqCvJA88K"
      },
      "source": [
        "# 3. Detaching the dataset\r\n",
        "\r\n",
        "To train the models that we make, it is necessary to separate our training dataset into two parts, one precisely to train the model, and another to check if our models are good."
      ]
    },
    {
      "cell_type": "code",
      "metadata": {
        "id": "eQjikOIh6qUI"
      },
      "source": [
        "X_train, X_test, y_train, y_test = train_test_split(df_features, df_labels['total_cases'], test_size=0.2, random_state=1)"
      ],
      "execution_count": null,
      "outputs": []
    },
    {
      "cell_type": "markdown",
      "metadata": {
        "id": "M-rFR08X-_g9"
      },
      "source": [
        "# 4. Hyperparameter optimization\r\n",
        "\r\n",
        "Previously, in the baseline, we have created models with simple optimization. That is, we have only created models with a combination of parameters. However, now, thanks to the *GridSearchCV* and *RandomizedSearchCV* functions, we will be able to combine different values for the parameters of the estimators, so that it returns us the best possible model.\r\n",
        "\r\n",
        "The estimator with which we are going to work in the optimization is the following."
      ]
    },
    {
      "cell_type": "code",
      "metadata": {
        "id": "mZXK-tu0B-C_"
      },
      "source": [
        "est = SVR()"
      ],
      "execution_count": null,
      "outputs": []
    },
    {
      "cell_type": "markdown",
      "metadata": {
        "id": "4wspPeaJBKn6"
      },
      "source": [
        "## Grid Search\r\n",
        "\r\n",
        "Grind Search generates candidates from a grid of parameter values specified with the param_grid parameter."
      ]
    },
    {
      "cell_type": "code",
      "metadata": {
        "colab": {
          "base_uri": "https://localhost:8080/"
        },
        "id": "QPNp8yW-BKEr",
        "outputId": "60ba39f2-c43f-4745-b583-58d6a633a5a6"
      },
      "source": [
        "# We declare the variables to be hyperparameterized\r\n",
        "param = [{'kernel': ['poly','rbf','linear'],\r\n",
        "          'C':[1.00,2.00,3.00],\r\n",
        "          'gamma':['scale','auto']}]\r\n",
        "\r\n",
        "# Initialize the grid search\r\n",
        "grid = GridSearchCV(estimator = est, param_grid = param, cv = 5)\r\n",
        "\r\n",
        "# Train our model\r\n",
        "grid.fit(X_train,y_train)\r\n",
        "\r\n",
        "# We show the results\r\n",
        "print(\"Mejores parámetros: \")\r\n",
        "print(grid.best_params_)\r\n",
        "print(\"Puntuaciones: \")\r\n",
        "print(grid.cv_results_['mean_test_score'])"
      ],
      "execution_count": null,
      "outputs": [
        {
          "output_type": "stream",
          "text": [
            "Mejores parámetros: \n",
            "{'C': 3.0, 'gamma': 'auto', 'kernel': 'rbf'}\n",
            "\n",
            "Puntuaciones: \n",
            "[-1.00195196e-01 -1.01713749e-01 -2.45981701e-02 -1.20267881e+09\n",
            " -9.25241663e-03 -2.45981701e-02 -9.84690295e-02 -1.01265792e-01\n",
            " -2.46406220e-02 -3.16945941e+09 -2.38543263e-05 -2.46406220e-02\n",
            " -9.63634387e-02 -1.00962695e-01 -2.49639516e-02 -2.22034817e+10\n",
            "  5.15684823e-03 -2.49639516e-02]\n"
          ],
          "name": "stdout"
        }
      ]
    },
    {
      "cell_type": "markdown",
      "metadata": {
        "id": "SL-g732sKkWk"
      },
      "source": [
        "Now, we predict with the estimator with the best parameters."
      ]
    },
    {
      "cell_type": "code",
      "metadata": {
        "id": "vHXBRYAKKlWn"
      },
      "source": [
        "y_grid = grid.predict(X_test)"
      ],
      "execution_count": null,
      "outputs": []
    },
    {
      "cell_type": "code",
      "metadata": {
        "colab": {
          "base_uri": "https://localhost:8080/",
          "height": 299
        },
        "id": "qx0rcOB_KngT",
        "outputId": "9e9ac371-a475-4723-9ade-e93056642bec"
      },
      "source": [
        "xx = np.arange(0,len(y_test),1)\r\n",
        "plt.plot(xx, y_test, c='r', label='data')\r\n",
        "plt.plot(xx, y_grid, c='g', label='prediction')\r\n",
        "plt.axis('tight')\r\n",
        "plt.legend()\r\n",
        "plt.title(\"SVR Regressor\")\r\n",
        "\r\n",
        "plt.show()\r\n",
        "\r\n",
        "mae = mean_absolute_error(y_test, y_grid)\r\n",
        "print ('MAE', mae)\r\n"
      ],
      "execution_count": null,
      "outputs": [
        {
          "output_type": "display_data",
          "data": {
            "image/png": "[encoded data removed]",
            "text/plain": [
              "<Figure size 432x288 with 1 Axes>"
            ]
          },
          "metadata": {
            "tags": [],
            "needs_background": "light"
          }
        },
        {
          "output_type": "stream",
          "text": [
            "MAE 15.911257496926762\n"
          ],
          "name": "stdout"
        }
      ]
    },
    {
      "cell_type": "markdown",
      "metadata": {
        "id": "MVPboc5WDU72"
      },
      "source": [
        "### Submision Result\r\n",
        "\r\n",
        "Once we have identified the best parameterization we will go on to make an execution of the model and we will graph its results."
      ]
    },
    {
      "cell_type": "code",
      "metadata": {
        "colab": {
          "base_uri": "https://localhost:8080/"
        },
        "id": "Qh0YLWdJDhju",
        "outputId": "0e7e8638-28eb-49ea-afbf-98eb6bd533b3"
      },
      "source": [
        "final_model_prediction = grid.predict(df_test_final)\r\n",
        "\r\n",
        "# round the result and cast to int\r\n",
        "y = np.rint(final_model_prediction) # round\r\n",
        "y = y.astype(int) # cast to int\r\n",
        "res = np.hstack(y)\r\n",
        "\r\n",
        "res"
      ],
      "execution_count": null,
      "outputs": [
        {
          "output_type": "execute_result",
          "data": {
            "text/plain": [
              "array([12, 17, 14, 14, 14, 18, 18, 24, 23, 24, 20, 20, 26, 25, 26, 29, 28,\n",
              "       30, 30, 19, 29, 14,  7, 23, 15, 19, 19, 23, 20, 20, 18, 12, 14, 14,\n",
              "       17, 11, 17, 16, 17, 15, 17, 16, 12, 16, 13, 10, 13, 13, 13, 11,  7,\n",
              "        7, 11, 12, 18, 18, 22, 18, 20, 23, 23, 22, 23, 24, 27, 23, 25, 28,\n",
              "       26, 21, 25, 19, 27, 24, 28, 24, 28, 28, 24, 20, 15, 22, 19, 19, 18,\n",
              "       14, 16, 11, 13, 10, 15, 21, 18, 11, 13, 13, 14,  5, 10,  8, 16,  7,\n",
              "       12, 19, 19, 13, 19, 23, 24, 29, 31, 30, 19, 18, 30, 25, 19, 13, 31,\n",
              "       29, 31, 30, 30, 31, 30, 30, 27, 29, 29, 26, 21, 14, 19, 19, 12, 14,\n",
              "       17, 19, 17, 15, 18, 14, 18, 13, 16, 16, 16, 18, 14, 16, 13, 16, 12,\n",
              "        9, 13, 15,  8, 21, 10,  4,  7, 24,  9, 12,  8, 13, 25, 19, 14, 31,\n",
              "       25, 13, 19, 29, 13, 28, 29, 15, 26, 26, 19, 19, 18, 14, 15, 19, 19,\n",
              "       16, 16, 21, 11, 13, 16, 16, 17, 18, 16, 17, 16, 17, 12, 16, 14,  9,\n",
              "       16, 17, 14, 14,  9, 19, 19, 22, 21, 17, 25, 24, 22, 23, 26, 19, 27,\n",
              "       30, 27, 29, 19, 28, 25, 24, 23, 22, 26, 28, 24, 19, 28, 27, 25, 24,\n",
              "       25, 19, 18, 11, 14,  9, 15, 14, 15, 15, 16, 15, 13, 12,  7, 10,  9,\n",
              "       12, 15, 15, 14, 12,  5,  5,  8,  9,  4,  3,  6,  2,  2,  2,  3,  3,\n",
              "        8,  3,  6,  6,  6,  6,  9,  7,  7,  9,  6,  8,  5,  2, 10,  2,  4,\n",
              "        4,  3,  3,  6,  7,  7,  9,  7,  6,  7,  8,  8,  8,  7,  8,  8, 13,\n",
              "       14, 11, 11, 11, 11,  3, 11, 11,  1,  4,  6,  2,  2,  4,  9,  6,  2,\n",
              "        4,  3, 12,  3,  5, 12,  6,  4,  5,  7,  8,  6,  5,  7, 11,  7, 13,\n",
              "        9,  3,  4,  9, 10,  7,  4,  1,  8,  8,  1,  6,  5, 16, 12,  8,  6,\n",
              "        3, 10,  7, 11,  4,  8,  1,  2,  5,  6,  3,  9,  5,  2,  4,  3,  1,\n",
              "        1,  4,  2,  2,  2,  9,  3,  8,  5,  6, 10,  9,  8,  7,  8,  7, 13,\n",
              "        6, 17, 10, 19,  9,  9,  8,  6, 11,  7, 12,  6,  5,  7,  9,  8,  2,\n",
              "        9,  5,  9,  6,  4,  6,  9,  8])"
            ]
          },
          "metadata": {
            "tags": []
          },
          "execution_count": 31
        }
      ]
    },
    {
      "cell_type": "markdown",
      "metadata": {
        "id": "YYMFhhpmDhPN"
      },
      "source": [
        "We build the output file"
      ]
    },
    {
      "cell_type": "code",
      "metadata": {
        "id": "KYCIXjaqDzn3"
      },
      "source": [
        "submission = pd.read_csv(\"submission_format.csv\",\r\n",
        "                         index_col=[0, 1, 2])\r\n",
        "\r\n",
        "\r\n",
        "submission.total_cases = final_model_prediction.astype(np.int64)\r\n",
        "submission.to_csv(\"result_grid.csv\")"
      ],
      "execution_count": null,
      "outputs": []
    },
    {
      "cell_type": "markdown",
      "metadata": {
        "id": "GkCw18gBD07n"
      },
      "source": [
        "**And the result is:**\r\n",
        "\r\n",
        "*29.0409\r\n",
        "Woo! I scored 29.0409 on 'DengAI: Predicting Disease Spread'!*"
      ]
    },
    {
      "cell_type": "markdown",
      "metadata": {
        "id": "Rske9rldBLNo"
      },
      "source": [
        "## Randomized Search\r\n",
        "\r\n",
        "Randomized Search can sample a given number of candidates from a parameter space with a specified distribution.\r\n"
      ]
    },
    {
      "cell_type": "code",
      "metadata": {
        "colab": {
          "base_uri": "https://localhost:8080/"
        },
        "id": "907o0RzXBLzK",
        "outputId": "3add46ce-958d-47ed-af50-5f4845102893"
      },
      "source": [
        "# We declare the variables to be hyperparameterized\r\n",
        "param = [{'kernel': ['poly','rbf','linear'],\r\n",
        "          'C':[1.00,2.00,3.00],\r\n",
        "          'gamma':['scale','auto']}]\r\n",
        "\r\n",
        "# Initialize the grid search\r\n",
        "random = RandomizedSearchCV(estimator = est, param_distributions = param, cv = 5)\r\n",
        "\r\n",
        "# Train our model\r\n",
        "random.fit(X_train,y_train)\r\n",
        "\r\n",
        "# We show the results\r\n",
        "print(\"Mejores parámetros: \")\r\n",
        "print(random.best_params_)\r\n",
        "print()\r\n",
        "print(\"Puntuaciones: \")\r\n",
        "print(random.cv_results_['mean_test_score'])"
      ],
      "execution_count": null,
      "outputs": [
        {
          "output_type": "stream",
          "text": [
            "Mejores parámetros: \n",
            "{'C': 3.0, 'gamma': 'auto', 'kernel': 'rbf'}\n",
            "\n",
            "Puntuaciones: \n",
            "[-1.00195196e-01 -1.01713749e-01 -2.45981701e-02 -1.20267881e+09\n",
            " -9.25241663e-03 -2.45981701e-02 -9.84690295e-02 -1.01265792e-01\n",
            " -2.46406220e-02 -3.16945941e+09 -2.38543263e-05 -2.46406220e-02\n",
            " -9.63634387e-02 -1.00962695e-01 -2.49639516e-02 -2.22034817e+10\n",
            "  5.15684823e-03 -2.49639516e-02]\n"
          ],
          "name": "stdout"
        }
      ]
    },
    {
      "cell_type": "markdown",
      "metadata": {
        "id": "xVlDfcgWFLSs"
      },
      "source": [
        "Now, we predict with the estimator with the best parameters."
      ]
    },
    {
      "cell_type": "code",
      "metadata": {
        "id": "Ctw1SIa2FO7R"
      },
      "source": [
        "y_random = random.predict(X_test)"
      ],
      "execution_count": null,
      "outputs": []
    },
    {
      "cell_type": "code",
      "metadata": {
        "colab": {
          "base_uri": "https://localhost:8080/"
        },
        "id": "lslogh2pFTZA",
        "outputId": "6ee88021-8010-47ee-938c-a0174f83fef4"
      },
      "source": [
        "xx = np.arange(0,len(y_test),1)\r\n",
        "plt.plot(xx, y_test, c='r', label='data')\r\n",
        "plt.plot(xx, y_random, c='g', label='prediction')\r\n",
        "plt.axis('tight')\r\n",
        "plt.legend()\r\n",
        "plt.title(\"SVR Regressor\")\r\n",
        "\r\n",
        "plt.show()\r\n",
        "\r\n",
        "mae = mean_absolute_error(y_test, y_random)\r\n",
        "print ('MAE', mae)"
      ],
      "execution_count": null,
      "outputs": [
        {
          "output_type": "display_data",
          "data": {
            "image/png": "[encoded data removed]",
            "text/plain": [
              "<Figure size 432x288 with 1 Axes>"
            ]
          },
          "metadata": {
            "tags": [],
            "needs_background": "light"
          }
        },
        {
          "output_type": "stream",
          "text": [
            "MAE 15.911257496926762\n"
          ],
          "name": "stdout"
        }
      ]
    },
    {
      "cell_type": "markdown",
      "metadata": {
        "id": "menaQw29FZWc"
      },
      "source": [
        "### Submision Result\r\n",
        "\r\n",
        "Once the best parameterization has been identified, we will carry out an execution of the model to make a prediction of the weeks that are proposed to us, and we will graph its results."
      ]
    },
    {
      "cell_type": "code",
      "metadata": {
        "colab": {
          "base_uri": "https://localhost:8080/"
        },
        "id": "mAuPXoYDFYk0",
        "outputId": "acd4d61c-ac37-4835-8894-53d6dbc14a72"
      },
      "source": [
        "final_model_prediction = random.predict(df_test_final)\r\n",
        "\r\n",
        "# Round the result and cast to int\r\n",
        "y = np.rint(final_model_prediction)\r\n",
        "y = y.astype(int)\r\n",
        "res = np.hstack(y)\r\n",
        "\r\n",
        "res"
      ],
      "execution_count": null,
      "outputs": [
        {
          "output_type": "execute_result",
          "data": {
            "text/plain": [
              "array([12, 17, 14, 14, 14, 18, 18, 24, 23, 24, 20, 20, 26, 25, 26, 29, 28,\n",
              "       30, 30, 19, 29, 14,  7, 23, 15, 19, 19, 23, 20, 20, 18, 12, 14, 14,\n",
              "       17, 11, 17, 16, 17, 15, 17, 16, 12, 16, 13, 10, 13, 13, 13, 11,  7,\n",
              "        7, 11, 12, 18, 18, 22, 18, 20, 23, 23, 22, 23, 24, 27, 23, 25, 28,\n",
              "       26, 21, 25, 19, 27, 24, 28, 24, 28, 28, 24, 20, 15, 22, 19, 19, 18,\n",
              "       14, 16, 11, 13, 10, 15, 21, 18, 11, 13, 13, 14,  5, 10,  8, 16,  7,\n",
              "       12, 19, 19, 13, 19, 23, 24, 29, 31, 30, 19, 18, 30, 25, 19, 13, 31,\n",
              "       29, 31, 30, 30, 31, 30, 30, 27, 29, 29, 26, 21, 14, 19, 19, 12, 14,\n",
              "       17, 19, 17, 15, 18, 14, 18, 13, 16, 16, 16, 18, 14, 16, 13, 16, 12,\n",
              "        9, 13, 15,  8, 21, 10,  4,  7, 24,  9, 12,  8, 13, 25, 19, 14, 31,\n",
              "       25, 13, 19, 29, 13, 28, 29, 15, 26, 26, 19, 19, 18, 14, 15, 19, 19,\n",
              "       16, 16, 21, 11, 13, 16, 16, 17, 18, 16, 17, 16, 17, 12, 16, 14,  9,\n",
              "       16, 17, 14, 14,  9, 19, 19, 22, 21, 17, 25, 24, 22, 23, 26, 19, 27,\n",
              "       30, 27, 29, 19, 28, 25, 24, 23, 22, 26, 28, 24, 19, 28, 27, 25, 24,\n",
              "       25, 19, 18, 11, 14,  9, 15, 14, 15, 15, 16, 15, 13, 12,  7, 10,  9,\n",
              "       12, 15, 15, 14, 12,  5,  5,  8,  9,  4,  3,  6,  2,  2,  2,  3,  3,\n",
              "        8,  3,  6,  6,  6,  6,  9,  7,  7,  9,  6,  8,  5,  2, 10,  2,  4,\n",
              "        4,  3,  3,  6,  7,  7,  9,  7,  6,  7,  8,  8,  8,  7,  8,  8, 13,\n",
              "       14, 11, 11, 11, 11,  3, 11, 11,  1,  4,  6,  2,  2,  4,  9,  6,  2,\n",
              "        4,  3, 12,  3,  5, 12,  6,  4,  5,  7,  8,  6,  5,  7, 11,  7, 13,\n",
              "        9,  3,  4,  9, 10,  7,  4,  1,  8,  8,  1,  6,  5, 16, 12,  8,  6,\n",
              "        3, 10,  7, 11,  4,  8,  1,  2,  5,  6,  3,  9,  5,  2,  4,  3,  1,\n",
              "        1,  4,  2,  2,  2,  9,  3,  8,  5,  6, 10,  9,  8,  7,  8,  7, 13,\n",
              "        6, 17, 10, 19,  9,  9,  8,  6, 11,  7, 12,  6,  5,  7,  9,  8,  2,\n",
              "        9,  5,  9,  6,  4,  6,  9,  8])"
            ]
          },
          "metadata": {
            "tags": []
          },
          "execution_count": 39
        }
      ]
    },
    {
      "cell_type": "markdown",
      "metadata": {
        "id": "2Cz8FgrnFhxZ"
      },
      "source": [
        "We build the output file"
      ]
    },
    {
      "cell_type": "code",
      "metadata": {
        "id": "JiftmYmPFhfo"
      },
      "source": [
        "submission = pd.read_csv(\"submission_format.csv\",index_col=[0, 1, 2])\r\n",
        "\r\n",
        "submission.total_cases = final_model_prediction.astype(np.int64)\r\n",
        "submission.to_csv(\"result_randomized.csv\")"
      ],
      "execution_count": null,
      "outputs": []
    },
    {
      "cell_type": "markdown",
      "metadata": {
        "id": "dK_wBLMgFiJT"
      },
      "source": [
        "**And the result is:**\r\n",
        "\r\n",
        "*29.0409\r\n",
        "Woo! I scored 29.0409 on 'DengAI: Predicting Disease Spread'!*"
      ]
    },
    {
      "cell_type": "markdown",
      "metadata": {
        "id": "dC_HiLhlZwCl"
      },
      "source": [
        "# 5. Conclusions\r\n",
        "\r\n",
        "The improvement obtained is not very great, which may indicate that the algorithm may not have much room for improvement."
      ]
    }
  ]
}