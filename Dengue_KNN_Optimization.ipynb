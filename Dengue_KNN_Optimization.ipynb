{
  "nbformat": 4,
  "nbformat_minor": 0,
  "metadata": {
    "colab": {
      "name": "Dengue_KNN_Optimization.ipynb",
      "provenance": [],
      "collapsed_sections": [],
      "toc_visible": true
    },
    "kernelspec": {
      "name": "python3",
      "display_name": "Python 3"
    }
  },
  "cells": [
    {
      "cell_type": "markdown",
      "metadata": {
        "id": "Ti5Wnz3cgkRD"
      },
      "source": [
        "# 0. Introduction\n",
        "\n",
        "We are going to use the data that we have been provided to study and try to predict the evolution of Dengue disease in the cities of **San Juan**, *Puerto Rico*, and **Iquitos**, *Peru*. More information in this [link](https://www.drivendata.org/competitions/44/dengai-predicting-disease-spread/).\n",
        "\n",
        "In this notebook, the Random Forest algorithm studied in the baseline will be optimized, with the aim of finding the best parameterization of this algorithm, with the aim of continuing to search for better models.\n",
        "\n",
        "\n"
      ]
    },
    {
      "cell_type": "markdown",
      "metadata": {
        "id": "Yo0x5dyH5b4N"
      },
      "source": [
        "# 1. Libraries\r\n",
        "\r\n",
        "Before starting any analysis we must ensure that the basic and general use libraries *(numpy, pandas, etc.)* are correctly imported. "
      ]
    },
    {
      "cell_type": "code",
      "metadata": {
        "id": "QcqAjsMIKluO"
      },
      "source": [
        "# Preprocessing\n",
        "from sklearn import preprocessing\n",
        "\n",
        "# Loading the data\n",
        "import pandas as pd\n",
        "import io\n",
        "from google.colab import files\n",
        "\n",
        "# Graphics display\n",
        "import seaborn as sns\n",
        "import matplotlib.pyplot as plt\n",
        "\n",
        "# Estimator and model selection\n",
        "from sklearn.model_selection import train_test_split, GridSearchCV, RandomizedSearchCV\n",
        "from sklearn.neighbors import KNeighborsRegressor\n",
        "\n",
        "# Others\n",
        "import numpy as np    \n",
        "from sklearn.metrics import mean_absolute_error "
      ],
      "execution_count": null,
      "outputs": []
    },
    {
      "cell_type": "markdown",
      "metadata": {
        "id": "fvxDPxPhheSW"
      },
      "source": [
        "# 2. Loading the data\r\n",
        "\r\n",
        "The first step is to upload all the CSV files that have been provided to us and that thanks to them we will obtain the data with which we are going to work. To do this, we will use the tools that Google Colab offers us when uploading files."
      ]
    },
    {
      "cell_type": "markdown",
      "metadata": {
        "id": "dZSaoCMRAq8m"
      },
      "source": [
        "## Preprocessing the data\n",
        "\n",
        "We transform the data in order to allow us the posterior use of the algorithms to build prediction models, for example, missing values, from categories to numbers, etc."
      ]
    },
    {
      "cell_type": "code",
      "metadata": {
        "id": "zr57uSH3SO82"
      },
      "source": [
        "# Make function to preprocess data\r\n",
        "def preprocess_data(data_path, labels_path=None):\r\n",
        "    # Load data and set index to city, year, weekofyear\r\n",
        "    df = pd.read_csv(data_path)\r\n",
        "    # Fill missing values\r\n",
        "    df.fillna(df.mean(), inplace=True)\r\n",
        "    lb = preprocessing.LabelBinarizer()\r\n",
        "    \r\n",
        "    if labels_path:\r\n",
        "        labels = pd.read_csv(labels_path)\r\n",
        "        \r\n",
        "        labels['city'] = lb.fit_transform(labels['city'])\r\n",
        "    \r\n",
        "    df['city'] =  lb.fit_transform(df['city'])\r\n",
        "\r\n",
        "    selected_features = ['reanalysis_specific_humidity_g_per_kg', 'reanalysis_dew_point_temp_k', \r\n",
        "                 'station_avg_temp_c', 'station_min_temp_c']\r\n",
        "    df = df[selected_features]\r\n",
        "\r\n",
        "    if labels_path:\r\n",
        "        return df, labels\r\n",
        "    return df"
      ],
      "execution_count": null,
      "outputs": []
    },
    {
      "cell_type": "markdown",
      "metadata": {
        "id": "Lle9Q95EHDog"
      },
      "source": [
        "We execute the newly compiled method, which will allow us to load and preprocess our data."
      ]
    },
    {
      "cell_type": "code",
      "metadata": {
        "id": "lN74ew6GSShd"
      },
      "source": [
        "df_features, df_labels = preprocess_data('dengue_features_train.csv', labels_path=\"dengue_labels_train.csv\")"
      ],
      "execution_count": null,
      "outputs": []
    },
    {
      "cell_type": "markdown",
      "metadata": {
        "id": "xC3XXbOoHF_I"
      },
      "source": [
        "Finally, we also load the file with which we will carry out the final prediction, once our model is trained."
      ]
    },
    {
      "cell_type": "code",
      "metadata": {
        "id": "YUrvIsptSU7d"
      },
      "source": [
        "df_test_final = preprocess_data(\"dengue_features_test.csv\")"
      ],
      "execution_count": null,
      "outputs": []
    },
    {
      "cell_type": "markdown",
      "metadata": {
        "id": "CedFqCvJA88K"
      },
      "source": [
        "# 3. Detaching the dataset\r\n",
        "\r\n",
        "To train the models that we make, it is necessary to separate our training dataset into two parts, one precisely to train the model, and another to check if our models are good."
      ]
    },
    {
      "cell_type": "code",
      "metadata": {
        "id": "eQjikOIh6qUI"
      },
      "source": [
        "X_train, X_test, y_train, y_test = train_test_split(df_features, df_labels['total_cases'], test_size=0.2, random_state=1)"
      ],
      "execution_count": null,
      "outputs": []
    },
    {
      "cell_type": "markdown",
      "metadata": {
        "id": "M-rFR08X-_g9"
      },
      "source": [
        "# 4. Hyperparameter optimization\r\n",
        "\r\n",
        "Previously, in the baseline, we have created models with simple optimization. That is, we have only created models with a combination of parameters. However, now, thanks to the *GridSearchCV* and *RandomizedSearchCV* functions, we will be able to combine different values for the parameters of the estimators, so that it returns us the best possible model.\r\n",
        "\r\n",
        "The estimator with which we are going to work in the optimization is the following."
      ]
    },
    {
      "cell_type": "code",
      "metadata": {
        "id": "mZXK-tu0B-C_"
      },
      "source": [
        "est = KNeighborsRegressor()"
      ],
      "execution_count": null,
      "outputs": []
    },
    {
      "cell_type": "markdown",
      "metadata": {
        "id": "4wspPeaJBKn6"
      },
      "source": [
        "## Grid Search\r\n",
        "\r\n",
        "Grind Search generates candidates from a grid of parameter values specified with the param_grid parameter."
      ]
    },
    {
      "cell_type": "code",
      "metadata": {
        "colab": {
          "base_uri": "https://localhost:8080/"
        },
        "id": "QPNp8yW-BKEr",
        "outputId": "cf3ee4d6-2427-45a3-c424-9d1c3c4ee663"
      },
      "source": [
        "# We declare the variables to be hyperparameterized\r\n",
        "param = [{'n_neighbors': [3,5,10,15,15,20,25,50,100,200],\r\n",
        "          'weights': ['uniform','distance'],\r\n",
        "          'algorithm': ['auto', 'ball_tree', 'kd_tree', 'brute']}]\r\n",
        "\r\n",
        "# Initialize the grid search\r\n",
        "grid = GridSearchCV(estimator = est, param_grid = param, cv = 5)\r\n",
        "\r\n",
        "# Train our model\r\n",
        "grid.fit(X_train,y_train)\r\n",
        "\r\n",
        "# We show the results\r\n",
        "print(\"Mejores parámetros: \")\r\n",
        "print(grid.best_params_)\r\n",
        "print(\"Puntuaciones: \")\r\n",
        "print(grid.cv_results_['mean_test_score'])"
      ],
      "execution_count": null,
      "outputs": [
        {
          "output_type": "stream",
          "text": [
            "Mejores parámetros: \n",
            "{'algorithm': 'auto', 'n_neighbors': 50, 'weights': 'uniform'}\n",
            "\n",
            "Puntuaciones: \n",
            "[-0.35833899 -0.35936159 -0.13725953 -0.17983602  0.00933189 -0.03544557\n",
            "  0.04548128  0.00893676  0.04548128  0.00893676  0.05496403  0.02957669\n",
            "  0.06708668  0.04629123  0.10341008  0.0902381   0.09762594  0.09910446\n",
            "  0.08869533  0.09776982 -0.3584199  -0.35944249 -0.13726527 -0.17981212\n",
            "  0.00938097 -0.03540196  0.04522808  0.00873053  0.04522808  0.00873053\n",
            "  0.0549639   0.02957365  0.06707514  0.04628693  0.10338994  0.09022165\n",
            "  0.09759989  0.09909047  0.08868799  0.09776551 -0.35833899 -0.35936159\n",
            " -0.13725953 -0.17983602  0.00933189 -0.03544557  0.04548128  0.00893676\n",
            "  0.04548128  0.00893676  0.05496403  0.02957669  0.06708668  0.04629123\n",
            "  0.10341008  0.0902381   0.09762594  0.09910446  0.08869533  0.09776982\n",
            " -0.35812034 -0.3591501  -0.13726935 -0.17987313  0.0093861  -0.03539877\n",
            "  0.0451529   0.00867186  0.0451529   0.00867186  0.05489893  0.02954125\n",
            "  0.06707722  0.04628824  0.10339917  0.09023233  0.09761239  0.09909838\n",
            "  0.0886814   0.09776165]\n"
          ],
          "name": "stdout"
        }
      ]
    },
    {
      "cell_type": "markdown",
      "metadata": {
        "id": "SL-g732sKkWk"
      },
      "source": [
        "Now, we predict with the estimator with the best parameters."
      ]
    },
    {
      "cell_type": "code",
      "metadata": {
        "id": "vHXBRYAKKlWn"
      },
      "source": [
        "y_grid = grid.predict(X_test)"
      ],
      "execution_count": null,
      "outputs": []
    },
    {
      "cell_type": "code",
      "metadata": {
        "colab": {
          "base_uri": "https://localhost:8080/",
          "height": 299
        },
        "id": "qx0rcOB_KngT",
        "outputId": "1851b351-b30f-417c-b6c2-458cf5453839"
      },
      "source": [
        "xx = np.arange(0,len(y_test),1)\r\n",
        "plt.plot(xx, y_test, c='r', label='data')\r\n",
        "plt.plot(xx, y_grid, c='g', label='prediction')\r\n",
        "plt.axis('tight')\r\n",
        "plt.legend()\r\n",
        "plt.title(\"Random Forest Regressor\")\r\n",
        "\r\n",
        "plt.show()\r\n",
        "\r\n",
        "mae = mean_absolute_error(y_test, y_grid)\r\n",
        "print ('MAE', mae)\r\n"
      ],
      "execution_count": null,
      "outputs": [
        {
          "output_type": "display_data",
          "data": {
            "image/png": "[encoded data removed]",
            "text/plain": [
              "<Figure size 432x288 with 1 Axes>"
            ]
          },
          "metadata": {
            "tags": [],
            "needs_background": "light"
          }
        },
        {
          "output_type": "stream",
          "text": [
            "MAE 20.34835616438356\n"
          ],
          "name": "stdout"
        }
      ]
    },
    {
      "cell_type": "markdown",
      "metadata": {
        "id": "MVPboc5WDU72"
      },
      "source": [
        "### Submision Result\r\n",
        "\r\n",
        "Once we have identified the best parameterization we will go on to make an execution of the model and we will graph its results."
      ]
    },
    {
      "cell_type": "code",
      "metadata": {
        "colab": {
          "base_uri": "https://localhost:8080/"
        },
        "id": "Qh0YLWdJDhju",
        "outputId": "a4a9cd09-d0fc-43bc-b827-6bf8f9e788f0"
      },
      "source": [
        "final_model_prediction = grid.predict(df_test_final)\r\n",
        "\r\n",
        "# round the result and cast to int\r\n",
        "y = np.rint(final_model_prediction) # round\r\n",
        "y = y.astype(int) # cast to int\r\n",
        "res = np.hstack(y)\r\n",
        "\r\n",
        "res"
      ],
      "execution_count": null,
      "outputs": [
        {
          "output_type": "execute_result",
          "data": {
            "text/plain": [
              "array([30, 24, 33, 51, 23, 65, 34, 61, 41, 36, 52, 49, 35, 48, 47, 42, 42,\n",
              "       58, 56, 40, 49, 33, 18, 51, 35, 31, 56, 34, 41, 26, 31, 13, 16, 21,\n",
              "       21, 25, 21, 23, 22, 25, 17, 17, 14, 21, 16, 14, 16, 16, 15, 15, 20,\n",
              "       17, 17, 20, 25, 33, 49, 31, 57, 48, 69, 43, 37, 47, 31, 32, 45, 36,\n",
              "       45, 50, 36, 39, 41, 32, 50, 50, 51, 42, 45, 66, 34, 41, 46, 27, 28,\n",
              "       35, 32, 25, 32, 22, 32, 36, 24, 18, 23, 23, 30, 15, 23, 14, 25, 18,\n",
              "       23, 35, 44, 23, 27, 46, 37, 63, 58, 45, 29, 32, 59, 62, 37, 21, 58,\n",
              "       56, 57, 56, 58, 56, 61, 50, 52, 52, 54, 39, 71, 30, 46, 33, 19, 19,\n",
              "       19, 35, 19, 17, 22, 22, 21, 19, 21, 20, 22, 23, 15, 21, 16, 20, 22,\n",
              "       26, 18, 19, 18, 39, 16, 13,  9, 37, 13, 25, 19, 27, 52, 39, 24, 59,\n",
              "       44, 25, 41, 59, 24, 50, 56, 19, 52, 48, 47, 41, 25, 30, 34, 40, 26,\n",
              "       34, 24, 39, 15, 17, 22, 23, 18, 22, 17, 17, 17, 20, 20, 21, 16, 15,\n",
              "       19, 30, 22, 26, 18, 60, 37, 46, 36, 37, 38, 40, 48, 51, 41, 38, 46,\n",
              "       55, 35, 54, 40, 45, 44, 40, 44, 42, 47, 42, 42, 39, 48, 37, 38, 48,\n",
              "       37, 50, 26, 19, 21, 24, 20, 19, 18, 19, 21, 18, 17, 16, 17, 14, 13,\n",
              "       19, 27, 34, 36, 19, 17, 14, 19,  8,  5,  7, 15, 13,  9,  7,  6, 12,\n",
              "        7,  6,  6,  7,  7,  7, 12,  8, 10, 11,  9, 12, 13,  6, 24, 13, 16,\n",
              "        8, 14,  6, 13, 12, 11, 11, 20, 12, 11, 13, 11, 12, 19, 20, 11, 23,\n",
              "       29, 24, 25, 18, 25, 15, 20, 20,  7, 13, 17, 10, 13,  9,  5,  5, 11,\n",
              "       15, 15, 29,  7, 11, 20, 12,  8,  7, 11, 11, 14, 13, 19, 28, 19, 23,\n",
              "       23,  7, 12, 22, 21, 22, 12, 13, 21, 29, 11, 11, 19, 26, 23, 25, 23,\n",
              "        8, 21, 21, 20, 14, 15,  8,  8, 15, 14, 11, 20, 12,  8,  7,  8,  6,\n",
              "        7,  6,  4, 11,  7, 14,  6, 16, 11, 14, 16, 13, 17, 17, 11, 15, 27,\n",
              "       23, 32, 22, 33, 20, 28, 12, 23, 23, 17, 24, 14, 13, 21, 22, 12,  6,\n",
              "       20, 10, 24, 20,  9, 22, 19, 15])"
            ]
          },
          "metadata": {
            "tags": []
          },
          "execution_count": 10
        }
      ]
    },
    {
      "cell_type": "markdown",
      "metadata": {
        "id": "YYMFhhpmDhPN"
      },
      "source": [
        "We build the output file"
      ]
    },
    {
      "cell_type": "code",
      "metadata": {
        "id": "KYCIXjaqDzn3"
      },
      "source": [
        "submission = pd.read_csv(\"submission_format.csv\",\r\n",
        "                         index_col=[0, 1, 2])\r\n",
        "\r\n",
        "\r\n",
        "submission.total_cases = final_model_prediction.astype(np.int64)\r\n",
        "submission.to_csv(\"result_grid.csv\")"
      ],
      "execution_count": null,
      "outputs": []
    },
    {
      "cell_type": "markdown",
      "metadata": {
        "id": "GkCw18gBD07n"
      },
      "source": [
        "**And the result is:**\r\n",
        "\r\n",
        "*28.3870\r\n",
        "Woo! I scored 28.3870 on 'DengAI: Predicting Disease Spread'!*"
      ]
    },
    {
      "cell_type": "markdown",
      "metadata": {
        "id": "Rske9rldBLNo"
      },
      "source": [
        "## Randomized Search\r\n",
        "\r\n",
        "Randomized Search can sample a given number of candidates from a parameter space with a specified distribution.\r\n"
      ]
    },
    {
      "cell_type": "code",
      "metadata": {
        "colab": {
          "base_uri": "https://localhost:8080/"
        },
        "id": "907o0RzXBLzK",
        "outputId": "cb21185e-0449-409e-d1e4-c9a871942884"
      },
      "source": [
        "# We declare the variables to be hyperparameterized\r\n",
        "param = [{'n_neighbors': [3,5,10,15,15,20,25,50,100,200],\r\n",
        "          'weights': ['uniform','distance'],\r\n",
        "          'algorithm': ['auto', 'ball_tree', 'kd_tree', 'brute']}]\r\n",
        "\r\n",
        "# Initialize the grid search\r\n",
        "random = RandomizedSearchCV(estimator = est, param_distributions = param, cv = 5)\r\n",
        "\r\n",
        "# Train our model\r\n",
        "random.fit(X_train,y_train)\r\n",
        "\r\n",
        "# We show the results\r\n",
        "print(\"Mejores parámetros: \")\r\n",
        "print(random.best_params_)\r\n",
        "print(\"Puntuaciones: \")\r\n",
        "print(random.cv_results_['mean_test_score'])"
      ],
      "execution_count": null,
      "outputs": [
        {
          "output_type": "stream",
          "text": [
            "Mejores parámetros: \n",
            "{'weights': 'distance', 'n_neighbors': 100, 'algorithm': 'kd_tree'}\n",
            "Puntuaciones: \n",
            "[ 0.06707514  0.08869533  0.0549639   0.09023233  0.09910446  0.00893676\n",
            "  0.04629123 -0.35936159  0.00873053  0.09761239]\n"
          ],
          "name": "stdout"
        }
      ]
    },
    {
      "cell_type": "markdown",
      "metadata": {
        "id": "xVlDfcgWFLSs"
      },
      "source": [
        "Now, we predict with the estimator with the best parameters."
      ]
    },
    {
      "cell_type": "code",
      "metadata": {
        "id": "Ctw1SIa2FO7R"
      },
      "source": [
        "y_random = random.predict(X_test)"
      ],
      "execution_count": null,
      "outputs": []
    },
    {
      "cell_type": "code",
      "metadata": {
        "colab": {
          "base_uri": "https://localhost:8080/",
          "height": 299
        },
        "id": "lslogh2pFTZA",
        "outputId": "ebbd8ed1-cb00-452f-e1d6-f12b2b0b1bf7"
      },
      "source": [
        "mae = mean_absolute_error(y_test, y_random)\r\n",
        "print ('MAE', mae)\r\n",
        "\r\n",
        "xx = np.arange(0,len(y_test),1)\r\n",
        "plt.plot(xx, y_test, c='r', label='data')\r\n",
        "plt.plot(xx, y_random, c='g', label='prediction')\r\n",
        "plt.axis('tight')\r\n",
        "plt.legend()\r\n",
        "plt.title(\"Random Forest Regressor\")\r\n",
        "\r\n",
        "plt.show()"
      ],
      "execution_count": null,
      "outputs": [
        {
          "output_type": "stream",
          "text": [
            "MAE 20.089569616363313\n"
          ],
          "name": "stdout"
        },
        {
          "output_type": "display_data",
          "data": {
            "image/png": "[encoded data removed]",
            "text/plain": [
              "<Figure size 432x288 with 1 Axes>"
            ]
          },
          "metadata": {
            "tags": [],
            "needs_background": "light"
          }
        }
      ]
    },
    {
      "cell_type": "markdown",
      "metadata": {
        "id": "menaQw29FZWc"
      },
      "source": [
        "### Submision Result\r\n",
        "\r\n",
        "Once the best parameterization has been identified, we will carry out an execution of the model to make a prediction of the weeks that are proposed to us, and we will graph its results."
      ]
    },
    {
      "cell_type": "code",
      "metadata": {
        "colab": {
          "base_uri": "https://localhost:8080/"
        },
        "id": "mAuPXoYDFYk0",
        "outputId": "5b07aab5-8fbe-494a-c44b-030bb829d88c"
      },
      "source": [
        "final_model_prediction = random.predict(df_test_final)\r\n",
        "\r\n",
        "# Round the result and cast to int\r\n",
        "y = np.rint(final_model_prediction)\r\n",
        "y = y.astype(int)\r\n",
        "res = np.hstack(y)\r\n",
        "\r\n",
        "res"
      ],
      "execution_count": null,
      "outputs": [
        {
          "output_type": "execute_result",
          "data": {
            "text/plain": [
              "array([25, 25, 28, 45, 26, 51, 29, 53, 37, 44, 49, 48, 34, 47, 56, 43, 44,\n",
              "       51, 60, 40, 55, 31, 17, 42, 31, 35, 47, 41, 40, 31, 28, 15, 18, 19,\n",
              "       20, 26, 20, 20, 21, 26, 20, 18, 16, 19, 17, 14, 18, 17, 18, 17, 16,\n",
              "       15, 18, 19, 36, 29, 46, 38, 55, 48, 58, 47, 36, 50, 44, 41, 49, 41,\n",
              "       47, 50, 37, 34, 43, 36, 53, 51, 55, 47, 51, 54, 35, 46, 36, 26, 28,\n",
              "       37, 26, 26, 28, 20, 27, 33, 24, 18, 24, 24, 33, 18, 20, 22, 30, 15,\n",
              "       18, 32, 42, 26, 31, 40, 40, 53, 54, 48, 34, 31, 59, 53, 37, 23, 49,\n",
              "       58, 47, 79, 63, 59, 54, 49, 46, 49, 54, 43, 56, 31, 39, 30, 19, 17,\n",
              "       20, 31, 20, 19, 21, 22, 24, 21, 19, 18, 20, 20, 19, 19, 18, 18, 18,\n",
              "       22, 19, 19, 16, 36, 17, 18, 11, 44, 14, 26, 19, 29, 45, 35, 29, 50,\n",
              "       41, 29, 38, 53, 25, 44, 51, 25, 45, 46, 44, 43, 29, 31, 33, 34, 30,\n",
              "       32, 23, 34, 16, 18, 23, 20, 18, 21, 18, 19, 20, 20, 18, 20, 18, 16,\n",
              "       19, 28, 26, 23, 17, 51, 32, 44, 41, 39, 43, 50, 46, 47, 41, 36, 48,\n",
              "       49, 41, 49, 41, 50, 42, 44, 54, 48, 48, 44, 45, 41, 41, 46, 45, 44,\n",
              "       38, 48, 28, 19, 20, 23, 19, 18, 18, 20, 20, 18, 18, 16, 16, 15, 16,\n",
              "       20, 24, 32, 35, 21, 16, 22, 16, 11,  9,  8, 14, 14, 10,  9,  9,  9,\n",
              "        7,  9,  8,  7,  9, 13, 15,  8, 10, 10, 11, 12, 14,  9, 24, 12, 15,\n",
              "       11, 15,  7, 13, 10, 11, 10, 14, 13, 11, 16, 11, 15, 22, 18, 12, 23,\n",
              "       28, 25, 26, 23, 24, 14, 24, 24,  8, 14, 18, 11, 11, 10,  7,  7, 11,\n",
              "       16, 14, 28, 11, 14, 28, 13, 10, 11, 12, 11, 15, 14, 17, 27, 16, 31,\n",
              "       23,  8, 16, 19, 19, 18, 12, 11, 19, 24,  9, 10, 14, 33, 23, 20, 18,\n",
              "       10, 27, 22, 24, 16, 16, 10, 10, 18, 14, 13, 17, 13, 10,  9, 12, 10,\n",
              "        7,  8,  8, 10, 10, 21,  7, 17, 12, 14, 20, 15, 19, 16, 11, 17, 27,\n",
              "       20, 31, 21, 33, 21, 26, 16, 18, 31, 18, 26, 15, 14, 20, 21, 14,  8,\n",
              "       20, 12, 24, 20, 13, 22, 18, 21])"
            ]
          },
          "metadata": {
            "tags": []
          },
          "execution_count": 12
        }
      ]
    },
    {
      "cell_type": "markdown",
      "metadata": {
        "id": "2Cz8FgrnFhxZ"
      },
      "source": [
        "We build the output file"
      ]
    },
    {
      "cell_type": "code",
      "metadata": {
        "id": "JiftmYmPFhfo"
      },
      "source": [
        "submission = pd.read_csv(\"submission_format.csv\",index_col=[0, 1, 2])\r\n",
        "\r\n",
        "submission.total_cases = final_model_prediction.astype(np.int64)\r\n",
        "submission.to_csv(\"result_randomized.csv\")"
      ],
      "execution_count": null,
      "outputs": []
    },
    {
      "cell_type": "markdown",
      "metadata": {
        "id": "dK_wBLMgFiJT"
      },
      "source": [
        "**And the result is:**\r\n",
        "\r\n",
        "*28.3582\r\n",
        "Woo! I scored 28.3582 on 'DengAI: Predicting Disease Spread'!*"
      ]
    },
    {
      "cell_type": "markdown",
      "metadata": {
        "id": "dC_HiLhlZwCl"
      },
      "source": [
        "# 5. Conclusions\r\n",
        "\r\n",
        "The results have improved, very little, but they have improved both when applying GridSearchCV and RandomSearchCV.\r\n",
        "\r\n",
        "What has become clear is that the margin for improvement of this algorithm is little, but taking into account that the simple optimization result has already been very positive, we can say that this algorithm helps us to predict dengue cases in a more validates that many of the other algorithms."
      ]
    }
  ]
}