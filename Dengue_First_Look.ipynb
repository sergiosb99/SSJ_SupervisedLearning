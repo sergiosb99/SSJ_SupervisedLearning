{
  "nbformat": 4,
  "nbformat_minor": 0,
  "metadata": {
    "colab": {
      "name": "Dengue_First_Look.ipynb",
      "provenance": [],
      "collapsed_sections": [],
      "toc_visible": true
    },
    "kernelspec": {
      "name": "python3",
      "display_name": "Python 3"
    }
  },
  "cells": [
    {
      "cell_type": "markdown",
      "metadata": {
        "id": "UAyixMG1RVea"
      },
      "source": [
        "# 0. Introduction\r\n",
        "\r\n",
        "We are going to use the data that we have been provided to study and try to predict the evolution of Dengue disease in the cities of **San Juan**, *Puerto Rico*, and **Iquitos**, *Peru*. More information in this [link](https://www.drivendata.org/competitions/44/dengai-predicting-disease-spread/).\r\n",
        "\r\n",
        "Before starting to make our first models, it is important to know the data set that we have well, to know what we are working with, and in this way, to be able to draw conclusions that help us when carrying out the models and thinking improvements for these.\r\n",
        "\r\n",
        "Therefore, in this notebook, we are going to investigate above all the variables that make up our data set. For this, we will see the importance that some of them could have when the Dengue mosquito spreads the disease."
      ]
    },
    {
      "cell_type": "markdown",
      "metadata": {
        "id": "jUjyAQ51R3c7"
      },
      "source": [
        "# 1. Libraries\r\n",
        "\r\n",
        "Before starting any analysis we must make sure that the libraries we are going to use are imported correctly."
      ]
    },
    {
      "cell_type": "code",
      "metadata": {
        "id": "qjf3PXgiRJ9-"
      },
      "source": [
        "# Preprocessing\r\n",
        "from sklearn import preprocessing\r\n",
        "\r\n",
        "# Loading the data\r\n",
        "import pandas as pd\r\n",
        "import io\r\n",
        "from google.colab import files\r\n",
        "\r\n",
        "# Visualization \r\n",
        "import seaborn as sns\r\n",
        "\r\n",
        "# Others\r\n",
        "import warnings\r\n",
        "warnings.filterwarnings('ignore') # When drawing graphs, warnings sometimes appear, they don't interest us."
      ],
      "execution_count": null,
      "outputs": []
    },
    {
      "cell_type": "markdown",
      "metadata": {
        "id": "zh56qNaNSCC5"
      },
      "source": [
        "# 2. Loading the data \r\n",
        "\r\n",
        "The first obviously is to load the data, in this notebook we will need to load the data that will be used as training in the models, and their labels. In such a way that you must have the *dengue_features_train.csv* and *dengue_labels_train.csv* files loaded in this notebook"
      ]
    },
    {
      "cell_type": "markdown",
      "metadata": {
        "id": "ssDwiTayXPmy"
      },
      "source": [
        "## Loading the datasets"
      ]
    },
    {
      "cell_type": "code",
      "metadata": {
        "id": "XzAl5SKOTjW0"
      },
      "source": [
        "# Load data and set index to city, year, weekofyear\r\n",
        "df = pd.read_csv('./dengue_features_train.csv')\r\n",
        "\r\n",
        "# Fill missing values\r\n",
        "df.fillna(df.mean(), inplace=True)\r\n",
        "lb = preprocessing.LabelBinarizer()\r\n",
        "\r\n",
        "# Load the labels\r\n",
        "labels = pd.read_csv('./dengue_labels_train.csv')"
      ],
      "execution_count": null,
      "outputs": []
    },
    {
      "cell_type": "code",
      "metadata": {
        "colab": {
          "base_uri": "https://localhost:8080/",
          "height": 226
        },
        "id": "7R11sgmuVtvc",
        "outputId": "35ea7f5b-08ee-4f4f-a7a0-1981dfe58150"
      },
      "source": [
        "# Show training data\r\n",
        "df.head()"
      ],
      "execution_count": null,
      "outputs": [
        {
          "output_type": "execute_result",
          "data": {
            "text/html": [
              "<div>\n",
              "<style scoped>\n",
              "    .dataframe tbody tr th:only-of-type {\n",
              "        vertical-align: middle;\n",
              "    }\n",
              "\n",
              "    .dataframe tbody tr th {\n",
              "        vertical-align: top;\n",
              "    }\n",
              "\n",
              "    .dataframe thead th {\n",
              "        text-align: right;\n",
              "    }\n",
              "</style>\n",
              "<table border=\"1\" class=\"dataframe\">\n",
              "  <thead>\n",
              "    <tr style=\"text-align: right;\">\n",
              "      <th></th>\n",
              "      <th>city</th>\n",
              "      <th>year</th>\n",
              "      <th>weekofyear</th>\n",
              "      <th>week_start_date</th>\n",
              "      <th>ndvi_ne</th>\n",
              "      <th>ndvi_nw</th>\n",
              "      <th>ndvi_se</th>\n",
              "      <th>ndvi_sw</th>\n",
              "      <th>precipitation_amt_mm</th>\n",
              "      <th>reanalysis_air_temp_k</th>\n",
              "      <th>reanalysis_avg_temp_k</th>\n",
              "      <th>reanalysis_dew_point_temp_k</th>\n",
              "      <th>reanalysis_max_air_temp_k</th>\n",
              "      <th>reanalysis_min_air_temp_k</th>\n",
              "      <th>reanalysis_precip_amt_kg_per_m2</th>\n",
              "      <th>reanalysis_relative_humidity_percent</th>\n",
              "      <th>reanalysis_sat_precip_amt_mm</th>\n",
              "      <th>reanalysis_specific_humidity_g_per_kg</th>\n",
              "      <th>reanalysis_tdtr_k</th>\n",
              "      <th>station_avg_temp_c</th>\n",
              "      <th>station_diur_temp_rng_c</th>\n",
              "      <th>station_max_temp_c</th>\n",
              "      <th>station_min_temp_c</th>\n",
              "      <th>station_precip_mm</th>\n",
              "    </tr>\n",
              "  </thead>\n",
              "  <tbody>\n",
              "    <tr>\n",
              "      <th>0</th>\n",
              "      <td>sj</td>\n",
              "      <td>1990</td>\n",
              "      <td>18</td>\n",
              "      <td>1990-04-30</td>\n",
              "      <td>0.122600</td>\n",
              "      <td>0.103725</td>\n",
              "      <td>0.198483</td>\n",
              "      <td>0.177617</td>\n",
              "      <td>12.42</td>\n",
              "      <td>297.572857</td>\n",
              "      <td>297.742857</td>\n",
              "      <td>292.414286</td>\n",
              "      <td>299.8</td>\n",
              "      <td>295.9</td>\n",
              "      <td>32.00</td>\n",
              "      <td>73.365714</td>\n",
              "      <td>12.42</td>\n",
              "      <td>14.012857</td>\n",
              "      <td>2.628571</td>\n",
              "      <td>25.442857</td>\n",
              "      <td>6.900000</td>\n",
              "      <td>29.4</td>\n",
              "      <td>20.0</td>\n",
              "      <td>16.0</td>\n",
              "    </tr>\n",
              "    <tr>\n",
              "      <th>1</th>\n",
              "      <td>sj</td>\n",
              "      <td>1990</td>\n",
              "      <td>19</td>\n",
              "      <td>1990-05-07</td>\n",
              "      <td>0.169900</td>\n",
              "      <td>0.142175</td>\n",
              "      <td>0.162357</td>\n",
              "      <td>0.155486</td>\n",
              "      <td>22.82</td>\n",
              "      <td>298.211429</td>\n",
              "      <td>298.442857</td>\n",
              "      <td>293.951429</td>\n",
              "      <td>300.9</td>\n",
              "      <td>296.4</td>\n",
              "      <td>17.94</td>\n",
              "      <td>77.368571</td>\n",
              "      <td>22.82</td>\n",
              "      <td>15.372857</td>\n",
              "      <td>2.371429</td>\n",
              "      <td>26.714286</td>\n",
              "      <td>6.371429</td>\n",
              "      <td>31.7</td>\n",
              "      <td>22.2</td>\n",
              "      <td>8.6</td>\n",
              "    </tr>\n",
              "    <tr>\n",
              "      <th>2</th>\n",
              "      <td>sj</td>\n",
              "      <td>1990</td>\n",
              "      <td>20</td>\n",
              "      <td>1990-05-14</td>\n",
              "      <td>0.032250</td>\n",
              "      <td>0.172967</td>\n",
              "      <td>0.157200</td>\n",
              "      <td>0.170843</td>\n",
              "      <td>34.54</td>\n",
              "      <td>298.781429</td>\n",
              "      <td>298.878571</td>\n",
              "      <td>295.434286</td>\n",
              "      <td>300.5</td>\n",
              "      <td>297.3</td>\n",
              "      <td>26.10</td>\n",
              "      <td>82.052857</td>\n",
              "      <td>34.54</td>\n",
              "      <td>16.848571</td>\n",
              "      <td>2.300000</td>\n",
              "      <td>26.714286</td>\n",
              "      <td>6.485714</td>\n",
              "      <td>32.2</td>\n",
              "      <td>22.8</td>\n",
              "      <td>41.4</td>\n",
              "    </tr>\n",
              "    <tr>\n",
              "      <th>3</th>\n",
              "      <td>sj</td>\n",
              "      <td>1990</td>\n",
              "      <td>21</td>\n",
              "      <td>1990-05-21</td>\n",
              "      <td>0.128633</td>\n",
              "      <td>0.245067</td>\n",
              "      <td>0.227557</td>\n",
              "      <td>0.235886</td>\n",
              "      <td>15.36</td>\n",
              "      <td>298.987143</td>\n",
              "      <td>299.228571</td>\n",
              "      <td>295.310000</td>\n",
              "      <td>301.4</td>\n",
              "      <td>297.0</td>\n",
              "      <td>13.90</td>\n",
              "      <td>80.337143</td>\n",
              "      <td>15.36</td>\n",
              "      <td>16.672857</td>\n",
              "      <td>2.428571</td>\n",
              "      <td>27.471429</td>\n",
              "      <td>6.771429</td>\n",
              "      <td>33.3</td>\n",
              "      <td>23.3</td>\n",
              "      <td>4.0</td>\n",
              "    </tr>\n",
              "    <tr>\n",
              "      <th>4</th>\n",
              "      <td>sj</td>\n",
              "      <td>1990</td>\n",
              "      <td>22</td>\n",
              "      <td>1990-05-28</td>\n",
              "      <td>0.196200</td>\n",
              "      <td>0.262200</td>\n",
              "      <td>0.251200</td>\n",
              "      <td>0.247340</td>\n",
              "      <td>7.52</td>\n",
              "      <td>299.518571</td>\n",
              "      <td>299.664286</td>\n",
              "      <td>295.821429</td>\n",
              "      <td>301.9</td>\n",
              "      <td>297.5</td>\n",
              "      <td>12.20</td>\n",
              "      <td>80.460000</td>\n",
              "      <td>7.52</td>\n",
              "      <td>17.210000</td>\n",
              "      <td>3.014286</td>\n",
              "      <td>28.942857</td>\n",
              "      <td>9.371429</td>\n",
              "      <td>35.0</td>\n",
              "      <td>23.9</td>\n",
              "      <td>5.8</td>\n",
              "    </tr>\n",
              "  </tbody>\n",
              "</table>\n",
              "</div>"
            ],
            "text/plain": [
              "  city  year  ...  station_min_temp_c station_precip_mm\n",
              "0   sj  1990  ...                20.0              16.0\n",
              "1   sj  1990  ...                22.2               8.6\n",
              "2   sj  1990  ...                22.8              41.4\n",
              "3   sj  1990  ...                23.3               4.0\n",
              "4   sj  1990  ...                23.9               5.8\n",
              "\n",
              "[5 rows x 24 columns]"
            ]
          },
          "metadata": {
            "tags": []
          },
          "execution_count": 55
        }
      ]
    },
    {
      "cell_type": "code",
      "metadata": {
        "colab": {
          "base_uri": "https://localhost:8080/",
          "height": 206
        },
        "id": "-0Rcj7kTVuTY",
        "outputId": "6fb044bb-a93e-452d-e506-ab25bf503861"
      },
      "source": [
        "# Show total case data by week\r\n",
        "labels.head()"
      ],
      "execution_count": null,
      "outputs": [
        {
          "output_type": "execute_result",
          "data": {
            "text/html": [
              "<div>\n",
              "<style scoped>\n",
              "    .dataframe tbody tr th:only-of-type {\n",
              "        vertical-align: middle;\n",
              "    }\n",
              "\n",
              "    .dataframe tbody tr th {\n",
              "        vertical-align: top;\n",
              "    }\n",
              "\n",
              "    .dataframe thead th {\n",
              "        text-align: right;\n",
              "    }\n",
              "</style>\n",
              "<table border=\"1\" class=\"dataframe\">\n",
              "  <thead>\n",
              "    <tr style=\"text-align: right;\">\n",
              "      <th></th>\n",
              "      <th>city</th>\n",
              "      <th>year</th>\n",
              "      <th>weekofyear</th>\n",
              "      <th>total_cases</th>\n",
              "    </tr>\n",
              "  </thead>\n",
              "  <tbody>\n",
              "    <tr>\n",
              "      <th>0</th>\n",
              "      <td>sj</td>\n",
              "      <td>1990</td>\n",
              "      <td>18</td>\n",
              "      <td>4</td>\n",
              "    </tr>\n",
              "    <tr>\n",
              "      <th>1</th>\n",
              "      <td>sj</td>\n",
              "      <td>1990</td>\n",
              "      <td>19</td>\n",
              "      <td>5</td>\n",
              "    </tr>\n",
              "    <tr>\n",
              "      <th>2</th>\n",
              "      <td>sj</td>\n",
              "      <td>1990</td>\n",
              "      <td>20</td>\n",
              "      <td>4</td>\n",
              "    </tr>\n",
              "    <tr>\n",
              "      <th>3</th>\n",
              "      <td>sj</td>\n",
              "      <td>1990</td>\n",
              "      <td>21</td>\n",
              "      <td>3</td>\n",
              "    </tr>\n",
              "    <tr>\n",
              "      <th>4</th>\n",
              "      <td>sj</td>\n",
              "      <td>1990</td>\n",
              "      <td>22</td>\n",
              "      <td>6</td>\n",
              "    </tr>\n",
              "  </tbody>\n",
              "</table>\n",
              "</div>"
            ],
            "text/plain": [
              "  city  year  weekofyear  total_cases\n",
              "0   sj  1990          18            4\n",
              "1   sj  1990          19            5\n",
              "2   sj  1990          20            4\n",
              "3   sj  1990          21            3\n",
              "4   sj  1990          22            6"
            ]
          },
          "metadata": {
            "tags": []
          },
          "execution_count": 56
        }
      ]
    },
    {
      "cell_type": "markdown",
      "metadata": {
        "id": "rlYxD4eNWIld"
      },
      "source": [
        "## Merge the datasets\r\n",
        "\r\n",
        "In order to better study these data, we merge both data sets into one. They can be joined thanks to the *city*, *year* and *weekofyear* attributes."
      ]
    },
    {
      "cell_type": "code",
      "metadata": {
        "colab": {
          "base_uri": "https://localhost:8080/",
          "height": 226
        },
        "id": "fivi-TydWRyb",
        "outputId": "b85c79ef-b109-4f24-e33f-038ecbb901d0"
      },
      "source": [
        "df_train = pd.merge(labels, df, on=['city','year','weekofyear'])\r\n",
        "df_train.head()"
      ],
      "execution_count": null,
      "outputs": [
        {
          "output_type": "execute_result",
          "data": {
            "text/html": [
              "<div>\n",
              "<style scoped>\n",
              "    .dataframe tbody tr th:only-of-type {\n",
              "        vertical-align: middle;\n",
              "    }\n",
              "\n",
              "    .dataframe tbody tr th {\n",
              "        vertical-align: top;\n",
              "    }\n",
              "\n",
              "    .dataframe thead th {\n",
              "        text-align: right;\n",
              "    }\n",
              "</style>\n",
              "<table border=\"1\" class=\"dataframe\">\n",
              "  <thead>\n",
              "    <tr style=\"text-align: right;\">\n",
              "      <th></th>\n",
              "      <th>city</th>\n",
              "      <th>year</th>\n",
              "      <th>weekofyear</th>\n",
              "      <th>total_cases</th>\n",
              "      <th>week_start_date</th>\n",
              "      <th>ndvi_ne</th>\n",
              "      <th>ndvi_nw</th>\n",
              "      <th>ndvi_se</th>\n",
              "      <th>ndvi_sw</th>\n",
              "      <th>precipitation_amt_mm</th>\n",
              "      <th>reanalysis_air_temp_k</th>\n",
              "      <th>reanalysis_avg_temp_k</th>\n",
              "      <th>reanalysis_dew_point_temp_k</th>\n",
              "      <th>reanalysis_max_air_temp_k</th>\n",
              "      <th>reanalysis_min_air_temp_k</th>\n",
              "      <th>reanalysis_precip_amt_kg_per_m2</th>\n",
              "      <th>reanalysis_relative_humidity_percent</th>\n",
              "      <th>reanalysis_sat_precip_amt_mm</th>\n",
              "      <th>reanalysis_specific_humidity_g_per_kg</th>\n",
              "      <th>reanalysis_tdtr_k</th>\n",
              "      <th>station_avg_temp_c</th>\n",
              "      <th>station_diur_temp_rng_c</th>\n",
              "      <th>station_max_temp_c</th>\n",
              "      <th>station_min_temp_c</th>\n",
              "      <th>station_precip_mm</th>\n",
              "    </tr>\n",
              "  </thead>\n",
              "  <tbody>\n",
              "    <tr>\n",
              "      <th>0</th>\n",
              "      <td>sj</td>\n",
              "      <td>1990</td>\n",
              "      <td>18</td>\n",
              "      <td>4</td>\n",
              "      <td>1990-04-30</td>\n",
              "      <td>0.122600</td>\n",
              "      <td>0.103725</td>\n",
              "      <td>0.198483</td>\n",
              "      <td>0.177617</td>\n",
              "      <td>12.42</td>\n",
              "      <td>297.572857</td>\n",
              "      <td>297.742857</td>\n",
              "      <td>292.414286</td>\n",
              "      <td>299.8</td>\n",
              "      <td>295.9</td>\n",
              "      <td>32.00</td>\n",
              "      <td>73.365714</td>\n",
              "      <td>12.42</td>\n",
              "      <td>14.012857</td>\n",
              "      <td>2.628571</td>\n",
              "      <td>25.442857</td>\n",
              "      <td>6.900000</td>\n",
              "      <td>29.4</td>\n",
              "      <td>20.0</td>\n",
              "      <td>16.0</td>\n",
              "    </tr>\n",
              "    <tr>\n",
              "      <th>1</th>\n",
              "      <td>sj</td>\n",
              "      <td>1990</td>\n",
              "      <td>19</td>\n",
              "      <td>5</td>\n",
              "      <td>1990-05-07</td>\n",
              "      <td>0.169900</td>\n",
              "      <td>0.142175</td>\n",
              "      <td>0.162357</td>\n",
              "      <td>0.155486</td>\n",
              "      <td>22.82</td>\n",
              "      <td>298.211429</td>\n",
              "      <td>298.442857</td>\n",
              "      <td>293.951429</td>\n",
              "      <td>300.9</td>\n",
              "      <td>296.4</td>\n",
              "      <td>17.94</td>\n",
              "      <td>77.368571</td>\n",
              "      <td>22.82</td>\n",
              "      <td>15.372857</td>\n",
              "      <td>2.371429</td>\n",
              "      <td>26.714286</td>\n",
              "      <td>6.371429</td>\n",
              "      <td>31.7</td>\n",
              "      <td>22.2</td>\n",
              "      <td>8.6</td>\n",
              "    </tr>\n",
              "    <tr>\n",
              "      <th>2</th>\n",
              "      <td>sj</td>\n",
              "      <td>1990</td>\n",
              "      <td>20</td>\n",
              "      <td>4</td>\n",
              "      <td>1990-05-14</td>\n",
              "      <td>0.032250</td>\n",
              "      <td>0.172967</td>\n",
              "      <td>0.157200</td>\n",
              "      <td>0.170843</td>\n",
              "      <td>34.54</td>\n",
              "      <td>298.781429</td>\n",
              "      <td>298.878571</td>\n",
              "      <td>295.434286</td>\n",
              "      <td>300.5</td>\n",
              "      <td>297.3</td>\n",
              "      <td>26.10</td>\n",
              "      <td>82.052857</td>\n",
              "      <td>34.54</td>\n",
              "      <td>16.848571</td>\n",
              "      <td>2.300000</td>\n",
              "      <td>26.714286</td>\n",
              "      <td>6.485714</td>\n",
              "      <td>32.2</td>\n",
              "      <td>22.8</td>\n",
              "      <td>41.4</td>\n",
              "    </tr>\n",
              "    <tr>\n",
              "      <th>3</th>\n",
              "      <td>sj</td>\n",
              "      <td>1990</td>\n",
              "      <td>21</td>\n",
              "      <td>3</td>\n",
              "      <td>1990-05-21</td>\n",
              "      <td>0.128633</td>\n",
              "      <td>0.245067</td>\n",
              "      <td>0.227557</td>\n",
              "      <td>0.235886</td>\n",
              "      <td>15.36</td>\n",
              "      <td>298.987143</td>\n",
              "      <td>299.228571</td>\n",
              "      <td>295.310000</td>\n",
              "      <td>301.4</td>\n",
              "      <td>297.0</td>\n",
              "      <td>13.90</td>\n",
              "      <td>80.337143</td>\n",
              "      <td>15.36</td>\n",
              "      <td>16.672857</td>\n",
              "      <td>2.428571</td>\n",
              "      <td>27.471429</td>\n",
              "      <td>6.771429</td>\n",
              "      <td>33.3</td>\n",
              "      <td>23.3</td>\n",
              "      <td>4.0</td>\n",
              "    </tr>\n",
              "    <tr>\n",
              "      <th>4</th>\n",
              "      <td>sj</td>\n",
              "      <td>1990</td>\n",
              "      <td>22</td>\n",
              "      <td>6</td>\n",
              "      <td>1990-05-28</td>\n",
              "      <td>0.196200</td>\n",
              "      <td>0.262200</td>\n",
              "      <td>0.251200</td>\n",
              "      <td>0.247340</td>\n",
              "      <td>7.52</td>\n",
              "      <td>299.518571</td>\n",
              "      <td>299.664286</td>\n",
              "      <td>295.821429</td>\n",
              "      <td>301.9</td>\n",
              "      <td>297.5</td>\n",
              "      <td>12.20</td>\n",
              "      <td>80.460000</td>\n",
              "      <td>7.52</td>\n",
              "      <td>17.210000</td>\n",
              "      <td>3.014286</td>\n",
              "      <td>28.942857</td>\n",
              "      <td>9.371429</td>\n",
              "      <td>35.0</td>\n",
              "      <td>23.9</td>\n",
              "      <td>5.8</td>\n",
              "    </tr>\n",
              "  </tbody>\n",
              "</table>\n",
              "</div>"
            ],
            "text/plain": [
              "  city  year  ...  station_min_temp_c  station_precip_mm\n",
              "0   sj  1990  ...                20.0               16.0\n",
              "1   sj  1990  ...                22.2                8.6\n",
              "2   sj  1990  ...                22.8               41.4\n",
              "3   sj  1990  ...                23.3                4.0\n",
              "4   sj  1990  ...                23.9                5.8\n",
              "\n",
              "[5 rows x 25 columns]"
            ]
          },
          "metadata": {
            "tags": []
          },
          "execution_count": 17
        }
      ]
    },
    {
      "cell_type": "markdown",
      "metadata": {
        "id": "Ox-aHf2cXL5H"
      },
      "source": [
        "# 3. Exploring the data\r\n",
        "\r\n",
        "Now that we have an optimal data set to start working on and get conclusions about the data, we proceed to explore this data."
      ]
    },
    {
      "cell_type": "markdown",
      "metadata": {
        "id": "QJI07a8uotIG"
      },
      "source": [
        "## Correlation between variables\r\n",
        "\r\n",
        "We are going to study the correlation between the variables that can influence the spread of dengue."
      ]
    },
    {
      "cell_type": "code",
      "metadata": {
        "colab": {
          "base_uri": "https://localhost:8080/",
          "height": 470
        },
        "id": "G1yU7RrYnkPS",
        "outputId": "2923bcf4-6d52-4f1e-f8b7-dfcfd6085132"
      },
      "source": [
        "# We eliminate columns that don't influence the spread of dengue.\r\n",
        "df_correlation = df\r\n",
        "df_correlation.drop(['city', 'year','weekofyear'], axis = 'columns', inplace=True) \r\n",
        "\r\n",
        "# Plot the correlation\r\n",
        "mtx_corr = df_correlation.corr()\r\n",
        "sns.heatmap(mtx_corr, xticklabels=mtx_corr.columns, yticklabels=mtx_corr.columns, annot=False)"
      ],
      "execution_count": null,
      "outputs": [
        {
          "output_type": "execute_result",
          "data": {
            "text/plain": [
              "<matplotlib.axes._subplots.AxesSubplot at 0x7f0ed5e02be0>"
            ]
          },
          "metadata": {
            "tags": []
          },
          "execution_count": 18
        },
        {
          "output_type": "display_data",
          "data": {
            "image/png": "[encoded data removed]",
            "text/plain": [
              "<Figure size 432x288 with 2 Axes>"
            ]
          },
          "metadata": {
            "tags": [],
            "needs_background": "light"
          }
        }
      ]
    },
    {
      "cell_type": "markdown",
      "metadata": {
        "id": "6ZMloy5Tqsm3"
      },
      "source": [
        "As our dataset has many features, it is very difficult to draw important conclusions in the correlation matrix. The only remarkable thing is that the different features that are related to similar aspects, such as humidity, air, and others, are usually more or less correlated."
      ]
    },
    {
      "cell_type": "markdown",
      "metadata": {
        "id": "giLiQSgfXq0O"
      },
      "source": [
        "## Study of the evolution of the disease in each city\r\n",
        "\r\n",
        "Now we are going to represent the total number of cases by cities in a histogram, which represents the distribution of this variable in both cities."
      ]
    },
    {
      "cell_type": "code",
      "metadata": {
        "colab": {
          "base_uri": "https://localhost:8080/",
          "height": 239
        },
        "id": "Y5LxoKmgXLY_",
        "outputId": "bbef36d0-b284-4324-a55e-55ef6865de5b"
      },
      "source": [
        "sns.set(style=\"ticks\", palette=\"colorblind\")\r\n",
        "g = sns.FacetGrid(df_train, col= \"city\", aspect = 2)  \r\n",
        "g.map(sns.distplot, \"total_cases\") \r\n",
        "axes = g.axes\r\n",
        "axes[0,0].set_ylim(0, 0.090)\r\n",
        "axes[0,1].set_ylim(0, 0.090)"
      ],
      "execution_count": null,
      "outputs": [
        {
          "output_type": "execute_result",
          "data": {
            "text/plain": [
              "(0.0, 0.09)"
            ]
          },
          "metadata": {
            "tags": []
          },
          "execution_count": 60
        },
        {
          "output_type": "display_data",
          "data": {
            "image/png": "[encoded data removed]",
            "text/plain": [
              "<Figure size 864x216 with 2 Axes>"
            ]
          },
          "metadata": {
            "tags": []
          }
        }
      ]
    },
    {
      "cell_type": "markdown",
      "metadata": {
        "id": "7KjMrhP4rP1v"
      },
      "source": [
        "Right now, we might think that these graphs represent that Iquitos in our data set has a total number of cases higher than that of San Juan, let's check it!\r\n",
        "\r\n",
        "To do this, we will use the *group_by* function, which will help us to group the records of our dataset by city."
      ]
    },
    {
      "cell_type": "code",
      "metadata": {
        "colab": {
          "base_uri": "https://localhost:8080/"
        },
        "id": "SLlpLMDVrctC",
        "outputId": "42d75787-e6bc-46f7-bcd7-f91d5b9e814f"
      },
      "source": [
        "df_train.groupby('city').sum().total_cases"
      ],
      "execution_count": null,
      "outputs": [
        {
          "output_type": "execute_result",
          "data": {
            "text/plain": [
              "city\n",
              "iq     3934\n",
              "sj    31993\n",
              "Name: total_cases, dtype: int64"
            ]
          },
          "metadata": {
            "tags": []
          },
          "execution_count": 62
        }
      ]
    },
    {
      "cell_type": "markdown",
      "metadata": {
        "id": "xjPCqkVDr7qO"
      },
      "source": [
        "And... Surprise! Our thinking wasn't correct. In our data set there are many more cases of dengue detected in San Juan than in Iquitos.\r\n",
        "\r\n",
        "We are now going to represent the evolution of the disease in the two cities."
      ]
    },
    {
      "cell_type": "code",
      "metadata": {
        "colab": {
          "base_uri": "https://localhost:8080/",
          "height": 243
        },
        "id": "9Sl3T2fFsQIN",
        "outputId": "5e1bd4bf-ed82-4910-e8b3-da00b7a94161"
      },
      "source": [
        "sns.set(style=\"ticks\", palette=\"colorblind\")\r\n",
        "fig = sns.FacetGrid(df_train, hue='city', aspect=4) \r\n",
        "fig.map(sns.pointplot,'weekofyear','total_cases')\r\n",
        "max_x = df_train.weekofyear.max()\r\n",
        "min_x = df_train.weekofyear.min()\r\n",
        "fig.set(xlim=(min_x,max_x))\r\n",
        "fig.set(ylim=(0, 80))\r\n",
        "fig.add_legend()\r\n",
        "#fig.fig.suptitle(\"Evolution of dengue disease through time\")"
      ],
      "execution_count": null,
      "outputs": [
        {
          "output_type": "execute_result",
          "data": {
            "text/plain": [
              "<seaborn.axisgrid.FacetGrid at 0x7f0ed5cbde48>"
            ]
          },
          "metadata": {
            "tags": []
          },
          "execution_count": 19
        },
        {
          "output_type": "display_data",
          "data": {
            "image/png": "[encoded data removed]",
            "text/plain": [
              "<Figure size 913.725x216 with 1 Axes>"
            ]
          },
          "metadata": {
            "tags": []
          }
        }
      ]
    },
    {
      "cell_type": "markdown",
      "metadata": {
        "id": "Jczo7r7TtWuU"
      },
      "source": [
        "As a main conclusion, we can confirm that in the city of San Juan, the disease spreads more in the second half of the year. While in Iquitos, fewer cases are registered throughout the year, and the new cases detected decrease little by little from the beginning of the year to the end of the year, where there is an increase in cases."
      ]
    },
    {
      "cell_type": "markdown",
      "metadata": {
        "id": "1bTG_fXb2xFf"
      },
      "source": [
        "## Looking for the most decisive variables"
      ]
    },
    {
      "cell_type": "markdown",
      "metadata": {
        "id": "l_9NJpnxm2RB"
      },
      "source": [
        "\r\n",
        "At this point, after viewing the correlation matrix and study the evolution of the disease by city, it will be important to define what are the aspects that could be very definitive when it comes to spreading dengue.\r\n",
        "\r\n",
        "Looking for information in [papers](http://www.scielo.org.co/pdf/cesm/v33n1/0120-8705-cesm-33-01-42.pdf) on which aspects are the ones that most influence the spread of dengue, we have found that the fundamental aspects are humidity and temperature, therefore it would be interesting to think about using features related to these two aspects for our models.\r\n",
        "\r\n",
        "The mosquito that spreads this disease usually lives in places with a hot and humid climate.\r\n",
        "\r\n",
        "We are going to draw which are the variables that have a greater correlation with the variable of the total of cases, this graph will help us a lot to make the decision of selection of variables with which we will make our models."
      ]
    },
    {
      "cell_type": "code",
      "metadata": {
        "colab": {
          "base_uri": "https://localhost:8080/"
        },
        "id": "31PMHiUQ5wXy",
        "outputId": "f65acc66-f92e-46e8-be34-6d11432cf92d"
      },
      "source": [
        "df_train.corr()['total_cases']"
      ],
      "execution_count": null,
      "outputs": [
        {
          "output_type": "execute_result",
          "data": {
            "text/plain": [
              "year                                    -0.306806\n",
              "weekofyear                               0.216452\n",
              "total_cases                              1.000000\n",
              "ndvi_ne                                 -0.157320\n",
              "ndvi_nw                                 -0.137254\n",
              "ndvi_se                                 -0.117769\n",
              "ndvi_sw                                 -0.137221\n",
              "precipitation_amt_mm                    -0.038670\n",
              "reanalysis_air_temp_k                    0.264564\n",
              "reanalysis_avg_temp_k                    0.151415\n",
              "reanalysis_dew_point_temp_k              0.142322\n",
              "reanalysis_max_air_temp_k               -0.191066\n",
              "reanalysis_min_air_temp_k                0.324776\n",
              "reanalysis_precip_amt_kg_per_m2         -0.010016\n",
              "reanalysis_relative_humidity_percent    -0.132259\n",
              "reanalysis_sat_precip_amt_mm            -0.038670\n",
              "reanalysis_specific_humidity_g_per_kg    0.129671\n",
              "reanalysis_tdtr_k                       -0.278076\n",
              "station_avg_temp_c                       0.115478\n",
              "station_diur_temp_rng_c                 -0.236552\n",
              "station_max_temp_c                      -0.039068\n",
              "station_min_temp_c                       0.266227\n",
              "station_precip_mm                       -0.074201\n",
              "Name: total_cases, dtype: float64"
            ]
          },
          "metadata": {
            "tags": []
          },
          "execution_count": 72
        }
      ]
    },
    {
      "cell_type": "markdown",
      "metadata": {
        "id": "Zv2hYhKA87m5"
      },
      "source": [
        "Therefore, now and we have the theoretical explanation that factors influence the expansion of dengue, and the correlation of the features of our data set with the total number of cases, therefore, we can now select which variables we will work with."
      ]
    },
    {
      "cell_type": "markdown",
      "metadata": {
        "id": "dZYqWinj5wt6"
      },
      "source": [
        "## Choice of variables and their correlation\r\n",
        "\r\n",
        "The variables with which we are going to choose to work from now on based on the results obtained previously are:\r\n",
        "\r\n",
        "- **reanalysis_dew_point_temp_k:** mean dew point temperature\r\n",
        "- **reanalysis_specific_humidity_g_per_kg:** mean specific humidity\r\n",
        "- **station_avg_temp_c:** average ambient temperature\r\n",
        "- **station_min_temp_c:** minimum ambient temperature\r\n",
        "\r\n",
        "We are going to study their correlation."
      ]
    },
    {
      "cell_type": "code",
      "metadata": {
        "colab": {
          "base_uri": "https://localhost:8080/",
          "height": 493
        },
        "id": "jM81oLW_1Dz1",
        "outputId": "fd87a060-57e7-4359-f2f8-d3fc4bb9d760"
      },
      "source": [
        "# Select the features\r\n",
        "df_selected = pd.DataFrame()\r\n",
        "df_selected['reanalysis_specific_humidity_g_per_kg'] = df['reanalysis_specific_humidity_g_per_kg']\r\n",
        "df_selected['reanalysis_dew_point_temp_k'] = df['reanalysis_dew_point_temp_k']\r\n",
        "df_selected['station_avg_temp_c'] = df['station_avg_temp_c']\r\n",
        "df_selected['station_min_temp_c'] = df['station_min_temp_c']\r\n",
        "\r\n",
        "# Plot the correlation\r\n",
        "mtx_corr = df_selected.corr()\r\n",
        "sns.heatmap(mtx_corr, xticklabels=mtx_corr.columns, yticklabels=mtx_corr.columns, annot=False)"
      ],
      "execution_count": null,
      "outputs": [
        {
          "output_type": "execute_result",
          "data": {
            "text/plain": [
              "<matplotlib.axes._subplots.AxesSubplot at 0x7fa3e2f02e10>"
            ]
          },
          "metadata": {
            "tags": []
          },
          "execution_count": 70
        },
        {
          "output_type": "display_data",
          "data": {
            "image/png": "[encoded data removed]",
            "text/plain": [
              "<Figure size 432x288 with 2 Axes>"
            ]
          },
          "metadata": {
            "tags": []
          }
        }
      ]
    }
  ]
}