{
  "nbformat": 4,
  "nbformat_minor": 0,
  "metadata": {
    "colab": {
      "name": "Dengue_NaiveBayes.ipynb",
      "provenance": [],
      "collapsed_sections": [],
      "toc_visible": true
    },
    "kernelspec": {
      "name": "python3",
      "display_name": "Python 3"
    }
  },
  "cells": [
    {
      "cell_type": "markdown",
      "metadata": {
        "id": "Ti5Wnz3cgkRD"
      },
      "source": [
        "# 0. Introduction\n",
        "\n",
        "We are going to use the data that we have been provided to study and try to predict the evolution of Dengue disease in the cities of **San Jose**, *Puerto Rico*, and **Iquitos**, *Peru*. More information in this [link](https://www.drivendata.org/competitions/44/dengai-predicting-disease-spread/).\n",
        "\n",
        "To begin our study, this notebook will be part of our baseline, where various algorithms with simple optimization will be used, with the aim of beginning to know how we could create robust models.\n"
      ]
    },
    {
      "cell_type": "markdown",
      "metadata": {
        "id": "Yo0x5dyH5b4N"
      },
      "source": [
        "# 1. Libraries\r\n",
        "\r\n",
        "Before starting any analysis we must ensure that the basic and general use libraries *(numpy, pandas, etc.)* are correctly imported. "
      ]
    },
    {
      "cell_type": "code",
      "metadata": {
        "id": "QcqAjsMIKluO"
      },
      "source": [
        "# Preprocessing\n",
        "from sklearn import preprocessing\n",
        "\n",
        "# Loading the data\n",
        "import pandas as pd\n",
        "import io\n",
        "from google.colab import files\n",
        "\n",
        "# Graphics display\n",
        "import seaborn as sns\n",
        "import matplotlib.pyplot as plt\n",
        "\n",
        "# Estimator and model selection\n",
        "from sklearn.model_selection import train_test_split\n",
        "from sklearn.naive_bayes import GaussianNB, MultinomialNB, BernoulliNB, ComplementNB\n",
        "\n",
        "# Others\n",
        "import numpy as np    \n",
        "from sklearn.metrics import mean_absolute_error \n",
        "\n"
      ],
      "execution_count": 1,
      "outputs": []
    },
    {
      "cell_type": "markdown",
      "metadata": {
        "id": "fvxDPxPhheSW"
      },
      "source": [
        "# 2. Loading the data\r\n",
        "\r\n",
        "The first step is to upload all the CSV files that have been provided to us and that thanks to them we will obtain the data with which we are going to work. To do this, we will use the tools that Google Colab offers us when uploading files."
      ]
    },
    {
      "cell_type": "markdown",
      "metadata": {
        "id": "dZSaoCMRAq8m"
      },
      "source": [
        "## Preprocessing the data\n",
        "\n",
        "We transform the data in order to allow us the posterior use of the algorithms to build prediction models, for example, missing values, from categories to numbers, etc."
      ]
    },
    {
      "cell_type": "code",
      "metadata": {
        "id": "zr57uSH3SO82"
      },
      "source": [
        "# Make function to preprocess data\r\n",
        "def preprocess_data(data_path, labels_path=None):\r\n",
        "    # Load data and set index to city, year, weekofyear\r\n",
        "    df = pd.read_csv(data_path)\r\n",
        "    # Fill missing values\r\n",
        "    df.fillna(df.mean(), inplace=True)\r\n",
        "    lb = preprocessing.LabelBinarizer()\r\n",
        "\r\n",
        "    if labels_path:\r\n",
        "        labels = pd.read_csv(labels_path)\r\n",
        "        \r\n",
        "        labels['city'] = lb.fit_transform(labels['city'])\r\n",
        "    \r\n",
        "    df['city'] =  lb.fit_transform(df['city'])\r\n",
        "\r\n",
        "    selected_features = ['reanalysis_specific_humidity_g_per_kg', 'reanalysis_dew_point_temp_k', \r\n",
        "                 'station_avg_temp_c', 'station_min_temp_c']\r\n",
        "    df = df[selected_features]\r\n",
        "\r\n",
        "    if labels_path:\r\n",
        "        return df, labels\r\n",
        "    return df"
      ],
      "execution_count": 2,
      "outputs": []
    },
    {
      "cell_type": "markdown",
      "metadata": {
        "id": "azNo5qch9huH"
      },
      "source": [
        "We execute the newly compiled method, which will allow us to load and preprocess our data."
      ]
    },
    {
      "cell_type": "code",
      "metadata": {
        "id": "lN74ew6GSShd"
      },
      "source": [
        "df_features, df_labels  = preprocess_data('dengue_features_train.csv', labels_path=\"dengue_labels_train.csv\")"
      ],
      "execution_count": 3,
      "outputs": []
    },
    {
      "cell_type": "markdown",
      "metadata": {
        "id": "gaMU1aGS9moP"
      },
      "source": [
        "Finally, we also load the file with which we will carry out the final prediction, once our model is trained."
      ]
    },
    {
      "cell_type": "code",
      "metadata": {
        "id": "YUrvIsptSU7d"
      },
      "source": [
        "df_test_final = preprocess_data(\"dengue_features_test.csv\")"
      ],
      "execution_count": 4,
      "outputs": []
    },
    {
      "cell_type": "markdown",
      "metadata": {
        "id": "51ZzW9PQ9pC_"
      },
      "source": [
        "# 3. Detaching the dataset\r\n",
        "\r\n",
        "To train the models that we make, it is necessary to separate our training dataset into two parts, one precisely to train the model, and another to check if our models are good."
      ]
    },
    {
      "cell_type": "code",
      "metadata": {
        "id": "eQjikOIh6qUI"
      },
      "source": [
        "X_train, X_test, y_train, y_test = train_test_split(df_features, df_labels['total_cases'], test_size=0.2, random_state=1)"
      ],
      "execution_count": 5,
      "outputs": []
    },
    {
      "cell_type": "markdown",
      "metadata": {
        "id": "USru2b9e9tqc"
      },
      "source": [
        "# 4. Execution of the algorithm\r\n",
        "\r\n",
        "Naive Bayes classifiers are related to Bayes' theorem, and they assume that the presence or absence of one characteristic is totally independent of the presence or absence of the others."
      ]
    },
    {
      "cell_type": "code",
      "metadata": {
        "id": "AVheBB5JK9QW"
      },
      "source": [
        "def NaiveBayes(regressor, name, X_train, X_test):\n",
        "    # Model construction\n",
        "    regressor.fit(X_train, y_train)\n",
        "\n",
        "    # Test\n",
        "    y_pred = regressor.predict(X_test)\n",
        "    mae = mean_absolute_error(y_test,y_pred)\n",
        "    print (\"Error Measure \",  mae, \"\\n\")\n",
        "\n",
        "    # Plot\n",
        "    xx = np.arange(0,len(y_test),1)\n",
        "    plt.scatter(xx, y_test, c='r', label='data')\n",
        "    plt.plot(xx, y_pred, c='g', label='prediction')\n",
        "    plt.axis('tight')\n",
        "    plt.legend()\n",
        "    plt.title(name)\n",
        "    plt.show()\n",
        "    \n",
        "    return regressor"
      ],
      "execution_count": 6,
      "outputs": []
    },
    {
      "cell_type": "markdown",
      "metadata": {
        "id": "ukqOKMno98WN"
      },
      "source": [
        "We run the algorithm, with its different regressors"
      ]
    },
    {
      "cell_type": "code",
      "metadata": {
        "colab": {
          "base_uri": "https://localhost:8080/",
          "height": 1000
        },
        "id": "AVvHu0tHJYdz",
        "outputId": "2c8aee56-4146-4099-dd30-3da4651cf4bc"
      },
      "source": [
        "model1 = NaiveBayes(GaussianNB(),'GaussianNB',X_train,X_test)\r\n",
        "model2 = NaiveBayes(MultinomialNB(),'MultiNomialNB',X_train,X_test)\r\n",
        "model3 = NaiveBayes(BernoulliNB(),'BernouilliNB',X_train,X_test)\r\n",
        "model4 = NaiveBayes(ComplementNB(),'ComplementNB',X_train,X_test)"
      ],
      "execution_count": 7,
      "outputs": [
        {
          "output_type": "stream",
          "text": [
            "Error Measure  29.839041095890412 \n",
            "\n"
          ],
          "name": "stdout"
        },
        {
          "output_type": "display_data",
          "data": {
            "image/png": "[encoded data removed]",
            "text/plain": [
              "<Figure size 432x288 with 1 Axes>"
            ]
          },
          "metadata": {
            "tags": [],
            "needs_background": "light"
          }
        },
        {
          "output_type": "stream",
          "text": [
            "Error Measure  21.28767123287671 \n",
            "\n"
          ],
          "name": "stdout"
        },
        {
          "output_type": "display_data",
          "data": {
            "image/png": "[encoded data removed]",
            "text/plain": [
              "<Figure size 432x288 with 1 Axes>"
            ]
          },
          "metadata": {
            "tags": [],
            "needs_background": "light"
          }
        },
        {
          "output_type": "stream",
          "text": [
            "Error Measure  21.28767123287671 \n",
            "\n"
          ],
          "name": "stdout"
        },
        {
          "output_type": "display_data",
          "data": {
            "image/png": "[encoded data removed]",
            "text/plain": [
              "<Figure size 432x288 with 1 Axes>"
            ]
          },
          "metadata": {
            "tags": [],
            "needs_background": "light"
          }
        },
        {
          "output_type": "stream",
          "text": [
            "Error Measure  18.910958904109588 \n",
            "\n"
          ],
          "name": "stdout"
        },
        {
          "output_type": "display_data",
          "data": {
            "image/png": "[encoded data removed]",
            "text/plain": [
              "<Figure size 432x288 with 1 Axes>"
            ]
          },
          "metadata": {
            "tags": [],
            "needs_background": "light"
          }
        }
      ]
    },
    {
      "cell_type": "markdown",
      "metadata": {
        "id": "2qbkQc-ztqIS"
      },
      "source": [
        "## Submission result\r\n",
        "\r\n",
        "Now, we are going to test our model with the data provided to us in the dengue_features_test.csv file to predict dengue cases for the weeks proposed in said file."
      ]
    },
    {
      "cell_type": "code",
      "metadata": {
        "id": "eg9dJjp484P_",
        "colab": {
          "base_uri": "https://localhost:8080/"
        },
        "outputId": "29a2f283-1578-4379-a37b-ce67fdaa7cfe"
      },
      "source": [
        "final_model_prediction_1 = model1.predict(df_test_final)\r\n",
        "final_model_prediction_2 = model2.predict(df_test_final)\r\n",
        "final_model_prediction_3 = model3.predict(df_test_final)\r\n",
        "final_model_prediction_4 = model4.predict(df_test_final)\r\n",
        "\r\n",
        "final_models = [final_model_prediction_1,final_model_prediction_2,final_model_prediction_3,final_model_prediction_4]\r\n",
        "\r\n",
        "def roundResult(final_model_prediction):\r\n",
        "  # Round the result and cast to int\r\n",
        "  y = np.rint(final_model_prediction)\r\n",
        "  y = y.astype(int)\r\n",
        "  res = np.hstack(y)\r\n",
        "  print(res)\r\n",
        "\r\n",
        "for model in final_models:\r\n",
        "  roundResult(model)  \r\n"
      ],
      "execution_count": 8,
      "outputs": [
        {
          "output_type": "stream",
          "text": [
            "[  0   6   5  80   6   5 140  80  49  71  49  60 106  60  49  82  80  80\n",
            "  82  83  80  43  83  80  48  63  49 106  49  63   6  17  17   0  37   6\n",
            "  37   6   6   6  17  17  37  37   7   7  37  37  37   7   6   0   0   7\n",
            "   6   6  49 140  49  80  80  60  49  83  80  64  76  83  83  82 106  83\n",
            "  76  49  82  82  82  80  76  60 140  49  43   5  84   6   6   6   0   3\n",
            "   3   3  37   0   0   0 140   0   0   5   5   0   0   6  43  71  84  80\n",
            "  49 112  82  82  43  44  80 112  83   4  82  82  82  82  80  82  80  82\n",
            "  80  82  80  80  49 140  43   6   7   7  50   6  17  17  37  17   3  17\n",
            "  17   7   6  17  37  37  50  37   3   0   7   7   6   6  17   0   5  49\n",
            "   5   4   4  83  49  55  43  82  49   4  83  80  44  80  82  48  49  49\n",
            "  51  51  84  43  48  43  63   6   6   6  17  17   6  17  17  37  37  17\n",
            "   7  37   7   7  17   7  17   6   6   6   0  49   6  49  49  49 106  60\n",
            "  60  60  60  43  83  82  83  80  83  82  49  60  60  60  82  80  71  83\n",
            "  80  80  71  80 106  49   5   0   0   0   6   7  17   6  37  17   7  17\n",
            "   0  37  37   6   6   5  49   0   5   0   5   0   0   0   0   0   0   0\n",
            "  63   0   5   0   5   5   0   5   4   5   0   5   5   4   4   0  63   0\n",
            "   5   0   0   0   0   5  44   5   5   0  44   4   5   5   5  44   4   0\n",
            "  63  63   6   0   6   0   0   0   0   0   0   0   0   0   0   0   0   0\n",
            "   0  63  63  44  83   0   5   5  44   5   4  44   4  48  83  48  48   0\n",
            "   0  48   4  63   5   0   5  63   0   5   5  43  44  71   4   0  48   0\n",
            "   0   0  37   0   0   0   0   0  37   0   0   0   0   0   0   5   0   0\n",
            "   0  57   0   4   5   5  44   4   4  71   4   4  71   0   6  44  48  83\n",
            "  71   4   4  48  83   4  83   4  44  83   5   0  83   5  63  63  63   0\n",
            "   0   0]\n",
            "[0 0 0 0 0 0 0 0 0 0 0 0 0 0 0 0 0 0 0 0 0 0 0 0 0 0 0 0 0 0 0 0 0 0 0 0 0\n",
            " 0 0 0 0 0 0 0 0 0 0 0 0 0 0 0 0 0 0 0 0 0 0 0 0 0 0 0 0 0 0 0 0 5 0 0 0 0\n",
            " 0 0 0 0 0 0 0 0 0 0 0 0 0 0 0 0 0 0 0 0 0 0 0 0 0 0 0 0 0 0 0 0 0 0 0 0 0\n",
            " 0 0 0 0 0 0 0 0 0 0 0 0 0 0 0 0 0 0 0 0 0 0 0 0 0 0 0 0 0 0 0 0 0 0 0 0 0\n",
            " 0 0 0 0 0 0 0 0 0 0 0 0 0 0 0 0 0 0 0 0 0 0 0 0 0 0 0 0 0 0 0 0 0 0 0 0 0\n",
            " 0 0 0 0 0 0 0 0 0 0 0 0 0 0 0 0 0 0 0 0 0 0 0 0 0 0 0 0 0 0 0 0 0 0 0 0 0\n",
            " 0 0 0 0 0 0 0 0 0 0 0 0 0 0 0 0 0 0 0 0 0 0 0 0 0 0 0 0 0 0 0 0 0 0 0 0 0\n",
            " 0 0 0 0 0 0 0 0 0 0 0 0 0 0 0 0 0 0 0 0 0 0 0 0 0 0 0 0 0 0 0 0 0 0 0 0 0\n",
            " 0 0 0 0 0 0 0 0 0 0 0 0 0 0 0 0 0 0 0 0 0 0 0 0 0 0 0 0 0 0 0 0 0 0 0 0 0\n",
            " 0 0 0 0 0 0 0 0 0 0 0 0 0 0 0 0 0 0 0 0 0 0 0 0 0 0 0 0 0 0 0 0 0 0 0 0 0\n",
            " 0 0 0 0 0 0 0 0 0 0 0 0 0 0 0 0 0 0 0 0 0 0 0 0 0 0 0 0 0 0 0 0 0 0 0 0 0\n",
            " 0 0 0 0 0 0 0 0 0]\n",
            "[0 0 0 0 0 0 0 0 0 0 0 0 0 0 0 0 0 0 0 0 0 0 0 0 0 0 0 0 0 0 0 0 0 0 0 0 0\n",
            " 0 0 0 0 0 0 0 0 0 0 0 0 0 0 0 0 0 0 0 0 0 0 0 0 0 0 0 0 0 0 0 0 0 0 0 0 0\n",
            " 0 0 0 0 0 0 0 0 0 0 0 0 0 0 0 0 0 0 0 0 0 0 0 0 0 0 0 0 0 0 0 0 0 0 0 0 0\n",
            " 0 0 0 0 0 0 0 0 0 0 0 0 0 0 0 0 0 0 0 0 0 0 0 0 0 0 0 0 0 0 0 0 0 0 0 0 0\n",
            " 0 0 0 0 0 0 0 0 0 0 0 0 0 0 0 0 0 0 0 0 0 0 0 0 0 0 0 0 0 0 0 0 0 0 0 0 0\n",
            " 0 0 0 0 0 0 0 0 0 0 0 0 0 0 0 0 0 0 0 0 0 0 0 0 0 0 0 0 0 0 0 0 0 0 0 0 0\n",
            " 0 0 0 0 0 0 0 0 0 0 0 0 0 0 0 0 0 0 0 0 0 0 0 0 0 0 0 0 0 0 0 0 0 0 0 0 0\n",
            " 0 0 0 0 0 0 0 0 0 0 0 0 0 0 0 0 0 0 0 0 0 0 0 0 0 0 0 0 0 0 0 0 0 0 0 0 0\n",
            " 0 0 0 0 0 0 0 0 0 0 0 0 0 0 0 0 0 0 0 0 0 0 0 0 0 0 0 0 0 0 0 0 0 0 0 0 0\n",
            " 0 0 0 0 0 0 0 0 0 0 0 0 0 0 0 0 0 0 0 0 0 0 0 0 0 0 0 0 0 0 0 0 0 0 0 0 0\n",
            " 0 0 0 0 0 0 0 0 0 0 0 0 0 0 0 0 0 0 0 0 0 0 0 0 0 0 0 0 0 0 0 0 0 0 0 0 0\n",
            " 0 0 0 0 0 0 0 0 0]\n",
            "[ 0 17 31 31 31 31 31 31 31 31 31 31 31 31 16 31 16 16 16 16 16 16  5 31\n",
            " 16 23 31 31 31 23 17  0 17  0  0 16  0 17  0  0  0  0  0  0  0  0  0  0\n",
            "  0  0 17  0  0 17 17 17 31 31 31 31 31 31 16 31 16 16 31 31 31 31 16 16\n",
            " 31 16 31 31 31 16 31 31 16 31 16 31 31 17 17 16  0  0  0 17  0  0  0 17\n",
            " 16  0  0  5 31  0  0 17 16 16 31 31 16 16 16 31 16 16 16 16 16 16 16 16\n",
            " 16 16 16 16 16 31 16 31 16 31 31 16 16 17 17  0  0 17  0 17  0  0  0  0\n",
            "  0  0 17  0  0  0  0  0  0  0  0 17 17 17 17  0  0 16  0 16  5 16 16 16\n",
            " 16 16 16 16 16 16 16 16 31 16 16 16 16 16 31 16 16 23 31 13  0 17 17 17\n",
            " 17  0  0  0  0  0  0  0  0  0 17 17 17 17 17 17  0 31 17 31 31 31 31 31\n",
            " 31 31 31 16 31 31 31 16 16 31 16 31 31 31 31 16 31 16 16 16 31 31 31 31\n",
            " 31 17  0  0 17  0  0 17  0  0  0 17  0  0  0 17 17 31 31  0  0  0  5  0\n",
            "  0  0  0  0  0  0  0  0  0  0  0  0  0  0  5  0  0  0  0  5  5  0  5  0\n",
            "  0  0  0  0  0  0  0  0  0  0  0  5  0  0  5  5  5  0 30 16 16 17 31  0\n",
            " 17 17  0  0  0  0  0  0  0  0  0  0  0 30  0  0 16  0  0  0  0  0  5  5\n",
            "  5 16  5 16  5  0  0  5  5  5  0  0  5  0  0  0  0 16 16  5  5  0  5  0\n",
            "  0  0  0  0  0  0  0  0  0  0  0  0  0  0  0  0  0  0  0 16  0  5  5  5\n",
            " 16  5  5  5  5  5 16  0 30 16 30  5 16  5  5 16  5 16  5  5  5  5  0  0\n",
            "  5  0  5  0  0  0  0  0]\n"
          ],
          "name": "stdout"
        }
      ]
    },
    {
      "cell_type": "markdown",
      "metadata": {
        "id": "PrHTXzLW1eaR"
      },
      "source": [
        "As you can see, with the MultinomialNB and BernouilliNB classifiers, basically nothing is predicted, even so, we will test them in the Driven Data competition, although the results will be very bad.\r\n",
        "\r\n",
        "Finally, we are going to download a CSV file that contains our prediction, to load it into DrivenData and return the score of our model."
      ]
    },
    {
      "cell_type": "code",
      "metadata": {
        "id": "b4tSsUpDDNbJ"
      },
      "source": [
        "def buildOutput(submission,final_model_prediction,c):\n",
        "  submission.total_cases = final_model_prediction.astype(np.int64)\n",
        "  submission.to_csv(\"result\" + str(c) +\".csv\")\n",
        "\n",
        "c = 0\n",
        "for model in final_models:\n",
        "  submission = pd.read_csv(\"submission_format.csv\", index_col=[0, 1, 2])\n",
        "  buildOutput(submission, model,c)\n",
        "  c = c + 1\n"
      ],
      "execution_count": 9,
      "outputs": []
    },
    {
      "cell_type": "markdown",
      "metadata": {
        "id": "LwsWm_H0-cu4"
      },
      "source": [
        "**And the result is:**\r\n",
        "\r\n",
        "GaussianNB: *34.4519\r\n",
        "Woo! I scored 34.4519 on 'DengAI: Predicting Disease Spread'!*\r\n",
        "\r\n",
        "MultinomialNB: *37.5889\r\n",
        "Woo! I scored 37.5889 on 'DengAI: Predicting Disease Spread'!*\r\n",
        "\r\n",
        "BernouilliNB: *37.5889\r\n",
        "Woo! I scored 37.5889 on 'DengAI: Predicting Disease Spread'!*\r\n",
        "\r\n",
        "ComplementNB: *31.0673\r\n",
        "Woo! I scored 31.0673 on 'DengAI: Predicting Disease Spread'!*\r\n",
        "\r\n",
        "\r\n",
        "Unlike the rest of the algorithms that we have tested with simple optimization, the results are not very encouraging, and therefore, we think that even if we optimize the models, we will surely find better models with other algorithms."
      ]
    }
  ]
}