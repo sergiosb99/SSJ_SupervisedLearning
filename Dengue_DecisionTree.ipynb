{
  "nbformat": 4,
  "nbformat_minor": 0,
  "metadata": {
    "colab": {
      "name": "Dengue_DecisionTree.ipynb",
      "provenance": [],
      "collapsed_sections": [],
      "toc_visible": true
    },
    "kernelspec": {
      "name": "python3",
      "display_name": "Python 3"
    }
  },
  "cells": [
    {
      "cell_type": "markdown",
      "metadata": {
        "id": "Ti5Wnz3cgkRD"
      },
      "source": [
        "# 0. Introduction\n",
        "\n",
        "We are going to use the data that we have been provided to study and try to predict the evolution of Dengue disease in the cities of **San Jose**, *Puerto Rico*, and **Iquitos**, *Peru*. More information in this [link](https://www.drivendata.org/competitions/44/dengai-predicting-disease-spread/).\n",
        "\n",
        "To begin our study, this notebook will be part of our baseline, where various algorithms with simple optimization will be used, with the aim of beginning to know how we could create robust models.\n"
      ]
    },
    {
      "cell_type": "markdown",
      "metadata": {
        "id": "Yo0x5dyH5b4N"
      },
      "source": [
        "# 1. Libraries\r\n",
        "\r\n",
        "Before starting any analysis we must ensure that the basic and general use libraries *(numpy, pandas, etc.)* are correctly imported. "
      ]
    },
    {
      "cell_type": "code",
      "metadata": {
        "id": "QcqAjsMIKluO"
      },
      "source": [
        "# Preprocessing\n",
        "from sklearn import preprocessing\n",
        "\n",
        "# Loading the data\n",
        "import pandas as pd\n",
        "import io\n",
        "from google.colab import files\n",
        "\n",
        "# Graphics display\n",
        "import seaborn as sns\n",
        "import matplotlib.pyplot as plt\n",
        "\n",
        "# Estimator and model selection\n",
        "from sklearn.model_selection import train_test_split\n",
        "from sklearn.tree import DecisionTreeRegressor\n",
        "\n",
        "# Others\n",
        "import numpy as np    \n",
        "from sklearn.metrics import mean_absolute_error "
      ],
      "execution_count": 1,
      "outputs": []
    },
    {
      "cell_type": "markdown",
      "metadata": {
        "id": "fvxDPxPhheSW"
      },
      "source": [
        "# 2. Loading the data\r\n",
        "\r\n",
        "The first step is to upload all the CSV files that have been provided to us and that thanks to them we will obtain the data with which we are going to work. To do this, we will use the tools that Google Colab offers us when uploading files."
      ]
    },
    {
      "cell_type": "markdown",
      "metadata": {
        "id": "dZSaoCMRAq8m"
      },
      "source": [
        "## Preprocessing the data\n",
        "\n",
        "We transform the data in order to allow us the posterior use of the algorithms to build prediction models, for example, missing values, from categories to numbers, etc."
      ]
    },
    {
      "cell_type": "code",
      "metadata": {
        "id": "zr57uSH3SO82"
      },
      "source": [
        "# Make function to preprocess data\r\n",
        "def preprocess_data(data_path, labels_path=None):\r\n",
        "    # Load data and set index to city, year, weekofyear\r\n",
        "    df = pd.read_csv(data_path)\r\n",
        "    # Fill missing values\r\n",
        "    df.fillna(df.mean(), inplace=True)\r\n",
        "    lb = preprocessing.LabelBinarizer()\r\n",
        "\r\n",
        "    if labels_path:\r\n",
        "        labels = pd.read_csv(labels_path)\r\n",
        "        \r\n",
        "        labels['city'] = lb.fit_transform(labels['city'])\r\n",
        "    \r\n",
        "    df['city'] =  lb.fit_transform(df['city'])\r\n",
        "\r\n",
        "    selected_features = ['reanalysis_specific_humidity_g_per_kg', 'reanalysis_dew_point_temp_k', \r\n",
        "                 'station_avg_temp_c', 'station_min_temp_c']\r\n",
        "    df = df[selected_features]\r\n",
        "\r\n",
        "    if labels_path:\r\n",
        "        return df, labels\r\n",
        "    return df"
      ],
      "execution_count": 2,
      "outputs": []
    },
    {
      "cell_type": "markdown",
      "metadata": {
        "id": "GUDTzr-08BZy"
      },
      "source": [
        "We execute the newly compiled method, which will allow us to load and preprocess our data."
      ]
    },
    {
      "cell_type": "code",
      "metadata": {
        "id": "YUrvIsptSU7d"
      },
      "source": [
        "df_features, df_labels  = preprocess_data('dengue_features_train.csv', labels_path=\"dengue_labels_train.csv\")"
      ],
      "execution_count": 3,
      "outputs": []
    },
    {
      "cell_type": "markdown",
      "metadata": {
        "id": "Ps5uysPm8F7H"
      },
      "source": [
        "Finally, we also load the file with which we will carry out the final prediction, once our model is trained."
      ]
    },
    {
      "cell_type": "code",
      "metadata": {
        "id": "hjrwQFxK8FU1"
      },
      "source": [
        "df_test_final = preprocess_data(\"dengue_features_test.csv\")"
      ],
      "execution_count": 4,
      "outputs": []
    },
    {
      "cell_type": "markdown",
      "metadata": {
        "id": "FxuuyeaV8PEH"
      },
      "source": [
        "# 3. Detaching the dataset\r\n",
        "\r\n",
        "To train the models that we make, it is necessary to separate our training dataset into two parts, one precisely to train the model, and another to check if our models are good."
      ]
    },
    {
      "cell_type": "code",
      "metadata": {
        "id": "56tx1Qg7AGgn"
      },
      "source": [
        "X_train, X_test, y_train, y_test = train_test_split(df_features, df_labels['total_cases'], test_size=0.2, random_state=1)"
      ],
      "execution_count": 5,
      "outputs": []
    },
    {
      "cell_type": "markdown",
      "metadata": {
        "id": "H5btfMja8T5C"
      },
      "source": [
        "# 4. Execution of the algorithm\r\n",
        "\r\n",
        "The decision tree creates regression models in the form of a tree structure. It will transform our dataset into smaller and smaller subsets while at the same time gradually developing an associated decision tree."
      ]
    },
    {
      "cell_type": "code",
      "metadata": {
        "id": "YCEiZEFxnWM9"
      },
      "source": [
        "def TreeRegressor():     \r\n",
        "    regressor = DecisionTreeRegressor(criterion='mse', max_depth=5, random_state=0)\r\n",
        "    regressor.fit(X_train,y_train)\r\n",
        "    y_pred = regressor.predict(X_test)\r\n",
        "\r\n",
        "    # Plot\r\n",
        "    xx = np.arange(0,len(y_test),1)\r\n",
        "    plt.plot(xx, y_test, c='r', label='data')\r\n",
        "    plt.plot(xx, y_pred, c='g', label='prediction')\r\n",
        "    plt.axis('tight')\r\n",
        "    plt.legend()\r\n",
        "    plt.title(\"DecisionTree\")\r\n",
        "\r\n",
        "    plt.show()\r\n",
        "\r\n",
        "    mae = mean_absolute_error(y_test, y_pred)\r\n",
        "    print ('MAE', mae)\r\n",
        "\r\n",
        "    return regressor"
      ],
      "execution_count": 6,
      "outputs": []
    },
    {
      "cell_type": "markdown",
      "metadata": {
        "id": "PrHTXzLW1eaR"
      },
      "source": [
        "We run the algorithm"
      ]
    },
    {
      "cell_type": "code",
      "metadata": {
        "id": "3FjKZ3rhqFb9",
        "colab": {
          "base_uri": "https://localhost:8080/",
          "height": 299
        },
        "outputId": "09010544-2114-495e-aba8-1e6c48a51a69"
      },
      "source": [
        "model = TreeRegressor()"
      ],
      "execution_count": 7,
      "outputs": [
        {
          "output_type": "display_data",
          "data": {
            "image/png": "[encoded data removed]",
            "text/plain": [
              "<Figure size 432x288 with 1 Axes>"
            ]
          },
          "metadata": {
            "tags": [],
            "needs_background": "light"
          }
        },
        {
          "output_type": "stream",
          "text": [
            "MAE 21.167869723452988\n"
          ],
          "name": "stdout"
        }
      ]
    },
    {
      "cell_type": "markdown",
      "metadata": {
        "id": "2qbkQc-ztqIS"
      },
      "source": [
        "## Submission result\r\n",
        "\r\n",
        "Now, we are going to test our model with the data provided to us in the dengue_features_test.csv file to predict dengue cases for the weeks proposed in said file."
      ]
    },
    {
      "cell_type": "code",
      "metadata": {
        "id": "QR9j8aQI-9yc",
        "colab": {
          "base_uri": "https://localhost:8080/"
        },
        "outputId": "39e93990-ab01-4c39-f43b-87910f4b21a9"
      },
      "source": [
        "final_model_prediction = model.predict(df_test_final)\n",
        "\n",
        "# Round the result and cast to int\n",
        "y = np.rint(final_model_prediction)\n",
        "y = y.astype(int)\n",
        "res = np.hstack(y)\n",
        "\n",
        "res"
      ],
      "execution_count": null,
      "outputs": [
        {
          "output_type": "execute_result",
          "data": {
            "text/plain": [
              "array([ 13,  23,  23,  65,  65,  65,   7,  41,  41,  41,  65,  41,  41,\n",
              "        41,  41,  41,  41,  41,  26,  41,  41,  23,  25,  41,  23,  22,\n",
              "        65, 105,  22,  75,  23,  20,  13,  13,  20,  11,  20,  13,  20,\n",
              "        13,  20,  20,  20,  20,  20,  20,  20,  20,  20,  20,  23,  13,\n",
              "        13,  13,  75,  23, 105,  65,  65,  41,  65,  41,  41,  41,  41,\n",
              "        41,  41,  41,  41,  41,  41,  41,  41,  41,  41,  41,  41,  41,\n",
              "        41,  65,  23,  41,  22,  75,   7,  72,  23,  11,  13,  20,  20,\n",
              "        23,  20,  13,  13,  23,  23,  20,  13,  25,  65,  13,  13,  23,\n",
              "        41,  23,   7,  41,  41,  75,  41,  41,  22,  22,  26, 112,  41,\n",
              "        23,  41, 204,  41, 204,  26,  26, 204,  41,  41,  41, 204,  41,\n",
              "        65,  23,  22,  23,  13,  20,  20,  23,  20,  13,  20,  20,  20,\n",
              "        20,  20,  20,  13,  20,  20,  20,  20,  20,  20,  10,  20,  13,\n",
              "        23,  23,  23,  13,  20,  22,  13,  23,  25,  23,  41,  41,  23,\n",
              "        41,  41,  23,  41,  26,  23,  41,  41,  23,  41,  41,  41,  41,\n",
              "         7,  23,  23,  22,   7,  72,  20,  23,  13,  13,  23,  20,  20,\n",
              "        20,  20,  20,  20,  20,  13,  20,  13,  13,  13,  23,  75,  23,\n",
              "        13,  65,  23,  41,  22,  65,  41,  41,  41,  41,  41,  41,  41,\n",
              "        41,  41,  41,  41,  41,  41,  41,  41,  41,  41,  41,  41,  41,\n",
              "        41,  41,  41,  41,  41,  65,   7,  23,  13,  10,  13,  20,  20,\n",
              "        13,  20,  20,  20,  13,  13,  20,  20,  23,  23,  65,  65,  13,\n",
              "        10,  10,  10,   3,   3,   6,  13,   6,   7,   6,   6,   6,   6,\n",
              "         3,   3,   6,   6,  10,  10,   6,   6,   6,   6,  10,  10,   6,\n",
              "        10,  10,  10,   6,   3,   6,   6,   6,   6,   6,  13,  10,   6,\n",
              "        10,   6,  20,  10,  11,  10,  13,  11,  11,  11,  11,  11,  11,\n",
              "        11,  11,   3,  13,  13,   3,   6,   7,   3,   3,   3,  10,  10,\n",
              "        72,   6,  10,  93,  10,  10,  10,   6,   6,  10,  10,  10,  11,\n",
              "        25,  11,  25,   6,  10,  10,  13,  10,  10,  13,  13,  10,   6,\n",
              "         6,  10,  23,  11,  25,  10,  13,  72,  10,  72,  10,  20,   6,\n",
              "         6,  20,  20,  20,  20,  13,   3,   7,  13,   3,   3,   3,   3,\n",
              "         6,   3,  11,   6,  10,  10,  10,  11,  13,  25,  25,   6,  10,\n",
              "        23,  13,  11,  11,  75,  11,  11,  10,  10,  11,  25,  23,  10,\n",
              "        10,  10,  11,  10,   3,  11,  10,  13,  10,  10,  10,  13,  10])"
            ]
          },
          "metadata": {
            "tags": []
          },
          "execution_count": 9
        }
      ]
    },
    {
      "cell_type": "markdown",
      "metadata": {
        "id": "NqiWtFm6ImA9"
      },
      "source": [
        "Finally, we are going to download a CSV file that contains our prediction, to load it into DrivenData and return the score of our model.\n"
      ]
    },
    {
      "cell_type": "code",
      "metadata": {
        "id": "b4tSsUpDDNbJ"
      },
      "source": [
        "submission = pd.read_csv(\"submission_format.csv\", index_col=[0, 1, 2])\n",
        "\n",
        "submission.total_cases = final_model_prediction.astype(np.int64)\n",
        "submission.to_csv(\"result.csv\")"
      ],
      "execution_count": null,
      "outputs": []
    },
    {
      "cell_type": "markdown",
      "metadata": {
        "id": "__VhckbVnaAY"
      },
      "source": [
        "**And the result is:**\n",
        "\n",
        "*28.8005\n",
        "Woo! I scored 28.8005 on 'DengAI: Predicting Disease Spread'!*"
      ]
    }
  ]
}