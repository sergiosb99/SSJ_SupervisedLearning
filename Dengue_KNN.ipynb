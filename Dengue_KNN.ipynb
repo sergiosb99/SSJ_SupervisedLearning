{
  "nbformat": 4,
  "nbformat_minor": 0,
  "metadata": {
    "colab": {
      "name": "Dengue_KNN.ipynb",
      "provenance": [],
      "collapsed_sections": [],
      "toc_visible": true
    },
    "kernelspec": {
      "name": "python3",
      "display_name": "Python 3"
    }
  },
  "cells": [
    {
      "cell_type": "markdown",
      "metadata": {
        "id": "Ti5Wnz3cgkRD"
      },
      "source": [
        "# 0. Introduction\n",
        "\n",
        "We are going to use the data that we have been provided to study and try to predict the evolution of Dengue disease in the cities of **San Juan**, *Puerto Rico*, and **Iquitos**, *Peru*. More information in this [link](https://www.drivendata.org/competitions/44/dengai-predicting-disease-spread/).\n",
        "\n",
        "To begin our study, this notebook will be part of our baseline, where various algorithms with simple optimization will be used, with the aim of beginning to know how we could create robust models.\n"
      ]
    },
    {
      "cell_type": "markdown",
      "metadata": {
        "id": "KBCSJ7Vxa9xs"
      },
      "source": [
        "# 1. Libraries\r\n",
        "\r\n",
        "Before starting any analysis we must ensure that the basic and general use libraries *(numpy, pandas, etc.)* are correctly imported. "
      ]
    },
    {
      "cell_type": "code",
      "metadata": {
        "id": "j0KrVbz_a9xu"
      },
      "source": [
        "# Preprocessing\n",
        "from sklearn import preprocessing\n",
        "\n",
        "# Loading the data\n",
        "import pandas as pd\n",
        "import io\n",
        "from google.colab import files\n",
        "\n",
        "# Graphics display\n",
        "import seaborn as sns\n",
        "import matplotlib.pyplot as plt\n",
        "\n",
        "# Estimator and model selection\n",
        "from sklearn.model_selection import train_test_split\n",
        "from sklearn.neighbors import KNeighborsRegressor\n",
        "\n",
        "# Others\n",
        "import numpy as np    \n",
        "from sklearn.metrics import mean_absolute_error "
      ],
      "execution_count": null,
      "outputs": []
    },
    {
      "cell_type": "markdown",
      "metadata": {
        "id": "TnWHNEYSa9xw"
      },
      "source": [
        "# 2. Loading the data\r\n",
        "\r\n",
        "The first step is to upload all the CSV files that have been provided to us and that thanks to them we will obtain the data with which we are going to work. To do this, we will use the tools that Google Colab offers us when uploading files."
      ]
    },
    {
      "cell_type": "markdown",
      "metadata": {
        "id": "uR4MYYzAa9xx"
      },
      "source": [
        "## Preprocessing the data\n",
        "\n",
        "We transform the data in order to allow us the posterior use of the algorithms to build prediction models, for example, missing values, from categories to numbers, etc."
      ]
    },
    {
      "cell_type": "code",
      "metadata": {
        "id": "Nvbpdxmwa9xz"
      },
      "source": [
        "# Make function to preprocess data\r\n",
        "def preprocess_data(data_path, labels_path=None):\r\n",
        "    # Load data and set index to city, year, weekofyear\r\n",
        "    df = pd.read_csv(data_path)\r\n",
        "    # Fill missing values\r\n",
        "    df.fillna(df.mean(), inplace=True)\r\n",
        "    lb = preprocessing.LabelBinarizer()\r\n",
        "\r\n",
        "    if labels_path:\r\n",
        "        labels = pd.read_csv(labels_path)\r\n",
        "        \r\n",
        "        labels['city'] = lb.fit_transform(labels['city'])\r\n",
        "    \r\n",
        "    df['city'] =  lb.fit_transform(df['city'])\r\n",
        "\r\n",
        "    selected_features = ['reanalysis_specific_humidity_g_per_kg', 'reanalysis_dew_point_temp_k', \r\n",
        "                 'station_avg_temp_c', 'station_min_temp_c']\r\n",
        "    df = df[selected_features]\r\n",
        "\r\n",
        "    if labels_path:\r\n",
        "        return df, labels\r\n",
        "    return df"
      ],
      "execution_count": null,
      "outputs": []
    },
    {
      "cell_type": "markdown",
      "metadata": {
        "id": "J54HkBp4STRz"
      },
      "source": [
        "We execute the newly compiled method, which will allow us to load and preprocess our data."
      ]
    },
    {
      "cell_type": "code",
      "metadata": {
        "id": "C8kDXAA6a9x3"
      },
      "source": [
        "df_features, df_labels = preprocess_data('dengue_features_train.csv', labels_path=\"dengue_labels_train.csv\")"
      ],
      "execution_count": null,
      "outputs": []
    },
    {
      "cell_type": "markdown",
      "metadata": {
        "id": "z6E92HOcSbFW"
      },
      "source": [
        "Finally, we also load the file with which we will carry out the final prediction, once our model is trained."
      ]
    },
    {
      "cell_type": "code",
      "metadata": {
        "id": "8LvV1xITa9x5"
      },
      "source": [
        "df_test_final = preprocess_data(\"dengue_features_test.csv\")"
      ],
      "execution_count": null,
      "outputs": []
    },
    {
      "cell_type": "markdown",
      "metadata": {
        "id": "gG4RA4uCa9x6"
      },
      "source": [
        "# 3. Detaching the dataset\r\n",
        "\r\n",
        "To train the models that we make, it is necessary to separate our training dataset into two parts, one precisely to train the model, and another to check if our models are good."
      ]
    },
    {
      "cell_type": "code",
      "metadata": {
        "id": "7AcP6mxZa9x7"
      },
      "source": [
        "X_train, X_test, y_train, y_test = train_test_split(df_features, df_labels['total_cases'], test_size=0.2, random_state=1)"
      ],
      "execution_count": null,
      "outputs": []
    },
    {
      "cell_type": "markdown",
      "metadata": {
        "id": "glxG5aTGbMjb"
      },
      "source": [
        "# 4. Execution of the algorithm\r\n",
        "\r\n",
        "The KNN algorithm assumes that similar things exist in close proximity. In other words, similar things are near to each other."
      ]
    },
    {
      "cell_type": "code",
      "metadata": {
        "id": "PfAJi0hu7hx3"
      },
      "source": [
        "def KNN_Model(X_train, X_test):\r\n",
        "    \r\n",
        "    # Constructor\r\n",
        "    n_neighbors = 15 \r\n",
        "    weights = 'uniform'\r\n",
        "    knn = KNeighborsRegressor(n_neighbors= n_neighbors, weights=weights)\r\n",
        "\r\n",
        "    # Fit and predict\r\n",
        "    knn.fit(X_train, y_train)\r\n",
        "    y_pred = knn.predict(X_test)\r\n",
        "    mae = mean_absolute_error(y_test, y_pred)\r\n",
        "    print(\"Error Measure \", mae,'\\n')\r\n",
        "\r\n",
        "    # Plot\r\n",
        "    xx = np.arange(0,len(y_test),1)\r\n",
        "    plt.scatter(xx, y_test, c='r', label='data')\r\n",
        "    plt.plot(xx, y_pred, c='g', label='prediction')\r\n",
        "    plt.axis('tight')\r\n",
        "    plt.legend()\r\n",
        "    plt.title(\"KNeighborsRegressor (k = %i, weights = '%s')\" % (n_neighbors, weights))\r\n",
        "    plt.show()\r\n",
        "\r\n",
        "    return knn"
      ],
      "execution_count": null,
      "outputs": []
    },
    {
      "cell_type": "markdown",
      "metadata": {
        "id": "c8yt4dhFcbdz"
      },
      "source": [
        "We run the algorithm"
      ]
    },
    {
      "cell_type": "code",
      "metadata": {
        "colab": {
          "base_uri": "https://localhost:8080/",
          "height": 317
        },
        "id": "3FjKZ3rhqFb9",
        "outputId": "14fda074-82ac-4628-937e-d159fc463517"
      },
      "source": [
        "model = KNN_Model(X_train, X_test)"
      ],
      "execution_count": null,
      "outputs": [
        {
          "output_type": "stream",
          "text": [
            "Error Measure  20.443150684931506 \n",
            "\n"
          ],
          "name": "stdout"
        },
        {
          "output_type": "display_data",
          "data": {
            "image/png": "[encoded data removed]",
            "text/plain": [
              "<Figure size 432x288 with 1 Axes>"
            ]
          },
          "metadata": {
            "tags": [],
            "needs_background": "light"
          }
        }
      ]
    },
    {
      "cell_type": "markdown",
      "metadata": {
        "id": "2qbkQc-ztqIS"
      },
      "source": [
        "## Submission result\r\n",
        "\r\n",
        "Now, we are going to test our model with the data provided to us in the dengue_features_test.csv file to predict dengue cases for the weeks proposed in said file."
      ]
    },
    {
      "cell_type": "code",
      "metadata": {
        "id": "QR9j8aQI-9yc",
        "colab": {
          "base_uri": "https://localhost:8080/"
        },
        "outputId": "ebd6f21a-62e9-4654-b027-f9ec4e38eba3"
      },
      "source": [
        "final_model_predictions = model.predict(df_test_final)\n",
        "\n",
        "# Round the result and cast to int\n",
        "y = np.rint(final_model_predictions)\n",
        "y = y.astype(int)\n",
        "res = np.hstack(y)\n",
        "\n",
        "res"
      ],
      "execution_count": null,
      "outputs": [
        {
          "output_type": "execute_result",
          "data": {
            "text/plain": [
              "array([ 10,  18,  25,  33,  15,  64,  33,  59,  32,  31,  19,  50,  31,\n",
              "        36,  48,  35,  43,  80,  73,  45,  85,  20,  18,  60,  18,  31,\n",
              "        39,  43,  17,  21,  26,  13,  18,  26,  23,  27,  23,  16,  26,\n",
              "        22,  18,  22,  11,  18,  21,  13,  11,  14,  11,  19,  12,  15,\n",
              "        20,  12,  29,  23,  49,  47,  53,  77, 108,  52,  30,  47,  41,\n",
              "        34,  47,  42,  40,  46,  33,  30,  27,  45,  50,  59,  51,  43,\n",
              "        48,  77,  20,  31,  39,  28,  31,  38,  30,  27,  26,  17,  24,\n",
              "        38,  30,  19,  12,  25,  26,  15,  20,  14,  16,  12,  16,  30,\n",
              "        62,  19,  28,  29,  38,  76,  62,  39,  26,  39,  95,  88,  39,\n",
              "        17,  47,  66,  75,  64,  90,  62,  75,  39,  38,  77,  72,  49,\n",
              "        56,  14,  80,  38,  15,  21,  22,  32,  19,  21,  24,  27,  29,\n",
              "        20,  18,  15,  16,  17,  16,  19,  12,  14,  15,  42,  17,  20,\n",
              "        12,  57,  14,  29,  10,  37,  10,  23,   7,  30,  51,  39,  27,\n",
              "        90,  33,  35,  41,  64,  14,  35,  57,  20,  51,  71,  60,  80,\n",
              "        34,  27,  20,  27,  23,  47,  19,  39,  19,  21,  20,  19,  22,\n",
              "        22,  15,  19,  22,  24,  17,  15,  20,  16,  18,  30,  22,  18,\n",
              "        16,  68,  31,  46,  36,  32,  41,  61,  56,  46,  48,  24,  39,\n",
              "        40,  41,  71,  42,  48,  40,  49,  63,  52,  47,  37,  27,  44,\n",
              "        44,  35,  32,  38,  40,  19,  25,  12,  28,  37,  16,  14,  12,\n",
              "        16,  22,  13,  16,  18,  10,  12,  11,  14,  18,  19,  21,  33,\n",
              "        11,  30,  12,   2,   4,   9,   5,  25,   5,   5,   2,   9,   5,\n",
              "         7,   7,   7,   8,   7,   9,   7,  10,  12,   6,  14,   6,   7,\n",
              "        43,   9,   8,   7,   6,   9,   6,  15,  11,  12,  14,   7,  11,\n",
              "        15,  11,  12,  37,  23,  14,  15,  36,  33,  24,  19,  24,   7,\n",
              "        19,  18,   4,   9,  23,   4,   3,   5,   4,   4,   4,   6,   4,\n",
              "        36,   4,  10,  33,   9,   7,   8,  15,  13,  16,  16,  18,  22,\n",
              "         8,  37,  34,   6,   5,  14,  12,  37,   9,   7,  10,  19,   4,\n",
              "        11,   8,  26,  12,  25,  10,  15,  37,  18,  21,   8,  11,   8,\n",
              "        11,  14,  16,  14,  14,  15,   4,   4,  15,   4,   2,   7,   3,\n",
              "         8,   7,  13,   8,  12,   7,   9,  12,  11,   7,   9,  11,   7,\n",
              "        25,  10,  31,  33,  26,  17,  35,  16,  11,  25,   7,  23,   7,\n",
              "         7,  36,  18,  15,   3,  16,   7,  17,  20,   8,  33,  22,  17])"
            ]
          },
          "metadata": {
            "tags": []
          },
          "execution_count": 8
        }
      ]
    },
    {
      "cell_type": "markdown",
      "metadata": {
        "id": "NqiWtFm6ImA9"
      },
      "source": [
        "Finally, we are going to download a CSV file that contains our prediction, to load it into DrivenData and return the score of our model.\n"
      ]
    },
    {
      "cell_type": "code",
      "metadata": {
        "id": "b4tSsUpDDNbJ"
      },
      "source": [
        "submission = pd.read_csv(\"submission_format.csv\", index_col=[0, 1, 2])\n",
        "\n",
        "submission.total_cases = final_model_predictions.astype(np.int64)\n",
        "submission.to_csv(\"result.csv\")"
      ],
      "execution_count": null,
      "outputs": []
    },
    {
      "cell_type": "markdown",
      "metadata": {
        "id": "__VhckbVnaAY"
      },
      "source": [
        "**And the result is:**\n",
        "\n",
        "*28.5385\n",
        "Woo! I scored 28.5385 on 'DengAI: Predicting Disease Spread'!*"
      ]
    }
  ]
}